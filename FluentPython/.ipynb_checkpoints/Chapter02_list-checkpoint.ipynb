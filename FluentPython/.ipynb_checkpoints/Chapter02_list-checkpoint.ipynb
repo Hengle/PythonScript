{
 "cells": [
  {
   "cell_type": "markdown",
   "metadata": {},
   "source": [
    "# 第二部分 数据结构\n",
    "## 第二章 序列构成的数组\n",
    "\n",
    "### 数组操作\n",
    "迭代、切片、排序、拼接\n",
    "\n",
    "### 内置序列类型\n",
    "* 容器序列：list tuple collections.deque\n",
    "* 扁平序列：str bytes bytearray memoryview array.array\n",
    "\n",
    "另一种分法：\n",
    "* 可变序列：list、bytearray、array.array、collections.deque\n",
    "* 不可变序列： tuple、string、bytes"
   ]
  },
  {
   "cell_type": "markdown",
   "metadata": {},
   "source": [
    "# 列表推导式和生成器表达式\n",
    "## 简洁和省内存"
   ]
  },
  {
   "cell_type": "code",
   "execution_count": 2,
   "metadata": {},
   "outputs": [
    {
     "name": "stdout",
     "output_type": "stream",
     "text": [
      "[65, 66, 67, 68, 69, 70]\n"
     ]
    }
   ],
   "source": [
    "# 列表推导式\n",
    "dummy = [ord(x) for x in 'ABCDEF']\n",
    "print(dummy)\n",
    "\n",
    "# 列表推导式作用只有一个：生成列表（list only）"
   ]
  },
  {
   "cell_type": "code",
   "execution_count": 4,
   "metadata": {},
   "outputs": [
    {
     "name": "stdout",
     "output_type": "stream",
     "text": [
      "[162, 163, 165, 8364, 164]\n",
      "[162, 163, 165, 8364, 164]\n"
     ]
    }
   ],
   "source": [
    "# 列表推导 vs map/filter方法\n",
    "symbols = '$¢£¥€¤'\n",
    "beyond_ascii = [ord(s) for s in symbols if ord(s) > 127]\n",
    "print(beyond_ascii)\n",
    "\n",
    "# map/filter\n",
    "beyond_ascii_mf = list(filter(lambda c: c > 127, map(ord, symbols)))\n",
    "print(beyond_ascii_mf)"
   ]
  },
  {
   "cell_type": "code",
   "execution_count": 5,
   "metadata": {},
   "outputs": [
    {
     "data": {
      "text/plain": [
       "(36, 162, 163, 165, 8364, 164)"
      ]
     },
     "execution_count": 5,
     "metadata": {},
     "output_type": "execute_result"
    }
   ],
   "source": [
    "# 生成器表达式\n",
    "# 可以用表达式生成任意类型的序列！\n",
    "\n",
    "\"\"\"\n",
    "这是因为生成器表达式背后遵守了迭代器协议，可以逐个地产出元素，\n",
    "而不是先建立一个完整的列表，然后再把这个列表传递到某个构造函数里。\n",
    "前面那种方式显然能够节省内存。\n",
    "\n",
    "方法和列表推导式一样，只是需要将中括号换成小括号。\n",
    "\"\"\"\n",
    "symbols = '$¢£¥€¤'\n",
    "tuple(ord(symbol) for symbol in symbols)"
   ]
  },
  {
   "cell_type": "code",
   "execution_count": 8,
   "metadata": {},
   "outputs": [
    {
     "name": "stdout",
     "output_type": "stream",
     "text": [
      "black S\n",
      "black M\n",
      "black L\n",
      "white S\n",
      "white M\n",
      "white L\n"
     ]
    }
   ],
   "source": [
    "# 生成器表达式可以避免浪费内存\n",
    "# 笛卡尔的积\n",
    "colors = ['black', 'white']\n",
    "sizes = ['S','M','L']\n",
    "for shirt in ('%s %s'%(C,S) for C in colors for S in sizes):\n",
    "    print(shirt)\n",
    "'''\n",
    "生成器表达式逐个产出元素，从来不会一次性产出一个含有 6 个 T 恤样式的列表。\n",
    "详细在14章\n",
    "'''"
   ]
  },
  {
   "cell_type": "markdown",
   "metadata": {},
   "source": [
    "# 元组\n",
    "## 不可变和记录（拆包）"
   ]
  },
  {
   "cell_type": "markdown",
   "metadata": {},
   "source": [
    "### Tuple Unpacking 元组拆包"
   ]
  },
  {
   "cell_type": "code",
   "execution_count": 112,
   "metadata": {},
   "outputs": [
    {
     "name": "stdout",
     "output_type": "stream",
     "text": [
      "x:20,y:30,z:50\n"
     ]
    }
   ],
   "source": [
    "# 拆包 Unpacking\n",
    "pos = (20,30,50)\n",
    "x,y,z = pos\n",
    "print(\"x:%s,y:%s,z:%s\"%(x,y,z))"
   ]
  },
  {
   "cell_type": "code",
   "execution_count": 14,
   "metadata": {},
   "outputs": [
    {
     "name": "stdout",
     "output_type": "stream",
     "text": [
      "a = 30,b = 50\n",
      "a = 50,b = 30\n"
     ]
    }
   ],
   "source": [
    "# 交换其实也是unpacking的应用\n",
    "a = 30\n",
    "b = 50\n",
    "print(\"a = %s,b = %s\"%(a,b))\n",
    "\n",
    "a,b = b,a\n",
    "\n",
    "print(\"a = %s,b = %s\"%(a,b))"
   ]
  },
  {
   "cell_type": "code",
   "execution_count": 18,
   "metadata": {},
   "outputs": [
    {
     "name": "stdout",
     "output_type": "stream",
     "text": [
      "(3, 4)\n",
      "3 4\n"
     ]
    }
   ],
   "source": [
    "# *运算符：把一个可迭代对象拆开作为函数的参数：\n",
    "t = tuple((3,4))\n",
    "print(t)\n",
    "print(*t)"
   ]
  },
  {
   "cell_type": "code",
   "execution_count": 20,
   "metadata": {},
   "outputs": [
    {
     "name": "stdout",
     "output_type": "stream",
     "text": [
      "example.exe\n"
     ]
    }
   ],
   "source": [
    "# 函数用元组返回多个值\n",
    "import os\n",
    "_,filename = os.path.split('/home/liuzhongkai/.ssh/example.exe')\n",
    "print(filename)\n",
    "\n",
    "# 将不用的数据通常用单下划线代替"
   ]
  },
  {
   "cell_type": "code",
   "execution_count": 21,
   "metadata": {},
   "outputs": [
    {
     "data": {
      "text/plain": [
       "(0, 1, [2, 3, 4])"
      ]
     },
     "execution_count": 21,
     "metadata": {},
     "output_type": "execute_result"
    }
   ],
   "source": [
    "# *args来处理剩下的元素（不知道具体几个）\n",
    "a,b,*args = range(5)\n",
    "a,b,args\n",
    "\n",
    "# 这里的*arg可以是任意个参数，可以是0个也可以是多个"
   ]
  },
  {
   "cell_type": "code",
   "execution_count": 22,
   "metadata": {},
   "outputs": [
    {
     "name": "stdout",
     "output_type": "stream",
     "text": [
      "                |   lat.    |   long.  \n",
      "Mexico City     |   19.4333 |  -99.1333\n",
      "New York-Newark |   40.8086 |  -74.0204\n",
      "Sao Paulo       |  -23.5478 |  -46.6358\n"
     ]
    }
   ],
   "source": [
    "# 嵌套元组拆包\n",
    "metro_area = [\n",
    "    ('Tokyo','JP',36.933,(35.689722,139.691667)),\n",
    "    ('Delhi NCR', 'IN', 21.935, (28.613889, 77.208889)), \n",
    "    ('Mexico City', 'MX', 20.142, (19.433333, -99.133333)), \n",
    "    ('New York-Newark', 'US', 20.104, (40.808611, -74.020386)), \n",
    "    ('Sao Paulo', 'BR', 19.649, (-23.547778, -46.635833)),\n",
    "]\n",
    "print('{:15} | {:^9} | {:^9}'.format('','lat.','long.'))\n",
    "fmt = '{:15} | {:9.4f} | {:9.4f}'\n",
    "for city, cc, pop, (latitude, longitude) in metro_area:\n",
    "    if longitude < 0 :\n",
    "        print(fmt.format(city,latitude,longitude))"
   ]
  },
  {
   "cell_type": "markdown",
   "metadata": {},
   "source": [
    "### 具名元组 collections.namedtuple"
   ]
  },
  {
   "cell_type": "code",
   "execution_count": 23,
   "metadata": {},
   "outputs": [
    {
     "name": "stdout",
     "output_type": "stream",
     "text": [
      "Student(name='Liu', score='99')\n",
      "Zhang\n",
      "88\n"
     ]
    }
   ],
   "source": [
    "# 创建具名元组\n",
    "\n",
    "from collections import namedtuple\n",
    "Student = namedtuple('Student',['name','score']) \n",
    "# Student = namedtuple('Student','name score') 直接用一个字符串用空格隔开也行\n",
    "Liu = Student('Liu','99')\n",
    "Zhang = Student('Zhang','88')\n",
    "print(Liu)\n",
    "print(Zhang[0])\n",
    "print(Zhang.score)"
   ]
  },
  {
   "cell_type": "code",
   "execution_count": 30,
   "metadata": {},
   "outputs": [
    {
     "name": "stdout",
     "output_type": "stream",
     "text": [
      "('name', 'score')\n",
      "Student(name='Wang', score='78')\n",
      "Student(name='Wang', score='78')\n",
      "{'name': 'Miao', 'score': '98'}\n",
      "<class 'dict'>\n"
     ]
    }
   ],
   "source": [
    "# 具名元组的方法\n",
    "\n",
    "# 所有名字\n",
    "from collections import namedtuple\n",
    "Student = namedtuple('Student',['name','score']) \n",
    "print(Student._fields)\n",
    "\n",
    "# 转具名元组\n",
    "Wang = ('Wang','78')\n",
    "Wang_t = Student._make(Wang)\n",
    "print(Wang_t)\n",
    "Wang_s = Student(*Wang)  # 相同的方法\n",
    "print(Wang_s)\n",
    "\n",
    "# 转字典\n",
    "Miao = Student('Miao','98')\n",
    "Miao_d = Miao._asdict()\n",
    "print(Miao_d)\n",
    "print(type(Miao_d))"
   ]
  },
  {
   "cell_type": "markdown",
   "metadata": {},
   "source": [
    "## 不可变序列\n",
    "\n",
    "除了跟增减元素相关的方法之外，元组支持列表的其他所有方法。"
   ]
  },
  {
   "cell_type": "markdown",
   "metadata": {},
   "source": [
    "# 切片\n",
    "\n",
    "a:b:c 这种用法只能作为索引或者下标用在 [] 中来返回一个切片对象:slice(a, b, c)。在 10.4.1 节中会讲到，对seq[start:stop:step] 进行求值的时候，Python 会调用seq.__getitem__(slice(start, stop, step))。"
   ]
  },
  {
   "cell_type": "code",
   "execution_count": 46,
   "metadata": {},
   "outputs": [
    {
     "name": "stdout",
     "output_type": "stream",
     "text": [
      "Pimoroni PiBrella                   3     $52.50\n",
      "6mm Tactile Switch x20              2      $9.90\n",
      "Panavise Jr. - PV-201               1     $28.00\n",
      "PiTFT Mini Kit 320x240              1     $34.95\n",
      "  \n"
     ]
    }
   ],
   "source": [
    "# 切片对象slice（a，b，c）\n",
    "\n",
    "invoice = \"\"\"\n",
    "0.....6................................40........52...55........\n",
    "1909  Pimoroni PiBrella                    $17.50    3    $52.50\n",
    "1489  6mm Tactile Switch x20                $4.95    2     $9.90\n",
    "1510  Panavise Jr. - PV-201                $28.00    1    $28.00\n",
    "1601  PiTFT Mini Kit 320x240               $34.95    1    $34.95\n",
    "\"\"\"\n",
    "\n",
    "Sku = slice(0,6)\n",
    "Description = slice(6,40)\n",
    "Unit_price = slice(40,52)\n",
    "Quantity = slice(52,55)\n",
    "Item_total = slice(55,None)\n",
    "\n",
    "line_items = invoice.split('\\n')[2:]\n",
    "\n",
    "# print(line_items)\n",
    "\n",
    "# print(line_items[0][Unit_price])\n",
    "\n",
    "for item in line_items:\n",
    "    print(item[Description],item[Quantity],item[Item_total])"
   ]
  },
  {
   "cell_type": "code",
   "execution_count": 75,
   "metadata": {},
   "outputs": [
    {
     "name": "stdout",
     "output_type": "stream",
     "text": [
      "[[ 0  1  2  3]\n",
      " [ 4  5  6  7]\n",
      " [ 8  9 10 11]\n",
      " [12 13 14 15]]\n",
      "n2[2,2]   = 10\n",
      "n2[2]     = [ 8  9 10 11]\n",
      "n2[2,...] = [ 8  9 10 11]\n",
      "n2[2,:]   = [ 8  9 10 11]\n",
      "n2[2,1:3] = [ 9 10]\n"
     ]
    }
   ],
   "source": [
    "# 多维切片\n",
    "\n",
    "import numpy as np\n",
    "a = [x for x in range(16)]\n",
    "n = np.array(a)\n",
    "n2 = n.reshape(4,4)\n",
    "print(n2)\n",
    "print('n2[2,2]   =',n2[2,2])\n",
    "print('n2[2]     =',n2[2])\n",
    "print('n2[2,...] =',n2[2,...])\n",
    "print('n2[2,:]   =',n2[2,:])\n",
    "print('n2[2,1:3] =',n2[2,1:3])"
   ]
  },
  {
   "cell_type": "code",
   "execution_count": 88,
   "metadata": {},
   "outputs": [
    {
     "name": "stdout",
     "output_type": "stream",
     "text": [
      "l =  [0, 1, 2, 3, 4, 5, 6, 7, 8, 9]\n",
      "l =  [0, 1, 2, 3, 4, 10, 6, 7, 8, 9]\n",
      "l =  [0, 1, 2, 3, 4, 55, 66, 77, 8, 9]\n",
      "l =  [0, 99, 2, 88, 4, 77, 6, 66, 8, 55]\n"
     ]
    }
   ],
   "source": [
    "# 使用切片赋值\n",
    "\n",
    "l = list(range(10))\n",
    "print('l = ',l)\n",
    "\n",
    "'''\n",
    "如果赋值的对象是一个切片，那么赋值语句的右侧必须是个可迭代对象。\n",
    "即便只有单独一个值，也要把它转换成可迭代的序列。\n",
    "'''\n",
    "l[5:6] = [10]\n",
    "print('l = ',l)\n",
    "\n",
    "l[5:8] = [55,66,77]\n",
    "print('l = ',l)\n",
    "\n",
    "l = list(range(10))\n",
    "l[1::2] = [99,88,77,66,55] #赋值的数组必须和切片长度一致！\n",
    "print('l = ',l)"
   ]
  },
  {
   "cell_type": "markdown",
   "metadata": {},
   "source": [
    "# 序列使用+和*\n",
    "\\+ 和 \\* 都遵循这个规律，不修改原有的操作对象，而是构建一个全新的序列。\n",
    "\n",
    "**但是一旦数组中有引用时，\\*得到的重复元素其实是指向同一块内存的**"
   ]
  },
  {
   "cell_type": "markdown",
   "metadata": {},
   "source": [
    "## 建立由列表组成的列表"
   ]
  },
  {
   "cell_type": "code",
   "execution_count": 91,
   "metadata": {},
   "outputs": [
    {
     "name": "stdout",
     "output_type": "stream",
     "text": [
      "[['_', '_', '_'], ['_', '_', '_'], ['_', '_', '_']]\n",
      "[['_', '_', '_'], ['_', '_', 'X'], ['_', '_', '_']]\n"
     ]
    }
   ],
   "source": [
    "board = [['_'] * 3 for i in range(3)]\n",
    "print(board)\n",
    "board[1][2] = 'X'\n",
    "print(board)"
   ]
  },
  {
   "cell_type": "code",
   "execution_count": 94,
   "metadata": {},
   "outputs": [
    {
     "name": "stdout",
     "output_type": "stream",
     "text": [
      "[['_', '_', '_'], ['_', '_', '_'], ['_', '_', '_']]\n",
      "[['_', '_', '_'], ['_', '_', 'X'], ['_', '_', '_']]\n"
     ]
    }
   ],
   "source": [
    "# 上面的方法和这里的原理类似：\n",
    "\n",
    "board = []\n",
    "for i in range(3):\n",
    "    row = ['_'] * 3 # 每次都是一个新的列表\n",
    "    board.append(row)\n",
    "    \n",
    "print(board)\n",
    "board[1][2] = 'X'\n",
    "print(board)"
   ]
  },
  {
   "cell_type": "code",
   "execution_count": 116,
   "metadata": {},
   "outputs": [
    {
     "name": "stdout",
     "output_type": "stream",
     "text": [
      "[['_', '_', '_'], ['_', '_', '_'], ['_', '_', '_']]\n",
      "[['_', '_', 'X'], ['_', '_', 'X'], ['_', '_', 'X']]\n"
     ]
    }
   ],
   "source": [
    "weird_board = [['_'] * 3] * 3\n",
    "print(weird_board)\n",
    "weird_board[1][2] = 'X'\n",
    "print(weird_board)"
   ]
  },
  {
   "cell_type": "code",
   "execution_count": 117,
   "metadata": {},
   "outputs": [
    {
     "name": "stdout",
     "output_type": "stream",
     "text": [
      "[['_', '_', '_'], ['_', '_', '_'], ['_', '_', '_']]\n",
      "[['_', '_', 'X'], ['_', '_', 'X'], ['_', '_', 'X']]\n"
     ]
    }
   ],
   "source": [
    "# 上面的方法和这里的方法原理类似：\n",
    "\n",
    "row = ['_'] * 3\n",
    "board = []\n",
    "for i in range(3):\n",
    "    board.append(row) # 每次都是在重复同一个列表\n",
    "\n",
    "print(board)\n",
    "board[1][2] = 'X'\n",
    "print(board)"
   ]
  },
  {
   "cell_type": "markdown",
   "metadata": {},
   "source": [
    "# 序列的增量赋值"
   ]
  },
  {
   "cell_type": "markdown",
   "metadata": {},
   "source": [
    "+=：\\_\\_iadd\\_\\_\n",
    "\n",
    "\\*=: \\_\\_imul\\_\\_\n",
    "\n",
    "可以实现就地赋值\n",
    "\n",
    "但是对于不可变序列，如元组，是返回一个新的元组"
   ]
  },
  {
   "cell_type": "code",
   "execution_count": 96,
   "metadata": {},
   "outputs": [
    {
     "name": "stdout",
     "output_type": "stream",
     "text": [
      "id(l) =  140663209138048\n",
      "l =  [1, 2, 3, 4, 1, 2, 3, 4]\n",
      "id(l) =  140663209138048\n"
     ]
    }
   ],
   "source": [
    "# 可变序列\n",
    "l = [1,2,3,4]\n",
    "print(\"id(l) = \",id(l))\n",
    "l *= 2\n",
    "print('l = ',l)\n",
    "print(\"id(l) = \",id(l))"
   ]
  },
  {
   "cell_type": "code",
   "execution_count": 97,
   "metadata": {},
   "outputs": [
    {
     "name": "stdout",
     "output_type": "stream",
     "text": [
      "id(t) 140663213029952\n",
      "t =  (1, 2, 3, 4, 1, 2, 3, 4)\n",
      "id(t) 140664688393408\n"
     ]
    }
   ],
   "source": [
    "# 不可变序列\n",
    "t = (1,2,3,4)\n",
    "print('id(t)',id(t))\n",
    "t *= 2\n",
    "print('t = ',t)\n",
    "print('id(t)',id(t))\n",
    "\n",
    "# 不可变序列做增量赋值的效率非常低。但是str除外。"
   ]
  },
  {
   "cell_type": "code",
   "execution_count": 98,
   "metadata": {},
   "outputs": [
    {
     "ename": "TypeError",
     "evalue": "'tuple' object does not support item assignment",
     "output_type": "error",
     "traceback": [
      "\u001b[0;31m---------------------------------------------------------------------------\u001b[0m",
      "\u001b[0;31mTypeError\u001b[0m                                 Traceback (most recent call last)",
      "\u001b[0;32m<ipython-input-98-414b298ac665>\u001b[0m in \u001b[0;36m<module>\u001b[0;34m\u001b[0m\n\u001b[1;32m      1\u001b[0m \u001b[0;31m# 一个奇怪的现象\u001b[0m\u001b[0;34m\u001b[0m\u001b[0;34m\u001b[0m\u001b[0;34m\u001b[0m\u001b[0m\n\u001b[1;32m      2\u001b[0m \u001b[0mt\u001b[0m \u001b[0;34m=\u001b[0m \u001b[0;34m(\u001b[0m\u001b[0;36m1\u001b[0m\u001b[0;34m,\u001b[0m\u001b[0;36m2\u001b[0m\u001b[0;34m,\u001b[0m\u001b[0;34m[\u001b[0m\u001b[0;36m30\u001b[0m\u001b[0;34m,\u001b[0m\u001b[0;36m40\u001b[0m\u001b[0;34m]\u001b[0m\u001b[0;34m)\u001b[0m\u001b[0;34m\u001b[0m\u001b[0;34m\u001b[0m\u001b[0m\n\u001b[0;32m----> 3\u001b[0;31m \u001b[0mt\u001b[0m\u001b[0;34m[\u001b[0m\u001b[0;36m2\u001b[0m\u001b[0;34m]\u001b[0m \u001b[0;34m+=\u001b[0m \u001b[0;34m[\u001b[0m\u001b[0;36m50\u001b[0m\u001b[0;34m,\u001b[0m \u001b[0;36m60\u001b[0m\u001b[0;34m]\u001b[0m\u001b[0;34m\u001b[0m\u001b[0;34m\u001b[0m\u001b[0m\n\u001b[0m\u001b[1;32m      4\u001b[0m \u001b[0mt\u001b[0m\u001b[0;34m\u001b[0m\u001b[0;34m\u001b[0m\u001b[0m\n",
      "\u001b[0;31mTypeError\u001b[0m: 'tuple' object does not support item assignment"
     ]
    }
   ],
   "source": [
    "# 一个奇怪的现象\n",
    "t = (1,2,[30,40])\n",
    "t[2] += [50, 60]"
   ]
  },
  {
   "cell_type": "code",
   "execution_count": 99,
   "metadata": {},
   "outputs": [
    {
     "name": "stdout",
     "output_type": "stream",
     "text": [
      "(1, 2, [30, 40, 50, 60])\n"
     ]
    }
   ],
   "source": [
    "# 先运行上面的代码，会导致报错\n",
    "# 但是打印t，我们会得到我们想得到的结果\n",
    "print(t)"
   ]
  },
  {
   "cell_type": "code",
   "execution_count": 101,
   "metadata": {},
   "outputs": [
    {
     "ename": "NameError",
     "evalue": "name 'dis' is not defined",
     "output_type": "error",
     "traceback": [
      "\u001b[0;31m---------------------------------------------------------------------------\u001b[0m",
      "\u001b[0;31mNameError\u001b[0m                                 Traceback (most recent call last)",
      "\u001b[0;32m<ipython-input-101-b91bc95499fa>\u001b[0m in \u001b[0;36m<module>\u001b[0;34m\u001b[0m\n\u001b[1;32m      1\u001b[0m \u001b[0;31m# 查看字节码\u001b[0m\u001b[0;34m\u001b[0m\u001b[0;34m\u001b[0m\u001b[0;34m\u001b[0m\u001b[0m\n\u001b[1;32m      2\u001b[0m \u001b[0;34m\u001b[0m\u001b[0m\n\u001b[0;32m----> 3\u001b[0;31m \u001b[0mdis\u001b[0m\u001b[0;34m.\u001b[0m\u001b[0mdis\u001b[0m\u001b[0;34m(\u001b[0m\u001b[0;34m't[a] += b'\u001b[0m\u001b[0;34m)\u001b[0m\u001b[0;34m\u001b[0m\u001b[0;34m\u001b[0m\u001b[0m\n\u001b[0m",
      "\u001b[0;31mNameError\u001b[0m: name 'dis' is not defined"
     ]
    }
   ],
   "source": [
    "# 查看字节码\n",
    "\n",
    "dis.dis('t[a] += b')"
   ]
  },
  {
   "cell_type": "markdown",
   "metadata": {},
   "source": [
    "* 不要把可变对象放在元组里面。\n",
    "* 增量赋值不是一个原子操作。我们刚才也看到了，它虽然抛出了异常，但还是完成了操作。\n",
    "* 查看 Python 的字节码并不难，而且它对我们了解代码背后的运行机 制很有帮助。"
   ]
  },
  {
   "cell_type": "markdown",
   "metadata": {},
   "source": [
    "# 序列排序"
   ]
  },
  {
   "cell_type": "markdown",
   "metadata": {},
   "source": [
    "- list.sort : 就地排序\n",
    "- sorted ： 返回一个新的排序序列\n",
    "\n",
    "**排序算法——Timsort——是稳定的，意思是就算两个元素比不出大小，在每次排序的结果里它们的相对位置是固定的。**"
   ]
  },
  {
   "cell_type": "code",
   "execution_count": 102,
   "metadata": {},
   "outputs": [],
   "source": [
    "fruits = ['grape','raspberry','apple','banana']"
   ]
  },
  {
   "cell_type": "code",
   "execution_count": 106,
   "metadata": {},
   "outputs": [
    {
     "data": {
      "text/plain": [
       "['raspberry', 'grape', 'banana', 'apple']"
      ]
     },
     "execution_count": 106,
     "metadata": {},
     "output_type": "execute_result"
    }
   ],
   "source": [
    "# 会返回一个新的排序列表\n",
    "sorted(fruits, reverse=True)"
   ]
  },
  {
   "cell_type": "code",
   "execution_count": 104,
   "metadata": {},
   "outputs": [
    {
     "data": {
      "text/plain": [
       "['grape', 'raspberry', 'apple', 'banana']"
      ]
     },
     "execution_count": 104,
     "metadata": {},
     "output_type": "execute_result"
    }
   ],
   "source": [
    "# 列表依然没有变化\n",
    "fruits"
   ]
  },
  {
   "cell_type": "code",
   "execution_count": 107,
   "metadata": {},
   "outputs": [
    {
     "data": {
      "text/plain": [
       "['raspberry', 'banana', 'grape', 'apple']"
      ]
     },
     "execution_count": 107,
     "metadata": {},
     "output_type": "execute_result"
    }
   ],
   "source": [
    "# 参数key需要传入只有一个参数的函数。这个函数会被用在序列的每一个元素上。\n",
    "sorted(fruits, reverse=True, key=len)"
   ]
  },
  {
   "cell_type": "code",
   "execution_count": 110,
   "metadata": {},
   "outputs": [
    {
     "data": {
      "text/plain": [
       "['apple', 'banana', 'grape', 'raspberry']"
      ]
     },
     "execution_count": 110,
     "metadata": {},
     "output_type": "execute_result"
    }
   ],
   "source": [
    "# 使用列表的就地排序\n",
    "fruits.sort()\n",
    "fruits"
   ]
  },
  {
   "cell_type": "code",
   "execution_count": 111,
   "metadata": {},
   "outputs": [
    {
     "data": {
      "text/plain": [
       "['apple', 'grape', 'banana', 'raspberry']"
      ]
     },
     "execution_count": 111,
     "metadata": {},
     "output_type": "execute_result"
    }
   ],
   "source": [
    "# 有同样的两个参数\n",
    "fruits.sort(reverse=False,key=len)\n",
    "fruits"
   ]
  },
  {
   "cell_type": "markdown",
   "metadata": {},
   "source": [
    "# 管理已经排序的序列-bisect "
   ]
  },
  {
   "cell_type": "markdown",
   "metadata": {},
   "source": [
    "你可以先用 bisect(haystack, needle) 查找位置 index，再用haystack.insert(index, needle) 来插入新值。 但你也可用 insort 来一步到位，并且后者的速度更快一些。"
   ]
  },
  {
   "cell_type": "markdown",
   "metadata": {},
   "source": [
    "## bisect 搜索"
   ]
  },
  {
   "cell_type": "code",
   "execution_count": 125,
   "metadata": {},
   "outputs": [
    {
     "name": "stdout",
     "output_type": "stream",
     "text": [
      "haystack  1  4  5  6  8 12 15 20 21 23 23 26 29 30\n",
      "31 @ 14   |  |  |  |  |  |  |  |  |  |  |  |  |  |31\n",
      "30 @ 14   |  |  |  |  |  |  |  |  |  |  |  |  |  |30\n",
      "29 @ 13   |  |  |  |  |  |  |  |  |  |  |  |  |29\n",
      "23 @ 11   |  |  |  |  |  |  |  |  |  |  |23\n",
      "22 @  9   |  |  |  |  |  |  |  |  |22\n",
      "10 @  5   |  |  |  |  |10\n",
      " 8 @  5   |  |  |  |  |8 \n",
      " 5 @  3   |  |  |5 \n",
      " 2 @  1   |2 \n",
      " 1 @  1   |1 \n",
      " 0 @  0 0 \n"
     ]
    }
   ],
   "source": [
    "import bisect\n",
    "\n",
    "HAYSTACK = [1, 4, 5, 6, 8, 12, 15, 20, 21, 23, 23, 26, 29, 30] \n",
    "NEEDLES = [0, 1, 2, 5, 8, 10, 22, 23, 29, 30, 31]\n",
    "ROW_FMT = '{0:2d} @ {1:2d} {2}{0:<2d}'\n",
    "print('haystack', ' '.join('%2d' %n for n in HAYSTACK))\n",
    "for needle in reversed(NEEDLES):\n",
    "    position = bisect.bisect(HAYSTACK, needle)# 插入右边的位置（后面）\n",
    "    offset = position * '  |'\n",
    "    print(ROW_FMT.format(needle, position, offset))"
   ]
  },
  {
   "cell_type": "code",
   "execution_count": 126,
   "metadata": {},
   "outputs": [
    {
     "name": "stdout",
     "output_type": "stream",
     "text": [
      "haystack  1  4  5  6  8 12 15 20 21 23 23 26 29 30\n",
      "31 @ 14   |  |  |  |  |  |  |  |  |  |  |  |  |  |31\n",
      "30 @ 13   |  |  |  |  |  |  |  |  |  |  |  |  |30\n",
      "29 @ 12   |  |  |  |  |  |  |  |  |  |  |  |29\n",
      "23 @  9   |  |  |  |  |  |  |  |  |23\n",
      "22 @  9   |  |  |  |  |  |  |  |  |22\n",
      "10 @  5   |  |  |  |  |10\n",
      " 8 @  4   |  |  |  |8 \n",
      " 5 @  2   |  |5 \n",
      " 2 @  1   |2 \n",
      " 1 @  0 1 \n",
      " 0 @  0 0 \n"
     ]
    }
   ],
   "source": [
    "import bisect\n",
    "\n",
    "HAYSTACK = [1, 4, 5, 6, 8, 12, 15, 20, 21, 23, 23, 26, 29, 30] \n",
    "NEEDLES = [0, 1, 2, 5, 8, 10, 22, 23, 29, 30, 31]\n",
    "ROW_FMT = '{0:2d} @ {1:2d} {2}{0:<2d}'\n",
    "print('haystack', ' '.join('%2d' %n for n in HAYSTACK))\n",
    "for needle in reversed(NEEDLES):\n",
    "    position = bisect.bisect_left(HAYSTACK, needle)# 插入左边的位置（前面）\n",
    "    offset = position * '  |'\n",
    "    print(ROW_FMT.format(needle, position, offset))"
   ]
  },
  {
   "cell_type": "code",
   "execution_count": 128,
   "metadata": {},
   "outputs": [
    {
     "name": "stdout",
     "output_type": "stream",
     "text": [
      "['F', 'D', 'C', 'C', 'B', 'A', 'A']\n"
     ]
    }
   ],
   "source": [
    "import bisect\n",
    "\n",
    "def grade(score, breakpoints=[60,70,80,90], grades='FDCBA'):\n",
    "    i = bisect.bisect(breakpoints, score)\n",
    "    return grades[i]\n",
    "\n",
    "grade_result = [grade(s) for s in [56,66,70,74,83,90,94]]\n",
    "print(grade_result)"
   ]
  },
  {
   "cell_type": "markdown",
   "metadata": {},
   "source": [
    "## insort 插入"
   ]
  },
  {
   "cell_type": "code",
   "execution_count": 130,
   "metadata": {},
   "outputs": [
    {
     "name": "stdout",
     "output_type": "stream",
     "text": [
      " 8 ->  [8]\n",
      " 2 ->  [2, 8]\n",
      " 1 ->  [1, 2, 8]\n",
      "10 ->  [1, 2, 8, 10]\n",
      "13 ->  [1, 2, 8, 10, 13]\n",
      "13 ->  [1, 2, 8, 10, 13, 13]\n",
      " 4 ->  [1, 2, 4, 8, 10, 13, 13]\n"
     ]
    }
   ],
   "source": [
    "import bisect\n",
    "import random\n",
    "\n",
    "SIZE = 7\n",
    "\n",
    "my_list = []\n",
    "\n",
    "for i in range(SIZE):\n",
    "    new_item = random.randrange(SIZE * 2)\n",
    "    bisect.insort(my_list, new_item)\n",
    "    print('%2d -> '%new_item, my_list)"
   ]
  },
  {
   "cell_type": "markdown",
   "metadata": {},
   "source": [
    "# 当列表不是首选时\n",
    "\n",
    "如果只存浮点数float，使用数组（array），进行了优化，背后存的是机器翻译。\n",
    "\n",
    "如果需要频繁对序列做先进先出的操作，deque（双端队列）速度应该会更快。\n",
    "\n",
    "如果需要频繁检查一个元素是否出现在一个序列中，set（几何）会更合适。（第三章详解）"
   ]
  },
  {
   "cell_type": "markdown",
   "metadata": {},
   "source": [
    "## 数组\n",
    "\n",
    "用 array.fromfile 从一个二进制文件里读出 1000 万个双精度浮点数只需要 0.1 秒，这比从文本文件里读取的速度要快 60 倍，因为后者会使用内置的 float 方法把每一行文字转换成浮点数。\n",
    "另外，使用 array.tofile 写入到二进制文件，比以每行一个浮点数\n",
    "的方式把所有数字写入到文本文件要快 7 倍。另外，1000 万个这样的 数在二进制文件里只占用 80 000 000 个字节(每个浮点数占用 8 个字 节，不需要任何额外空间)，如果是文本文件的话，我们需要 181 515 739 个字节。"
   ]
  },
  {
   "cell_type": "code",
   "execution_count": 133,
   "metadata": {},
   "outputs": [
    {
     "name": "stdout",
     "output_type": "stream",
     "text": [
      "floats01[-1] =  0.499502400161294\n",
      "floats02[-1] =  0.499502400161294\n"
     ]
    }
   ],
   "source": [
    "from array import array\n",
    "from random import random\n",
    "floats01 = array('d', (random() for i in range(10**7))) # 'd'表示双精度浮点\n",
    "print('floats01[-1] = ', floats01[-1])\n",
    "\n",
    "# wirte to bin file\n",
    "fp = open('floats.bin','wb')\n",
    "floats01.tofile(fp)\n",
    "fp.close()\n",
    "\n",
    "# read from bin file\n",
    "floats02 = array('d') # 空的，双精度浮点\n",
    "fp = open('floats.bin', 'rb')\n",
    "floats02.fromfile(fp, 10**7) #需要知道长度\n",
    "fp.close()\n",
    "print('floats02[-1] = ', floats02[-1])"
   ]
  },
  {
   "cell_type": "markdown",
   "metadata": {},
   "source": [
    "## memoryview 内存视图\n",
    "\n",
    "在不复制内容的情况下操作同一个数组的不同切片"
   ]
  },
  {
   "cell_type": "code",
   "execution_count": 147,
   "metadata": {},
   "outputs": [
    {
     "data": {
      "text/plain": [
       "184"
      ]
     },
     "execution_count": 147,
     "metadata": {},
     "output_type": "execute_result"
    }
   ],
   "source": [
    "from array import array\n",
    "import sys\n",
    "numbers = array('h', [-2,-1,0,1,2]) # 'h' 带符号整数类型\n",
    "memv = memoryview(numbers)\n",
    "sys.getsizeof(memv)"
   ]
  },
  {
   "cell_type": "code",
   "execution_count": 141,
   "metadata": {},
   "outputs": [
    {
     "data": {
      "text/plain": [
       "[254, 255, 255, 255, 0, 0, 1, 0, 2, 0]"
      ]
     },
     "execution_count": 141,
     "metadata": {},
     "output_type": "execute_result"
    }
   ],
   "source": [
    "memv_oct = memv.cast('B') # 'B'无符号字符\n",
    "memv_oct.tolist()"
   ]
  },
  {
   "cell_type": "code",
   "execution_count": 146,
   "metadata": {},
   "outputs": [
    {
     "data": {
      "text/plain": [
       "28"
      ]
     },
     "execution_count": 146,
     "metadata": {},
     "output_type": "execute_result"
    }
   ],
   "source": [
    "sys.getsizeof(memv_oct[0])"
   ]
  },
  {
   "cell_type": "code",
   "execution_count": 142,
   "metadata": {},
   "outputs": [
    {
     "data": {
      "text/plain": [
       "[254, 255, 255, 255, 0, 4, 1, 0, 2, 0]"
      ]
     },
     "execution_count": 142,
     "metadata": {},
     "output_type": "execute_result"
    }
   ],
   "source": [
    "memv_oct[5] = 4\n",
    "memv_oct.tolist()"
   ]
  },
  {
   "cell_type": "code",
   "execution_count": 143,
   "metadata": {},
   "outputs": [
    {
     "data": {
      "text/plain": [
       "[-2, -1, 1024, 1, 2]"
      ]
     },
     "execution_count": 143,
     "metadata": {},
     "output_type": "execute_result"
    }
   ],
   "source": [
    "memv.tolist()"
   ]
  },
  {
   "cell_type": "markdown",
   "metadata": {},
   "source": [
    "# 队列\n",
    "\n",
    "## 双向队列 和 其他形式的队列"
   ]
  },
  {
   "cell_type": "markdown",
   "metadata": {},
   "source": [
    "# 双向队列\n",
    "\n",
    "collections.deque 类(双向队列)是一个线程安全、可以快速从 两端添加或者删除元素的数据类型。"
   ]
  },
  {
   "cell_type": "code",
   "execution_count": 155,
   "metadata": {},
   "outputs": [
    {
     "data": {
      "text/plain": [
       "deque([0, 1, 2, 3, 4, 5, 6, 7, 8, 9])"
      ]
     },
     "execution_count": 155,
     "metadata": {},
     "output_type": "execute_result"
    }
   ],
   "source": [
    "from collections import deque\n",
    "dq = deque(range(10), maxlen=10)\n",
    "dq"
   ]
  },
  {
   "cell_type": "code",
   "execution_count": 156,
   "metadata": {},
   "outputs": [
    {
     "data": {
      "text/plain": [
       "deque([7, 8, 9, 0, 1, 2, 3, 4, 5, 6])"
      ]
     },
     "execution_count": 156,
     "metadata": {},
     "output_type": "execute_result"
    }
   ],
   "source": [
    "dq.rotate(3)\n",
    "dq"
   ]
  },
  {
   "cell_type": "code",
   "execution_count": 157,
   "metadata": {},
   "outputs": [
    {
     "data": {
      "text/plain": [
       "deque([1, 2, 3, 4, 5, 6, 7, 8, 9, 0])"
      ]
     },
     "execution_count": 157,
     "metadata": {},
     "output_type": "execute_result"
    }
   ],
   "source": [
    "dq.rotate(-4)\n",
    "dq"
   ]
  },
  {
   "cell_type": "code",
   "execution_count": 158,
   "metadata": {},
   "outputs": [
    {
     "data": {
      "text/plain": [
       "deque([-1, 1, 2, 3, 4, 5, 6, 7, 8, 9])"
      ]
     },
     "execution_count": 158,
     "metadata": {},
     "output_type": "execute_result"
    }
   ],
   "source": [
    "dq.appendleft(-1)\n",
    "dq"
   ]
  },
  {
   "cell_type": "code",
   "execution_count": 159,
   "metadata": {},
   "outputs": [
    {
     "data": {
      "text/plain": [
       "deque([3, 4, 5, 6, 7, 8, 9, 11, 22, 33])"
      ]
     },
     "execution_count": 159,
     "metadata": {},
     "output_type": "execute_result"
    }
   ],
   "source": [
    "dq.extend([11,22,33])\n",
    "dq"
   ]
  },
  {
   "cell_type": "code",
   "execution_count": 160,
   "metadata": {},
   "outputs": [
    {
     "data": {
      "text/plain": [
       "deque([40, 30, 20, 10, 3, 4, 5, 6, 7, 8])"
      ]
     },
     "execution_count": 160,
     "metadata": {},
     "output_type": "execute_result"
    }
   ],
   "source": [
    "dq.extendleft([10,20,30,40])\n",
    "dq"
   ]
  },
  {
   "cell_type": "code",
   "execution_count": null,
   "metadata": {},
   "outputs": [],
   "source": []
  }
 ],
 "metadata": {
  "kernelspec": {
   "display_name": "Python 3",
   "language": "python",
   "name": "python3"
  },
  "language_info": {
   "codemirror_mode": {
    "name": "ipython",
    "version": 3
   },
   "file_extension": ".py",
   "mimetype": "text/x-python",
   "name": "python",
   "nbconvert_exporter": "python",
   "pygments_lexer": "ipython3",
   "version": "3.8.3"
  }
 },
 "nbformat": 4,
 "nbformat_minor": 4
}
