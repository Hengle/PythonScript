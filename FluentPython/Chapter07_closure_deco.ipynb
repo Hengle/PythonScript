{
 "metadata": {
  "language_info": {
   "codemirror_mode": {
    "name": "ipython",
    "version": 3
   },
   "file_extension": ".py",
   "mimetype": "text/x-python",
   "name": "python",
   "nbconvert_exporter": "python",
   "pygments_lexer": "ipython3",
   "version": "3.8.1-final"
  },
  "orig_nbformat": 2,
  "kernelspec": {
   "name": "pycharm-7376436b",
   "display_name": "PyCharm (PythonScript)",
   "language": "python"
  }
 },
 "nbformat": 4,
 "nbformat_minor": 2,
 "cells": [
  {
   "source": [
    "# 函数装饰器和闭包"
   ],
   "cell_type": "markdown",
   "metadata": {}
  },
  {
   "source": [
    "# 装饰器的基础知识\n",
    "\n",
    "严格来说，装饰器只是语法糖。方便元编程（在运行时改变程序的行为）\n",
    "\n",
    "两大作用：\n",
    "- 把被修饰函数替换成其他函数\n",
    "- 在加载模块时立即执行"
   ],
   "cell_type": "markdown",
   "metadata": {}
  },
  {
   "cell_type": "code",
   "execution_count": 3,
   "metadata": {},
   "outputs": [
    {
     "output_type": "stream",
     "name": "stdout",
     "text": [
      "inner() is running!\n"
     ]
    }
   ],
   "source": [
    "# 一个简单的例子\n",
    "# 使用装饰器将返回的函数替换\n",
    "# 装饰器就是一个以被修饰函数为参数的函数\n",
    "\n",
    "def deco(func):\n",
    "    # 在装饰器函数内创建另一个函数并返回\n",
    "    def inner():\n",
    "        print(\"inner() is running!\")\n",
    "    return inner\n",
    "\n",
    "@deco\n",
    "def target():\n",
    "    print(\"target() is running\")\n",
    "\n",
    "# 执行被修饰函数\n",
    "target()"
   ]
  },
  {
   "cell_type": "code",
   "execution_count": 5,
   "metadata": {},
   "outputs": [
    {
     "output_type": "execute_result",
     "data": {
      "text/plain": [
       "<function __main__.deco.<locals>.inner()>"
      ]
     },
     "metadata": {},
     "execution_count": 5
    }
   ],
   "source": [
    "# 将函数作为对象\n",
    "\n",
    "target  # target成为函数inner的引用"
   ]
  },
  {
   "source": [
    "# Python何时执行装饰器\n",
    "\n",
    "装饰器在导入模块时就会执行。\n",
    "\n",
    "python中提到的导入时和运行时，前者指的就是import的时候就会运行的代码。"
   ],
   "cell_type": "markdown",
   "metadata": {}
  },
  {
   "cell_type": "code",
   "execution_count": 1,
   "metadata": {},
   "outputs": [
    {
     "output_type": "stream",
     "name": "stdout",
     "text": [
      "running register (<function f1 at 0x7fdc99060310>)\nrunning register (<function f2 at 0x7fdc9aeb55e0>)\n"
     ]
    }
   ],
   "source": [
    "import registration"
   ]
  },
  {
   "source": [
    "### 装饰器函数在定义函数之后立即执行。因此在导入时也会即刻执行，即使我们没有调用任何模块内的函数。\n",
    "\n",
    "\n",
    "## 实际应用时两个特殊的地方：\n",
    "### 1 装饰器函数和被装饰的函数在同一个模块中定义，但现实中经常是装饰器函数在一个模块中定义，然后应用的其他模块的函数上。\n",
    "### 2 示例中装饰器函数返回了输入的函数，但现实中往往会在装饰器中定义一个新的函数并返回。"
   ],
   "cell_type": "markdown",
   "metadata": {}
  },
  {
   "source": [
    "# 使用装饰器改进“策略”模式"
   ],
   "cell_type": "markdown",
   "metadata": {}
  },
  {
   "cell_type": "code",
   "execution_count": 6,
   "metadata": {},
   "outputs": [],
   "source": [
    "from collections import namedtuple\n",
    "\n",
    "Customer = namedtuple('Customer','name fidelity')\n",
    "\n",
    "class LineItem:\n",
    "    '''每种产品信息，产品名，数量，单价等'''\n",
    "    def __init__(self, product, quantity, price):\n",
    "        self.product = product\n",
    "        self.quantity = quantity\n",
    "        self.price = price\n",
    "\n",
    "    def total(self):\n",
    "        return self.price * self.quantity\n",
    "\n",
    "\n",
    "class Order:\n",
    "    '''账单'''\n",
    "    def __init__(self, customer, cart, promotion=None):\n",
    "        self.customer = customer\n",
    "        self.cart = list(cart)\n",
    "        self.promotion = promotion\n",
    "\n",
    "    def total(self):\n",
    "        if not hasattr(self, '__total'):\n",
    "            self.__total = sum(item.total() for item in self.cart)\n",
    "        return self.__total\n",
    "\n",
    "    def due(self):\n",
    "        if self.promotion is None:\n",
    "            discount = 0.0\n",
    "        else:\n",
    "            discount = self.promotion(order = self) # 此处promotion变量已经是一个函数了，直接执行括号运算符就行了。\n",
    "        return self.total() - discount\n",
    "\n",
    "    def __repr__(self):\n",
    "        fm = \"<Order total:{:.2f} due:{:.2f}>\"\n",
    "        return fm.format(self.total(),self.due())\n",
    "\n",
    "# 全局变量，用来存储所有策略函数\n",
    "promo = []\n",
    "\n",
    "# 创建一个修饰器函数，将所有策略函数注册到全局变量中。\n",
    "def promotion(func):\n",
    "    promo.append(func)\n",
    "    return func\n",
    "\n",
    "@promotion\n",
    "def fidelity_promo(order):\n",
    "    '''满1000积分提供5%的折扣'''\n",
    "    return order.total() * 0.05 if order.customer.fidelity >= 1000.0 else 0.0\n",
    "\n",
    "@promotion\n",
    "def bulkitem_promo(order):\n",
    "    '''单个商品数量为20或以上时提供10%的折扣'''\n",
    "    d = 0.0\n",
    "    for item in order.cart:\n",
    "        if item.quantity >= 20 :\n",
    "            d += item.total() * 0.1\n",
    "    return d\n",
    "\n",
    "@promotion\n",
    "def largeorder_promo(order):\n",
    "    '''订单中达到或超过10种商品时提供7%的折扣'''\n",
    "    distinct_item = { item.product for item in order.cart } #使用了集，集内不能有重复元素\n",
    "    if len(distinct_item) >= 10 :\n",
    "        return order.total() * 0.07\n",
    "    return 0.0\n",
    "\n",
    "def best_promo(order):\n",
    "    '''返回最大优惠方案'''\n",
    "    return max([pr(order) for pr in promo ])\n"
   ]
  },
  {
   "cell_type": "code",
   "execution_count": 9,
   "metadata": {},
   "outputs": [
    {
     "output_type": "execute_result",
     "data": {
      "text/plain": [
       "<Order total:174.50 due:159.50>"
      ]
     },
     "metadata": {},
     "execution_count": 9
    }
   ],
   "source": [
    "joe = Customer('John Doe', 0)\n",
    "ann = Customer('Ann Smith', 1100)\n",
    "cart = [LineItem('banana', 4, 0.5),\n",
    "        LineItem('apple', 15,1.5),\n",
    "        LineItem('watermelon', 30, 5.0)]\n",
    "\n",
    "\n",
    "Order(ann, cart, best_promo)"
   ]
  },
  {
   "source": [
    "# 变量作用域规则"
   ],
   "cell_type": "markdown",
   "metadata": {}
  },
  {
   "cell_type": "code",
   "execution_count": 17,
   "metadata": {},
   "outputs": [
    {
     "output_type": "stream",
     "name": "stdout",
     "text": [
      "3\n9\n"
     ]
    }
   ],
   "source": [
    "# 一个正常的例子 我们故意不去定义全局变量b\n",
    "def f1(a):\n",
    "    print(a)\n",
    "    print(b)\n",
    "\n",
    "f1(3)"
   ]
  },
  {
   "cell_type": "code",
   "execution_count": 18,
   "metadata": {},
   "outputs": [
    {
     "output_type": "stream",
     "name": "stdout",
     "text": [
      "3\n"
     ]
    },
    {
     "output_type": "error",
     "ename": "UnboundLocalError",
     "evalue": "local variable 'b' referenced before assignment",
     "traceback": [
      "\u001b[0;31m---------------------------------------------------------------------------\u001b[0m",
      "\u001b[0;31mUnboundLocalError\u001b[0m                         Traceback (most recent call last)",
      "\u001b[0;32m<ipython-input-18-9023d4b79e12>\u001b[0m in \u001b[0;36m<module>\u001b[0;34m\u001b[0m\n\u001b[1;32m      6\u001b[0m     \u001b[0mb\u001b[0m \u001b[0;34m=\u001b[0m \u001b[0;36m9\u001b[0m\u001b[0;34m\u001b[0m\u001b[0;34m\u001b[0m\u001b[0m\n\u001b[1;32m      7\u001b[0m \u001b[0;34m\u001b[0m\u001b[0m\n\u001b[0;32m----> 8\u001b[0;31m \u001b[0mf2\u001b[0m\u001b[0;34m(\u001b[0m\u001b[0;36m3\u001b[0m\u001b[0;34m)\u001b[0m\u001b[0;34m\u001b[0m\u001b[0;34m\u001b[0m\u001b[0m\n\u001b[0m",
      "\u001b[0;32m<ipython-input-18-9023d4b79e12>\u001b[0m in \u001b[0;36mf2\u001b[0;34m(a)\u001b[0m\n\u001b[1;32m      3\u001b[0m \u001b[0;32mdef\u001b[0m \u001b[0mf2\u001b[0m\u001b[0;34m(\u001b[0m\u001b[0ma\u001b[0m\u001b[0;34m)\u001b[0m\u001b[0;34m:\u001b[0m\u001b[0;34m\u001b[0m\u001b[0;34m\u001b[0m\u001b[0m\n\u001b[1;32m      4\u001b[0m     \u001b[0mprint\u001b[0m\u001b[0;34m(\u001b[0m\u001b[0ma\u001b[0m\u001b[0;34m)\u001b[0m\u001b[0;34m\u001b[0m\u001b[0;34m\u001b[0m\u001b[0m\n\u001b[0;32m----> 5\u001b[0;31m     \u001b[0mprint\u001b[0m\u001b[0;34m(\u001b[0m\u001b[0mb\u001b[0m\u001b[0;34m)\u001b[0m\u001b[0;34m\u001b[0m\u001b[0;34m\u001b[0m\u001b[0m\n\u001b[0m\u001b[1;32m      6\u001b[0m     \u001b[0mb\u001b[0m \u001b[0;34m=\u001b[0m \u001b[0;36m9\u001b[0m\u001b[0;34m\u001b[0m\u001b[0;34m\u001b[0m\u001b[0m\n\u001b[1;32m      7\u001b[0m \u001b[0;34m\u001b[0m\u001b[0m\n",
      "\u001b[0;31mUnboundLocalError\u001b[0m: local variable 'b' referenced before assignment"
     ]
    }
   ],
   "source": [
    "# 一个不太好理解的例子：\n",
    "b = 6\n",
    "def f2(a):\n",
    "    print(a)\n",
    "    print(b)\n",
    "    b = 9\n",
    "\n",
    "f2(3)"
   ]
  },
  {
   "source": [
    "上面例子返回的错误提示是局部变量b在定义前就被引用了。而忽视了我们之前定义的全局变量b。\n",
    "\n",
    "这是python的一个语言设计：\n",
    "\n",
    "**python不要求声明变量，但是假定在函数定义体中赋值的变量是局部变量。**"
   ],
   "cell_type": "markdown",
   "metadata": {}
  },
  {
   "cell_type": "code",
   "execution_count": 20,
   "metadata": {},
   "outputs": [
    {
     "output_type": "stream",
     "name": "stdout",
     "text": [
      "3\n6\n"
     ]
    }
   ],
   "source": [
    "# 使用global关键字来声明变量即可：\n",
    "b = 6\n",
    "def f3(a):\n",
    "    global b\n",
    "    print(a)\n",
    "    print(b)\n",
    "    b = 9\n",
    "\n",
    "f3(3)\n"
   ]
  },
  {
   "cell_type": "code",
   "execution_count": 21,
   "metadata": {},
   "outputs": [
    {
     "output_type": "execute_result",
     "data": {
      "text/plain": [
       "9"
      ]
     },
     "metadata": {},
     "execution_count": 21
    }
   ],
   "source": [
    "b"
   ]
  },
  {
   "cell_type": "code",
   "execution_count": 22,
   "metadata": {},
   "outputs": [
    {
     "output_type": "stream",
     "name": "stdout",
     "text": [
      "  4           0 LOAD_GLOBAL              0 (print)\n              2 LOAD_FAST                0 (a)\n              4 CALL_FUNCTION            1\n              6 POP_TOP\n\n  5           8 LOAD_GLOBAL              0 (print)\n             10 LOAD_FAST                1 (b)\n             12 CALL_FUNCTION            1\n             14 POP_TOP\n\n  6          16 LOAD_CONST               1 (9)\n             18 STORE_FAST               1 (b)\n             20 LOAD_CONST               0 (None)\n             22 RETURN_VALUE\n"
     ]
    }
   ],
   "source": [
    "from dis import dis\n",
    "dis(f2)"
   ]
  },
  {
   "cell_type": "code",
   "execution_count": 23,
   "metadata": {},
   "outputs": [
    {
     "output_type": "stream",
     "name": "stdout",
     "text": [
      "  5           0 LOAD_GLOBAL              0 (print)\n              2 LOAD_FAST                0 (a)\n              4 CALL_FUNCTION            1\n              6 POP_TOP\n\n  6           8 LOAD_GLOBAL              0 (print)\n             10 LOAD_GLOBAL              1 (b)\n             12 CALL_FUNCTION            1\n             14 POP_TOP\n\n  7          16 LOAD_CONST               1 (9)\n             18 STORE_GLOBAL             1 (b)\n             20 LOAD_CONST               0 (None)\n             22 RETURN_VALUE\n"
     ]
    }
   ],
   "source": [
    "dis(f3)"
   ]
  },
  {
   "source": [
    "# 闭包\n",
    "\n",
    "### 闭包指延伸了作用域的函数，其中包含函数定义体中引用，但不在定义体中定义的非全局变量。"
   ],
   "cell_type": "markdown",
   "metadata": {}
  },
  {
   "cell_type": "code",
   "execution_count": 28,
   "metadata": {},
   "outputs": [],
   "source": [
    "# 使用类实现：可以记录之前的值，累积后再求平均输出结果。\n",
    "class make_averager_c():\n",
    "    def __init__(self):\n",
    "        self._series = []\n",
    "\n",
    "    def __call__(self, value):\n",
    "        self._series.append(value)\n",
    "        total = sum(self._series)\n",
    "        return total/len(self._series)"
   ]
  },
  {
   "cell_type": "code",
   "execution_count": 29,
   "metadata": {},
   "outputs": [
    {
     "output_type": "execute_result",
     "data": {
      "text/plain": [
       "10.0"
      ]
     },
     "metadata": {},
     "execution_count": 29
    }
   ],
   "source": [
    "avg_c = make_averager_c()\n",
    "avg_c(10)"
   ]
  },
  {
   "cell_type": "code",
   "execution_count": 30,
   "metadata": {},
   "outputs": [
    {
     "output_type": "execute_result",
     "data": {
      "text/plain": [
       "12.5"
      ]
     },
     "metadata": {},
     "execution_count": 30
    }
   ],
   "source": [
    "avg_c(15)"
   ]
  },
  {
   "cell_type": "code",
   "execution_count": 31,
   "metadata": {},
   "outputs": [
    {
     "output_type": "execute_result",
     "data": {
      "text/plain": [
       "15.0"
      ]
     },
     "metadata": {},
     "execution_count": 31
    }
   ],
   "source": [
    "avg_c(20)"
   ]
  },
  {
   "cell_type": "code",
   "execution_count": 24,
   "metadata": {},
   "outputs": [],
   "source": [
    "# 使用函数实现\n",
    "\n",
    "def make_averager():\n",
    "    series = []\n",
    "\n",
    "    def averager(new_value):\n",
    "        series.append(new_value)\n",
    "        total = sum(series)\n",
    "        return total/len(series)\n",
    "    \n",
    "    return averager"
   ]
  },
  {
   "cell_type": "code",
   "execution_count": 25,
   "metadata": {},
   "outputs": [
    {
     "output_type": "execute_result",
     "data": {
      "text/plain": [
       "10.0"
      ]
     },
     "metadata": {},
     "execution_count": 25
    }
   ],
   "source": [
    "avg = make_averager()\n",
    "avg(10)"
   ]
  },
  {
   "cell_type": "code",
   "execution_count": 26,
   "metadata": {},
   "outputs": [
    {
     "output_type": "execute_result",
     "data": {
      "text/plain": [
       "12.5"
      ]
     },
     "metadata": {},
     "execution_count": 26
    }
   ],
   "source": [
    "avg(15)"
   ]
  },
  {
   "cell_type": "code",
   "execution_count": 27,
   "metadata": {},
   "outputs": [
    {
     "output_type": "execute_result",
     "data": {
      "text/plain": [
       "15.0"
      ]
     },
     "metadata": {},
     "execution_count": 27
    }
   ],
   "source": [
    "avg(20)"
   ]
  },
  {
   "cell_type": "code",
   "execution_count": 32,
   "metadata": {},
   "outputs": [],
   "source": [
    "# 两条曲线之间的范围即为闭包：变量series相对于函数averager()来说就是在函数作用域之外了，但是依然能够引用到。\n",
    "# 此时，series 为自由变量，而非局部变量\n",
    "\n",
    "def make_averager():\n",
    "    #------------------------------\n",
    "    series = []\n",
    "\n",
    "    def averager(new_value):\n",
    "        series.append(new_value)\n",
    "        total = sum(series)\n",
    "        return total/len(series)\n",
    "    #-----------------------------\n",
    "    return averager"
   ]
  },
  {
   "cell_type": "code",
   "execution_count": 41,
   "metadata": {},
   "outputs": [
    {
     "output_type": "execute_result",
     "data": {
      "text/plain": [
       "10.0"
      ]
     },
     "metadata": {},
     "execution_count": 41
    }
   ],
   "source": [
    "avg = make_averager()\n",
    "avg(10)"
   ]
  },
  {
   "cell_type": "code",
   "execution_count": 42,
   "metadata": {},
   "outputs": [
    {
     "output_type": "execute_result",
     "data": {
      "text/plain": [
       "12.5"
      ]
     },
     "metadata": {},
     "execution_count": 42
    }
   ],
   "source": [
    "avg(15)"
   ]
  },
  {
   "cell_type": "code",
   "execution_count": 43,
   "metadata": {},
   "outputs": [
    {
     "output_type": "execute_result",
     "data": {
      "text/plain": [
       "15.0"
      ]
     },
     "metadata": {},
     "execution_count": 43
    }
   ],
   "source": [
    "avg(20)"
   ]
  },
  {
   "cell_type": "code",
   "execution_count": 44,
   "metadata": {},
   "outputs": [
    {
     "output_type": "execute_result",
     "data": {
      "text/plain": [
       "('new_value', 'total')"
      ]
     },
     "metadata": {},
     "execution_count": 44
    }
   ],
   "source": [
    "avg.__code__.co_varnames #局部变量"
   ]
  },
  {
   "cell_type": "code",
   "execution_count": 45,
   "metadata": {},
   "outputs": [
    {
     "output_type": "execute_result",
     "data": {
      "text/plain": [
       "('series',)"
      ]
     },
     "metadata": {},
     "execution_count": 45
    }
   ],
   "source": [
    "avg.__code__.co_freevars #自由变量"
   ]
  },
  {
   "cell_type": "code",
   "execution_count": 46,
   "metadata": {},
   "outputs": [
    {
     "output_type": "execute_result",
     "data": {
      "text/plain": [
       "(<cell at 0x7fdc99b71d60: list object at 0x7fdc9a72ed80>,)"
      ]
     },
     "metadata": {},
     "execution_count": 46
    }
   ],
   "source": [
    "avg.__closure__"
   ]
  },
  {
   "cell_type": "code",
   "execution_count": 47,
   "metadata": {},
   "outputs": [
    {
     "output_type": "execute_result",
     "data": {
      "text/plain": [
       "[10, 15, 20]"
      ]
     },
     "metadata": {},
     "execution_count": 47
    }
   ],
   "source": [
    "avg.__closure__[0].cell_contents"
   ]
  },
  {
   "source": [
    "### 闭包是一种函数，它会保留定义函数时存在的自由变量的绑定，这样调用函数时，虽然定义作用域不可用了，但是仍能使用那些绑定。\n",
    "\n",
    "> 只有嵌套在其他函数内部的函数，才有成为闭包的可能。因为它有可能调用外部的非全局变量。"
   ],
   "cell_type": "markdown",
   "metadata": {}
  },
  {
   "source": [
    "# nonlocal声明"
   ],
   "cell_type": "markdown",
   "metadata": {}
  },
  {
   "cell_type": "code",
   "execution_count": 52,
   "metadata": {},
   "outputs": [],
   "source": [
    "# 继续优化上面的求平均函数：\n",
    "\n",
    "def make_averager2():\n",
    "    count = 0\n",
    "    total = 0\n",
    "    def averager2(new_value):\n",
    "        total += new_value\n",
    "        count += 1\n",
    "        return total/count\n",
    "    return averager2"
   ]
  },
  {
   "cell_type": "code",
   "execution_count": 53,
   "metadata": {},
   "outputs": [
    {
     "output_type": "error",
     "ename": "UnboundLocalError",
     "evalue": "local variable 'total' referenced before assignment",
     "traceback": [
      "\u001b[0;31m---------------------------------------------------------------------------\u001b[0m",
      "\u001b[0;31mUnboundLocalError\u001b[0m                         Traceback (most recent call last)",
      "\u001b[0;32m<ipython-input-53-7c2a15f8601b>\u001b[0m in \u001b[0;36m<module>\u001b[0;34m\u001b[0m\n\u001b[1;32m      1\u001b[0m \u001b[0ma\u001b[0m \u001b[0;34m=\u001b[0m \u001b[0mmake_averager2\u001b[0m\u001b[0;34m(\u001b[0m\u001b[0;34m)\u001b[0m\u001b[0;34m\u001b[0m\u001b[0;34m\u001b[0m\u001b[0m\n\u001b[1;32m      2\u001b[0m \u001b[0;34m\u001b[0m\u001b[0m\n\u001b[0;32m----> 3\u001b[0;31m \u001b[0ma\u001b[0m\u001b[0;34m(\u001b[0m\u001b[0;36m10\u001b[0m\u001b[0;34m)\u001b[0m\u001b[0;34m\u001b[0m\u001b[0;34m\u001b[0m\u001b[0m\n\u001b[0m",
      "\u001b[0;32m<ipython-input-52-5e27600fbb4d>\u001b[0m in \u001b[0;36maverager2\u001b[0;34m(new_value)\u001b[0m\n\u001b[1;32m      5\u001b[0m     \u001b[0mtotal\u001b[0m \u001b[0;34m=\u001b[0m \u001b[0;36m0\u001b[0m\u001b[0;34m\u001b[0m\u001b[0;34m\u001b[0m\u001b[0m\n\u001b[1;32m      6\u001b[0m     \u001b[0;32mdef\u001b[0m \u001b[0maverager2\u001b[0m\u001b[0;34m(\u001b[0m\u001b[0mnew_value\u001b[0m\u001b[0;34m)\u001b[0m\u001b[0;34m:\u001b[0m\u001b[0;34m\u001b[0m\u001b[0;34m\u001b[0m\u001b[0m\n\u001b[0;32m----> 7\u001b[0;31m         \u001b[0mtotal\u001b[0m \u001b[0;34m+=\u001b[0m \u001b[0mnew_value\u001b[0m\u001b[0;34m\u001b[0m\u001b[0;34m\u001b[0m\u001b[0m\n\u001b[0m\u001b[1;32m      8\u001b[0m         \u001b[0mcount\u001b[0m \u001b[0;34m+=\u001b[0m \u001b[0;36m1\u001b[0m\u001b[0;34m\u001b[0m\u001b[0;34m\u001b[0m\u001b[0m\n\u001b[1;32m      9\u001b[0m         \u001b[0;32mreturn\u001b[0m \u001b[0mtotal\u001b[0m\u001b[0;34m/\u001b[0m\u001b[0mcount\u001b[0m\u001b[0;34m\u001b[0m\u001b[0;34m\u001b[0m\u001b[0m\n",
      "\u001b[0;31mUnboundLocalError\u001b[0m: local variable 'total' referenced before assignment"
     ]
    }
   ],
   "source": [
    "a = make_averager2()\n",
    "\n",
    "a(10)"
   ]
  },
  {
   "source": [
    "这里之所以会出现错误，而且提示total成为了局部变量，而不是自由变量，那是因为**total是一个不可变类型。**\n",
    "\n",
    "不可变类型（数字，字符串，元组）其实只能读，不能写。一旦写了，python会隐藏地创建了一个新的变量。\n",
    "\n",
    "而上面的例子中，series是数组，是可变类型。也没有直接赋值给它，而是调用了append函数。因此上面的例子没有问题。\n",
    "\n",
    "解决办法： 使用**nonlocal**关键字来声明一下自由变量。\n"
   ],
   "cell_type": "markdown",
   "metadata": {}
  },
  {
   "cell_type": "code",
   "execution_count": 54,
   "metadata": {},
   "outputs": [],
   "source": [
    "# 使用nonlocal来声明不可变变量为自由变量！\n",
    "\n",
    "def make_averager3():\n",
    "    count = 0\n",
    "    total = 0\n",
    "    def averager3(new_value):\n",
    "        nonlocal count,total # 在调用和赋值的函数中声明\n",
    "        total += new_value\n",
    "        count += 1\n",
    "        return total/count\n",
    "    return averager3"
   ]
  },
  {
   "cell_type": "code",
   "execution_count": 55,
   "metadata": {},
   "outputs": [
    {
     "output_type": "execute_result",
     "data": {
      "text/plain": [
       "10.0"
      ]
     },
     "metadata": {},
     "execution_count": 55
    }
   ],
   "source": [
    "    c = make_averager3()\n",
    "    c(10)"
   ]
  },
  {
   "cell_type": "code",
   "execution_count": 56,
   "metadata": {},
   "outputs": [
    {
     "output_type": "execute_result",
     "data": {
      "text/plain": [
       "12.5"
      ]
     },
     "metadata": {},
     "execution_count": 56
    }
   ],
   "source": [
    "c(15)"
   ]
  },
  {
   "cell_type": "code",
   "execution_count": 57,
   "metadata": {},
   "outputs": [
    {
     "output_type": "execute_result",
     "data": {
      "text/plain": [
       "15.0"
      ]
     },
     "metadata": {},
     "execution_count": 57
    }
   ],
   "source": [
    "c(20)"
   ]
  },
  {
   "source": [
    "# 实现一个简单的装饰器"
   ],
   "cell_type": "markdown",
   "metadata": {}
  },
  {
   "cell_type": "code",
   "execution_count": 58,
   "metadata": {},
   "outputs": [
    {
     "output_type": "stream",
     "name": "stdout",
     "text": [
      "[2.00410020s], snooze(2)->None\n"
     ]
    }
   ],
   "source": [
    "import time\n",
    "from clockdeco import clock\n",
    "\n",
    "@clock\n",
    "def snooze(second):\n",
    "    time.sleep(second)\n",
    "\n",
    "\n",
    "snooze(2)"
   ]
  },
  {
   "cell_type": "code",
   "execution_count": 60,
   "metadata": {
    "tags": []
   },
   "outputs": [
    {
     "output_type": "stream",
     "name": "stdout",
     "text": [
      "[0.00000037s], factorial(1)->1\n[0.00015563s], factorial(2)->2\n"
     ]
    },
    {
     "output_type": "execute_result",
     "data": {
      "text/plain": [
       "2"
      ]
     },
     "metadata": {},
     "execution_count": 60
    }
   ],
   "source": [
    "@clock\n",
    "def factorial(n):\n",
    "    return 1 if n < 2 else n*factorial(n-1)\n",
    "\n",
    "\n",
    "factorial(2)"
   ]
  },
  {
   "cell_type": "code",
   "execution_count": 63,
   "metadata": {},
   "outputs": [
    {
     "output_type": "execute_result",
     "data": {
      "text/plain": [
       "'clocked'"
      ]
     },
     "metadata": {},
     "execution_count": 63
    }
   ],
   "source": [
    "# 装饰器将函数绑定给了装饰器内部函数：\n",
    "factorial.__name__"
   ]
  },
  {
   "source": [
    "### 这是装饰器的典型行为:把被装饰的函数替换成新函数，二者接受相同 的参数，而且(通常)返回被装饰的函数本该返回的值，同时还会做些 额外操作。"
   ],
   "cell_type": "markdown",
   "metadata": {}
  },
  {
   "cell_type": "code",
   "execution_count": 28,
   "metadata": {},
   "outputs": [
    {
     "output_type": "error",
     "ename": "TypeError",
     "evalue": "clocked() got an unexpected keyword argument 'a'",
     "traceback": [
      "\u001b[0;31m---------------------------------------------------------------------------\u001b[0m",
      "\u001b[0;31mTypeError\u001b[0m                                 Traceback (most recent call last)",
      "\u001b[0;32m<ipython-input-28-d31d1589d405>\u001b[0m in \u001b[0;36m<module>\u001b[0;34m\u001b[0m\n\u001b[1;32m     12\u001b[0m \u001b[0;34m\u001b[0m\u001b[0m\n\u001b[1;32m     13\u001b[0m \u001b[0;34m\u001b[0m\u001b[0m\n\u001b[0;32m---> 14\u001b[0;31m \u001b[0mtest\u001b[0m\u001b[0;34m(\u001b[0m\u001b[0;34m'dd'\u001b[0m\u001b[0;34m,\u001b[0m \u001b[0ma\u001b[0m\u001b[0;34m=\u001b[0m\u001b[0;34m'c'\u001b[0m\u001b[0;34m)\u001b[0m\u001b[0;34m\u001b[0m\u001b[0;34m\u001b[0m\u001b[0m\n\u001b[0m",
      "\u001b[0;31mTypeError\u001b[0m: clocked() got an unexpected keyword argument 'a'"
     ]
    }
   ],
   "source": [
    "from clockdeco2 import clock\n",
    "\n",
    "@clock\n",
    "def factorial2(num):\n",
    "    return 1 if num < 2 else num * factorial2(num-1)\n",
    "\n",
    "@clock\n",
    "def test(*args, **kwargs):\n",
    "    log = ', '.join([\"%s \"%(value) for value in args])\n",
    "    log += ', '.join([\"%s : %s\"%(name, value) for name , value in kwargs.items()])\n",
    "    return log\n",
    "\n",
    "\n",
    "test('dd', a='c')"
   ]
  },
  {
   "source": [
    "# 标准库中的修饰器\n"
   ],
   "cell_type": "markdown",
   "metadata": {}
  },
  {
   "source": [
    "比较常用的修饰器：\n",
    "- property ： 19.2节介绍\n",
    "- classmethod ：9.4节介绍\n",
    "- staticmethod ：9.4节介绍\n",
    "- functools.wraps ： 协助构建行为良好的修饰器\n",
    "- functools.lru_cache : 它把耗时的函数的结果保存起来，避免传入相同的参数时重复计算。LRU 三个字母是“Least Recently Used”的缩写。\n",
    "- functools.singledispatch"
   ],
   "cell_type": "markdown",
   "metadata": {}
  },
  {
   "source": [
    "## functools.lru_cache缓存递归函数的中间结果\n",
    "\n",
    "因为 lru_cache 使用字典存储结果，而且键根据调用时传\n",
    "入的定位参数和关键字参数创建，所以被 lru_cache 装饰的函数，它 的所有参数都必须是可散列的。"
   ],
   "cell_type": "markdown",
   "metadata": {}
  },
  {
   "cell_type": "code",
   "execution_count": 98,
   "metadata": {
    "tags": []
   },
   "outputs": [
    {
     "output_type": "stream",
     "name": "stdout",
     "text": [
      "[0.00000058s], fibonacci(1)->1\n[0.00000071s], fibonacci(0)->0\n[0.00092309s], fibonacci(2)->1\n[0.00000077s], fibonacci(1)->1\n[0.00112688s], fibonacci(3)->2\n[0.00000052s], fibonacci(1)->1\n[0.00000083s], fibonacci(0)->0\n[0.00070626s], fibonacci(2)->1\n[0.00209366s], fibonacci(4)->3\n[0.00000051s], fibonacci(1)->1\n[0.00000062s], fibonacci(0)->0\n[0.00020043s], fibonacci(2)->1\n[0.00000197s], fibonacci(1)->1\n[0.00179201s], fibonacci(3)->2\n[0.00412892s], fibonacci(5)->5\n[0.00000059s], fibonacci(1)->1\n[0.00000072s], fibonacci(0)->0\n[0.00020438s], fibonacci(2)->1\n[0.00000071s], fibonacci(1)->1\n[0.00041063s], fibonacci(3)->2\n[0.00000050s], fibonacci(1)->1\n[0.00000049s], fibonacci(0)->0\n[0.00050632s], fibonacci(2)->1\n[0.00109188s], fibonacci(4)->3\n[0.00537671s], fibonacci(6)->8\n[0.00000034s], fibonacci(1)->1\n[0.00000039s], fibonacci(0)->0\n[0.00011062s], fibonacci(2)->1\n[0.00000099s], fibonacci(1)->1\n[0.00056474s], fibonacci(3)->2\n[0.00000058s], fibonacci(1)->1\n[0.00000064s], fibonacci(0)->0\n[0.00021029s], fibonacci(2)->1\n[0.00119460s], fibonacci(4)->3\n[0.00000043s], fibonacci(1)->1\n[0.00000062s], fibonacci(0)->0\n[0.00023524s], fibonacci(2)->1\n[0.00000056s], fibonacci(1)->1\n[0.00042872s], fibonacci(3)->2\n[0.00178880s], fibonacci(5)->5\n[0.00756673s], fibonacci(7)->13\n[0.00000052s], fibonacci(1)->1\n[0.00000063s], fibonacci(0)->0\n[0.00019036s], fibonacci(2)->1\n[0.00000061s], fibonacci(1)->1\n[0.00037508s], fibonacci(3)->2\n[0.00000049s], fibonacci(1)->1\n[0.00000077s], fibonacci(0)->0\n[0.00025250s], fibonacci(2)->1\n[0.00108692s], fibonacci(4)->3\n[0.00000054s], fibonacci(1)->1\n[0.00000066s], fibonacci(0)->0\n[0.00019751s], fibonacci(2)->1\n[0.00000062s], fibonacci(1)->1\n[0.00038840s], fibonacci(3)->2\n[0.00166672s], fibonacci(5)->5\n[0.00000044s], fibonacci(1)->1\n[0.00000057s], fibonacci(0)->0\n[0.00077456s], fibonacci(2)->1\n[0.00000062s], fibonacci(1)->1\n[0.00098870s], fibonacci(3)->2\n[0.00000046s], fibonacci(1)->1\n[0.00000053s], fibonacci(0)->0\n[0.00019108s], fibonacci(2)->1\n[0.00138392s], fibonacci(4)->3\n[0.00324318s], fibonacci(6)->8\n[0.01099017s], fibonacci(8)->21\n"
     ]
    },
    {
     "output_type": "execute_result",
     "data": {
      "text/plain": [
       "21"
      ]
     },
     "metadata": {},
     "execution_count": 98
    }
   ],
   "source": [
    "from clockdeco import clock\n",
    "\n",
    "@clock\n",
    "def fibonacci(n):\n",
    "    if n < 2 :\n",
    "        return n\n",
    "    return fibonacci(n-1) + fibonacci(n-2)\n",
    "\n",
    "\n",
    "fibonacci(8)"
   ]
  },
  {
   "cell_type": "code",
   "execution_count": 99,
   "metadata": {},
   "outputs": [
    {
     "output_type": "stream",
     "name": "stdout",
     "text": [
      "[0.00000042s], fibonacci(1)->1\n[0.00000060s], fibonacci(0)->0\n[0.00039008s], fibonacci(2)->1\n[0.00045389s], fibonacci(3)->2\n[0.00051440s], fibonacci(4)->3\n[0.00057429s], fibonacci(5)->5\n[0.00063515s], fibonacci(6)->8\n[0.00069588s], fibonacci(7)->13\n[0.00075633s], fibonacci(8)->21\n[0.00081657s], fibonacci(9)->34\n[0.00087752s], fibonacci(10)->55\n[0.00093953s], fibonacci(11)->89\n[0.00100034s], fibonacci(12)->144\n[0.00106105s], fibonacci(13)->233\n[0.00112137s], fibonacci(14)->377\n[0.00118104s], fibonacci(15)->610\n[0.00140605s], fibonacci(16)->987\n[0.00151805s], fibonacci(17)->1597\n[0.00160385s], fibonacci(18)->2584\n[0.00167972s], fibonacci(19)->4181\n[0.00174291s], fibonacci(20)->6765\n[0.00180859s], fibonacci(21)->10946\n[0.00187791s], fibonacci(22)->17711\n[0.00196103s], fibonacci(23)->28657\n[0.00207032s], fibonacci(24)->46368\n[0.00217286s], fibonacci(25)->75025\n[0.00230053s], fibonacci(26)->121393\n[0.00261563s], fibonacci(27)->196418\n[0.00278960s], fibonacci(28)->317811\n[0.00299329s], fibonacci(29)->514229\n[0.00315503s], fibonacci(30)->832040\n"
     ]
    },
    {
     "output_type": "execute_result",
     "data": {
      "text/plain": [
       "832040"
      ]
     },
     "metadata": {},
     "execution_count": 99
    }
   ],
   "source": [
    "from clockdeco import clock\n",
    "import functools\n",
    "\n",
    "# lru_cache作用于clock修饰返回的函数。如果顺序调换，就不对了！！！\n",
    "@functools.lru_cache\n",
    "@clock\n",
    "def fibonacci(n):\n",
    "    if n < 2 :\n",
    "        return n\n",
    "    return fibonacci(n-1) + fibonacci(n-2)\n",
    "\n",
    "\n",
    "fibonacci(30)"
   ]
  },
  {
   "source": [
    "#  functools.singledispatch\n",
    "\n",
    "python不支持函数/方法重载。\n",
    "\n",
    "使用 @singledispatch 装饰的普通函数会变成泛函数(genericfunction):根据第一个参数的类型，以不同方式执行相同操作的一组函数\n",
    "\n",
    "singledispatch 创建一个自定义的 htmlize.register 装饰器，把多个函数绑在一起组成一个泛函数\n"
   ],
   "cell_type": "markdown",
   "metadata": {}
  },
  {
   "cell_type": "code",
   "execution_count": 2,
   "metadata": {},
   "outputs": [],
   "source": [
    "from functools import singledispatch\n",
    "from collections import abc\n",
    "import numbers\n",
    "import html\n",
    "\n",
    "\n",
    "@singledispatch\n",
    "def htmlize(obj):\n",
    "    content = html.escape(repr(obj))\n",
    "    return '<pre>{}</pre>'.format(content)\n",
    "\n",
    "\n",
    "@htmlize.register(str)\n",
    "def _(text):\n",
    "    content = html.escape(text).replace('\\n', '<br>\\n')\n",
    "    return '<p>{0}</p>'.format(content)\n",
    "\n"
   ]
  },
  {
   "cell_type": "code",
   "execution_count": 8,
   "metadata": {},
   "outputs": [
    {
     "output_type": "execute_result",
     "data": {
      "text/plain": [
       "<code object register at 0x7fd45cb95190, file \"/Users/liuzhongkai/opt/anaconda3/lib/python3.8/functools.py\", line 837>"
      ]
     },
     "metadata": {},
     "execution_count": 8
    }
   ],
   "source": [
    "htmlize.register.__code__"
   ]
  },
  {
   "source": [
    "# 叠放装饰器"
   ],
   "cell_type": "markdown",
   "metadata": {}
  },
  {
   "cell_type": "code",
   "execution_count": null,
   "metadata": {},
   "outputs": [],
   "source": [
    "@d1\n",
    "@d2\n",
    "def f():\n",
    "    pass\n",
    "\n",
    "# 等价于：\n",
    "\n",
    "r = d1(d2(f))"
   ]
  },
  {
   "source": [
    "# 参数化装饰器"
   ],
   "cell_type": "markdown",
   "metadata": {}
  },
  {
   "cell_type": "code",
   "execution_count": 33,
   "metadata": {},
   "outputs": [
    {
     "output_type": "stream",
     "name": "stdout",
     "text": [
      "register(active = True) -> decorate(<function func01 at 0x7fd464f0dee0>)\nregister(active = True) -> decorate(<function func02 at 0x7fd462a14550>)\nregister(active = False) -> decorate(<function func03 at 0x7fd464f0d4c0>)\nregister(active = False) -> decorate(<function func02 at 0x7fd4655ddca0>)\ndecorate_inner_func is running\nfunc01 is running! \n\n"
     ]
    },
    {
     "output_type": "execute_result",
     "data": {
      "text/plain": [
       "['<function func01 at 0x7fd464f0dee0>']"
      ]
     },
     "metadata": {},
     "execution_count": 33
    }
   ],
   "source": [
    "# 将之前策略方案中的修饰器进行改写。添加一个额外的参数————是否开启。\n",
    "registry = set()\n",
    "def register(active = True):    # 修饰器函数不再用func作为参数导入，而此时该函数为修饰器工厂函数！！！\n",
    "    def decorate(func):         # 此为真正的修饰器函数！其参数是一个函数！\n",
    "        print(\"register(active = %s) -> decorate(%s)\"%(active, func))\n",
    "        def decorate_inner_func(*args): # 修饰器内部的函数，用来做一些操作！\n",
    "            print(\"decorate_inner_func is running\")\n",
    "            if active:\n",
    "                registry.add(func)\n",
    "            else:\n",
    "                registry.discard(func)\n",
    "            return func\n",
    "        return decorate_inner_func\n",
    "    return decorate\n",
    "\n",
    "\n",
    "@register(True)\n",
    "def func01():\n",
    "    print(\"func01 is running! \\n\")\n",
    "\n",
    "@register() # 使用装饰器工厂函数时，需要在后面添加(),可以理解为： registter(active)(func),因为修饰器默认隐藏参数，因此第二个括号就可以不写了，但是第一个要保留下来！\n",
    "def func02():\n",
    "    print(\"func02 is running! \\n\")\n",
    "\n",
    "@register(False)\n",
    "def func03():\n",
    "    print(\"func03 is running! \\n\")\n",
    "\n",
    "@register(False)\n",
    "def func02():\n",
    "    print(\"func03 is running! \\n\")\n",
    "\n",
    "func01()() # 如果想的到func的返回只，我们需要再次\b让函数运算，因此使用了两个括号。看起来有些奇怪。\n",
    "# 我们可以将上面的decorate_inner_func（）的返回值改为return func()，这里就不用使用两个括号的奇怪写法。\n",
    "\n",
    "\n",
    "[repr(f) for f in registry] # 没有func02和func03，因为func02第二次又给去除了，func03压根就没有注册进去\n"
   ]
  },
  {
   "cell_type": "code",
   "execution_count": 46,
   "metadata": {},
   "outputs": [
    {
     "output_type": "stream",
     "name": "stdout",
     "text": [
      "[0.00000000s] factorial_new(1)\n[0.00036287s] factorial_new(2)\n[0.00039220s] factorial_new(3)\n[0.00041223s] factorial_new(4)\n"
     ]
    },
    {
     "output_type": "execute_result",
     "data": {
      "text/plain": [
       "24"
      ]
     },
     "metadata": {},
     "execution_count": 46
    }
   ],
   "source": [
    "# 参数化clock修饰器\n",
    "import time\n",
    "\n",
    "\n",
    "DEFUALT_FMT = \"[{elapsed:.8f}s] {name}({args}) -> {result}\"\n",
    "def clock_n(fmt = DEFUALT_FMT):\n",
    "    def decorate(func):\n",
    "        def clocked(*_args):\n",
    "            t0 = time.time()\n",
    "            _result = func(*_args)\n",
    "            elapsed = time.time() - t0\n",
    "            name = func.__name__\n",
    "            args = ', '.join([repr(arg) for arg in _args])\n",
    "            result = repr(_result)\n",
    "            print(fmt.format(**locals()))\n",
    "            return _result\n",
    "        return clocked\n",
    "    return decorate\n",
    "\n",
    "\n",
    "\n",
    "FMT = \"[{elapsed:.8f}s] {name}({args})\"\n",
    "@clock_n(FMT)\n",
    "def factorial_new(num):\n",
    "    if num < 2:\n",
    "        return 1\n",
    "    return factorial_new(num - 1) * num\n",
    "\n",
    "factorial_new(4)\n"
   ]
  },
  {
   "source": [
    "# 7.11 本章小结 \n",
    "本章介绍了很多基础知识，虽然学习之路崎岖不平，我还是尽可能让路\n",
    "途平坦顺畅。毕竟，我们已经进入元编程领域了。 \n",
    "\n",
    "开始，我们先编写了一个没有内部函数的 @register 装饰器;最后，\n",
    "我们实现了有两层嵌套函数的参数化装饰器 @clock()。 尽管注册装饰器在多数情况下都很简单，但是在高级的 Python 框架中却\n",
    "有用武之地。我们使用注册方式对第 6 章的“策略”模式做了重构。\n",
    "\n",
    "参数化装饰器基本上都涉及至少两层嵌套函数，如果想使用 @functools.wraps 生成装饰器，为高级技术提供更好的支持，嵌套 层级可能还会更深，比如前面简要介绍过的叠放装饰器。\n",
    "\n",
    "我们还讨论了标准库中 functools 模块提供的两个出色的函数装饰 器:@lru_cache() 和 @singledispatch。\n",
    "\n",
    "若想真正理解装饰器，需要区分导入时和运行时，还要知道变量作用 域、闭包和新增的 nonlocal 声明。掌握闭包和 nonlocal 不仅对构\n",
    "建装饰器有帮助，还能协助你在构建 GUI 程序时面向事件编程，或者使 用回调处理异步 I/O。"
   ],
   "cell_type": "markdown",
   "metadata": {}
  }
 ]
}