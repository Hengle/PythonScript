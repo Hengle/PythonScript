{
 "metadata": {
  "language_info": {
   "codemirror_mode": {
    "name": "ipython",
    "version": 3
   },
   "file_extension": ".py",
   "mimetype": "text/x-python",
   "name": "python",
   "nbconvert_exporter": "python",
   "pygments_lexer": "ipython3",
   "version": "3.8.1-final"
  },
  "orig_nbformat": 2,
  "kernelspec": {
   "name": "pycharm-7376436b",
   "display_name": "PyCharm (PythonScript)",
   "language": "python"
  }
 },
 "nbformat": 4,
 "nbformat_minor": 2,
 "cells": [
  {
   "source": [
    "# 变量不是盒子，而是标注"
   ],
   "cell_type": "markdown",
   "metadata": {}
  },
  {
   "cell_type": "code",
   "execution_count": 1,
   "metadata": {},
   "outputs": [
    {
     "output_type": "execute_result",
     "data": {
      "text/plain": [
       "[1, 2, 3, 4]"
      ]
     },
     "metadata": {},
     "execution_count": 1
    }
   ],
   "source": [
    "\n",
    "a = [1,2,3]\n",
    "b = a\n",
    "a.append(4)\n",
    "b"
   ]
  },
  {
   "cell_type": "code",
   "execution_count": 2,
   "metadata": {},
   "outputs": [
    {
     "output_type": "execute_result",
     "data": {
      "text/plain": [
       "4"
      ]
     },
     "metadata": {},
     "execution_count": 2
    }
   ],
   "source": [
    "a = 4\n",
    "b = a\n",
    "a = 6\n",
    "b"
   ]
  },
  {
   "source": [
    "# 标识、相等性和别名"
   ],
   "cell_type": "markdown",
   "metadata": {}
  },
  {
   "cell_type": "code",
   "execution_count": 4,
   "metadata": {},
   "outputs": [
    {
     "output_type": "execute_result",
     "data": {
      "text/plain": [
       "True"
      ]
     },
     "metadata": {},
     "execution_count": 4
    }
   ],
   "source": [
    "liu = {'name':'zhongkai liu', 'born':1990}\n",
    "xxx = liu\n",
    "xxx is liu"
   ]
  },
  {
   "cell_type": "code",
   "execution_count": 5,
   "metadata": {},
   "outputs": [
    {
     "output_type": "execute_result",
     "data": {
      "text/plain": [
       "(140294907731584, 140294907731584)"
      ]
     },
     "metadata": {},
     "execution_count": 5
    }
   ],
   "source": [
    "id(xxx), id(liu)"
   ]
  },
  {
   "cell_type": "code",
   "execution_count": 6,
   "metadata": {},
   "outputs": [
    {
     "output_type": "execute_result",
     "data": {
      "text/plain": [
       "{'name': 'zhongkai liu', 'born': 1990, 'balance': 950}"
      ]
     },
     "metadata": {},
     "execution_count": 6
    }
   ],
   "source": [
    "xxx['balance'] = 950\n",
    "liu"
   ]
  },
  {
   "source": [
    "- == 运算符比较两个对象的值（对象中保存的数据）\n",
    "- is 比较对象的标识（计算速度快）\n",
    "\n",
    "`a == b`其背后计算为：\n",
    "\n",
    "`a.__eq__(b)`"
   ],
   "cell_type": "markdown",
   "metadata": {}
  },
  {
   "cell_type": "code",
   "execution_count": 7,
   "metadata": {},
   "outputs": [
    {
     "output_type": "execute_result",
     "data": {
      "text/plain": [
       "True"
      ]
     },
     "metadata": {},
     "execution_count": 7
    }
   ],
   "source": [
    "alex = {'name': 'zhongkai liu', 'born': 1990, 'balance': 950}\n",
    "\n",
    "alex == liu"
   ]
  },
  {
   "cell_type": "code",
   "execution_count": 8,
   "metadata": {},
   "outputs": [
    {
     "output_type": "execute_result",
     "data": {
      "text/plain": [
       "False"
      ]
     },
     "metadata": {},
     "execution_count": 8
    }
   ],
   "source": [
    "alex is liu"
   ]
  },
  {
   "source": [
    "is 运算符比 == 速度快，因为它不能重载，所以 Python 不用寻找并调\n",
    "用特殊方法，而是直接比较两个整数 ID。而 a == b 是语法糖，等同\n",
    "于 a.\\_\\_eq\\_\\_(b)。继承自 object 的 \\_\\_eq\\_\\_ 方法比较两个对象的\n",
    "ID，结果与 is 一样。但是多数内置类型使用更有意义的方式覆盖了\n",
    "\\_\\_eq\\_\\_ 方法，会考虑对象属性的值。相等性测试可能涉及大量处理工 作，例如，比较大型集合或嵌套层级深的结构时。"
   ],
   "cell_type": "markdown",
   "metadata": {}
  },
  {
   "source": [
    "# 元组的相对不可变性"
   ],
   "cell_type": "markdown",
   "metadata": {}
  },
  {
   "cell_type": "code",
   "execution_count": 9,
   "metadata": {},
   "outputs": [
    {
     "output_type": "execute_result",
     "data": {
      "text/plain": [
       "True"
      ]
     },
     "metadata": {},
     "execution_count": 9
    }
   ],
   "source": [
    "t1 = (1,2,[30,40])\n",
    "t2 = (1,2,[30,40])\n",
    "\n",
    "t1 == t2"
   ]
  },
  {
   "cell_type": "code",
   "execution_count": 10,
   "metadata": {},
   "outputs": [
    {
     "output_type": "execute_result",
     "data": {
      "text/plain": [
       "False"
      ]
     },
     "metadata": {},
     "execution_count": 10
    }
   ],
   "source": [
    "t1 is t2"
   ]
  },
  {
   "cell_type": "code",
   "execution_count": 11,
   "metadata": {},
   "outputs": [
    {
     "output_type": "execute_result",
     "data": {
      "text/plain": [
       "140294905825984"
      ]
     },
     "metadata": {},
     "execution_count": 11
    }
   ],
   "source": [
    "id(t1[-1])"
   ]
  },
  {
   "cell_type": "code",
   "execution_count": 12,
   "metadata": {},
   "outputs": [
    {
     "output_type": "execute_result",
     "data": {
      "text/plain": [
       "140294905825984"
      ]
     },
     "metadata": {},
     "execution_count": 12
    }
   ],
   "source": [
    "t1[-1].append(99)\n",
    "\n",
    "id(t1[-1])"
   ]
  },
  {
   "cell_type": "code",
   "execution_count": 13,
   "metadata": {},
   "outputs": [
    {
     "output_type": "execute_result",
     "data": {
      "text/plain": [
       "(1, 2, [30, 40, 99])"
      ]
     },
     "metadata": {},
     "execution_count": 13
    }
   ],
   "source": [
    "t1"
   ]
  },
  {
   "cell_type": "code",
   "execution_count": 14,
   "metadata": {},
   "outputs": [
    {
     "output_type": "execute_result",
     "data": {
      "text/plain": [
       "False"
      ]
     },
     "metadata": {},
     "execution_count": 14
    }
   ],
   "source": [
    "t1 == t2"
   ]
  },
  {
   "source": [
    "# 默认做浅复制\n",
    "\n",
    "为数组制作一个副本的方法（浅复制）\n",
    "- 构造器\n",
    "- \\[:\\]法"
   ],
   "cell_type": "markdown",
   "metadata": {}
  },
  {
   "cell_type": "code",
   "execution_count": 15,
   "metadata": {},
   "outputs": [
    {
     "output_type": "execute_result",
     "data": {
      "text/plain": [
       "True"
      ]
     },
     "metadata": {},
     "execution_count": 15
    }
   ],
   "source": [
    "# 创建副本（可散列数据）\n",
    "l1 = [3,[55,44],(7,8,9)]\n",
    "\n",
    "# 这样只是将变量作为数据的标注进行了绑定，并没有创建副本！\n",
    "l2 = l1\n",
    "l2 is l1"
   ]
  },
  {
   "cell_type": "code",
   "execution_count": 16,
   "metadata": {},
   "outputs": [
    {
     "output_type": "execute_result",
     "data": {
      "text/plain": [
       "False"
      ]
     },
     "metadata": {},
     "execution_count": 16
    }
   ],
   "source": [
    "# 使用构造法创建副本\n",
    "l3 = list(l1)\n",
    "l3 is l1"
   ]
  },
  {
   "cell_type": "code",
   "execution_count": 17,
   "metadata": {},
   "outputs": [
    {
     "output_type": "execute_result",
     "data": {
      "text/plain": [
       "True"
      ]
     },
     "metadata": {},
     "execution_count": 17
    }
   ],
   "source": [
    "l3 == l1"
   ]
  },
  {
   "cell_type": "code",
   "execution_count": 22,
   "metadata": {},
   "outputs": [
    {
     "output_type": "execute_result",
     "data": {
      "text/plain": [
       "False"
      ]
     },
     "metadata": {},
     "execution_count": 22
    }
   ],
   "source": [
    "# 使用[:]创建副本\n",
    "l4 = l1[:]\n",
    "l4 is l1"
   ]
  },
  {
   "cell_type": "code",
   "execution_count": 21,
   "metadata": {},
   "outputs": [
    {
     "output_type": "execute_result",
     "data": {
      "text/plain": [
       "True"
      ]
     },
     "metadata": {},
     "execution_count": 21
    }
   ],
   "source": [
    "l4 == l1"
   ]
  },
  {
   "source": [
    "# 浅复制和深复制\n",
    "\n",
    "- copy.copy():浅复制\n",
    "- copy.deepcopy():深复制"
   ],
   "cell_type": "markdown",
   "metadata": {}
  },
  {
   "cell_type": "code",
   "execution_count": 24,
   "metadata": {},
   "outputs": [],
   "source": [
    "# 测试浅复制和深复制\n",
    "class Bus:\n",
    "\n",
    "    def __init__(self, passengers=None):\n",
    "        if passengers is None:\n",
    "            self.passengers = []\n",
    "        else:\n",
    "            self.passengers = list(passengers)\n",
    "    \n",
    "    def pick(self, name):\n",
    "        self.passengers.append(name)\n",
    "\n",
    "    def drop(self, name):\n",
    "        self.passengers.remove(name)\n"
   ]
  },
  {
   "cell_type": "code",
   "execution_count": 28,
   "metadata": {},
   "outputs": [
    {
     "output_type": "execute_result",
     "data": {
      "text/plain": [
       "(140294918052208, 140294918050000, 140294918053360)"
      ]
     },
     "metadata": {},
     "execution_count": 28
    }
   ],
   "source": [
    "import copy\n",
    "\n",
    "bus1 = Bus(['Alice', 'Bill', 'Claire', 'David'])\n",
    "bus2 = copy.copy(bus1) # 浅复制\n",
    "bus3 = copy.deepcopy(bus1) # 深复制\n",
    "\n",
    "id(bus1),id(bus2),id(bus3)"
   ]
  },
  {
   "cell_type": "code",
   "execution_count": 29,
   "metadata": {},
   "outputs": [
    {
     "output_type": "execute_result",
     "data": {
      "text/plain": [
       "['Alice', 'Claire', 'David']"
      ]
     },
     "metadata": {},
     "execution_count": 29
    }
   ],
   "source": [
    "bus1.drop('Bill')\n",
    "# 浅复制结果\n",
    "bus2.passengers"
   ]
  },
  {
   "cell_type": "code",
   "execution_count": 32,
   "metadata": {},
   "outputs": [
    {
     "output_type": "execute_result",
     "data": {
      "text/plain": [
       "['Alice', 'Bill', 'Claire', 'David']"
      ]
     },
     "metadata": {},
     "execution_count": 32
    }
   ],
   "source": [
    "# 深复制不会有这样的问题\n",
    "bus3.passengers"
   ]
  },
  {
   "source": [
    "# 深复制甚至可以应付循环引用"
   ],
   "cell_type": "markdown",
   "metadata": {}
  },
  {
   "cell_type": "code",
   "execution_count": 33,
   "metadata": {},
   "outputs": [
    {
     "output_type": "execute_result",
     "data": {
      "text/plain": [
       "[10, 20, [[...], 30]]"
      ]
     },
     "metadata": {},
     "execution_count": 33
    }
   ],
   "source": [
    "# 循环引用\n",
    "a = [10, 20]\n",
    "b = [a, 30]\n",
    "a.append(b)\n",
    "a"
   ]
  },
  {
   "cell_type": "code",
   "execution_count": 35,
   "metadata": {},
   "outputs": [
    {
     "output_type": "execute_result",
     "data": {
      "text/plain": [
       "[10, 20, [[...], 30]]"
      ]
     },
     "metadata": {},
     "execution_count": 35
    }
   ],
   "source": [
    "# 深复制依然可以应付这样的循环引用\n",
    "c = copy.deepcopy(a)\n",
    "c"
   ]
  },
  {
   "source": [
    "# 函数的参数作为引用时\n",
    "\n",
    "Python 唯一支持的参数传递模式是共享传参(call by sharing)。\n",
    "\n",
    "共享传参指函数的各个形式参数获得实参中各个引用的副本。也就是 说，函数内部的形参是实参的别名。\n",
    "\n",
    "**因此函数可能会修改接收到的任何可变对象**"
   ],
   "cell_type": "markdown",
   "metadata": {}
  },
  {
   "cell_type": "code",
   "execution_count": 39,
   "metadata": {},
   "outputs": [
    {
     "output_type": "execute_result",
     "data": {
      "text/plain": [
       "((10, 20, 30, 40), (10, 20), (30, 40))"
      ]
     },
     "metadata": {},
     "execution_count": 39
    }
   ],
   "source": [
    "def f(a, b):\n",
    "    a += b\n",
    "    return a\n",
    "\n",
    "# 不可变类型\n",
    "t = (10, 20)\n",
    "u = (30, 40)\n",
    "f(t, u), t ,u"
   ]
  },
  {
   "cell_type": "code",
   "execution_count": 40,
   "metadata": {},
   "outputs": [
    {
     "output_type": "execute_result",
     "data": {
      "text/plain": [
       "([1, 2, 3, 4], [1, 2, 3, 4], [3, 4])"
      ]
     },
     "metadata": {},
     "execution_count": 40
    }
   ],
   "source": [
    "# 可变类型\n",
    "a = [1, 2]\n",
    "b = [3, 4]\n",
    "f(a, b), a, b"
   ]
  },
  {
   "source": [
    "## 不要使用可变类型作为参数的默认值"
   ],
   "cell_type": "markdown",
   "metadata": {}
  },
  {
   "cell_type": "code",
   "execution_count": 42,
   "metadata": {},
   "outputs": [],
   "source": [
    "# 如果bus类的passenger默认值不是None而是一个列表，这样的“聪明举动”会导致诡异结果：\n",
    "\n",
    "class HauntedBus:\n",
    "    \"\"\"备受幽灵乘客折麽的校车\"\"\"\n",
    "\n",
    "    def __init__(self, passengers=[]) :\n",
    "        '''直接使用可变类型作为默认值'''\n",
    "        self.passengers = passengers\n",
    "\n",
    "    def pick(self, name):\n",
    "        self.passengers.append(name)\n",
    "\n",
    "    def drop(self, name):\n",
    "        self.passengers.remove(name)\n"
   ]
  },
  {
   "cell_type": "code",
   "execution_count": 43,
   "metadata": {},
   "outputs": [
    {
     "output_type": "execute_result",
     "data": {
      "text/plain": [
       "['Alice', 'Bill']"
      ]
     },
     "metadata": {},
     "execution_count": 43
    }
   ],
   "source": [
    "hbus1 = HauntedBus(['Alice', 'Bill'])\n",
    "hbus1.passengers"
   ]
  },
  {
   "cell_type": "code",
   "execution_count": 44,
   "metadata": {},
   "outputs": [
    {
     "output_type": "execute_result",
     "data": {
      "text/plain": [
       "['Bill', 'Charlie']"
      ]
     },
     "metadata": {},
     "execution_count": 44
    }
   ],
   "source": [
    "hbus1.pick('Charlie')\n",
    "hbus1.drop('Alice')\n",
    "hbus1.passengers"
   ]
  },
  {
   "cell_type": "code",
   "execution_count": 45,
   "metadata": {},
   "outputs": [
    {
     "output_type": "execute_result",
     "data": {
      "text/plain": [
       "['Carrie']"
      ]
     },
     "metadata": {},
     "execution_count": 45
    }
   ],
   "source": [
    "# 创建实例时，使用默认值\n",
    "hbus2 = HauntedBus()\n",
    "hbus2.pick('Carrie')\n",
    "hbus2.passengers"
   ]
  },
  {
   "cell_type": "code",
   "execution_count": 46,
   "metadata": {},
   "outputs": [
    {
     "output_type": "execute_result",
     "data": {
      "text/plain": [
       "['Carrie']"
      ]
     },
     "metadata": {},
     "execution_count": 46
    }
   ],
   "source": [
    "# bus3也使用默认值\n",
    "hbus3 = HauntedBus()\n",
    "hbus3.passengers"
   ]
  },
  {
   "cell_type": "code",
   "execution_count": 47,
   "metadata": {},
   "outputs": [
    {
     "output_type": "execute_result",
     "data": {
      "text/plain": [
       "True"
      ]
     },
     "metadata": {},
     "execution_count": 47
    }
   ],
   "source": [
    "# 虽然是不同的实例，但是因为使用了默认值，他们的属性却指向同一个位置，即默认列表\n",
    "# 没有指定初始乘客的 HauntedBus 实例会共享同一个乘客列表。\n",
    "hbus3.passengers is hbus2.passengers"
   ]
  },
  {
   "source": [
    "出现这个问题的根源是，默认值在定义函数时计算 (通常在加载模块时)，因此默认值变成了函数对象的属性。因此，如 果默认值是可变对象，而且修改了它的值，那么后续的函数调用都会受 到影响。"
   ],
   "cell_type": "markdown",
   "metadata": {}
  },
  {
   "cell_type": "code",
   "execution_count": 48,
   "metadata": {},
   "outputs": [
    {
     "output_type": "execute_result",
     "data": {
      "text/plain": [
       "(['Carrie'],)"
      ]
     },
     "metadata": {},
     "execution_count": 48
    }
   ],
   "source": [
    "# 此时HauntedBus类的属性也已经变了：\n",
    "HauntedBus.__init__.__defaults__"
   ]
  },
  {
   "cell_type": "code",
   "execution_count": 51,
   "metadata": {},
   "outputs": [
    {
     "output_type": "execute_result",
     "data": {
      "text/plain": [
       "True"
      ]
     },
     "metadata": {},
     "execution_count": 51
    }
   ],
   "source": [
    "# 实例的属性不过是类属性的别称，他们指向了同一块内存。\n",
    "HauntedBus.__init__.__defaults__[0] is hbus3.passengers"
   ]
  },
  {
   "source": [
    "# 防御可变参数\n",
    "\n",
    "第一个例子中，我们将传入的人员列表进行了浅复制，因此我们对乘客的修改并不会原始形参的列表，当我们不实用这种方法时，就会出现一些“惊讶”结果：\n"
   ],
   "cell_type": "markdown",
   "metadata": {}
  },
  {
   "cell_type": "code",
   "execution_count": 54,
   "metadata": {},
   "outputs": [],
   "source": [
    "class TwilightBus:\n",
    "\n",
    "    def __init__(self, passengers=None):\n",
    "        if passengers is None:\n",
    "            self.passengers = []\n",
    "        else:\n",
    "             # 这里只是将别称绑定到形参上，并没有创建新的列表。\n",
    "            # self.passengers = list(passengers)\n",
    "            self.passengers = passengers\n",
    "    \n",
    "    def pick(self, name):\n",
    "        self.passengers.append(name)\n",
    "\n",
    "    def drop(self, name):\n",
    "        self.passengers.remove(name)"
   ]
  },
  {
   "cell_type": "code",
   "execution_count": 55,
   "metadata": {},
   "outputs": [
    {
     "output_type": "execute_result",
     "data": {
      "text/plain": [
       "['Sue', 'Diana', 'Pat']"
      ]
     },
     "metadata": {},
     "execution_count": 55
    }
   ],
   "source": [
    "basketball_team = ['Sue', 'Tina', 'Maya', 'Diana', 'Pat']\n",
    "tbus = TwilightBus(basketball_team)\n",
    "tbus.drop('Tina')\n",
    "tbus.drop('Maya')\n",
    "# 实例的操作修改到了传入的形参，有时这并是不我们想要的。\n",
    "basketball_team"
   ]
  },
  {
   "source": [
    "### 除非这个方法确实想修改通过参数传入的对象，否则在类中 直接把参数赋值给实例变量之前一定要三思，因为这样会为参数对 象创建别名。如果不确定，那就创建副本。这样客户会少些麻烦。"
   ],
   "cell_type": "markdown",
   "metadata": {}
  },
  {
   "source": [
    "# del 和 垃圾回收\n",
    "del 语句删除名称，而不是对象。del 命令可能会导致对象被当作垃圾\n",
    "回收，但是仅当删除的变量保存的是对象的最后一个引用，或者无法得 到对象时。2 重新绑定也可能会导致对象的引用数量归零，导致对象被 销毁。\n"
   ],
   "cell_type": "markdown",
   "metadata": {}
  },
  {
   "cell_type": "code",
   "execution_count": 65,
   "metadata": {},
   "outputs": [
    {
     "output_type": "execute_result",
     "data": {
      "text/plain": [
       "True"
      ]
     },
     "metadata": {},
     "execution_count": 65
    }
   ],
   "source": [
    "# 观察是如何GC的：\n",
    "import weakref\n",
    "\n",
    "# 创建一个集合\n",
    "s1 = {1,2,3}\n",
    "s2 = s1 # s2是s1的别称\n",
    "def bye():\n",
    "    print('Gone with the wind ...')\n",
    "\n",
    "# finalize()函数可以在第一个参数被GC时回调第二参数（传入一个函数）\n",
    "ender = weakref.finalize(s1, bye)\n",
    "ender.alive"
   ]
  },
  {
   "cell_type": "code",
   "execution_count": 66,
   "metadata": {},
   "outputs": [
    {
     "output_type": "execute_result",
     "data": {
      "text/plain": [
       "True"
      ]
     },
     "metadata": {},
     "execution_count": 66
    }
   ],
   "source": [
    "# s1绑定的集合并没有直接删除，而是删除了这个别名\n",
    "# 此时集合还绑定给了s2，因此集合还没有回收\n",
    "del s1\n",
    "ender.alive"
   ]
  },
  {
   "cell_type": "code",
   "execution_count": 67,
   "metadata": {},
   "outputs": [
    {
     "output_type": "stream",
     "name": "stdout",
     "text": [
      "Gone with the wind ...\n"
     ]
    }
   ],
   "source": [
    "# 把s2绑定给了其他数据后,集合被回收了，并且回调了我们的bye()函数：\n",
    "s2 = 'spam'"
   ]
  },
  {
   "cell_type": "code",
   "execution_count": 68,
   "metadata": {},
   "outputs": [
    {
     "output_type": "execute_result",
     "data": {
      "text/plain": [
       "False"
      ]
     },
     "metadata": {},
     "execution_count": 68
    }
   ],
   "source": [
    "ender.alive"
   ]
  },
  {
   "cell_type": "code",
   "execution_count": null,
   "metadata": {},
   "outputs": [],
   "source": [
    "# 引用分为两种：\n",
    "# 强引用 ：会影响GC\n",
    "# 弱引用 ：不会影响GC"
   ]
  },
  {
   "source": [
    "# 弱引用\n",
    "\n",
    "弱引用不会增加对象的引用数量。引用的目标对象称为所指对象 (referent)。因此我们说，弱引用不会妨碍所指对象被当作垃圾回收。"
   ],
   "cell_type": "markdown",
   "metadata": {}
  },
  {
   "cell_type": "code",
   "execution_count": 113,
   "metadata": {},
   "outputs": [
    {
     "output_type": "execute_result",
     "data": {
      "text/plain": [
       "<weakref at 0x7f98f35fc630; to 'set' at 0x7f98f35b9740>"
      ]
     },
     "metadata": {},
     "execution_count": 113
    }
   ],
   "source": [
    "# 控制台会话中，会自动使用_变量来绑定到不为None的结果上！\n",
    "import weakref\n",
    "a_set = {0, 1 , 2}\n",
    "wref = weakref.ref(a_set) # 创建弱引用\n",
    "wref"
   ]
  },
  {
   "cell_type": "code",
   "execution_count": 114,
   "metadata": {},
   "outputs": [
    {
     "output_type": "execute_result",
     "data": {
      "text/plain": [
       "{0, 1, 2}"
      ]
     },
     "metadata": {},
     "execution_count": 114
    }
   ],
   "source": [
    "wref()"
   ]
  },
  {
   "cell_type": "code",
   "execution_count": 115,
   "metadata": {},
   "outputs": [],
   "source": [
    "a_set = {3,4,5} # 不再指向{0,1}"
   ]
  },
  {
   "cell_type": "code",
   "execution_count": 116,
   "metadata": {},
   "outputs": [
    {
     "output_type": "execute_result",
     "data": {
      "text/plain": [
       "{0, 1, 2}"
      ]
     },
     "metadata": {},
     "execution_count": 116
    }
   ],
   "source": [
    "wref()"
   ]
  },
  {
   "cell_type": "code",
   "execution_count": 117,
   "metadata": {},
   "outputs": [
    {
     "output_type": "execute_result",
     "data": {
      "text/plain": [
       "<weakref at 0x7f98f35fc630; to 'set' at 0x7f98f35b9740>"
      ]
     },
     "metadata": {},
     "execution_count": 117
    }
   ],
   "source": [
    "wref"
   ]
  },
  {
   "cell_type": "code",
   "execution_count": 120,
   "metadata": {},
   "outputs": [
    {
     "output_type": "execute_result",
     "data": {
      "text/plain": [
       "False"
      ]
     },
     "metadata": {},
     "execution_count": 120
    }
   ],
   "source": [
    "wref() is None"
   ]
  },
  {
   "cell_type": "code",
   "execution_count": 122,
   "metadata": {},
   "outputs": [
    {
     "output_type": "stream",
     "name": "stdout",
     "text": [
      "nothing\n"
     ]
    }
   ],
   "source": [
    "print('nothing')"
   ]
  },
  {
   "cell_type": "code",
   "execution_count": 123,
   "metadata": {},
   "outputs": [
    {
     "output_type": "execute_result",
     "data": {
      "text/plain": [
       "False"
      ]
     },
     "metadata": {},
     "execution_count": 123
    }
   ],
   "source": [
    "wref() is None"
   ]
  },
  {
   "cell_type": "code",
   "execution_count": 125,
   "metadata": {},
   "outputs": [
    {
     "output_type": "execute_result",
     "data": {
      "text/plain": [
       "0.6201550387596899"
      ]
     },
     "metadata": {},
     "execution_count": 125
    }
   ],
   "source": [
    "8000.0/12900.0"
   ]
  },
  {
   "source": [
    "# WeakValueDictionary\n",
    "WeakValueDictionary 类实现的是一种可变映射，里面的值是对象 的弱引用。被引用的对象在程序中的其他地方被当作垃圾回收后，对应 的键会自动从 WeakValueDictionary 中删除。因此，WeakValueDictionary 经常用于缓存。"
   ],
   "cell_type": "markdown",
   "metadata": {}
  },
  {
   "cell_type": "code",
   "execution_count": 12,
   "metadata": {},
   "outputs": [
    {
     "output_type": "execute_result",
     "data": {
      "text/plain": [
       "['Brie', 'Parmesan', 'Red Leicester', 'Tilsit']"
      ]
     },
     "metadata": {},
     "execution_count": 12
    }
   ],
   "source": [
    "import weakref\n",
    "\n",
    "class Cheese:\n",
    "    def __init__(self, kind):\n",
    "        self.kind = kind\n",
    "    \n",
    "    def __repr__(self):\n",
    "        return 'Cheese(%r)' % self.kind\n",
    "\n",
    "    \n",
    "stock = weakref.WeakValueDictionary()\n",
    "catalog = [Cheese('Red Leicester'), Cheese('Tilsit'),\n",
    "            Cheese('Brie'), Cheese('Parmesan')]\n",
    "\n",
    "for cheese in catalog:\n",
    "    stock[cheese.kind] = cheese\n",
    "\n",
    "sorted(stock.keys())"
   ]
  },
  {
   "cell_type": "code",
   "execution_count": 13,
   "metadata": {},
   "outputs": [
    {
     "output_type": "execute_result",
     "data": {
      "text/plain": [
       "['Parmesan']"
      ]
     },
     "metadata": {},
     "execution_count": 13
    }
   ],
   "source": [
    "# 由于cheese作为全局变量，其实还没有del，\n",
    "# 它还在引用catalog列表中最后一个元素\n",
    "del catalog\n",
    "sorted(stock.keys())"
   ]
  },
  {
   "cell_type": "code",
   "execution_count": 14,
   "metadata": {},
   "outputs": [
    {
     "output_type": "execute_result",
     "data": {
      "text/plain": [
       "[]"
      ]
     },
     "metadata": {},
     "execution_count": 14
    }
   ],
   "source": [
    "del cheese\n",
    "sorted(stock.keys())"
   ]
  },
  {
   "source": [
    "## WeakKeyDictionary\n",
    "可以为应用中其他部分拥有的**对象附加数据**，这样就无需为对象添加属性。这对覆盖属性访问权限的对象尤其有用。\n",
    "\n",
    "## WeakSet\n",
    "“保存元素弱引用的集合类。元素没有强引用时，集合会把它 删除。”\n",
    "\n",
    "如果一个类需要知道所有实例，一种好的方案是创建一个WeakSet 类型的类属性，保存实例的引用。"
   ],
   "cell_type": "markdown",
   "metadata": {}
  },
  {
   "source": [
    "# 弱引用的局限\n",
    "\n",
    "基本 的 list 和 dict 实例不能作为弱引用所指对象，但是它们的子类可以轻松地 解决这个问题。"
   ],
   "cell_type": "markdown",
   "metadata": {}
  },
  {
   "cell_type": "code",
   "execution_count": 16,
   "metadata": {},
   "outputs": [],
   "source": [
    "class Mylist(list):\n",
    "    \"\"\"list的子类，实例可以作为弱引用的目标\"\"\"\n",
    "\n",
    "\n",
    "a_list = Mylist(range(10))\n",
    "# a_list可以作为弱引用的目标\n",
    "wref_to_a_list = weakref.ref(a_list)"
   ]
  },
  {
   "source": [
    "千万不要依赖字符串或整数的驻留!比较字符串或整数是否 相等时，应该使用 ==，而不是 is。驻留是 Python 解释器内部使用 的一个特性。"
   ],
   "cell_type": "markdown",
   "metadata": {}
  },
  {
   "cell_type": "code",
   "execution_count": null,
   "metadata": {},
   "outputs": [],
   "source": []
  }
 ]
}