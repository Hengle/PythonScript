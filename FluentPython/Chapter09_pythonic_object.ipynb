{
 "metadata": {
  "language_info": {
   "codemirror_mode": {
    "name": "ipython",
    "version": 3
   },
   "file_extension": ".py",
   "mimetype": "text/x-python",
   "name": "python",
   "nbconvert_exporter": "python",
   "pygments_lexer": "ipython3",
   "version": "3.8.5"
  },
  "orig_nbformat": 2,
  "kernelspec": {
   "name": "python385jvsc74a57bd0e6db7d16afb9d2b05a6270becd2d66f0676bfd807f06b7702e9e3df3fb7a71ca",
   "display_name": "Python 3.8.5 64-bit ('base': conda)"
  },
  "metadata": {
   "interpreter": {
    "hash": "082e9a3bcad0a290d0001e938aa60b99250c6c2ef33a923c00b70f9826caf4b7"
   }
  }
 },
 "nbformat": 4,
 "nbformat_minor": 2,
 "cells": [
  {
   "source": [
    "# 创建一个类\n",
    "\n",
    "github: https://github.com/fluentpython/example-code/tree/master/09-pythonic-obj\n",
    "\n"
   ],
   "cell_type": "markdown",
   "metadata": {}
  },
  {
   "cell_type": "code",
   "execution_count": 38,
   "metadata": {},
   "outputs": [],
   "source": [
    "# vector 2d class\n",
    "import math\n",
    "from array import array\n",
    "\n",
    "class Vector2d:\n",
    "    typecode = 'd' #typecode是类属性，在Vector2d实例和字节序列之间转换时使用。\n",
    "\n",
    "    def __init__(self, x, y):\n",
    "        self.x = float(x)\n",
    "        self.y = float(y)\n",
    "\n",
    "    def __iter__(self):\n",
    "        return (i for i in (self.x, self.y))\n",
    "\n",
    "    def __repr__(self):\n",
    "        class_name = type(self).__name__\n",
    "        return \"{}({!r},{!r})\".format(class_name, *self)\n",
    "\n",
    "    def __str__(self):\n",
    "        return str(tuple(self))\n",
    "\n",
    "    def __eq__(self, other):\n",
    "        return tuple(self) == tuple(other)\n",
    "\n",
    "    def __abs__(self):\n",
    "        return math.hypot(self.x, self.y)\n",
    "\n",
    "    def __bool__(self):\n",
    "        return bool(abs(self))\n",
    "\n",
    "    def __bytes__(self):\n",
    "        return (bytes([ord(self.typecode)]) + \n",
    "                bytes(array(self.typecode, self)))\n",
    "\n",
    "    \n",
    "    def angle(self):\n",
    "        return math.atan2(self.x, self.y)\n",
    "\n",
    "    \n",
    "    # 备选构造方法 （与上面的方法不同，传入的参数不同）\n",
    "    @classmethod\n",
    "    def frombytes(cls, octets):\n",
    "        typecode = chr(octets[0])\n",
    "        mev = memoryview(octets[1:]).cast(typecode)\n",
    "        return cls(*mev)\n",
    "\n",
    "    # 格式化显示\n",
    "    def __format__(self, fmt_spec):\n",
    "        if fmt_spec.endswith('p'):\n",
    "            fmt_spec = fmt_spec[:-1]\n",
    "            coords = (abs(self), self.angle())\n",
    "            outer = '<{},{}>'\n",
    "        else:\n",
    "            coords = (i for i in self)\n",
    "            outer = '({},{})'\n",
    "        components = (format(c, fmt_spec) for c in coords)\n",
    "        return outer.format(*components)\n",
    "\n"
   ]
  },
  {
   "cell_type": "code",
   "execution_count": 39,
   "metadata": {},
   "outputs": [
    {
     "output_type": "stream",
     "name": "stdout",
     "text": [
      "__init__():Vector2d(1,2)\n__iter__():1.0, 2.0\n__str__():(1.0,2.0)\n__repr__():eval(repr(v1))-->(1.0,2.0)\n__eq__():True\n__abs__(): abs(v1)-->2.23606797749979\n__bool__(): bool(v1)-->True\n__bytes__(): bytes(v1)-->b'd\\x00\\x00\\x00\\x00\\x00\\x00\\xf0?\\x00\\x00\\x00\\x00\\x00\\x00\\x00@'\n"
     ]
    }
   ],
   "source": [
    "# 构造函数\n",
    "v1 = Vector2d(1,2)\n",
    "print(\"__init__():Vector2d(1,2)\")\n",
    "\n",
    "# 可拆包\n",
    "vx, vy = v1\n",
    "print(\"__iter__():{}, {}\".format(vx, vy))\n",
    "\n",
    "# 支持打印。如果没有定义str会使用repr函数代替\n",
    "print(\"__str__():{}\".format(v1))\n",
    "\n",
    "# eval with format\n",
    "v2 = eval(repr(v1))\n",
    "print(\"__repr__():eval(repr(v1))-->{}\".format(v2))\n",
    "\n",
    "# equal\n",
    "print(\"__eq__():{}\".format(v1 == v2))\n",
    "\n",
    "# abs\n",
    "print(\"__abs__(): abs(v1)-->{}\".format(abs(v1)))\n",
    "\n",
    "# bool\n",
    "print(\"__bool__(): bool(v1)-->{}\".format(bool(v1)))\n",
    "\n",
    "# bytes\n",
    "print(\"__bytes__(): bytes(v1)-->{}\".format(bytes(v1)))"
   ]
  },
  {
   "source": [
    "# classmethod vs staticmethod"
   ],
   "cell_type": "markdown",
   "metadata": {}
  },
  {
   "cell_type": "code",
   "execution_count": 40,
   "metadata": {},
   "outputs": [
    {
     "output_type": "execute_result",
     "data": {
      "text/plain": [
       "Vector2d(1.0,2.0)"
      ]
     },
     "metadata": {},
     "execution_count": 40
    }
   ],
   "source": [
    "# classmethod是操作类的方法，而不是操作实例的方法。\n",
    "Vector2d.frombytes(bytes(v1))"
   ]
  },
  {
   "cell_type": "code",
   "execution_count": 41,
   "metadata": {},
   "outputs": [],
   "source": [
    "# staticmethod 是一个静态函数，即使写在了类中也有全局效果，类似与直接写在模块中的类。\n",
    "\n",
    "def common_static_method(*args):\n",
    "     return args\n",
    "\n",
    "class Demo:\n",
    "     @staticmethod\n",
    "     def static_method(*args):\n",
    "          return args\n",
    "     \n",
    "     @classmethod\n",
    "     def class_method(*args):\n",
    "          return args\n",
    "           \n"
   ]
  },
  {
   "cell_type": "code",
   "execution_count": 42,
   "metadata": {},
   "outputs": [
    {
     "output_type": "execute_result",
     "data": {
      "text/plain": [
       "(__main__.Demo,)"
      ]
     },
     "metadata": {},
     "execution_count": 42
    }
   ],
   "source": [
    "# 作为类的方法，返回的第一个参数永远是类本身\n",
    "Demo.class_method()"
   ]
  },
  {
   "cell_type": "code",
   "execution_count": 43,
   "metadata": {},
   "outputs": [
    {
     "output_type": "execute_result",
     "data": {
      "text/plain": [
       "(__main__.Demo, 'test')"
      ]
     },
     "metadata": {},
     "execution_count": 43
    }
   ],
   "source": [
    "Demo.class_method(\"test\")"
   ]
  },
  {
   "cell_type": "code",
   "execution_count": 44,
   "metadata": {},
   "outputs": [
    {
     "output_type": "execute_result",
     "data": {
      "text/plain": [
       "()"
      ]
     },
     "metadata": {},
     "execution_count": 44
    }
   ],
   "source": [
    "# 而作为静态方法，返回的函数与直接在模块中创建的函数返回的内容是一样的\n",
    "Demo.static_method()"
   ]
  },
  {
   "cell_type": "code",
   "execution_count": 45,
   "metadata": {},
   "outputs": [
    {
     "output_type": "execute_result",
     "data": {
      "text/plain": [
       "('test',)"
      ]
     },
     "metadata": {},
     "execution_count": 45
    }
   ],
   "source": [
    "Demo.static_method(\"test\")"
   ]
  },
  {
   "cell_type": "code",
   "execution_count": 46,
   "metadata": {},
   "outputs": [
    {
     "output_type": "execute_result",
     "data": {
      "text/plain": [
       "()"
      ]
     },
     "metadata": {},
     "execution_count": 46
    }
   ],
   "source": [
    "common_static_method()"
   ]
  },
  {
   "cell_type": "code",
   "execution_count": 47,
   "metadata": {},
   "outputs": [
    {
     "output_type": "execute_result",
     "data": {
      "text/plain": [
       "('test',)"
      ]
     },
     "metadata": {},
     "execution_count": 47
    }
   ],
   "source": [
    "common_static_method(\"test\")"
   ]
  },
  {
   "source": [
    "# 格式化表示"
   ],
   "cell_type": "markdown",
   "metadata": {}
  },
  {
   "cell_type": "code",
   "execution_count": 48,
   "metadata": {},
   "outputs": [
    {
     "output_type": "stream",
     "name": "stdout",
     "text": [
      "(1.0,2.0)\n"
     ]
    }
   ],
   "source": [
    "print(\"{v:0.1f}\".format(v = v1))"
   ]
  },
  {
   "cell_type": "code",
   "execution_count": 49,
   "metadata": {},
   "outputs": [
    {
     "output_type": "execute_result",
     "data": {
      "text/plain": [
       "'(1.000,2.000)'"
      ]
     },
     "metadata": {},
     "execution_count": 49
    }
   ],
   "source": [
    "format(v1, '0.3f')"
   ]
  },
  {
   "cell_type": "code",
   "execution_count": 50,
   "metadata": {},
   "outputs": [
    {
     "output_type": "execute_result",
     "data": {
      "text/plain": [
       "'<2.2,0.5>'"
      ]
     },
     "metadata": {},
     "execution_count": 50
    }
   ],
   "source": [
    "# 使用自己定义的格式打印\n",
    "format(v1, '0.1fp')"
   ]
  },
  {
   "source": [
    "# 可散列"
   ],
   "cell_type": "markdown",
   "metadata": {}
  },
  {
   "cell_type": "code",
   "execution_count": 69,
   "metadata": {},
   "outputs": [
    {
     "output_type": "stream",
     "name": "stdout",
     "text": [
      "36893488147464635\n39199331156623804\n"
     ]
    },
    {
     "output_type": "execute_result",
     "data": {
      "text/plain": [
       "2341938670338055"
      ]
     },
     "metadata": {},
     "execution_count": 69
    }
   ],
   "source": [
    "# 位运算符异或计算实例：\n",
    "a = 443.016\n",
    "b = 444.017\n",
    "print(hash(a))\n",
    "print(hash(b))\n",
    "hash(a)^hash(b)"
   ]
  },
  {
   "source": [
    "# 声明只读变量与可散列\n",
    "\n",
    "其实只要类中实现\\_\\_Hash\\_\\_()和\\_\\_eq\\_\\_()两个函数，就能实现散列。但是因为散列要求数据只读，以此我们需要在类中使用特性将变量声明成只读属性。"
   ],
   "cell_type": "markdown",
   "metadata": {}
  },
  {
   "cell_type": "code",
   "execution_count": 80,
   "metadata": {},
   "outputs": [],
   "source": [
    "class pVector2d:\n",
    "    def __init__(self, x, y):\n",
    "        self.__x = x\n",
    "        self.__y = y\n",
    "\n",
    "    @property\n",
    "    def x(self):\n",
    "        return self.__x\n",
    "    \n",
    "    @property\n",
    "    def y(self):\n",
    "        return self.__y\n",
    "    \n",
    "    def __repr__(self):\n",
    "        class_name = type(self).__name__\n",
    "        return \"{}({},{})\".format(class_name, self.x, self.y)\n",
    "\n",
    "    # 只有只读属性，才能散列\n",
    "    def __hash__(self):\n",
    "        return hash(self.x)^hash(self.y)"
   ]
  },
  {
   "cell_type": "code",
   "execution_count": 79,
   "metadata": {},
   "outputs": [
    {
     "output_type": "error",
     "ename": "AttributeError",
     "evalue": "can't set attribute",
     "traceback": [
      "\u001b[0;31m---------------------------------------------------------------------------\u001b[0m",
      "\u001b[0;31mAttributeError\u001b[0m                            Traceback (most recent call last)",
      "\u001b[0;32m<ipython-input-79-286c95e0bc74>\u001b[0m in \u001b[0;36m<module>\u001b[0;34m\u001b[0m\n\u001b[1;32m      2\u001b[0m \u001b[0;34m\u001b[0m\u001b[0m\n\u001b[1;32m      3\u001b[0m \u001b[0;31m# 只读属性\u001b[0m\u001b[0;34m\u001b[0m\u001b[0;34m\u001b[0m\u001b[0;34m\u001b[0m\u001b[0m\n\u001b[0;32m----> 4\u001b[0;31m \u001b[0mpv1\u001b[0m\u001b[0;34m.\u001b[0m\u001b[0mx\u001b[0m \u001b[0;34m=\u001b[0m \u001b[0;36m1\u001b[0m\u001b[0;34m\u001b[0m\u001b[0;34m\u001b[0m\u001b[0m\n\u001b[0m",
      "\u001b[0;31mAttributeError\u001b[0m: can't set attribute"
     ]
    }
   ],
   "source": [
    "pv1 = pVector2d(2,3)\n",
    "# 只读属性\n",
    "pv1.x = 1"
   ]
  },
  {
   "cell_type": "code",
   "execution_count": 81,
   "metadata": {},
   "outputs": [
    {
     "output_type": "execute_result",
     "data": {
      "text/plain": [
       "Vector2d(1.0,2.0)"
      ]
     },
     "metadata": {},
     "execution_count": 81
    }
   ],
   "source": [
    "# v1 不可散列\n",
    "v1"
   ]
  },
  {
   "cell_type": "code",
   "execution_count": 82,
   "metadata": {},
   "outputs": [
    {
     "output_type": "execute_result",
     "data": {
      "text/plain": [
       "pVector2d(2,3)"
      ]
     },
     "metadata": {},
     "execution_count": 82
    }
   ],
   "source": [
    "# pv1 可散列\n",
    "pv1"
   ]
  },
  {
   "cell_type": "code",
   "execution_count": 85,
   "metadata": {},
   "outputs": [
    {
     "output_type": "error",
     "ename": "TypeError",
     "evalue": "unhashable type: 'Vector2d'",
     "traceback": [
      "\u001b[0;31m---------------------------------------------------------------------------\u001b[0m",
      "\u001b[0;31mTypeError\u001b[0m                                 Traceback (most recent call last)",
      "\u001b[0;32m<ipython-input-85-af87aa91413a>\u001b[0m in \u001b[0;36m<module>\u001b[0;34m\u001b[0m\n\u001b[0;32m----> 1\u001b[0;31m \u001b[0mset\u001b[0m\u001b[0;34m(\u001b[0m\u001b[0;34m[\u001b[0m\u001b[0mv1\u001b[0m\u001b[0;34m,\u001b[0m\u001b[0mpv1\u001b[0m\u001b[0;34m]\u001b[0m\u001b[0;34m)\u001b[0m\u001b[0;34m\u001b[0m\u001b[0;34m\u001b[0m\u001b[0m\n\u001b[0m",
      "\u001b[0;31mTypeError\u001b[0m: unhashable type: 'Vector2d'"
     ]
    }
   ],
   "source": [
    "# v1 不可散列：unhashable\n",
    "set([v1,pv1])"
   ]
  },
  {
   "cell_type": "code",
   "execution_count": 86,
   "metadata": {},
   "outputs": [
    {
     "output_type": "error",
     "ename": "TypeError",
     "evalue": "unhashable type: 'Vector2d'",
     "traceback": [
      "\u001b[0;31m---------------------------------------------------------------------------\u001b[0m",
      "\u001b[0;31mTypeError\u001b[0m                                 Traceback (most recent call last)",
      "\u001b[0;32m<ipython-input-86-e769d6e59c8c>\u001b[0m in \u001b[0;36m<module>\u001b[0;34m\u001b[0m\n\u001b[0;32m----> 1\u001b[0;31m \u001b[0mhash\u001b[0m\u001b[0;34m(\u001b[0m\u001b[0mv1\u001b[0m\u001b[0;34m)\u001b[0m\u001b[0;34m\u001b[0m\u001b[0;34m\u001b[0m\u001b[0m\n\u001b[0m",
      "\u001b[0;31mTypeError\u001b[0m: unhashable type: 'Vector2d'"
     ]
    }
   ],
   "source": [
    "hash(v1)"
   ]
  },
  {
   "cell_type": "code",
   "execution_count": 87,
   "metadata": {},
   "outputs": [
    {
     "output_type": "execute_result",
     "data": {
      "text/plain": [
       "8775947394067"
      ]
     },
     "metadata": {},
     "execution_count": 87
    }
   ],
   "source": [
    "hash(pv1)"
   ]
  },
  {
   "source": [
    "# 整体实现\n",
    "\n",
    "- 实现分量表示\n",
    "- 实现拆包\n",
    "- 实现格式化\n",
    "- 实现repr返回构建源码（eval可以创建实例）\n",
    "- 实现相等\n",
    "- 实现返回布尔值\n",
    "- 实现打印\n",
    "- 实现操作类方法\n",
    "- 实现返回绝对值\n",
    "- 实现返回Bytes值\n",
    "- 实现散列\n",
    "- 实现只读\n",
    "- 实现float转换\n",
    "- 实现int转换\n",
    "- 实现complex\n"
   ],
   "cell_type": "markdown",
   "metadata": {}
  },
  {
   "cell_type": "code",
   "execution_count": 4,
   "metadata": {},
   "outputs": [],
   "source": [
    "import math\n",
    "from array import array\n",
    "\n",
    "class myVector2d:\n",
    "\n",
    "    typecode = 'd'\n",
    "\n",
    "    def __init__(self, x, y):\n",
    "        self.__x = x\n",
    "        self.__y = y\n",
    "\n",
    "    @property\n",
    "    def x(self):\n",
    "        return self.__x\n",
    "\n",
    "    @property\n",
    "    def y(self):\n",
    "        return self.__y\n",
    "\n",
    "    def __iter__(self):\n",
    "        return ( i for i in (self.x, self.y))\n",
    "\n",
    "    def __abs__(self):\n",
    "        #return math.sqrt(self.x * self.x + self.y * self.y)\n",
    "        return math.hypot(self.x, self.y) # hypot求斜边\n",
    "    \n",
    "    def __repr__(self):\n",
    "        return \"myVector2d({},{})\".format(self.x,self.y)\n",
    "\n",
    "    def __str__(self):\n",
    "        return str(tuple(self))\n",
    "\n",
    "    def __hash__(self):\n",
    "        return hash(self.x)^hash(self.y)\n",
    "\n",
    "    def __eq__(self, other):\n",
    "        return hash(self) == hash(other)\n",
    "    \n",
    "    def __bool__(self):\n",
    "        return bool(abs(self))\n",
    "    \n",
    "    def __bytes__(self):\n",
    "        # 二进制表示形式\n",
    "        return (bytes([ord(self.typecode)]) + \n",
    "                bytes(array(self.typecode, [self.x, self.y])))\n",
    "\n",
    "    def angle(self):\n",
    "        return math.atan2(self.y, self.x)    \n",
    "\n",
    "    def __format__(self, fmt_spec):\n",
    "        if fmt_spec.endswith(\"p\") :\n",
    "            fmt_spec = fmt_spec[:-1]\n",
    "            coords = (abs(self), self.angle())\n",
    "            out = \"myVector2d:<{},{}>\"\n",
    "        else:\n",
    "            coords = (i for i in self)\n",
    "            out = \"myVector2d:({},{})\"\n",
    "        componets = (format(c, fmt_spec) for c in coords)\n",
    "        return out.format(*componets)\n",
    "\n",
    "    @classmethod\n",
    "    def frombytes(cls, octets):\n",
    "        typecode = chr(octets[0])\n",
    "        mev = memoryview(octets[1:]).cast(typecode)\n",
    "        return cls(*mev)\n",
    "\n",
    "    def __float__(self):\n",
    "        return float(abs(self))\n",
    "\n",
    "    def __int__(self):\n",
    "        return int(abs(self))\n",
    "\n",
    "    def __complex__(self):\n",
    "        return complex(self.x, self.y)"
   ]
  },
  {
   "cell_type": "code",
   "execution_count": 2,
   "metadata": {},
   "outputs": [],
   "source": [
    "mv = myVector2d(2,5)"
   ]
  },
  {
   "cell_type": "code",
   "execution_count": 3,
   "metadata": {},
   "outputs": [
    {
     "output_type": "execute_result",
     "data": {
      "text/plain": [
       "myVector2d(2,5)"
      ]
     },
     "metadata": {},
     "execution_count": 3
    }
   ],
   "source": [
    "# 验证repr\n",
    "mv"
   ]
  },
  {
   "cell_type": "code",
   "execution_count": 4,
   "metadata": {},
   "outputs": [
    {
     "output_type": "stream",
     "name": "stdout",
     "text": [
      "a:2\nb:5\nmv.x:2\nmv.y:5\n\n"
     ]
    }
   ],
   "source": [
    "# 验证拆包和分量\n",
    "a,b = mv\n",
    "print(\"a:{}\\nb:{}\\nmv.x:{}\\nmv.y:{}\\n\".format(a,b,mv.x,mv.y))"
   ]
  },
  {
   "cell_type": "code",
   "execution_count": 5,
   "metadata": {},
   "outputs": [
    {
     "output_type": "stream",
     "name": "stdout",
     "text": [
      "(2, 5)\n"
     ]
    }
   ],
   "source": [
    "# 验证str\n",
    "print(mv)"
   ]
  },
  {
   "cell_type": "code",
   "execution_count": 6,
   "metadata": {},
   "outputs": [
    {
     "output_type": "execute_result",
     "data": {
      "text/plain": [
       "5.385164807134505"
      ]
     },
     "metadata": {},
     "execution_count": 6
    }
   ],
   "source": [
    "# 验证abs\n",
    "abs(mv)"
   ]
  },
  {
   "cell_type": "code",
   "execution_count": 7,
   "metadata": {},
   "outputs": [
    {
     "output_type": "execute_result",
     "data": {
      "text/plain": [
       "False"
      ]
     },
     "metadata": {},
     "execution_count": 7
    }
   ],
   "source": [
    "# 验证相等\n",
    "mv2 = myVector2d(2,3)\n",
    "\n",
    "mv == mv2"
   ]
  },
  {
   "cell_type": "code",
   "execution_count": 8,
   "metadata": {},
   "outputs": [
    {
     "output_type": "execute_result",
     "data": {
      "text/plain": [
       "True"
      ]
     },
     "metadata": {},
     "execution_count": 8
    }
   ],
   "source": [
    "mv3 = mv\n",
    "mv == mv3"
   ]
  },
  {
   "cell_type": "code",
   "execution_count": 9,
   "metadata": {},
   "outputs": [
    {
     "output_type": "execute_result",
     "data": {
      "text/plain": [
       "{myVector2d(2,3), myVector2d(2,5)}"
      ]
     },
     "metadata": {},
     "execution_count": 9
    }
   ],
   "source": [
    "# 验证可散列\n",
    "set([mv,mv2,mv3])"
   ]
  },
  {
   "cell_type": "code",
   "execution_count": 10,
   "metadata": {},
   "outputs": [
    {
     "output_type": "execute_result",
     "data": {
      "text/plain": [
       "True"
      ]
     },
     "metadata": {},
     "execution_count": 10
    }
   ],
   "source": [
    "# 验证布尔值\n",
    "bool(mv)"
   ]
  },
  {
   "cell_type": "code",
   "execution_count": 11,
   "metadata": {},
   "outputs": [
    {
     "output_type": "execute_result",
     "data": {
      "text/plain": [
       "'myVector2d:<5.385,1.190>'"
      ]
     },
     "metadata": {},
     "execution_count": 11
    }
   ],
   "source": [
    "# 验证格式化\n",
    "\"{:0.3fp}\".format(mv)"
   ]
  },
  {
   "cell_type": "code",
   "execution_count": 12,
   "metadata": {},
   "outputs": [
    {
     "output_type": "execute_result",
     "data": {
      "text/plain": [
       "'myVector2d:(2.000,5.000)'"
      ]
     },
     "metadata": {},
     "execution_count": 12
    }
   ],
   "source": [
    "# 验证格式化2\n",
    "\"{:0.3f}\".format(mv)"
   ]
  },
  {
   "cell_type": "code",
   "execution_count": 13,
   "metadata": {},
   "outputs": [
    {
     "output_type": "execute_result",
     "data": {
      "text/plain": [
       "b'd\\x00\\x00\\x00\\x00\\x00\\x00\\x00@\\x00\\x00\\x00\\x00\\x00\\x00\\x08@'"
      ]
     },
     "metadata": {},
     "execution_count": 13
    }
   ],
   "source": [
    "# 验证二进制转换\n",
    "bytes(mv2)"
   ]
  },
  {
   "cell_type": "code",
   "execution_count": 14,
   "metadata": {},
   "outputs": [
    {
     "output_type": "execute_result",
     "data": {
      "text/plain": [
       "myVector2d(2.0,3.0)"
      ]
     },
     "metadata": {},
     "execution_count": 14
    }
   ],
   "source": [
    "# 验证类方法\n",
    "octets = bytes(mv2)\n",
    "result = myVector2d.frombytes(octets)\n",
    "result"
   ]
  },
  {
   "cell_type": "code",
   "execution_count": 15,
   "metadata": {},
   "outputs": [
    {
     "output_type": "execute_result",
     "data": {
      "text/plain": [
       "5.385164807134505"
      ]
     },
     "metadata": {},
     "execution_count": 15
    }
   ],
   "source": [
    "# 验证float和int\n",
    "float(mv)"
   ]
  },
  {
   "cell_type": "code",
   "execution_count": 16,
   "metadata": {},
   "outputs": [
    {
     "output_type": "execute_result",
     "data": {
      "text/plain": [
       "5"
      ]
     },
     "metadata": {},
     "execution_count": 16
    }
   ],
   "source": [
    "int(mv)"
   ]
  },
  {
   "cell_type": "code",
   "execution_count": 17,
   "metadata": {},
   "outputs": [
    {
     "output_type": "execute_result",
     "data": {
      "text/plain": [
       "(2+5j)"
      ]
     },
     "metadata": {},
     "execution_count": 17
    }
   ],
   "source": [
    "# 验证complex\n",
    "\n",
    "complex(mv)"
   ]
  },
  {
   "source": [
    "# 使用 __slots__ 类属性节省空间"
   ],
   "cell_type": "markdown",
   "metadata": {}
  },
  {
   "cell_type": "code",
   "execution_count": 18,
   "metadata": {},
   "outputs": [
    {
     "output_type": "stream",
     "name": "stdout",
     "text": [
      "{'_myVector2d__x': 2, '_myVector2d__y': 5}\n"
     ]
    }
   ],
   "source": [
    "# 实例默认使用字典记录其属性\n",
    "print(mv.__dict__)\n",
    "\n",
    "# 如果有数百万个属性不多的实例，效率就会大大降低。"
   ]
  },
  {
   "source": [
    "## 通过 \\_\\_slots\\_\\_ 类属性，能节省大量内存,方法是让解释器在元组中存储实例属性，而不用字典。"
   ],
   "cell_type": "markdown",
   "metadata": {}
  },
  {
   "cell_type": "code",
   "execution_count": 1,
   "metadata": {},
   "outputs": [],
   "source": [
    "import math\n",
    "from array import array\n",
    "\n",
    "class myVector2d_v02:\n",
    "\n",
    "    \"\"\"\n",
    "    在类中定义 __slots__ 属性的目的是告诉解释器:“这个类中的所有 实例属性都在这儿了!”这样，Python 会在各个实例中使用类似元组的 结构存储实例变量，从而避免使用消耗内存的 __dict__ 属性。如果 有数百万个实例同时活动，这样做能节省大量内存。\n",
    "    \"\"\"\n",
    "    __slots__ = ('__x','__y')\n",
    "\n",
    "    typecode = 'd'\n",
    "\n",
    "    def __init__(self, x, y):\n",
    "        self.__x = x\n",
    "        self.__y = y\n",
    "\n",
    "    @property\n",
    "    def x(self):\n",
    "        return self.__x\n",
    "\n",
    "    @property\n",
    "    def y(self):\n",
    "        return self.__y\n",
    "\n",
    "    def __iter__(self):\n",
    "        return ( i for i in (self.x, self.y))\n",
    "\n",
    "    def __abs__(self):\n",
    "        #return math.sqrt(self.x * self.x + self.y * self.y)\n",
    "        return math.hypot(self.x, self.y) # hypot求斜边\n",
    "    \n",
    "    def __repr__(self):\n",
    "        return \"myVector2d({},{})\".format(self.x,self.y)\n",
    "\n",
    "    def __str__(self):\n",
    "        return str(tuple(self))\n",
    "\n",
    "    def __hash__(self):\n",
    "        return hash(self.x)^hash(self.y)\n",
    "\n",
    "    def __eq__(self, other):\n",
    "        return hash(self) == hash(other)\n",
    "    \n",
    "    def __bool__(self):\n",
    "        return bool(abs(self))\n",
    "    \n",
    "    def __bytes__(self):\n",
    "        # 二进制表示形式\n",
    "        return (bytes([ord(self.typecode)]) + \n",
    "                bytes(array(self.typecode, [self.x, self.y])))\n",
    "\n",
    "    def angle(self):\n",
    "        return math.atan2(self.y, self.x)    \n",
    "\n",
    "    def __format__(self, fmt_spec):\n",
    "        if fmt_spec.endswith(\"p\") :\n",
    "            fmt_spec = fmt_spec[:-1]\n",
    "            coords = (abs(self), self.angle())\n",
    "            out = \"myVector2d:<{},{}>\"\n",
    "        else:\n",
    "            coords = (i for i in self)\n",
    "            out = \"myVector2d:({},{})\"\n",
    "        componets = (format(c, fmt_spec) for c in coords)\n",
    "        return out.format(*componets)\n",
    "\n",
    "    @classmethod\n",
    "    def frombytes(cls, octets):\n",
    "        typecode = chr(octets[0])\n",
    "        mev = memoryview(octets[1:]).cast(typecode)\n",
    "        return cls(*mev)\n",
    "\n",
    "    def __float__(self):\n",
    "        return float(abs(self))\n",
    "\n",
    "    def __int__(self):\n",
    "        return int(abs(self))\n",
    "\n",
    "    def __complex__(self):\n",
    "        return complex(self.x, self.y)"
   ]
  },
  {
   "cell_type": "code",
   "execution_count": 2,
   "metadata": {},
   "outputs": [
    {
     "output_type": "stream",
     "name": "stdout",
     "text": [
      "Initial RAM usage:     46,399,488\n  Final RAM usage:    628,817,920\n        RAM usage:    582,418,432\n"
     ]
    }
   ],
   "source": [
    "# 测试10 000 000个实例的内存用量\n",
    "\n",
    "import resource\n",
    "\n",
    "mem_init = resource.getrusage(resource.RUSAGE_SELF).ru_maxrss\n",
    "\n",
    "vectors = [myVector2d_v02(1.00,3.00) for i in range(10000000)]\n",
    "\n",
    "mem_final = resource.getrusage(resource.RUSAGE_SELF).ru_maxrss\n",
    "\n",
    "print('Initial RAM usage: {:14,}'.format(mem_init))\n",
    "print('  Final RAM usage: {:14,}'.format(mem_final))\n",
    "print('        RAM usage: {:14,}'.format(mem_final-mem_init))"
   ]
  },
  {
   "cell_type": "code",
   "execution_count": 5,
   "metadata": {},
   "outputs": [
    {
     "output_type": "stream",
     "name": "stdout",
     "text": [
      "Initial RAM usage:    629,276,672\n  Final RAM usage:  2,262,327,296\n        RAM usage:  1,633,050,624\n"
     ]
    }
   ],
   "source": [
    "mem_init = resource.getrusage(resource.RUSAGE_SELF).ru_maxrss\n",
    "\n",
    "vectors = [myVector2d(1.00,3.00) for i in range(10000000)]\n",
    "\n",
    "mem_final = resource.getrusage(resource.RUSAGE_SELF).ru_maxrss\n",
    "\n",
    "print('Initial RAM usage: {:14,}'.format(mem_init))\n",
    "print('  Final RAM usage: {:14,}'.format(mem_final))\n",
    "print('        RAM usage: {:14,}'.format(mem_final-mem_init))"
   ]
  },
  {
   "source": [
    "## 使用\\_\\_slots\\_\\_属性可以减少三分之二的内存消耗！\n",
    "\n",
    "\n",
    "## 在类中定义 \\_\\_slots\\_\\_ 属性之后，实例不能再有\\_\\_slots\\_\\_ 中所列名称之外的其他属性。这只是一个副作用，不是 \\_\\_slots\\_\\_ 存在的真正原因。不要使用 \\_\\_slots\\_\\_ 属性禁止类的用户新增实例属性。\\_\\_slots\\_\\_ 是用于优化的，不是为了约 束程序员。"
   ],
   "cell_type": "markdown",
   "metadata": {}
  },
  {
   "source": [
    "## 然而，“节省的内存也可能被再次吃掉”:\n",
    "## 如果把 '\\_\\_dict\\_\\_' 这个名称添加到 \\_\\_slots\\_\\_ 中，实例会在元组中保存各个实例的属性，此外还支持动态创建属性，这些属性存储在常规的 \\_\\_dict\\_\\_ 中。当然，把 '\\_\\_dict\\_\\_' 添加到 \\_\\_slots\\_\\_ 中可能完全违背了初衷，这取决 于各个实例的静态属性和动态属性的数量及其用法。粗心的优化甚至比提早优化还糟糕。"
   ],
   "cell_type": "markdown",
   "metadata": {}
  },
  {
   "source": [
    "# \\_\\_slots\\_\\_ 的问题\n",
    "总之，如果使用得当，\\_\\_slots\\_\\_ 能显著节省内存，不过有几点要注意。\n",
    "- 每个子类都要定义 \\_\\_slots\\_\\_ 属性，因为解释器会忽略继承的 \\_\\_slots\\_\\_ 属性。\n",
    "\n",
    "- 实例只能拥有 \\_\\_slots\\_\\_ 中列出的属性，除非把 '\\_\\_dict\\_\\_' 加入 \\_\\_slots\\_\\_ 中(这样做就去了节省内存的功效)。\n",
    "\n",
    "- 如果不把 '\\_\\_weakref\\_\\_' 加入 \\_\\_slots\\_\\_，实例就不能作为弱 引用的目标。"
   ],
   "cell_type": "markdown",
   "metadata": {}
  },
  {
   "source": [
    "# \\_\\_slots\\_\\_ 主要用在固定模式的数据库记录中，用于优化内存。"
   ],
   "cell_type": "markdown",
   "metadata": {}
  },
  {
   "cell_type": "code",
   "execution_count": null,
   "metadata": {},
   "outputs": [],
   "source": []
  }
 ]
}