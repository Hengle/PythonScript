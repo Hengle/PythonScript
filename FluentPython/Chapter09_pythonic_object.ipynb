{
 "metadata": {
  "language_info": {
   "codemirror_mode": {
    "name": "ipython",
    "version": 3
   },
   "file_extension": ".py",
   "mimetype": "text/x-python",
   "name": "python",
   "nbconvert_exporter": "python",
   "pygments_lexer": "ipython3",
   "version": "3.8.3-final"
  },
  "orig_nbformat": 2,
  "kernelspec": {
   "name": "python383jvsc74a57bd0082e9a3bcad0a290d0001e938aa60b99250c6c2ef33a923c00b70f9826caf4b7",
   "display_name": "Python 3.8.3 64-bit"
  },
  "metadata": {
   "interpreter": {
    "hash": "082e9a3bcad0a290d0001e938aa60b99250c6c2ef33a923c00b70f9826caf4b7"
   }
  }
 },
 "nbformat": 4,
 "nbformat_minor": 2,
 "cells": [
  {
   "source": [
    "# 创建一个类\n",
    "\n",
    "github: https://github.com/fluentpython/example-code/tree/master/09-pythonic-obj\n",
    "\n"
   ],
   "cell_type": "markdown",
   "metadata": {}
  },
  {
   "cell_type": "code",
   "execution_count": 38,
   "metadata": {},
   "outputs": [],
   "source": [
    "# vector 2d class\n",
    "import math\n",
    "from array import array\n",
    "\n",
    "class Vector2d:\n",
    "    typecode = 'd' #typecode是类属性，在Vector2d实例和字节序列之间转换时使用。\n",
    "\n",
    "    def __init__(self, x, y):\n",
    "        self.x = float(x)\n",
    "        self.y = float(y)\n",
    "\n",
    "    def __iter__(self):\n",
    "        return (i for i in (self.x, self.y))\n",
    "\n",
    "    def __repr__(self):\n",
    "        class_name = type(self).__name__\n",
    "        return \"{}({!r},{!r})\".format(class_name, *self)\n",
    "\n",
    "    def __str__(self):\n",
    "        return str(tuple(self))\n",
    "\n",
    "    def __eq__(self, other):\n",
    "        return tuple(self) == tuple(other)\n",
    "\n",
    "    def __abs__(self):\n",
    "        return math.hypot(self.x, self.y)\n",
    "\n",
    "    def __bool__(self):\n",
    "        return bool(abs(self))\n",
    "\n",
    "    def __bytes__(self):\n",
    "        return (bytes([ord(self.typecode)]) + \n",
    "                bytes(array(self.typecode, self)))\n",
    "\n",
    "    \n",
    "    def angle(self):\n",
    "        return math.atan2(self.x, self.y)\n",
    "\n",
    "    \n",
    "    # 备选构造方法 （与上面的方法不同，传入的参数不同）\n",
    "    @classmethod\n",
    "    def frombytes(cls, octets):\n",
    "        typecode = chr(octets[0])\n",
    "        mev = memoryview(octets[1:]).cast(typecode)\n",
    "        return cls(*mev)\n",
    "\n",
    "    # 格式化显示\n",
    "    def __format__(self, fmt_spec):\n",
    "        if fmt_spec.endswith('p'):\n",
    "            fmt_spec = fmt_spec[:-1]\n",
    "            coords = (abs(self), self.angle())\n",
    "            outer = '<{},{}>'\n",
    "        else:\n",
    "            coords = (i for i in self)\n",
    "            outer = '({},{})'\n",
    "        components = (format(c, fmt_spec) for c in coords)\n",
    "        return outer.format(*components)\n",
    "\n"
   ]
  },
  {
   "cell_type": "code",
   "execution_count": 39,
   "metadata": {},
   "outputs": [
    {
     "output_type": "stream",
     "name": "stdout",
     "text": [
      "__init__():Vector2d(1,2)\n__iter__():1.0, 2.0\n__str__():(1.0,2.0)\n__repr__():eval(repr(v1))-->(1.0,2.0)\n__eq__():True\n__abs__(): abs(v1)-->2.23606797749979\n__bool__(): bool(v1)-->True\n__bytes__(): bytes(v1)-->b'd\\x00\\x00\\x00\\x00\\x00\\x00\\xf0?\\x00\\x00\\x00\\x00\\x00\\x00\\x00@'\n"
     ]
    }
   ],
   "source": [
    "# 构造函数\n",
    "v1 = Vector2d(1,2)\n",
    "print(\"__init__():Vector2d(1,2)\")\n",
    "\n",
    "# 可拆包\n",
    "vx, vy = v1\n",
    "print(\"__iter__():{}, {}\".format(vx, vy))\n",
    "\n",
    "# 支持打印。如果没有定义str会使用repr函数代替\n",
    "print(\"__str__():{}\".format(v1))\n",
    "\n",
    "# eval with format\n",
    "v2 = eval(repr(v1))\n",
    "print(\"__repr__():eval(repr(v1))-->{}\".format(v2))\n",
    "\n",
    "# equal\n",
    "print(\"__eq__():{}\".format(v1 == v2))\n",
    "\n",
    "# abs\n",
    "print(\"__abs__(): abs(v1)-->{}\".format(abs(v1)))\n",
    "\n",
    "# bool\n",
    "print(\"__bool__(): bool(v1)-->{}\".format(bool(v1)))\n",
    "\n",
    "# bytes\n",
    "print(\"__bytes__(): bytes(v1)-->{}\".format(bytes(v1)))"
   ]
  },
  {
   "source": [
    "# classmethod vs staticmethod"
   ],
   "cell_type": "markdown",
   "metadata": {}
  },
  {
   "cell_type": "code",
   "execution_count": 40,
   "metadata": {},
   "outputs": [
    {
     "output_type": "execute_result",
     "data": {
      "text/plain": [
       "Vector2d(1.0,2.0)"
      ]
     },
     "metadata": {},
     "execution_count": 40
    }
   ],
   "source": [
    "# classmethod是操作类的方法，而不是操作实例的方法。\n",
    "Vector2d.frombytes(bytes(v1))"
   ]
  },
  {
   "cell_type": "code",
   "execution_count": 41,
   "metadata": {},
   "outputs": [],
   "source": [
    "# staticmethod 是一个静态函数，即使写在了类中也有全局效果，类似与直接写在模块中的类。\n",
    "\n",
    "def common_static_method(*args):\n",
    "     return args\n",
    "\n",
    "class Demo:\n",
    "     @staticmethod\n",
    "     def static_method(*args):\n",
    "          return args\n",
    "     \n",
    "     @classmethod\n",
    "     def class_method(*args):\n",
    "          return args\n",
    "           \n"
   ]
  },
  {
   "cell_type": "code",
   "execution_count": 42,
   "metadata": {},
   "outputs": [
    {
     "output_type": "execute_result",
     "data": {
      "text/plain": [
       "(__main__.Demo,)"
      ]
     },
     "metadata": {},
     "execution_count": 42
    }
   ],
   "source": [
    "# 作为类的方法，返回的第一个参数永远是类本身\n",
    "Demo.class_method()"
   ]
  },
  {
   "cell_type": "code",
   "execution_count": 43,
   "metadata": {},
   "outputs": [
    {
     "output_type": "execute_result",
     "data": {
      "text/plain": [
       "(__main__.Demo, 'test')"
      ]
     },
     "metadata": {},
     "execution_count": 43
    }
   ],
   "source": [
    "Demo.class_method(\"test\")"
   ]
  },
  {
   "cell_type": "code",
   "execution_count": 44,
   "metadata": {},
   "outputs": [
    {
     "output_type": "execute_result",
     "data": {
      "text/plain": [
       "()"
      ]
     },
     "metadata": {},
     "execution_count": 44
    }
   ],
   "source": [
    "# 而作为静态方法，返回的函数与直接在模块中创建的函数返回的内容是一样的\n",
    "Demo.static_method()"
   ]
  },
  {
   "cell_type": "code",
   "execution_count": 45,
   "metadata": {},
   "outputs": [
    {
     "output_type": "execute_result",
     "data": {
      "text/plain": [
       "('test',)"
      ]
     },
     "metadata": {},
     "execution_count": 45
    }
   ],
   "source": [
    "Demo.static_method(\"test\")"
   ]
  },
  {
   "cell_type": "code",
   "execution_count": 46,
   "metadata": {},
   "outputs": [
    {
     "output_type": "execute_result",
     "data": {
      "text/plain": [
       "()"
      ]
     },
     "metadata": {},
     "execution_count": 46
    }
   ],
   "source": [
    "common_static_method()"
   ]
  },
  {
   "cell_type": "code",
   "execution_count": 47,
   "metadata": {},
   "outputs": [
    {
     "output_type": "execute_result",
     "data": {
      "text/plain": [
       "('test',)"
      ]
     },
     "metadata": {},
     "execution_count": 47
    }
   ],
   "source": [
    "common_static_method(\"test\")"
   ]
  },
  {
   "source": [
    "# 格式化表示"
   ],
   "cell_type": "markdown",
   "metadata": {}
  },
  {
   "cell_type": "code",
   "execution_count": 48,
   "metadata": {},
   "outputs": [
    {
     "output_type": "stream",
     "name": "stdout",
     "text": [
      "(1.0,2.0)\n"
     ]
    }
   ],
   "source": [
    "print(\"{v:0.1f}\".format(v = v1))"
   ]
  },
  {
   "cell_type": "code",
   "execution_count": 49,
   "metadata": {},
   "outputs": [
    {
     "output_type": "execute_result",
     "data": {
      "text/plain": [
       "'(1.000,2.000)'"
      ]
     },
     "metadata": {},
     "execution_count": 49
    }
   ],
   "source": [
    "format(v1, '0.3f')"
   ]
  },
  {
   "cell_type": "code",
   "execution_count": 50,
   "metadata": {},
   "outputs": [
    {
     "output_type": "execute_result",
     "data": {
      "text/plain": [
       "'<2.2,0.5>'"
      ]
     },
     "metadata": {},
     "execution_count": 50
    }
   ],
   "source": [
    "# 使用自己定义的格式打印\n",
    "format(v1, '0.1fp')"
   ]
  },
  {
   "source": [
    "# 可散列"
   ],
   "cell_type": "markdown",
   "metadata": {}
  },
  {
   "cell_type": "code",
   "execution_count": 69,
   "metadata": {},
   "outputs": [
    {
     "output_type": "stream",
     "name": "stdout",
     "text": [
      "36893488147464635\n39199331156623804\n"
     ]
    },
    {
     "output_type": "execute_result",
     "data": {
      "text/plain": [
       "2341938670338055"
      ]
     },
     "metadata": {},
     "execution_count": 69
    }
   ],
   "source": [
    "# 位运算符异或计算实例：\n",
    "a = 443.016\n",
    "b = 444.017\n",
    "print(hash(a))\n",
    "print(hash(b))\n",
    "hash(a)^hash(b)"
   ]
  },
  {
   "source": [
    "# 声明只读变量与可散列\n",
    "\n",
    "其实只要类中实现\\_\\_Hash\\_\\_()和\\_\\_eq\\_\\_()两个函数，就能实现散列。但是因为散列要求数据只读，以此我们需要在类中使用特性将变量声明成只读属性。"
   ],
   "cell_type": "markdown",
   "metadata": {}
  },
  {
   "cell_type": "code",
   "execution_count": 80,
   "metadata": {},
   "outputs": [],
   "source": [
    "class pVector2d:\n",
    "    def __init__(self, x, y):\n",
    "        self.__x = x\n",
    "        self.__y = y\n",
    "\n",
    "    @property\n",
    "    def x(self):\n",
    "        return self.__x\n",
    "    \n",
    "    @property\n",
    "    def y(self):\n",
    "        return self.__y\n",
    "    \n",
    "    def __repr__(self):\n",
    "        class_name = type(self).__name__\n",
    "        return \"{}({},{})\".format(class_name, self.x, self.y)\n",
    "\n",
    "    # 只有只读属性，才能散列\n",
    "    def __hash__(self):\n",
    "        return hash(self.x)^hash(self.y)"
   ]
  },
  {
   "cell_type": "code",
   "execution_count": 79,
   "metadata": {},
   "outputs": [
    {
     "output_type": "error",
     "ename": "AttributeError",
     "evalue": "can't set attribute",
     "traceback": [
      "\u001b[0;31m---------------------------------------------------------------------------\u001b[0m",
      "\u001b[0;31mAttributeError\u001b[0m                            Traceback (most recent call last)",
      "\u001b[0;32m<ipython-input-79-286c95e0bc74>\u001b[0m in \u001b[0;36m<module>\u001b[0;34m\u001b[0m\n\u001b[1;32m      2\u001b[0m \u001b[0;34m\u001b[0m\u001b[0m\n\u001b[1;32m      3\u001b[0m \u001b[0;31m# 只读属性\u001b[0m\u001b[0;34m\u001b[0m\u001b[0;34m\u001b[0m\u001b[0;34m\u001b[0m\u001b[0m\n\u001b[0;32m----> 4\u001b[0;31m \u001b[0mpv1\u001b[0m\u001b[0;34m.\u001b[0m\u001b[0mx\u001b[0m \u001b[0;34m=\u001b[0m \u001b[0;36m1\u001b[0m\u001b[0;34m\u001b[0m\u001b[0;34m\u001b[0m\u001b[0m\n\u001b[0m",
      "\u001b[0;31mAttributeError\u001b[0m: can't set attribute"
     ]
    }
   ],
   "source": [
    "pv1 = pVector2d(2,3)\n",
    "# 只读属性\n",
    "pv1.x = 1"
   ]
  },
  {
   "cell_type": "code",
   "execution_count": 81,
   "metadata": {},
   "outputs": [
    {
     "output_type": "execute_result",
     "data": {
      "text/plain": [
       "Vector2d(1.0,2.0)"
      ]
     },
     "metadata": {},
     "execution_count": 81
    }
   ],
   "source": [
    "# v1 不可散列\n",
    "v1"
   ]
  },
  {
   "cell_type": "code",
   "execution_count": 82,
   "metadata": {},
   "outputs": [
    {
     "output_type": "execute_result",
     "data": {
      "text/plain": [
       "pVector2d(2,3)"
      ]
     },
     "metadata": {},
     "execution_count": 82
    }
   ],
   "source": [
    "# pv1 可散列\n",
    "pv1"
   ]
  },
  {
   "cell_type": "code",
   "execution_count": 85,
   "metadata": {},
   "outputs": [
    {
     "output_type": "error",
     "ename": "TypeError",
     "evalue": "unhashable type: 'Vector2d'",
     "traceback": [
      "\u001b[0;31m---------------------------------------------------------------------------\u001b[0m",
      "\u001b[0;31mTypeError\u001b[0m                                 Traceback (most recent call last)",
      "\u001b[0;32m<ipython-input-85-af87aa91413a>\u001b[0m in \u001b[0;36m<module>\u001b[0;34m\u001b[0m\n\u001b[0;32m----> 1\u001b[0;31m \u001b[0mset\u001b[0m\u001b[0;34m(\u001b[0m\u001b[0;34m[\u001b[0m\u001b[0mv1\u001b[0m\u001b[0;34m,\u001b[0m\u001b[0mpv1\u001b[0m\u001b[0;34m]\u001b[0m\u001b[0;34m)\u001b[0m\u001b[0;34m\u001b[0m\u001b[0;34m\u001b[0m\u001b[0m\n\u001b[0m",
      "\u001b[0;31mTypeError\u001b[0m: unhashable type: 'Vector2d'"
     ]
    }
   ],
   "source": [
    "# v1 不可散列：unhashable\n",
    "set([v1,pv1])"
   ]
  },
  {
   "cell_type": "code",
   "execution_count": 86,
   "metadata": {},
   "outputs": [
    {
     "output_type": "error",
     "ename": "TypeError",
     "evalue": "unhashable type: 'Vector2d'",
     "traceback": [
      "\u001b[0;31m---------------------------------------------------------------------------\u001b[0m",
      "\u001b[0;31mTypeError\u001b[0m                                 Traceback (most recent call last)",
      "\u001b[0;32m<ipython-input-86-e769d6e59c8c>\u001b[0m in \u001b[0;36m<module>\u001b[0;34m\u001b[0m\n\u001b[0;32m----> 1\u001b[0;31m \u001b[0mhash\u001b[0m\u001b[0;34m(\u001b[0m\u001b[0mv1\u001b[0m\u001b[0;34m)\u001b[0m\u001b[0;34m\u001b[0m\u001b[0;34m\u001b[0m\u001b[0m\n\u001b[0m",
      "\u001b[0;31mTypeError\u001b[0m: unhashable type: 'Vector2d'"
     ]
    }
   ],
   "source": [
    "hash(v1)"
   ]
  },
  {
   "cell_type": "code",
   "execution_count": 87,
   "metadata": {},
   "outputs": [
    {
     "output_type": "execute_result",
     "data": {
      "text/plain": [
       "8775947394067"
      ]
     },
     "metadata": {},
     "execution_count": 87
    }
   ],
   "source": [
    "hash(pv1)"
   ]
  },
  {
   "source": [
    "# 整体实现\n",
    "\n",
    "- 实现分量表示\n",
    "- 实现拆包\n",
    "- 实现格式化\n",
    "- 实现repr返回构建源码（eval可以创建实例）\n",
    "- 实现相等\n",
    "- 实现返回布尔值\n",
    "- 实现打印\n",
    "- 实现操作类方法\n",
    "- 实现返回绝对值\n",
    "- 实现返回Bytes值\n",
    "- 实现散列\n",
    "- 实现只读\n",
    "- 实现float转换\n",
    "- 实现int转换\n",
    "- 实现complex\n"
   ],
   "cell_type": "markdown",
   "metadata": {}
  },
  {
   "cell_type": "code",
   "execution_count": 278,
   "metadata": {},
   "outputs": [],
   "source": [
    "import math\n",
    "from array import array\n",
    "\n",
    "class myVector2d:\n",
    "\n",
    "    typecode = 'd'\n",
    "\n",
    "    def __init__(self, x, y):\n",
    "        self.__x = x\n",
    "        self.__y = y\n",
    "\n",
    "    @property\n",
    "    def x(self):\n",
    "        return self.__x\n",
    "\n",
    "    @property\n",
    "    def y(self):\n",
    "        return self.__y\n",
    "\n",
    "    def __iter__(self):\n",
    "        return ( i for i in (self.x, self.y))\n",
    "\n",
    "    def __abs__(self):\n",
    "        #return math.sqrt(self.x * self.x + self.y * self.y)\n",
    "        return math.hypot(self.x, self.y) # hypot求斜边\n",
    "    \n",
    "    def __repr__(self):\n",
    "        return \"myVector2d({},{})\".format(self.x,self.y)\n",
    "\n",
    "    def __str__(self):\n",
    "        return str(tuple(self))\n",
    "\n",
    "    def __hash__(self):\n",
    "        return hash(self.x)^hash(self.y)\n",
    "\n",
    "    def __eq__(self, other):\n",
    "        return hash(self) == hash(other)\n",
    "    \n",
    "    def __bool__(self):\n",
    "        return bool(abs(self))\n",
    "    \n",
    "    def __bytes__(self):\n",
    "        # 二进制表示形式\n",
    "        return (bytes([ord(self.typecode)]) + \n",
    "                bytes(array(self.typecode, [self.x, self.y])))\n",
    "\n",
    "    def angle(self):\n",
    "        return math.atan2(self.y, self.x)    \n",
    "\n",
    "    def __format__(self, fmt_spec):\n",
    "        if fmt_spec.endswith(\"p\") :\n",
    "            fmt_spec = fmt_spec[:-1]\n",
    "            coords = (abs(self), self.angle())\n",
    "            out = \"myVector2d:<{},{}>\"\n",
    "        else:\n",
    "            coords = (i for i in self)\n",
    "            out = \"myVector2d:({},{})\"\n",
    "        componets = (format(c, fmt_spec) for c in coords)\n",
    "        return out.format(*componets)\n",
    "\n",
    "    @classmethod\n",
    "    def frombytes(cls, octets):\n",
    "        typecode = chr(octets[0])\n",
    "        mev = memoryview(octets[1:]).cast(typecode)\n",
    "        return cls(*mev)\n",
    "\n",
    "    def __float__(self):\n",
    "        return float(abs(self))\n",
    "\n",
    "    def __int__(self):\n",
    "        return int(abs(self))\n",
    "\n",
    "    def __complex__(self):\n",
    "        return complex(self.x, self.y)"
   ]
  },
  {
   "cell_type": "code",
   "execution_count": 279,
   "metadata": {},
   "outputs": [],
   "source": [
    "mv = myVector2d(2,5)"
   ]
  },
  {
   "cell_type": "code",
   "execution_count": 280,
   "metadata": {},
   "outputs": [
    {
     "output_type": "execute_result",
     "data": {
      "text/plain": [
       "myVector2d(2,5)"
      ]
     },
     "metadata": {},
     "execution_count": 280
    }
   ],
   "source": [
    "# 验证repr\n",
    "mv"
   ]
  },
  {
   "cell_type": "code",
   "execution_count": 281,
   "metadata": {},
   "outputs": [
    {
     "output_type": "stream",
     "name": "stdout",
     "text": [
      "a:2\nb:5\nmv.x:2\nmv.y:5\n\n"
     ]
    }
   ],
   "source": [
    "# 验证拆包和分量\n",
    "a,b = mv\n",
    "print(\"a:{}\\nb:{}\\nmv.x:{}\\nmv.y:{}\\n\".format(a,b,mv.x,mv.y))"
   ]
  },
  {
   "cell_type": "code",
   "execution_count": 282,
   "metadata": {},
   "outputs": [
    {
     "output_type": "stream",
     "name": "stdout",
     "text": [
      "(2, 5)\n"
     ]
    }
   ],
   "source": [
    "# 验证str\n",
    "print(mv)"
   ]
  },
  {
   "cell_type": "code",
   "execution_count": 283,
   "metadata": {},
   "outputs": [
    {
     "output_type": "execute_result",
     "data": {
      "text/plain": [
       "5.385164807134505"
      ]
     },
     "metadata": {},
     "execution_count": 283
    }
   ],
   "source": [
    "# 验证abs\n",
    "abs(mv)"
   ]
  },
  {
   "cell_type": "code",
   "execution_count": 284,
   "metadata": {},
   "outputs": [
    {
     "output_type": "execute_result",
     "data": {
      "text/plain": [
       "False"
      ]
     },
     "metadata": {},
     "execution_count": 284
    }
   ],
   "source": [
    "# 验证相等\n",
    "mv2 = myVector2d(2,3)\n",
    "\n",
    "mv == mv2"
   ]
  },
  {
   "cell_type": "code",
   "execution_count": 285,
   "metadata": {},
   "outputs": [
    {
     "output_type": "execute_result",
     "data": {
      "text/plain": [
       "True"
      ]
     },
     "metadata": {},
     "execution_count": 285
    }
   ],
   "source": [
    "mv3 = mv\n",
    "mv == mv3"
   ]
  },
  {
   "cell_type": "code",
   "execution_count": 286,
   "metadata": {},
   "outputs": [
    {
     "output_type": "execute_result",
     "data": {
      "text/plain": [
       "{myVector2d(2,3), myVector2d(2,5)}"
      ]
     },
     "metadata": {},
     "execution_count": 286
    }
   ],
   "source": [
    "# 验证可散列\n",
    "set([mv,mv2,mv3])"
   ]
  },
  {
   "cell_type": "code",
   "execution_count": 287,
   "metadata": {},
   "outputs": [
    {
     "output_type": "execute_result",
     "data": {
      "text/plain": [
       "True"
      ]
     },
     "metadata": {},
     "execution_count": 287
    }
   ],
   "source": [
    "# 验证布尔值\n",
    "bool(mv)"
   ]
  },
  {
   "cell_type": "code",
   "execution_count": 288,
   "metadata": {},
   "outputs": [
    {
     "output_type": "execute_result",
     "data": {
      "text/plain": [
       "'myVector2d:<5.385,1.190>'"
      ]
     },
     "metadata": {},
     "execution_count": 288
    }
   ],
   "source": [
    "# 验证格式化\n",
    "\"{:0.3fp}\".format(mv)"
   ]
  },
  {
   "cell_type": "code",
   "execution_count": 289,
   "metadata": {},
   "outputs": [
    {
     "output_type": "execute_result",
     "data": {
      "text/plain": [
       "'myVector2d:(2.000,5.000)'"
      ]
     },
     "metadata": {},
     "execution_count": 289
    }
   ],
   "source": [
    "# 验证格式化2\n",
    "\"{:0.3f}\".format(mv)"
   ]
  },
  {
   "cell_type": "code",
   "execution_count": 290,
   "metadata": {},
   "outputs": [
    {
     "output_type": "execute_result",
     "data": {
      "text/plain": [
       "b'd\\x00\\x00\\x00\\x00\\x00\\x00\\x00@\\x00\\x00\\x00\\x00\\x00\\x00\\x08@'"
      ]
     },
     "metadata": {},
     "execution_count": 290
    }
   ],
   "source": [
    "# 验证二进制转换\n",
    "bytes(mv2)"
   ]
  },
  {
   "cell_type": "code",
   "execution_count": 291,
   "metadata": {},
   "outputs": [
    {
     "output_type": "execute_result",
     "data": {
      "text/plain": [
       "myVector2d(2.0,3.0)"
      ]
     },
     "metadata": {},
     "execution_count": 291
    }
   ],
   "source": [
    "# 验证类方法\n",
    "octets = bytes(mv2)\n",
    "result = myVector2d.frombytes(octets)\n",
    "result"
   ]
  },
  {
   "cell_type": "code",
   "execution_count": 292,
   "metadata": {},
   "outputs": [
    {
     "output_type": "execute_result",
     "data": {
      "text/plain": [
       "5.385164807134505"
      ]
     },
     "metadata": {},
     "execution_count": 292
    }
   ],
   "source": [
    "# 验证float和int\n",
    "float(mv)"
   ]
  },
  {
   "cell_type": "code",
   "execution_count": 293,
   "metadata": {},
   "outputs": [
    {
     "output_type": "execute_result",
     "data": {
      "text/plain": [
       "5"
      ]
     },
     "metadata": {},
     "execution_count": 293
    }
   ],
   "source": [
    "int(mv)"
   ]
  },
  {
   "cell_type": "code",
   "execution_count": 294,
   "metadata": {},
   "outputs": [
    {
     "output_type": "execute_result",
     "data": {
      "text/plain": [
       "(2+5j)"
      ]
     },
     "metadata": {},
     "execution_count": 294
    }
   ],
   "source": [
    "# 验证complex\n",
    "\n",
    "complex(mv)"
   ]
  },
  {
   "cell_type": "code",
   "execution_count": null,
   "metadata": {},
   "outputs": [],
   "source": []
  },
  {
   "cell_type": "code",
   "execution_count": null,
   "metadata": {},
   "outputs": [],
   "source": []
  }
 ]
}