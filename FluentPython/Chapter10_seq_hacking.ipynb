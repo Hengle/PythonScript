{
 "metadata": {
  "language_info": {
   "codemirror_mode": {
    "name": "ipython",
    "version": 3
   },
   "file_extension": ".py",
   "mimetype": "text/x-python",
   "name": "python",
   "nbconvert_exporter": "python",
   "pygments_lexer": "ipython3",
   "version": "3.8.5"
  },
  "orig_nbformat": 2,
  "kernelspec": {
   "name": "python3",
   "language": "python",
   "display_name": "Python 3"
  }
 },
 "nbformat": 4,
 "nbformat_minor": 2,
 "cells": [
  {
   "source": [
    "# 兼容vector2d\n"
   ],
   "cell_type": "markdown",
   "metadata": {}
  },
  {
   "cell_type": "code",
   "execution_count": 66,
   "metadata": {},
   "outputs": [],
   "source": [
    "import math\n",
    "from array import array\n",
    "import reprlib\n",
    "import numbers\n",
    "\n",
    "class myVector_v1:\n",
    "\n",
    "    typecode = 'd'\n",
    "\n",
    "    def __init__(self, componets):\n",
    "        self._componets = array(self.typecode, componets)\n",
    "\n",
    "    def __iter__(self):\n",
    "        return iter(self._componets)\n",
    "\n",
    "    def __len__(self):\n",
    "        return len(self._componets)\n",
    "\n",
    "    def __getitem__(self, index):\n",
    "        return self._componets[index]\n",
    "\n",
    "    def __repr__(self):\n",
    "        componets = reprlib.repr(self._componets)\n",
    "        componets = componets[componets.find('['):-1]\n",
    "        return \"myVector({})\".format(componets)\n",
    "    \n",
    "    def __str__(self):\n",
    "        return str(tuple(self))\n",
    "\n",
    "    def __eq__(self, other):\n",
    "        return tuple(self) == tuple(other)\n",
    "\n",
    "    def __abs__(self):\n",
    "        return math.sqrt(sum((x*x for x in self._componets)))\n",
    "\n",
    "    def __bool__(self):\n",
    "        return bool(abs(self))\n",
    "\n",
    "    def __bytes__(self):\n",
    "        return (bytes([ord(self.typecode)])+\n",
    "                bytes(self._componets))\n",
    "\n",
    "    @classmethod\n",
    "    def frombytes(cls, octets):\n",
    "        typecode = chr(octets[0])\n",
    "        octets = octets[1:]\n",
    "        mev = memoryview(octets).cast(typecode)\n",
    "        return cls(mev)"
   ]
  },
  {
   "cell_type": "code",
   "execution_count": 67,
   "metadata": {},
   "outputs": [],
   "source": [
    "# 接受可迭代的对象\n",
    "v1 = myVector_v1((1,2,3,4,5,6))"
   ]
  },
  {
   "cell_type": "code",
   "execution_count": 68,
   "metadata": {},
   "outputs": [
    {
     "output_type": "execute_result",
     "data": {
      "text/plain": [
       "myVector([1.0, 2.0, 3.0, 4.0, 5.0, ...])"
      ]
     },
     "metadata": {},
     "execution_count": 68
    }
   ],
   "source": [
    "# 有限长度显示\n",
    "v1"
   ]
  },
  {
   "cell_type": "code",
   "execution_count": 69,
   "metadata": {},
   "outputs": [
    {
     "output_type": "stream",
     "name": "stdout",
     "text": [
      "(1.0, 2.0, 3.0, 4.0, 5.0, 6.0)\n"
     ]
    }
   ],
   "source": [
    "# 实现打印\n",
    "print(v1)"
   ]
  },
  {
   "cell_type": "code",
   "execution_count": 70,
   "metadata": {},
   "outputs": [
    {
     "output_type": "execute_result",
     "data": {
      "text/plain": [
       "9.539392014169456"
      ]
     },
     "metadata": {},
     "execution_count": 70
    }
   ],
   "source": [
    "# 实现abs\n",
    "abs(v1)"
   ]
  },
  {
   "cell_type": "code",
   "execution_count": 71,
   "metadata": {},
   "outputs": [
    {
     "output_type": "execute_result",
     "data": {
      "text/plain": [
       "False"
      ]
     },
     "metadata": {},
     "execution_count": 71
    }
   ],
   "source": [
    "# 实现==\n",
    "v2 = myVector_v1((1,2,3,4,5,6,7))\n",
    "v1 == v2"
   ]
  },
  {
   "cell_type": "code",
   "execution_count": 72,
   "metadata": {},
   "outputs": [
    {
     "output_type": "execute_result",
     "data": {
      "text/plain": [
       "True"
      ]
     },
     "metadata": {},
     "execution_count": 72
    }
   ],
   "source": [
    "v3 = v1\n",
    "v1 == v3"
   ]
  },
  {
   "cell_type": "code",
   "execution_count": 73,
   "metadata": {},
   "outputs": [
    {
     "output_type": "execute_result",
     "data": {
      "text/plain": [
       "True"
      ]
     },
     "metadata": {},
     "execution_count": 73
    }
   ],
   "source": [
    "# 实现bool\n",
    "\n",
    "bool(v1)"
   ]
  },
  {
   "cell_type": "code",
   "execution_count": 74,
   "metadata": {},
   "outputs": [
    {
     "output_type": "execute_result",
     "data": {
      "text/plain": [
       "b'd\\x00\\x00\\x00\\x00\\x00\\x00\\xf0?\\x00\\x00\\x00\\x00\\x00\\x00\\x00@\\x00\\x00\\x00\\x00\\x00\\x00\\x08@\\x00\\x00\\x00\\x00\\x00\\x00\\x10@\\x00\\x00\\x00\\x00\\x00\\x00\\x14@\\x00\\x00\\x00\\x00\\x00\\x00\\x18@'"
      ]
     },
     "metadata": {},
     "execution_count": 74
    }
   ],
   "source": [
    "# 实现bytes\n",
    "bytes(v1)"
   ]
  },
  {
   "source": [
    "# 错误案例\n",
    "```python\n",
    "@classmethod\n",
    "def frombytes(cls, octets):\n",
    "    typecode = octets[0]\n",
    "    octets = octets[1:]\n",
    "    mev = memoryview(octets).cast(str(typecode))\n",
    "    return cls(mev)\n",
    "```\n",
    "\n",
    "# 实现frombytes类方法\n",
    "```python\n",
    "octets = bytes(v1)\n",
    "v4 = myVector_v1.frombytes(octets)\n",
    "v4\n",
    "```\n",
    "\n",
    "# 返回\n",
    "```\n",
    "---------------------------------------------------------------------------\n",
    "ValueError                                Traceback (most recent call last)\n",
    "<ipython-input-111-cc81b8f5a13d> in <module>\n",
    "      1 # 实现frombytes类方法\n",
    "      2 octets = bytes(v1)\n",
    "----> 3 v4 = myVector_v1.frombytes(octets)\n",
    "      4 v4\n",
    "\n",
    "<ipython-input-102-4afe3d66e836> in frombytes(cls, octets)\n",
    "     41         typecode = octets[0]\n",
    "     42         octets = octets[1:]\n",
    "---> 43         mev = memoryview(octets).cast(str(typecode))\n",
    "     44         return cls(mev)\n",
    "\n",
    "ValueError: memoryview: destination format must be a native single character format prefixed with an optional '@'\n",
    "```"
   ],
   "cell_type": "markdown",
   "metadata": {}
  },
  {
   "cell_type": "code",
   "execution_count": 31,
   "metadata": {},
   "outputs": [
    {
     "output_type": "execute_result",
     "data": {
      "text/plain": [
       "array([1.0, 2.0, 3.0, 4.0, 5.0, ...])"
      ]
     },
     "metadata": {},
     "execution_count": 31
    }
   ],
   "source": [
    "# 实现frombytes类方法\n",
    "octets = bytes(v1)\n",
    "v4 = myVector_v1.frombytes(octets)\n",
    "v4"
   ]
  },
  {
   "cell_type": "code",
   "execution_count": 76,
   "metadata": {},
   "outputs": [
    {
     "output_type": "execute_result",
     "data": {
      "text/plain": [
       "array.array"
      ]
     },
     "metadata": {},
     "execution_count": 76
    }
   ],
   "source": [
    "type(v1[1:4])"
   ]
  },
  {
   "source": [
    "# 支持切片"
   ],
   "cell_type": "markdown",
   "metadata": {}
  },
  {
   "source": [
    "## 理解切片"
   ],
   "cell_type": "markdown",
   "metadata": {}
  },
  {
   "cell_type": "code",
   "execution_count": 32,
   "metadata": {},
   "outputs": [],
   "source": [
    "class mySeq:\n",
    "    def __getitem__(self, index):\n",
    "        return index"
   ]
  },
  {
   "cell_type": "code",
   "execution_count": 33,
   "metadata": {},
   "outputs": [
    {
     "output_type": "execute_result",
     "data": {
      "text/plain": [
       "1"
      ]
     },
     "metadata": {},
     "execution_count": 33
    }
   ],
   "source": [
    "s = mySeq()\n",
    "\n",
    "# 一个确定的值\n",
    "s[1]"
   ]
  },
  {
   "cell_type": "code",
   "execution_count": 34,
   "metadata": {},
   "outputs": [
    {
     "output_type": "execute_result",
     "data": {
      "text/plain": [
       "slice(1, 2, None)"
      ]
     },
     "metadata": {},
     "execution_count": 34
    }
   ],
   "source": [
    "# 范围连续取值\n",
    "s[1:2]"
   ]
  },
  {
   "cell_type": "code",
   "execution_count": 35,
   "metadata": {},
   "outputs": [
    {
     "output_type": "execute_result",
     "data": {
      "text/plain": [
       "slice(1, 5, 2)"
      ]
     },
     "metadata": {},
     "execution_count": 35
    }
   ],
   "source": [
    "# 范围设置步幅取值\n",
    "s[1:5:2]"
   ]
  },
  {
   "cell_type": "code",
   "execution_count": 36,
   "metadata": {},
   "outputs": [
    {
     "output_type": "execute_result",
     "data": {
      "text/plain": [
       "slice(None, 3, None)"
      ]
     },
     "metadata": {},
     "execution_count": 36
    }
   ],
   "source": [
    "# 自动不全内容\n",
    "s[:3:]"
   ]
  },
  {
   "cell_type": "code",
   "execution_count": 37,
   "metadata": {},
   "outputs": [
    {
     "output_type": "execute_result",
     "data": {
      "text/plain": [
       "(slice(1, 5, None), 9)"
      ]
     },
     "metadata": {},
     "execution_count": 37
    }
   ],
   "source": [
    "# 支持多组区间或确定值取值\n",
    "s[1:5,9]"
   ]
  },
  {
   "cell_type": "code",
   "execution_count": 38,
   "metadata": {},
   "outputs": [
    {
     "output_type": "execute_result",
     "data": {
      "text/plain": [
       "(slice(1, 5, None), slice(5, 9, None))"
      ]
     },
     "metadata": {},
     "execution_count": 38
    }
   ],
   "source": [
    "# 支持多组区间或确定值取值\n",
    "s[1:5,5:9]"
   ]
  },
  {
   "cell_type": "code",
   "execution_count": 39,
   "metadata": {},
   "outputs": [
    {
     "output_type": "execute_result",
     "data": {
      "text/plain": [
       "['__class__',\n",
       " '__delattr__',\n",
       " '__dir__',\n",
       " '__doc__',\n",
       " '__eq__',\n",
       " '__format__',\n",
       " '__ge__',\n",
       " '__getattribute__',\n",
       " '__gt__',\n",
       " '__hash__',\n",
       " '__init__',\n",
       " '__init_subclass__',\n",
       " '__le__',\n",
       " '__lt__',\n",
       " '__ne__',\n",
       " '__new__',\n",
       " '__reduce__',\n",
       " '__reduce_ex__',\n",
       " '__repr__',\n",
       " '__setattr__',\n",
       " '__sizeof__',\n",
       " '__str__',\n",
       " '__subclasshook__',\n",
       " 'indices',\n",
       " 'start',\n",
       " 'step',\n",
       " 'stop']"
      ]
     },
     "metadata": {},
     "execution_count": 39
    }
   ],
   "source": [
    "dir(slice)"
   ]
  },
  {
   "cell_type": "code",
   "execution_count": 40,
   "metadata": {},
   "outputs": [
    {
     "output_type": "stream",
     "name": "stdout",
     "text": [
      "Help on method_descriptor:\n\nindices(...)\n    S.indices(len) -> (start, stop, stride)\n    \n    Assuming a sequence of length len, calculate the start and stop\n    indices, and the stride length of the extended slice described by\n    S. Out of bounds indices are clipped in a manner consistent with the\n    handling of normal slices.\n\n"
     ]
    }
   ],
   "source": [
    "help(slice.indices)"
   ]
  },
  {
   "cell_type": "code",
   "execution_count": 41,
   "metadata": {},
   "outputs": [
    {
     "output_type": "execute_result",
     "data": {
      "text/plain": [
       "3.0"
      ]
     },
     "metadata": {},
     "execution_count": 41
    }
   ],
   "source": [
    "v1[2]"
   ]
  },
  {
   "source": [
    "# 简单返回内部数据，并不能返回切片，或者说返回的切片是array而不是自定义的类型\n",
    "如果\n",
    "```python\n",
    "def __getitem__(self, index):\n",
    "    return self._componets[index]\n",
    "```\n",
    "运行\n",
    "```\n",
    "\n",
    "v1[:]\n",
    "```\n",
    "\n",
    "## 返回\n",
    "array('d', \\[1.0, 2.0, 3.0, 4.0, 5.0, 6.0\\])\n"
   ],
   "cell_type": "markdown",
   "metadata": {}
  },
  {
   "cell_type": "code",
   "execution_count": 2,
   "metadata": {},
   "outputs": [],
   "source": [
    "import math\n",
    "from array import array\n",
    "import reprlib\n",
    "import numbers\n",
    "\n",
    "class myVector_v2:\n",
    "\n",
    "    typecode = 'd'\n",
    "\n",
    "    def __init__(self, componets):\n",
    "        self._componets = array(self.typecode, componets)\n",
    "\n",
    "    def __iter__(self):\n",
    "        return iter(self._componets)\n",
    "\n",
    "    def __len__(self):\n",
    "        return len(self._componets)\n",
    "\n",
    "    def __getitem__(self, index):\n",
    "        cls = type(self)\n",
    "        if isinstance(index, slice):\n",
    "            return cls(self._componets[index])\n",
    "        elif isinstance(index, numbers.Integral):\n",
    "            return self._componets[index]\n",
    "        else:\n",
    "            msg = '{cls.__name__} indices must be integers'\n",
    "            raise TypeError(msg.format(cls=cls))\n",
    "\n",
    "    def __repr__(self):\n",
    "        componets = reprlib.repr(self._componets)\n",
    "        componets = componets[componets.find('['):-1]\n",
    "        return \"myVector({})\".format(componets)\n",
    "    \n",
    "    def __str__(self):\n",
    "        return str(tuple(self))\n",
    "\n",
    "    def __eq__(self, other):\n",
    "        return tuple(self) == tuple(other)\n",
    "\n",
    "    def __abs__(self):\n",
    "        return math.sqrt(sum((x*x for x in self._componets)))\n",
    "\n",
    "    def __bool__(self):\n",
    "        return bool(abs(self))\n",
    "\n",
    "    def __bytes__(self):\n",
    "        return (bytes([ord(self.typecode)])+\n",
    "                bytes(self._componets))\n",
    "\n",
    "    @classmethod\n",
    "    def frombytes(cls, octets):\n",
    "        typecode = chr(octets[0])\n",
    "        octets = octets[1:]\n",
    "        mev = memoryview(octets).cast(typecode)\n",
    "        return cls(mev)"
   ]
  },
  {
   "cell_type": "code",
   "execution_count": 3,
   "metadata": {},
   "outputs": [],
   "source": [
    "v1 = myVector_v2([4,5,6,7,8,9,0,1])"
   ]
  },
  {
   "cell_type": "code",
   "execution_count": 4,
   "metadata": {},
   "outputs": [
    {
     "data": {
      "text/plain": "__main__.myVector_v2"
     },
     "execution_count": 4,
     "metadata": {},
     "output_type": "execute_result"
    }
   ],
   "source": [
    "v2 = v1[3:6]\n",
    "type(v2)"
   ]
  },
  {
   "source": [
    "# 动态获取属性，使用v.x、v.y这样的方式获得分量"
   ],
   "cell_type": "markdown",
   "metadata": {}
  },
  {
   "source": [
    "## 以某个字母作为分量获得方法可以使用\\_\\_getattr\\_\\_内置方法\n",
    "\n",
    "> 注意，不要实现\\_\\_getattribute\\_\\_方法，这不是同一个方法，get_attr方法的调用优先等级低。\n",
    "\n",
    "> 属性查找失败后，解释器会调用 __getattr__ 方法。简单来说，对 my_obj.x 表达式，Python 会检查 my_obj 实例有没有名为 x 的属性; 如果没有，到类(my_obj.__class__)中查找;如果还没有，顺着 继承树继续查找。4 如果依旧找不到，调用 my_obj 所属类中定义的 __getattr__ 方法，传入 self 和属性名称的字符串形式(如 'x')。"
   ],
   "cell_type": "markdown",
   "metadata": {}
  },
  {
   "cell_type": "code",
   "execution_count": 5,
   "metadata": {},
   "outputs": [],
   "source": [
    "import math\n",
    "from array import array\n",
    "import reprlib\n",
    "import numbers\n",
    "\n",
    "class myVector_v3:\n",
    "\n",
    "    typecode = 'd'\n",
    "    shortcut = 'xyzw'\n",
    "\n",
    "    def __init__(self, componets):\n",
    "        self._componets = array(self.typecode, componets)\n",
    "\n",
    "    def __iter__(self):\n",
    "        return iter(self._componets)\n",
    "\n",
    "    def __len__(self):\n",
    "        return len(self._componets)\n",
    "\n",
    "    def __getitem__(self, index):\n",
    "        cls = type(self)\n",
    "        if isinstance(index, slice):\n",
    "            return cls(self._componets[index])\n",
    "        elif isinstance(index, numbers.Integral):\n",
    "            return self._componets[index]\n",
    "        else:\n",
    "            msg = '{cls.__name__} indices must be integers'\n",
    "            raise TypeError(msg.format(cls=cls))\n",
    "\n",
    "    def __getattr__(self, attr):\n",
    "        cls = type(self)\n",
    "        if len(attr) == 1:\n",
    "            index = cls.shortcut.find(attr)\n",
    "            if 0<=index<len(self._componets):\n",
    "                return self._componets[index]\n",
    "        else:\n",
    "            msg = '{.__name__!r} has no attribute : {!r}'\n",
    "            raise AttributeError(msg.format(cls, attr))\n",
    "    \n",
    "    def __repr__(self):\n",
    "        componets = reprlib.repr(self._componets)\n",
    "        componets = componets[componets.find('['):-1]\n",
    "        return \"myVector({})\".format(componets)\n",
    "    \n",
    "    def __str__(self):\n",
    "        return str(tuple(self))\n",
    "\n",
    "    def __eq__(self, other):\n",
    "        return tuple(self) == tuple(other)\n",
    "\n",
    "    def __abs__(self):\n",
    "        return math.sqrt(sum((x*x for x in self._componets)))\n",
    "\n",
    "    def __bool__(self):\n",
    "        return bool(abs(self))\n",
    "\n",
    "    def __bytes__(self):\n",
    "        return (bytes([ord(self.typecode)])+\n",
    "                bytes(self._componets))\n",
    "\n",
    "    @classmethod\n",
    "    def frombytes(cls, octets):\n",
    "        typecode = chr(octets[0])\n",
    "        octets = octets[1:]\n",
    "        mev = memoryview(octets).cast(typecode)\n",
    "        return cls(mev)\n",
    "\n",
    "    "
   ]
  },
  {
   "cell_type": "code",
   "execution_count": 6,
   "metadata": {},
   "outputs": [
    {
     "data": {
      "text/plain": "1.0"
     },
     "execution_count": 6,
     "metadata": {},
     "output_type": "execute_result"
    }
   ],
   "source": [
    "myv3 = myVector_v3(range(10))\n",
    "myv3.y"
   ]
  },
  {
   "cell_type": "code",
   "execution_count": 7,
   "metadata": {},
   "outputs": [
    {
     "data": {
      "text/plain": "myVector([0.0, 1.0, 2.0, 3.0, 4.0, ...])"
     },
     "execution_count": 7,
     "metadata": {},
     "output_type": "execute_result"
    }
   ],
   "source": [
    "myv3"
   ]
  },
  {
   "cell_type": "code",
   "execution_count": 93,
   "metadata": {},
   "outputs": [
    {
     "output_type": "execute_result",
     "data": {
      "text/plain": [
       "10"
      ]
     },
     "metadata": {},
     "execution_count": 93
    }
   ],
   "source": [
    "# 但是会有一个访问优先级的问题：\n",
    "myv3.y = 10\n",
    "myv3.y"
   ]
  },
  {
   "source": [
    "## 由上面的例子可以看出，当只实现了\\_\\_getAttr\\_\\_函数，是不行的。当我们给myv3.y赋值时，其实是给实例添加了一个属性。其实此时是用到了\\_\\_setattr\\_\\_函数，因此我们还需要实现该函数，让xyzw成为只读属性，\n",
    "\n",
    "## 同时，如果像使用a\\[1\\]=3方式赋值，需要实现\\_\\_setitem\\_\\_方法，这个下个实例详细解释。"
   ],
   "cell_type": "markdown",
   "metadata": {}
  },
  {
   "cell_type": "code",
   "execution_count": 8,
   "metadata": {},
   "outputs": [],
   "source": [
    "import math\n",
    "from array import array\n",
    "import reprlib\n",
    "import numbers\n",
    "\n",
    "class myVector_v3_set:\n",
    "\n",
    "    typecode = 'd'\n",
    "    shortcut = 'xyzw'\n",
    "\n",
    "    def __init__(self, componets):\n",
    "        self._componets = array(self.typecode, componets)\n",
    "\n",
    "    def __iter__(self):\n",
    "        return iter(self._componets)\n",
    "\n",
    "    def __len__(self):\n",
    "        return len(self._componets)\n",
    "\n",
    "    def __getitem__(self, index):\n",
    "        cls = type(self)\n",
    "        if isinstance(index, slice):\n",
    "            return cls(self._componets[index])\n",
    "        elif isinstance(index, numbers.Integral):\n",
    "            return self._componets[index]\n",
    "        else:\n",
    "            msg = '{cls.__name__} indices must be integers'\n",
    "            raise TypeError(msg.format(cls=cls))\n",
    "\n",
    "    def __getattr__(self, attr):\n",
    "        cls = type(self)\n",
    "        if len(attr) == 1:\n",
    "            index = cls.shortcut.find(attr)\n",
    "            if 0<=index<len(self._componets):\n",
    "                return self._componets[index]\n",
    "        else:\n",
    "            msg = '{.__name__!r} has no attribute : {!r}'\n",
    "            raise AttributeError(msg.format(cls, attr))\n",
    "\n",
    "    # 实现属性只读模式\n",
    "    def __setattr__(self, attr, value):\n",
    "        cls = type(self)\n",
    "        if len(attr) == 1 :\n",
    "            if attr in cls.shortcut:\n",
    "                msg = 'read only attribute : {attr_name}'\n",
    "            elif attr.islower():\n",
    "                msg = '{cls_name} can not set attribute name in a to z'\n",
    "            else:\n",
    "                msg = ''\n",
    "            if msg:\n",
    "                out = msg.format(attr_name = attr, cls_name = cls)\n",
    "                raise AttributeError(out)\n",
    "        \n",
    "        super().__setattr__(attr, value)\n",
    "    \n",
    "    def __repr__(self):\n",
    "        componets = reprlib.repr(self._componets)\n",
    "        componets = componets[componets.find('['):-1]\n",
    "        return \"myVector({})\".format(componets)\n",
    "    \n",
    "    def __str__(self):\n",
    "        return str(tuple(self))\n",
    "\n",
    "    def __eq__(self, other):\n",
    "        return tuple(self) == tuple(other)\n",
    "\n",
    "    def __abs__(self):\n",
    "        return math.sqrt(sum((x*x for x in self._componets)))\n",
    "\n",
    "    def __bool__(self):\n",
    "        return bool(abs(self))\n",
    "\n",
    "    def __bytes__(self):\n",
    "        return (bytes([ord(self.typecode)])+\n",
    "                bytes(self._componets))\n",
    "\n",
    "    @classmethod\n",
    "    def frombytes(cls, octets):\n",
    "        typecode = chr(octets[0])\n",
    "        octets = octets[1:]\n",
    "        mev = memoryview(octets).cast(typecode)\n",
    "        return cls(mev)\n",
    "\n",
    "    "
   ]
  },
  {
   "cell_type": "code",
   "execution_count": 9,
   "metadata": {},
   "outputs": [
    {
     "data": {
      "text/plain": "3.0"
     },
     "execution_count": 9,
     "metadata": {},
     "output_type": "execute_result"
    }
   ],
   "source": [
    "myv3_1 = myVector_v3_set(range(10))\n",
    "myv3_1.w"
   ]
  },
  {
   "cell_type": "code",
   "execution_count": 10,
   "metadata": {},
   "outputs": [
    {
     "ename": "AttributeError",
     "evalue": "read only attribute : w",
     "output_type": "error",
     "traceback": [
      "\u001B[1;31m---------------------------------------------------------------------------\u001B[0m",
      "\u001B[1;31mAttributeError\u001B[0m                            Traceback (most recent call last)",
      "\u001B[1;32m<ipython-input-10-e9349cfd024a>\u001B[0m in \u001B[0;36m<module>\u001B[1;34m\u001B[0m\n\u001B[1;32m----> 1\u001B[1;33m \u001B[0mmyv3_1\u001B[0m\u001B[1;33m.\u001B[0m\u001B[0mw\u001B[0m \u001B[1;33m=\u001B[0m \u001B[1;36m10\u001B[0m\u001B[1;33m\u001B[0m\u001B[1;33m\u001B[0m\u001B[0m\n\u001B[0m\u001B[0;32m      2\u001B[0m \u001B[1;33m\u001B[0m\u001B[0m\n",
      "\u001B[1;32m<ipython-input-8-cb6100d0df6b>\u001B[0m in \u001B[0;36m__setattr__\u001B[1;34m(self, attr, value)\u001B[0m\n\u001B[0;32m     50\u001B[0m             \u001B[1;32mif\u001B[0m \u001B[0mmsg\u001B[0m\u001B[1;33m:\u001B[0m\u001B[1;33m\u001B[0m\u001B[1;33m\u001B[0m\u001B[0m\n\u001B[0;32m     51\u001B[0m                 \u001B[0mout\u001B[0m \u001B[1;33m=\u001B[0m \u001B[0mmsg\u001B[0m\u001B[1;33m.\u001B[0m\u001B[0mformat\u001B[0m\u001B[1;33m(\u001B[0m\u001B[0mattr_name\u001B[0m \u001B[1;33m=\u001B[0m \u001B[0mattr\u001B[0m\u001B[1;33m,\u001B[0m \u001B[0mcls_name\u001B[0m \u001B[1;33m=\u001B[0m \u001B[0mcls\u001B[0m\u001B[1;33m)\u001B[0m\u001B[1;33m\u001B[0m\u001B[1;33m\u001B[0m\u001B[0m\n\u001B[1;32m---> 52\u001B[1;33m                 \u001B[1;32mraise\u001B[0m \u001B[0mAttributeError\u001B[0m\u001B[1;33m(\u001B[0m\u001B[0mout\u001B[0m\u001B[1;33m)\u001B[0m\u001B[1;33m\u001B[0m\u001B[1;33m\u001B[0m\u001B[0m\n\u001B[0m\u001B[0;32m     53\u001B[0m \u001B[1;33m\u001B[0m\u001B[0m\n\u001B[0;32m     54\u001B[0m         \u001B[0msuper\u001B[0m\u001B[1;33m(\u001B[0m\u001B[1;33m)\u001B[0m\u001B[1;33m.\u001B[0m\u001B[0m__setattr__\u001B[0m\u001B[1;33m(\u001B[0m\u001B[0mattr\u001B[0m\u001B[1;33m,\u001B[0m \u001B[0mvalue\u001B[0m\u001B[1;33m)\u001B[0m\u001B[1;33m\u001B[0m\u001B[1;33m\u001B[0m\u001B[0m\n",
      "\u001B[1;31mAttributeError\u001B[0m: read only attribute : w"
     ]
    }
   ],
   "source": [
    "myv3_1.w = 10"
   ]
  },
  {
   "source": [
    "我们知道，在类中声明 \\_\\_slots\\_\\_ 属性可以防止设置新实 例属性;因此，你可能想使用这个功能，而不像这里所做的，实现 \\_\\_setattr\\_\\_ 方法。可是，正如 9.8.1 节所指出的，不建议只为\n",
    "了避免创建实例属性而使用 \\_\\_slots\\_\\_ 属性。\\_\\_slots\\_\\_ 属性 只应该用于节省内存，而且仅当内存严重不足时才应该这么做。\n"
   ],
   "cell_type": "markdown",
   "metadata": {}
  },
  {
   "source": [
    "# 10.6 散列和快速等值测试"
   ],
   "cell_type": "markdown",
   "metadata": {}
  },
  {
   "source": [
    "## 散列实现\n",
    "\n",
    "- 用到了 functools 中的reduce函数，他可以利用第一个参数（有两个参数的函数），将第二个参数的数组进行聚合成一个值。\n",
    "\n",
    "- \b避免在reduce的函数中使用匿名函数，所以可以利用operator类，里面包含全部的中辍操作符的函数形式。\n",
    "\n",
    "- reduce第三个参数是初始化参数，防止传入空数组而报错\n",
    "\n",
    "\n",
    "## 实现等值测试\n",
    "\n",
    "- 用到了zip函数，但是其有个问题，就是当两个数组不等长的时候，其不会报错。\n",
    "\n",
    "- 因此在第一个判断中，确认数组长度是否一样。\n",
    "\n",
    "- 使用all函数，可以类似 and 的逻辑判断"
   ],
   "cell_type": "markdown",
   "metadata": {}
  },
  {
   "cell_type": "code",
   "execution_count": 23,
   "metadata": {},
   "outputs": [],
   "source": [
    "import math\n",
    "from array import array\n",
    "import reprlib\n",
    "import numbers\n",
    "import operator\n",
    "import functools\n",
    "\n",
    "class myVector_v4:\n",
    "\n",
    "    typecode = 'd'\n",
    "    shortcut = 'xyzw'\n",
    "\n",
    "    def __init__(self, componets):\n",
    "        self._componets = array(self.typecode, componets)\n",
    "\n",
    "    def __iter__(self):\n",
    "        return iter(self._componets)\n",
    "\n",
    "    def __len__(self):\n",
    "        return len(self._componets)\n",
    "\n",
    "    def __getitem__(self, index):\n",
    "        cls = type(self)\n",
    "        if isinstance(index, slice):\n",
    "            return cls(self._componets[index])\n",
    "        elif isinstance(index, numbers.Integral):\n",
    "            return self._componets[index]\n",
    "        else:\n",
    "            msg = '{cls.__name__} indices must be integers'\n",
    "            raise TypeError(msg.format(cls=cls))\n",
    "\n",
    "    def __getattr__(self, attr):\n",
    "        cls = type(self)\n",
    "        if len(attr) == 1:\n",
    "            index = cls.shortcut.find(attr)\n",
    "            if 0<=index<len(self._componets):\n",
    "                return self._componets[index]\n",
    "        else:\n",
    "            msg = '{.__name__!r} has no attribute : {!r}'\n",
    "            raise AttributeError(msg.format(cls, attr))\n",
    "\n",
    "    # 实现属性只读模式\n",
    "    def __setattr__(self, attr, value):\n",
    "        cls = type(self)\n",
    "        if len(attr) == 1 :\n",
    "            if attr in cls.shortcut:\n",
    "                msg = 'read only attribute : {attr_name}'\n",
    "            elif attr.islower():\n",
    "                msg = '{cls_name} can not set attribute name in a to z'\n",
    "            else:\n",
    "                msg = ''\n",
    "            if msg:\n",
    "                out = msg.format(attr_name = attr, cls_name = cls)\n",
    "                raise AttributeError(out)\n",
    "        \n",
    "        super().__setattr__(attr, value)\n",
    "    \n",
    "    def __repr__(self):\n",
    "        componets = reprlib.repr(self._componets)\n",
    "        componets = componets[componets.find('['):-1]\n",
    "        return \"myVector({})\".format(componets)\n",
    "    \n",
    "    def __str__(self):\n",
    "        return str(tuple(self))\n",
    "\n",
    "    # 采用更加准确和高效的方法：\n",
    "    def __eq__(self, other):\n",
    "        # return tuple(self) == tuple(other)\n",
    "        return len(self) == len(other) and all( a == b for a,b in zip(self, other))\n",
    "\n",
    "    def __abs__(self):\n",
    "        return math.sqrt(sum((x*x for x in self._componets)))\n",
    "\n",
    "    def __bool__(self):\n",
    "        return bool(abs(self))\n",
    "\n",
    "    def __bytes__(self):\n",
    "        return (bytes([ord(self.typecode)])+\n",
    "                bytes(self._componets))\n",
    "\n",
    "    # 实现散列，需要实现hash函数\n",
    "    def __hash__(self):\n",
    "        hashes = map(hash, self._componets)\n",
    "        return functools.reduce(operator.xor,hashes，0)\n",
    "\n",
    "    @classmethod\n",
    "    def frombytes(cls, octets):\n",
    "        typecode = chr(octets[0])\n",
    "        octets = octets[1:]\n",
    "        mev = memoryview(octets).cast(typecode)\n",
    "        return cls(mev)\n",
    "\n",
    "    "
   ]
  },
  {
   "cell_type": "code",
   "execution_count": 24,
   "metadata": {},
   "outputs": [
    {
     "output_type": "execute_result",
     "data": {
      "text/plain": [
       "384307168202284039"
      ]
     },
     "metadata": {},
     "execution_count": 24
    }
   ],
   "source": [
    "v4 = myVector_v4([3.1,4.2])\n",
    "hash(v4)"
   ]
  },
  {
   "cell_type": "code",
   "execution_count": 25,
   "metadata": {},
   "outputs": [
    {
     "output_type": "execute_result",
     "data": {
      "text/plain": [
       "myVector([3.1, 4.2])"
      ]
     },
     "metadata": {},
     "execution_count": 25
    }
   ],
   "source": [
    "v4"
   ]
  },
  {
   "cell_type": "code",
   "execution_count": 26,
   "metadata": {},
   "outputs": [
    {
     "output_type": "error",
     "ename": "TypeError",
     "evalue": "unhashable type: 'myVector_v3_set'",
     "traceback": [
      "\u001B[0;31m---------------------------------------------------------------------------\u001B[0m",
      "\u001B[0;31mTypeError\u001B[0m                                 Traceback (most recent call last)",
      "\u001B[0;32m<ipython-input-26-ead77afec7a1>\u001B[0m in \u001B[0;36m<module>\u001B[0;34m\u001B[0m\n\u001B[0;32m----> 1\u001B[0;31m \u001B[0mhash\u001B[0m\u001B[0;34m(\u001B[0m\u001B[0mmyv3_1\u001B[0m\u001B[0;34m)\u001B[0m\u001B[0;34m\u001B[0m\u001B[0;34m\u001B[0m\u001B[0m\n\u001B[0m",
      "\u001B[0;31mTypeError\u001B[0m: unhashable type: 'myVector_v3_set'"
     ]
    }
   ],
   "source": [
    "hash(myv3_1)"
   ]
  },
  {
   "cell_type": "code",
   "execution_count": 29,
   "metadata": {},
   "outputs": [
    {
     "output_type": "execute_result",
     "data": {
      "text/plain": [
       "(True, False)"
      ]
     },
     "metadata": {},
     "execution_count": 29
    }
   ],
   "source": [
    "v1 = myVector_v4([3,5])\n",
    "v2 = myVector_v4([3.0,5.0])\n",
    "v3 = myVector_v4([3.1,5.1])\n",
    "\n",
    "v1 == v2, v1 == v3"
   ]
  },
  {
   "source": [
    "# 格式化"
   ],
   "cell_type": "markdown",
   "metadata": {}
  },
  {
   "cell_type": "code",
   "execution_count": 32,
   "metadata": {},
   "outputs": [],
   "source": [
    "import math\n",
    "from array import array\n",
    "import reprlib\n",
    "import numbers\n",
    "import operator\n",
    "import functools\n",
    "import math\n",
    "import itertools\n",
    "\n",
    "class myVector_v5:\n",
    "\n",
    "    typecode = 'd'\n",
    "    shortcut = 'xyzw'\n",
    "\n",
    "    def __init__(self, componets):\n",
    "        self._componets = array(self.typecode, componets)\n",
    "\n",
    "    def __iter__(self):\n",
    "        return iter(self._componets)\n",
    "\n",
    "    def __len__(self):\n",
    "        return len(self._componets)\n",
    "\n",
    "    def __getitem__(self, index):\n",
    "        cls = type(self)\n",
    "        if isinstance(index, slice):\n",
    "            return cls(self._componets[index])\n",
    "        elif isinstance(index, numbers.Integral):\n",
    "            return self._componets[index]\n",
    "        else:\n",
    "            msg = '{cls.__name__} indices must be integers'\n",
    "            raise TypeError(msg.format(cls=cls))\n",
    "\n",
    "    def __getattr__(self, attr):\n",
    "        cls = type(self)\n",
    "        if len(attr) == 1:\n",
    "            index = cls.shortcut.find(attr)\n",
    "            if 0<=index<len(self._componets):\n",
    "                return self._componets[index]\n",
    "        else:\n",
    "            msg = '{.__name__!r} has no attribute : {!r}'\n",
    "            raise AttributeError(msg.format(cls, attr))\n",
    "\n",
    "    # 实现属性只读模式\n",
    "    def __setattr__(self, attr, value):\n",
    "        cls = type(self)\n",
    "        if len(attr) == 1 :\n",
    "            if attr in cls.shortcut:\n",
    "                msg = 'read only attribute : {attr_name}'\n",
    "            elif attr.islower():\n",
    "                msg = '{cls_name} can not set attribute name in a to z'\n",
    "            else:\n",
    "                msg = ''\n",
    "            if msg:\n",
    "                out = msg.format(attr_name = attr, cls_name = cls)\n",
    "                raise AttributeError(out)\n",
    "        \n",
    "        super().__setattr__(attr, value)\n",
    "    \n",
    "    def __repr__(self):\n",
    "        componets = reprlib.repr(self._componets)\n",
    "        componets = componets[componets.find('['):-1]\n",
    "        return \"myVector({})\".format(componets)\n",
    "    \n",
    "    def __str__(self):\n",
    "        return str(tuple(self))\n",
    "\n",
    "    # 采用更加准确和高效的方法：\n",
    "    def __eq__(self, other):\n",
    "        # return tuple(self) == tuple(other)\n",
    "        return len(self) == len(other) and all( a == b for a,b in zip(self, other))\n",
    "\n",
    "    def __abs__(self):\n",
    "        return math.sqrt(sum((x*x for x in self._componets)))\n",
    "\n",
    "    def __bool__(self):\n",
    "        return bool(abs(self))\n",
    "\n",
    "    def __bytes__(self):\n",
    "        return (bytes([ord(self.typecode)])+\n",
    "                bytes(self._componets))\n",
    "\n",
    "    # 实现散列，需要实现hash函数\n",
    "    def __hash__(self):\n",
    "        hashes = map(hash, self._componets)\n",
    "        return functools.reduce(operator.xor,hashes,0)\n",
    "\n",
    "    def angle(self, n):\n",
    "        r = math.sqrt(sum( x * x for x in self[n:]))\n",
    "        a = math.atan2(r, self[n-1])\n",
    "        if n == len(self)-1 and self[-1]<0:\n",
    "            return math.pi * 2 - a\n",
    "        else:\n",
    "            return a\n",
    "\n",
    "    def angles(self):\n",
    "        return (self.angle(n) for n in range(1, len(self)))\n",
    "\n",
    "    def __format__(self, fmt_spec=''):\n",
    "        if fmt_spec.endswith('h'): # 超球面坐标\n",
    "            fmt_spec = fmt_spec[:-1]\n",
    "            coords = itertools.chain([abs(self)], self.angles())\n",
    "            outer_fmt = '<{}>'\n",
    "        else:\n",
    "            coords = self\n",
    "            outer_fmt = '({})'\n",
    "        components = (format(c, fmt_spec) for c in coords)\n",
    "        return outer_fmt.format(', '.join(components))\n",
    "\n",
    "    @classmethod\n",
    "    def frombytes(cls, octets):\n",
    "        typecode = chr(octets[0])\n",
    "        octets = octets[1:]\n",
    "        mev = memoryview(octets).cast(typecode)\n",
    "        return cls(mev)\n",
    "\n"
   ]
  },
  {
   "cell_type": "code",
   "execution_count": 37,
   "metadata": {},
   "outputs": [
    {
     "output_type": "execute_result",
     "data": {
      "text/plain": [
       "'<16.88194, 1.57080, 1.51153, 1.45184, 1.39054, 1.32536, 1.25233, 1.16404, 1.04423, 0.84415>'"
      ]
     },
     "metadata": {},
     "execution_count": 37
    }
   ],
   "source": [
    "v11 = myVector_v5(range(10))\n",
    "\n",
    "format(v11, '.05fh')"
   ]
  },
  {
   "source": [
    "# 总结\n",
    "\n",
    "理解鸭子模式。只要看山去像即可。\n",
    "\n",
    "## 实现序列化\n",
    "实现\\_\\_getitem\\_\\_和\\_\\_len\\_\\_两个内置方法即可支持序列化\n",
    "\n",
    "\n",
    "## 实现切片\n",
    "利用slice函数实现复杂切片\n",
    "\n",
    "## 只读属性\n",
    "\n",
    "设置\\_\\_getattr\\_\\_方法的同时也要记得设置\\_\\_setattr\\_\\_方法，在后者里进行添加只读权限。\n",
    "\n",
    "\\_\\_slot\\_\\_函数应作为内存优化，而非控制属性权限的方法\n",
    "\n",
    "## 散列\n",
    "实现\\_\\_hash\\_\\_可以是类支持散列特性\n",
    "使用了reduce和operator的中辍函数\n",
    "\n",
    "\n",
    "## 等值判断\n",
    "目前是一个不准确的等值判断\n",
    "利用了 zip和len\n",
    "\n",
    "## 格式化\n",
    "自定义了一种格式——超球坐标"
   ],
   "cell_type": "markdown",
   "metadata": {}
  },
  {
   "cell_type": "code",
   "execution_count": 38,
   "metadata": {},
   "outputs": [
    {
     "output_type": "execute_result",
     "data": {
      "text/plain": [
       "60"
      ]
     },
     "metadata": {},
     "execution_count": 38
    }
   ],
   "source": [
    "# 如何改进该方法呢？\n",
    "\n",
    "import functools\n",
    "my_list = [[1, 2, 3], [40, 50, 60], [9, 8, 7]]\n",
    "functools.reduce(lambda a,b: a+b, [sub[1] for sub in my_list])"
   ]
  },
  {
   "cell_type": "code",
   "execution_count": 39,
   "metadata": {},
   "outputs": [
    {
     "output_type": "execute_result",
     "data": {
      "text/plain": [
       "60"
      ]
     },
     "metadata": {},
     "execution_count": 39
    }
   ],
   "source": [
    "# 简化掉列表推导式\n",
    "\n",
    "import functools\n",
    "my_list = [[1, 2, 3], [40, 50, 60], [9, 8, 7]]\n",
    "functools.reduce(lambda a,b: a+b[1], my_list, 0)"
   ]
  },
  {
   "cell_type": "code",
   "execution_count": 40,
   "metadata": {},
   "outputs": [
    {
     "output_type": "execute_result",
     "data": {
      "text/plain": [
       "60"
      ]
     },
     "metadata": {},
     "execution_count": 40
    }
   ],
   "source": [
    "# 简化掉匿名函数\n",
    "\n",
    "import functools\n",
    "import operator\n",
    "my_list = [[1, 2, 3], [40, 50, 60], [9, 8, 7]]\n",
    "functools.reduce(operator.add, [sub[1] for sub in my_list], 0)"
   ]
  },
  {
   "cell_type": "code",
   "execution_count": 41,
   "metadata": {},
   "outputs": [
    {
     "output_type": "execute_result",
     "data": {
      "text/plain": [
       "60"
      ]
     },
     "metadata": {},
     "execution_count": 41
    }
   ],
   "source": [
    "# 使用numpy\n",
    "\n",
    "import numpy as np\n",
    "my_list = [[1, 2, 3], [40, 50, 60], [9, 8, 7]]\n",
    "my_array = np.array(my_list)\n",
    "np.sum(my_array[:,1])"
   ]
  },
  {
   "cell_type": "code",
   "execution_count": 42,
   "metadata": {},
   "outputs": [
    {
     "output_type": "execute_result",
     "data": {
      "text/plain": [
       "60"
      ]
     },
     "metadata": {},
     "execution_count": 42
    }
   ],
   "source": [
    "# 为什么不能这样？\n",
    "\n",
    "total = 0\n",
    "for sub in my_list:\n",
    "    total += sub[1]\n",
    "\n",
    "total"
   ]
  },
  {
   "source": [
    "## 为什么不能这样？\n",
    "\n",
    "## 如果你想计算列表中各个元素的和，写出的代码应该看起来像 是在“计算元素之和”，而不是“迭代元素，维护一个变量 t，再 执行一系列求和操作”。如果不能站在一定高度上表明意图， 让语言去关注低层操作，那么要高级语言干嘛?"
   ],
   "cell_type": "markdown",
   "metadata": {}
  },
  {
   "cell_type": "code",
   "execution_count": 45,
   "metadata": {},
   "outputs": [
    {
     "output_type": "execute_result",
     "data": {
      "text/plain": [
       "60"
      ]
     },
     "metadata": {},
     "execution_count": 45
    }
   ],
   "source": [
    "# 之后，python官方内置了sum函数，可见python的艺术就是要简洁\n",
    "\n",
    "my_list = [[1, 2, 3], [40, 50, 60], [9, 8, 7]]\n",
    "\n",
    "sum(sub[1] for sub in my_list)\n",
    "\n",
    "\n",
    "# 这利用了sum内置函数，并且支持了生成器表达式"
   ]
  },
  {
   "cell_type": "code",
   "execution_count": null,
   "metadata": {},
   "outputs": [],
   "source": []
  }
 ]
}