{
 "metadata": {
  "language_info": {
   "codemirror_mode": {
    "name": "ipython",
    "version": 3
   },
   "file_extension": ".py",
   "mimetype": "text/x-python",
   "name": "python",
   "nbconvert_exporter": "python",
   "pygments_lexer": "ipython3",
   "version": "3.8.5-final"
  },
  "orig_nbformat": 2,
  "kernelspec": {
   "name": "python385jvsc74a57bd0e6db7d16afb9d2b05a6270becd2d66f0676bfd807f06b7702e9e3df3fb7a71ca",
   "display_name": "Python 3.8.5 64-bit ('base': conda)"
  }
 },
 "nbformat": 4,
 "nbformat_minor": 2,
 "cells": [
  {
   "source": [
    "# 兼容vector2d\n"
   ],
   "cell_type": "markdown",
   "metadata": {}
  },
  {
   "cell_type": "code",
   "execution_count": 66,
   "metadata": {},
   "outputs": [],
   "source": [
    "import math\n",
    "from array import array\n",
    "import reprlib\n",
    "import numbers\n",
    "\n",
    "class myVector_v1:\n",
    "\n",
    "    typecode = 'd'\n",
    "\n",
    "    def __init__(self, componets):\n",
    "        self._componets = array(self.typecode, componets)\n",
    "\n",
    "    def __iter__(self):\n",
    "        return iter(self._componets)\n",
    "\n",
    "    def __len__(self):\n",
    "        return len(self._componets)\n",
    "\n",
    "    def __getitem__(self, index):\n",
    "        return self._componets[index]\n",
    "\n",
    "    def __repr__(self):\n",
    "        componets = reprlib.repr(self._componets)\n",
    "        componets = componets[componets.find('['):-1]\n",
    "        return \"myVector({})\".format(componets)\n",
    "    \n",
    "    def __str__(self):\n",
    "        return str(tuple(self))\n",
    "\n",
    "    def __eq__(self, other):\n",
    "        return tuple(self) == tuple(other)\n",
    "\n",
    "    def __abs__(self):\n",
    "        return math.sqrt(sum((x*x for x in self._componets)))\n",
    "\n",
    "    def __bool__(self):\n",
    "        return bool(abs(self))\n",
    "\n",
    "    def __bytes__(self):\n",
    "        return (bytes([ord(self.typecode)])+\n",
    "                bytes(self._componets))\n",
    "\n",
    "    @classmethod\n",
    "    def frombytes(cls, octets):\n",
    "        typecode = chr(octets[0])\n",
    "        octets = octets[1:]\n",
    "        mev = memoryview(octets).cast(typecode)\n",
    "        return cls(mev)"
   ]
  },
  {
   "cell_type": "code",
   "execution_count": 67,
   "metadata": {},
   "outputs": [],
   "source": [
    "# 接受可迭代的对象\n",
    "v1 = myVector_v1((1,2,3,4,5,6))"
   ]
  },
  {
   "cell_type": "code",
   "execution_count": 68,
   "metadata": {},
   "outputs": [
    {
     "output_type": "execute_result",
     "data": {
      "text/plain": [
       "myVector([1.0, 2.0, 3.0, 4.0, 5.0, ...])"
      ]
     },
     "metadata": {},
     "execution_count": 68
    }
   ],
   "source": [
    "# 有限长度显示\n",
    "v1"
   ]
  },
  {
   "cell_type": "code",
   "execution_count": 69,
   "metadata": {},
   "outputs": [
    {
     "output_type": "stream",
     "name": "stdout",
     "text": [
      "(1.0, 2.0, 3.0, 4.0, 5.0, 6.0)\n"
     ]
    }
   ],
   "source": [
    "# 实现打印\n",
    "print(v1)"
   ]
  },
  {
   "cell_type": "code",
   "execution_count": 70,
   "metadata": {},
   "outputs": [
    {
     "output_type": "execute_result",
     "data": {
      "text/plain": [
       "9.539392014169456"
      ]
     },
     "metadata": {},
     "execution_count": 70
    }
   ],
   "source": [
    "# 实现abs\n",
    "abs(v1)"
   ]
  },
  {
   "cell_type": "code",
   "execution_count": 71,
   "metadata": {},
   "outputs": [
    {
     "output_type": "execute_result",
     "data": {
      "text/plain": [
       "False"
      ]
     },
     "metadata": {},
     "execution_count": 71
    }
   ],
   "source": [
    "# 实现==\n",
    "v2 = myVector_v1((1,2,3,4,5,6,7))\n",
    "v1 == v2"
   ]
  },
  {
   "cell_type": "code",
   "execution_count": 72,
   "metadata": {},
   "outputs": [
    {
     "output_type": "execute_result",
     "data": {
      "text/plain": [
       "True"
      ]
     },
     "metadata": {},
     "execution_count": 72
    }
   ],
   "source": [
    "v3 = v1\n",
    "v1 == v3"
   ]
  },
  {
   "cell_type": "code",
   "execution_count": 73,
   "metadata": {},
   "outputs": [
    {
     "output_type": "execute_result",
     "data": {
      "text/plain": [
       "True"
      ]
     },
     "metadata": {},
     "execution_count": 73
    }
   ],
   "source": [
    "# 实现bool\n",
    "\n",
    "bool(v1)"
   ]
  },
  {
   "cell_type": "code",
   "execution_count": 74,
   "metadata": {},
   "outputs": [
    {
     "output_type": "execute_result",
     "data": {
      "text/plain": [
       "b'd\\x00\\x00\\x00\\x00\\x00\\x00\\xf0?\\x00\\x00\\x00\\x00\\x00\\x00\\x00@\\x00\\x00\\x00\\x00\\x00\\x00\\x08@\\x00\\x00\\x00\\x00\\x00\\x00\\x10@\\x00\\x00\\x00\\x00\\x00\\x00\\x14@\\x00\\x00\\x00\\x00\\x00\\x00\\x18@'"
      ]
     },
     "metadata": {},
     "execution_count": 74
    }
   ],
   "source": [
    "# 实现bytes\n",
    "bytes(v1)"
   ]
  },
  {
   "source": [
    "# 错误案例\n",
    "```python\n",
    "@classmethod\n",
    "def frombytes(cls, octets):\n",
    "    typecode = octets[0]\n",
    "    octets = octets[1:]\n",
    "    mev = memoryview(octets).cast(str(typecode))\n",
    "    return cls(mev)\n",
    "```\n",
    "\n",
    "# 实现frombytes类方法\n",
    "```python\n",
    "octets = bytes(v1)\n",
    "v4 = myVector_v1.frombytes(octets)\n",
    "v4\n",
    "```\n",
    "\n",
    "# 返回\n",
    "```\n",
    "---------------------------------------------------------------------------\n",
    "ValueError                                Traceback (most recent call last)\n",
    "<ipython-input-111-cc81b8f5a13d> in <module>\n",
    "      1 # 实现frombytes类方法\n",
    "      2 octets = bytes(v1)\n",
    "----> 3 v4 = myVector_v1.frombytes(octets)\n",
    "      4 v4\n",
    "\n",
    "<ipython-input-102-4afe3d66e836> in frombytes(cls, octets)\n",
    "     41         typecode = octets[0]\n",
    "     42         octets = octets[1:]\n",
    "---> 43         mev = memoryview(octets).cast(str(typecode))\n",
    "     44         return cls(mev)\n",
    "\n",
    "ValueError: memoryview: destination format must be a native single character format prefixed with an optional '@'\n",
    "```"
   ],
   "cell_type": "markdown",
   "metadata": {}
  },
  {
   "cell_type": "code",
   "execution_count": 31,
   "metadata": {},
   "outputs": [
    {
     "output_type": "execute_result",
     "data": {
      "text/plain": [
       "array([1.0, 2.0, 3.0, 4.0, 5.0, ...])"
      ]
     },
     "metadata": {},
     "execution_count": 31
    }
   ],
   "source": [
    "# 实现frombytes类方法\n",
    "octets = bytes(v1)\n",
    "v4 = myVector_v1.frombytes(octets)\n",
    "v4"
   ]
  },
  {
   "cell_type": "code",
   "execution_count": 76,
   "metadata": {},
   "outputs": [
    {
     "output_type": "execute_result",
     "data": {
      "text/plain": [
       "array.array"
      ]
     },
     "metadata": {},
     "execution_count": 76
    }
   ],
   "source": [
    "type(v1[1:4])"
   ]
  },
  {
   "source": [
    "# 支持切片"
   ],
   "cell_type": "markdown",
   "metadata": {}
  },
  {
   "source": [
    "## 理解切片"
   ],
   "cell_type": "markdown",
   "metadata": {}
  },
  {
   "cell_type": "code",
   "execution_count": 32,
   "metadata": {},
   "outputs": [],
   "source": [
    "class mySeq:\n",
    "    def __getitem__(self, index):\n",
    "        return index"
   ]
  },
  {
   "cell_type": "code",
   "execution_count": 33,
   "metadata": {},
   "outputs": [
    {
     "output_type": "execute_result",
     "data": {
      "text/plain": [
       "1"
      ]
     },
     "metadata": {},
     "execution_count": 33
    }
   ],
   "source": [
    "s = mySeq()\n",
    "\n",
    "# 一个确定的值\n",
    "s[1]"
   ]
  },
  {
   "cell_type": "code",
   "execution_count": 34,
   "metadata": {},
   "outputs": [
    {
     "output_type": "execute_result",
     "data": {
      "text/plain": [
       "slice(1, 2, None)"
      ]
     },
     "metadata": {},
     "execution_count": 34
    }
   ],
   "source": [
    "# 范围连续取值\n",
    "s[1:2]"
   ]
  },
  {
   "cell_type": "code",
   "execution_count": 35,
   "metadata": {},
   "outputs": [
    {
     "output_type": "execute_result",
     "data": {
      "text/plain": [
       "slice(1, 5, 2)"
      ]
     },
     "metadata": {},
     "execution_count": 35
    }
   ],
   "source": [
    "# 范围设置步幅取值\n",
    "s[1:5:2]"
   ]
  },
  {
   "cell_type": "code",
   "execution_count": 36,
   "metadata": {},
   "outputs": [
    {
     "output_type": "execute_result",
     "data": {
      "text/plain": [
       "slice(None, 3, None)"
      ]
     },
     "metadata": {},
     "execution_count": 36
    }
   ],
   "source": [
    "# 自动不全内容\n",
    "s[:3:]"
   ]
  },
  {
   "cell_type": "code",
   "execution_count": 37,
   "metadata": {},
   "outputs": [
    {
     "output_type": "execute_result",
     "data": {
      "text/plain": [
       "(slice(1, 5, None), 9)"
      ]
     },
     "metadata": {},
     "execution_count": 37
    }
   ],
   "source": [
    "# 支持多组区间或确定值取值\n",
    "s[1:5,9]"
   ]
  },
  {
   "cell_type": "code",
   "execution_count": 38,
   "metadata": {},
   "outputs": [
    {
     "output_type": "execute_result",
     "data": {
      "text/plain": [
       "(slice(1, 5, None), slice(5, 9, None))"
      ]
     },
     "metadata": {},
     "execution_count": 38
    }
   ],
   "source": [
    "# 支持多组区间或确定值取值\n",
    "s[1:5,5:9]"
   ]
  },
  {
   "cell_type": "code",
   "execution_count": 39,
   "metadata": {},
   "outputs": [
    {
     "output_type": "execute_result",
     "data": {
      "text/plain": [
       "['__class__',\n",
       " '__delattr__',\n",
       " '__dir__',\n",
       " '__doc__',\n",
       " '__eq__',\n",
       " '__format__',\n",
       " '__ge__',\n",
       " '__getattribute__',\n",
       " '__gt__',\n",
       " '__hash__',\n",
       " '__init__',\n",
       " '__init_subclass__',\n",
       " '__le__',\n",
       " '__lt__',\n",
       " '__ne__',\n",
       " '__new__',\n",
       " '__reduce__',\n",
       " '__reduce_ex__',\n",
       " '__repr__',\n",
       " '__setattr__',\n",
       " '__sizeof__',\n",
       " '__str__',\n",
       " '__subclasshook__',\n",
       " 'indices',\n",
       " 'start',\n",
       " 'step',\n",
       " 'stop']"
      ]
     },
     "metadata": {},
     "execution_count": 39
    }
   ],
   "source": [
    "dir(slice)"
   ]
  },
  {
   "cell_type": "code",
   "execution_count": 40,
   "metadata": {},
   "outputs": [
    {
     "output_type": "stream",
     "name": "stdout",
     "text": [
      "Help on method_descriptor:\n\nindices(...)\n    S.indices(len) -> (start, stop, stride)\n    \n    Assuming a sequence of length len, calculate the start and stop\n    indices, and the stride length of the extended slice described by\n    S. Out of bounds indices are clipped in a manner consistent with the\n    handling of normal slices.\n\n"
     ]
    }
   ],
   "source": [
    "help(slice.indices)"
   ]
  },
  {
   "cell_type": "code",
   "execution_count": 41,
   "metadata": {},
   "outputs": [
    {
     "output_type": "execute_result",
     "data": {
      "text/plain": [
       "3.0"
      ]
     },
     "metadata": {},
     "execution_count": 41
    }
   ],
   "source": [
    "v1[2]"
   ]
  },
  {
   "source": [
    "# 简单返回内部数据，并不能返回切片，或者说返回的切片是array而不是自定义的类型\n",
    "如果\n",
    "```python\n",
    "def __getitem__(self, index):\n",
    "    return self._componets[index]\n",
    "```\n",
    "运行\n",
    "```\n",
    "\n",
    "v1[:]\n",
    "```\n",
    "\n",
    "## 返回\n",
    "array('d', \\[1.0, 2.0, 3.0, 4.0, 5.0, 6.0\\])\n"
   ],
   "cell_type": "markdown",
   "metadata": {}
  },
  {
   "cell_type": "code",
   "execution_count": 63,
   "metadata": {},
   "outputs": [],
   "source": [
    "import math\n",
    "from array import array\n",
    "import reprlib\n",
    "import numbers\n",
    "\n",
    "class myVector_v2:\n",
    "\n",
    "    typecode = 'd'\n",
    "\n",
    "    def __init__(self, componets):\n",
    "        self._componets = array(self.typecode, componets)\n",
    "\n",
    "    def __iter__(self):\n",
    "        return iter(self._componets)\n",
    "\n",
    "    def __len__(self):\n",
    "        return len(self._componets)\n",
    "\n",
    "    def __getitem__(self, index):\n",
    "        cls = type(self)\n",
    "        if isinstance(index, slice):\n",
    "            return cls(self._componets[index])\n",
    "        elif isinstance(index, numbers.Integral):\n",
    "            return self._componets[index]\n",
    "        else:\n",
    "            msg = '{cls.__name__} indices must be integers'\n",
    "            raise TypeError(msg.format(cls=cls))\n",
    "\n",
    "    def __repr__(self):\n",
    "        componets = reprlib.repr(self._componets)\n",
    "        componets = componets[componets.find('['):-1]\n",
    "        return \"myVector({})\".format(componets)\n",
    "    \n",
    "    def __str__(self):\n",
    "        return str(tuple(self))\n",
    "\n",
    "    def __eq__(self, other):\n",
    "        return tuple(self) == tuple(other)\n",
    "\n",
    "    def __abs__(self):\n",
    "        return math.sqrt(sum((x*x for x in self._componets)))\n",
    "\n",
    "    def __bool__(self):\n",
    "        return bool(abs(self))\n",
    "\n",
    "    def __bytes__(self):\n",
    "        return (bytes([ord(self.typecode)])+\n",
    "                bytes(self._componets))\n",
    "\n",
    "    @classmethod\n",
    "    def frombytes(cls, octets):\n",
    "        typecode = chr(octets[0])\n",
    "        octets = octets[1:]\n",
    "        mev = memoryview(octets).cast(typecode)\n",
    "        return cls(mev)"
   ]
  },
  {
   "cell_type": "code",
   "execution_count": 64,
   "metadata": {},
   "outputs": [],
   "source": [
    "v1 = myVector_v2([4,5,6,7,8,9,0,1])"
   ]
  },
  {
   "cell_type": "code",
   "execution_count": 65,
   "metadata": {},
   "outputs": [
    {
     "output_type": "execute_result",
     "data": {
      "text/plain": [
       "__main__.myVector_v2"
      ]
     },
     "metadata": {},
     "execution_count": 65
    }
   ],
   "source": [
    "v2 = v1[3:6]\n",
    "type(v2)"
   ]
  },
  {
   "source": [
    "# 动态获取属性，使用v.x、v.y这样的方式获得分量"
   ],
   "cell_type": "markdown",
   "metadata": {}
  },
  {
   "source": [
    "## 以某个字母作为分量获得方法可以使用\\_\\_getattr\\_\\_内置方法\n",
    "\n",
    "> 注意，不要实现\\_\\_getattribute\\_\\_方法，这不是同一个方法，get_attr方法的调用优先等级低。\n",
    "\n",
    "> 属性查找失败后，解释器会调用 __getattr__ 方法。简单来说，对 my_obj.x 表达式，Python 会检查 my_obj 实例有没有名为 x 的属性; 如果没有，到类(my_obj.__class__)中查找;如果还没有，顺着 继承树继续查找。4 如果依旧找不到，调用 my_obj 所属类中定义的 __getattr__ 方法，传入 self 和属性名称的字符串形式(如 'x')。"
   ],
   "cell_type": "markdown",
   "metadata": {}
  },
  {
   "cell_type": "code",
   "execution_count": 90,
   "metadata": {},
   "outputs": [],
   "source": [
    "import math\n",
    "from array import array\n",
    "import reprlib\n",
    "import numbers\n",
    "\n",
    "class myVector_v3:\n",
    "\n",
    "    typecode = 'd'\n",
    "    shortcut = 'xyzw'\n",
    "\n",
    "    def __init__(self, componets):\n",
    "        self._componets = array(self.typecode, componets)\n",
    "\n",
    "    def __iter__(self):\n",
    "        return iter(self._componets)\n",
    "\n",
    "    def __len__(self):\n",
    "        return len(self._componets)\n",
    "\n",
    "    def __getitem__(self, index):\n",
    "        cls = type(self)\n",
    "        if isinstance(index, slice):\n",
    "            return cls(self._componets[index])\n",
    "        elif isinstance(index, numbers.Integral):\n",
    "            return self._componets[index]\n",
    "        else:\n",
    "            msg = '{cls.__name__} indices must be integers'\n",
    "            raise TypeError(msg.format(cls=cls))\n",
    "\n",
    "    def __getattr__(self, attr):\n",
    "        cls = type(self)\n",
    "        if len(attr) == 1:\n",
    "            index = cls.shortcut.find(attr)\n",
    "            if 0<=index<len(self._componets):\n",
    "                return self._componets[index]\n",
    "        else:\n",
    "            msg = '{.__name__!r} has no attribute : {!r}'\n",
    "            raise AttributeError(msg.format(cls, attr))\n",
    "    \n",
    "    def __repr__(self):\n",
    "        componets = reprlib.repr(self._componets)\n",
    "        componets = componets[componets.find('['):-1]\n",
    "        return \"myVector({})\".format(componets)\n",
    "    \n",
    "    def __str__(self):\n",
    "        return str(tuple(self))\n",
    "\n",
    "    def __eq__(self, other):\n",
    "        return tuple(self) == tuple(other)\n",
    "\n",
    "    def __abs__(self):\n",
    "        return math.sqrt(sum((x*x for x in self._componets)))\n",
    "\n",
    "    def __bool__(self):\n",
    "        return bool(abs(self))\n",
    "\n",
    "    def __bytes__(self):\n",
    "        return (bytes([ord(self.typecode)])+\n",
    "                bytes(self._componets))\n",
    "\n",
    "    @classmethod\n",
    "    def frombytes(cls, octets):\n",
    "        typecode = chr(octets[0])\n",
    "        octets = octets[1:]\n",
    "        mev = memoryview(octets).cast(typecode)\n",
    "        return cls(mev)\n",
    "\n",
    "    "
   ]
  },
  {
   "cell_type": "code",
   "execution_count": 92,
   "metadata": {},
   "outputs": [
    {
     "output_type": "execute_result",
     "data": {
      "text/plain": [
       "1.0"
      ]
     },
     "metadata": {},
     "execution_count": 92
    }
   ],
   "source": [
    "myv3 = myVector_v3(range(10))\n",
    "myv3.y"
   ]
  },
  {
   "cell_type": "code",
   "execution_count": 93,
   "metadata": {},
   "outputs": [
    {
     "output_type": "execute_result",
     "data": {
      "text/plain": [
       "10"
      ]
     },
     "metadata": {},
     "execution_count": 93
    }
   ],
   "source": [
    "# 但是会有一个访问优先级的问题：\n",
    "myv3.y = 10\n",
    "myv3.y"
   ]
  },
  {
   "cell_type": "code",
   "execution_count": 94,
   "metadata": {},
   "outputs": [
    {
     "output_type": "execute_result",
     "data": {
      "text/plain": [
       "myVector([0.0, 1.0, 2.0, 3.0, 4.0, ...])"
      ]
     },
     "metadata": {},
     "execution_count": 94
    }
   ],
   "source": [
    "myv3"
   ]
  },
  {
   "source": [
    "## 由上面的例子可以看出，当只实现了\\_\\_getAttr\\_\\_函数，是不行的。当我们给myv3.y赋值时，其实是给实例添加了一个属性。其实此时是用到了\\_\\_setattr\\_\\_函数，因此我们还需要实现该函数，让xyzw成为只读属性，\n",
    "\n",
    "## 同时，如果像使用a\\[1\\]=3方式赋值，需要实现\\_\\_setitem\\_\\_方法，这个下个实例详细解释。"
   ],
   "cell_type": "markdown",
   "metadata": {}
  },
  {
   "cell_type": "code",
   "execution_count": 98,
   "metadata": {},
   "outputs": [],
   "source": [
    "import math\n",
    "from array import array\n",
    "import reprlib\n",
    "import numbers\n",
    "\n",
    "class myVector_v3_set:\n",
    "\n",
    "    typecode = 'd'\n",
    "    shortcut = 'xyzw'\n",
    "\n",
    "    def __init__(self, componets):\n",
    "        self._componets = array(self.typecode, componets)\n",
    "\n",
    "    def __iter__(self):\n",
    "        return iter(self._componets)\n",
    "\n",
    "    def __len__(self):\n",
    "        return len(self._componets)\n",
    "\n",
    "    def __getitem__(self, index):\n",
    "        cls = type(self)\n",
    "        if isinstance(index, slice):\n",
    "            return cls(self._componets[index])\n",
    "        elif isinstance(index, numbers.Integral):\n",
    "            return self._componets[index]\n",
    "        else:\n",
    "            msg = '{cls.__name__} indices must be integers'\n",
    "            raise TypeError(msg.format(cls=cls))\n",
    "\n",
    "    def __getattr__(self, attr):\n",
    "        cls = type(self)\n",
    "        if len(attr) == 1:\n",
    "            index = cls.shortcut.find(attr)\n",
    "            if 0<=index<len(self._componets):\n",
    "                return self._componets[index]\n",
    "        else:\n",
    "            msg = '{.__name__!r} has no attribute : {!r}'\n",
    "            raise AttributeError(msg.format(cls, attr))\n",
    "\n",
    "    def __setattr__(self, attr, value):\n",
    "        cls = type(self)\n",
    "        if len(attr) == 1 :\n",
    "            if attr in cls.shortcut:\n",
    "                msg = 'read only attribute : {attr_name}'\n",
    "            elif attr.islower():\n",
    "                msg = '{cls_name} can not set attribute name in a to z'\n",
    "            else:\n",
    "                msg = ''\n",
    "            if msg:\n",
    "                out = msg.format(attr_name = attr, cls_name = cls)\n",
    "                raise AttributeError(out)\n",
    "        \n",
    "        super().__setattr__(attr, value)\n",
    "    \n",
    "    def __repr__(self):\n",
    "        componets = reprlib.repr(self._componets)\n",
    "        componets = componets[componets.find('['):-1]\n",
    "        return \"myVector({})\".format(componets)\n",
    "    \n",
    "    def __str__(self):\n",
    "        return str(tuple(self))\n",
    "\n",
    "    def __eq__(self, other):\n",
    "        return tuple(self) == tuple(other)\n",
    "\n",
    "    def __abs__(self):\n",
    "        return math.sqrt(sum((x*x for x in self._componets)))\n",
    "\n",
    "    def __bool__(self):\n",
    "        return bool(abs(self))\n",
    "\n",
    "    def __bytes__(self):\n",
    "        return (bytes([ord(self.typecode)])+\n",
    "                bytes(self._componets))\n",
    "\n",
    "    @classmethod\n",
    "    def frombytes(cls, octets):\n",
    "        typecode = chr(octets[0])\n",
    "        octets = octets[1:]\n",
    "        mev = memoryview(octets).cast(typecode)\n",
    "        return cls(mev)\n",
    "\n",
    "    "
   ]
  },
  {
   "cell_type": "code",
   "execution_count": 99,
   "metadata": {},
   "outputs": [
    {
     "output_type": "execute_result",
     "data": {
      "text/plain": [
       "3.0"
      ]
     },
     "metadata": {},
     "execution_count": 99
    }
   ],
   "source": [
    "myv3_1 = myVector_v3_set(range(10))\n",
    "myv3_1.w"
   ]
  },
  {
   "cell_type": "code",
   "execution_count": 100,
   "metadata": {},
   "outputs": [
    {
     "output_type": "error",
     "ename": "AttributeError",
     "evalue": "read only attribute : w",
     "traceback": [
      "\u001b[0;31m---------------------------------------------------------------------------\u001b[0m",
      "\u001b[0;31mAttributeError\u001b[0m                            Traceback (most recent call last)",
      "\u001b[0;32m<ipython-input-100-1dc0c6cf566a>\u001b[0m in \u001b[0;36m<module>\u001b[0;34m\u001b[0m\n\u001b[0;32m----> 1\u001b[0;31m \u001b[0mmyv3_1\u001b[0m\u001b[0;34m.\u001b[0m\u001b[0mw\u001b[0m \u001b[0;34m=\u001b[0m \u001b[0;36m10\u001b[0m\u001b[0;34m\u001b[0m\u001b[0;34m\u001b[0m\u001b[0m\n\u001b[0m",
      "\u001b[0;32m<ipython-input-98-c88add1f85fd>\u001b[0m in \u001b[0;36m__setattr__\u001b[0;34m(self, attr, value)\u001b[0m\n\u001b[1;32m     49\u001b[0m             \u001b[0;32mif\u001b[0m \u001b[0mmsg\u001b[0m\u001b[0;34m:\u001b[0m\u001b[0;34m\u001b[0m\u001b[0;34m\u001b[0m\u001b[0m\n\u001b[1;32m     50\u001b[0m                 \u001b[0mout\u001b[0m \u001b[0;34m=\u001b[0m \u001b[0mmsg\u001b[0m\u001b[0;34m.\u001b[0m\u001b[0mformat\u001b[0m\u001b[0;34m(\u001b[0m\u001b[0mattr_name\u001b[0m \u001b[0;34m=\u001b[0m \u001b[0mattr\u001b[0m\u001b[0;34m,\u001b[0m \u001b[0mcls_name\u001b[0m \u001b[0;34m=\u001b[0m \u001b[0mcls\u001b[0m\u001b[0;34m)\u001b[0m\u001b[0;34m\u001b[0m\u001b[0;34m\u001b[0m\u001b[0m\n\u001b[0;32m---> 51\u001b[0;31m                 \u001b[0;32mraise\u001b[0m \u001b[0mAttributeError\u001b[0m\u001b[0;34m(\u001b[0m\u001b[0mout\u001b[0m\u001b[0;34m)\u001b[0m\u001b[0;34m\u001b[0m\u001b[0;34m\u001b[0m\u001b[0m\n\u001b[0m\u001b[1;32m     52\u001b[0m \u001b[0;34m\u001b[0m\u001b[0m\n\u001b[1;32m     53\u001b[0m         \u001b[0msuper\u001b[0m\u001b[0;34m(\u001b[0m\u001b[0;34m)\u001b[0m\u001b[0;34m.\u001b[0m\u001b[0m__setattr__\u001b[0m\u001b[0;34m(\u001b[0m\u001b[0mattr\u001b[0m\u001b[0;34m,\u001b[0m \u001b[0mvalue\u001b[0m\u001b[0;34m)\u001b[0m\u001b[0;34m\u001b[0m\u001b[0;34m\u001b[0m\u001b[0m\n",
      "\u001b[0;31mAttributeError\u001b[0m: read only attribute : w"
     ]
    }
   ],
   "source": [
    "myv3_1.w = 10"
   ]
  },
  {
   "source": [
    "我们知道，在类中声明 \\_\\_slots\\_\\_ 属性可以防止设置新实 例属性;因此，你可能想使用这个功能，而不像这里所做的，实现 \\_\\_setattr\\_\\_ 方法。可是，正如 9.8.1 节所指出的，不建议只为\n",
    "了避免创建实例属性而使用 \\_\\_slots\\_\\_ 属性。\\_\\_slots\\_\\_ 属性 只应该用于节省内存，而且仅当内存严重不足时才应该这么做。\n"
   ],
   "cell_type": "markdown",
   "metadata": {}
  },
  {
   "cell_type": "code",
   "execution_count": null,
   "metadata": {},
   "outputs": [],
   "source": []
  }
 ]
}