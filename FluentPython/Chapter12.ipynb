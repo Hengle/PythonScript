{
 "cells": [
  {
   "cell_type": "markdown",
   "metadata": {
    "collapsed": true,
    "pycharm": {
     "name": "#%% md\n"
    }
   },
   "source": [
    "# python是强类型\n",
    "\n",
    "如果一门语言很少隐式转换类型，说明它是强类型语言；如果\n",
    "经常这么做，说明它是弱类型语言。Java、C++ 和 Python 是强类型\n",
    "语言。PHP、JavaScript 和 Perl 是弱类型语言。"
   ]
  },
  {
   "cell_type": "markdown",
   "source": [
    "# 多继承和方法解析顺序"
   ],
   "metadata": {
    "collapsed": false,
    "pycharm": {
     "name": "#%% md\n"
    }
   }
  },
  {
   "cell_type": "code",
   "execution_count": 7,
   "outputs": [],
   "source": [
    "class A:\n",
    "    def ping(self):\n",
    "        print('ping:',self)\n",
    "\n",
    "class B(A):\n",
    "    def pong(self):\n",
    "        print('pong', self)\n",
    "\n",
    "class C(A):\n",
    "    def pong(self):\n",
    "        print('PONG', self)\n",
    "\n",
    "class D(B,C):\n",
    "    def ping(self):\n",
    "        super().ping()\n",
    "        print('post-ping:', self)\n",
    "\n",
    "    def Aping(self):\n",
    "        A.ping(self) # 而不是super().ping()\n",
    "        # 直接在类上调用实例方法时，必须显式传入 self 参数，\n",
    "        # 因为这样访问的是未绑定方法（unbound method）。\n",
    "        # 建议使用super() 更安全可靠\n",
    "\n",
    "    def pingpong(self):\n",
    "        self.ping()\n",
    "        super().ping()\n",
    "        self.pong()\n",
    "        super().pong()\n",
    "        C.pong(self) # 直接指定超类的方法"
   ],
   "metadata": {
    "collapsed": false,
    "pycharm": {
     "name": "#%%\n"
    }
   }
  },
  {
   "cell_type": "code",
   "execution_count": 8,
   "outputs": [
    {
     "name": "stdout",
     "output_type": "stream",
     "text": [
      "pong <__main__.D object at 0x06543D48>\n"
     ]
    }
   ],
   "source": [
    "d = D()\n",
    "d.pong()"
   ],
   "metadata": {
    "collapsed": false,
    "pycharm": {
     "name": "#%%\n"
    }
   }
  },
  {
   "cell_type": "code",
   "execution_count": 9,
   "outputs": [
    {
     "name": "stdout",
     "output_type": "stream",
     "text": [
      "PONG <__main__.D object at 0x06543D48>\n"
     ]
    }
   ],
   "source": [
    "# 超类中的方法都可以直接调用，此时要把实例作为显式参数传入。\n",
    "C.pong(d)"
   ],
   "metadata": {
    "collapsed": false,
    "pycharm": {
     "name": "#%%\n"
    }
   }
  },
  {
   "cell_type": "code",
   "execution_count": 13,
   "outputs": [
    {
     "name": "stdout",
     "output_type": "stream",
     "text": [
      "ping: <__main__.D object at 0x06543D48>\n",
      "post-ping: <__main__.D object at 0x06543D48>\n",
      "ping: <__main__.D object at 0x06543D48>\n",
      "pong <__main__.D object at 0x06543D48>\n",
      "pong <__main__.D object at 0x06543D48>\n",
      "PONG <__main__.D object at 0x06543D48>\n"
     ]
    }
   ],
   "source": [
    "# 使用 super() 调用方法时，会遵守方法解析顺序\n",
    "d.pingpong()"
   ],
   "metadata": {
    "collapsed": false,
    "pycharm": {
     "name": "#%%\n"
    }
   }
  },
  {
   "cell_type": "code",
   "execution_count": 18,
   "outputs": [
    {
     "data": {
      "text/plain": "(__main__.D, __main__.B, __main__.C, __main__.A, object)"
     },
     "execution_count": 18,
     "metadata": {},
     "output_type": "execute_result"
    }
   ],
   "source": [
    "# 类都有一个名为 __mro__ 的属性，它的值是一个元组，\n",
    "# 按照方法解析顺序列出各个超类，从当前类一直向上，直到object 类。\n",
    "\n",
    "# 方法解析顺序使用 C3 算法计算\n",
    "\n",
    "D.__mro__"
   ],
   "metadata": {
    "collapsed": false,
    "pycharm": {
     "name": "#%%\n"
    }
   }
  },
  {
   "cell_type": "code",
   "execution_count": 19,
   "outputs": [
    {
     "name": "stdout",
     "output_type": "stream",
     "text": [
      "ping: <__main__.D object at 0x06543D48>\n"
     ]
    }
   ],
   "source": [
    "d.Aping()"
   ],
   "metadata": {
    "collapsed": false,
    "pycharm": {
     "name": "#%%\n"
    }
   }
  },
  {
   "cell_type": "markdown",
   "source": [
    "# 处理多重继承\n",
    "1. 把接口继承和实现继承区分开\n",
    "\n",
    "    使用多重继承时，一定要明确一开始为什么创建子类。主要原因可能有：\n",
    "    - 继承接口，创建子类型，实现“是什么”关系\n",
    "    - 继承实现，通过重用避免代码重复\n",
    "\n",
    "   其实这两条经常同时出现，不过只要可能，一定要明确意图。通过\n",
    "继承重用代码是实现细节，通常可以换用组合和委托模式。而接口\n",
    "继承则是框架的支柱。\n",
    "2. 使用抽象基类显式表示接口\n",
    "\n",
    "    现代的 Python 中，如果类的作用是定义接口，应该明确把它定义为\n",
    "抽象基类。Python 3.4 及以上的版本中，我们要创建 abc.ABC 或其\n",
    "他抽象基类的子类（如果想支持较旧的 Python 版本，参见 11.7.1\n",
    "节）。\n",
    "3. 通过混入重用代码\n",
    "\n",
    "    如果一个类的作用是为多个不相关的子类提供方法实现，从而实现\n",
    "重用，但不体现“是什么”关系，应该把那个类明确地定义为混入类\n",
    "（mixin class）。从概念上讲，混入不定义新类型，只是打包方\n",
    "法，便于重用。混入类绝对不能实例化，而且具体类不能只继承混\n",
    "入类。混入类应该提供某方面的特定行为，只实现少量关系非常紧\n",
    "密的方法。\n",
    "\n",
    "4. 在名称中明确指明混入\n",
    "\n",
    "    因为在 Python 中没有把类声明为混入的正规方式，所以强烈推荐在\n",
    "名称中加入 ...Mixin 后缀。Tkinter 没有采纳这个建议，如果采\n",
    "纳的话，XView 会变成 XViewMixin，Pack 会变成\n",
    "PackMixin，图 12-3 中所有使用 «mixin» 标记的类都应该这么\n",
    "做。\n",
    "\n",
    "05. 抽象基类可以作为混入，反过来则不成立\n",
    "\n",
    "    抽象基类可以实现具体方法，因此也可以作为混入使用。不过，抽\n",
    "象基类会定义类型，而混入做不到。此外，抽象基类可以作为其他\n",
    "类的唯一基类，而混入决不能作为唯一的超类，除非继承另一个更\n",
    "具体的混入——真实的代码很少这样做。\n",
    "\n",
    "    抽象基类有个局限是混入没有的：抽象基类中实现的具体方法只能\n",
    "与抽象基类及其超类中的方法协作。这表明，抽象基类中的具体方\n",
    "法只是一种便利措施，因为这些方法所做的一切，用户调用抽象基\n",
    "类中的其他方法也能做到。\n",
    "\n",
    "06. 不要子类化多个具体类\n",
    "\n",
    "    **具体类可以没有，或最多只有一个具体超类**。 也就是说，具体类\n",
    "的超类中除了这一个具体超类之外，其余的都是抽象基类或混入。\n",
    "例如，在下述代码中，如果 Alpha 是具体类，那么 Beta 和\n",
    "Gamma 必须是抽象基类或混入：\n",
    "    ```python\n",
    "    class MyConcreteClass(Alpha, Beta, Gamma):\n",
    "        \"\"\"这是一个具体类，可以实例化。\"\"\"\n",
    "        # ……更多代码……\n",
    "    ```\n",
    "07. 为用户提供聚合类\n",
    "\n",
    "    如果抽象基类或混入的组合对客户代码非常有用，那就提供一个\n",
    "类，使用易于理解的方式把它们结合起来。Grady Booch 把这种类\n",
    "称为聚合类（aggregate class）。\n",
    "    ```\n",
    "    class Widget(BaseWidget, Pack, Place, Grid):\n",
    "        \"\"\"Internal class.\n",
    "        Base class for a widget which can be positioned with the\n",
    "        geometry managers Pack, Place or Grid.\"\"\"\n",
    "        pass\n",
    "    ```\n",
    "    Widget 类的定义体是空的，但是这个类提供了有用的服务：把四\n",
    "个超类结合在一起，这样需要创建新小组件的用户无需记住全部混\n",
    "入，也不用担心声明 class 语句时有没有遵守特定的顺序。\n",
    "\n",
    "08. “优先使用对象组合，而不是类继承”\n",
    "\n",
    "    优先使用组合能让设计更灵活。例如，对\n",
    "tkinter.Widget 类来说，它可以不从全部几何管理器中继承方\n",
    "法，而是在小组件实例中维护一个几何管理器引用，然后通过它调\n",
    "用方法。毕竟，小组件“不是”几何管理器，但是可以通过委托使用\n",
    "相关的服务。这样，我们可以放心添加新的几何管理器，不必担心\n",
    "会触动小组件类的层次结构，也不必担心名称冲突。即便是单继\n",
    "承，这个原则也能提升灵活性，因为子类化是一种紧耦合，而且较\n",
    "高的继承树容易倒。\n",
    "\n",
    "    组合和委托可以代替混入，把行为提供给不同的类，但是不能取代\n",
    "接口继承去定义类型层次结构。"
   ],
   "metadata": {
    "collapsed": false,
    "pycharm": {
     "name": "#%% md\n"
    }
   }
  },
  {
   "cell_type": "code",
   "execution_count": null,
   "outputs": [],
   "source": [],
   "metadata": {
    "collapsed": false,
    "pycharm": {
     "name": "#%%\n"
    }
   }
  }
 ],
 "metadata": {
  "kernelspec": {
   "name": "python3",
   "language": "python",
   "display_name": "Python 3"
  },
  "language_info": {
   "codemirror_mode": {
    "name": "ipython",
    "version": 2
   },
   "file_extension": ".py",
   "mimetype": "text/x-python",
   "name": "python",
   "nbconvert_exporter": "python",
   "pygments_lexer": "ipython2",
   "version": "2.7.6"
  }
 },
 "nbformat": 4,
 "nbformat_minor": 0
}