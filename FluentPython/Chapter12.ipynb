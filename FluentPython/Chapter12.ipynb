{
 "cells": [
  {
   "cell_type": "markdown",
   "metadata": {
    "collapsed": true,
    "pycharm": {
     "name": "#%% md\n"
    }
   },
   "source": [
    "# python是强类型\n",
    "\n",
    "如果一门语言很少隐式转换类型，说明它是强类型语言；如果\n",
    "经常这么做，说明它是弱类型语言。Java、C++ 和 Python 是强类型\n",
    "语言。PHP、JavaScript 和 Perl 是弱类型语言。"
   ]
  },
  {
   "cell_type": "markdown",
   "source": [
    "# 多继承和方法解析顺序"
   ],
   "metadata": {
    "collapsed": false,
    "pycharm": {
     "name": "#%% md\n"
    }
   }
  },
  {
   "cell_type": "code",
   "execution_count": 7,
   "outputs": [],
   "source": [
    "class A:\n",
    "    def ping(self):\n",
    "        print('ping:',self)\n",
    "\n",
    "class B(A):\n",
    "    def pong(self):\n",
    "        print('pong', self)\n",
    "\n",
    "class C(A):\n",
    "    def pong(self):\n",
    "        print('PONG', self)\n",
    "\n",
    "class D(B,C):\n",
    "    def ping(self):\n",
    "        super().ping()\n",
    "        print('post-ping:', self)\n",
    "\n",
    "    def Aping(self):\n",
    "        A.ping(self) # 而不是super().ping()\n",
    "        # 直接在类上调用实例方法时，必须显式传入 self 参数，\n",
    "        # 因为这样访问的是未绑定方法（unbound method）。\n",
    "        # 建议使用super() 更安全可靠\n",
    "\n",
    "    def pingpong(self):\n",
    "        self.ping()\n",
    "        super().ping()\n",
    "        self.pong()\n",
    "        super().pong()\n",
    "        C.pong(self) # 直接指定超类的方法"
   ],
   "metadata": {
    "collapsed": false,
    "pycharm": {
     "name": "#%%\n"
    }
   }
  },
  {
   "cell_type": "code",
   "execution_count": 8,
   "outputs": [
    {
     "name": "stdout",
     "output_type": "stream",
     "text": [
      "pong <__main__.D object at 0x06543D48>\n"
     ]
    }
   ],
   "source": [
    "d = D()\n",
    "d.pong()"
   ],
   "metadata": {
    "collapsed": false,
    "pycharm": {
     "name": "#%%\n"
    }
   }
  },
  {
   "cell_type": "code",
   "execution_count": 9,
   "outputs": [
    {
     "name": "stdout",
     "output_type": "stream",
     "text": [
      "PONG <__main__.D object at 0x06543D48>\n"
     ]
    }
   ],
   "source": [
    "# 超类中的方法都可以直接调用，此时要把实例作为显式参数传入。\n",
    "C.pong(d)"
   ],
   "metadata": {
    "collapsed": false,
    "pycharm": {
     "name": "#%%\n"
    }
   }
  },
  {
   "cell_type": "code",
   "execution_count": 13,
   "outputs": [
    {
     "name": "stdout",
     "output_type": "stream",
     "text": [
      "ping: <__main__.D object at 0x06543D48>\n",
      "post-ping: <__main__.D object at 0x06543D48>\n",
      "ping: <__main__.D object at 0x06543D48>\n",
      "pong <__main__.D object at 0x06543D48>\n",
      "pong <__main__.D object at 0x06543D48>\n",
      "PONG <__main__.D object at 0x06543D48>\n"
     ]
    }
   ],
   "source": [
    "# 使用 super() 调用方法时，会遵守方法解析顺序\n",
    "d.pingpong()"
   ],
   "metadata": {
    "collapsed": false,
    "pycharm": {
     "name": "#%%\n"
    }
   }
  },
  {
   "cell_type": "code",
   "execution_count": 18,
   "outputs": [
    {
     "data": {
      "text/plain": "(__main__.D, __main__.B, __main__.C, __main__.A, object)"
     },
     "execution_count": 18,
     "metadata": {},
     "output_type": "execute_result"
    }
   ],
   "source": [
    "# 类都有一个名为 __mro__ 的属性，它的值是一个元组，\n",
    "# 按照方法解析顺序列出各个超类，从当前类一直向上，直到object 类。\n",
    "\n",
    "# 方法解析顺序使用 C3 算法计算\n",
    "\n",
    "D.__mro__"
   ],
   "metadata": {
    "collapsed": false,
    "pycharm": {
     "name": "#%%\n"
    }
   }
  },
  {
   "cell_type": "code",
   "execution_count": 19,
   "outputs": [
    {
     "name": "stdout",
     "output_type": "stream",
     "text": [
      "ping: <__main__.D object at 0x06543D48>\n"
     ]
    }
   ],
   "source": [
    "d.Aping()"
   ],
   "metadata": {
    "collapsed": false,
    "pycharm": {
     "name": "#%%\n"
    }
   }
  },
  {
   "cell_type": "markdown",
   "source": [
    "# 多重继承的真实应用\n",
    "\n"
   ],
   "metadata": {
    "collapsed": false,
    "pycharm": {
     "name": "#%% md\n"
    }
   }
  }
 ],
 "metadata": {
  "kernelspec": {
   "name": "python3",
   "language": "python",
   "display_name": "Python 3"
  },
  "language_info": {
   "codemirror_mode": {
    "name": "ipython",
    "version": 2
   },
   "file_extension": ".py",
   "mimetype": "text/x-python",
   "name": "python",
   "nbconvert_exporter": "python",
   "pygments_lexer": "ipython2",
   "version": "2.7.6"
  }
 },
 "nbformat": 4,
 "nbformat_minor": 0
}