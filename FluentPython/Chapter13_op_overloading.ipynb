{
 "cells": [
  {
   "cell_type": "markdown",
   "metadata": {
    "collapsed": true,
    "pycharm": {
     "name": "#%% md\n"
    }
   },
   "source": [
    "# 重载运算符\n",
    "\n",
    "只能重载部分已有的\n",
    "\n",
    "不能创建新的\n",
    "\n",
    "需要返回一个新对象"
   ]
  },
  {
   "cell_type": "markdown",
   "source": [
    "## 1 加法中辍运算符"
   ],
   "metadata": {
    "collapsed": false,
    "pycharm": {
     "name": "#%% md\n"
    }
   }
  },
  {
   "cell_type": "code",
   "source": [
    "import math\n",
    "from array import array\n",
    "import reprlib\n",
    "import itertools\n",
    "\n",
    "class Vector:\n",
    "\n",
    "    typecode = 'd'\n",
    "\n",
    "    def __init__(self, componets):\n",
    "        self._componets = array(self.typecode, componets)\n",
    "\n",
    "    def __iter__(self):\n",
    "        return iter(self._componets)\n",
    "\n",
    "    def __len__(self):\n",
    "        return len(self._componets)\n",
    "\n",
    "    def __getitem__(self, index):\n",
    "        return self._componets[index]\n",
    "\n",
    "    def __repr__(self):\n",
    "        componets = reprlib.repr(self._componets)\n",
    "        componets = componets[componets.find('['):-1]\n",
    "        return \"myVector({})\".format(componets)\n",
    "\n",
    "    def __str__(self):\n",
    "        return str(tuple(self))\n",
    "\n",
    "    def __eq__(self, other):\n",
    "        return tuple(self) == tuple(other)\n",
    "\n",
    "    def __abs__(self):\n",
    "        return math.sqrt(sum((x*x for x in self._componets)))\n",
    "\n",
    "    \"\"\"\n",
    "        # 重载加法运算符\n",
    "    def __add__(self, other):\n",
    "        pairs = itertools.zip_longest(self, other, fillvalue=0.0)\n",
    "        return Vector(a + b for a,b in pairs) # 运算符返回一个新对象\n",
    "    \"\"\"\n",
    "    # 为了让解释器进行运算时，尽量使用到左右两个变量的运算符，而不是返回一些莫名其妙的错误，\n",
    "    # 因此我们需要返回一个特殊的保持来是解释器继续工作。\n",
    "    def __add__(self, other):\n",
    "        try:\n",
    "            pairs = itertools.zip_longest(self, other, fillvalue=0.0)\n",
    "            return Vector(a + b for a,b in pairs) # 运算符返回一个新对象\n",
    "        except TypeError:\n",
    "            return NotImplemented\n",
    "    # 于类型不兼容而导致运算符特殊方法无法返回有效的结果，那么应该返\n",
    "    # 回 NotImplemented，而不是抛出 TypeError。返回\n",
    "    # NotImplemented 时，另一个操作数所属的类型还有机会执行运算，\n",
    "    # 即 Python 会尝试调用反向方法。\n",
    "\n",
    "    # 重载右向运算符\n",
    "    def __radd__(self, other):\n",
    "        return self + other # 通常就是这么简单，直接委托给__add__方法\n",
    "\n",
    "    def __bool__(self):\n",
    "        return bool(abs(self))\n",
    "\n",
    "    def __bytes__(self):\n",
    "        return (bytes([ord(self.typecode)])+\n",
    "                bytes(self._componets))\n",
    "\n",
    "    @classmethod\n",
    "    def frombytes(cls, octets):\n",
    "        typecode = chr(octets[0])\n",
    "        octets = octets[1:]\n",
    "        mev = memoryview(octets).cast(typecode)\n",
    "        return cls(mev)"
   ],
   "metadata": {
    "collapsed": false,
    "pycharm": {
     "name": "#%%\n"
    }
   },
   "execution_count": 13,
   "outputs": []
  },
  {
   "cell_type": "code",
   "execution_count": 14,
   "outputs": [
    {
     "data": {
      "text/plain": "myVector([6.0, 8.0, 3.0])"
     },
     "execution_count": 14,
     "metadata": {},
     "output_type": "execute_result"
    }
   ],
   "source": [
    "v1 = Vector([1.0,2.0,3.0])\n",
    "v2 = Vector([5.0,6.0])\n",
    "\n",
    "v1 + v2"
   ],
   "metadata": {
    "collapsed": false,
    "pycharm": {
     "name": "#%%\n"
    }
   }
  },
  {
   "cell_type": "code",
   "execution_count": 9,
   "outputs": [
    {
     "data": {
      "text/plain": "myVector([6.0, 8.0, 3.0])"
     },
     "execution_count": 9,
     "metadata": {},
     "output_type": "execute_result"
    }
   ],
   "source": [
    "v1 + [5.0,6.0]"
   ],
   "metadata": {
    "collapsed": false,
    "pycharm": {
     "name": "#%%\n"
    }
   }
  },
  {
   "cell_type": "code",
   "execution_count": 6,
   "outputs": [
    {
     "ename": "TypeError",
     "evalue": "can only concatenate tuple (not \"Vector\") to tuple",
     "output_type": "error",
     "traceback": [
      "\u001B[1;31m---------------------------------------------------------------------------\u001B[0m",
      "\u001B[1;31mTypeError\u001B[0m                                 Traceback (most recent call last)",
      "\u001B[1;32m<ipython-input-6-298acbd404ce>\u001B[0m in \u001B[0;36m<module>\u001B[1;34m\u001B[0m\n\u001B[1;32m----> 1\u001B[1;33m \u001B[1;33m(\u001B[0m\u001B[1;36m5.0\u001B[0m\u001B[1;33m,\u001B[0m\u001B[1;36m6.0\u001B[0m\u001B[1;33m)\u001B[0m \u001B[1;33m+\u001B[0m \u001B[0mv1\u001B[0m\u001B[1;33m\u001B[0m\u001B[1;33m\u001B[0m\u001B[0m\n\u001B[0m\u001B[0;32m      2\u001B[0m \u001B[1;33m\u001B[0m\u001B[0m\n",
      "\u001B[1;31mTypeError\u001B[0m: can only concatenate tuple (not \"Vector\") to tuple"
     ]
    }
   ],
   "source": [
    "# 左操作符。此时用的tuple的加法方法, 需要实现右操作符来规避这个问题。\n",
    "# 这里涉及到python为中辍运算符的特殊分派机制（查找方法的顺序）\n",
    "(5.0,6.0) + v1\n",
    "# Error\n",
    "\"\"\"\n",
    "---------------------------------------------------------------------------\n",
    "\n",
    "TypeError                                 Traceback (most recent call last)\n",
    "\n",
    "<ipython-input-6-298acbd404ce> in <module>\n",
    "----> 1 (5.0,6.0) + v1\n",
    "      2\n",
    "\n",
    "TypeError: can only concatenate tuple (not \"Vector\") to tuple\n",
    "\"\"\""
   ],
   "metadata": {
    "collapsed": false,
    "pycharm": {
     "name": "#%%\n"
    }
   }
  },
  {
   "cell_type": "code",
   "execution_count": 10,
   "outputs": [
    {
     "data": {
      "text/plain": "myVector([6.0, 8.0, 3.0])"
     },
     "execution_count": 10,
     "metadata": {},
     "output_type": "execute_result"
    }
   ],
   "source": [
    "# 实现右向运算符 __radd__就可以处理这样的问题：\n",
    "(5.0,6.0) + v1"
   ],
   "metadata": {
    "collapsed": false,
    "pycharm": {
     "name": "#%%\n"
    }
   }
  },
  {
   "cell_type": "code",
   "execution_count": 11,
   "outputs": [
    {
     "ename": "TypeError",
     "evalue": "'int' object is not iterable",
     "output_type": "error",
     "traceback": [
      "\u001B[1;31m---------------------------------------------------------------------------\u001B[0m",
      "\u001B[1;31mTypeError\u001B[0m                                 Traceback (most recent call last)",
      "\u001B[1;32m<ipython-input-11-4c3a4f2e82c5>\u001B[0m in \u001B[0;36m<module>\u001B[1;34m\u001B[0m\n\u001B[1;32m----> 1\u001B[1;33m \u001B[0mv1\u001B[0m \u001B[1;33m+\u001B[0m \u001B[1;36m1\u001B[0m\u001B[1;33m\u001B[0m\u001B[1;33m\u001B[0m\u001B[0m\n\u001B[0m",
      "\u001B[1;32m<ipython-input-7-585d1167aaf1>\u001B[0m in \u001B[0;36m__add__\u001B[1;34m(self, other)\u001B[0m\n\u001B[0;32m     36\u001B[0m     \u001B[1;31m# 重载加法运算符\u001B[0m\u001B[1;33m\u001B[0m\u001B[1;33m\u001B[0m\u001B[1;33m\u001B[0m\u001B[0m\n\u001B[0;32m     37\u001B[0m     \u001B[1;32mdef\u001B[0m \u001B[0m__add__\u001B[0m\u001B[1;33m(\u001B[0m\u001B[0mself\u001B[0m\u001B[1;33m,\u001B[0m \u001B[0mother\u001B[0m\u001B[1;33m)\u001B[0m\u001B[1;33m:\u001B[0m\u001B[1;33m\u001B[0m\u001B[1;33m\u001B[0m\u001B[0m\n\u001B[1;32m---> 38\u001B[1;33m         \u001B[0mpairs\u001B[0m \u001B[1;33m=\u001B[0m \u001B[0mitertools\u001B[0m\u001B[1;33m.\u001B[0m\u001B[0mzip_longest\u001B[0m\u001B[1;33m(\u001B[0m\u001B[0mself\u001B[0m\u001B[1;33m,\u001B[0m \u001B[0mother\u001B[0m\u001B[1;33m,\u001B[0m \u001B[0mfillvalue\u001B[0m\u001B[1;33m=\u001B[0m\u001B[1;36m0.0\u001B[0m\u001B[1;33m)\u001B[0m\u001B[1;33m\u001B[0m\u001B[1;33m\u001B[0m\u001B[0m\n\u001B[0m\u001B[0;32m     39\u001B[0m         \u001B[1;32mreturn\u001B[0m \u001B[0mVector\u001B[0m\u001B[1;33m(\u001B[0m\u001B[0ma\u001B[0m \u001B[1;33m+\u001B[0m \u001B[0mb\u001B[0m \u001B[1;32mfor\u001B[0m \u001B[0ma\u001B[0m\u001B[1;33m,\u001B[0m\u001B[0mb\u001B[0m \u001B[1;32min\u001B[0m \u001B[0mpairs\u001B[0m\u001B[1;33m)\u001B[0m \u001B[1;31m# 运算符返回一个新对象\u001B[0m\u001B[1;33m\u001B[0m\u001B[1;33m\u001B[0m\u001B[0m\n\u001B[0;32m     40\u001B[0m \u001B[1;33m\u001B[0m\u001B[0m\n",
      "\u001B[1;31mTypeError\u001B[0m: 'int' object is not iterable"
     ]
    }
   ],
   "source": [
    "v1 + 1\n",
    "\n",
    "\"\"\"Error\n",
    "\n",
    "---------------------------------------------------------------------------\n",
    "\n",
    "TypeError                                 Traceback (most recent call last)\n",
    "\n",
    "<ipython-input-11-4c3a4f2e82c5> in <module>\n",
    "----> 1 v1 + 1\n",
    "\n",
    "<ipython-input-7-585d1167aaf1> in __add__(self, other)\n",
    "     36     # 重载加法运算符\n",
    "     37     def __add__(self, other):\n",
    "---> 38         pairs = itertools.zip_longest(self, other, fillvalue=0.0)\n",
    "     39         return Vector(a + b for a,b in pairs) # 运算符返回一个新对象\n",
    "     40\n",
    "\n",
    "TypeError: 'int' object is not iterable\n",
    "\"\"\""
   ],
   "metadata": {
    "collapsed": false,
    "pycharm": {
     "name": "#%%\n"
    }
   }
  },
  {
   "cell_type": "code",
   "execution_count": 15,
   "outputs": [
    {
     "ename": "TypeError",
     "evalue": "unsupported operand type(s) for +: 'Vector' and 'int'",
     "output_type": "error",
     "traceback": [
      "\u001B[1;31m---------------------------------------------------------------------------\u001B[0m",
      "\u001B[1;31mTypeError\u001B[0m                                 Traceback (most recent call last)",
      "\u001B[1;32m<ipython-input-15-2927efd554c0>\u001B[0m in \u001B[0;36m<module>\u001B[1;34m\u001B[0m\n\u001B[0;32m      1\u001B[0m \u001B[1;31m# 修改__add__的函数，使其当TypeError时，返回NotImplemented，来让解释器进而尝试使用两个参数的\u001B[0m\u001B[1;33m\u001B[0m\u001B[1;33m\u001B[0m\u001B[1;33m\u001B[0m\u001B[0m\n\u001B[0;32m      2\u001B[0m \u001B[1;31m# 右向运算符来获得结果\u001B[0m\u001B[1;33m\u001B[0m\u001B[1;33m\u001B[0m\u001B[1;33m\u001B[0m\u001B[0m\n\u001B[1;32m----> 3\u001B[1;33m \u001B[0mv1\u001B[0m \u001B[1;33m+\u001B[0m \u001B[1;36m1\u001B[0m\u001B[1;33m\u001B[0m\u001B[1;33m\u001B[0m\u001B[0m\n\u001B[0m\u001B[0;32m      4\u001B[0m \u001B[1;33m\u001B[0m\u001B[0m\n\u001B[0;32m      5\u001B[0m \u001B[1;33m\u001B[0m\u001B[0m\n",
      "\u001B[1;31mTypeError\u001B[0m: unsupported operand type(s) for +: 'Vector' and 'int'"
     ]
    }
   ],
   "source": [
    "# 修改__add__的函数，使其当TypeError时，返回NotImplemented，来让解释器进而尝试使用两个参数的\n",
    "# 右向运算符来获得结果\n",
    "v1 + 1\n",
    "\n",
    "# 此时返回的错误会比较明确： unsupported operand type(s) for +: 'Vector' and 'int'\n",
    "\n",
    "# 为什么不进行类型检查在相加，这是因为这样会违背鸭子类型原则。"
   ],
   "metadata": {
    "collapsed": false,
    "pycharm": {
     "name": "#%%\n"
    }
   }
  },
  {
   "cell_type": "markdown",
   "source": [
    "## 2 乘法中辍运算符"
   ],
   "metadata": {
    "collapsed": false,
    "pycharm": {
     "name": "#%% md\n"
    }
   }
  },
  {
   "cell_type": "code",
   "execution_count": 20,
   "outputs": [],
   "source": [
    "import math\n",
    "from array import array\n",
    "import reprlib\n",
    "import itertools\n",
    "import numbers\n",
    "\n",
    "class Vector:\n",
    "\n",
    "    typecode = 'd'\n",
    "\n",
    "    def __init__(self, componets):\n",
    "        self._componets = array(self.typecode, componets)\n",
    "\n",
    "    def __iter__(self):\n",
    "        return iter(self._componets)\n",
    "\n",
    "    def __len__(self):\n",
    "        return len(self._componets)\n",
    "\n",
    "    def __getitem__(self, index):\n",
    "        return self._componets[index]\n",
    "\n",
    "    def __repr__(self):\n",
    "        componets = reprlib.repr(self._componets)\n",
    "        componets = componets[componets.find('['):-1]\n",
    "        return \"myVector({})\".format(componets)\n",
    "\n",
    "    def __str__(self):\n",
    "        return str(tuple(self))\n",
    "\n",
    "    def __eq__(self, other):\n",
    "        return tuple(self) == tuple(other)\n",
    "\n",
    "    def __abs__(self):\n",
    "        return math.sqrt(sum((x*x for x in self._componets)))\n",
    "\n",
    "    def __add__(self, other):\n",
    "        try:\n",
    "            pairs = itertools.zip_longest(self, other, fillvalue=0.0)\n",
    "            return Vector(a + b for a,b in pairs) # 运算符返回一个新对象\n",
    "        except TypeError:\n",
    "            return NotImplemented\n",
    "\n",
    "    def __radd__(self, other):\n",
    "        return self + other # 通常就是这么简单，直接委托给__add__方法\n",
    "# ----------------乘法中辍运算符-----------------\n",
    "    def __mul__(self, other):\n",
    "        if isinstance(other, numbers.Real): # 使用白鹅类型，利用抽线基类来进行类型判断\n",
    "            return Vector( n * other for n in self)\n",
    "        else:\n",
    "            return NotImplemented\n",
    "\n",
    "    def __rmul__(self, other):\n",
    "        return self * other\n",
    "# ++++++++++++++乘法中辍运算符+++++++++++++++++\n",
    "\n",
    "# ----------------点积运算符-------------------\n",
    "    def __matmul__(self, other):\n",
    "        try:\n",
    "            return sum( a * b for  a, b in zip(self, other))\n",
    "        except TypeError:\n",
    "            return NotImplemented\n",
    "\n",
    "    def __rmatmul__(self, other):\n",
    "        return self @ other\n",
    "# ++++++++++++++++点积运算符++++++++++++++++++++\n",
    "\n",
    "    def __bool__(self):\n",
    "        return bool(abs(self))\n",
    "\n",
    "    def __bytes__(self):\n",
    "        return (bytes([ord(self.typecode)])+\n",
    "                bytes(self._componets))\n",
    "\n",
    "    @classmethod\n",
    "    def frombytes(cls, octets):\n",
    "        typecode = chr(octets[0])\n",
    "        octets = octets[1:]\n",
    "        mev = memoryview(octets).cast(typecode)\n",
    "        return cls(mev)\n"
   ],
   "metadata": {
    "collapsed": false,
    "pycharm": {
     "name": "#%%\n"
    }
   }
  },
  {
   "cell_type": "code",
   "execution_count": 21,
   "outputs": [
    {
     "data": {
      "text/plain": "myVector([3.0, 6.0, 9.0])"
     },
     "execution_count": 21,
     "metadata": {},
     "output_type": "execute_result"
    }
   ],
   "source": [
    "v3 = Vector([1.0,2.0,3.0])\n",
    "v3 * 3.0"
   ],
   "metadata": {
    "collapsed": false,
    "pycharm": {
     "name": "#%%\n"
    }
   }
  },
  {
   "cell_type": "code",
   "execution_count": 22,
   "outputs": [
    {
     "ename": "TypeError",
     "evalue": "can't multiply sequence by non-int of type 'Vector'",
     "output_type": "error",
     "traceback": [
      "\u001B[1;31m---------------------------------------------------------------------------\u001B[0m",
      "\u001B[1;31mTypeError\u001B[0m                                 Traceback (most recent call last)",
      "\u001B[1;32m<ipython-input-22-7b0ed156c2b3>\u001B[0m in \u001B[0;36m<module>\u001B[1;34m\u001B[0m\n\u001B[1;32m----> 1\u001B[1;33m \u001B[0mv3\u001B[0m \u001B[1;33m*\u001B[0m \u001B[1;34m'A'\u001B[0m\u001B[1;33m\u001B[0m\u001B[1;33m\u001B[0m\u001B[0m\n\u001B[0m\u001B[0;32m      2\u001B[0m \u001B[1;31m# Error: TypeError: can't multiply sequence by non-int of type 'Vector'\u001B[0m\u001B[1;33m\u001B[0m\u001B[1;33m\u001B[0m\u001B[1;33m\u001B[0m\u001B[0m\n",
      "\u001B[1;31mTypeError\u001B[0m: can't multiply sequence by non-int of type 'Vector'"
     ]
    }
   ],
   "source": [
    "v3 * 'A'\n",
    "# Error: TypeError: can't multiply sequence by non-int of type 'Vector'"
   ],
   "metadata": {
    "collapsed": false,
    "pycharm": {
     "name": "#%%\n"
    }
   }
  },
  {
   "cell_type": "code",
   "execution_count": 24,
   "outputs": [
    {
     "data": {
      "text/plain": "32.0"
     },
     "execution_count": 24,
     "metadata": {},
     "output_type": "execute_result"
    }
   ],
   "source": [
    "v4 = Vector([4.0,5.0, 6.0])\n",
    "v3 @ v4"
   ],
   "metadata": {
    "collapsed": false,
    "pycharm": {
     "name": "#%%\n"
    }
   }
  },
  {
   "cell_type": "code",
   "execution_count": 25,
   "outputs": [
    {
     "ename": "TypeError",
     "evalue": "unsupported operand type(s) for @: 'Vector' and 'int'",
     "output_type": "error",
     "traceback": [
      "\u001B[1;31m---------------------------------------------------------------------------\u001B[0m",
      "\u001B[1;31mTypeError\u001B[0m                                 Traceback (most recent call last)",
      "\u001B[1;32m<ipython-input-25-b354df30df72>\u001B[0m in \u001B[0;36m<module>\u001B[1;34m\u001B[0m\n\u001B[1;32m----> 1\u001B[1;33m \u001B[0mv3\u001B[0m \u001B[1;33m@\u001B[0m \u001B[1;36m3\u001B[0m\u001B[1;33m\u001B[0m\u001B[1;33m\u001B[0m\u001B[0m\n\u001B[0m\u001B[0;32m      2\u001B[0m \u001B[1;33m\u001B[0m\u001B[0m\n",
      "\u001B[1;31mTypeError\u001B[0m: unsupported operand type(s) for @: 'Vector' and 'int'"
     ]
    }
   ],
   "source": [
    "v3 @ 3\n",
    "# TypeError: unsupported operand type(s) for @: 'Vector' and 'int'"
   ],
   "metadata": {
    "collapsed": false,
    "pycharm": {
     "name": "#%%\n"
    }
   }
  },
  {
   "cell_type": "markdown",
   "source": [
    "## 3 比较运算符\n",
    "- 正向和反向调用使用的是同一系列方法。这方面的规则如表 13-2\n",
    "所示。例如，对 == 来说，正向和反向调用都是 __eq__ 方法，只\n",
    "是把参数对调了；而正向的 __gt__ 方法调用的是反向的 __lt__\n",
    "方法，并把参数对调。\n",
    "- 对 == 和 != 来说，如果反向调用失败，Python 会比较对象的 ID，\n",
    "而不抛出 TypeError。\n"
   ],
   "metadata": {
    "collapsed": false,
    "pycharm": {
     "name": "#%% md\n"
    }
   }
  },
  {
   "cell_type": "code",
   "execution_count": 27,
   "outputs": [],
   "source": [
    "import math\n",
    "from array import array\n",
    "import reprlib\n",
    "import itertools\n",
    "import numbers\n",
    "\n",
    "class NewVector:\n",
    "\n",
    "    typecode = 'd'\n",
    "\n",
    "    def __init__(self, componets):\n",
    "        self._componets = array(self.typecode, componets)\n",
    "\n",
    "    def __iter__(self):\n",
    "        return iter(self._componets)\n",
    "\n",
    "    def __len__(self):\n",
    "        return len(self._componets)\n",
    "\n",
    "    def __getitem__(self, index):\n",
    "        return self._componets[index]\n",
    "\n",
    "    def __repr__(self):\n",
    "        componets = reprlib.repr(self._componets)\n",
    "        componets = componets[componets.find('['):-1]\n",
    "        return \"myVector({})\".format(componets)\n",
    "\n",
    "    def __str__(self):\n",
    "        return str(tuple(self))\n",
    "# ----------------比较运算符-----------------\n",
    "    # 旧的方法会导致不同类型的数也会和该类实例相等，为了避免此类问题发生，我们需要必要的类型检查：\n",
    "    def __eq__(self, other):\n",
    "        #return tuple(self) == tuple(other)\n",
    "        if isinstance(other, NewVector):\n",
    "            return (len(self) == len(other)\n",
    "                    and all(a == b for a , b in zip(self, other)))\n",
    "        else:\n",
    "            return NotImplemented\n",
    "\n",
    "    # 不等其实可以不用实现，python会按照下面的方法自动实现！\n",
    "    def __ne__(self, other):\n",
    "        re = self == other\n",
    "        if re is NotImplemented:\n",
    "            return NotImplemented\n",
    "        else :\n",
    "            return not re\n",
    "# +++++++++++++++++比较运算符++++++++++++++++\n",
    "    def __abs__(self):\n",
    "        return math.sqrt(sum((x*x for x in self._componets)))\n",
    "\n",
    "    def __add__(self, other):\n",
    "        try:\n",
    "            pairs = itertools.zip_longest(self, other, fillvalue=0.0)\n",
    "            return Vector(a + b for a,b in pairs) # 运算符返回一个新对象\n",
    "        except TypeError:\n",
    "            return NotImplemented\n",
    "\n",
    "    def __radd__(self, other):\n",
    "        return self + other # 通常就是这么简单，直接委托给__add__方法\n",
    "# ----------------乘法中辍运算符-----------------\n",
    "    def __mul__(self, other):\n",
    "        if isinstance(other, numbers.Real): # 使用白鹅类型，利用抽线基类来进行类型判断\n",
    "            return Vector( n * other for n in self)\n",
    "        else:\n",
    "            return NotImplemented\n",
    "\n",
    "    def __rmul__(self, other):\n",
    "        return self * other\n",
    "# ++++++++++++++乘法中辍运算符+++++++++++++++++\n",
    "\n",
    "# ----------------点积运算符-------------------\n",
    "    def __matmul__(self, other):\n",
    "        try:\n",
    "            return sum( a * b for  a, b in zip(self, other))\n",
    "        except TypeError:\n",
    "            return NotImplemented\n",
    "\n",
    "    def __rmatmul__(self, other):\n",
    "        return self @ other\n",
    "# ++++++++++++++++点积运算符++++++++++++++++++++\n",
    "\n",
    "    def __bool__(self):\n",
    "        return bool(abs(self))\n",
    "\n",
    "    def __bytes__(self):\n",
    "        return (bytes([ord(self.typecode)])+\n",
    "                bytes(self._componets))\n",
    "\n",
    "    @classmethod\n",
    "    def frombytes(cls, octets):\n",
    "        typecode = chr(octets[0])\n",
    "        octets = octets[1:]\n",
    "        mev = memoryview(octets).cast(typecode)\n",
    "        return cls(mev)\n"
   ],
   "metadata": {
    "collapsed": false,
    "pycharm": {
     "name": "#%%\n"
    }
   }
  },
  {
   "cell_type": "code",
   "execution_count": 31,
   "outputs": [
    {
     "data": {
      "text/plain": "False"
     },
     "execution_count": 31,
     "metadata": {},
     "output_type": "execute_result"
    }
   ],
   "source": [
    "v5 = NewVector(range(1,5))\n",
    "v6 = (1,2,3,4)\n",
    "v5 == v6\n",
    "# 这里由于双方的eq方法都可能返回NotImplemented，因此解释器可能回去比较二者的ID"
   ],
   "metadata": {
    "collapsed": false,
    "pycharm": {
     "name": "#%%\n"
    }
   }
  },
  {
   "cell_type": "code",
   "execution_count": 32,
   "outputs": [
    {
     "data": {
      "text/plain": "True"
     },
     "execution_count": 32,
     "metadata": {},
     "output_type": "execute_result"
    }
   ],
   "source": [
    "v7 = NewVector(v6)\n",
    "v7 == v5\n"
   ],
   "metadata": {
    "collapsed": false,
    "pycharm": {
     "name": "#%%\n"
    }
   }
  },
  {
   "cell_type": "code",
   "execution_count": 33,
   "outputs": [
    {
     "data": {
      "text/plain": "True"
     },
     "execution_count": 33,
     "metadata": {},
     "output_type": "execute_result"
    }
   ],
   "source": [
    "# 这里NewVector的eq返回的是NotImplemented,因此解释器就去找Vector的eq方法了，而Vector的\n",
    "# eq方法还是老方法，所以结果为True\n",
    "v8 = Vector(v6)\n",
    "v5 == v8"
   ],
   "metadata": {
    "collapsed": false,
    "pycharm": {
     "name": "#%%\n"
    }
   }
  },
  {
   "cell_type": "markdown",
   "source": [
    "## 4 增量赋值运算符\n",
    "如果一个类没有实现表 13-1 列出的就地运算符，增量赋值运算符只是\n",
    "语法糖：a += b 的作用与 a = a + b 完全一样。对不可变类型来\n",
    "说，这是预期的行为，而且，如果定义了 \\_\\_add__ 方法的话，不用编\n",
    "写额外的代码，+= 就能使用。\n",
    "然而，如果实现了就地运算符方法，例如 \\_\\_iadd__，计算 a += b 的\n",
    "结果时会调用就地运算符方法。这种运算符的名称表明，它们会就地修\n",
    "改左操作数，而不会创建新对象作为结果。"
   ],
   "metadata": {
    "collapsed": false,
    "pycharm": {
     "name": "#%% md\n"
    }
   }
  },
  {
   "cell_type": "code",
   "execution_count": 45,
   "outputs": [
    {
     "data": {
      "text/plain": "('A', 'E', 'I', 'O', 'U', 'a', 'b', 'c', 'd')"
     },
     "execution_count": 45,
     "metadata": {},
     "output_type": "execute_result"
    }
   ],
   "source": [
    "from chapter11_Tombola import addableBingoCage\n",
    "vowels = 'AEIOU'\n",
    "a = addableBingoCage.AddableBingoCage(vowels)\n",
    "b = addableBingoCage.AddableBingoCage('abcd')\n",
    "\n",
    "c = a + b\n",
    "c.inspect()"
   ],
   "metadata": {
    "collapsed": false,
    "pycharm": {
     "name": "#%%\n"
    }
   }
  },
  {
   "cell_type": "code",
   "execution_count": 46,
   "outputs": [
    {
     "data": {
      "text/plain": "('A', 'A', 'E', 'E', 'I', 'I', 'O', 'O', 'U', 'U', 'a', 'b', 'c', 'd')"
     },
     "execution_count": 46,
     "metadata": {},
     "output_type": "execute_result"
    }
   ],
   "source": [
    "a += c\n",
    "a.inspect()"
   ],
   "metadata": {
    "collapsed": false,
    "pycharm": {
     "name": "#%%\n"
    }
   }
  },
  {
   "cell_type": "code",
   "execution_count": 47,
   "outputs": [
    {
     "data": {
      "text/plain": "'c'"
     },
     "execution_count": 47,
     "metadata": {},
     "output_type": "execute_result"
    }
   ],
   "source": [
    "a.pick()"
   ],
   "metadata": {
    "collapsed": false,
    "pycharm": {
     "name": "#%%\n"
    }
   }
  },
  {
   "cell_type": "code",
   "execution_count": 49,
   "outputs": [
    {
     "data": {
      "text/plain": "('A',\n 'A',\n 'E',\n 'E',\n 'I',\n 'I',\n 'O',\n 'O',\n 'U',\n 'U',\n 'a',\n 'b',\n 'd',\n 'x',\n 'x',\n 'y',\n 'y',\n 'z',\n 'z')"
     },
     "execution_count": 49,
     "metadata": {},
     "output_type": "execute_result"
    }
   ],
   "source": [
    "a += 'xyz'\n",
    "a.inspect()"
   ],
   "metadata": {
    "collapsed": false,
    "pycharm": {
     "name": "#%%\n"
    }
   }
  },
  {
   "cell_type": "code",
   "execution_count": 50,
   "outputs": [
    {
     "ename": "TypeError",
     "evalue": "right operand in += must be 'AddableBingoCage' or an iterable",
     "output_type": "error",
     "traceback": [
      "\u001B[1;31m---------------------------------------------------------------------------\u001B[0m",
      "\u001B[1;31mTypeError\u001B[0m                                 Traceback (most recent call last)",
      "\u001B[1;32mD:\\UGit\\PythonScript\\FluentPython\\chapter11_Tombola\\addableBingoCage.py\u001B[0m in \u001B[0;36m__iadd__\u001B[1;34m(self, other)\u001B[0m\n\u001B[0;32m     35\u001B[0m             \u001B[1;32mtry\u001B[0m\u001B[1;33m:\u001B[0m\u001B[1;33m\u001B[0m\u001B[1;33m\u001B[0m\u001B[0m\n\u001B[1;32m---> 36\u001B[1;33m                 \u001B[0mother_iterable\u001B[0m \u001B[1;33m=\u001B[0m \u001B[0miter\u001B[0m\u001B[1;33m(\u001B[0m\u001B[0mother\u001B[0m\u001B[1;33m)\u001B[0m\u001B[1;33m\u001B[0m\u001B[1;33m\u001B[0m\u001B[0m\n\u001B[0m\u001B[0;32m     37\u001B[0m             \u001B[1;32mexcept\u001B[0m \u001B[0mTypeError\u001B[0m\u001B[1;33m:\u001B[0m\u001B[1;33m\u001B[0m\u001B[1;33m\u001B[0m\u001B[0m\n",
      "\u001B[1;31mTypeError\u001B[0m: 'int' object is not iterable",
      "\nDuring handling of the above exception, another exception occurred:\n",
      "\u001B[1;31mTypeError\u001B[0m                                 Traceback (most recent call last)",
      "\u001B[1;32m<ipython-input-50-8076006b0952>\u001B[0m in \u001B[0;36m<module>\u001B[1;34m\u001B[0m\n\u001B[1;32m----> 1\u001B[1;33m \u001B[0ma\u001B[0m \u001B[1;33m+=\u001B[0m \u001B[1;36m1\u001B[0m\u001B[1;33m\u001B[0m\u001B[1;33m\u001B[0m\u001B[0m\n\u001B[0m",
      "\u001B[1;32mD:\\UGit\\PythonScript\\FluentPython\\chapter11_Tombola\\addableBingoCage.py\u001B[0m in \u001B[0;36m__iadd__\u001B[1;34m(self, other)\u001B[0m\n\u001B[0;32m     38\u001B[0m                 \u001B[0mself_cls\u001B[0m \u001B[1;33m=\u001B[0m \u001B[0mtype\u001B[0m\u001B[1;33m(\u001B[0m\u001B[0mself\u001B[0m\u001B[1;33m)\u001B[0m\u001B[1;33m.\u001B[0m\u001B[0m__name__\u001B[0m\u001B[1;33m\u001B[0m\u001B[1;33m\u001B[0m\u001B[0m\n\u001B[0;32m     39\u001B[0m                 \u001B[0mmsg\u001B[0m \u001B[1;33m=\u001B[0m \u001B[1;34m\"right operand in += must be {!r} or an iterable\"\u001B[0m\u001B[1;33m.\u001B[0m\u001B[0mformat\u001B[0m\u001B[1;33m(\u001B[0m\u001B[0mself_cls\u001B[0m\u001B[1;33m)\u001B[0m\u001B[1;33m\u001B[0m\u001B[1;33m\u001B[0m\u001B[0m\n\u001B[1;32m---> 40\u001B[1;33m                 \u001B[1;32mraise\u001B[0m \u001B[0mTypeError\u001B[0m\u001B[1;33m(\u001B[0m\u001B[0mmsg\u001B[0m\u001B[1;33m)\u001B[0m\u001B[1;33m\u001B[0m\u001B[1;33m\u001B[0m\u001B[0m\n\u001B[0m\u001B[0;32m     41\u001B[0m         \u001B[0mself\u001B[0m\u001B[1;33m.\u001B[0m\u001B[0mload\u001B[0m\u001B[1;33m(\u001B[0m\u001B[0mother_iterable\u001B[0m\u001B[1;33m)\u001B[0m\u001B[1;33m\u001B[0m\u001B[1;33m\u001B[0m\u001B[0m\n\u001B[0;32m     42\u001B[0m         \u001B[1;32mreturn\u001B[0m \u001B[0mself\u001B[0m \u001B[1;31m# 增量赋值运算必须返回自己！\u001B[0m\u001B[1;33m\u001B[0m\u001B[1;33m\u001B[0m\u001B[0m\n",
      "\u001B[1;31mTypeError\u001B[0m: right operand in += must be 'AddableBingoCage' or an iterable"
     ]
    }
   ],
   "source": [
    "a += 1\n",
    "# TypeError: right operand in += must be 'AddableBingoCage' or an iterable"
   ],
   "metadata": {
    "collapsed": false,
    "pycharm": {
     "name": "#%%\n"
    }
   }
  },
  {
   "cell_type": "code",
   "execution_count": null,
   "outputs": [],
   "source": [],
   "metadata": {
    "collapsed": false,
    "pycharm": {
     "name": "#%%\n"
    }
   }
  }
 ],
 "metadata": {
  "kernelspec": {
   "display_name": "Python 3",
   "language": "python",
   "name": "python3"
  },
  "language_info": {
   "codemirror_mode": {
    "name": "ipython",
    "version": 2
   },
   "file_extension": ".py",
   "mimetype": "text/x-python",
   "name": "python",
   "nbconvert_exporter": "python",
   "pygments_lexer": "ipython2",
   "version": "2.7.6"
  }
 },
 "nbformat": 4,
 "nbformat_minor": 0
}