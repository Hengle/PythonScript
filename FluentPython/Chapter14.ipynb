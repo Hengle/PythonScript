{
 "cells": [
  {
   "cell_type": "markdown",
   "metadata": {
    "collapsed": true,
    "pycharm": {
     "name": "#%% md\n"
    }
   },
   "source": [
    "# 第 14 章　可迭代的对象、迭代器和生成器\n",
    "\n",
    "迭代是数据处理的基石。扫描内存中放不下的数据集时，我们要找到一\n",
    "种惰性获取数据项的方式，即按需一次获取一个数据项。这就是迭代器\n",
    "模式（Iterator pattern）。本章说明 Python 语言是如何内置迭代器模式\n",
    "的，这样就避免了自己手动去实现。\n",
    "\n",
    "与 Lisp不同，Python 没有宏，因此为了抽象出迭代器模式，需要改动语言本身。\n",
    "为此，Python 2.2（2001 年）加入了 yield 关键字。\n",
    "这个关键字用于构建生成器（generator），其作用与迭代器一样。\n",
    "\n",
    "所有生成器都是迭代器，因为生成器完全实现了迭代器接口。\n",
    "但，**迭代器**用于从集合中**抽取**元素；而**生成器**用于”凭空“**生成**元素。\n",
    "python社区不区分两者区别。\n",
    "\n",
    "在 Python 中，所有集合都可以迭代。在 Python 语言内部，迭代器用于支持：\n",
    "- for 循环\n",
    "- 构建和扩展集合类型\n",
    "- 逐行遍历文本文件\n",
    "- 列表推导、字典推导和集合推导\n",
    "- 元组拆包\n",
    "- 调用函数时，使用 * 拆包实参\n",
    "\n",
    "本章内容：\n",
    "- 语言内部使用 iter(...) 内置函数处理可迭代对象的方式\n",
    "- 如何使用 Python 实现经典的迭代器模式\n",
    "- 详细说明生成器函数的工作原理\n",
    "- 如何使用生成器函数或生成器表达式代替经典的迭代器\n",
    "- 如何使用标准库中通用的生成器函数\n",
    "- 如何使用 yield from 语句合并生成器\n",
    "- 案例分析：在一个数据库转换工具中使用生成器函数处理大型数据集\n",
    "- 为什么生成器和协程看似相同，实则差别很大，不能混淆"
   ]
  },
  {
   "cell_type": "markdown",
   "source": [
    "## 14.1 单词序列案例"
   ],
   "metadata": {
    "collapsed": false,
    "pycharm": {
     "name": "#%% md\n"
    }
   }
  },
  {
   "cell_type": "code",
   "execution_count": null,
   "outputs": [],
   "source": [
    "from sentence import Sentence\n",
    "\n",
    "s = Sentence('\"The time has come,\" the Walrus said,')\n",
    "s"
   ],
   "metadata": {
    "collapsed": false,
    "pycharm": {
     "name": "#%%\n"
    }
   }
  },
  {
   "cell_type": "code",
   "execution_count": 3,
   "outputs": [
    {
     "name": "stdout",
     "output_type": "stream",
     "text": [
      "The\n",
      "time\n",
      "has\n",
      "come\n",
      "the\n",
      "Walrus\n",
      "said\n"
     ]
    }
   ],
   "source": [
    "for w in s:\n",
    "    print(w)"
   ],
   "metadata": {
    "collapsed": false,
    "pycharm": {
     "name": "#%%\n"
    }
   }
  },
  {
   "cell_type": "code",
   "execution_count": 4,
   "outputs": [
    {
     "data": {
      "text/plain": "['The', 'time', 'has', 'come', 'the', 'Walrus', 'said']"
     },
     "execution_count": 4,
     "metadata": {},
     "output_type": "execute_result"
    }
   ],
   "source": [
    "list(s)"
   ],
   "metadata": {
    "collapsed": false,
    "pycharm": {
     "name": "#%%\n"
    }
   }
  },
  {
   "cell_type": "code",
   "execution_count": 5,
   "outputs": [
    {
     "data": {
      "text/plain": "'come'"
     },
     "execution_count": 5,
     "metadata": {},
     "output_type": "execute_result"
    }
   ],
   "source": [
    "s[3]"
   ],
   "metadata": {
    "collapsed": false,
    "pycharm": {
     "name": "#%%\n"
    }
   }
  },
  {
   "cell_type": "markdown",
   "source": [
    "### 序列可以迭代的原因：iter函数\n",
    "\n",
    "解释器需要迭代对象 x 时，会自动调用 iter(x)。\n",
    "内置的 iter 函数有以下作用。\n",
    "- (1) 检查对象是否实现了 __iter__ 方法，如果实现了就调用它，获取\n",
    "一个迭代器。\n",
    "- (2) 如果没有实现 __iter__ 方法，但是实现了 __getitem__ 方法，\n",
    "Python 会创建一个迭代器，尝试按顺序（从索引 0 开始）获取元素。\n",
    "- (3) 如果尝试失败，Python 抛出 TypeError 异常，通常会提示“C object\n",
    "is not iterable”（C 对象不可迭代），其中 C 是目标对象所属的类。"
   ],
   "metadata": {
    "collapsed": false,
    "pycharm": {
     "name": "#%% md\n"
    }
   }
  },
  {
   "cell_type": "code",
   "execution_count": 1,
   "outputs": [
    {
     "ename": "NameError",
     "evalue": "name 's' is not defined",
     "output_type": "error",
     "traceback": [
      "\u001B[1;31m---------------------------------------------------------------------------\u001B[0m",
      "\u001B[1;31mNameError\u001B[0m                                 Traceback (most recent call last)",
      "\u001B[1;32m<ipython-input-1-05f125675af5>\u001B[0m in \u001B[0;36m<module>\u001B[1;34m\u001B[0m\n\u001B[1;32m----> 1\u001B[1;33m \u001B[0miter\u001B[0m\u001B[1;33m(\u001B[0m\u001B[0ms\u001B[0m\u001B[1;33m)\u001B[0m\u001B[1;33m\u001B[0m\u001B[1;33m\u001B[0m\u001B[0m\n\u001B[0m\u001B[0;32m      2\u001B[0m \u001B[1;33m\u001B[0m\u001B[0m\n",
      "\u001B[1;31mNameError\u001B[0m: name 's' is not defined"
     ]
    }
   ],
   "source": [
    "# 判断一个类是否是可以迭代的，建议使用下面的方法，而不要使用issubclass(abc.Iterable)\n",
    "# 因为iter()只要实现__getitem__或__iter__其中一个就可以，而使用subclass检查必须实现__iter__\n",
    "iter(s)"
   ],
   "metadata": {
    "collapsed": false,
    "pycharm": {
     "name": "#%%\n"
    }
   }
  },
  {
   "cell_type": "markdown",
   "source": [
    "- 如果对象实现了能返回迭代器的 __iter__ 方法，那么对象就是可迭代的。序列都可以迭代；\n",
    "- 实现了 __getitem__ 方法，而且其参数是从零开始的索引，这种对象也可以迭代。\n",
    "\n",
    "我们要明确可迭代的对象和迭代器之间的关系：Python 从可迭代的对象中获取迭代器。"
   ],
   "metadata": {
    "collapsed": false,
    "pycharm": {
     "name": "#%% md\n"
    }
   }
  },
  {
   "cell_type": "code",
   "execution_count": 10,
   "outputs": [
    {
     "name": "stdout",
     "output_type": "stream",
     "text": [
      "A\n",
      "B\n",
      "C\n"
     ]
    }
   ],
   "source": [
    "s = 'ABC'\n",
    "i = iter(s)\n",
    "while True:\n",
    "    try:\n",
    "        print(next(i))\n",
    "    except StopIteration:\n",
    "        del i\n",
    "        break"
   ],
   "metadata": {
    "collapsed": false,
    "pycharm": {
     "name": "#%%\n"
    }
   }
  },
  {
   "cell_type": "markdown",
   "source": [
    "## 　Sentence类第2版：典型的迭代器\n",
    "\n",
    "因此，迭代器可以迭代，但是可迭代的对象不是迭代器。\n",
    "\n",
    "除了 \\_\\_iter__ 方法之外，你可能还想在 Sentence 类中实现\n",
    "\\_\\_next__ 方法，让 Sentence 实例既是可迭代的对象，也是自身的\n",
    "迭代器。可是，这种想法非常糟糕。根据有大量 Python 代码审查经验的\n",
    "Alex Martelli 所说，这也是常见的反模式。\n",
    "\n",
    "迭代器模式可用来：\n",
    "- 访问一个聚合对象的内容而无需暴露它的内部表示\n",
    "- 支持对聚合对象的多种遍历\n",
    "- 为遍历不同的聚合结构提供一个统一的接口（即支持多态迭代）\n",
    "\n",
    "可迭代的对象一定不能是自身的迭代器。也就是说，可迭代的对象\n",
    "必须实现 \\_\\_iter__ 方法，但不能实现 \\_\\_next__ 方法。"
   ],
   "metadata": {
    "collapsed": false,
    "pycharm": {
     "name": "#%% md\n"
    }
   }
  },
  {
   "cell_type": "code",
   "execution_count": null,
   "outputs": [],
   "source": [
    "import re\n",
    "import reprlib\n",
    "\n",
    "\"\"\"\n",
    "第二版\n",
    "实现迭代器\n",
    "\"\"\"\n",
    "\n",
    "RE_WORD = re.compile('\\w+')\n",
    "\n",
    "\n",
    "class Sentence:\n",
    "\n",
    "    def __init__(self, text):\n",
    "        self.text = text\n",
    "        self.words = RE_WORD.findall(text)\n",
    "\n",
    "    def __repr__(self):\n",
    "        return \"Sentence(%s)\" % reprlib.repr(self.text)\n",
    "\n",
    "    def __iter__(self):\n",
    "        return SentenceIterator(self.words)\n",
    "\n",
    "\n",
    "class SentenceIterator:\n",
    "\"\"\"\n",
    "    Sentence类的迭代器\n",
    "\"\"\"\n",
    "    def __init__(self, words):\n",
    "        self.words = words\n",
    "        self.index = 0\n",
    "\n",
    "    # 返回下一个可用的元素，如果没有元素了，抛出 StopIteration异常。\n",
    "    def __next__(self):\n",
    "        try:\n",
    "            word = self.words[self.index]\n",
    "        except IndexError:\n",
    "            raise StopIteration()\n",
    "        self.index += 1\n",
    "        return word\n",
    "\n",
    "    # 返回 self，以便在应该使用可迭代对象的地方使用迭代器，例如在 for 循环中。\n",
    "    def __iter__(self):\n",
    "        return self\n",
    "\n",
    "\n",
    "\n",
    "\"\"\"\n",
    "因此，迭代器可以迭代，但是可迭代的对象不是迭代器。\n",
    "\n",
    "除了 __iter__ 方法之外，你可能还想在 Sentence 类中实现\n",
    "__next__ 方法，让 Sentence 实例既是可迭代的对象，也是自身的\n",
    "迭代器。可是，这种想法非常糟糕。根据有大量 Python 代码审查经验的\n",
    "Alex Martelli 所说，这也是常见的反模式。\n",
    "\n",
    "\n",
    "\n",
    "迭代器模式可用来：\n",
    "- 访问一个聚合对象的内容而无需暴露它的内部表示\n",
    "- 支持对聚合对象的多种遍历\n",
    "- 为遍历不同的聚合结构提供一个统一的接口（即支持多态迭代）\n",
    "\"\"\""
   ],
   "metadata": {
    "collapsed": false,
    "pycharm": {
     "name": "#%%\n"
    }
   }
  },
  {
   "cell_type": "markdown",
   "source": [
    "## 　Sentence类第3版：生成器函数"
   ],
   "metadata": {
    "collapsed": false
   }
  },
  {
   "cell_type": "code",
   "source": [
    "import re\n",
    "import reprlib\n",
    "\n",
    "\"\"\"\n",
    "第三版\n",
    "符合Python习惯的实现迭代器\n",
    "\"\"\"\n",
    "\n",
    "RE_WORD = re.compile('\\w+')\n",
    "\n",
    "class Sentence:\n",
    "\n",
    "    def __init__(self, text):\n",
    "        self.text = text\n",
    "        self.words = RE_WORD.findall(text)\n",
    "\n",
    "    def __repr__(self):\n",
    "        return \"Sentence(%s)\" % reprlib.repr(self.text)\n",
    "\n",
    "    def __iter__(self):\n",
    "        for word in self.words:\n",
    "            yield word\n",
    "        return  # 这个 return 语句不是必要的；这个函数可以直接“落空”，自动返\n",
    "                # 回。不管有没有 return 语句，生成器函数都不会抛出\n",
    "                # StopIteration 异常，而是在生成完全部值之后会直接退出。\n",
    "\n",
    "    \"\"\"\n",
    "    # 也可使用更加简洁的方法：\n",
    "    def __iter__(self):\n",
    "        return iter(self.words) # 调用 __iter__ 方法得到的就是迭代器\n",
    "    \"\"\""
   ],
   "metadata": {
    "collapsed": false,
    "pycharm": {
     "name": "#%%\n"
    }
   },
   "execution_count": null,
   "outputs": []
  },
  {
   "cell_type": "markdown",
   "source": [
    "只要 Python 函数的定义体中有 yield 关键字，该函数就是生成器函\n",
    "数。调用生成器函数时，会返回一个生成器对象。也就是说，生成器函\n",
    "数是生成器工厂。"
   ],
   "metadata": {
    "collapsed": false
   }
  },
  {
   "cell_type": "code",
   "execution_count": 11,
   "outputs": [
    {
     "data": {
      "text/plain": "<function __main__.gen_123()>"
     },
     "execution_count": 11,
     "metadata": {},
     "output_type": "execute_result"
    }
   ],
   "source": [
    "# 理解yield关键字\n",
    "\n",
    "def gen_123(): #只要 Python 函数中包含关键字 yield，该函数就是生成器函数\n",
    "    yield 1\n",
    "    yield 2\n",
    "    yield 3\n",
    "\n",
    "gen_123\n",
    "# <function __main__.gen_123()>"
   ],
   "metadata": {
    "collapsed": false,
    "pycharm": {
     "name": "#%%\n"
    }
   }
  },
  {
   "cell_type": "code",
   "execution_count": 12,
   "outputs": [
    {
     "data": {
      "text/plain": "<generator object gen_123 at 0x01467108>"
     },
     "execution_count": 12,
     "metadata": {},
     "output_type": "execute_result"
    }
   ],
   "source": [
    "gen_123()\n",
    "# <generator object gen_123 at 0x01467108>"
   ],
   "metadata": {
    "collapsed": false,
    "pycharm": {
     "name": "#%%\n"
    }
   }
  },
  {
   "cell_type": "code",
   "execution_count": 13,
   "outputs": [
    {
     "name": "stdout",
     "output_type": "stream",
     "text": [
      "1\n",
      "2\n",
      "3\n"
     ]
    }
   ],
   "source": [
    "for i in gen_123():\n",
    "    print(i)\n"
   ],
   "metadata": {
    "collapsed": false,
    "pycharm": {
     "name": "#%%\n"
    }
   }
  },
  {
   "cell_type": "code",
   "execution_count": 14,
   "outputs": [
    {
     "data": {
      "text/plain": "1"
     },
     "execution_count": 14,
     "metadata": {},
     "output_type": "execute_result"
    }
   ],
   "source": [
    "g = gen_123()\n",
    "next(g)"
   ],
   "metadata": {
    "collapsed": false,
    "pycharm": {
     "name": "#%%\n"
    }
   }
  },
  {
   "cell_type": "code",
   "execution_count": 15,
   "outputs": [
    {
     "data": {
      "text/plain": "2"
     },
     "execution_count": 15,
     "metadata": {},
     "output_type": "execute_result"
    }
   ],
   "source": [
    "next(g)\n"
   ],
   "metadata": {
    "collapsed": false,
    "pycharm": {
     "name": "#%%\n"
    }
   }
  },
  {
   "cell_type": "code",
   "execution_count": 16,
   "outputs": [
    {
     "data": {
      "text/plain": "3"
     },
     "execution_count": 16,
     "metadata": {},
     "output_type": "execute_result"
    }
   ],
   "source": [
    "next(g)"
   ],
   "metadata": {
    "collapsed": false,
    "pycharm": {
     "name": "#%%\n"
    }
   }
  },
  {
   "cell_type": "code",
   "execution_count": 20,
   "outputs": [
    {
     "ename": "StopIteration",
     "evalue": "",
     "output_type": "error",
     "traceback": [
      "\u001B[1;31m---------------------------------------------------------------------------\u001B[0m",
      "\u001B[1;31mStopIteration\u001B[0m                             Traceback (most recent call last)",
      "\u001B[1;32m<ipython-input-20-90093d91e90b>\u001B[0m in \u001B[0;36m<module>\u001B[1;34m\u001B[0m\n\u001B[1;32m----> 1\u001B[1;33m \u001B[0mnext\u001B[0m\u001B[1;33m(\u001B[0m\u001B[0mg\u001B[0m\u001B[1;33m)\u001B[0m\u001B[1;33m\u001B[0m\u001B[1;33m\u001B[0m\u001B[0m\n\u001B[0m\u001B[0;32m      2\u001B[0m \u001B[1;31m# StopIteration\u001B[0m\u001B[1;33m\u001B[0m\u001B[1;33m\u001B[0m\u001B[1;33m\u001B[0m\u001B[0m\n",
      "\u001B[1;31mStopIteration\u001B[0m: "
     ]
    }
   ],
   "source": [
    "next(g)\n",
    "# StopIteration"
   ],
   "metadata": {
    "collapsed": false,
    "pycharm": {
     "name": "#%%\n"
    }
   }
  },
  {
   "cell_type": "markdown",
   "source": [
    "生成器函数会创建一个生成器对象，包装生成器函数的定义体。把生成\n",
    "器传给 next(...) 函数时，生成器函数会向前，执行函数定义体中的\n",
    "下一个 yield 语句，返回产出的值，并在函数定义体的当前位置暂\n",
    "停。最终，函数的定义体返回时，外层的生成器对象会抛出\n",
    "StopIteration 异常——这一点与迭代器协议一致。"
   ],
   "metadata": {
    "collapsed": false,
    "pycharm": {
     "name": "#%% md\n"
    }
   }
  },
  {
   "cell_type": "code",
   "execution_count": 21,
   "outputs": [
    {
     "name": "stdout",
     "output_type": "stream",
     "text": [
      "start\n",
      "--> A\n",
      "continue\n",
      "--> B\n",
      "end\n"
     ]
    }
   ],
   "source": [
    "# 生成器函数定义体的执行过程：\n",
    "def gen_AB():\n",
    "    print('start')\n",
    "    yield \"A\"\n",
    "    print('continue')\n",
    "    yield 'B'\n",
    "    print('end')\n",
    "\n",
    "for c in gen_AB():\n",
    "    print('-->', c)"
   ],
   "metadata": {
    "collapsed": false,
    "pycharm": {
     "name": "#%%\n"
    }
   }
  },
  {
   "cell_type": "code",
   "execution_count": 26,
   "outputs": [
    {
     "name": "stdout",
     "output_type": "stream",
     "text": [
      "start\n"
     ]
    },
    {
     "data": {
      "text/plain": "'A'"
     },
     "execution_count": 26,
     "metadata": {},
     "output_type": "execute_result"
    }
   ],
   "source": [
    "next(gen_AB())"
   ],
   "metadata": {
    "collapsed": false,
    "pycharm": {
     "name": "#%%\n"
    }
   }
  },
  {
   "cell_type": "markdown",
   "source": [
    "## Sentence类第4版：惰性实现\n",
    "\n",
    "懒惰的反义词是急迫，其实，惰性求值（lazy evaluation）\n",
    "和及早求值（eager evaluation）是编程语言理论方面的技术术语。\n",
    "目前实现的几版 Sentence 类都不具有惰性，因为 \\_\\_init__ 方法急\n",
    "迫地构建好了文本中的单词列表，然后将其绑定到 self.words 属性\n",
    "上。这样就得处理整个文本，列表使用的内存量可能与文本本身一样多\n",
    "（或许更多，这取决于文本中有多少非单词字符）。如果只需迭代前几\n",
    "个单词，大多数工作都是白费力气。"
   ],
   "metadata": {
    "collapsed": false,
    "pycharm": {
     "name": "#%% md\n"
    }
   }
  },
  {
   "cell_type": "code",
   "execution_count": null,
   "outputs": [],
   "source": [
    "import re\n",
    "import reprlib\n",
    "\n",
    "\"\"\"\n",
    "第四版\n",
    "惰性实现\n",
    "\"\"\"\n",
    "\n",
    "RE_WORD = re.compile('\\w+')\n",
    "\n",
    "class Sentence:\n",
    "\n",
    "    def __init__(self, text):\n",
    "        self.text = text\n",
    "        self.words = RE_WORD.findall(text)\n",
    "\n",
    "    def __repr__(self):\n",
    "        return \"Sentence(%s)\" % reprlib.repr(self.text)\n",
    "\n",
    "    \"\"\"\n",
    "    def __iter__(self):\n",
    "        for word in self.words:\n",
    "            yield word\n",
    "        return\n",
    "    \"\"\"\n",
    "    def __iter__(self):\n",
    "        for match in RE_WORD.finditer(self.text): # finditer 函数构建一个迭代器，包含 self.text 中匹配\n",
    "                                                # RE_WORD 的单词，产出 MatchObject 实例。\n",
    "            yield match.group()  # match.group() 方法从 MatchObject 实例中提取匹配正则表达\n",
    "                                 # 式的具体文本。"
   ],
   "metadata": {
    "collapsed": false,
    "pycharm": {
     "name": "#%%\n"
    }
   }
  },
  {
   "cell_type": "markdown",
   "source": [
    "## Sentence类第5版：生成器表达式\n",
    "生成器表达式可以理解为列表推导的惰性版本：不会迫切地构建列表，\n",
    "而是返回一个生成器，按需惰性生成元素。也就是说，如果列表推导是\n",
    "制造列表的工厂，那么生成器表达式就是制造生成器的工厂。"
   ],
   "metadata": {
    "collapsed": false
   }
  },
  {
   "cell_type": "code",
   "execution_count": 38,
   "outputs": [
    {
     "name": "stdout",
     "output_type": "stream",
     "text": [
      "start\n",
      "continue\n",
      "end\n"
     ]
    },
    {
     "data": {
      "text/plain": "['AAA', 'BBB']"
     },
     "execution_count": 38,
     "metadata": {},
     "output_type": "execute_result"
    }
   ],
   "source": [
    "# 在列表推导中使用 gen_AB 生成器函数\n",
    "def gen_AB():\n",
    "    print('start')\n",
    "    yield \"A\"\n",
    "    print('continue')\n",
    "    yield 'B'\n",
    "    print('end')\n",
    "\n",
    "res1 = [x*3 for x in gen_AB()] # 列表推导\n",
    "res1"
   ],
   "metadata": {
    "collapsed": false,
    "pycharm": {
     "name": "#%%\n"
    }
   }
  },
  {
   "cell_type": "code",
   "execution_count": 39,
   "outputs": [
    {
     "name": "stdout",
     "output_type": "stream",
     "text": [
      "-->> AAA\n",
      "-->> BBB\n"
     ]
    }
   ],
   "source": [
    "for x in res1:\n",
    "    print(\"-->>\", x)"
   ],
   "metadata": {
    "collapsed": false,
    "pycharm": {
     "name": "#%%\n"
    }
   }
  },
  {
   "cell_type": "code",
   "execution_count": 42,
   "outputs": [
    {
     "data": {
      "text/plain": "<generator object <genexpr> at 0x0148D108>"
     },
     "execution_count": 42,
     "metadata": {},
     "output_type": "execute_result"
    }
   ],
   "source": [
    "res2 = (x*3 for x in gen_AB()) # 生成器表达式\n",
    "res2"
   ],
   "metadata": {
    "collapsed": false,
    "pycharm": {
     "name": "#%%\n"
    }
   }
  },
  {
   "cell_type": "code",
   "execution_count": 43,
   "outputs": [
    {
     "name": "stdout",
     "output_type": "stream",
     "text": [
      "start\n",
      "-->> AAA\n",
      "continue\n",
      "-->> BBB\n",
      "end\n"
     ]
    }
   ],
   "source": [
    "for x in res2:\n",
    "    print(\"-->>\", x)"
   ],
   "metadata": {
    "collapsed": false,
    "pycharm": {
     "name": "#%%\n"
    }
   }
  },
  {
   "cell_type": "markdown",
   "source": [
    "res2 是一个生成器对象。\n",
    "\n",
    "只有 for 循环迭代 res2 时，gen_AB 函数的定义体才会真正执\n",
    "行。for 循环每次迭代时会隐式调用 next(res2)，前进到 gen_AB\n",
    "函数中的下一个 yield 语句。注意，gen_AB 函数的输出与 for 循环\n",
    "中 print 函数的输出夹杂在一起。"
   ],
   "metadata": {
    "collapsed": false,
    "pycharm": {
     "name": "#%% md\n"
    }
   }
  },
  {
   "cell_type": "code",
   "execution_count": null,
   "outputs": [],
   "source": [
    "import re\n",
    "import reprlib\n",
    "\n",
    "\"\"\"\n",
    "第四版\n",
    "惰性实现\n",
    "\"\"\"\n",
    "RE_WORD = re.compile('\\w+')\n",
    "\n",
    "class Sentence:\n",
    "\n",
    "    def __init__(self, text):\n",
    "        self.text = text\n",
    "        self.words = RE_WORD.findall(text)\n",
    "\n",
    "    def __repr__(self):\n",
    "        return \"Sentence(%s)\" % reprlib.repr(self.text)\n",
    "    \"\"\" 第一版\n",
    "    def __getitem__(self, item):\n",
    "        return self.words[item]\n",
    "\n",
    "    def __len__(self):\n",
    "        return len(self.words)\n",
    "    \"\"\"\n",
    "    \"\"\"第二版\n",
    "    def __iter__(self):\n",
    "        return SentenceIterator(self.words)\n",
    "    \"\"\"\n",
    "\n",
    "    \"\"\"第三版\n",
    "    def __iter__(self):\n",
    "        for word in self.words:\n",
    "            yield word\n",
    "        return\n",
    "    \"\"\"\n",
    "    \"\"\"第四版\n",
    "    def __iter__(self):\n",
    "        for match in RE_WORD.finditer(self.text):\n",
    "            yield match.group()\n",
    "    \"\"\"\n",
    "    # 第五版 使用生成器表达式惰性生成迭代器！\n",
    "    def __iter__(self):\n",
    "        return (yield match.group() for match in RE_WORD.finditer(self.text))\n"
   ],
   "metadata": {
    "collapsed": false,
    "pycharm": {
     "name": "#%%\n"
    }
   }
  },
  {
   "cell_type": "markdown",
   "source": [],
   "metadata": {
    "collapsed": false
   }
  }
 ],
 "metadata": {
  "kernelspec": {
   "display_name": "Python 3",
   "language": "python",
   "name": "python3"
  },
  "language_info": {
   "codemirror_mode": {
    "name": "ipython",
    "version": 2
   },
   "file_extension": ".py",
   "mimetype": "text/x-python",
   "name": "python",
   "nbconvert_exporter": "python",
   "pygments_lexer": "ipython2",
   "version": "2.7.6"
  }
 },
 "nbformat": 4,
 "nbformat_minor": 0
}