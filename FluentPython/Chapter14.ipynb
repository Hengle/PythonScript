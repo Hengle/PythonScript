{
 "cells": [
  {
   "cell_type": "markdown",
   "metadata": {
    "collapsed": true,
    "pycharm": {
     "name": "#%% md\n"
    }
   },
   "source": [
    "# 第 14 章　可迭代的对象、迭代器和生成器\n",
    "\n",
    "迭代是数据处理的基石。扫描内存中放不下的数据集时，我们要找到一\n",
    "种惰性获取数据项的方式，即按需一次获取一个数据项。这就是迭代器\n",
    "模式（Iterator pattern）。本章说明 Python 语言是如何内置迭代器模式\n",
    "的，这样就避免了自己手动去实现。\n",
    "\n",
    "与 Lisp不同，Python 没有宏，因此为了抽象出迭代器模式，需要改动语言本身。\n",
    "为此，Python 2.2（2001 年）加入了 yield 关键字。\n",
    "这个关键字用于构建生成器（generator），其作用与迭代器一样。\n",
    "\n",
    "所有生成器都是迭代器，因为生成器完全实现了迭代器接口。\n",
    "但，**迭代器**用于从集合中**抽取**元素；而**生成器**用于”凭空“**生成**元素。\n",
    "python社区不区分两者区别。\n",
    "\n",
    "在 Python 中，所有集合都可以迭代。在 Python 语言内部，迭代器用于支持：\n",
    "- for 循环\n",
    "- 构建和扩展集合类型\n",
    "- 逐行遍历文本文件\n",
    "- 列表推导、字典推导和集合推导\n",
    "- 元组拆包\n",
    "- 调用函数时，使用 * 拆包实参\n",
    "\n",
    "本章内容：\n",
    "- 语言内部使用 iter(...) 内置函数处理可迭代对象的方式\n",
    "- 如何使用 Python 实现经典的迭代器模式\n",
    "- 详细说明生成器函数的工作原理\n",
    "- 如何使用生成器函数或生成器表达式代替经典的迭代器\n",
    "- 如何使用标准库中通用的生成器函数\n",
    "- 如何使用 yield from 语句合并生成器\n",
    "- 案例分析：在一个数据库转换工具中使用生成器函数处理大型数据集\n",
    "- 为什么生成器和协程看似相同，实则差别很大，不能混淆"
   ]
  },
  {
   "cell_type": "markdown",
   "source": [
    "## 14.1 单词序列案例"
   ],
   "metadata": {
    "collapsed": false,
    "pycharm": {
     "name": "#%% md\n"
    }
   }
  },
  {
   "cell_type": "code",
   "execution_count": null,
   "outputs": [],
   "source": [
    "from sentence import Sentence\n",
    "\n",
    "s = Sentence('\"The time has come,\" the Walrus said,')\n",
    "s"
   ],
   "metadata": {
    "collapsed": false,
    "pycharm": {
     "name": "#%%\n"
    }
   }
  },
  {
   "cell_type": "code",
   "execution_count": 3,
   "outputs": [
    {
     "name": "stdout",
     "output_type": "stream",
     "text": [
      "The\n",
      "time\n",
      "has\n",
      "come\n",
      "the\n",
      "Walrus\n",
      "said\n"
     ]
    }
   ],
   "source": [
    "for w in s:\n",
    "    print(w)"
   ],
   "metadata": {
    "collapsed": false,
    "pycharm": {
     "name": "#%%\n"
    }
   }
  },
  {
   "cell_type": "code",
   "execution_count": 4,
   "outputs": [
    {
     "data": {
      "text/plain": "['The', 'time', 'has', 'come', 'the', 'Walrus', 'said']"
     },
     "execution_count": 4,
     "metadata": {},
     "output_type": "execute_result"
    }
   ],
   "source": [
    "list(s)"
   ],
   "metadata": {
    "collapsed": false,
    "pycharm": {
     "name": "#%%\n"
    }
   }
  },
  {
   "cell_type": "code",
   "execution_count": 5,
   "outputs": [
    {
     "data": {
      "text/plain": "'come'"
     },
     "execution_count": 5,
     "metadata": {},
     "output_type": "execute_result"
    }
   ],
   "source": [
    "s[3]"
   ],
   "metadata": {
    "collapsed": false,
    "pycharm": {
     "name": "#%%\n"
    }
   }
  },
  {
   "cell_type": "markdown",
   "source": [
    "### 序列可以迭代的原因：iter函数\n",
    "\n",
    "解释器需要迭代对象 x 时，会自动调用 iter(x)。\n",
    "内置的 iter 函数有以下作用。\n",
    "- (1) 检查对象是否实现了 __iter__ 方法，如果实现了就调用它，获取\n",
    "一个迭代器。\n",
    "- (2) 如果没有实现 __iter__ 方法，但是实现了 __getitem__ 方法，\n",
    "Python 会创建一个迭代器，尝试按顺序（从索引 0 开始）获取元素。\n",
    "- (3) 如果尝试失败，Python 抛出 TypeError 异常，通常会提示“C object\n",
    "is not iterable”（C 对象不可迭代），其中 C 是目标对象所属的类。"
   ],
   "metadata": {
    "collapsed": false,
    "pycharm": {
     "name": "#%% md\n"
    }
   }
  },
  {
   "cell_type": "code",
   "execution_count": 1,
   "outputs": [
    {
     "ename": "NameError",
     "evalue": "name 's' is not defined",
     "output_type": "error",
     "traceback": [
      "\u001B[1;31m---------------------------------------------------------------------------\u001B[0m",
      "\u001B[1;31mNameError\u001B[0m                                 Traceback (most recent call last)",
      "\u001B[1;32m<ipython-input-1-05f125675af5>\u001B[0m in \u001B[0;36m<module>\u001B[1;34m\u001B[0m\n\u001B[1;32m----> 1\u001B[1;33m \u001B[0miter\u001B[0m\u001B[1;33m(\u001B[0m\u001B[0ms\u001B[0m\u001B[1;33m)\u001B[0m\u001B[1;33m\u001B[0m\u001B[1;33m\u001B[0m\u001B[0m\n\u001B[0m\u001B[0;32m      2\u001B[0m \u001B[1;33m\u001B[0m\u001B[0m\n",
      "\u001B[1;31mNameError\u001B[0m: name 's' is not defined"
     ]
    }
   ],
   "source": [
    "# 判断一个类是否是可以迭代的，建议使用下面的方法，而不要使用issubclass(abc.Iterable)\n",
    "# 因为iter()只要实现__getitem__或__iter__其中一个就可以，而使用subclass检查必须实现__iter__\n",
    "iter(s)"
   ],
   "metadata": {
    "collapsed": false,
    "pycharm": {
     "name": "#%%\n"
    }
   }
  },
  {
   "cell_type": "markdown",
   "source": [
    "- 如果对象实现了能返回迭代器的 __iter__ 方法，那么对象就是可迭代的。序列都可以迭代；\n",
    "- 实现了 __getitem__ 方法，而且其参数是从零开始的索引，这种对象也可以迭代。\n",
    "\n",
    "我们要明确可迭代的对象和迭代器之间的关系：Python 从可迭代的对象中获取迭代器。"
   ],
   "metadata": {
    "collapsed": false,
    "pycharm": {
     "name": "#%% md\n"
    }
   }
  },
  {
   "cell_type": "code",
   "execution_count": 10,
   "outputs": [
    {
     "name": "stdout",
     "output_type": "stream",
     "text": [
      "A\n",
      "B\n",
      "C\n"
     ]
    }
   ],
   "source": [
    "s = 'ABC'\n",
    "i = iter(s)\n",
    "while True:\n",
    "    try:\n",
    "        print(next(i))\n",
    "    except StopIteration:\n",
    "        del i\n",
    "        break"
   ],
   "metadata": {
    "collapsed": false,
    "pycharm": {
     "name": "#%%\n"
    }
   }
  },
  {
   "cell_type": "markdown",
   "source": [
    "## 　Sentence类第2版：典型的迭代器\n",
    "\n",
    "因此，迭代器可以迭代，但是可迭代的对象不是迭代器。\n",
    "\n",
    "除了 \\_\\_iter__ 方法之外，你可能还想在 Sentence 类中实现\n",
    "\\_\\_next__ 方法，让 Sentence 实例既是可迭代的对象，也是自身的\n",
    "迭代器。可是，这种想法非常糟糕。根据有大量 Python 代码审查经验的\n",
    "Alex Martelli 所说，这也是常见的反模式。\n",
    "\n",
    "迭代器模式可用来：\n",
    "- 访问一个聚合对象的内容而无需暴露它的内部表示\n",
    "- 支持对聚合对象的多种遍历\n",
    "- 为遍历不同的聚合结构提供一个统一的接口（即支持多态迭代）\n",
    "\n",
    "可迭代的对象一定不能是自身的迭代器。也就是说，可迭代的对象\n",
    "必须实现 \\_\\_iter__ 方法，但不能实现 \\_\\_next__ 方法。"
   ],
   "metadata": {
    "collapsed": false,
    "pycharm": {
     "name": "#%% md\n"
    }
   }
  },
  {
   "cell_type": "code",
   "execution_count": null,
   "outputs": [],
   "source": [
    "import re\n",
    "import reprlib\n",
    "\n",
    "\"\"\"\n",
    "第二版\n",
    "实现迭代器\n",
    "\"\"\"\n",
    "\n",
    "RE_WORD = re.compile('\\w+')\n",
    "\n",
    "\n",
    "class Sentence:\n",
    "\n",
    "    def __init__(self, text):\n",
    "        self.text = text\n",
    "        self.words = RE_WORD.findall(text)\n",
    "\n",
    "    def __repr__(self):\n",
    "        return \"Sentence(%s)\" % reprlib.repr(self.text)\n",
    "\n",
    "    def __iter__(self):\n",
    "        return SentenceIterator(self.words)\n",
    "\n",
    "\n",
    "class SentenceIterator:\n",
    "\"\"\"\n",
    "    Sentence类的迭代器\n",
    "\"\"\"\n",
    "    def __init__(self, words):\n",
    "        self.words = words\n",
    "        self.index = 0\n",
    "\n",
    "    # 返回下一个可用的元素，如果没有元素了，抛出 StopIteration异常。\n",
    "    def __next__(self):\n",
    "        try:\n",
    "            word = self.words[self.index]\n",
    "        except IndexError:\n",
    "            raise StopIteration()\n",
    "        self.index += 1\n",
    "        return word\n",
    "\n",
    "    # 返回 self，以便在应该使用可迭代对象的地方使用迭代器，例如在 for 循环中。\n",
    "    def __iter__(self):\n",
    "        return self\n",
    "\n",
    "\n",
    "\n",
    "\"\"\"\n",
    "因此，迭代器可以迭代，但是可迭代的对象不是迭代器。\n",
    "\n",
    "除了 __iter__ 方法之外，你可能还想在 Sentence 类中实现\n",
    "__next__ 方法，让 Sentence 实例既是可迭代的对象，也是自身的\n",
    "迭代器。可是，这种想法非常糟糕。根据有大量 Python 代码审查经验的\n",
    "Alex Martelli 所说，这也是常见的反模式。\n",
    "\n",
    "\n",
    "\n",
    "迭代器模式可用来：\n",
    "- 访问一个聚合对象的内容而无需暴露它的内部表示\n",
    "- 支持对聚合对象的多种遍历\n",
    "- 为遍历不同的聚合结构提供一个统一的接口（即支持多态迭代）\n",
    "\"\"\""
   ],
   "metadata": {
    "collapsed": false,
    "pycharm": {
     "name": "#%%\n"
    }
   }
  },
  {
   "cell_type": "markdown",
   "source": [
    "## 　Sentence类第3版：生成器函数"
   ],
   "metadata": {
    "collapsed": false
   }
  },
  {
   "cell_type": "code",
   "source": [
    "import re\n",
    "import reprlib\n",
    "\n",
    "\"\"\"\n",
    "第三版\n",
    "符合Python习惯的实现迭代器\n",
    "\"\"\"\n",
    "\n",
    "RE_WORD = re.compile('\\w+')\n",
    "\n",
    "class Sentence:\n",
    "\n",
    "    def __init__(self, text):\n",
    "        self.text = text\n",
    "        self.words = RE_WORD.findall(text)\n",
    "\n",
    "    def __repr__(self):\n",
    "        return \"Sentence(%s)\" % reprlib.repr(self.text)\n",
    "\n",
    "    def __iter__(self):\n",
    "        for word in self.words:\n",
    "            yield word\n",
    "        return  # 这个 return 语句不是必要的；这个函数可以直接“落空”，自动返\n",
    "                # 回。不管有没有 return 语句，生成器函数都不会抛出\n",
    "                # StopIteration 异常，而是在生成完全部值之后会直接退出。\n",
    "\n",
    "    \"\"\"\n",
    "    # 也可使用更加简洁的方法：\n",
    "    def __iter__(self):\n",
    "        return iter(self.words) # 调用 __iter__ 方法得到的就是迭代器\n",
    "    \"\"\""
   ],
   "metadata": {
    "collapsed": false,
    "pycharm": {
     "name": "#%%\n"
    }
   },
   "execution_count": null,
   "outputs": []
  },
  {
   "cell_type": "markdown",
   "source": [
    "只要 Python 函数的定义体中有 yield 关键字，该函数就是生成器函\n",
    "数。调用生成器函数时，会返回一个生成器对象。也就是说，生成器函\n",
    "数是生成器工厂。"
   ],
   "metadata": {
    "collapsed": false
   }
  },
  {
   "cell_type": "code",
   "execution_count": 11,
   "outputs": [
    {
     "data": {
      "text/plain": "<function __main__.gen_123()>"
     },
     "execution_count": 11,
     "metadata": {},
     "output_type": "execute_result"
    }
   ],
   "source": [
    "# 理解yield关键字\n",
    "\n",
    "def gen_123(): #只要 Python 函数中包含关键字 yield，该函数就是生成器函数\n",
    "    yield 1\n",
    "    yield 2\n",
    "    yield 3\n",
    "\n",
    "gen_123\n",
    "# <function __main__.gen_123()>"
   ],
   "metadata": {
    "collapsed": false,
    "pycharm": {
     "name": "#%%\n"
    }
   }
  },
  {
   "cell_type": "code",
   "execution_count": 12,
   "outputs": [
    {
     "data": {
      "text/plain": "<generator object gen_123 at 0x01467108>"
     },
     "execution_count": 12,
     "metadata": {},
     "output_type": "execute_result"
    }
   ],
   "source": [
    "gen_123()\n",
    "# <generator object gen_123 at 0x01467108>"
   ],
   "metadata": {
    "collapsed": false,
    "pycharm": {
     "name": "#%%\n"
    }
   }
  },
  {
   "cell_type": "code",
   "execution_count": 13,
   "outputs": [
    {
     "name": "stdout",
     "output_type": "stream",
     "text": [
      "1\n",
      "2\n",
      "3\n"
     ]
    }
   ],
   "source": [
    "for i in gen_123():\n",
    "    print(i)\n"
   ],
   "metadata": {
    "collapsed": false,
    "pycharm": {
     "name": "#%%\n"
    }
   }
  },
  {
   "cell_type": "code",
   "execution_count": 14,
   "outputs": [
    {
     "data": {
      "text/plain": "1"
     },
     "execution_count": 14,
     "metadata": {},
     "output_type": "execute_result"
    }
   ],
   "source": [
    "g = gen_123()\n",
    "next(g)"
   ],
   "metadata": {
    "collapsed": false,
    "pycharm": {
     "name": "#%%\n"
    }
   }
  },
  {
   "cell_type": "code",
   "execution_count": 15,
   "outputs": [
    {
     "data": {
      "text/plain": "2"
     },
     "execution_count": 15,
     "metadata": {},
     "output_type": "execute_result"
    }
   ],
   "source": [
    "next(g)\n"
   ],
   "metadata": {
    "collapsed": false,
    "pycharm": {
     "name": "#%%\n"
    }
   }
  },
  {
   "cell_type": "code",
   "execution_count": 16,
   "outputs": [
    {
     "data": {
      "text/plain": "3"
     },
     "execution_count": 16,
     "metadata": {},
     "output_type": "execute_result"
    }
   ],
   "source": [
    "next(g)"
   ],
   "metadata": {
    "collapsed": false,
    "pycharm": {
     "name": "#%%\n"
    }
   }
  },
  {
   "cell_type": "code",
   "execution_count": 20,
   "outputs": [
    {
     "ename": "StopIteration",
     "evalue": "",
     "output_type": "error",
     "traceback": [
      "\u001B[1;31m---------------------------------------------------------------------------\u001B[0m",
      "\u001B[1;31mStopIteration\u001B[0m                             Traceback (most recent call last)",
      "\u001B[1;32m<ipython-input-20-90093d91e90b>\u001B[0m in \u001B[0;36m<module>\u001B[1;34m\u001B[0m\n\u001B[1;32m----> 1\u001B[1;33m \u001B[0mnext\u001B[0m\u001B[1;33m(\u001B[0m\u001B[0mg\u001B[0m\u001B[1;33m)\u001B[0m\u001B[1;33m\u001B[0m\u001B[1;33m\u001B[0m\u001B[0m\n\u001B[0m\u001B[0;32m      2\u001B[0m \u001B[1;31m# StopIteration\u001B[0m\u001B[1;33m\u001B[0m\u001B[1;33m\u001B[0m\u001B[1;33m\u001B[0m\u001B[0m\n",
      "\u001B[1;31mStopIteration\u001B[0m: "
     ]
    }
   ],
   "source": [
    "next(g)\n",
    "# StopIteration"
   ],
   "metadata": {
    "collapsed": false,
    "pycharm": {
     "name": "#%%\n"
    }
   }
  },
  {
   "cell_type": "markdown",
   "source": [
    "生成器函数会创建一个生成器对象，包装生成器函数的定义体。把生成\n",
    "器传给 next(...) 函数时，生成器函数会向前，执行函数定义体中的\n",
    "下一个 yield 语句，返回产出的值，并在函数定义体的当前位置暂\n",
    "停。最终，函数的定义体返回时，外层的生成器对象会抛出\n",
    "StopIteration 异常——这一点与迭代器协议一致。"
   ],
   "metadata": {
    "collapsed": false,
    "pycharm": {
     "name": "#%% md\n"
    }
   }
  },
  {
   "cell_type": "code",
   "execution_count": 21,
   "outputs": [
    {
     "name": "stdout",
     "output_type": "stream",
     "text": [
      "start\n",
      "--> A\n",
      "continue\n",
      "--> B\n",
      "end\n"
     ]
    }
   ],
   "source": [
    "# 生成器函数定义体的执行过程：\n",
    "def gen_AB():\n",
    "    print('start')\n",
    "    yield \"A\"\n",
    "    print('continue')\n",
    "    yield 'B'\n",
    "    print('end')\n",
    "\n",
    "for c in gen_AB():\n",
    "    print('-->', c)"
   ],
   "metadata": {
    "collapsed": false,
    "pycharm": {
     "name": "#%%\n"
    }
   }
  },
  {
   "cell_type": "code",
   "execution_count": 26,
   "outputs": [
    {
     "name": "stdout",
     "output_type": "stream",
     "text": [
      "start\n"
     ]
    },
    {
     "data": {
      "text/plain": "'A'"
     },
     "execution_count": 26,
     "metadata": {},
     "output_type": "execute_result"
    }
   ],
   "source": [
    "next(gen_AB())"
   ],
   "metadata": {
    "collapsed": false,
    "pycharm": {
     "name": "#%%\n"
    }
   }
  },
  {
   "cell_type": "markdown",
   "source": [
    "## Sentence类第4版：惰性实现\n",
    "\n",
    "懒惰的反义词是急迫，其实，惰性求值（lazy evaluation）\n",
    "和及早求值（eager evaluation）是编程语言理论方面的技术术语。\n",
    "目前实现的几版 Sentence 类都不具有惰性，因为 \\_\\_init__ 方法急\n",
    "迫地构建好了文本中的单词列表，然后将其绑定到 self.words 属性\n",
    "上。这样就得处理整个文本，列表使用的内存量可能与文本本身一样多\n",
    "（或许更多，这取决于文本中有多少非单词字符）。如果只需迭代前几\n",
    "个单词，大多数工作都是白费力气。"
   ],
   "metadata": {
    "collapsed": false,
    "pycharm": {
     "name": "#%% md\n"
    }
   }
  },
  {
   "cell_type": "code",
   "execution_count": null,
   "outputs": [],
   "source": [
    "import re\n",
    "import reprlib\n",
    "\n",
    "\"\"\"\n",
    "第四版\n",
    "惰性实现\n",
    "\"\"\"\n",
    "\n",
    "RE_WORD = re.compile('\\w+')\n",
    "\n",
    "class Sentence:\n",
    "\n",
    "    def __init__(self, text):\n",
    "        self.text = text\n",
    "        self.words = RE_WORD.findall(text)\n",
    "\n",
    "    def __repr__(self):\n",
    "        return \"Sentence(%s)\" % reprlib.repr(self.text)\n",
    "\n",
    "    \"\"\"\n",
    "    def __iter__(self):\n",
    "        for word in self.words:\n",
    "            yield word\n",
    "        return\n",
    "    \"\"\"\n",
    "    def __iter__(self):\n",
    "        for match in RE_WORD.finditer(self.text): # finditer 函数构建一个迭代器，包含 self.text 中匹配\n",
    "                                                # RE_WORD 的单词，产出 MatchObject 实例。\n",
    "            yield match.group()  # match.group() 方法从 MatchObject 实例中提取匹配正则表达\n",
    "                                 # 式的具体文本。"
   ],
   "metadata": {
    "collapsed": false,
    "pycharm": {
     "name": "#%%\n"
    }
   }
  },
  {
   "cell_type": "markdown",
   "source": [
    "## Sentence类第5版：生成器表达式\n",
    "生成器表达式可以理解为列表推导的惰性版本：不会迫切地构建列表，\n",
    "而是返回一个生成器，按需惰性生成元素。也就是说，如果列表推导是\n",
    "制造列表的工厂，那么生成器表达式就是制造生成器的工厂。"
   ],
   "metadata": {
    "collapsed": false
   }
  },
  {
   "cell_type": "code",
   "execution_count": 38,
   "outputs": [
    {
     "name": "stdout",
     "output_type": "stream",
     "text": [
      "start\n",
      "continue\n",
      "end\n"
     ]
    },
    {
     "data": {
      "text/plain": "['AAA', 'BBB']"
     },
     "execution_count": 38,
     "metadata": {},
     "output_type": "execute_result"
    }
   ],
   "source": [
    "# 在列表推导中使用 gen_AB 生成器函数\n",
    "def gen_AB():\n",
    "    print('start')\n",
    "    yield \"A\"\n",
    "    print('continue')\n",
    "    yield 'B'\n",
    "    print('end')\n",
    "\n",
    "res1 = [x*3 for x in gen_AB()] # 列表推导\n",
    "res1"
   ],
   "metadata": {
    "collapsed": false,
    "pycharm": {
     "name": "#%%\n"
    }
   }
  },
  {
   "cell_type": "code",
   "execution_count": 39,
   "outputs": [
    {
     "name": "stdout",
     "output_type": "stream",
     "text": [
      "-->> AAA\n",
      "-->> BBB\n"
     ]
    }
   ],
   "source": [
    "for x in res1:\n",
    "    print(\"-->>\", x)"
   ],
   "metadata": {
    "collapsed": false,
    "pycharm": {
     "name": "#%%\n"
    }
   }
  },
  {
   "cell_type": "code",
   "execution_count": 42,
   "outputs": [
    {
     "data": {
      "text/plain": "<generator object <genexpr> at 0x0148D108>"
     },
     "execution_count": 42,
     "metadata": {},
     "output_type": "execute_result"
    }
   ],
   "source": [
    "res2 = (x*3 for x in gen_AB()) # 生成器表达式\n",
    "res2"
   ],
   "metadata": {
    "collapsed": false,
    "pycharm": {
     "name": "#%%\n"
    }
   }
  },
  {
   "cell_type": "code",
   "execution_count": 43,
   "outputs": [
    {
     "name": "stdout",
     "output_type": "stream",
     "text": [
      "start\n",
      "-->> AAA\n",
      "continue\n",
      "-->> BBB\n",
      "end\n"
     ]
    }
   ],
   "source": [
    "for x in res2:\n",
    "    print(\"-->>\", x)"
   ],
   "metadata": {
    "collapsed": false,
    "pycharm": {
     "name": "#%%\n"
    }
   }
  },
  {
   "cell_type": "markdown",
   "source": [
    "res2 是一个生成器对象。\n",
    "\n",
    "只有 for 循环迭代 res2 时，gen_AB 函数的定义体才会真正执\n",
    "行。for 循环每次迭代时会隐式调用 next(res2)，前进到 gen_AB\n",
    "函数中的下一个 yield 语句。注意，gen_AB 函数的输出与 for 循环\n",
    "中 print 函数的输出夹杂在一起。"
   ],
   "metadata": {
    "collapsed": false,
    "pycharm": {
     "name": "#%% md\n"
    }
   }
  },
  {
   "cell_type": "code",
   "execution_count": null,
   "outputs": [],
   "source": [
    "import re\n",
    "import reprlib\n",
    "\n",
    "\"\"\"\n",
    "第四版\n",
    "惰性实现\n",
    "\"\"\"\n",
    "RE_WORD = re.compile('\\w+')\n",
    "\n",
    "class Sentence:\n",
    "\n",
    "    def __init__(self, text):\n",
    "        self.text = text\n",
    "        self.words = RE_WORD.findall(text)\n",
    "\n",
    "    def __repr__(self):\n",
    "        return \"Sentence(%s)\" % reprlib.repr(self.text)\n",
    "    \"\"\" 第一版\n",
    "    def __getitem__(self, item):\n",
    "        return self.words[item]\n",
    "\n",
    "    def __len__(self):\n",
    "        return len(self.words)\n",
    "    \"\"\"\n",
    "    \"\"\"第二版\n",
    "    def __iter__(self):\n",
    "        return SentenceIterator(self.words)\n",
    "    \"\"\"\n",
    "\n",
    "    \"\"\"第三版\n",
    "    def __iter__(self):\n",
    "        for word in self.words:\n",
    "            yield word\n",
    "        return\n",
    "    \"\"\"\n",
    "    \"\"\"第四版\n",
    "    def __iter__(self):\n",
    "        for match in RE_WORD.finditer(self.text):\n",
    "            yield match.group()\n",
    "    \"\"\"\n",
    "    # 第五版 使用生成器表达式惰性生成迭代器！\n",
    "    def __iter__(self):\n",
    "        return (yield match.group() for match in RE_WORD.finditer(self.text))\n"
   ],
   "metadata": {
    "collapsed": false,
    "pycharm": {
     "name": "#%%\n"
    }
   }
  },
  {
   "cell_type": "markdown",
   "source": [
    "## 标准库中的生成器函数"
   ],
   "metadata": {
    "collapsed": false
   }
  },
  {
   "cell_type": "markdown",
   "source": [
    "### 1 过滤生成器函数"
   ],
   "metadata": {
    "collapsed": false,
    "pycharm": {
     "name": "#%% md\n"
    }
   }
  },
  {
   "cell_type": "code",
   "execution_count": null,
   "outputs": [],
   "source": [
    "def vowel(c):\n",
    "    return c.lower() in 'aeiou'\n"
   ],
   "metadata": {
    "collapsed": false,
    "pycharm": {
     "name": "#%%\n"
    }
   }
  },
  {
   "cell_type": "code",
   "execution_count": 2,
   "outputs": [
    {
     "data": {
      "text/plain": "['A', 'a', 'a']"
     },
     "execution_count": 2,
     "metadata": {},
     "output_type": "execute_result"
    }
   ],
   "source": [
    "# filter(predicate, it) 把it中的各个元素传递给predicate，如果predicate(iten)返回真值，\n",
    "# 那么产出对应的元素；如果返回是None，那么只产出真值元素。\n",
    "list(filter(vowel, 'Aardvark'))"
   ],
   "metadata": {
    "collapsed": false,
    "pycharm": {
     "name": "#%%\n"
    }
   }
  },
  {
   "cell_type": "code",
   "execution_count": 4,
   "outputs": [
    {
     "data": {
      "text/plain": "['r', 'd', 'v', 'r', 'k']"
     },
     "execution_count": 4,
     "metadata": {},
     "output_type": "execute_result"
    }
   ],
   "source": [
    "import itertools\n",
    "# 与filter一样，只是返回None时的值\n",
    "list(itertools.filterfalse(vowel, 'Aardvark'))"
   ],
   "metadata": {
    "collapsed": false,
    "pycharm": {
     "name": "#%%\n"
    }
   }
  },
  {
   "cell_type": "code",
   "execution_count": 5,
   "outputs": [
    {
     "data": {
      "text/plain": "['r', 'd', 'v', 'a', 'r', 'k']"
     },
     "execution_count": 5,
     "metadata": {},
     "output_type": "execute_result"
    }
   ],
   "source": [
    "# 处理it，跳过predicate的计算结果为真的元素，然后产出剩下的各个元素（不再进一步检查）\n",
    "list(itertools.dropwhile(vowel, 'Aardvark'))"
   ],
   "metadata": {
    "collapsed": false,
    "pycharm": {
     "name": "#%%\n"
    }
   }
  },
  {
   "cell_type": "code",
   "execution_count": 6,
   "outputs": [
    {
     "data": {
      "text/plain": "['A', 'a']"
     },
     "execution_count": 6,
     "metadata": {},
     "output_type": "execute_result"
    }
   ],
   "source": [
    "# 处理it，返回predicate的计算结果为真的元素，然后立即停止，不再继续检查\n",
    "list(itertools.takewhile(vowel, 'Aardvark'))"
   ],
   "metadata": {
    "collapsed": false,
    "pycharm": {
     "name": "#%%\n"
    }
   }
  },
  {
   "cell_type": "code",
   "execution_count": 7,
   "outputs": [
    {
     "data": {
      "text/plain": "['A', 'r']"
     },
     "execution_count": 7,
     "metadata": {},
     "output_type": "execute_result"
    }
   ],
   "source": [
    "# 并行处理两个序列，第二个序列返回True时，返回第一个序列的对应元素\n",
    "list(itertools.compress('Aardvark',(1,0,1,0,0)))"
   ],
   "metadata": {
    "collapsed": false,
    "pycharm": {
     "name": "#%%\n"
    }
   }
  },
  {
   "cell_type": "code",
   "execution_count": 8,
   "outputs": [
    {
     "data": {
      "text/plain": "['A', 'a', 'r', 'd']"
     },
     "execution_count": 8,
     "metadata": {},
     "output_type": "execute_result"
    }
   ],
   "source": [
    "# 切片惰性返回\n",
    "list(itertools.islice('Aardvark', 4))"
   ],
   "metadata": {
    "collapsed": false,
    "pycharm": {
     "name": "#%%\n"
    }
   }
  },
  {
   "cell_type": "code",
   "execution_count": 13,
   "outputs": [
    {
     "data": {
      "text/plain": "['v', 'a', 'r', 'k']"
     },
     "execution_count": 13,
     "metadata": {},
     "output_type": "execute_result"
    }
   ],
   "source": [
    "list(itertools.islice('Aardvark', 4, 21))"
   ],
   "metadata": {
    "collapsed": false,
    "pycharm": {
     "name": "#%%\n"
    }
   }
  },
  {
   "cell_type": "code",
   "execution_count": 12,
   "outputs": [
    {
     "data": {
      "text/plain": "['v', 'r']"
     },
     "execution_count": 12,
     "metadata": {},
     "output_type": "execute_result"
    }
   ],
   "source": [
    "list(itertools.islice('Aardvark', 4, 21, 2))"
   ],
   "metadata": {
    "collapsed": false,
    "pycharm": {
     "name": "#%%\n"
    }
   }
  },
  {
   "cell_type": "markdown",
   "source": [
    "### 2 映射生成器函数"
   ],
   "metadata": {
    "collapsed": false,
    "pycharm": {
     "name": "#%% md\n"
    }
   }
  },
  {
   "cell_type": "code",
   "execution_count": 14,
   "outputs": [],
   "source": [
    "sample = [5,4,2,8,7,6,3,0,9,1]"
   ],
   "metadata": {
    "collapsed": false,
    "pycharm": {
     "name": "#%%\n"
    }
   }
  },
  {
   "cell_type": "code",
   "execution_count": 15,
   "outputs": [
    {
     "data": {
      "text/plain": "[5, 9, 11, 19, 26, 32, 35, 35, 44, 45]"
     },
     "execution_count": 15,
     "metadata": {},
     "output_type": "execute_result"
    }
   ],
   "source": [
    "import itertools\n",
    "# 计算累计总和，如果提供了func参数，就把两个元素传入，然后将结果和下一个元素传递给它。\n",
    "r = list(itertools.accumulate(sample))\n",
    "r"
   ],
   "metadata": {
    "collapsed": false,
    "pycharm": {
     "name": "#%%\n"
    }
   }
  },
  {
   "cell_type": "code",
   "execution_count": 16,
   "outputs": [
    {
     "data": {
      "text/plain": "[5, 4, 2, 2, 2, 2, 2, 0, 0, 0]"
     },
     "execution_count": 16,
     "metadata": {},
     "output_type": "execute_result"
    }
   ],
   "source": [
    "r = list(itertools.accumulate(sample, min))\n",
    "r\n"
   ],
   "metadata": {
    "collapsed": false,
    "pycharm": {
     "name": "#%%\n"
    }
   }
  },
  {
   "cell_type": "code",
   "execution_count": 18,
   "outputs": [
    {
     "data": {
      "text/plain": "[5, 20, 40, 320, 2240, 13440, 40320, 0, 0, 0]"
     },
     "execution_count": 18,
     "metadata": {},
     "output_type": "execute_result"
    }
   ],
   "source": [
    "r = list(itertools.accumulate(sample, lambda a,b : a*b))\n",
    "r\n",
    "# 如果不想使用匿名函数，可以用下面的方法（推荐）\n",
    "import operator\n",
    "r = list(itertools.accumulate(sample, operator.mul))\n",
    "r"
   ],
   "metadata": {
    "collapsed": false,
    "pycharm": {
     "name": "#%%\n"
    }
   }
  },
  {
   "cell_type": "code",
   "execution_count": 20,
   "outputs": [
    {
     "data": {
      "text/plain": "[0, 1, 4, 9, 16, 25, 36, 49, 64, 81, 100]"
     },
     "execution_count": 20,
     "metadata": {},
     "output_type": "execute_result"
    }
   ],
   "source": [
    "# 把第二个开始的参数传入第一个参数的函数中，并且函数要有对应个数的参数。并行处理多个序列的参数。\n",
    "r = list(map(operator.mul,range(11),range(11)))\n",
    "r"
   ],
   "metadata": {
    "collapsed": false,
    "pycharm": {
     "name": "#%%\n"
    }
   }
  },
  {
   "cell_type": "code",
   "execution_count": 21,
   "outputs": [
    {
     "data": {
      "text/plain": "['a', 'll', 'bbb', 'aaaa', 'ttttt', 'rrrrrr', 'ooooooo', 'zzzzzzzz']"
     },
     "execution_count": 21,
     "metadata": {},
     "output_type": "execute_result"
    }
   ],
   "source": [
    "# enumerate(iterable, start=0) :返回（index，item），index的开始数组由start确定\n",
    "# startmap(func, it):把it中的各个元素传给func，产出结果。输入的可迭代对象应该产生可迭代的元素iit，然后以func(*iit)\n",
    "# 这种形式调用func\n",
    "list(itertools.starmap(operator.mul, enumerate('albatroz', 1)))"
   ],
   "metadata": {
    "collapsed": false,
    "pycharm": {
     "name": "#%%\n"
    }
   }
  },
  {
   "cell_type": "code",
   "execution_count": 24,
   "outputs": [
    {
     "data": {
      "text/plain": "[5.0,\n 4.5,\n 3.6666666666666665,\n 4.75,\n 5.2,\n 5.333333333333333,\n 5.0,\n 4.375,\n 4.888888888888889,\n 4.5]"
     },
     "execution_count": 24,
     "metadata": {},
     "output_type": "execute_result"
    }
   ],
   "source": [
    "# startmap(func, it):把it中的各个元素传给func，产出结果。输入的可迭代对象应该产生可迭代的元素iit，然后以func(*iit)\n",
    "# 这种形式调用func\n",
    "list(itertools.starmap(lambda a,b : b/a, enumerate(itertools.accumulate(sample),1)))"
   ],
   "metadata": {
    "collapsed": false,
    "pycharm": {
     "name": "#%%\n"
    }
   }
  },
  {
   "cell_type": "markdown",
   "source": [
    "### 3 合并生成器函数"
   ],
   "metadata": {
    "collapsed": false,
    "pycharm": {
     "name": "#%% md\n"
    }
   }
  },
  {
   "cell_type": "code",
   "execution_count": 25,
   "outputs": [
    {
     "data": {
      "text/plain": "['A', 'B', 'C', 0, 1]"
     },
     "execution_count": 25,
     "metadata": {},
     "output_type": "execute_result"
    }
   ],
   "source": [
    "# 先产出第一个参数的所有元素，然后在产出第二参数的所有元素，以此类推。\n",
    "list(itertools.chain('ABC', range(2)))"
   ],
   "metadata": {
    "collapsed": false,
    "pycharm": {
     "name": "#%%\n"
    }
   }
  },
  {
   "cell_type": "code",
   "execution_count": 26,
   "outputs": [
    {
     "data": {
      "text/plain": "[(0, 'A'), (1, 'B'), (2, 'C')]"
     },
     "execution_count": 26,
     "metadata": {},
     "output_type": "execute_result"
    }
   ],
   "source": [
    "list(itertools.chain(enumerate('ABC')))"
   ],
   "metadata": {
    "collapsed": false,
    "pycharm": {
     "name": "#%%\n"
    }
   }
  },
  {
   "cell_type": "code",
   "execution_count": 27,
   "outputs": [
    {
     "data": {
      "text/plain": "[0, 'A', 1, 'B', 2, 'C']"
     },
     "execution_count": 27,
     "metadata": {},
     "output_type": "execute_result"
    }
   ],
   "source": [
    "# 产出it生成的各个可迭代对象中的元素，一个接一个，无缝连接在一起。it应该产出可迭代的元素，例如可迭代的对象列表：\n",
    "list(itertools.chain.from_iterable((enumerate('ABC'))))"
   ],
   "metadata": {
    "collapsed": false,
    "pycharm": {
     "name": "#%%\n"
    }
   }
  },
  {
   "cell_type": "code",
   "execution_count": 29,
   "outputs": [
    {
     "data": {
      "text/plain": "[('A', 0, 10), ('B', 1, 20), ('C', 2, 30)]"
     },
     "execution_count": 29,
     "metadata": {},
     "output_type": "execute_result"
    }
   ],
   "source": [
    "# 生成合并组元的序列，但是长度为最短的\n",
    "list(zip('ABC', range(3), [10,20,30,40]))"
   ],
   "metadata": {
    "collapsed": false,
    "pycharm": {
     "name": "#%%\n"
    }
   }
  },
  {
   "cell_type": "code",
   "execution_count": 30,
   "outputs": [
    {
     "data": {
      "text/plain": "[('A', 0, 10), ('B', 1, 20), ('C', 2, 30), (None, 3, 40), (None, None, 50)]"
     },
     "execution_count": 30,
     "metadata": {},
     "output_type": "execute_result"
    }
   ],
   "source": [
    "# 生成合并组元的序列，但是长度为最长的\n",
    "list(itertools.zip_longest('ABC', range(4), [10,20,30,40,50]))"
   ],
   "metadata": {
    "collapsed": false,
    "pycharm": {
     "name": "#%%\n"
    }
   }
  },
  {
   "cell_type": "code",
   "execution_count": 31,
   "outputs": [
    {
     "data": {
      "text/plain": "[('A', 0, 10),\n ('B', 1, 20),\n ('C', 2, 30),\n ('Null', 3, 40),\n ('Null', 'Null', 50)]"
     },
     "execution_count": 31,
     "metadata": {},
     "output_type": "execute_result"
    }
   ],
   "source": [
    "# 生成合并组元的序列，但是长度为最长的，并能设置缺失元素的填充值\n",
    "list(itertools.zip_longest('ABC', range(4), [10,20,30,40,50], fillvalue='Null'))"
   ],
   "metadata": {
    "collapsed": false,
    "pycharm": {
     "name": "#%%\n"
    }
   }
  },
  {
   "cell_type": "code",
   "execution_count": 32,
   "outputs": [
    {
     "data": {
      "text/plain": "[('A', 0), ('A', 1), ('B', 0), ('B', 1), ('C', 0), ('C', 1)]"
     },
     "execution_count": 32,
     "metadata": {},
     "output_type": "execute_result"
    }
   ],
   "source": [
    "# 笛卡尔积\n",
    "list(itertools.product('ABC', range(2)))"
   ],
   "metadata": {
    "collapsed": false,
    "pycharm": {
     "name": "#%%\n"
    }
   }
  },
  {
   "cell_type": "code",
   "execution_count": 33,
   "outputs": [
    {
     "data": {
      "text/plain": "[('A', 'spades'),\n ('A', 'hearts'),\n ('A', 'diamonds'),\n ('A', 'clubs'),\n ('J', 'spades'),\n ('J', 'hearts'),\n ('J', 'diamonds'),\n ('J', 'clubs'),\n ('Q', 'spades'),\n ('Q', 'hearts'),\n ('Q', 'diamonds'),\n ('Q', 'clubs'),\n ('K', 'spades'),\n ('K', 'hearts'),\n ('K', 'diamonds'),\n ('K', 'clubs')]"
     },
     "execution_count": 33,
     "metadata": {},
     "output_type": "execute_result"
    }
   ],
   "source": [
    "suits = 'spades hearts diamonds clubs'.split()\n",
    "list(itertools.product('AJQK', suits))"
   ],
   "metadata": {
    "collapsed": false,
    "pycharm": {
     "name": "#%%\n"
    }
   }
  },
  {
   "cell_type": "code",
   "execution_count": 34,
   "outputs": [
    {
     "data": {
      "text/plain": "[('A',), ('B',), ('C',)]"
     },
     "execution_count": 34,
     "metadata": {},
     "output_type": "execute_result"
    }
   ],
   "source": [
    "list(itertools.product('ABC'))"
   ],
   "metadata": {
    "collapsed": false,
    "pycharm": {
     "name": "#%%\n"
    }
   }
  },
  {
   "cell_type": "code",
   "execution_count": 35,
   "outputs": [
    {
     "data": {
      "text/plain": "[('A', 'A'),\n ('A', 'B'),\n ('A', 'C'),\n ('B', 'A'),\n ('B', 'B'),\n ('B', 'C'),\n ('C', 'A'),\n ('C', 'B'),\n ('C', 'C')]"
     },
     "execution_count": 35,
     "metadata": {},
     "output_type": "execute_result"
    }
   ],
   "source": [
    "list(itertools.product('ABC', repeat=2))"
   ],
   "metadata": {
    "collapsed": false,
    "pycharm": {
     "name": "#%%\n"
    }
   }
  },
  {
   "cell_type": "code",
   "execution_count": 36,
   "outputs": [
    {
     "data": {
      "text/plain": "[(0, 0, 0),\n (0, 0, 1),\n (0, 1, 0),\n (0, 1, 1),\n (1, 0, 0),\n (1, 0, 1),\n (1, 1, 0),\n (1, 1, 1)]"
     },
     "execution_count": 36,
     "metadata": {},
     "output_type": "execute_result"
    }
   ],
   "source": [
    "list(itertools.product(range(2), repeat=3))"
   ],
   "metadata": {
    "collapsed": false,
    "pycharm": {
     "name": "#%%\n"
    }
   }
  },
  {
   "cell_type": "code",
   "execution_count": 37,
   "outputs": [
    {
     "name": "stdout",
     "output_type": "stream",
     "text": [
      "('A', 0, 'A', 0)\n",
      "('A', 0, 'A', 1)\n",
      "('A', 0, 'B', 0)\n",
      "('A', 0, 'B', 1)\n",
      "('A', 1, 'A', 0)\n",
      "('A', 1, 'A', 1)\n",
      "('A', 1, 'B', 0)\n",
      "('A', 1, 'B', 1)\n",
      "('B', 0, 'A', 0)\n",
      "('B', 0, 'A', 1)\n",
      "('B', 0, 'B', 0)\n",
      "('B', 0, 'B', 1)\n",
      "('B', 1, 'A', 0)\n",
      "('B', 1, 'A', 1)\n",
      "('B', 1, 'B', 0)\n",
      "('B', 1, 'B', 1)\n"
     ]
    }
   ],
   "source": [
    "rows = itertools.product(\"AB\", range(2), repeat=2)\n",
    "for row in rows:\n",
    "    print(row)"
   ],
   "metadata": {
    "collapsed": false,
    "pycharm": {
     "name": "#%%\n"
    }
   }
  },
  {
   "cell_type": "markdown",
   "source": [
    "### 4 其他特殊函数：能够产出更多元素的生成器"
   ],
   "metadata": {
    "collapsed": false,
    "pycharm": {
     "name": "#%% md\n"
    }
   }
  },
  {
   "cell_type": "code",
   "execution_count": 38,
   "outputs": [
    {
     "data": {
      "text/plain": "0"
     },
     "execution_count": 38,
     "metadata": {},
     "output_type": "execute_result"
    }
   ],
   "source": [
    "# 可以生成无数个元素\n",
    "ct = itertools.count()\n",
    "next(ct)"
   ],
   "metadata": {
    "collapsed": false,
    "pycharm": {
     "name": "#%%\n"
    }
   }
  },
  {
   "cell_type": "code",
   "execution_count": 39,
   "outputs": [
    {
     "data": {
      "text/plain": "(1, 2, 3)"
     },
     "execution_count": 39,
     "metadata": {},
     "output_type": "execute_result"
    }
   ],
   "source": [
    "next(ct), next(ct), next(ct)"
   ],
   "metadata": {
    "collapsed": false,
    "pycharm": {
     "name": "#%%\n"
    }
   }
  },
  {
   "cell_type": "code",
   "execution_count": 40,
   "outputs": [
    {
     "data": {
      "text/plain": "[1, 1.3, 1.6]"
     },
     "execution_count": 40,
     "metadata": {},
     "output_type": "execute_result"
    }
   ],
   "source": [
    "# 使用切片防止无限崩溃\n",
    "list(itertools.islice(itertools.count(1, 0.3),3))"
   ],
   "metadata": {
    "collapsed": false,
    "pycharm": {
     "name": "#%%\n"
    }
   }
  },
  {
   "cell_type": "code",
   "execution_count": 41,
   "outputs": [
    {
     "data": {
      "text/plain": "'A'"
     },
     "execution_count": 41,
     "metadata": {},
     "output_type": "execute_result"
    }
   ],
   "source": [
    "# 循环\n",
    "cy = itertools.cycle(\"ABC\")\n",
    "next(cy)"
   ],
   "metadata": {
    "collapsed": false,
    "pycharm": {
     "name": "#%%\n"
    }
   }
  },
  {
   "cell_type": "code",
   "execution_count": 42,
   "outputs": [
    {
     "data": {
      "text/plain": "['B', 'C', 'A', 'B', 'C', 'A', 'B']"
     },
     "execution_count": 42,
     "metadata": {},
     "output_type": "execute_result"
    }
   ],
   "source": [
    "list(itertools.islice(cy, 7))"
   ],
   "metadata": {
    "collapsed": false,
    "pycharm": {
     "name": "#%%\n"
    }
   }
  },
  {
   "cell_type": "code",
   "execution_count": 43,
   "outputs": [
    {
     "data": {
      "text/plain": "(7, 7, 7, 7)"
     },
     "execution_count": 43,
     "metadata": {},
     "output_type": "execute_result"
    }
   ],
   "source": [
    "# 没有第二参数的时候，每次都会重复输出\n",
    "rp = itertools.repeat(7)\n",
    "next(rp), next(rp), next(rp), next(rp)"
   ],
   "metadata": {
    "collapsed": false,
    "pycharm": {
     "name": "#%%\n"
    }
   }
  },
  {
   "cell_type": "code",
   "execution_count": 48,
   "outputs": [
    {
     "data": {
      "text/plain": "'ABC'"
     },
     "execution_count": 48,
     "metadata": {},
     "output_type": "execute_result"
    }
   ],
   "source": [
    "rp2 = itertools.repeat('ABC')\n",
    "next(rp2)"
   ],
   "metadata": {
    "collapsed": false,
    "pycharm": {
     "name": "#%%\n"
    }
   }
  },
  {
   "cell_type": "code",
   "execution_count": null,
   "outputs": [],
   "source": [
    "list(itertools.repeat(7,4))"
   ],
   "metadata": {
    "collapsed": false,
    "pycharm": {
     "name": "#%%\n"
    }
   }
  },
  {
   "cell_type": "code",
   "execution_count": 45,
   "outputs": [
    {
     "data": {
      "text/plain": "[0, 5, 10, 15, 20, 25, 30, 35, 40, 45]"
     },
     "execution_count": 45,
     "metadata": {},
     "output_type": "execute_result"
    }
   ],
   "source": [
    "list(map(operator.mul, range(10), itertools.repeat(5)))"
   ],
   "metadata": {
    "collapsed": false,
    "pycharm": {
     "name": "#%%\n"
    }
   }
  },
  {
   "cell_type": "markdown",
   "source": [
    "### 5 组合学 生成器 （ combinatoric generator ）\n",
    "\n",
    "包括：\n",
    "- itertools.combinations\n",
    "- itertools.combinations_with_replacement\n",
    "- itertools.permutations\n",
    "- itertools.product"
   ],
   "metadata": {
    "collapsed": false,
    "pycharm": {
     "name": "#%% md\n"
    }
   }
  },
  {
   "cell_type": "code",
   "execution_count": 49,
   "outputs": [
    {
     "data": {
      "text/plain": "[('A', 'B'), ('A', 'C'), ('B', 'C')]"
     },
     "execution_count": 49,
     "metadata": {},
     "output_type": "execute_result"
    }
   ],
   "source": [
    "# 'ABC'每两个元素的各种组合, 元素的顺序没有意义\n",
    "list(itertools.combinations('ABC', 2))"
   ],
   "metadata": {
    "collapsed": false,
    "pycharm": {
     "name": "#%%\n"
    }
   }
  },
  {
   "cell_type": "code",
   "execution_count": 50,
   "outputs": [
    {
     "data": {
      "text/plain": "[('A', 'A'), ('A', 'B'), ('A', 'C'), ('B', 'B'), ('B', 'C'), ('C', 'C')]"
     },
     "execution_count": 50,
     "metadata": {},
     "output_type": "execute_result"
    }
   ],
   "source": [
    "# 'ABC'每两个元素的各种组合, 包括相同元素的组合\n",
    "list(itertools.combinations_with_replacement('ABC', 2))"
   ],
   "metadata": {
    "collapsed": false,
    "pycharm": {
     "name": "#%%\n"
    }
   }
  },
  {
   "cell_type": "code",
   "execution_count": 51,
   "outputs": [
    {
     "data": {
      "text/plain": "[('A', 'B'), ('A', 'C'), ('B', 'A'), ('B', 'C'), ('C', 'A'), ('C', 'B')]"
     },
     "execution_count": 51,
     "metadata": {},
     "output_type": "execute_result"
    }
   ],
   "source": [
    "# 'ABC'每两个元素的各种组合, 元素的顺序有重要意义\n",
    "list(itertools.permutations('ABC', 2))"
   ],
   "metadata": {
    "collapsed": false,
    "pycharm": {
     "name": "#%%\n"
    }
   }
  },
  {
   "cell_type": "code",
   "execution_count": 53,
   "outputs": [
    {
     "data": {
      "text/plain": "[('A', 'A'),\n ('A', 'B'),\n ('A', 'C'),\n ('B', 'A'),\n ('B', 'B'),\n ('B', 'C'),\n ('C', 'A'),\n ('C', 'B'),\n ('C', 'C')]"
     },
     "execution_count": 53,
     "metadata": {},
     "output_type": "execute_result"
    }
   ],
   "source": [
    "# 笛卡尔积\n",
    "list(itertools.product('ABC', repeat=2))"
   ],
   "metadata": {
    "collapsed": false,
    "pycharm": {
     "name": "#%%\n"
    }
   }
  },
  {
   "cell_type": "markdown",
   "source": [
    "### 6 用于产出输入的可迭代对象中的全部元素，但重新排列"
   ],
   "metadata": {
    "collapsed": false,
    "pycharm": {
     "name": "#%% md\n"
    }
   }
  },
  {
   "cell_type": "code",
   "execution_count": 54,
   "outputs": [
    {
     "data": {
      "text/plain": "[('A', <itertools._grouper at 0x7fe31b132df0>),\n ('B', <itertools._grouper at 0x7fe31b132490>),\n ('C', <itertools._grouper at 0x7fe31b132910>)]"
     },
     "execution_count": 54,
     "metadata": {},
     "output_type": "execute_result"
    }
   ],
   "source": [
    "list(itertools.groupby('AAAABBBCCCCCC'))"
   ],
   "metadata": {
    "collapsed": false,
    "pycharm": {
     "name": "#%%\n"
    }
   }
  },
  {
   "cell_type": "code",
   "execution_count": 55,
   "outputs": [
    {
     "name": "stdout",
     "output_type": "stream",
     "text": [
      "A --> ['A', 'A', 'A', 'A']\n",
      "B --> ['B', 'B', 'B']\n",
      "C --> ['C', 'C', 'C', 'C', 'C', 'C']\n"
     ]
    }
   ],
   "source": [
    "for char, group in itertools.groupby('AAAABBBCCCCCC'):\n",
    "    print(char, '-->', list(group))"
   ],
   "metadata": {
    "collapsed": false,
    "pycharm": {
     "name": "#%%\n"
    }
   }
  },
  {
   "cell_type": "code",
   "execution_count": 65,
   "outputs": [
    {
     "data": {
      "text/plain": "['rat',\n 'bat',\n 'dog',\n 'duck',\n 'bear',\n 'lion',\n 'eagle',\n 'shark',\n 'giraffe',\n 'dolphin']"
     },
     "execution_count": 65,
     "metadata": {},
     "output_type": "execute_result"
    }
   ],
   "source": [
    "animals = ['duck', 'eagle', 'rat', 'giraffe', 'bear', 'bat', 'dolphin', 'shark', 'lion', 'dog']\n",
    "animals.sort(key=len)\n",
    "animals"
   ],
   "metadata": {
    "collapsed": false,
    "pycharm": {
     "name": "#%%\n"
    }
   }
  },
  {
   "cell_type": "code",
   "execution_count": 66,
   "outputs": [
    {
     "name": "stdout",
     "output_type": "stream",
     "text": [
      "3 --> ['rat', 'bat', 'dog']\n",
      "4 --> ['duck', 'bear', 'lion']\n",
      "5 --> ['eagle', 'shark']\n",
      "7 --> ['giraffe', 'dolphin']\n"
     ]
    }
   ],
   "source": [
    "# 以长度进行分类\n",
    "for length, group in itertools.groupby(animals, len):\n",
    "    print(length, '-->', list(group))"
   ],
   "metadata": {
    "collapsed": false,
    "pycharm": {
     "name": "#%%\n"
    }
   }
  },
  {
   "cell_type": "code",
   "execution_count": 68,
   "outputs": [
    {
     "name": "stdout",
     "output_type": "stream",
     "text": [
      "7 --> ['dolphin', 'giraffe']\n",
      "5 --> ['shark', 'eagle']\n",
      "4 --> ['lion', 'bear', 'duck']\n",
      "3 --> ['dog', 'bat', 'rat']\n"
     ]
    }
   ],
   "source": [
    "# 反向animals列表，竟然能够影响输出的顺序！需要进一步理解！\n",
    "for length, group in itertools.groupby(reversed(animals), len):\n",
    "    print(length, '-->', list(group))"
   ],
   "metadata": {
    "collapsed": false,
    "pycharm": {
     "name": "#%%\n"
    }
   }
  },
  {
   "cell_type": "code",
   "execution_count": 69,
   "outputs": [
    {
     "name": "stdout",
     "output_type": "stream",
     "text": [
      "r --> ['rat']\n",
      "b --> ['bat']\n",
      "d --> ['dog', 'duck']\n",
      "b --> ['bear']\n",
      "l --> ['lion']\n",
      "e --> ['eagle']\n",
      "s --> ['shark']\n",
      "g --> ['giraffe']\n",
      "d --> ['dolphin']\n"
     ]
    }
   ],
   "source": [
    "# 以首字母分类：\n",
    "for name, group in itertools.groupby(animals, lambda a:a[0]):\n",
    "    print(name, '-->', list(group))"
   ],
   "metadata": {
    "collapsed": false,
    "pycharm": {
     "name": "#%%\n"
    }
   }
  },
  {
   "cell_type": "code",
   "execution_count": 70,
   "outputs": [
    {
     "data": {
      "text/plain": "[<itertools._tee at 0x7fe3196d9cc0>, <itertools._tee at 0x7fe31a005480>]"
     },
     "execution_count": 70,
     "metadata": {},
     "output_type": "execute_result"
    }
   ],
   "source": [
    "# 从输入的一个可迭代对象中产出多个生成器，每个生成器都可以产出输入的各个元素。\n",
    "list(itertools.tee('ABC'))"
   ],
   "metadata": {
    "collapsed": false,
    "pycharm": {
     "name": "#%%\n"
    }
   }
  },
  {
   "cell_type": "code",
   "execution_count": 71,
   "outputs": [],
   "source": [
    "g1, g2 = itertools.tee('ABC')"
   ],
   "metadata": {
    "collapsed": false,
    "pycharm": {
     "name": "#%%\n"
    }
   }
  },
  {
   "cell_type": "code",
   "execution_count": 72,
   "outputs": [
    {
     "data": {
      "text/plain": "'A'"
     },
     "execution_count": 72,
     "metadata": {},
     "output_type": "execute_result"
    }
   ],
   "source": [
    "next(g1)"
   ],
   "metadata": {
    "collapsed": false,
    "pycharm": {
     "name": "#%%\n"
    }
   }
  },
  {
   "cell_type": "code",
   "execution_count": 73,
   "outputs": [
    {
     "data": {
      "text/plain": "'A'"
     },
     "execution_count": 73,
     "metadata": {},
     "output_type": "execute_result"
    }
   ],
   "source": [
    "next(g2)"
   ],
   "metadata": {
    "collapsed": false,
    "pycharm": {
     "name": "#%%\n"
    }
   }
  },
  {
   "cell_type": "code",
   "execution_count": 74,
   "outputs": [
    {
     "data": {
      "text/plain": "'B'"
     },
     "execution_count": 74,
     "metadata": {},
     "output_type": "execute_result"
    }
   ],
   "source": [
    "next(g1)\n"
   ],
   "metadata": {
    "collapsed": false,
    "pycharm": {
     "name": "#%%\n"
    }
   }
  },
  {
   "cell_type": "code",
   "execution_count": 75,
   "outputs": [
    {
     "data": {
      "text/plain": "['C']"
     },
     "execution_count": 75,
     "metadata": {},
     "output_type": "execute_result"
    }
   ],
   "source": [
    "list(g1)"
   ],
   "metadata": {
    "collapsed": false,
    "pycharm": {
     "name": "#%%\n"
    }
   }
  },
  {
   "cell_type": "code",
   "execution_count": 76,
   "outputs": [
    {
     "data": {
      "text/plain": "['B', 'C']"
     },
     "execution_count": 76,
     "metadata": {},
     "output_type": "execute_result"
    }
   ],
   "source": [
    "list(g2)"
   ],
   "metadata": {
    "collapsed": false,
    "pycharm": {
     "name": "#%%\n"
    }
   }
  },
  {
   "cell_type": "code",
   "execution_count": 77,
   "outputs": [
    {
     "data": {
      "text/plain": "[('A', 'A'), ('B', 'B'), ('C', 'C')]"
     },
     "execution_count": 77,
     "metadata": {},
     "output_type": "execute_result"
    }
   ],
   "source": [
    "list(zip(*itertools.tee('ABC')))"
   ],
   "metadata": {
    "collapsed": false,
    "pycharm": {
     "name": "#%%\n"
    }
   }
  },
  {
   "cell_type": "code",
   "execution_count": 78,
   "outputs": [
    {
     "data": {
      "text/plain": "[<itertools._tee at 0x7fe31a07d280>,\n <itertools._tee at 0x7fe31a07d5c0>,\n <itertools._tee at 0x7fe31a07d040>,\n <itertools._tee at 0x7fe31a07df00>,\n <itertools._tee at 0x7fe31a07d680>]"
     },
     "execution_count": 78,
     "metadata": {},
     "output_type": "execute_result"
    }
   ],
   "source": [
    "# 默认生成两个， 可以设置任意数量\n",
    "list(itertools.tee('ABC', 5))"
   ],
   "metadata": {
    "collapsed": false,
    "pycharm": {
     "name": "#%%\n"
    }
   }
  },
  {
   "cell_type": "code",
   "execution_count": null,
   "outputs": [],
   "source": [],
   "metadata": {
    "collapsed": false,
    "pycharm": {
     "name": "#%%\n"
    }
   }
  }
 ],
 "metadata": {
  "kernelspec": {
   "name": "pycharm-7376436b",
   "language": "python",
   "display_name": "PyCharm (PythonScript)"
  },
  "language_info": {
   "codemirror_mode": {
    "name": "ipython",
    "version": 2
   },
   "file_extension": ".py",
   "mimetype": "text/x-python",
   "name": "python",
   "nbconvert_exporter": "python",
   "pygments_lexer": "ipython2",
   "version": "2.7.6"
  }
 },
 "nbformat": 4,
 "nbformat_minor": 0
}