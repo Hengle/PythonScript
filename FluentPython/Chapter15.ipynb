{
 "cells": [
  {
   "cell_type": "markdown",
   "metadata": {
    "collapsed": true,
    "pycharm": {
     "name": "#%% md\n"
    }
   },
   "source": [
    "# 15 上下文管理器 和 else 块"
   ]
  },
  {
   "cell_type": "markdown",
   "source": [
    "## else块 = then\n",
    "\n",
    "除了 if/else的组合，还有 for/else; while/else; try/else组合。\n",
    "\n",
    "在后面这三个组合中，else更像then的概念：\n",
    "- for/else ：for循环没有被break中止，完整运行完循环后，才运行else块\n",
    "- while/else : 当while因为条件为假值而退出时（没有被break中止），才运行else块\n",
    "- try/else : 当try没有异常抛出时才运行else块。\n",
    "\n",
    "像极了then（但是没有then关键字！）"
   ],
   "metadata": {
    "collapsed": false,
    "pycharm": {
     "name": "#%% md\n"
    }
   }
  },
  {
   "cell_type": "markdown",
   "source": [
    "> 两种风格\n",
    ">\n",
    "> EAFP (easier to ask for forgiveness than permission)\n",
    ">\n",
    "> 取得原谅比获得许可容易。有很多try/except语句\n",
    ">\n",
    "> LBYL (look before you leap)\n",
    ">\n",
    "> 三思而后行. 有很多if语句。（多线程中会有风险，需要使用锁或者使用EAFP风格）"
   ],
   "metadata": {
    "collapsed": false,
    "pycharm": {
     "name": "#%% md\n"
    }
   }
  },
  {
   "cell_type": "markdown",
   "source": [
    "## 上下文管理器和with块"
   ],
   "metadata": {
    "collapsed": false,
    "pycharm": {
     "name": "#%% md\n"
    }
   }
  },
  {
   "cell_type": "code",
   "execution_count": null,
   "outputs": [],
   "source": [],
   "metadata": {
    "collapsed": false,
    "pycharm": {
     "name": "#%%\n"
    }
   }
  }
 ],
 "metadata": {
  "kernelspec": {
   "name": "pycharm-7376436b",
   "language": "python",
   "display_name": "PyCharm (PythonScript)"
  },
  "language_info": {
   "codemirror_mode": {
    "name": "ipython",
    "version": 2
   },
   "file_extension": ".py",
   "mimetype": "text/x-python",
   "name": "python",
   "nbconvert_exporter": "python",
   "pygments_lexer": "ipython2",
   "version": "2.7.6"
  }
 },
 "nbformat": 4,
 "nbformat_minor": 0
}