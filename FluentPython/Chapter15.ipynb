{
 "cells": [
  {
   "cell_type": "markdown",
   "metadata": {
    "collapsed": true,
    "pycharm": {
     "name": "#%% md\n"
    }
   },
   "source": [
    "# 15 上下文管理器 和 else 块"
   ]
  },
  {
   "cell_type": "markdown",
   "source": [
    "## else块 = then\n",
    "\n",
    "除了 if/else的组合，还有 for/else; while/else; try/else组合。\n",
    "\n",
    "在后面这三个组合中，else更像then的概念：\n",
    "- for/else ：for循环没有被break中止，完整运行完循环后，才运行else块\n",
    "- while/else : 当while因为条件为假值而退出时（没有被break中止），才运行else块\n",
    "- try/else : 当try没有异常抛出时才运行else块。\n",
    "\n",
    "像极了then（但是没有then关键字！）"
   ],
   "metadata": {
    "collapsed": false,
    "pycharm": {
     "name": "#%% md\n"
    }
   }
  },
  {
   "cell_type": "markdown",
   "source": [
    "> 两种风格\n",
    ">\n",
    "> EAFP (easier to ask for forgiveness than permission)\n",
    ">\n",
    "> 取得原谅比获得许可容易。有很多try/except语句\n",
    ">\n",
    "> LBYL (look before you leap)\n",
    ">\n",
    "> 三思而后行. 有很多if语句。（多线程中会有风险，需要使用锁或者使用EAFP风格）"
   ],
   "metadata": {
    "collapsed": false,
    "pycharm": {
     "name": "#%% md\n"
    }
   }
  },
  {
   "cell_type": "markdown",
   "source": [
    "## 上下文管理器和with块\n",
    "\n",
    "上下文管理器对象存在的目的是管理with语句，就像迭代器的存在是为了管理for语句一样。\n",
    "\n",
    "with语句的目的是简化**try/finally模式**。\n",
    "\n",
    "这种模式用于保证一段代码运行完毕后执行某项操作，即便那段代码由于异常、return语句或sys.exit（）调用而中止，\n",
    "也会执行指定的操作。\n",
    "\n",
    "finally子句中的代码通常用于释放重要的资源，或者还原临时变更的状态。\n",
    "\n",
    "上下文管理器协议包含\\_\\_enter__和\\_\\_exit__两个方法。\n",
    "\n",
    "with语句开始运行时，会在上下文管理器对象上调用\\_\\_enter__方法。\n",
    "with语句运行结束后，会在上下文管理器对象上调用\\_\\_exit__方法，以此扮演finally子句的角色。"
   ],
   "metadata": {
    "collapsed": false,
    "pycharm": {
     "name": "#%% md\n"
    }
   }
  },
  {
   "cell_type": "code",
   "execution_count": 1,
   "outputs": [],
   "source": [
    "class LookingGlass:\n",
    "    # with语句开始运行时，会在上下文管理器对象上调用\\_\\_enter__方法。\n",
    "    def __enter__(self):\n",
    "        import sys\n",
    "        self.original_write = sys.stdout.write\n",
    "        sys.stdout.write = self.reverse_write # 猴子补丁！\n",
    "        return 'JABBERWOCKY' # 赋值给as后面的变量\n",
    "\n",
    "    def reverse_write(self, text):\n",
    "        self.original_write(text[::-1])\n",
    "\n",
    "    # with语句运行结束后，会在上下文管理器对象上调用\\_\\_exit__方法，以此扮演finally子句的角色。\n",
    "    # 如果一切正常，Python调用__exit__方法时传入的参数是None, None, None；\n",
    "    # 如果抛出了异常，这三个参数是异常数据\n",
    "    def __exit__(self, exc_type, exc_val, exc_tb):\n",
    "        import sys\n",
    "        sys.stdout.write = self.original_write\n",
    "        if exc_type is ZeroDivisionError:\n",
    "            print('Please DO NOT divide by zero!')\n",
    "            return True # 然后返回True，告诉解释器，异常已经处理了。\n",
    "        # 如果__exit__方法返回None，或者True之外的值，with块中的任何异常都会向上冒泡."
   ],
   "metadata": {
    "collapsed": false,
    "pycharm": {
     "name": "#%%\n"
    }
   }
  },
  {
   "cell_type": "code",
   "execution_count": 3,
   "outputs": [
    {
     "name": "stdout",
     "output_type": "stream",
     "text": [
      "pordwonS dna yttiK ,ecilA\n",
      "YKCOWREBBAJ\n"
     ]
    }
   ],
   "source": [
    "with LookingGlass() as lg:\n",
    "    print('Alice, Kitty and Snowdrop')\n",
    "    print(lg)"
   ],
   "metadata": {
    "collapsed": false,
    "pycharm": {
     "name": "#%%\n"
    }
   }
  },
  {
   "cell_type": "code",
   "execution_count": 4,
   "outputs": [
    {
     "name": "stdout",
     "output_type": "stream",
     "text": [
      "Back to normal!\n"
     ]
    }
   ],
   "source": [
    "print(\"Back to normal!\")"
   ],
   "metadata": {
    "collapsed": false,
    "pycharm": {
     "name": "#%%\n"
    }
   }
  },
  {
   "cell_type": "code",
   "execution_count": 5,
   "outputs": [
    {
     "data": {
      "text/plain": "'JABBERWOCKY'"
     },
     "execution_count": 5,
     "metadata": {},
     "output_type": "execute_result"
    }
   ],
   "source": [
    "lg\n"
   ],
   "metadata": {
    "collapsed": false,
    "pycharm": {
     "name": "#%%\n"
    }
   }
  },
  {
   "cell_type": "markdown",
   "source": [
    "## 使用@contextmanager\n",
    "\n",
    "@contextmanager装饰器能减少创建上下文管理器的样板代码量，因为不用编写一个完整的类，\n",
    "定义\\_\\_enter__和\\_\\_exit__方法，而只需实现有一个yield语句的生成器，生成想让\\_\\_enter__方法返回的值。\n",
    "\n",
    "在使用@contextmanager装饰的生成器中，yield语句的作用是把函数的定义体分成两部分：\n",
    "- yield语句前面的所有代码在with块开始时（即解释器调用__enter__方法时）执行，\n",
    "- yield语句后面的代码在with块结束时（即调用__exit__方法时）执行。"
   ],
   "metadata": {
    "collapsed": false,
    "pycharm": {
     "name": "#%% md\n"
    }
   }
  },
  {
   "cell_type": "code",
   "execution_count": 8,
   "outputs": [
    {
     "name": "stdout",
     "output_type": "stream",
     "text": [
      "__retne__\n",
      "pordwonS dna yttiK ,ecilA\n",
      "YKCOWREBBAJ\n",
      "__exit__\n"
     ]
    }
   ],
   "source": [
    "import contextlib\n",
    "# 装饰器的一大特性是，能把被装饰的函数替换成其他函数。第二个特性是，装饰器在加载模块时立即执行。\n",
    "@contextlib.contextmanager\n",
    "def looking_glass():\n",
    "    import sys\n",
    "    original_write = sys.stdout.write\n",
    "    def reverse_write(text):\n",
    "        original_write(text[::-1])\n",
    "    sys.stdout.write = reverse_write\n",
    "    print('__enter__')\n",
    "    yield 'JABBERWOCKY' # 赋值给as后面的变量\n",
    "    sys.stdout.write = original_write\n",
    "    print('__exit__')\n",
    "\n",
    "with looking_glass() as lg:\n",
    "    print('Alice, Kitty and Snowdrop')\n",
    "    print(lg)"
   ],
   "metadata": {
    "collapsed": false,
    "pycharm": {
     "name": "#%%\n"
    }
   }
  },
  {
   "cell_type": "code",
   "execution_count": 7,
   "outputs": [
    {
     "data": {
      "text/plain": "'JABBERWOCKY'"
     },
     "execution_count": 7,
     "metadata": {},
     "output_type": "execute_result"
    }
   ],
   "source": [
    "lg\n"
   ],
   "metadata": {
    "collapsed": false,
    "pycharm": {
     "name": "#%%\n"
    }
   }
  },
  {
   "cell_type": "code",
   "execution_count": 10,
   "outputs": [
    {
     "name": "stdout",
     "output_type": "stream",
     "text": [
      "__retne__\n",
      "__exit__\n",
      "Please DO NOT divide by zero!\n"
     ]
    }
   ],
   "source": [
    "# 原来的版本如果出现异常，会导致在yield出再次抛出异常而导致后面的代码无法执行。\n",
    "# 改进：\n",
    "\n",
    "@contextlib.contextmanager\n",
    "def looking_glass():\n",
    "    import sys\n",
    "    original_write = sys.stdout.write\n",
    "    def reverse_write(text):\n",
    "        original_write(text[::-1])\n",
    "    sys.stdout.write = reverse_write\n",
    "    print('__enter__')\n",
    "    msg =''\n",
    "    try:\n",
    "        yield 'JABBERWOCKY' # 赋值给as后面的变量\n",
    "    except ZeroDivisionError:\n",
    "        msg = 'Please DO NOT divide by zero!'\n",
    "    finally: # 无论是否出现异常，都会执行：\n",
    "        sys.stdout.write = original_write\n",
    "        print('__exit__')\n",
    "        if msg:\n",
    "            print(msg)\n",
    "# 使用@contextmanager装饰器时，要把yield语句放在try/finally语句中（或者放在with语句中），\n",
    "# 这是无法避免的，因为我们永远不知道上下文管理器的用户会在with块中做什么。\n",
    "\n",
    "with looking_glass() as what:\n",
    "    print(1/0)\n",
    "\n",
    "# 使用@contextmanager装饰器时，默认的行为是相反的：\n",
    "# 装饰器提供的__exit__方法假定发给生成器的所有异常都得到处理了，因此应该压制异常。\n",
    "# 如果不想让@contextmanager压制异常，必须在被装饰的函数中显式重新抛出异常。"
   ],
   "metadata": {
    "collapsed": false,
    "pycharm": {
     "name": "#%%\n"
    }
   }
  },
  {
   "cell_type": "code",
   "execution_count": null,
   "outputs": [],
   "source": [],
   "metadata": {
    "collapsed": false,
    "pycharm": {
     "name": "#%%\n"
    }
   }
  }
 ],
 "metadata": {
  "kernelspec": {
   "name": "python3",
   "language": "python",
   "display_name": "Python 3"
  },
  "language_info": {
   "codemirror_mode": {
    "name": "ipython",
    "version": 2
   },
   "file_extension": ".py",
   "mimetype": "text/x-python",
   "name": "python",
   "nbconvert_exporter": "python",
   "pygments_lexer": "ipython2",
   "version": "2.7.6"
  }
 },
 "nbformat": 4,
 "nbformat_minor": 0
}