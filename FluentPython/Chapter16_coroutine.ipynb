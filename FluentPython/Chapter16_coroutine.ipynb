{
 "cells": [
  {
   "cell_type": "markdown",
   "metadata": {
    "collapsed": true,
    "pycharm": {
     "name": "#%% md\n"
    }
   },
   "source": [
    "# 16 协程\n",
    "\n",
    "- 生成器作为协程使用时的行为和状态\n",
    "\n",
    "- 使用装饰器自动预激协程\n",
    "\n",
    "- 调用方如何使用生成器对象的 .close() 和 .throw(...) 方法 控制协程\n",
    "\n",
    "- 协程终止时如何返回值\n",
    "\n",
    "- yield from 新句法的用途和语义\n",
    "\n",
    "- 使用案例——使用协程管理仿真系统中的并发活动"
   ]
  },
  {
   "cell_type": "markdown",
   "metadata": {
    "collapsed": false
   },
   "source": [
    "## 16.1 生成器如何进化成协程\n",
    "\n",
    "- .send() : 生成器的调用方可以使用.send(...)方法发送数据，发送的数据会成为生成器函数中yield表达式的值。\n",
    "\n",
    "- .throw() : 让调用方抛出异常，在生成器中处理\n",
    "\n",
    "- .close() : 作用是终止生成器。"
   ]
  },
  {
   "cell_type": "markdown",
   "metadata": {
    "collapsed": false
   },
   "source": [
    "## 16.2 用作协程的生成器的基本行为"
   ]
  },
  {
   "cell_type": "code",
   "execution_count": null,
   "metadata": {
    "collapsed": false,
    "pycharm": {
     "name": "#%%\n"
    }
   },
   "outputs": [
    {
     "data": {
      "text/plain": [
       "<generator object simple_coroutine at 0x7fd98e124890>"
      ]
     },
     "execution_count": 2,
     "metadata": {},
     "output_type": "execute_result"
    }
   ],
   "source": [
    "def simple_coroutine():\n",
    "    print(\"-> coroutine started :\")\n",
    "    x = yield   # 在协程中，yield通常出现在表达式的右边（例如，datum=yield），\n",
    "                # 可以产出值，也可以不产出——如果yield关键字后面没有表达式，那么生成器产出None。\n",
    "    print(\"-> coroutine received :\", x)\n",
    "\n",
    "my_coro = simple_coroutine()\n",
    "my_coro # <generator object simple_coroutine at 0x06D40C30>"
   ]
  },
  {
   "cell_type": "code",
   "execution_count": null,
   "metadata": {
    "collapsed": false,
    "pycharm": {
     "name": "#%%\n"
    }
   },
   "outputs": [
    {
     "name": "stdout",
     "output_type": "stream",
     "text": [
      "-> coroutine started :\n"
     ]
    }
   ],
   "source": [
    "# 最先调用next(my_coro)函数这一步通常称为“预激”（prime）协程\n",
    "# （即，让协程向前执行到第一个yield表达式，准备好作为活跃的协程使用）。\n",
    "\n",
    "next(my_coro) # 调用next，使函数运行到yield关键字处，启动生成器！"
   ]
  },
  {
   "cell_type": "code",
   "execution_count": null,
   "metadata": {
    "collapsed": false,
    "pycharm": {
     "name": "#%%\n"
    }
   },
   "outputs": [
    {
     "name": "stdout",
     "output_type": "stream",
     "text": [
      "-> coroutine received : 42\n"
     ]
    },
    {
     "ename": "StopIteration",
     "evalue": "",
     "output_type": "error",
     "traceback": [
      "\u001b[0;31m---------------------------------------------------------------------------\u001b[0m",
      "\u001b[0;31mStopIteration\u001b[0m                             Traceback (most recent call last)",
      "\u001b[0;32m<ipython-input-4-0313fbd51e59>\u001b[0m in \u001b[0;36m<module>\u001b[0;34m\u001b[0m\n\u001b[0;32m----> 1\u001b[0;31m \u001b[0mmy_coro\u001b[0m\u001b[0;34m.\u001b[0m\u001b[0msend\u001b[0m\u001b[0;34m(\u001b[0m\u001b[0;36m42\u001b[0m\u001b[0;34m)\u001b[0m  \u001b[0;31m# 将值传递给协程！并执行到下一个yield关键字，直至StopIteration\u001b[0m\u001b[0;34m\u001b[0m\u001b[0;34m\u001b[0m\u001b[0m\n\u001b[0m",
      "\u001b[0;31mStopIteration\u001b[0m: "
     ]
    }
   ],
   "source": [
    "my_coro.send(42)  # 将值传递给协程！并执行到下一个yield关键字，直至StopIteration"
   ]
  },
  {
   "cell_type": "markdown",
   "metadata": {
    "collapsed": false,
    "pycharm": {
     "name": "#%% md\n"
    }
   },
   "source": [
    "### 协程的四个状态\n",
    "当前状态可以使用inspect.getgeneratorstate(...)函数确定：\n",
    "\n",
    "- 'GEN_CREATED'   ：等待开始执行\n",
    "- 'GEN_RUNNING'   ：解释器正在执行\n",
    "- 'GEN_SUSPENDED' ：在yield表达式处暂停\n",
    "- 'GEN_CLOSED'    ：执行结束"
   ]
  },
  {
   "cell_type": "code",
   "execution_count": null,
   "metadata": {
    "collapsed": false,
    "pycharm": {
     "name": "#%%\n"
    }
   },
   "outputs": [
    {
     "ename": "TypeError",
     "evalue": "can't send non-None value to a just-started generator",
     "output_type": "error",
     "traceback": [
      "\u001b[1;31m---------------------------------------------------------------------------\u001b[0m",
      "\u001b[1;31mTypeError\u001b[0m                                 Traceback (most recent call last)",
      "\u001b[1;32m<ipython-input-6-d7088f312f74>\u001b[0m in \u001b[0;36m<module>\u001b[1;34m\u001b[0m\n\u001b[0;32m      3\u001b[0m \u001b[0mmy_coro1\u001b[0m \u001b[1;33m=\u001b[0m \u001b[0msimple_coroutine\u001b[0m\u001b[1;33m(\u001b[0m\u001b[1;33m)\u001b[0m\u001b[1;33m\u001b[0m\u001b[1;33m\u001b[0m\u001b[0m\n\u001b[0;32m      4\u001b[0m \u001b[1;31m# 这里需要先调用 next(my_coro1) !\u001b[0m\u001b[1;33m\u001b[0m\u001b[1;33m\u001b[0m\u001b[1;33m\u001b[0m\u001b[0m\n\u001b[1;32m----> 5\u001b[1;33m \u001b[0mmy_coro1\u001b[0m\u001b[1;33m.\u001b[0m\u001b[0msend\u001b[0m\u001b[1;33m(\u001b[0m\u001b[1;36m45\u001b[0m\u001b[1;33m)\u001b[0m\u001b[1;33m\u001b[0m\u001b[1;33m\u001b[0m\u001b[0m\n\u001b[0m\u001b[0;32m      6\u001b[0m \u001b[1;31m# Error:\u001b[0m\u001b[1;33m\u001b[0m\u001b[1;33m\u001b[0m\u001b[1;33m\u001b[0m\u001b[0m\n\u001b[0;32m      7\u001b[0m \u001b[1;31m# TypeError: can't send non-None value to a just-started generator\u001b[0m\u001b[1;33m\u001b[0m\u001b[1;33m\u001b[0m\u001b[1;33m\u001b[0m\u001b[0m\n",
      "\u001b[1;31mTypeError\u001b[0m: can't send non-None value to a just-started generator"
     ]
    }
   ],
   "source": [
    "# 最先调用next(my_coro)函数这一步通常称为“预激”（prime）协程\n",
    "# （即，让协程向前执行到第一个yield表达式，准备好作为活跃的协程使用）。\n",
    "my_coro1 = simple_coroutine()\n",
    "# 这里需要先调用 next(my_coro1) !\n",
    "my_coro1.send(45)\n",
    "# Error:\n",
    "# TypeError: can't send non-None value to a just-started generator"
   ]
  },
  {
   "cell_type": "code",
   "execution_count": 1,
   "metadata": {
    "collapsed": false,
    "pycharm": {
     "name": "#%%\n"
    }
   },
   "outputs": [],
   "source": [
    "# 产出多个值的例子\n",
    "def simple_coro2(a):\n",
    "    print('-> Started: a = ', a)\n",
    "    b = yield a\n",
    "    print('-> Started: b = ', b)\n",
    "    c = yield a+b\n",
    "    print('-> Started: c = ', c)\n",
    "\n",
    "my_coro2 = simple_coro2(14)"
   ]
  },
  {
   "cell_type": "code",
   "execution_count": null,
   "metadata": {
    "collapsed": false,
    "pycharm": {
     "name": "#%%\n"
    }
   },
   "outputs": [
    {
     "data": {
      "text/plain": [
       "'GEN_CREATED'"
      ]
     },
     "execution_count": 32,
     "metadata": {},
     "output_type": "execute_result"
    }
   ],
   "source": [
    "from inspect import getgeneratorstate\n",
    "getgeneratorstate(my_coro2)\n",
    "\n",
    "# 'GEN_CREATED'"
   ]
  },
  {
   "cell_type": "code",
   "execution_count": null,
   "metadata": {
    "collapsed": false,
    "pycharm": {
     "name": "#%%\n"
    }
   },
   "outputs": [
    {
     "name": "stdout",
     "output_type": "stream",
     "text": [
      "-> Started: a =  14\n"
     ]
    },
    {
     "data": {
      "text/plain": [
       "14"
      ]
     },
     "execution_count": 33,
     "metadata": {},
     "output_type": "execute_result"
    }
   ],
   "source": [
    "next(my_coro2)\n",
    "\n",
    "# -> Started: a =  14\n",
    "# 14"
   ]
  },
  {
   "cell_type": "markdown",
   "metadata": {
    "collapsed": false,
    "pycharm": {
     "name": "#%% md\n"
    }
   },
   "source": [
    "> 值得注意的是，b = yield a 这里并没有将14赋值给b，b的类型依然是None!\n",
    ">\n",
    "> 见下面的测试！\\# Test\n",
    ">\n",
    "> 关键的一点是，协程在yield关键字所在的位置暂停执行。前面说过，在赋值语句中，=右边的代码在赋值之前执行。\n",
    "> 因此，对于b=yield a这行代码来说，等到客户端代码再激活协程时才会设定b的值。这种行为要花点时间才能习惯，\n",
    "> 不过一定要理解，这样才能弄懂异步编程中yield的作用（后文探讨）。\n",
    "\n",
    "```\n",
    "b = yield a\n",
    "\n",
    "# 执行顺序：\n",
    "\n",
    "yield a (a 为创建函数时传入的值 14）\n",
    "此时调用方使用send(28)\n",
    "接受该28的变量时yield 等号左边的变量b\n",
    "即\n",
    "b = send(28)\n",
    "故 b = 28\n",
    "因为send方法的参数会成为暂停的yield表达式的值，所以，仅当协程处于暂停状态时才能调用send方法，\n",
    "\n",
    "这也是实现异步同步的方式！\n",
    "```\n",
    "![coro](./img/coro.png)"
   ]
  },
  {
   "cell_type": "code",
   "execution_count": null,
   "metadata": {
    "collapsed": false,
    "pycharm": {
     "name": "#%%\n"
    }
   },
   "outputs": [
    {
     "data": {
      "text/plain": [
       "'GEN_SUSPENDED'"
      ]
     },
     "execution_count": 34,
     "metadata": {},
     "output_type": "execute_result"
    }
   ],
   "source": [
    "getgeneratorstate(my_coro2)\n",
    "# 'GEN_SUSPENDED' 在yield表达式处暂停"
   ]
  },
  {
   "cell_type": "code",
   "execution_count": null,
   "metadata": {
    "collapsed": false,
    "pycharm": {
     "name": "#%%\n"
    }
   },
   "outputs": [
    {
     "name": "stdout",
     "output_type": "stream",
     "text": [
      "-> Started: b =  28\n"
     ]
    },
    {
     "data": {
      "text/plain": [
       "42"
      ]
     },
     "execution_count": 35,
     "metadata": {},
     "output_type": "execute_result"
    }
   ],
   "source": [
    "my_coro2.send(28)\n",
    "# -> Started: b =  28\n",
    "# 42"
   ]
  },
  {
   "cell_type": "code",
   "execution_count": null,
   "metadata": {
    "collapsed": false,
    "pycharm": {
     "name": "#%%\n"
    }
   },
   "outputs": [
    {
     "data": {
      "text/plain": [
       "'GEN_SUSPENDED'"
      ]
     },
     "execution_count": 36,
     "metadata": {},
     "output_type": "execute_result"
    }
   ],
   "source": [
    "getgeneratorstate(my_coro2)\n",
    "# 'GEN_SUSPENDED' 在yield表达式处暂停\n",
    "# 在第一次执行yield之前，需要next来预激协程，后面使用send既可以自动直行道yield处暂停（即不再需要next）\n",
    "# 因此，对于b=yield a这行代码来说，等到客户端代码再激活协程时才会设定b的值。这种行为要花点时间才能习惯，"
   ]
  },
  {
   "cell_type": "code",
   "execution_count": null,
   "metadata": {
    "collapsed": false,
    "pycharm": {
     "name": "#%%\n"
    }
   },
   "outputs": [],
   "source": [
    "my_coro2.send(99)\n",
    "# -> Started: c =  99\n",
    "# StopIteration"
   ]
  },
  {
   "cell_type": "code",
   "execution_count": null,
   "metadata": {
    "collapsed": false,
    "pycharm": {
     "name": "#%%\n"
    }
   },
   "outputs": [
    {
     "data": {
      "text/plain": [
       "'GEN_CLOSED'"
      ]
     },
     "execution_count": 21,
     "metadata": {},
     "output_type": "execute_result"
    }
   ],
   "source": [
    "getgeneratorstate(my_coro2)\n",
    "\n",
    "# 'GEN_CLOSED'"
   ]
  },
  {
   "cell_type": "code",
   "execution_count": null,
   "metadata": {
    "collapsed": false,
    "pycharm": {
     "name": "#%%\n"
    }
   },
   "outputs": [
    {
     "name": "stdout",
     "output_type": "stream",
     "text": [
      "-> Started: a =  14\n"
     ]
    },
    {
     "data": {
      "text/plain": [
       "14"
      ]
     },
     "execution_count": 22,
     "metadata": {},
     "output_type": "execute_result"
    }
   ],
   "source": [
    "# Test\n",
    "\n",
    "my_coro2_2 = simple_coro2(14)\n",
    "next(my_coro2_2)"
   ]
  },
  {
   "cell_type": "code",
   "execution_count": null,
   "metadata": {
    "collapsed": false,
    "pycharm": {
     "name": "#%%\n"
    }
   },
   "outputs": [
    {
     "name": "stdout",
     "output_type": "stream",
     "text": [
      "-> Started: b =  None\n"
     ]
    },
    {
     "ename": "TypeError",
     "evalue": "unsupported operand type(s) for +: 'int' and 'NoneType'",
     "output_type": "error",
     "traceback": [
      "\u001b[1;31m---------------------------------------------------------------------------\u001b[0m",
      "\u001b[1;31mTypeError\u001b[0m                                 Traceback (most recent call last)",
      "\u001b[1;32m<ipython-input-23-a513198a67fb>\u001b[0m in \u001b[0;36m<module>\u001b[1;34m\u001b[0m\n\u001b[1;32m----> 1\u001b[1;33m \u001b[0mnext\u001b[0m\u001b[1;33m(\u001b[0m\u001b[0mmy_coro2_2\u001b[0m\u001b[1;33m)\u001b[0m\u001b[1;33m\u001b[0m\u001b[1;33m\u001b[0m\u001b[0m\n\u001b[0m\u001b[0;32m      2\u001b[0m \u001b[1;33m\u001b[0m\u001b[0m\n",
      "\u001b[1;32m<ipython-input-15-d429275f393c>\u001b[0m in \u001b[0;36msimple_coro2\u001b[1;34m(a)\u001b[0m\n\u001b[0;32m      4\u001b[0m     \u001b[0mb\u001b[0m \u001b[1;33m=\u001b[0m \u001b[1;32myield\u001b[0m \u001b[0ma\u001b[0m\u001b[1;33m\u001b[0m\u001b[1;33m\u001b[0m\u001b[0m\n\u001b[0;32m      5\u001b[0m     \u001b[0mprint\u001b[0m\u001b[1;33m(\u001b[0m\u001b[1;34m'-> Started: b = '\u001b[0m\u001b[1;33m,\u001b[0m \u001b[0mb\u001b[0m\u001b[1;33m)\u001b[0m\u001b[1;33m\u001b[0m\u001b[1;33m\u001b[0m\u001b[0m\n\u001b[1;32m----> 6\u001b[1;33m     \u001b[0mc\u001b[0m \u001b[1;33m=\u001b[0m \u001b[1;32myield\u001b[0m \u001b[0ma\u001b[0m\u001b[1;33m+\u001b[0m\u001b[0mb\u001b[0m\u001b[1;33m\u001b[0m\u001b[1;33m\u001b[0m\u001b[0m\n\u001b[0m\u001b[0;32m      7\u001b[0m     \u001b[0mprint\u001b[0m\u001b[1;33m(\u001b[0m\u001b[1;34m'-> Started: c = '\u001b[0m\u001b[1;33m,\u001b[0m \u001b[0mc\u001b[0m\u001b[1;33m)\u001b[0m\u001b[1;33m\u001b[0m\u001b[1;33m\u001b[0m\u001b[0m\n\u001b[0;32m      8\u001b[0m \u001b[1;33m\u001b[0m\u001b[0m\n",
      "\u001b[1;31mTypeError\u001b[0m: unsupported operand type(s) for +: 'int' and 'NoneType'"
     ]
    }
   ],
   "source": [
    "next(my_coro2_2)\n",
    "# -> Started: b =  None\n",
    "\n",
    "# 在赋值语句中，=右边的代码在赋值之前执行。\n",
    "# 因此，对于b=yield a这行代码来说，等到客户端代码再激活协程时才会设定b的值。这种行为要花点时间才能习惯，\n",
    "# 不过一定要理解，这样才能弄懂异步编程中yield的作用（后文探讨）。"
   ]
  },
  {
   "cell_type": "markdown",
   "metadata": {
    "collapsed": false,
    "pycharm": {
     "name": "#%% md\n"
    }
   },
   "source": [
    "## 16.3 示例：使用协程计算移动平均值"
   ]
  },
  {
   "cell_type": "code",
   "execution_count": null,
   "metadata": {
    "collapsed": false,
    "pycharm": {
     "name": "#%%\n"
    }
   },
   "outputs": [
    {
     "data": {
      "text/plain": [
       "1.0"
      ]
     },
     "execution_count": 29,
     "metadata": {},
     "output_type": "execute_result"
    }
   ],
   "source": [
    "# 定义一个计算移动平均值的协程\n",
    "\n",
    "def averager():\n",
    "    total = 0\n",
    "    count = 0\n",
    "    average = None\n",
    "    while True:\n",
    "        term = yield average\n",
    "        total += term\n",
    "        count += 1\n",
    "        average = total/count\n",
    "\n",
    "a = averager()\n",
    "next(a) # 预激协程！\n",
    "a.send(1)"
   ]
  },
  {
   "cell_type": "code",
   "execution_count": null,
   "metadata": {
    "collapsed": false,
    "pycharm": {
     "name": "#%%\n"
    }
   },
   "outputs": [
    {
     "data": {
      "text/plain": [
       "1.5"
      ]
     },
     "execution_count": 30,
     "metadata": {},
     "output_type": "execute_result"
    }
   ],
   "source": [
    "a.send(2)"
   ]
  },
  {
   "cell_type": "code",
   "execution_count": null,
   "metadata": {
    "collapsed": false,
    "pycharm": {
     "name": "#%%\n"
    }
   },
   "outputs": [
    {
     "data": {
      "text/plain": [
       "2.0"
      ]
     },
     "execution_count": 37,
     "metadata": {},
     "output_type": "execute_result"
    }
   ],
   "source": [
    "a.send(3)"
   ]
  },
  {
   "cell_type": "markdown",
   "metadata": {
    "collapsed": false,
    "pycharm": {
     "name": "#%% md\n"
    }
   },
   "source": [
    "在上述doctest中（示例16-4），调用next(coro_avg)函数后，协程会向前执行到yield表达式，\n",
    "产出average变量的初始值——None，因此不会出现在控制台中。\n",
    "\n",
    "此时，协程在yield表达式处暂停，等到调用方发送值。\n",
    "coro_avg.send(10)那一行发送一个值，激活协程，把发送的值赋给term，\n",
    "并更新total、count和average三个变量的值，然后开始while循环的下一次迭代，\n",
    "产出average变量的值，等待下一次为term变量赋值。"
   ]
  },
  {
   "cell_type": "markdown",
   "metadata": {
    "collapsed": false,
    "pycharm": {
     "name": "#%% md\n"
    }
   },
   "source": [
    "## 16.4 预激协程的装饰器\n",
    "\n",
    "如果不预激，那么协程没什么用。调用my_coro.send(x)之前，记住一定要调用next(my_coro)。\n",
    "为了简化协程的用法，有时会使用一个预激装饰器。"
   ]
  },
  {
   "cell_type": "code",
   "execution_count": null,
   "metadata": {
    "collapsed": false,
    "pycharm": {
     "name": "#%%\n"
    }
   },
   "outputs": [],
   "source": [
    "# 预激协程装饰器\n",
    "from functools import wraps\n",
    "def coroutine(func):\n",
    "    '''\n",
    "    此装饰器是作者提供，不知道标准库中是否有与其功能相同的装饰器。\n",
    "    该装饰器的功能就是提供预激协程的功能\n",
    "    :param func:\n",
    "    :return:\n",
    "    '''\n",
    "    @wraps(func)\n",
    "    def primer(*args, **kwargs):\n",
    "        gen = func(*args, **kwargs)\n",
    "        next(gen) # 预激协程！！！！\n",
    "        return gen\n",
    "    return primer"
   ]
  },
  {
   "cell_type": "code",
   "execution_count": null,
   "metadata": {
    "collapsed": false,
    "pycharm": {
     "name": "#%%\n"
    }
   },
   "outputs": [
    {
     "data": {
      "text/plain": [
       "1.0"
      ]
     },
     "execution_count": 11,
     "metadata": {},
     "output_type": "execute_result"
    }
   ],
   "source": [
    "@coroutine\n",
    "def averager2():\n",
    "    total = 0\n",
    "    count = 0\n",
    "    average = None\n",
    "    while True:\n",
    "        term = yield average\n",
    "        total += term\n",
    "        count += 1\n",
    "        average = total / count\n",
    "\n",
    "a2 = averager2()\n",
    "a2.send(1)"
   ]
  },
  {
   "cell_type": "code",
   "execution_count": null,
   "metadata": {
    "collapsed": false,
    "pycharm": {
     "name": "#%%\n"
    }
   },
   "outputs": [
    {
     "data": {
      "text/plain": [
       "1.5"
      ]
     },
     "execution_count": 40,
     "metadata": {},
     "output_type": "execute_result"
    }
   ],
   "source": [
    "a2.send(2)"
   ]
  },
  {
   "cell_type": "markdown",
   "metadata": {
    "collapsed": false,
    "pycharm": {
     "name": "#%% md\n"
    }
   },
   "source": [
    "很多框架都提供了处理协程的特殊装饰器，不过不是所有装饰器都用于预激协程，有些会提供其他服务，\n",
    "例如勾入事件循环。比如说，异步网络库Tornado提供了tornado.gen装饰器。\n",
    "\n",
    "**使用yield from句法（参见16.7节）调用协程时，会自动预激，因此与示例16-5中的@coroutine等装饰器不兼容。**\n",
    "Python 3.4标准库里的asyncio.coroutine装饰器（第18章介绍）不会预激协程，因此能兼容yield from句法。"
   ]
  },
  {
   "cell_type": "markdown",
   "metadata": {
    "collapsed": false
   },
   "source": [
    "## 16.5 终止协程和异常处理\n",
    "协程中未处理的异常会向上冒泡，传给next函数或send方法的调用方（即触发协程的对象）。"
   ]
  },
  {
   "cell_type": "code",
   "execution_count": null,
   "metadata": {
    "collapsed": false,
    "pycharm": {
     "name": "#%%\n"
    }
   },
   "outputs": [
    {
     "ename": "TypeError",
     "evalue": "unsupported operand type(s) for +=: 'int' and 'str'",
     "output_type": "error",
     "traceback": [
      "\u001b[1;31m---------------------------------------------------------------------------\u001b[0m",
      "\u001b[1;31mTypeError\u001b[0m                                 Traceback (most recent call last)",
      "\u001b[1;32m<ipython-input-42-45596b4241d6>\u001b[0m in \u001b[0;36m<module>\u001b[1;34m\u001b[0m\n\u001b[1;32m----> 1\u001b[1;33m \u001b[0ma2\u001b[0m\u001b[1;33m.\u001b[0m\u001b[0msend\u001b[0m\u001b[1;33m(\u001b[0m\u001b[1;34m'aaa'\u001b[0m\u001b[1;33m)\u001b[0m\u001b[1;33m\u001b[0m\u001b[1;33m\u001b[0m\u001b[0m\n\u001b[0m\u001b[0;32m      2\u001b[0m \u001b[1;31m# SyntaxError: invalid character in identifier\u001b[0m\u001b[1;33m\u001b[0m\u001b[1;33m\u001b[0m\u001b[1;33m\u001b[0m\u001b[0m\n",
      "\u001b[1;32m<ipython-input-39-820457d63c3e>\u001b[0m in \u001b[0;36maverager2\u001b[1;34m()\u001b[0m\n\u001b[0;32m      6\u001b[0m     \u001b[1;32mwhile\u001b[0m \u001b[1;32mTrue\u001b[0m\u001b[1;33m:\u001b[0m\u001b[1;33m\u001b[0m\u001b[1;33m\u001b[0m\u001b[0m\n\u001b[0;32m      7\u001b[0m         \u001b[0mterm\u001b[0m \u001b[1;33m=\u001b[0m \u001b[1;32myield\u001b[0m \u001b[0maverage\u001b[0m\u001b[1;33m\u001b[0m\u001b[1;33m\u001b[0m\u001b[0m\n\u001b[1;32m----> 8\u001b[1;33m         \u001b[0mtotal\u001b[0m \u001b[1;33m+=\u001b[0m \u001b[0mterm\u001b[0m\u001b[1;33m\u001b[0m\u001b[1;33m\u001b[0m\u001b[0m\n\u001b[0m\u001b[0;32m      9\u001b[0m         \u001b[0mcount\u001b[0m \u001b[1;33m+=\u001b[0m \u001b[1;36m1\u001b[0m\u001b[1;33m\u001b[0m\u001b[1;33m\u001b[0m\u001b[0m\n\u001b[0;32m     10\u001b[0m         \u001b[0maverage\u001b[0m \u001b[1;33m=\u001b[0m \u001b[0mtotal\u001b[0m \u001b[1;33m/\u001b[0m \u001b[0mcount\u001b[0m\u001b[1;33m\u001b[0m\u001b[1;33m\u001b[0m\u001b[0m\n",
      "\u001b[1;31mTypeError\u001b[0m: unsupported operand type(s) for +=: 'int' and 'str'"
     ]
    }
   ],
   "source": [
    "a2.send('aaa')\n",
    "# TypeError: unsupported operand type(s) for +=: 'int' and 'str'"
   ]
  },
  {
   "cell_type": "markdown",
   "metadata": {
    "collapsed": false,
    "pycharm": {
     "name": "#%% md\n"
    }
   },
   "source": [
    "### 终止协程方法一：使用哨符值，让协程退出\n",
    "使用此方法的前提是，要在协程函数中处理异常！\n",
    "```\n",
    "my_coro.send(None)\n",
    "my_coro.send(Ellipsis)\n",
    "my_coro.send(StopIteration)\n",
    "```"
   ]
  },
  {
   "cell_type": "code",
   "execution_count": null,
   "metadata": {
    "collapsed": false,
    "pycharm": {
     "name": "#%%\n"
    }
   },
   "outputs": [
    {
     "data": {
      "text/plain": [
       "7.5"
      ]
     },
     "execution_count": 57,
     "metadata": {},
     "output_type": "execute_result"
    }
   ],
   "source": [
    "my_av = averager2()\n",
    "my_av.send(5.0)\n",
    "my_av.send(10.0)"
   ]
  },
  {
   "cell_type": "code",
   "execution_count": null,
   "metadata": {
    "collapsed": false,
    "pycharm": {
     "name": "#%%\n"
    }
   },
   "outputs": [
    {
     "data": {
      "text/plain": [
       "'GEN_SUSPENDED'"
      ]
     },
     "execution_count": 58,
     "metadata": {},
     "output_type": "execute_result"
    }
   ],
   "source": [
    "getgeneratorstate(my_av)"
   ]
  },
  {
   "cell_type": "code",
   "execution_count": null,
   "metadata": {
    "collapsed": false,
    "pycharm": {
     "name": "#%%\n"
    }
   },
   "outputs": [
    {
     "ename": "TypeError",
     "evalue": "unsupported operand type(s) for +=: 'float' and 'NoneType'",
     "output_type": "error",
     "traceback": [
      "\u001b[1;31m---------------------------------------------------------------------------\u001b[0m",
      "\u001b[1;31mTypeError\u001b[0m                                 Traceback (most recent call last)",
      "\u001b[1;32m<ipython-input-59-54f59e668aca>\u001b[0m in \u001b[0;36m<module>\u001b[1;34m\u001b[0m\n\u001b[0;32m      1\u001b[0m \u001b[1;31m# 可以选用的哨符值： None  Ellipsis  StopIteration\u001b[0m\u001b[1;33m\u001b[0m\u001b[1;33m\u001b[0m\u001b[1;33m\u001b[0m\u001b[0m\n\u001b[1;32m----> 2\u001b[1;33m \u001b[0mmy_av\u001b[0m\u001b[1;33m.\u001b[0m\u001b[0msend\u001b[0m\u001b[1;33m(\u001b[0m\u001b[1;32mNone\u001b[0m\u001b[1;33m)\u001b[0m\u001b[1;33m\u001b[0m\u001b[1;33m\u001b[0m\u001b[0m\n\u001b[0m\u001b[0;32m      3\u001b[0m \u001b[1;31m# 这里会被打断是因为我们没有在协程中处理异常！\u001b[0m\u001b[1;33m\u001b[0m\u001b[1;33m\u001b[0m\u001b[1;33m\u001b[0m\u001b[0m\n",
      "\u001b[1;32m<ipython-input-39-820457d63c3e>\u001b[0m in \u001b[0;36maverager2\u001b[1;34m()\u001b[0m\n\u001b[0;32m      6\u001b[0m     \u001b[1;32mwhile\u001b[0m \u001b[1;32mTrue\u001b[0m\u001b[1;33m:\u001b[0m\u001b[1;33m\u001b[0m\u001b[1;33m\u001b[0m\u001b[0m\n\u001b[0;32m      7\u001b[0m         \u001b[0mterm\u001b[0m \u001b[1;33m=\u001b[0m \u001b[1;32myield\u001b[0m \u001b[0maverage\u001b[0m\u001b[1;33m\u001b[0m\u001b[1;33m\u001b[0m\u001b[0m\n\u001b[1;32m----> 8\u001b[1;33m         \u001b[0mtotal\u001b[0m \u001b[1;33m+=\u001b[0m \u001b[0mterm\u001b[0m\u001b[1;33m\u001b[0m\u001b[1;33m\u001b[0m\u001b[0m\n\u001b[0m\u001b[0;32m      9\u001b[0m         \u001b[0mcount\u001b[0m \u001b[1;33m+=\u001b[0m \u001b[1;36m1\u001b[0m\u001b[1;33m\u001b[0m\u001b[1;33m\u001b[0m\u001b[0m\n\u001b[0;32m     10\u001b[0m         \u001b[0maverage\u001b[0m \u001b[1;33m=\u001b[0m \u001b[0mtotal\u001b[0m \u001b[1;33m/\u001b[0m \u001b[0mcount\u001b[0m\u001b[1;33m\u001b[0m\u001b[1;33m\u001b[0m\u001b[0m\n",
      "\u001b[1;31mTypeError\u001b[0m: unsupported operand type(s) for +=: 'float' and 'NoneType'"
     ]
    }
   ],
   "source": [
    "# 可以选用的哨符值： None  Ellipsis  StopIteration\n",
    "my_av.send(None)\n",
    "# 这里会被打断是因为我们没有在协程中处理异常！"
   ]
  },
  {
   "cell_type": "code",
   "execution_count": null,
   "metadata": {
    "collapsed": false,
    "pycharm": {
     "name": "#%%\n"
    }
   },
   "outputs": [
    {
     "data": {
      "text/plain": [
       "'GEN_CLOSED'"
      ]
     },
     "execution_count": 60,
     "metadata": {},
     "output_type": "execute_result"
    }
   ],
   "source": [
    "getgeneratorstate(my_av)\n",
    "# 'GEN_CLOSED'"
   ]
  },
  {
   "cell_type": "markdown",
   "metadata": {
    "collapsed": false,
    "pycharm": {
     "name": "#%% md\n"
    }
   },
   "source": [
    "### 终止协程方法二：使用close()方法"
   ]
  },
  {
   "cell_type": "code",
   "execution_count": null,
   "metadata": {
    "collapsed": false,
    "pycharm": {
     "name": "#%%\n"
    }
   },
   "outputs": [
    {
     "data": {
      "text/plain": [
       "'GEN_SUSPENDED'"
      ]
     },
     "execution_count": 61,
     "metadata": {},
     "output_type": "execute_result"
    }
   ],
   "source": [
    "my_av2 = averager2()\n",
    "my_av2.send(5.0)\n",
    "my_av2.send(10.0)\n",
    "getgeneratorstate(my_av2)"
   ]
  },
  {
   "cell_type": "code",
   "execution_count": null,
   "metadata": {
    "collapsed": false,
    "pycharm": {
     "name": "#%%\n"
    }
   },
   "outputs": [
    {
     "data": {
      "text/plain": [
       "'GEN_CLOSED'"
      ]
     },
     "execution_count": 62,
     "metadata": {},
     "output_type": "execute_result"
    }
   ],
   "source": [
    "my_av2.close()\n",
    "getgeneratorstate(my_av2)"
   ]
  },
  {
   "cell_type": "markdown",
   "metadata": {
    "collapsed": false,
    "pycharm": {
     "name": "#%% md\n"
    }
   },
   "source": [
    "### generator.throw(exc_type[, exc_value[, traceback]])\n",
    "致使生成器在暂停的yield表达式处抛出指定的异常。\n",
    "\n",
    "如果生成器处理了抛出的异常，代码会向前执行到下一个yield表达式，\n",
    "而产出的值会成为调用generator.throw方法得到的返回值。\n",
    "\n",
    "如果生成器没有处理抛出的异常，异常会向上冒泡，传到调用方的上下文中。\n",
    "\n",
    "### generator.close（）\n",
    "\n",
    "致使生成器在暂停的yield表达式处抛出GeneratorExit异常。\n",
    "\n",
    "如果生成器没有处理这个异常，或者抛出了StopIteration异常（通常是指运行到结尾），调用方不会报错。\n",
    "\n",
    "如果收到GeneratorExit异常，生成器一定不能产出值，否则解释器会抛出RuntimeError异常。\n",
    "生成器抛出的其他异常会向上冒泡，传给调用方。"
   ]
  },
  {
   "cell_type": "markdown",
   "metadata": {
    "collapsed": false
   },
   "source": [
    "---\n",
    "### 如何使用throw和close"
   ]
  },
  {
   "cell_type": "code",
   "execution_count": null,
   "metadata": {
    "collapsed": false,
    "pycharm": {
     "name": "#%%\n"
    }
   },
   "outputs": [],
   "source": [
    "# 自定义一个异常，为了演示方便\n",
    "class DemoException(Exception):\n",
    "    \"\"\"\n",
    "    为了演示定义的异常类型\n",
    "    \"\"\"\n",
    "\n",
    "def demo_exc_handling():\n",
    "    print('-> coroutine started')\n",
    "    while True:\n",
    "        try:\n",
    "            x = yield\n",
    "        except DemoException:\n",
    "            print('*** DemoException handled. Continuing...')\n",
    "        else:\n",
    "            print('-> coroutine received:{!r}'.format(x))\n",
    "    raise RuntimeError('This line should never run')"
   ]
  },
  {
   "cell_type": "code",
   "execution_count": null,
   "metadata": {
    "collapsed": false,
    "pycharm": {
     "name": "#%%\n"
    }
   },
   "outputs": [
    {
     "name": "stdout",
     "output_type": "stream",
     "text": [
      "-> coroutine started\n"
     ]
    }
   ],
   "source": [
    "exc_coro = demo_exc_handling()\n",
    "next(exc_coro)"
   ]
  },
  {
   "cell_type": "code",
   "execution_count": null,
   "metadata": {
    "collapsed": false,
    "pycharm": {
     "name": "#%%\n"
    }
   },
   "outputs": [
    {
     "name": "stdout",
     "output_type": "stream",
     "text": [
      "-> coroutine received:11\n"
     ]
    }
   ],
   "source": [
    "exc_coro.send(11)"
   ]
  },
  {
   "cell_type": "code",
   "execution_count": null,
   "metadata": {
    "collapsed": false,
    "pycharm": {
     "name": "#%%\n"
    }
   },
   "outputs": [
    {
     "name": "stdout",
     "output_type": "stream",
     "text": [
      "*** DemoException handled. Continuing...\n"
     ]
    }
   ],
   "source": [
    "# 如果传入的异常协程已经处理，就会继续运行\n",
    "exc_coro.throw(DemoException)"
   ]
  },
  {
   "cell_type": "code",
   "execution_count": null,
   "metadata": {
    "collapsed": false,
    "pycharm": {
     "name": "#%%\n"
    }
   },
   "outputs": [
    {
     "data": {
      "text/plain": [
       "'GEN_SUSPENDED'"
      ]
     },
     "execution_count": 75,
     "metadata": {},
     "output_type": "execute_result"
    }
   ],
   "source": [
    "getgeneratorstate(exc_coro)"
   ]
  },
  {
   "cell_type": "code",
   "execution_count": null,
   "metadata": {
    "collapsed": false,
    "pycharm": {
     "name": "#%%\n"
    }
   },
   "outputs": [
    {
     "ename": "ZeroDivisionError",
     "evalue": "",
     "output_type": "error",
     "traceback": [
      "\u001b[1;31m---------------------------------------------------------------------------\u001b[0m",
      "\u001b[1;31mZeroDivisionError\u001b[0m                         Traceback (most recent call last)",
      "\u001b[1;32m<ipython-input-76-2b0c163f7b62>\u001b[0m in \u001b[0;36m<module>\u001b[1;34m\u001b[0m\n\u001b[0;32m      1\u001b[0m \u001b[1;31m# 如果传入的异常协程没有处理，就会停止\u001b[0m\u001b[1;33m\u001b[0m\u001b[1;33m\u001b[0m\u001b[1;33m\u001b[0m\u001b[0m\n\u001b[1;32m----> 2\u001b[1;33m \u001b[0mexc_coro\u001b[0m\u001b[1;33m.\u001b[0m\u001b[0mthrow\u001b[0m\u001b[1;33m(\u001b[0m\u001b[0mZeroDivisionError\u001b[0m\u001b[1;33m)\u001b[0m\u001b[1;33m\u001b[0m\u001b[1;33m\u001b[0m\u001b[0m\n\u001b[0m",
      "\u001b[1;32m<ipython-input-65-d2c8a48472e1>\u001b[0m in \u001b[0;36mdemo_exc_handling\u001b[1;34m()\u001b[0m\n\u001b[0;32m      9\u001b[0m     \u001b[1;32mwhile\u001b[0m \u001b[1;32mTrue\u001b[0m\u001b[1;33m:\u001b[0m\u001b[1;33m\u001b[0m\u001b[1;33m\u001b[0m\u001b[0m\n\u001b[0;32m     10\u001b[0m         \u001b[1;32mtry\u001b[0m\u001b[1;33m:\u001b[0m\u001b[1;33m\u001b[0m\u001b[1;33m\u001b[0m\u001b[0m\n\u001b[1;32m---> 11\u001b[1;33m             \u001b[0mx\u001b[0m \u001b[1;33m=\u001b[0m \u001b[1;32myield\u001b[0m\u001b[1;33m\u001b[0m\u001b[1;33m\u001b[0m\u001b[0m\n\u001b[0m\u001b[0;32m     12\u001b[0m         \u001b[1;32mexcept\u001b[0m \u001b[0mDemoException\u001b[0m\u001b[1;33m:\u001b[0m\u001b[1;33m\u001b[0m\u001b[1;33m\u001b[0m\u001b[0m\n\u001b[0;32m     13\u001b[0m             \u001b[0mprint\u001b[0m\u001b[1;33m(\u001b[0m\u001b[1;34m'*** DemoException handled. Continuing...'\u001b[0m\u001b[1;33m)\u001b[0m\u001b[1;33m\u001b[0m\u001b[1;33m\u001b[0m\u001b[0m\n",
      "\u001b[1;31mZeroDivisionError\u001b[0m: "
     ]
    }
   ],
   "source": [
    "# 如果传入的异常协程没有处理，就会停止\n",
    "exc_coro.throw(ZeroDivisionError)\n",
    "# 而且异常会向上传递！"
   ]
  },
  {
   "cell_type": "code",
   "execution_count": null,
   "metadata": {
    "collapsed": false,
    "pycharm": {
     "name": "#%%\n"
    }
   },
   "outputs": [
    {
     "data": {
      "text/plain": [
       "'GEN_CLOSED'"
      ]
     },
     "execution_count": 77,
     "metadata": {},
     "output_type": "execute_result"
    }
   ],
   "source": [
    "getgeneratorstate(exc_coro)\n",
    "# 'GEN_CLOSED'"
   ]
  },
  {
   "cell_type": "code",
   "execution_count": null,
   "metadata": {
    "collapsed": false,
    "pycharm": {
     "name": "#%%\n"
    }
   },
   "outputs": [],
   "source": [
    "# 手动关闭！\n",
    "exc_coro.close()"
   ]
  },
  {
   "cell_type": "code",
   "execution_count": null,
   "metadata": {
    "collapsed": false,
    "pycharm": {
     "name": "#%%\n"
    }
   },
   "outputs": [
    {
     "data": {
      "text/plain": [
       "'GEN_CLOSED'"
      ]
     },
     "execution_count": 79,
     "metadata": {},
     "output_type": "execute_result"
    }
   ],
   "source": [
    "getgeneratorstate(exc_coro)\n",
    "# 'GEN_CLOSED'"
   ]
  },
  {
   "cell_type": "code",
   "execution_count": null,
   "metadata": {
    "collapsed": false,
    "pycharm": {
     "name": "#%%\n"
    }
   },
   "outputs": [],
   "source": [
    "# 如果不管协程如何结束都想做些清理工作，要把协程定义体中相关的代码放入try/finally块中\n",
    "def demo_finally():\n",
    "    print('-> coroutine started')\n",
    "    try:\n",
    "        while True:\n",
    "            try:\n",
    "                x = yield\n",
    "            except DemoException:\n",
    "                print('*** DemoException handled. Continuing...')\n",
    "            else:\n",
    "                print('-> coroutine received:{!r}'.format(x))\n",
    "    finally:\n",
    "        print('-> coroutine ending!')\n"
   ]
  },
  {
   "cell_type": "code",
   "execution_count": null,
   "metadata": {
    "collapsed": false,
    "pycharm": {
     "name": "#%%\n"
    }
   },
   "outputs": [
    {
     "name": "stdout",
     "output_type": "stream",
     "text": [
      "-> coroutine started\n",
      "-> coroutine received:1\n"
     ]
    }
   ],
   "source": [
    "df = demo_finally()\n",
    "next(df)\n",
    "df.send(1)"
   ]
  },
  {
   "cell_type": "code",
   "execution_count": null,
   "metadata": {
    "collapsed": false,
    "pycharm": {
     "name": "#%%\n"
    }
   },
   "outputs": [
    {
     "name": "stdout",
     "output_type": "stream",
     "text": [
      "-> coroutine ending!\n"
     ]
    },
    {
     "ename": "ZeroDivisionError",
     "evalue": "",
     "output_type": "error",
     "traceback": [
      "\u001b[1;31m---------------------------------------------------------------------------\u001b[0m",
      "\u001b[1;31mZeroDivisionError\u001b[0m                         Traceback (most recent call last)",
      "\u001b[1;32m<ipython-input-83-54af621fc068>\u001b[0m in \u001b[0;36m<module>\u001b[1;34m\u001b[0m\n\u001b[1;32m----> 1\u001b[1;33m \u001b[0mdf\u001b[0m\u001b[1;33m.\u001b[0m\u001b[0mthrow\u001b[0m\u001b[1;33m(\u001b[0m\u001b[0mZeroDivisionError\u001b[0m\u001b[1;33m)\u001b[0m\u001b[1;33m\u001b[0m\u001b[1;33m\u001b[0m\u001b[0m\n\u001b[0m",
      "\u001b[1;32m<ipython-input-80-5fc13340c0b1>\u001b[0m in \u001b[0;36mdemo_finally\u001b[1;34m()\u001b[0m\n\u001b[0;32m      5\u001b[0m         \u001b[1;32mwhile\u001b[0m \u001b[1;32mTrue\u001b[0m\u001b[1;33m:\u001b[0m\u001b[1;33m\u001b[0m\u001b[1;33m\u001b[0m\u001b[0m\n\u001b[0;32m      6\u001b[0m             \u001b[1;32mtry\u001b[0m\u001b[1;33m:\u001b[0m\u001b[1;33m\u001b[0m\u001b[1;33m\u001b[0m\u001b[0m\n\u001b[1;32m----> 7\u001b[1;33m                 \u001b[0mx\u001b[0m \u001b[1;33m=\u001b[0m \u001b[1;32myield\u001b[0m\u001b[1;33m\u001b[0m\u001b[1;33m\u001b[0m\u001b[0m\n\u001b[0m\u001b[0;32m      8\u001b[0m             \u001b[1;32mexcept\u001b[0m \u001b[0mDemoException\u001b[0m\u001b[1;33m:\u001b[0m\u001b[1;33m\u001b[0m\u001b[1;33m\u001b[0m\u001b[0m\n\u001b[0;32m      9\u001b[0m                 \u001b[0mprint\u001b[0m\u001b[1;33m(\u001b[0m\u001b[1;34m'*** DemoException handled. Continuing...'\u001b[0m\u001b[1;33m)\u001b[0m\u001b[1;33m\u001b[0m\u001b[1;33m\u001b[0m\u001b[0m\n",
      "\u001b[1;31mZeroDivisionError\u001b[0m: "
     ]
    }
   ],
   "source": [
    "df.throw(ZeroDivisionError)"
   ]
  },
  {
   "cell_type": "markdown",
   "metadata": {
    "collapsed": false,
    "pycharm": {
     "name": "#%% md\n"
    }
   },
   "source": [
    "## 16.6 让协程返回值"
   ]
  },
  {
   "cell_type": "code",
   "execution_count": null,
   "metadata": {
    "collapsed": false,
    "pycharm": {
     "name": "#%%\n"
    }
   },
   "outputs": [
    {
     "data": {
      "text/plain": [
       "(20.0, 30.0)"
      ]
     },
     "execution_count": 20,
     "metadata": {},
     "output_type": "execute_result"
    }
   ],
   "source": [
    "# 测试之前的函数\n",
    "av = averager2()\n",
    "a = av.send(20)\n",
    "b = av.send(40)\n",
    "a,b"
   ]
  },
  {
   "cell_type": "code",
   "execution_count": null,
   "metadata": {},
   "outputs": [],
   "source": [
    "# 定义一个求平均值的协程，让它返回一个结果\n",
    "from collections import namedtuple\n",
    "Result  = namedtuple('Result', 'count average')\n",
    "@coroutine\n",
    "def averager_result():\n",
    "    total = 0.0\n",
    "    count = 0\n",
    "    average = None\n",
    "    while True:\n",
    "        term = yield\n",
    "        if term is None:\n",
    "            break #为了返回值，协程必须正常终止\n",
    "        total += term\n",
    "        count += 1\n",
    "        average = total/count\n",
    "    return Result(count, average)"
   ]
  },
  {
   "cell_type": "code",
   "execution_count": null,
   "metadata": {},
   "outputs": [
    {
     "ename": "StopIteration",
     "evalue": "Result(count=4, average=25.0)",
     "output_type": "error",
     "traceback": [
      "\u001b[1;31m---------------------------------------------------------------------------\u001b[0m",
      "\u001b[1;31mStopIteration\u001b[0m                             Traceback (most recent call last)",
      "\u001b[1;32m<ipython-input-22-d60a2cbb0300>\u001b[0m in \u001b[0;36m<module>\u001b[1;34m\u001b[0m\n\u001b[0;32m      4\u001b[0m \u001b[0mcoro_avg\u001b[0m\u001b[1;33m.\u001b[0m\u001b[0msend\u001b[0m\u001b[1;33m(\u001b[0m\u001b[1;36m30\u001b[0m\u001b[1;33m)\u001b[0m\u001b[1;33m\u001b[0m\u001b[1;33m\u001b[0m\u001b[0m\n\u001b[0;32m      5\u001b[0m \u001b[0mcoro_avg\u001b[0m\u001b[1;33m.\u001b[0m\u001b[0msend\u001b[0m\u001b[1;33m(\u001b[0m\u001b[1;36m40\u001b[0m\u001b[1;33m)\u001b[0m\u001b[1;33m\u001b[0m\u001b[1;33m\u001b[0m\u001b[0m\n\u001b[1;32m----> 6\u001b[1;33m \u001b[0mcoro_avg\u001b[0m\u001b[1;33m.\u001b[0m\u001b[0msend\u001b[0m\u001b[1;33m(\u001b[0m\u001b[1;32mNone\u001b[0m\u001b[1;33m)\u001b[0m \u001b[1;31m# 终止协程\u001b[0m\u001b[1;33m\u001b[0m\u001b[1;33m\u001b[0m\u001b[0m\n\u001b[0m",
      "\u001b[1;31mStopIteration\u001b[0m: Result(count=4, average=25.0)"
     ]
    }
   ],
   "source": [
    "coro_avg = averager_result()\n",
    "coro_avg.send(10)\n",
    "coro_avg.send(20)\n",
    "coro_avg.send(30)\n",
    "coro_avg.send(40)\n",
    "coro_avg.send(None) # 终止协程\n",
    "# 注意，return表达式的值会偷偷传给调用方，赋值给StopIteration异常的一个属性。\n",
    "# 这样做有点不合常理，但是能保留生成器对象的常规行为——耗尽时抛出StopIteration异常"
   ]
  },
  {
   "cell_type": "code",
   "execution_count": null,
   "metadata": {},
   "outputs": [
    {
     "data": {
      "text/plain": [
       "Result(count=4, average=25.0)"
      ]
     },
     "execution_count": 23,
     "metadata": {},
     "output_type": "execute_result"
    }
   ],
   "source": [
    "# 捕获StopIteration异常，获取averager返回的值\n",
    "coro_avg = averager_result()\n",
    "coro_avg.send(10)\n",
    "coro_avg.send(20)\n",
    "coro_avg.send(30)\n",
    "coro_avg.send(40)\n",
    "try:\n",
    "    coro_avg.send(None)\n",
    "except StopIteration as exc:\n",
    "    result = exc.value\n",
    "\n",
    "result"
   ]
  },
  {
   "cell_type": "markdown",
   "metadata": {},
   "source": [
    "yield from结构会在内部自动捕获StopIteration异常。\n",
    "\n",
    "这种处理方式与for循环处理StopIteration异常的方式一样：循环机制使用用户易于理解的方式处理异常。\n",
    "\n",
    "对yield from结构来说，解释器不仅会捕获StopIteration异常，还会把value属性的值变成yield from表达式的值。\n",
    "可惜，我们无法在控制台中使用交互的方式测试这种行为，因为在函数外部使用yield from（以及yield）会导致句法出错。"
   ]
  },
  {
   "cell_type": "markdown",
   "metadata": {},
   "source": [
    "## 16.7 使用yield from\n",
    "\n",
    "它的作用比yield多很多，因此人们认为继续使用那个关键字多少会引起误解。\n",
    "\n",
    "在其他语言中，类似的结构使用*await*关键字，这个名称好多了，因为它传达了至关重要的一点：\n",
    "\n",
    "在生成器gen中使用yield from subgen()时，subgen会获得控制权，把产出的值传给gen的调用方，即调用方可以直接控制subgen。与此同时，gen会阻塞，等待subgen终止。"
   ]
  },
  {
   "cell_type": "code",
   "execution_count": null,
   "metadata": {},
   "outputs": [
    {
     "name": "stdout",
     "output_type": "stream",
     "text": [
      "A\n",
      "B\n",
      "C\n",
      "D\n",
      "E\n",
      "F\n",
      "G\n",
      "H\n",
      "I\n",
      "J\n",
      "K\n",
      "L\n",
      "M\n",
      "N\n"
     ]
    }
   ],
   "source": [
    "# 回顾yield from的基本用法\n",
    "def gen():\n",
    "    yield from 'ABCDEFG'\n",
    "    yield from 'HIJKLMN'\n",
    "\n",
    "for g in gen():\n",
    "    print(g)"
   ]
  },
  {
   "cell_type": "code",
   "execution_count": null,
   "metadata": {},
   "outputs": [
    {
     "data": {
      "text/plain": [
       "['A', 'B', 'C', 'D', 'E', 'F', 'G', 'H', 'I', 'J', 'K', 'L', 'M', 'N']"
      ]
     },
     "execution_count": 29,
     "metadata": {},
     "output_type": "execute_result"
    }
   ],
   "source": [
    "# 回顾yield from的基本用法\n",
    "def chain(*iteration):\n",
    "    for it in iteration:\n",
    "        yield from it\n",
    "\n",
    "a = 'ABCDEFG'\n",
    "b = 'HIJKLMN'\n",
    "list(chain(a,b))"
   ]
  },
  {
   "cell_type": "markdown",
   "metadata": {},
   "source": [
    "yield from的主要功能是**打开双向通道，把最外层的调用方与最内层的子生成器连接起来，**这样二者可以直接发送和产出值，还可以直接传入异常，而不用在位于中间的协程中添加大量处理异常的样板代码。有了这个结构，协程可以通过以前不可能的方式委托职责。\n",
    "\n",
    "**把职责委托给子生成器的句法**\n",
    "\n",
    "- 委派生成器：包含yield from <iterable>表达式的生成器函数。\n",
    "- 子生成器：从yield from表达式中<iterable>部分获取的生成器。\n",
    "- 调用方（客户端）：“调用方”这个术语指代调用委派生成器的客户端代码。\n",
    "\n",
    "![coroutine](./img/委派生成器.png)"
   ]
  },
  {
   "cell_type": "code",
   "execution_count": null,
   "metadata": {},
   "outputs": [
    {
     "name": "stdout",
     "output_type": "stream",
     "text": [
      " 9 boys  averaging 40.42 kg\n",
      " 9 boys  averaging 1.39 m\n",
      "10 girls averaging 42.04 kg\n",
      "10 girls averaging 1.43 m\n"
     ]
    }
   ],
   "source": [
    "# BEGIN YIELD_FROM_AVERAGER\n",
    "from collections import namedtuple\n",
    "\n",
    "Result = namedtuple('Result', 'count average')\n",
    "\n",
    "'''\n",
    "yield from的主要功能是打开双向通道，把最外层的调用方与最内层的子生成器连接起来，这样二者可以直接发送和产出值，还可以直接传入异常，\n",
    "而不用在位于中间的协程中添加大量处理异常的样板代码。有了这个结构，协程可以通过以前不可能的方式委托职责。\n",
    "'''\n",
    "# 子生成器\n",
    "def averager():\n",
    "    total = 0.0\n",
    "    count = 0\n",
    "    average = None\n",
    "    while True:\n",
    "        term = yield        # main函数中的客户代码发送的各个值绑定到这里的term变量上 \n",
    "        if term is None:    # 至关重要的终止条件。如果不这么做，使用yield from调用这个协程的生成器会永远阻塞\n",
    "            break\n",
    "        total += term\n",
    "        count += 1\n",
    "        average = total/count\n",
    "    return Result(count, average)  # 返回的Result会成为grouper函数中yield from表达式的值\n",
    "\n",
    "# 委派生成器\n",
    "def grouper(results, key):\n",
    "    while True:  # 这个循环每次迭代时会新建一个averager实例；每个实例都是作为协程使用的生成器对象。\n",
    "        results[key] = yield from averager()\n",
    "        # grouper发送的每个值都会经由yield from处理，通过管道传给averager实例。grouper会在yield from表达式处暂停，\n",
    "        # 等待averager实例处理客户端发来的值。averager实例运行完毕后，返回的值绑定到results[key]上。while循环会不断创建averager实例，处理更多的值。\n",
    "\n",
    "# 客户端代码\n",
    "def main(data):\n",
    "    results = {}\n",
    "    for key, values in data.items():\n",
    "        group = grouper(results, key) # group是调用grouper函数得到的生成器对象，传给grouper函数的第一个参数是results，用于收集结果；第二个参数是某个键。group作为协程使用。\n",
    "        next(group) # 预激group协程\n",
    "        for value in values:\n",
    "            group.send(value) # 把各个value传给grouper。传入的值最终到达averager函数中term=yield那一行；grouper永远不知道传入的值是什么。\n",
    "        group.send(None) # 重要！至关重要的终止条件。如果不这么做，使用yield from调用这个协程的生成器会永远阻塞。也就是获得不了返回值，results是空的。\n",
    "        # 把None传入grouper，导致当前的averager实例终止，也让grouper继续运行，再创建一个averager实例，处理下一组值。\n",
    "    #print(results)\n",
    "    report(results)\n",
    "\n",
    "\n",
    "def report(results):\n",
    "    for key, result in sorted(results.items()):\n",
    "        group, unit = key.split(';')\n",
    "        print(\"{:2} {:5} averaging {:.2f} {}\".format(\n",
    "            result.count, group, result.average, unit\n",
    "        ))\n",
    "\n",
    "\n",
    "data = {\n",
    "    'girls;kg':\n",
    "        [40.9, 38.5, 44.3, 42.2, 45.2, 41.7, 44.5, 38.0, 40.6, 44.5],\n",
    "    'girls;m':\n",
    "        [1.6, 1.51, 1.4, 1.3, 1.41, 1.39, 1.33, 1.46, 1.45, 1.43],\n",
    "    'boys;kg':\n",
    "        [39.0, 40.8, 43.2, 40.8, 43.1, 38.6, 41.4, 40.6, 36.3],\n",
    "    'boys;m':\n",
    "        [1.38, 1.5, 1.32, 1.25, 1.37, 1.48, 1.25, 1.49, 1.46],\n",
    "}\n",
    "\n",
    "\n",
    "if __name__ == '__main__':\n",
    "    main(data)\n",
    "\n",
    "# END YIELD_FROM_AVERAGER"
   ]
  },
  {
   "cell_type": "markdown",
   "metadata": {},
   "source": [
    "### 上面例子运行过程：\n",
    "\n",
    "1. 外层for循环每次迭代会新建一个grouper实例，赋值给group变量；group是委派生成器。\n",
    "\n",
    "2. 调用next(group)，预激委派生成器grouper，此时进入while True循环，调用子生成器averager后，在yield from表达式处暂停。\n",
    "\n",
    "3. 内层for循环调用group.send(value)，直接把值传给子生成器averager。同时，当前的grouper实例（group）在yield from表达式处暂停。\n",
    "\n",
    "4. 内层循环结束后，group实例依旧在yield from表达式处暂停，因此，grouper函数定义体中为results[key]赋值的语句还没有执行。\n",
    "\n",
    "5. 如果外层for循环的末尾没有group.send(None)，那么averager子生成器永远不会终止，委派生成器group永远不会再次激活，因此永远不会为results[key]赋值。\n",
    "\n",
    "6. 外层for循环重新迭代时会新建一个grouper实例，然后绑定到group变量上。前一个grouper实例（以及它创建的尚未终止的averager子生成器实例）被垃圾回收程序回收。"
   ]
  },
  {
   "cell_type": "code",
   "execution_count": null,
   "metadata": {},
   "outputs": [
    {
     "name": "stdout",
     "output_type": "stream",
     "text": [
      " 9 boys average is 40.42 kg\n",
      " 9 boys average is 1.39 m\n",
      "10 girls average is 42.04 kg\n",
      "10 girls average is 1.43 m\n"
     ]
    }
   ],
   "source": [
    "# 练习yield from方法\n",
    "from collections import namedtuple\n",
    "from inspect import getcoroutinestate\n",
    "\n",
    "Result  = namedtuple('Result','count total average')\n",
    "\n",
    "# 子生成器\n",
    "def subgen():\n",
    "    v = 0\n",
    "    total = 0\n",
    "    count = 0\n",
    "    av = 0\n",
    "    while True:\n",
    "        v = yield av\n",
    "        if v is None:\n",
    "            break # 终止子协程，返回结果\n",
    "        total += v\n",
    "        count += 1\n",
    "        av = total/count\n",
    "    return Result(count, total, av)\n",
    "\n",
    "\n",
    "# 委派生成器\n",
    "def corougen(result, key):\n",
    "    while True:\n",
    "        result[key] = yield from subgen()\n",
    "\n",
    "\n",
    "# 客户端代码\n",
    "def main(data):\n",
    "    results = {}\n",
    "    for key, values in data.items():\n",
    "        gen = corougen(results, key)\n",
    "        next(gen)\n",
    "        for value in values:\n",
    "            gen.send(value)\n",
    "        gen.send(None) # 获得返回值！\n",
    "    report(results)\n",
    "\n",
    "# 打印代码\n",
    "def report(results):\n",
    "    for key, values in sorted(results.items()):\n",
    "        group, unit = key.split(';')\n",
    "        print(\"{:2} {:4} average is {:.2f} {}\".format(values.count, group, values.average, unit))\n",
    "\n",
    "\n",
    "data = {\n",
    "    'girls;kg':\n",
    "        [40.9, 38.5, 44.3, 42.2, 45.2, 41.7, 44.5, 38.0, 40.6, 44.5],\n",
    "    'girls;m':\n",
    "        [1.6, 1.51, 1.4, 1.3, 1.41, 1.39, 1.33, 1.46, 1.45, 1.43],\n",
    "    'boys;kg':\n",
    "        [39.0, 40.8, 43.2, 40.8, 43.1, 38.6, 41.4, 40.6, 36.3],\n",
    "    'boys;m':\n",
    "        [1.38, 1.5, 1.32, 1.25, 1.37, 1.48, 1.25, 1.49, 1.46],\n",
    "}\n",
    "\n",
    "\n",
    "if __name__ == \"__main__\":\n",
    "    main(data)\n"
   ]
  },
  {
   "cell_type": "markdown",
   "metadata": {},
   "source": [
    "因为委派生成器相当于管道，所以可以把任意数量个委派生成器连接在一起：一个委派生成器使用yield from调用一个子生成器，而那个子生成器本身也是委派生成器，使用yield from调用另一个子生成器，以此类推。最终，这个链条要以一个只使用yield表达式的简单生成器结束；\n",
    "\n",
    "任何yield from链条都必须由客户驱动，在最外层委派生成器上调用next(...)函数或.send(...)方法。可以隐式调用，例如使用for循环。"
   ]
  },
  {
   "cell_type": "markdown",
   "metadata": {},
   "source": [
    "## 16.8 yield from的意义\n",
    "\n",
    "把迭代器当作生成器使用，相当于把子生成器的定义体内联在yield from表达式中。此外，子生成器可以执行return语句，返回一个值，而返回的值会成为yieldfrom表达式的值。"
   ]
  },
  {
   "cell_type": "markdown",
   "metadata": {},
   "source": [
    "### 六点说明了yield from的行为\n",
    "\n",
    "1. 子生成器产出的值都直接传给委派生成器的调用方（即客户端代码）。\n",
    "\n",
    "2. 使用send（）方法发给委派生成器的值都直接传给子生成器。如果发送的值是None，那么会调用子生成器的__next__（）方法。\n",
    "如果发送的值不是None，那么会调用子生成器的send（）方法。\n",
    "如果调用的方法抛出StopIteration异常，那么委派生成器恢复运行。任何其他异常都会向上冒泡，传给委派生成器。\n",
    "\n",
    "3. 生成器退出时，生成器（或子生成器）中的return expr表达式会触发StopIteration(expr)异常抛出。\n",
    "\n",
    "4. yield from表达式的值是子生成器终止时传给StopIteration异常的第一个参数。\n",
    "\n",
    "5. 传入委派生成器的异常，除了GeneratorExit之外都传给子生成器的throw（）方法。如果调用throw（）方法时抛出StopIteration异常，委派生成器恢复运行。StopIteration之外的异常会向上冒泡，传给委派生成器。\n",
    "\n",
    "6. 如果把GeneratorExit异常传入委派生成器，或者在委派生成器上调用close（　）方法，那么在子生成器上调用close（　）方法，如果它有的话。如果调用close（　）方法导致异常抛出，那么异常会向上冒泡，传给委派生成器；否则，委派生成器抛出GeneratorExit异常。"
   ]
  },
  {
   "cell_type": "markdown",
   "metadata": {},
   "source": [
    "### 利用伪代码演示yield from做了什么"
   ]
  },
  {
   "cell_type": "code",
   "execution_count": null,
   "metadata": {},
   "outputs": [],
   "source": [
    "# 利用伪代码演示yield from做了什么\n",
    "RESULT = yield from EXPR  \n",
    "\n",
    "# yield from 的简化伪代码 (不考虑其他类型的异常，以及.throw(...)和.close（　）方法)\n",
    "\n",
    "# _i (迭代器) : 子生成器\n",
    "# _y（产出的值）: 子生成器产出的值  \n",
    "# _r（结果）: 最终的结果（即子生成器运行结束后yield from表达式的值）\n",
    "# _s（发送的值）: 调用方发给委派生成器的值，这个值会转发给子生成器\n",
    "# _e（异常）: 异常对象（在这段简化的伪代码中始终是StopIteration实例）\n",
    "def yieldfromfunc():\n",
    "    _i = iter(EXPR) # EXPR可以是任何可迭代的对象，因为获取迭代器_i（这是子生成器）使用的是iter（）函数。\n",
    "    try:\n",
    "        _y = next(_i)  # 预激子生成器；结果保存在_y中，作为产出的第一个值。\n",
    "    except StopIteration as _e:\n",
    "        _r = _e.value  # 如果抛出StopIteration异常，获取异常对象的value属性，赋值给_r——这是最简单情况下的返回值（RESULT）。\n",
    "    else:\n",
    "        while 1:  # 运行这个循环时，委派生成器会阻塞，只作为调用方和子生成器之间的通道。\n",
    "            _s = yield _y # 产出子生成器当前产出的元素；等待调用方发送_s中保存的值。注意，这个代码清单中只有这一个yield表达式。\n",
    "            try:\n",
    "                _y = _i.send(_s) # 尝试让子生成器向前执行，转发调用方发送的_s。\n",
    "            except StopIteration as _e: # 如果子生成器抛出StopIteration异常，获取value属性的值，赋值给_r，然后退出循环，让委派生成器恢复运行。\n",
    "                _r = _e.value\n",
    "                break\n",
    "    RESULT = _r # 返回的结果（RESULT）是_r，即整个yield from表达式的值。\n"
   ]
  },
  {
   "cell_type": "code",
   "execution_count": null,
   "metadata": {},
   "outputs": [],
   "source": [
    "def yieldfromfunc():\n",
    "    _i = iter(EXPR) # _i : 子生成器（是任意可迭代对象）\n",
    "    try：\n",
    "        _y = next(_i) # 预激\n",
    "    except StopIteration as _e:\n",
    "        _r = _e.value # 子生成器关闭获得返回值\n",
    "    else:\n",
    "        while 1:      # 委派生成器循环（会自动阻塞）\n",
    "            try:\n",
    "                _s = yield _y  # 产出值_y,传入值_s,以及yield实现了阻塞。这里是协程的根基。\n",
    "            \n",
    "            except GeneratorExit as _e:  # 关闭委派生成器和子生成器\n",
    "                try:\n",
    "                    _m = _i.close\n",
    "                except AttributeError:\n",
    "                    pass\n",
    "                else:\n",
    "                    _m()\n",
    "                raise _e\n",
    "            \n",
    "            except BaseException as _e:  # 调用方使用.throw()方法传入异常\n",
    "                _x = sys.exc_info()\n",
    "                try:\n",
    "                    _m = _i.throw\n",
    "                except AttributeError:\n",
    "                    raise _e\n",
    "                else:\n",
    "                    try:\n",
    "                        _y = _m(*_x)\n",
    "                    except StopIteration as _e:\n",
    "                        _r = _e.value\n",
    "                        break\n",
    "            \n",
    "            else:                       # 无异常\n",
    "                try:\n",
    "                    if _s is None:       # 发送了None，则next子生成器\n",
    "                        _y = next(_i)\n",
    "                    else:\n",
    "                        _y = _i.send(_s) # 否则将值传给子生成器\n",
    "                except StopIteration as _e: # 停止此子生成器，并返回协程结果\n",
    "                    _r = _e.value\n",
    "                    break\n",
    "\n",
    "    RESULT = _r #  返回的结果（RESULT）是_r，即整个yield from表达式的值"
   ]
  },
  {
   "cell_type": "markdown",
   "metadata": {},
   "source": [
    "## 16.9 使用案例：使用协程做离散事件仿真\n",
    "\n",
    "在计算机科学领域，仿真是协程的经典应用.协程是asyncio包的基础构建。通过仿真系统能说明如何使用协程代替线程实现并发的活动，而且对理解第18章讨论的asyncio包有极大的帮助。\n",
    "\n",
    "### 16.9.1 离散事件仿真简介\n",
    "离散事件仿真（Discrete Event Simulation，DES）是一种把系统建模成一系列事件的仿真类型。在离散事件仿真中，仿真“钟”向前推进的量不是固定的，而是直接推进到下一个事件模型的模拟时间。\n",
    "\n",
    "假如我们抽象模拟出租车的运营过程，其中一个事件是乘客上车，下一个事件则是乘客下车。不管乘客坐了5分钟还是50分钟，一旦乘客下车，仿真钟就会更新，指向此次运营的结束时间。使用离散事件仿真可以在不到一秒钟的时间内模拟一年的出租车运营过程。这与连续仿真不同，连续仿真的仿真钟以固定的量（通常很小）不断向前推进。\n",
    "\n",
    "显然，回合制游戏就是离散事件仿真的例子：游戏的状态只在玩家操作时变化，而且一旦玩家决定下一步怎么走了，仿真钟就会冻结。而实时游戏则是连续仿真，仿真钟一直在运行，游戏的状态在一秒钟之内更新很多次，因此反应慢的玩家特别吃亏。\n",
    "\n",
    "这两种仿真类型都能使用**多线程**或在单个线程中使用**面向事件的编程技术**（例如事件循环驱动的回调或协程）实现。\n",
    "\n",
    "为了实现连续仿真，在多个线程中处理实时并行的操作更自然。而协程恰好为实现离散事件仿真提供了合理的抽象。\n",
    "\n",
    "> 在仿真领域，进程这个术语指代模型中某个实体的活动，与操作系统中的进程无关。\n",
    "> 仿真系统中的一个进程可以使用操作系统中的一个进程实现，但是通常会使用一个线程或一个协程实现。\n",
    "\n",
    "### 16.9.2 出租车队运营仿真\n",
    "\n",
    "仿真程序taxi_sim.py会创建几辆出租车，每辆车会拉几个乘客，然后回家。出租车首先驶离车库，四处徘徊，寻找乘客；拉到乘客后，行程开始；乘客下车后，继续四处徘徊。"
   ]
  },
  {
   "cell_type": "code",
   "execution_count": null,
   "metadata": {},
   "outputs": [
    {
     "name": "stdout",
     "output_type": "stream",
     "text": [
      "(1, 'wake')\n",
      "(2, 'eat')\n",
      "(3, 'sleep')\n"
     ]
    }
   ],
   "source": [
    "# 预备知识\n",
    "# 优先队列\n",
    "\n",
    "# 目的：队列有序提取！\n",
    "\n",
    "# 标准库\n",
    "q = []\n",
    "\n",
    "q.append((2, \"eat\"))\n",
    "q.append((1,\"wake\"))\n",
    "q.append((3,\"sleep\"))\n",
    "\n",
    "q.sort(reverse=True)  # 缺点：如果又添加了新的元素，又要调用sort方法。\n",
    "\n",
    "while q:\n",
    "    item = q.pop()\n",
    "    print(item)\n"
   ]
  },
  {
   "cell_type": "code",
   "execution_count": null,
   "metadata": {},
   "outputs": [
    {
     "name": "stdout",
     "output_type": "stream",
     "text": [
      "(1, 'wake')\n",
      "(2, 'eat')\n",
      "(3, 'sleep')\n"
     ]
    }
   ],
   "source": [
    "# 预备知识\n",
    "# 优先队列\n",
    "\n",
    "# 目的：队列有序提取！\n",
    "\n",
    "# heapq是二叉堆，通常用普通列表实现，能在时间内插入和获取最小的元素。\n",
    "\n",
    "# heapq模块是在Python中不错的优先级队列实现。由于heapq在技术上只提供最小堆实现，因此必须添加额外步骤来确保排序稳定性，以此来获得“实际”的优先级队列中所含有的预期特性。\n",
    "\n",
    "import heapq\n",
    "\n",
    "q = []\n",
    "\n",
    "heapq.heappush(q, (2, \"eat\"))\n",
    "heapq.heappush(q,(1,\"wake\"))\n",
    "heapq.heappush(q,(3,\"sleep\"))\n",
    "\n",
    "while q:\n",
    "    item = heapq.heappop(q)\n",
    "    print(item)"
   ]
  },
  {
   "cell_type": "code",
   "execution_count": null,
   "metadata": {},
   "outputs": [
    {
     "name": "stdout",
     "output_type": "stream",
     "text": [
      "(1, 'wake')\n",
      "(2, 'eat')\n",
      "(3, 'sleep')\n"
     ]
    }
   ],
   "source": [
    "# 预备知识\n",
    "# 优先队列\n",
    "\n",
    "# 目的：队列有序提取！\n",
    "\n",
    "#queue.PriorityQueue这个优先级队列的实现在内部使用了heapq，时间和空间复杂度与heapq相同。\n",
    "\n",
    "#区别在于PriorityQueue是同步的，提供了锁语义来支持多个并发的生产者和消费者。\n",
    "\n",
    "#不同情况下，锁语义可能会带来帮助，也可能会导致不必要的开销。不管哪种情况，你都可能更喜欢PriorityQueue提供的基于类的接口，而不是使用heapq提供的基于函数的接口。\n",
    "\n",
    "from queue import PriorityQueue\n",
    "\n",
    "q = PriorityQueue()\n",
    "q.put((2, \"eat\"))\n",
    "q.put((1,\"wake\"))\n",
    "q.put((3,\"sleep\"))\n",
    "\n",
    "while not q.empty():\n",
    "    item = q.get()\n",
    "    print(item)\n",
    "\n",
    "\n",
    "# queue.PriorityQueue是其中的首选，具有良好的面向对象的接口，从名称就能明白其用途。\n",
    "\n",
    "# 如果想避免queue.PriorityQueue的锁开销，那么建议直接使用heapq模块。"
   ]
  },
  {
   "cell_type": "markdown",
   "metadata": {},
   "source": [
    "**出租车离散运用仿真**"
   ]
  },
  {
   "cell_type": "code",
   "execution_count": null,
   "metadata": {},
   "outputs": [
    {
     "name": "stdout",
     "output_type": "stream",
     "text": [
      "taxis: 0  Event(time=0, proc=0, action='leave garage')\n",
      "taxis: 1 - Event(time=3, proc=1, action='leave garage')\n",
      "taxis: 1 - Event(time=4, proc=1, action='pick up passenger')\n",
      "taxis: 2 -- Event(time=6, proc=2, action='leave garage')\n",
      "taxis: 2 -- Event(time=7, proc=2, action='pick up passenger')\n",
      "taxis: 0  Event(time=17, proc=0, action='pick up passenger')\n",
      "taxis: 0  Event(time=18, proc=0, action='drop off passenger')\n",
      "taxis: 0  Event(time=29, proc=0, action='pick up passenger')\n",
      "taxis: 1 - Event(time=31, proc=1, action='drop off passenger')\n",
      "taxis: 1 - Event(time=41, proc=1, action='pick up passenger')\n",
      "taxis: 0  Event(time=52, proc=0, action='drop off passenger')\n",
      "taxis: 0  Event(time=54, proc=0, action='going home')\n",
      "taxis: 2 -- Event(time=93, proc=2, action='drop off passenger')\n",
      "taxis: 2 -- Event(time=100, proc=2, action='pick up passenger')\n",
      "taxis: 2 -- Event(time=107, proc=2, action='drop off passenger')\n",
      "taxis: 2 -- Event(time=109, proc=2, action='pick up passenger')\n",
      "taxis: 2 -- Event(time=115, proc=2, action='drop off passenger')\n",
      "taxis: 2 -- Event(time=125, proc=2, action='pick up passenger')\n",
      "taxis: 2 -- Event(time=167, proc=2, action='drop off passenger')\n",
      "taxis: 2 -- Event(time=175, proc=2, action='pick up passenger')\n",
      "taxis: 2 -- Event(time=181, proc=2, action='drop off passenger')\n",
      "taxis: 2 -- Event(time=194, proc=2, action='pick up passenger')\n",
      "taxis: 2 -- Event(time=209, proc=2, action='drop off passenger')\n",
      "taxis: 2 -- Event(time=211, proc=2, action='going home')\n",
      "taxis: 1 - Event(time=214, proc=1, action='drop off passenger')\n",
      "taxis: 1 - Event(time=217, proc=1, action='pick up passenger')\n",
      "taxis: 1 - Event(time=219, proc=1, action='drop off passenger')\n",
      "taxis: 1 - Event(time=224, proc=1, action='pick up passenger')\n",
      "taxis: 1 - Event(time=233, proc=1, action='drop off passenger')\n",
      "taxis: 1 - Event(time=238, proc=1, action='going home')\n",
      "*** end of event ***\n"
     ]
    }
   ],
   "source": [
    "# 出租车运行仿真代码\n",
    "\n",
    "from collections import namedtuple\n",
    "import queue\n",
    "import random\n",
    "import argparse\n",
    "\n",
    "# 全局变量\n",
    "DEFAULT_NUMBER_OF_TAXIS = 3\n",
    "DEFAULT_END_TIME = 180\n",
    "SEARCH_DURATION = 5\n",
    "TRIP_DURATION = 20\n",
    "DEFAULT_INTERVAL = 3\n",
    "\n",
    "\n",
    "# Event格式\n",
    "Event = namedtuple(\"Event\", \"time proc action\")\n",
    "\n",
    "# 协程：出租仿真\n",
    "def taxi_process(ident, trips, start_time=0):\n",
    "    time = yield Event(start_time, ident, \"leave garage\") # 出车库\n",
    "    for i in range(trips):\n",
    "        time = yield Event(time, ident, \"pick up passenger\")  # 接乘客\n",
    "        time = yield Event(time, ident, \"drop off passenger\") # 放乘客\n",
    "    yield Event(time, ident, \"going home\")                  # 回家\n",
    "\n",
    "# 计算随机值\n",
    "def compute_duration(previous_action):\n",
    "    if previous_action in ['leave garage', 'drop off passenger']:\n",
    "        interval = SEARCH_DURATION\n",
    "    elif previous_action == 'pick up passenger':\n",
    "        interval = TRIP_DURATION\n",
    "    elif previous_action == 'going home':\n",
    "        interval = 1\n",
    "    else:\n",
    "        raise ValueError('Unknown previous_action: %s' % previous_action)\n",
    "    return int(random.expovariate(1/interval)) + 1\n",
    "\n",
    "# 模拟器\n",
    "class Simulator():\n",
    "\n",
    "    def __init__(self, procs_map) -> None:\n",
    "        self.events = queue.PriorityQueue()\n",
    "        self.procs = dict(procs_map)\n",
    "\n",
    "    def run(self, end_time):\n",
    "        # 启动所有仿真\n",
    "        for _, proc in sorted(self.procs.items()):\n",
    "            first_event = next(proc) # leave garage!\n",
    "            self.events.put(first_event)\n",
    "\n",
    "        # 仿真循环\n",
    "        sim_time  = 0\n",
    "        while sim_time < end_time:\n",
    "            # 完成所有仿真退出\n",
    "            if self.events.empty():\n",
    "                print(\"*** end of event ***\")\n",
    "                break\n",
    "            \n",
    "            current_event = self.events.get()\n",
    "            sim_time, proc_id, previous_action = current_event\n",
    "            print('taxis:',proc_id, proc_id * '-', current_event)\n",
    "            active_proc = self.procs[proc_id]\n",
    "            next_time = sim_time + compute_duration(previous_action)\n",
    "            try:\n",
    "                next_event = active_proc.send(next_time)\n",
    "            except StopIteration:\n",
    "                del self.procs[proc_id]\n",
    "            else:\n",
    "                self.events.put(next_event)\n",
    "        else:\n",
    "            msg = '*** end of simulation time: {} events pending ***'\n",
    "            print(msg.format(self.events.qsize()))\n",
    "\n",
    "\n",
    "def main(end_time = DEFAULT_END_TIME, num_taxis = DEFAULT_NUMBER_OF_TAXIS, seed = None):\n",
    "    if seed is not None:\n",
    "        random.seed(seed)\n",
    "\n",
    "    taxis = {\n",
    "        i : taxi_process(i, (i+1)*2, i*DEFAULT_INTERVAL)\n",
    "        for i in range(num_taxis)\n",
    "    }\n",
    "\n",
    "    sim = Simulator(taxis)\n",
    "    sim.run(end_time)\n",
    "\n",
    "\n",
    "if __name__ == \"__main__\":\n",
    "\n",
    "    # parser = argparse.ArgumentParser(description='Taxi fleet simulator')\n",
    "\n",
    "    # parser.add_argument('-e', '--end-time', type=int, default=DEFAULT_END_TIME, help='simulation end time; default = %s' % DEFAULT_END_TIME)\n",
    "\n",
    "    # parser.add_argument('-t', '--taxis', type=int, default=DEFAULT_NUMBER_OF_TAXIS, help='number of taxis running; default = %s' % DEFAULT_NUMBER_OF_TAXIS)\n",
    "        \n",
    "    # parser.add_argument('-s', '--seed', type=int, default=None, help='random generator seed(for testing)')\n",
    "\n",
    "    # args = parser.parse_args()\n",
    "    main(500, 3, 15)"
   ]
  },
  {
   "cell_type": "markdown",
   "metadata": {},
   "source": [
    "## 16.10 async 和 await 关键字 python3.5加入\n",
    "\n",
    "- 把 `@asyncio.coroutine`替换为`async`\n",
    "- 把 `yield from`替换为`await`"
   ]
  },
  {
   "cell_type": "code",
   "execution_count": null,
   "metadata": {},
   "outputs": [],
   "source": [
    "# 原先的方法\n",
    "import asyncio\n",
    "\n",
    "@asyncio.coroutine\n",
    "def hello():\n",
    "    print('Hello World!')\n",
    "    r = yield from asyncio.sleep()\n",
    "    print(\"end\")\n",
    "\n",
    "\n",
    "# 新方法可以写为：\n",
    "async def hello():\n",
    "    print('Hello World!')\n",
    "    r = await asyncio.sleep()\n",
    "    print(\"end\")"
   ]
  },
  {
   "cell_type": "markdown",
   "metadata": {},
   "source": [
    "## 16.11 引申阅读\n",
    "\n",
    "[Python Async/Await入门指南](https://zhuanlan.zhihu.com/p/27258289)本文详细介绍了异步函数（协程）以及异步生成器相关使用方法。这些都是python3.4和3.5之后加入的新特性，本书并没有涉及。因此需要从新看下。"
   ]
  },
  {
   "cell_type": "code",
   "execution_count": null,
   "metadata": {},
   "outputs": [],
   "source": [
    "# 普通函数\n",
    "def function():\n",
    "    return 1\n",
    "\n",
    "# 生成器函数\n",
    "def generator():\n",
    "    yield 1\n",
    "\n",
    "# 异步函数（协程）\n",
    "async def async_function():\n",
    "    return 1\n",
    "\n",
    "# 异步生成器\n",
    "async def async_generator():\n",
    "    yield 1\n",
    "\n",
    "\n",
    "import types\n",
    "print(type(function) is types.FunctionType)\n",
    "print(type(generator()) is types.GeneratorType)\n",
    "print(type(async_function()) is types.CoroutineType)\n",
    "print(type(async_generator()) is types.AsyncGeneratorType)\n"
   ]
  }
 ],
 "metadata": {
  "interpreter": {
   "hash": "323e40793bc647bc3a70ff4b7caabbda3d8900b68833dbcf263ceaed6a66a0c1"
  },
  "kernelspec": {
   "display_name": "Python 3.8.7 32-bit",
   "name": "python3"
  },
  "language_info": {
   "codemirror_mode": {
    "name": "ipython",
    "version": 3
   },
   "file_extension": ".py",
   "mimetype": "text/x-python",
   "name": "python",
   "nbconvert_exporter": "python",
   "pygments_lexer": "ipython3",
   "version": "3.8.7"
  }
 },
 "nbformat": 4,
 "nbformat_minor": 2
}
