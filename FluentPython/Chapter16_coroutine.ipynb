{
 "cells": [
  {
   "cell_type": "markdown",
   "source": [
    "# 16 协程\r\n",
    "\r\n",
    "- 生成器作为协程使用时的行为和状态\r\n",
    "\r\n",
    "- 使用装饰器自动预激协程\r\n",
    "\r\n",
    "- 调用方如何使用生成器对象的 .close() 和 .throw(...) 方法 控制协程\r\n",
    "\r\n",
    "- 协程终止时如何返回值\r\n",
    "\r\n",
    "- yield from 新句法的用途和语义\r\n",
    "\r\n",
    "- 使用案例——使用协程管理仿真系统中的并发活动"
   ],
   "metadata": {
    "collapsed": true,
    "pycharm": {
     "name": "#%% md\n"
    }
   }
  },
  {
   "cell_type": "markdown",
   "source": [
    "## 16.1 生成器如何进化成协程\n",
    "\n",
    "- .send() : 生成器的调用方可以使用.send(...)方法发送数据，发送的数据会成为生成器函数中yield表达式的值。\n",
    "\n",
    "- .throw() : 让调用方抛出异常，在生成器中处理\n",
    "\n",
    "- .close() : 作用是终止生成器。"
   ],
   "metadata": {
    "collapsed": false
   }
  },
  {
   "cell_type": "markdown",
   "source": [
    "## 16.2 用作协程的生成器的基本行为"
   ],
   "metadata": {
    "collapsed": false
   }
  },
  {
   "cell_type": "code",
   "execution_count": 2,
   "source": [
    "def simple_coroutine():\r\n",
    "    print(\"-> coroutine started :\")\r\n",
    "    x = yield   # 在协程中，yield通常出现在表达式的右边（例如，datum=yield），\r\n",
    "                # 可以产出值，也可以不产出——如果yield关键字后面没有表达式，那么生成器产出None。\r\n",
    "    print(\"-> coroutine received :\", x)\r\n",
    "\r\n",
    "my_coro = simple_coroutine()\r\n",
    "my_coro # <generator object simple_coroutine at 0x06D40C30>"
   ],
   "outputs": [
    {
     "output_type": "execute_result",
     "data": {
      "text/plain": [
       "<generator object simple_coroutine at 0x7fd98e124890>"
      ]
     },
     "metadata": {},
     "execution_count": 2
    }
   ],
   "metadata": {
    "collapsed": false,
    "pycharm": {
     "name": "#%%\n"
    }
   }
  },
  {
   "cell_type": "code",
   "execution_count": 3,
   "source": [
    "# 最先调用next(my_coro)函数这一步通常称为“预激”（prime）协程\r\n",
    "# （即，让协程向前执行到第一个yield表达式，准备好作为活跃的协程使用）。\r\n",
    "\r\n",
    "next(my_coro) # 调用next，使函数运行到yield关键字处，启动生成器！"
   ],
   "outputs": [
    {
     "output_type": "stream",
     "name": "stdout",
     "text": [
      "-> coroutine started :\n"
     ]
    }
   ],
   "metadata": {
    "collapsed": false,
    "pycharm": {
     "name": "#%%\n"
    }
   }
  },
  {
   "cell_type": "code",
   "execution_count": 4,
   "source": [
    "my_coro.send(42)  # 将值传递给协程！并执行到下一个yield关键字，直至StopIteration"
   ],
   "outputs": [
    {
     "output_type": "stream",
     "name": "stdout",
     "text": [
      "-> coroutine received : 42\n"
     ]
    },
    {
     "output_type": "error",
     "ename": "StopIteration",
     "evalue": "",
     "traceback": [
      "\u001b[0;31m---------------------------------------------------------------------------\u001b[0m",
      "\u001b[0;31mStopIteration\u001b[0m                             Traceback (most recent call last)",
      "\u001b[0;32m<ipython-input-4-0313fbd51e59>\u001b[0m in \u001b[0;36m<module>\u001b[0;34m\u001b[0m\n\u001b[0;32m----> 1\u001b[0;31m \u001b[0mmy_coro\u001b[0m\u001b[0;34m.\u001b[0m\u001b[0msend\u001b[0m\u001b[0;34m(\u001b[0m\u001b[0;36m42\u001b[0m\u001b[0;34m)\u001b[0m  \u001b[0;31m# 将值传递给协程！并执行到下一个yield关键字，直至StopIteration\u001b[0m\u001b[0;34m\u001b[0m\u001b[0;34m\u001b[0m\u001b[0m\n\u001b[0m",
      "\u001b[0;31mStopIteration\u001b[0m: "
     ]
    }
   ],
   "metadata": {
    "collapsed": false,
    "pycharm": {
     "name": "#%%\n"
    }
   }
  },
  {
   "cell_type": "markdown",
   "source": [
    "### 协程的四个状态\r\n",
    "当前状态可以使用inspect.getgeneratorstate(...)函数确定：\r\n",
    "\r\n",
    "- 'GEN_CREATED'   ：等待开始执行\r\n",
    "- 'GEN_RUNNING'   ：解释器正在执行\r\n",
    "- 'GEN_SUSPENDED' ：在yield表达式处暂停\r\n",
    "- 'GEN_CLOSED'    ：执行结束"
   ],
   "metadata": {
    "collapsed": false,
    "pycharm": {
     "name": "#%% md\n"
    }
   }
  },
  {
   "cell_type": "code",
   "execution_count": null,
   "source": [
    "# 最先调用next(my_coro)函数这一步通常称为“预激”（prime）协程\r\n",
    "# （即，让协程向前执行到第一个yield表达式，准备好作为活跃的协程使用）。\r\n",
    "my_coro1 = simple_coroutine()\r\n",
    "# 这里需要先调用 next(my_coro1) !\r\n",
    "my_coro1.send(45)\r\n",
    "# Error:\r\n",
    "# TypeError: can't send non-None value to a just-started generator"
   ],
   "outputs": [
    {
     "output_type": "error",
     "ename": "TypeError",
     "evalue": "can't send non-None value to a just-started generator",
     "traceback": [
      "\u001b[1;31m---------------------------------------------------------------------------\u001b[0m",
      "\u001b[1;31mTypeError\u001b[0m                                 Traceback (most recent call last)",
      "\u001b[1;32m<ipython-input-6-d7088f312f74>\u001b[0m in \u001b[0;36m<module>\u001b[1;34m\u001b[0m\n\u001b[0;32m      3\u001b[0m \u001b[0mmy_coro1\u001b[0m \u001b[1;33m=\u001b[0m \u001b[0msimple_coroutine\u001b[0m\u001b[1;33m(\u001b[0m\u001b[1;33m)\u001b[0m\u001b[1;33m\u001b[0m\u001b[1;33m\u001b[0m\u001b[0m\n\u001b[0;32m      4\u001b[0m \u001b[1;31m# 这里需要先调用 next(my_coro1) !\u001b[0m\u001b[1;33m\u001b[0m\u001b[1;33m\u001b[0m\u001b[1;33m\u001b[0m\u001b[0m\n\u001b[1;32m----> 5\u001b[1;33m \u001b[0mmy_coro1\u001b[0m\u001b[1;33m.\u001b[0m\u001b[0msend\u001b[0m\u001b[1;33m(\u001b[0m\u001b[1;36m45\u001b[0m\u001b[1;33m)\u001b[0m\u001b[1;33m\u001b[0m\u001b[1;33m\u001b[0m\u001b[0m\n\u001b[0m\u001b[0;32m      6\u001b[0m \u001b[1;31m# Error:\u001b[0m\u001b[1;33m\u001b[0m\u001b[1;33m\u001b[0m\u001b[1;33m\u001b[0m\u001b[0m\n\u001b[0;32m      7\u001b[0m \u001b[1;31m# TypeError: can't send non-None value to a just-started generator\u001b[0m\u001b[1;33m\u001b[0m\u001b[1;33m\u001b[0m\u001b[1;33m\u001b[0m\u001b[0m\n",
      "\u001b[1;31mTypeError\u001b[0m: can't send non-None value to a just-started generator"
     ]
    }
   ],
   "metadata": {
    "collapsed": false,
    "pycharm": {
     "name": "#%%\n"
    }
   }
  },
  {
   "cell_type": "code",
   "execution_count": null,
   "source": [
    "# 产出多个值的例子\r\n",
    "def simple_coro2(a):\r\n",
    "    print('-> Started: a = ', a)\r\n",
    "    b = yield a\r\n",
    "    print('-> Started: b = ', b)\r\n",
    "    c = yield a+b\r\n",
    "    print('-> Started: c = ', c)\r\n",
    "\r\n",
    "my_coro2 = simple_coro2(14)"
   ],
   "outputs": [],
   "metadata": {
    "collapsed": false,
    "pycharm": {
     "name": "#%%\n"
    }
   }
  },
  {
   "cell_type": "code",
   "execution_count": null,
   "source": [
    "from inspect import getgeneratorstate\r\n",
    "getgeneratorstate(my_coro2)\r\n",
    "\r\n",
    "# 'GEN_CREATED'"
   ],
   "outputs": [
    {
     "output_type": "execute_result",
     "data": {
      "text/plain": [
       "'GEN_CREATED'"
      ]
     },
     "metadata": {},
     "execution_count": 32
    }
   ],
   "metadata": {
    "collapsed": false,
    "pycharm": {
     "name": "#%%\n"
    }
   }
  },
  {
   "cell_type": "code",
   "execution_count": null,
   "source": [
    "next(my_coro2)\r\n",
    "\r\n",
    "# -> Started: a =  14\r\n",
    "# 14"
   ],
   "outputs": [
    {
     "output_type": "stream",
     "name": "stdout",
     "text": [
      "-> Started: a =  14\n"
     ]
    },
    {
     "output_type": "execute_result",
     "data": {
      "text/plain": [
       "14"
      ]
     },
     "metadata": {},
     "execution_count": 33
    }
   ],
   "metadata": {
    "collapsed": false,
    "pycharm": {
     "name": "#%%\n"
    }
   }
  },
  {
   "cell_type": "markdown",
   "source": [
    "> 值得注意的是，b = yield a 这里并没有将14赋值给b，b的类型依然是None!\r\n",
    ">\r\n",
    "> 见下面的测试！\\# Test\r\n",
    ">\r\n",
    "> 关键的一点是，协程在yield关键字所在的位置暂停执行。前面说过，在赋值语句中，=右边的代码在赋值之前执行。\r\n",
    "> 因此，对于b=yield a这行代码来说，等到客户端代码再激活协程时才会设定b的值。这种行为要花点时间才能习惯，\r\n",
    "> 不过一定要理解，这样才能弄懂异步编程中yield的作用（后文探讨）。\r\n",
    "\r\n",
    "```\r\n",
    "b = yield a\r\n",
    "\r\n",
    "# 执行顺序：\r\n",
    "\r\n",
    "yield a (a 为创建函数时传入的值 14）\r\n",
    "此时调用方使用send(28)\r\n",
    "接受该28的变量时yield 等号左边的变量b\r\n",
    "即\r\n",
    "b = send(28)\r\n",
    "故 b = 28\r\n",
    "因为send方法的参数会成为暂停的yield表达式的值，所以，仅当协程处于暂停状态时才能调用send方法，\r\n",
    "\r\n",
    "这也是实现异步同步的方式！\r\n",
    "```\r\n",
    "![coro](./img/coro.png)"
   ],
   "metadata": {
    "collapsed": false,
    "pycharm": {
     "name": "#%% md\n"
    }
   }
  },
  {
   "cell_type": "code",
   "execution_count": null,
   "source": [
    "getgeneratorstate(my_coro2)\r\n",
    "# 'GEN_SUSPENDED' 在yield表达式处暂停"
   ],
   "outputs": [
    {
     "output_type": "execute_result",
     "data": {
      "text/plain": [
       "'GEN_SUSPENDED'"
      ]
     },
     "metadata": {},
     "execution_count": 34
    }
   ],
   "metadata": {
    "collapsed": false,
    "pycharm": {
     "name": "#%%\n"
    }
   }
  },
  {
   "cell_type": "code",
   "execution_count": null,
   "source": [
    "my_coro2.send(28)\r\n",
    "# -> Started: b =  28\r\n",
    "# 42"
   ],
   "outputs": [
    {
     "output_type": "stream",
     "name": "stdout",
     "text": [
      "-> Started: b =  28\n"
     ]
    },
    {
     "output_type": "execute_result",
     "data": {
      "text/plain": [
       "42"
      ]
     },
     "metadata": {},
     "execution_count": 35
    }
   ],
   "metadata": {
    "collapsed": false,
    "pycharm": {
     "name": "#%%\n"
    }
   }
  },
  {
   "cell_type": "code",
   "execution_count": null,
   "source": [
    "getgeneratorstate(my_coro2)\r\n",
    "# 'GEN_SUSPENDED' 在yield表达式处暂停\r\n",
    "# 在第一次执行yield之前，需要next来预激协程，后面使用send既可以自动直行道yield处暂停（即不再需要next）\r\n",
    "# 因此，对于b=yield a这行代码来说，等到客户端代码再激活协程时才会设定b的值。这种行为要花点时间才能习惯，"
   ],
   "outputs": [
    {
     "output_type": "execute_result",
     "data": {
      "text/plain": [
       "'GEN_SUSPENDED'"
      ]
     },
     "metadata": {},
     "execution_count": 36
    }
   ],
   "metadata": {
    "collapsed": false,
    "pycharm": {
     "name": "#%%\n"
    }
   }
  },
  {
   "cell_type": "code",
   "execution_count": null,
   "source": [
    "my_coro2.send(99)\r\n",
    "# -> Started: c =  99\r\n",
    "# StopIteration"
   ],
   "outputs": [],
   "metadata": {
    "collapsed": false,
    "pycharm": {
     "name": "#%%\n"
    }
   }
  },
  {
   "cell_type": "code",
   "execution_count": null,
   "source": [
    "getgeneratorstate(my_coro2)\r\n",
    "\r\n",
    "# 'GEN_CLOSED'"
   ],
   "outputs": [
    {
     "output_type": "execute_result",
     "data": {
      "text/plain": [
       "'GEN_CLOSED'"
      ]
     },
     "metadata": {},
     "execution_count": 21
    }
   ],
   "metadata": {
    "collapsed": false,
    "pycharm": {
     "name": "#%%\n"
    }
   }
  },
  {
   "cell_type": "code",
   "execution_count": null,
   "source": [
    "# Test\r\n",
    "\r\n",
    "my_coro2_2 = simple_coro2(14)\r\n",
    "next(my_coro2_2)"
   ],
   "outputs": [
    {
     "output_type": "stream",
     "name": "stdout",
     "text": [
      "-> Started: a =  14\n"
     ]
    },
    {
     "output_type": "execute_result",
     "data": {
      "text/plain": [
       "14"
      ]
     },
     "metadata": {},
     "execution_count": 22
    }
   ],
   "metadata": {
    "collapsed": false,
    "pycharm": {
     "name": "#%%\n"
    }
   }
  },
  {
   "cell_type": "code",
   "execution_count": null,
   "source": [
    "next(my_coro2_2)\r\n",
    "# -> Started: b =  None\r\n",
    "\r\n",
    "# 在赋值语句中，=右边的代码在赋值之前执行。\r\n",
    "# 因此，对于b=yield a这行代码来说，等到客户端代码再激活协程时才会设定b的值。这种行为要花点时间才能习惯，\r\n",
    "# 不过一定要理解，这样才能弄懂异步编程中yield的作用（后文探讨）。"
   ],
   "outputs": [
    {
     "output_type": "stream",
     "name": "stdout",
     "text": [
      "-> Started: b =  None\n"
     ]
    },
    {
     "output_type": "error",
     "ename": "TypeError",
     "evalue": "unsupported operand type(s) for +: 'int' and 'NoneType'",
     "traceback": [
      "\u001b[1;31m---------------------------------------------------------------------------\u001b[0m",
      "\u001b[1;31mTypeError\u001b[0m                                 Traceback (most recent call last)",
      "\u001b[1;32m<ipython-input-23-a513198a67fb>\u001b[0m in \u001b[0;36m<module>\u001b[1;34m\u001b[0m\n\u001b[1;32m----> 1\u001b[1;33m \u001b[0mnext\u001b[0m\u001b[1;33m(\u001b[0m\u001b[0mmy_coro2_2\u001b[0m\u001b[1;33m)\u001b[0m\u001b[1;33m\u001b[0m\u001b[1;33m\u001b[0m\u001b[0m\n\u001b[0m\u001b[0;32m      2\u001b[0m \u001b[1;33m\u001b[0m\u001b[0m\n",
      "\u001b[1;32m<ipython-input-15-d429275f393c>\u001b[0m in \u001b[0;36msimple_coro2\u001b[1;34m(a)\u001b[0m\n\u001b[0;32m      4\u001b[0m     \u001b[0mb\u001b[0m \u001b[1;33m=\u001b[0m \u001b[1;32myield\u001b[0m \u001b[0ma\u001b[0m\u001b[1;33m\u001b[0m\u001b[1;33m\u001b[0m\u001b[0m\n\u001b[0;32m      5\u001b[0m     \u001b[0mprint\u001b[0m\u001b[1;33m(\u001b[0m\u001b[1;34m'-> Started: b = '\u001b[0m\u001b[1;33m,\u001b[0m \u001b[0mb\u001b[0m\u001b[1;33m)\u001b[0m\u001b[1;33m\u001b[0m\u001b[1;33m\u001b[0m\u001b[0m\n\u001b[1;32m----> 6\u001b[1;33m     \u001b[0mc\u001b[0m \u001b[1;33m=\u001b[0m \u001b[1;32myield\u001b[0m \u001b[0ma\u001b[0m\u001b[1;33m+\u001b[0m\u001b[0mb\u001b[0m\u001b[1;33m\u001b[0m\u001b[1;33m\u001b[0m\u001b[0m\n\u001b[0m\u001b[0;32m      7\u001b[0m     \u001b[0mprint\u001b[0m\u001b[1;33m(\u001b[0m\u001b[1;34m'-> Started: c = '\u001b[0m\u001b[1;33m,\u001b[0m \u001b[0mc\u001b[0m\u001b[1;33m)\u001b[0m\u001b[1;33m\u001b[0m\u001b[1;33m\u001b[0m\u001b[0m\n\u001b[0;32m      8\u001b[0m \u001b[1;33m\u001b[0m\u001b[0m\n",
      "\u001b[1;31mTypeError\u001b[0m: unsupported operand type(s) for +: 'int' and 'NoneType'"
     ]
    }
   ],
   "metadata": {
    "collapsed": false,
    "pycharm": {
     "name": "#%%\n"
    }
   }
  },
  {
   "cell_type": "markdown",
   "source": [
    "## 16.3 示例：使用协程计算移动平均值"
   ],
   "metadata": {
    "collapsed": false,
    "pycharm": {
     "name": "#%% md\n"
    }
   }
  },
  {
   "cell_type": "code",
   "execution_count": null,
   "source": [
    "# 定义一个计算移动平均值的协程\r\n",
    "\r\n",
    "def averager():\r\n",
    "    total = 0\r\n",
    "    count = 0\r\n",
    "    average = None\r\n",
    "    while True:\r\n",
    "        term = yield average\r\n",
    "        total += term\r\n",
    "        count += 1\r\n",
    "        average = total/count\r\n",
    "\r\n",
    "a = averager()\r\n",
    "next(a) # 预激协程！\r\n",
    "a.send(1)"
   ],
   "outputs": [
    {
     "output_type": "execute_result",
     "data": {
      "text/plain": [
       "1.0"
      ]
     },
     "metadata": {},
     "execution_count": 29
    }
   ],
   "metadata": {
    "collapsed": false,
    "pycharm": {
     "name": "#%%\n"
    }
   }
  },
  {
   "cell_type": "code",
   "execution_count": null,
   "source": [
    "a.send(2)"
   ],
   "outputs": [
    {
     "output_type": "execute_result",
     "data": {
      "text/plain": [
       "1.5"
      ]
     },
     "metadata": {},
     "execution_count": 30
    }
   ],
   "metadata": {
    "collapsed": false,
    "pycharm": {
     "name": "#%%\n"
    }
   }
  },
  {
   "cell_type": "code",
   "execution_count": null,
   "source": [
    "a.send(3)"
   ],
   "outputs": [
    {
     "output_type": "execute_result",
     "data": {
      "text/plain": [
       "2.0"
      ]
     },
     "metadata": {},
     "execution_count": 37
    }
   ],
   "metadata": {
    "collapsed": false,
    "pycharm": {
     "name": "#%%\n"
    }
   }
  },
  {
   "cell_type": "markdown",
   "source": [
    "在上述doctest中（示例16-4），调用next(coro_avg)函数后，协程会向前执行到yield表达式，\r\n",
    "产出average变量的初始值——None，因此不会出现在控制台中。\r\n",
    "\r\n",
    "此时，协程在yield表达式处暂停，等到调用方发送值。\r\n",
    "coro_avg.send(10)那一行发送一个值，激活协程，把发送的值赋给term，\r\n",
    "并更新total、count和average三个变量的值，然后开始while循环的下一次迭代，\r\n",
    "产出average变量的值，等待下一次为term变量赋值。"
   ],
   "metadata": {
    "collapsed": false,
    "pycharm": {
     "name": "#%% md\n"
    }
   }
  },
  {
   "cell_type": "markdown",
   "source": [
    "## 16.4 预激协程的装饰器\n",
    "\n",
    "如果不预激，那么协程没什么用。调用my_coro.send(x)之前，记住一定要调用next(my_coro)。\n",
    "为了简化协程的用法，有时会使用一个预激装饰器。"
   ],
   "metadata": {
    "collapsed": false,
    "pycharm": {
     "name": "#%% md\n"
    }
   }
  },
  {
   "cell_type": "code",
   "execution_count": null,
   "source": [
    "# 预激协程装饰器\r\n",
    "from functools import wraps\r\n",
    "def coroutine(func):\r\n",
    "    '''\r\n",
    "    此装饰器是作者提供，不知道标准库中是否有与其功能相同的装饰器。\r\n",
    "    该装饰器的功能就是提供预激协程的功能\r\n",
    "    :param func:\r\n",
    "    :return:\r\n",
    "    '''\r\n",
    "    @wraps(func)\r\n",
    "    def primer(*args, **kwargs):\r\n",
    "        gen = func(*args, **kwargs)\r\n",
    "        next(gen) # 预激协程！！！！\r\n",
    "        return gen\r\n",
    "    return primer"
   ],
   "outputs": [],
   "metadata": {
    "collapsed": false,
    "pycharm": {
     "name": "#%%\n"
    }
   }
  },
  {
   "cell_type": "code",
   "execution_count": null,
   "source": [
    "@coroutine\r\n",
    "def averager2():\r\n",
    "    total = 0\r\n",
    "    count = 0\r\n",
    "    average = None\r\n",
    "    while True:\r\n",
    "        term = yield average\r\n",
    "        total += term\r\n",
    "        count += 1\r\n",
    "        average = total / count\r\n",
    "\r\n",
    "a2 = averager2()\r\n",
    "a2.send(1)"
   ],
   "outputs": [
    {
     "output_type": "execute_result",
     "data": {
      "text/plain": [
       "1.0"
      ]
     },
     "metadata": {},
     "execution_count": 11
    }
   ],
   "metadata": {
    "collapsed": false,
    "pycharm": {
     "name": "#%%\n"
    }
   }
  },
  {
   "cell_type": "code",
   "execution_count": null,
   "source": [
    "a2.send(2)"
   ],
   "outputs": [
    {
     "output_type": "execute_result",
     "data": {
      "text/plain": [
       "1.5"
      ]
     },
     "metadata": {},
     "execution_count": 40
    }
   ],
   "metadata": {
    "collapsed": false,
    "pycharm": {
     "name": "#%%\n"
    }
   }
  },
  {
   "cell_type": "markdown",
   "source": [
    "很多框架都提供了处理协程的特殊装饰器，不过不是所有装饰器都用于预激协程，有些会提供其他服务，\r\n",
    "例如勾入事件循环。比如说，异步网络库Tornado提供了tornado.gen装饰器。\r\n",
    "\r\n",
    "**使用yield from句法（参见16.7节）调用协程时，会自动预激，因此与示例16-5中的@coroutine等装饰器不兼容。**\r\n",
    "Python 3.4标准库里的asyncio.coroutine装饰器（第18章介绍）不会预激协程，因此能兼容yield from句法。"
   ],
   "metadata": {
    "collapsed": false,
    "pycharm": {
     "name": "#%% md\n"
    }
   }
  },
  {
   "cell_type": "markdown",
   "source": [
    "## 16.5 终止协程和异常处理\r\n",
    "协程中未处理的异常会向上冒泡，传给next函数或send方法的调用方（即触发协程的对象）。"
   ],
   "metadata": {
    "collapsed": false
   }
  },
  {
   "cell_type": "code",
   "execution_count": null,
   "source": [
    "a2.send('aaa')\r\n",
    "# TypeError: unsupported operand type(s) for +=: 'int' and 'str'"
   ],
   "outputs": [
    {
     "output_type": "error",
     "ename": "TypeError",
     "evalue": "unsupported operand type(s) for +=: 'int' and 'str'",
     "traceback": [
      "\u001b[1;31m---------------------------------------------------------------------------\u001b[0m",
      "\u001b[1;31mTypeError\u001b[0m                                 Traceback (most recent call last)",
      "\u001b[1;32m<ipython-input-42-45596b4241d6>\u001b[0m in \u001b[0;36m<module>\u001b[1;34m\u001b[0m\n\u001b[1;32m----> 1\u001b[1;33m \u001b[0ma2\u001b[0m\u001b[1;33m.\u001b[0m\u001b[0msend\u001b[0m\u001b[1;33m(\u001b[0m\u001b[1;34m'aaa'\u001b[0m\u001b[1;33m)\u001b[0m\u001b[1;33m\u001b[0m\u001b[1;33m\u001b[0m\u001b[0m\n\u001b[0m\u001b[0;32m      2\u001b[0m \u001b[1;31m# SyntaxError: invalid character in identifier\u001b[0m\u001b[1;33m\u001b[0m\u001b[1;33m\u001b[0m\u001b[1;33m\u001b[0m\u001b[0m\n",
      "\u001b[1;32m<ipython-input-39-820457d63c3e>\u001b[0m in \u001b[0;36maverager2\u001b[1;34m()\u001b[0m\n\u001b[0;32m      6\u001b[0m     \u001b[1;32mwhile\u001b[0m \u001b[1;32mTrue\u001b[0m\u001b[1;33m:\u001b[0m\u001b[1;33m\u001b[0m\u001b[1;33m\u001b[0m\u001b[0m\n\u001b[0;32m      7\u001b[0m         \u001b[0mterm\u001b[0m \u001b[1;33m=\u001b[0m \u001b[1;32myield\u001b[0m \u001b[0maverage\u001b[0m\u001b[1;33m\u001b[0m\u001b[1;33m\u001b[0m\u001b[0m\n\u001b[1;32m----> 8\u001b[1;33m         \u001b[0mtotal\u001b[0m \u001b[1;33m+=\u001b[0m \u001b[0mterm\u001b[0m\u001b[1;33m\u001b[0m\u001b[1;33m\u001b[0m\u001b[0m\n\u001b[0m\u001b[0;32m      9\u001b[0m         \u001b[0mcount\u001b[0m \u001b[1;33m+=\u001b[0m \u001b[1;36m1\u001b[0m\u001b[1;33m\u001b[0m\u001b[1;33m\u001b[0m\u001b[0m\n\u001b[0;32m     10\u001b[0m         \u001b[0maverage\u001b[0m \u001b[1;33m=\u001b[0m \u001b[0mtotal\u001b[0m \u001b[1;33m/\u001b[0m \u001b[0mcount\u001b[0m\u001b[1;33m\u001b[0m\u001b[1;33m\u001b[0m\u001b[0m\n",
      "\u001b[1;31mTypeError\u001b[0m: unsupported operand type(s) for +=: 'int' and 'str'"
     ]
    }
   ],
   "metadata": {
    "collapsed": false,
    "pycharm": {
     "name": "#%%\n"
    }
   }
  },
  {
   "cell_type": "markdown",
   "source": [
    "### 终止协程方法一：使用哨符值，让协程退出\r\n",
    "使用此方法的前提是，要在协程函数中处理异常！\r\n",
    "```\r\n",
    "my_coro.send(None)\r\n",
    "my_coro.send(Ellipsis)\r\n",
    "my_coro.send(StopIteration)\r\n",
    "```"
   ],
   "metadata": {
    "collapsed": false,
    "pycharm": {
     "name": "#%% md\n"
    }
   }
  },
  {
   "cell_type": "code",
   "execution_count": null,
   "source": [
    "my_av = averager2()\r\n",
    "my_av.send(5.0)\r\n",
    "my_av.send(10.0)"
   ],
   "outputs": [
    {
     "output_type": "execute_result",
     "data": {
      "text/plain": [
       "7.5"
      ]
     },
     "metadata": {},
     "execution_count": 57
    }
   ],
   "metadata": {
    "collapsed": false,
    "pycharm": {
     "name": "#%%\n"
    }
   }
  },
  {
   "cell_type": "code",
   "execution_count": null,
   "source": [
    "getgeneratorstate(my_av)"
   ],
   "outputs": [
    {
     "output_type": "execute_result",
     "data": {
      "text/plain": [
       "'GEN_SUSPENDED'"
      ]
     },
     "metadata": {},
     "execution_count": 58
    }
   ],
   "metadata": {
    "collapsed": false,
    "pycharm": {
     "name": "#%%\n"
    }
   }
  },
  {
   "cell_type": "code",
   "execution_count": null,
   "source": [
    "# 可以选用的哨符值： None  Ellipsis  StopIteration\r\n",
    "my_av.send(None)\r\n",
    "# 这里会被打断是因为我们没有在协程中处理异常！"
   ],
   "outputs": [
    {
     "output_type": "error",
     "ename": "TypeError",
     "evalue": "unsupported operand type(s) for +=: 'float' and 'NoneType'",
     "traceback": [
      "\u001b[1;31m---------------------------------------------------------------------------\u001b[0m",
      "\u001b[1;31mTypeError\u001b[0m                                 Traceback (most recent call last)",
      "\u001b[1;32m<ipython-input-59-54f59e668aca>\u001b[0m in \u001b[0;36m<module>\u001b[1;34m\u001b[0m\n\u001b[0;32m      1\u001b[0m \u001b[1;31m# 可以选用的哨符值： None  Ellipsis  StopIteration\u001b[0m\u001b[1;33m\u001b[0m\u001b[1;33m\u001b[0m\u001b[1;33m\u001b[0m\u001b[0m\n\u001b[1;32m----> 2\u001b[1;33m \u001b[0mmy_av\u001b[0m\u001b[1;33m.\u001b[0m\u001b[0msend\u001b[0m\u001b[1;33m(\u001b[0m\u001b[1;32mNone\u001b[0m\u001b[1;33m)\u001b[0m\u001b[1;33m\u001b[0m\u001b[1;33m\u001b[0m\u001b[0m\n\u001b[0m\u001b[0;32m      3\u001b[0m \u001b[1;31m# 这里会被打断是因为我们没有在协程中处理异常！\u001b[0m\u001b[1;33m\u001b[0m\u001b[1;33m\u001b[0m\u001b[1;33m\u001b[0m\u001b[0m\n",
      "\u001b[1;32m<ipython-input-39-820457d63c3e>\u001b[0m in \u001b[0;36maverager2\u001b[1;34m()\u001b[0m\n\u001b[0;32m      6\u001b[0m     \u001b[1;32mwhile\u001b[0m \u001b[1;32mTrue\u001b[0m\u001b[1;33m:\u001b[0m\u001b[1;33m\u001b[0m\u001b[1;33m\u001b[0m\u001b[0m\n\u001b[0;32m      7\u001b[0m         \u001b[0mterm\u001b[0m \u001b[1;33m=\u001b[0m \u001b[1;32myield\u001b[0m \u001b[0maverage\u001b[0m\u001b[1;33m\u001b[0m\u001b[1;33m\u001b[0m\u001b[0m\n\u001b[1;32m----> 8\u001b[1;33m         \u001b[0mtotal\u001b[0m \u001b[1;33m+=\u001b[0m \u001b[0mterm\u001b[0m\u001b[1;33m\u001b[0m\u001b[1;33m\u001b[0m\u001b[0m\n\u001b[0m\u001b[0;32m      9\u001b[0m         \u001b[0mcount\u001b[0m \u001b[1;33m+=\u001b[0m \u001b[1;36m1\u001b[0m\u001b[1;33m\u001b[0m\u001b[1;33m\u001b[0m\u001b[0m\n\u001b[0;32m     10\u001b[0m         \u001b[0maverage\u001b[0m \u001b[1;33m=\u001b[0m \u001b[0mtotal\u001b[0m \u001b[1;33m/\u001b[0m \u001b[0mcount\u001b[0m\u001b[1;33m\u001b[0m\u001b[1;33m\u001b[0m\u001b[0m\n",
      "\u001b[1;31mTypeError\u001b[0m: unsupported operand type(s) for +=: 'float' and 'NoneType'"
     ]
    }
   ],
   "metadata": {
    "collapsed": false,
    "pycharm": {
     "name": "#%%\n"
    }
   }
  },
  {
   "cell_type": "code",
   "execution_count": null,
   "source": [
    "getgeneratorstate(my_av)\r\n",
    "# 'GEN_CLOSED'"
   ],
   "outputs": [
    {
     "output_type": "execute_result",
     "data": {
      "text/plain": [
       "'GEN_CLOSED'"
      ]
     },
     "metadata": {},
     "execution_count": 60
    }
   ],
   "metadata": {
    "collapsed": false,
    "pycharm": {
     "name": "#%%\n"
    }
   }
  },
  {
   "cell_type": "markdown",
   "source": [
    "### 终止协程方法二：使用close()方法"
   ],
   "metadata": {
    "collapsed": false,
    "pycharm": {
     "name": "#%% md\n"
    }
   }
  },
  {
   "cell_type": "code",
   "execution_count": null,
   "source": [
    "my_av2 = averager2()\r\n",
    "my_av2.send(5.0)\r\n",
    "my_av2.send(10.0)\r\n",
    "getgeneratorstate(my_av2)"
   ],
   "outputs": [
    {
     "output_type": "execute_result",
     "data": {
      "text/plain": [
       "'GEN_SUSPENDED'"
      ]
     },
     "metadata": {},
     "execution_count": 61
    }
   ],
   "metadata": {
    "collapsed": false,
    "pycharm": {
     "name": "#%%\n"
    }
   }
  },
  {
   "cell_type": "code",
   "execution_count": null,
   "source": [
    "my_av2.close()\r\n",
    "getgeneratorstate(my_av2)"
   ],
   "outputs": [
    {
     "output_type": "execute_result",
     "data": {
      "text/plain": [
       "'GEN_CLOSED'"
      ]
     },
     "metadata": {},
     "execution_count": 62
    }
   ],
   "metadata": {
    "collapsed": false,
    "pycharm": {
     "name": "#%%\n"
    }
   }
  },
  {
   "cell_type": "markdown",
   "source": [
    "### generator.throw(exc_type[, exc_value[, traceback]])\r\n",
    "致使生成器在暂停的yield表达式处抛出指定的异常。\r\n",
    "\r\n",
    "如果生成器处理了抛出的异常，代码会向前执行到下一个yield表达式，\r\n",
    "而产出的值会成为调用generator.throw方法得到的返回值。\r\n",
    "\r\n",
    "如果生成器没有处理抛出的异常，异常会向上冒泡，传到调用方的上下文中。\r\n",
    "\r\n",
    "### generator.close（）\r\n",
    "\r\n",
    "致使生成器在暂停的yield表达式处抛出GeneratorExit异常。\r\n",
    "\r\n",
    "如果生成器没有处理这个异常，或者抛出了StopIteration异常（通常是指运行到结尾），调用方不会报错。\r\n",
    "\r\n",
    "如果收到GeneratorExit异常，生成器一定不能产出值，否则解释器会抛出RuntimeError异常。\r\n",
    "生成器抛出的其他异常会向上冒泡，传给调用方。"
   ],
   "metadata": {
    "collapsed": false,
    "pycharm": {
     "name": "#%% md\n"
    }
   }
  },
  {
   "cell_type": "markdown",
   "source": [
    "---\n",
    "### 如何使用throw和close"
   ],
   "metadata": {
    "collapsed": false
   }
  },
  {
   "cell_type": "code",
   "execution_count": null,
   "source": [
    "# 自定义一个异常，为了演示方便\r\n",
    "class DemoException(Exception):\r\n",
    "    \"\"\"\r\n",
    "    为了演示定义的异常类型\r\n",
    "    \"\"\"\r\n",
    "\r\n",
    "def demo_exc_handling():\r\n",
    "    print('-> coroutine started')\r\n",
    "    while True:\r\n",
    "        try:\r\n",
    "            x = yield\r\n",
    "        except DemoException:\r\n",
    "            print('*** DemoException handled. Continuing...')\r\n",
    "        else:\r\n",
    "            print('-> coroutine received:{!r}'.format(x))\r\n",
    "    raise RuntimeError('This line should never run')"
   ],
   "outputs": [],
   "metadata": {
    "collapsed": false,
    "pycharm": {
     "name": "#%%\n"
    }
   }
  },
  {
   "cell_type": "code",
   "execution_count": null,
   "source": [
    "exc_coro = demo_exc_handling()\r\n",
    "next(exc_coro)"
   ],
   "outputs": [
    {
     "output_type": "stream",
     "name": "stdout",
     "text": [
      "-> coroutine started\n"
     ]
    }
   ],
   "metadata": {
    "collapsed": false,
    "pycharm": {
     "name": "#%%\n"
    }
   }
  },
  {
   "cell_type": "code",
   "execution_count": null,
   "source": [
    "exc_coro.send(11)"
   ],
   "outputs": [
    {
     "output_type": "stream",
     "name": "stdout",
     "text": [
      "-> coroutine received:11\n"
     ]
    }
   ],
   "metadata": {
    "collapsed": false,
    "pycharm": {
     "name": "#%%\n"
    }
   }
  },
  {
   "cell_type": "code",
   "execution_count": null,
   "source": [
    "# 如果传入的异常协程已经处理，就会继续运行\r\n",
    "exc_coro.throw(DemoException)"
   ],
   "outputs": [
    {
     "output_type": "stream",
     "name": "stdout",
     "text": [
      "*** DemoException handled. Continuing...\n"
     ]
    }
   ],
   "metadata": {
    "collapsed": false,
    "pycharm": {
     "name": "#%%\n"
    }
   }
  },
  {
   "cell_type": "code",
   "execution_count": null,
   "source": [
    "getgeneratorstate(exc_coro)"
   ],
   "outputs": [
    {
     "output_type": "execute_result",
     "data": {
      "text/plain": [
       "'GEN_SUSPENDED'"
      ]
     },
     "metadata": {},
     "execution_count": 75
    }
   ],
   "metadata": {
    "collapsed": false,
    "pycharm": {
     "name": "#%%\n"
    }
   }
  },
  {
   "cell_type": "code",
   "execution_count": null,
   "source": [
    "# 如果传入的异常协程没有处理，就会停止\r\n",
    "exc_coro.throw(ZeroDivisionError)\r\n",
    "# 而且异常会向上传递！"
   ],
   "outputs": [
    {
     "output_type": "error",
     "ename": "ZeroDivisionError",
     "evalue": "",
     "traceback": [
      "\u001b[1;31m---------------------------------------------------------------------------\u001b[0m",
      "\u001b[1;31mZeroDivisionError\u001b[0m                         Traceback (most recent call last)",
      "\u001b[1;32m<ipython-input-76-2b0c163f7b62>\u001b[0m in \u001b[0;36m<module>\u001b[1;34m\u001b[0m\n\u001b[0;32m      1\u001b[0m \u001b[1;31m# 如果传入的异常协程没有处理，就会停止\u001b[0m\u001b[1;33m\u001b[0m\u001b[1;33m\u001b[0m\u001b[1;33m\u001b[0m\u001b[0m\n\u001b[1;32m----> 2\u001b[1;33m \u001b[0mexc_coro\u001b[0m\u001b[1;33m.\u001b[0m\u001b[0mthrow\u001b[0m\u001b[1;33m(\u001b[0m\u001b[0mZeroDivisionError\u001b[0m\u001b[1;33m)\u001b[0m\u001b[1;33m\u001b[0m\u001b[1;33m\u001b[0m\u001b[0m\n\u001b[0m",
      "\u001b[1;32m<ipython-input-65-d2c8a48472e1>\u001b[0m in \u001b[0;36mdemo_exc_handling\u001b[1;34m()\u001b[0m\n\u001b[0;32m      9\u001b[0m     \u001b[1;32mwhile\u001b[0m \u001b[1;32mTrue\u001b[0m\u001b[1;33m:\u001b[0m\u001b[1;33m\u001b[0m\u001b[1;33m\u001b[0m\u001b[0m\n\u001b[0;32m     10\u001b[0m         \u001b[1;32mtry\u001b[0m\u001b[1;33m:\u001b[0m\u001b[1;33m\u001b[0m\u001b[1;33m\u001b[0m\u001b[0m\n\u001b[1;32m---> 11\u001b[1;33m             \u001b[0mx\u001b[0m \u001b[1;33m=\u001b[0m \u001b[1;32myield\u001b[0m\u001b[1;33m\u001b[0m\u001b[1;33m\u001b[0m\u001b[0m\n\u001b[0m\u001b[0;32m     12\u001b[0m         \u001b[1;32mexcept\u001b[0m \u001b[0mDemoException\u001b[0m\u001b[1;33m:\u001b[0m\u001b[1;33m\u001b[0m\u001b[1;33m\u001b[0m\u001b[0m\n\u001b[0;32m     13\u001b[0m             \u001b[0mprint\u001b[0m\u001b[1;33m(\u001b[0m\u001b[1;34m'*** DemoException handled. Continuing...'\u001b[0m\u001b[1;33m)\u001b[0m\u001b[1;33m\u001b[0m\u001b[1;33m\u001b[0m\u001b[0m\n",
      "\u001b[1;31mZeroDivisionError\u001b[0m: "
     ]
    }
   ],
   "metadata": {
    "collapsed": false,
    "pycharm": {
     "name": "#%%\n"
    }
   }
  },
  {
   "cell_type": "code",
   "execution_count": null,
   "source": [
    "getgeneratorstate(exc_coro)\r\n",
    "# 'GEN_CLOSED'"
   ],
   "outputs": [
    {
     "output_type": "execute_result",
     "data": {
      "text/plain": [
       "'GEN_CLOSED'"
      ]
     },
     "metadata": {},
     "execution_count": 77
    }
   ],
   "metadata": {
    "collapsed": false,
    "pycharm": {
     "name": "#%%\n"
    }
   }
  },
  {
   "cell_type": "code",
   "execution_count": null,
   "source": [
    "# 手动关闭！\r\n",
    "exc_coro.close()"
   ],
   "outputs": [],
   "metadata": {
    "collapsed": false,
    "pycharm": {
     "name": "#%%\n"
    }
   }
  },
  {
   "cell_type": "code",
   "execution_count": null,
   "source": [
    "getgeneratorstate(exc_coro)\r\n",
    "# 'GEN_CLOSED'"
   ],
   "outputs": [
    {
     "output_type": "execute_result",
     "data": {
      "text/plain": [
       "'GEN_CLOSED'"
      ]
     },
     "metadata": {},
     "execution_count": 79
    }
   ],
   "metadata": {
    "collapsed": false,
    "pycharm": {
     "name": "#%%\n"
    }
   }
  },
  {
   "cell_type": "code",
   "execution_count": null,
   "source": [
    "# 如果不管协程如何结束都想做些清理工作，要把协程定义体中相关的代码放入try/finally块中\r\n",
    "def demo_finally():\r\n",
    "    print('-> coroutine started')\r\n",
    "    try:\r\n",
    "        while True:\r\n",
    "            try:\r\n",
    "                x = yield\r\n",
    "            except DemoException:\r\n",
    "                print('*** DemoException handled. Continuing...')\r\n",
    "            else:\r\n",
    "                print('-> coroutine received:{!r}'.format(x))\r\n",
    "    finally:\r\n",
    "        print('-> coroutine ending!')\r\n"
   ],
   "outputs": [],
   "metadata": {
    "collapsed": false,
    "pycharm": {
     "name": "#%%\n"
    }
   }
  },
  {
   "cell_type": "code",
   "execution_count": null,
   "source": [
    "df = demo_finally()\r\n",
    "next(df)\r\n",
    "df.send(1)"
   ],
   "outputs": [
    {
     "output_type": "stream",
     "name": "stdout",
     "text": [
      "-> coroutine started\n",
      "-> coroutine received:1\n"
     ]
    }
   ],
   "metadata": {
    "collapsed": false,
    "pycharm": {
     "name": "#%%\n"
    }
   }
  },
  {
   "cell_type": "code",
   "execution_count": null,
   "source": [
    "df.throw(ZeroDivisionError)"
   ],
   "outputs": [
    {
     "output_type": "stream",
     "name": "stdout",
     "text": [
      "-> coroutine ending!\n"
     ]
    },
    {
     "output_type": "error",
     "ename": "ZeroDivisionError",
     "evalue": "",
     "traceback": [
      "\u001b[1;31m---------------------------------------------------------------------------\u001b[0m",
      "\u001b[1;31mZeroDivisionError\u001b[0m                         Traceback (most recent call last)",
      "\u001b[1;32m<ipython-input-83-54af621fc068>\u001b[0m in \u001b[0;36m<module>\u001b[1;34m\u001b[0m\n\u001b[1;32m----> 1\u001b[1;33m \u001b[0mdf\u001b[0m\u001b[1;33m.\u001b[0m\u001b[0mthrow\u001b[0m\u001b[1;33m(\u001b[0m\u001b[0mZeroDivisionError\u001b[0m\u001b[1;33m)\u001b[0m\u001b[1;33m\u001b[0m\u001b[1;33m\u001b[0m\u001b[0m\n\u001b[0m",
      "\u001b[1;32m<ipython-input-80-5fc13340c0b1>\u001b[0m in \u001b[0;36mdemo_finally\u001b[1;34m()\u001b[0m\n\u001b[0;32m      5\u001b[0m         \u001b[1;32mwhile\u001b[0m \u001b[1;32mTrue\u001b[0m\u001b[1;33m:\u001b[0m\u001b[1;33m\u001b[0m\u001b[1;33m\u001b[0m\u001b[0m\n\u001b[0;32m      6\u001b[0m             \u001b[1;32mtry\u001b[0m\u001b[1;33m:\u001b[0m\u001b[1;33m\u001b[0m\u001b[1;33m\u001b[0m\u001b[0m\n\u001b[1;32m----> 7\u001b[1;33m                 \u001b[0mx\u001b[0m \u001b[1;33m=\u001b[0m \u001b[1;32myield\u001b[0m\u001b[1;33m\u001b[0m\u001b[1;33m\u001b[0m\u001b[0m\n\u001b[0m\u001b[0;32m      8\u001b[0m             \u001b[1;32mexcept\u001b[0m \u001b[0mDemoException\u001b[0m\u001b[1;33m:\u001b[0m\u001b[1;33m\u001b[0m\u001b[1;33m\u001b[0m\u001b[0m\n\u001b[0;32m      9\u001b[0m                 \u001b[0mprint\u001b[0m\u001b[1;33m(\u001b[0m\u001b[1;34m'*** DemoException handled. Continuing...'\u001b[0m\u001b[1;33m)\u001b[0m\u001b[1;33m\u001b[0m\u001b[1;33m\u001b[0m\u001b[0m\n",
      "\u001b[1;31mZeroDivisionError\u001b[0m: "
     ]
    }
   ],
   "metadata": {
    "collapsed": false,
    "pycharm": {
     "name": "#%%\n"
    }
   }
  },
  {
   "cell_type": "markdown",
   "source": [
    "## 16.6 让协程返回值"
   ],
   "metadata": {
    "collapsed": false,
    "pycharm": {
     "name": "#%% md\n"
    }
   }
  },
  {
   "cell_type": "code",
   "execution_count": null,
   "source": [
    "# 测试之前的函数\r\n",
    "av = averager2()\r\n",
    "a = av.send(20)\r\n",
    "b = av.send(40)\r\n",
    "a,b"
   ],
   "outputs": [
    {
     "output_type": "execute_result",
     "data": {
      "text/plain": [
       "(20.0, 30.0)"
      ]
     },
     "metadata": {},
     "execution_count": 20
    }
   ],
   "metadata": {
    "collapsed": false,
    "pycharm": {
     "name": "#%%\n"
    }
   }
  },
  {
   "cell_type": "code",
   "execution_count": null,
   "source": [
    "# 定义一个求平均值的协程，让它返回一个结果\r\n",
    "from collections import namedtuple\r\n",
    "Result  = namedtuple('Result', 'count average')\r\n",
    "@coroutine\r\n",
    "def averager_result():\r\n",
    "    total = 0.0\r\n",
    "    count = 0\r\n",
    "    average = None\r\n",
    "    while True:\r\n",
    "        term = yield\r\n",
    "        if term is None:\r\n",
    "            break #为了返回值，协程必须正常终止\r\n",
    "        total += term\r\n",
    "        count += 1\r\n",
    "        average = total/count\r\n",
    "    return Result(count, average)"
   ],
   "outputs": [],
   "metadata": {}
  },
  {
   "cell_type": "code",
   "execution_count": null,
   "source": [
    "coro_avg = averager_result()\r\n",
    "coro_avg.send(10)\r\n",
    "coro_avg.send(20)\r\n",
    "coro_avg.send(30)\r\n",
    "coro_avg.send(40)\r\n",
    "coro_avg.send(None) # 终止协程\r\n",
    "# 注意，return表达式的值会偷偷传给调用方，赋值给StopIteration异常的一个属性。\r\n",
    "# 这样做有点不合常理，但是能保留生成器对象的常规行为——耗尽时抛出StopIteration异常"
   ],
   "outputs": [
    {
     "output_type": "error",
     "ename": "StopIteration",
     "evalue": "Result(count=4, average=25.0)",
     "traceback": [
      "\u001b[1;31m---------------------------------------------------------------------------\u001b[0m",
      "\u001b[1;31mStopIteration\u001b[0m                             Traceback (most recent call last)",
      "\u001b[1;32m<ipython-input-22-d60a2cbb0300>\u001b[0m in \u001b[0;36m<module>\u001b[1;34m\u001b[0m\n\u001b[0;32m      4\u001b[0m \u001b[0mcoro_avg\u001b[0m\u001b[1;33m.\u001b[0m\u001b[0msend\u001b[0m\u001b[1;33m(\u001b[0m\u001b[1;36m30\u001b[0m\u001b[1;33m)\u001b[0m\u001b[1;33m\u001b[0m\u001b[1;33m\u001b[0m\u001b[0m\n\u001b[0;32m      5\u001b[0m \u001b[0mcoro_avg\u001b[0m\u001b[1;33m.\u001b[0m\u001b[0msend\u001b[0m\u001b[1;33m(\u001b[0m\u001b[1;36m40\u001b[0m\u001b[1;33m)\u001b[0m\u001b[1;33m\u001b[0m\u001b[1;33m\u001b[0m\u001b[0m\n\u001b[1;32m----> 6\u001b[1;33m \u001b[0mcoro_avg\u001b[0m\u001b[1;33m.\u001b[0m\u001b[0msend\u001b[0m\u001b[1;33m(\u001b[0m\u001b[1;32mNone\u001b[0m\u001b[1;33m)\u001b[0m \u001b[1;31m# 终止协程\u001b[0m\u001b[1;33m\u001b[0m\u001b[1;33m\u001b[0m\u001b[0m\n\u001b[0m",
      "\u001b[1;31mStopIteration\u001b[0m: Result(count=4, average=25.0)"
     ]
    }
   ],
   "metadata": {}
  },
  {
   "cell_type": "code",
   "execution_count": null,
   "source": [
    "# 捕获StopIteration异常，获取averager返回的值\r\n",
    "coro_avg = averager_result()\r\n",
    "coro_avg.send(10)\r\n",
    "coro_avg.send(20)\r\n",
    "coro_avg.send(30)\r\n",
    "coro_avg.send(40)\r\n",
    "try:\r\n",
    "    coro_avg.send(None)\r\n",
    "except StopIteration as exc:\r\n",
    "    result = exc.value\r\n",
    "\r\n",
    "result"
   ],
   "outputs": [
    {
     "output_type": "execute_result",
     "data": {
      "text/plain": [
       "Result(count=4, average=25.0)"
      ]
     },
     "metadata": {},
     "execution_count": 23
    }
   ],
   "metadata": {}
  },
  {
   "cell_type": "markdown",
   "source": [
    "yield from结构会在内部自动捕获StopIteration异常。\r\n",
    "\r\n",
    "这种处理方式与for循环处理StopIteration异常的方式一样：循环机制使用用户易于理解的方式处理异常。\r\n",
    "\r\n",
    "对yield from结构来说，解释器不仅会捕获StopIteration异常，还会把value属性的值变成yield from表达式的值。\r\n",
    "可惜，我们无法在控制台中使用交互的方式测试这种行为，因为在函数外部使用yield from（以及yield）会导致句法出错。"
   ],
   "metadata": {}
  },
  {
   "cell_type": "markdown",
   "source": [
    "## 16.7 使用yield from\r\n",
    "\r\n",
    "它的作用比yield多很多，因此人们认为继续使用那个关键字多少会引起误解。\r\n",
    "\r\n",
    "在其他语言中，类似的结构使用*await*关键字，这个名称好多了，因为它传达了至关重要的一点：\r\n",
    "\r\n",
    "在生成器gen中使用yield from subgen()时，subgen会获得控制权，把产出的值传给gen的调用方，即调用方可以直接控制subgen。与此同时，gen会阻塞，等待subgen终止。"
   ],
   "metadata": {}
  },
  {
   "cell_type": "code",
   "execution_count": null,
   "source": [
    "# 回顾yield from的基本用法\r\n",
    "def gen():\r\n",
    "    yield from 'ABCDEFG'\r\n",
    "    yield from 'HIJKLMN'\r\n",
    "\r\n",
    "for g in gen():\r\n",
    "    print(g)"
   ],
   "outputs": [
    {
     "output_type": "stream",
     "name": "stdout",
     "text": [
      "A\n",
      "B\n",
      "C\n",
      "D\n",
      "E\n",
      "F\n",
      "G\n",
      "H\n",
      "I\n",
      "J\n",
      "K\n",
      "L\n",
      "M\n",
      "N\n"
     ]
    }
   ],
   "metadata": {}
  },
  {
   "cell_type": "code",
   "execution_count": null,
   "source": [
    "# 回顾yield from的基本用法\r\n",
    "def chain(*iteration):\r\n",
    "    for it in iteration:\r\n",
    "        yield from it\r\n",
    "\r\n",
    "a = 'ABCDEFG'\r\n",
    "b = 'HIJKLMN'\r\n",
    "list(chain(a,b))"
   ],
   "outputs": [
    {
     "output_type": "execute_result",
     "data": {
      "text/plain": [
       "['A', 'B', 'C', 'D', 'E', 'F', 'G', 'H', 'I', 'J', 'K', 'L', 'M', 'N']"
      ]
     },
     "metadata": {},
     "execution_count": 29
    }
   ],
   "metadata": {}
  },
  {
   "cell_type": "markdown",
   "source": [
    "yield from的主要功能是**打开双向通道，把最外层的调用方与最内层的子生成器连接起来，**这样二者可以直接发送和产出值，还可以直接传入异常，而不用在位于中间的协程中添加大量处理异常的样板代码。有了这个结构，协程可以通过以前不可能的方式委托职责。\r\n",
    "\r\n",
    "**把职责委托给子生成器的句法**\r\n",
    "\r\n",
    "- 委派生成器：包含yield from <iterable>表达式的生成器函数。\r\n",
    "- 子生成器：从yield from表达式中<iterable>部分获取的生成器。\r\n",
    "- 调用方（客户端）：“调用方”这个术语指代调用委派生成器的客户端代码。\r\n",
    "\r\n",
    "![coroutine](./img/委派生成器.png)"
   ],
   "metadata": {}
  },
  {
   "cell_type": "code",
   "execution_count": null,
   "source": [
    "# BEGIN YIELD_FROM_AVERAGER\r\n",
    "from collections import namedtuple\r\n",
    "\r\n",
    "Result = namedtuple('Result', 'count average')\r\n",
    "\r\n",
    "'''\r\n",
    "yield from的主要功能是打开双向通道，把最外层的调用方与最内层的子生成器连接起来，这样二者可以直接发送和产出值，还可以直接传入异常，\r\n",
    "而不用在位于中间的协程中添加大量处理异常的样板代码。有了这个结构，协程可以通过以前不可能的方式委托职责。\r\n",
    "'''\r\n",
    "# 子生成器\r\n",
    "def averager():\r\n",
    "    total = 0.0\r\n",
    "    count = 0\r\n",
    "    average = None\r\n",
    "    while True:\r\n",
    "        term = yield        # main函数中的客户代码发送的各个值绑定到这里的term变量上 \r\n",
    "        if term is None:    # 至关重要的终止条件。如果不这么做，使用yield from调用这个协程的生成器会永远阻塞\r\n",
    "            break\r\n",
    "        total += term\r\n",
    "        count += 1\r\n",
    "        average = total/count\r\n",
    "    return Result(count, average)  # 返回的Result会成为grouper函数中yield from表达式的值\r\n",
    "\r\n",
    "# 委派生成器\r\n",
    "def grouper(results, key):\r\n",
    "    while True:  # 这个循环每次迭代时会新建一个averager实例；每个实例都是作为协程使用的生成器对象。\r\n",
    "        results[key] = yield from averager()\r\n",
    "        # grouper发送的每个值都会经由yield from处理，通过管道传给averager实例。grouper会在yield from表达式处暂停，\r\n",
    "        # 等待averager实例处理客户端发来的值。averager实例运行完毕后，返回的值绑定到results[key]上。while循环会不断创建averager实例，处理更多的值。\r\n",
    "\r\n",
    "# 客户端代码\r\n",
    "def main(data):\r\n",
    "    results = {}\r\n",
    "    for key, values in data.items():\r\n",
    "        group = grouper(results, key) # group是调用grouper函数得到的生成器对象，传给grouper函数的第一个参数是results，用于收集结果；第二个参数是某个键。group作为协程使用。\r\n",
    "        next(group) # 预激group协程\r\n",
    "        for value in values:\r\n",
    "            group.send(value) # 把各个value传给grouper。传入的值最终到达averager函数中term=yield那一行；grouper永远不知道传入的值是什么。\r\n",
    "        group.send(None) # 重要！至关重要的终止条件。如果不这么做，使用yield from调用这个协程的生成器会永远阻塞。也就是获得不了返回值，results是空的。\r\n",
    "        # 把None传入grouper，导致当前的averager实例终止，也让grouper继续运行，再创建一个averager实例，处理下一组值。\r\n",
    "    #print(results)\r\n",
    "    report(results)\r\n",
    "\r\n",
    "\r\n",
    "def report(results):\r\n",
    "    for key, result in sorted(results.items()):\r\n",
    "        group, unit = key.split(';')\r\n",
    "        print(\"{:2} {:5} averaging {:.2f} {}\".format(\r\n",
    "            result.count, group, result.average, unit\r\n",
    "        ))\r\n",
    "\r\n",
    "\r\n",
    "data = {\r\n",
    "    'girls;kg':\r\n",
    "        [40.9, 38.5, 44.3, 42.2, 45.2, 41.7, 44.5, 38.0, 40.6, 44.5],\r\n",
    "    'girls;m':\r\n",
    "        [1.6, 1.51, 1.4, 1.3, 1.41, 1.39, 1.33, 1.46, 1.45, 1.43],\r\n",
    "    'boys;kg':\r\n",
    "        [39.0, 40.8, 43.2, 40.8, 43.1, 38.6, 41.4, 40.6, 36.3],\r\n",
    "    'boys;m':\r\n",
    "        [1.38, 1.5, 1.32, 1.25, 1.37, 1.48, 1.25, 1.49, 1.46],\r\n",
    "}\r\n",
    "\r\n",
    "\r\n",
    "if __name__ == '__main__':\r\n",
    "    main(data)\r\n",
    "\r\n",
    "# END YIELD_FROM_AVERAGER"
   ],
   "outputs": [
    {
     "output_type": "stream",
     "name": "stdout",
     "text": [
      " 9 boys  averaging 40.42 kg\n",
      " 9 boys  averaging 1.39 m\n",
      "10 girls averaging 42.04 kg\n",
      "10 girls averaging 1.43 m\n"
     ]
    }
   ],
   "metadata": {}
  },
  {
   "cell_type": "markdown",
   "source": [
    "### 上面例子运行过程：\r\n",
    "\r\n",
    "1. 外层for循环每次迭代会新建一个grouper实例，赋值给group变量；group是委派生成器。\r\n",
    "\r\n",
    "2. 调用next(group)，预激委派生成器grouper，此时进入while True循环，调用子生成器averager后，在yield from表达式处暂停。\r\n",
    "\r\n",
    "3. 内层for循环调用group.send(value)，直接把值传给子生成器averager。同时，当前的grouper实例（group）在yield from表达式处暂停。\r\n",
    "\r\n",
    "4. 内层循环结束后，group实例依旧在yield from表达式处暂停，因此，grouper函数定义体中为results[key]赋值的语句还没有执行。\r\n",
    "\r\n",
    "5. 如果外层for循环的末尾没有group.send(None)，那么averager子生成器永远不会终止，委派生成器group永远不会再次激活，因此永远不会为results[key]赋值。\r\n",
    "\r\n",
    "6. 外层for循环重新迭代时会新建一个grouper实例，然后绑定到group变量上。前一个grouper实例（以及它创建的尚未终止的averager子生成器实例）被垃圾回收程序回收。"
   ],
   "metadata": {}
  },
  {
   "cell_type": "code",
   "execution_count": 9,
   "source": [
    "# 练习yield from方法\r\n",
    "from collections import namedtuple\r\n",
    "from inspect import getcoroutinestate\r\n",
    "\r\n",
    "Result  = namedtuple('Result','count total average')\r\n",
    "\r\n",
    "# 子生成器\r\n",
    "def subgen():\r\n",
    "    v = 0\r\n",
    "    total = 0\r\n",
    "    count = 0\r\n",
    "    av = 0\r\n",
    "    while True:\r\n",
    "        v = yield av\r\n",
    "        if v is None:\r\n",
    "            break # 终止子协程，返回结果\r\n",
    "        total += v\r\n",
    "        count += 1\r\n",
    "        av = total/count\r\n",
    "    return Result(count, total, av)\r\n",
    "\r\n",
    "\r\n",
    "# 委派生成器\r\n",
    "def corougen(result, key):\r\n",
    "    while True:\r\n",
    "        result[key] = yield from subgen()\r\n",
    "\r\n",
    "\r\n",
    "# 客户端代码\r\n",
    "def main(data):\r\n",
    "    results = {}\r\n",
    "    for key, values in data.items():\r\n",
    "        gen = corougen(results, key)\r\n",
    "        next(gen)\r\n",
    "        for value in values:\r\n",
    "            gen.send(value)\r\n",
    "        gen.send(None) # 获得返回值！\r\n",
    "    report(results)\r\n",
    "\r\n",
    "# 打印代码\r\n",
    "def report(results):\r\n",
    "    for key, values in sorted(results.items()):\r\n",
    "        group, unit = key.split(';')\r\n",
    "        print(\"{:2} {:4} average is {:.2f} {}\".format(values.count, group, values.average, unit))\r\n",
    "\r\n",
    "\r\n",
    "data = {\r\n",
    "    'girls;kg':\r\n",
    "        [40.9, 38.5, 44.3, 42.2, 45.2, 41.7, 44.5, 38.0, 40.6, 44.5],\r\n",
    "    'girls;m':\r\n",
    "        [1.6, 1.51, 1.4, 1.3, 1.41, 1.39, 1.33, 1.46, 1.45, 1.43],\r\n",
    "    'boys;kg':\r\n",
    "        [39.0, 40.8, 43.2, 40.8, 43.1, 38.6, 41.4, 40.6, 36.3],\r\n",
    "    'boys;m':\r\n",
    "        [1.38, 1.5, 1.32, 1.25, 1.37, 1.48, 1.25, 1.49, 1.46],\r\n",
    "}\r\n",
    "\r\n",
    "\r\n",
    "if __name__ == \"__main__\":\r\n",
    "    main(data)\r\n"
   ],
   "outputs": [
    {
     "output_type": "stream",
     "name": "stdout",
     "text": [
      " 9 boys average is 40.42 kg\n",
      " 9 boys average is 1.39 m\n",
      "10 girls average is 42.04 kg\n",
      "10 girls average is 1.43 m\n"
     ]
    }
   ],
   "metadata": {}
  },
  {
   "cell_type": "markdown",
   "source": [
    "因为委派生成器相当于管道，所以可以把任意数量个委派生成器连接在一起：一个委派生成器使用yield from调用一个子生成器，而那个子生成器本身也是委派生成器，使用yield from调用另一个子生成器，以此类推。最终，这个链条要以一个只使用yield表达式的简单生成器结束；\r\n",
    "\r\n",
    "任何yield from链条都必须由客户驱动，在最外层委派生成器上调用next(...)函数或.send(...)方法。可以隐式调用，例如使用for循环。"
   ],
   "metadata": {}
  },
  {
   "cell_type": "markdown",
   "source": [
    "## 16.8 yield from的意义\r\n",
    "\r\n",
    "把迭代器当作生成器使用，相当于把子生成器的定义体内联在yield from表达式中。此外，子生成器可以执行return语句，返回一个值，而返回的值会成为yieldfrom表达式的值。"
   ],
   "metadata": {}
  },
  {
   "cell_type": "markdown",
   "source": [
    "### 六点说明了yield from的行为\r\n",
    "\r\n",
    "1. 子生成器产出的值都直接传给委派生成器的调用方（即客户端代码）。\r\n",
    "\r\n",
    "2. 使用send（）方法发给委派生成器的值都直接传给子生成器。如果发送的值是None，那么会调用子生成器的__next__（）方法。\r\n",
    "如果发送的值不是None，那么会调用子生成器的send（）方法。\r\n",
    "如果调用的方法抛出StopIteration异常，那么委派生成器恢复运行。任何其他异常都会向上冒泡，传给委派生成器。\r\n",
    "\r\n",
    "3. 生成器退出时，生成器（或子生成器）中的return expr表达式会触发StopIteration(expr)异常抛出。\r\n",
    "\r\n",
    "4. yield from表达式的值是子生成器终止时传给StopIteration异常的第一个参数。\r\n",
    "\r\n",
    "5. 传入委派生成器的异常，除了GeneratorExit之外都传给子生成器的throw（）方法。如果调用throw（）方法时抛出StopIteration异常，委派生成器恢复运行。StopIteration之外的异常会向上冒泡，传给委派生成器。\r\n",
    "\r\n",
    "6. 如果把GeneratorExit异常传入委派生成器，或者在委派生成器上调用close（　）方法，那么在子生成器上调用close（　）方法，如果它有的话。如果调用close（　）方法导致异常抛出，那么异常会向上冒泡，传给委派生成器；否则，委派生成器抛出GeneratorExit异常。"
   ],
   "metadata": {}
  },
  {
   "cell_type": "markdown",
   "source": [
    "### 利用伪代码演示yield from做了什么"
   ],
   "metadata": {}
  },
  {
   "cell_type": "code",
   "execution_count": null,
   "source": [
    "# 利用伪代码演示yield from做了什么\r\n",
    "RESULT = yield from EXPR  \r\n",
    "\r\n",
    "# yield from 的简化伪代码 (不考虑其他类型的异常，以及.throw(...)和.close（　）方法)\r\n",
    "\r\n",
    "# _i (迭代器) : 子生成器\r\n",
    "# _y（产出的值）: 子生成器产出的值  \r\n",
    "# _r（结果）: 最终的结果（即子生成器运行结束后yield from表达式的值）\r\n",
    "# _s（发送的值）: 调用方发给委派生成器的值，这个值会转发给子生成器\r\n",
    "# _e（异常）: 异常对象（在这段简化的伪代码中始终是StopIteration实例）\r\n",
    "def yieldfromfunc():\r\n",
    "    _i = iter(EXPR) # EXPR可以是任何可迭代的对象，因为获取迭代器_i（这是子生成器）使用的是iter（）函数。\r\n",
    "    try:\r\n",
    "        _y = next(_i)  # 预激子生成器；结果保存在_y中，作为产出的第一个值。\r\n",
    "    except StopIteration as _e:\r\n",
    "        _r = _e.value  # 如果抛出StopIteration异常，获取异常对象的value属性，赋值给_r——这是最简单情况下的返回值（RESULT）。\r\n",
    "    else:\r\n",
    "        while 1:  # 运行这个循环时，委派生成器会阻塞，只作为调用方和子生成器之间的通道。\r\n",
    "            _s = yield _y # 产出子生成器当前产出的元素；等待调用方发送_s中保存的值。注意，这个代码清单中只有这一个yield表达式。\r\n",
    "            try:\r\n",
    "                _y = _i.send(_s) # 尝试让子生成器向前执行，转发调用方发送的_s。\r\n",
    "            except StopIteration as _e: # 如果子生成器抛出StopIteration异常，获取value属性的值，赋值给_r，然后退出循环，让委派生成器恢复运行。\r\n",
    "                _r = _e.value\r\n",
    "                break\r\n",
    "    RESULT = _r # 返回的结果（RESULT）是_r，即整个yield from表达式的值。\r\n"
   ],
   "outputs": [],
   "metadata": {}
  },
  {
   "cell_type": "code",
   "execution_count": null,
   "source": [
    "def yieldfromfunc():\r\n",
    "    _i = iter(EXPR) # _i : 子生成器（是任意可迭代对象）\r\n",
    "    try：\r\n",
    "        _y = next(_i) # 预激\r\n",
    "    except StopIteration as _e:\r\n",
    "        _r = _e.value # 子生成器关闭获得返回值\r\n",
    "    else:\r\n",
    "        while 1:      # 委派生成器循环（会自动阻塞）\r\n",
    "            try:\r\n",
    "                _s = yield _y  # 产出值_y,传入值_s,以及yield实现了阻塞。这里是协程的根基。\r\n",
    "            \r\n",
    "            except GeneratorExit as _e:  # 关闭委派生成器和子生成器\r\n",
    "                try:\r\n",
    "                    _m = _i.close\r\n",
    "                except AttributeError:\r\n",
    "                    pass\r\n",
    "                else:\r\n",
    "                    _m()\r\n",
    "                raise _e\r\n",
    "            \r\n",
    "            except BaseException as _e:  # 调用方使用.throw()方法传入异常\r\n",
    "                _x = sys.exc_info()\r\n",
    "                try:\r\n",
    "                    _m = _i.throw\r\n",
    "                except AttributeError:\r\n",
    "                    raise _e\r\n",
    "                else:\r\n",
    "                    try:\r\n",
    "                        _y = _m(*_x)\r\n",
    "                    except StopIteration as _e:\r\n",
    "                        _r = _e.value\r\n",
    "                        break\r\n",
    "            \r\n",
    "            else:                       # 无异常\r\n",
    "                try:\r\n",
    "                    if _s is None:       # 发送了None，则next子生成器\r\n",
    "                        _y = next(_i)\r\n",
    "                    else:\r\n",
    "                        _y = _i.send(_s) # 否则将值传给子生成器\r\n",
    "                except StopIteration as _e: # 停止此子生成器，并返回协程结果\r\n",
    "                    _r = _e.value\r\n",
    "                    break\r\n",
    "\r\n",
    "    RESULT = _r #  返回的结果（RESULT）是_r，即整个yield from表达式的值"
   ],
   "outputs": [],
   "metadata": {}
  },
  {
   "cell_type": "markdown",
   "source": [
    "## 16.9 使用案例：使用协程做离散事件仿真\r\n",
    "\r\n",
    "在计算机科学领域，仿真是协程的经典应用.协程是asyncio包的基础构建。通过仿真系统能说明如何使用协程代替线程实现并发的活动，而且对理解第18章讨论的asyncio包有极大的帮助。\r\n",
    "\r\n",
    "### 16.9.1 离散事件仿真简介\r\n",
    "离散事件仿真（Discrete Event Simulation，DES）是一种把系统建模成一系列事件的仿真类型。在离散事件仿真中，仿真“钟”向前推进的量不是固定的，而是直接推进到下一个事件模型的模拟时间。\r\n",
    "\r\n",
    "假如我们抽象模拟出租车的运营过程，其中一个事件是乘客上车，下一个事件则是乘客下车。不管乘客坐了5分钟还是50分钟，一旦乘客下车，仿真钟就会更新，指向此次运营的结束时间。使用离散事件仿真可以在不到一秒钟的时间内模拟一年的出租车运营过程。这与连续仿真不同，连续仿真的仿真钟以固定的量（通常很小）不断向前推进。\r\n",
    "\r\n",
    "显然，回合制游戏就是离散事件仿真的例子：游戏的状态只在玩家操作时变化，而且一旦玩家决定下一步怎么走了，仿真钟就会冻结。而实时游戏则是连续仿真，仿真钟一直在运行，游戏的状态在一秒钟之内更新很多次，因此反应慢的玩家特别吃亏。\r\n",
    "\r\n",
    "这两种仿真类型都能使用**多线程**或在单个线程中使用**面向事件的编程技术**（例如事件循环驱动的回调或协程）实现。\r\n",
    "\r\n",
    "为了实现连续仿真，在多个线程中处理实时并行的操作更自然。而协程恰好为实现离散事件仿真提供了合理的抽象。\r\n",
    "\r\n",
    "> 在仿真领域，进程这个术语指代模型中某个实体的活动，与操作系统中的进程无关。\r\n",
    "> 仿真系统中的一个进程可以使用操作系统中的一个进程实现，但是通常会使用一个线程或一个协程实现。\r\n",
    "\r\n",
    "### 16.9.2 出租车队运营仿真\r\n",
    "\r\n",
    "仿真程序taxi_sim.py会创建几辆出租车，每辆车会拉几个乘客，然后回家。出租车首先驶离车库，四处徘徊，寻找乘客；拉到乘客后，行程开始；乘客下车后，继续四处徘徊。"
   ],
   "metadata": {}
  },
  {
   "cell_type": "code",
   "execution_count": 10,
   "source": [
    "# 预备知识\r\n",
    "# 优先队列\r\n",
    "\r\n",
    "# 目的：队列有序提取！\r\n",
    "\r\n",
    "# 标准库\r\n",
    "q = []\r\n",
    "\r\n",
    "q.append((2, \"eat\"))\r\n",
    "q.append((1,\"wake\"))\r\n",
    "q.append((3,\"sleep\"))\r\n",
    "\r\n",
    "q.sort(reverse=True)  # 缺点：如果又添加了新的元素，又要调用sort方法。\r\n",
    "\r\n",
    "while q:\r\n",
    "    item = q.pop()\r\n",
    "    print(item)\r\n"
   ],
   "outputs": [
    {
     "output_type": "stream",
     "name": "stdout",
     "text": [
      "(1, 'wake')\n",
      "(2, 'eat')\n",
      "(3, 'sleep')\n"
     ]
    }
   ],
   "metadata": {}
  },
  {
   "cell_type": "code",
   "execution_count": 11,
   "source": [
    "# 预备知识\r\n",
    "# 优先队列\r\n",
    "\r\n",
    "# 目的：队列有序提取！\r\n",
    "\r\n",
    "# heapq是二叉堆，通常用普通列表实现，能在时间内插入和获取最小的元素。\r\n",
    "\r\n",
    "# heapq模块是在Python中不错的优先级队列实现。由于heapq在技术上只提供最小堆实现，因此必须添加额外步骤来确保排序稳定性，以此来获得“实际”的优先级队列中所含有的预期特性。\r\n",
    "\r\n",
    "import heapq\r\n",
    "\r\n",
    "q = []\r\n",
    "\r\n",
    "heapq.heappush(q, (2, \"eat\"))\r\n",
    "heapq.heappush(q,(1,\"wake\"))\r\n",
    "heapq.heappush(q,(3,\"sleep\"))\r\n",
    "\r\n",
    "while q:\r\n",
    "    item = heapq.heappop(q)\r\n",
    "    print(item)"
   ],
   "outputs": [
    {
     "output_type": "stream",
     "name": "stdout",
     "text": [
      "(1, 'wake')\n",
      "(2, 'eat')\n",
      "(3, 'sleep')\n"
     ]
    }
   ],
   "metadata": {}
  },
  {
   "cell_type": "code",
   "execution_count": 12,
   "source": [
    "# 预备知识\r\n",
    "# 优先队列\r\n",
    "\r\n",
    "# 目的：队列有序提取！\r\n",
    "\r\n",
    "#queue.PriorityQueue这个优先级队列的实现在内部使用了heapq，时间和空间复杂度与heapq相同。\r\n",
    "\r\n",
    "#区别在于PriorityQueue是同步的，提供了锁语义来支持多个并发的生产者和消费者。\r\n",
    "\r\n",
    "#不同情况下，锁语义可能会带来帮助，也可能会导致不必要的开销。不管哪种情况，你都可能更喜欢PriorityQueue提供的基于类的接口，而不是使用heapq提供的基于函数的接口。\r\n",
    "\r\n",
    "from queue import PriorityQueue\r\n",
    "\r\n",
    "q = PriorityQueue()\r\n",
    "q.put((2, \"eat\"))\r\n",
    "q.put((1,\"wake\"))\r\n",
    "q.put((3,\"sleep\"))\r\n",
    "\r\n",
    "while not q.empty():\r\n",
    "    item = q.get()\r\n",
    "    print(item)\r\n",
    "\r\n",
    "\r\n",
    "# queue.PriorityQueue是其中的首选，具有良好的面向对象的接口，从名称就能明白其用途。\r\n",
    "\r\n",
    "# 如果想避免queue.PriorityQueue的锁开销，那么建议直接使用heapq模块。"
   ],
   "outputs": [
    {
     "output_type": "stream",
     "name": "stdout",
     "text": [
      "(1, 'wake')\n",
      "(2, 'eat')\n",
      "(3, 'sleep')\n"
     ]
    }
   ],
   "metadata": {}
  },
  {
   "cell_type": "markdown",
   "source": [
    "**出租车离散运用仿真**"
   ],
   "metadata": {}
  },
  {
   "cell_type": "code",
   "execution_count": 24,
   "source": [
    "# 出租车运行仿真代码\r\n",
    "\r\n",
    "from collections import namedtuple\r\n",
    "import queue\r\n",
    "import random\r\n",
    "import argparse\r\n",
    "\r\n",
    "# 全局变量\r\n",
    "DEFAULT_NUMBER_OF_TAXIS = 3\r\n",
    "DEFAULT_END_TIME = 180\r\n",
    "SEARCH_DURATION = 5\r\n",
    "TRIP_DURATION = 20\r\n",
    "DEFAULT_INTERVAL = 3\r\n",
    "\r\n",
    "\r\n",
    "# Event格式\r\n",
    "Event = namedtuple(\"Event\", \"time proc action\")\r\n",
    "\r\n",
    "# 协程：出租仿真\r\n",
    "def taxi_process(ident, trips, start_time=0):\r\n",
    "    time = yield Event(start_time, ident, \"leave garage\") # 出车库\r\n",
    "    for i in range(trips):\r\n",
    "        time = yield Event(time, ident, \"pick up passenger\")  # 接乘客\r\n",
    "        time = yield Event(time, ident, \"drop off passenger\") # 放乘客\r\n",
    "    yield Event(time, ident, \"going home\")                  # 回家\r\n",
    "\r\n",
    "# 计算随机值\r\n",
    "def compute_duration(previous_action):\r\n",
    "    if previous_action in ['leave garage', 'drop off passenger']:\r\n",
    "        interval = SEARCH_DURATION\r\n",
    "    elif previous_action == 'pick up passenger':\r\n",
    "        interval = TRIP_DURATION\r\n",
    "    elif previous_action == 'going home':\r\n",
    "        interval = 1\r\n",
    "    else:\r\n",
    "        raise ValueError('Unknown previous_action: %s' % previous_action)\r\n",
    "    return int(random.expovariate(1/interval)) + 1\r\n",
    "\r\n",
    "# 模拟器\r\n",
    "class Simulator():\r\n",
    "\r\n",
    "    def __init__(self, procs_map) -> None:\r\n",
    "        self.events = queue.PriorityQueue()\r\n",
    "        self.procs = dict(procs_map)\r\n",
    "\r\n",
    "    def run(self, end_time):\r\n",
    "        # 启动所有仿真\r\n",
    "        for _, proc in sorted(self.procs.items()):\r\n",
    "            first_event = next(proc) # leave garage!\r\n",
    "            self.events.put(first_event)\r\n",
    "\r\n",
    "        # 仿真循环\r\n",
    "        sim_time  = 0\r\n",
    "        while sim_time < end_time:\r\n",
    "            # 完成所有仿真退出\r\n",
    "            if self.events.empty():\r\n",
    "                print(\"*** end of event ***\")\r\n",
    "                break\r\n",
    "            \r\n",
    "            current_event = self.events.get()\r\n",
    "            sim_time, proc_id, previous_action = current_event\r\n",
    "            print('taxis:',proc_id, proc_id * '-', current_event)\r\n",
    "            active_proc = self.procs[proc_id]\r\n",
    "            next_time = sim_time + compute_duration(previous_action)\r\n",
    "            try:\r\n",
    "                next_event = active_proc.send(next_time)\r\n",
    "            except StopIteration:\r\n",
    "                del self.procs[proc_id]\r\n",
    "            else:\r\n",
    "                self.events.put(next_event)\r\n",
    "        else:\r\n",
    "            msg = '*** end of simulation time: {} events pending ***'\r\n",
    "            print(msg.format(self.events.qsize()))\r\n",
    "\r\n",
    "\r\n",
    "def main(end_time = DEFAULT_END_TIME, num_taxis = DEFAULT_NUMBER_OF_TAXIS, seed = None):\r\n",
    "    if seed is not None:\r\n",
    "        random.seed(seed)\r\n",
    "\r\n",
    "    taxis = {\r\n",
    "        i : taxi_process(i, (i+1)*2, i*DEFAULT_INTERVAL)\r\n",
    "        for i in range(num_taxis)\r\n",
    "    }\r\n",
    "\r\n",
    "    sim = Simulator(taxis)\r\n",
    "    sim.run(end_time)\r\n",
    "\r\n",
    "\r\n",
    "if __name__ == \"__main__\":\r\n",
    "\r\n",
    "    # parser = argparse.ArgumentParser(description='Taxi fleet simulator')\r\n",
    "\r\n",
    "    # parser.add_argument('-e', '--end-time', type=int, default=DEFAULT_END_TIME, help='simulation end time; default = %s' % DEFAULT_END_TIME)\r\n",
    "\r\n",
    "    # parser.add_argument('-t', '--taxis', type=int, default=DEFAULT_NUMBER_OF_TAXIS, help='number of taxis running; default = %s' % DEFAULT_NUMBER_OF_TAXIS)\r\n",
    "        \r\n",
    "    # parser.add_argument('-s', '--seed', type=int, default=None, help='random generator seed(for testing)')\r\n",
    "\r\n",
    "    # args = parser.parse_args()\r\n",
    "    main(500, 3, 15)"
   ],
   "outputs": [
    {
     "output_type": "stream",
     "name": "stdout",
     "text": [
      "taxis: 0  Event(time=0, proc=0, action='leave garage')\n",
      "taxis: 1 - Event(time=3, proc=1, action='leave garage')\n",
      "taxis: 1 - Event(time=4, proc=1, action='pick up passenger')\n",
      "taxis: 2 -- Event(time=6, proc=2, action='leave garage')\n",
      "taxis: 2 -- Event(time=7, proc=2, action='pick up passenger')\n",
      "taxis: 0  Event(time=17, proc=0, action='pick up passenger')\n",
      "taxis: 0  Event(time=18, proc=0, action='drop off passenger')\n",
      "taxis: 0  Event(time=29, proc=0, action='pick up passenger')\n",
      "taxis: 1 - Event(time=31, proc=1, action='drop off passenger')\n",
      "taxis: 1 - Event(time=41, proc=1, action='pick up passenger')\n",
      "taxis: 0  Event(time=52, proc=0, action='drop off passenger')\n",
      "taxis: 0  Event(time=54, proc=0, action='going home')\n",
      "taxis: 2 -- Event(time=93, proc=2, action='drop off passenger')\n",
      "taxis: 2 -- Event(time=100, proc=2, action='pick up passenger')\n",
      "taxis: 2 -- Event(time=107, proc=2, action='drop off passenger')\n",
      "taxis: 2 -- Event(time=109, proc=2, action='pick up passenger')\n",
      "taxis: 2 -- Event(time=115, proc=2, action='drop off passenger')\n",
      "taxis: 2 -- Event(time=125, proc=2, action='pick up passenger')\n",
      "taxis: 2 -- Event(time=167, proc=2, action='drop off passenger')\n",
      "taxis: 2 -- Event(time=175, proc=2, action='pick up passenger')\n",
      "taxis: 2 -- Event(time=181, proc=2, action='drop off passenger')\n",
      "taxis: 2 -- Event(time=194, proc=2, action='pick up passenger')\n",
      "taxis: 2 -- Event(time=209, proc=2, action='drop off passenger')\n",
      "taxis: 2 -- Event(time=211, proc=2, action='going home')\n",
      "taxis: 1 - Event(time=214, proc=1, action='drop off passenger')\n",
      "taxis: 1 - Event(time=217, proc=1, action='pick up passenger')\n",
      "taxis: 1 - Event(time=219, proc=1, action='drop off passenger')\n",
      "taxis: 1 - Event(time=224, proc=1, action='pick up passenger')\n",
      "taxis: 1 - Event(time=233, proc=1, action='drop off passenger')\n",
      "taxis: 1 - Event(time=238, proc=1, action='going home')\n",
      "*** end of event ***\n"
     ]
    }
   ],
   "metadata": {}
  },
  {
   "cell_type": "markdown",
   "source": [
    "## 16.10 async 和 await 关键字 python3.5加入\r\n",
    "\r\n",
    "- 把 `@asyncio.coroutine`替换为`async`\r\n",
    "- 把 `yield from`替换为`await`"
   ],
   "metadata": {}
  },
  {
   "cell_type": "code",
   "execution_count": null,
   "source": [
    "# 原先的方法\r\n",
    "import asyncio\r\n",
    "\r\n",
    "@asyncio.coroutine\r\n",
    "def hello():\r\n",
    "    print('Hello World!')\r\n",
    "    r = yield from asyncio.sleep()\r\n",
    "    print(\"end\")\r\n",
    "\r\n",
    "\r\n",
    "# 新方法可以写为：\r\n",
    "async def hello():\r\n",
    "    print('Hello World!')\r\n",
    "    r = await asyncio.sleep()\r\n",
    "    print(\"end\")"
   ],
   "outputs": [],
   "metadata": {}
  },
  {
   "cell_type": "markdown",
   "source": [
    "## 16.11 引申阅读\r\n",
    "\r\n",
    "[Python Async/Await入门指南](https://zhuanlan.zhihu.com/p/27258289)本文详细介绍了异步函数（协程）以及异步生成器相关使用方法。这些都是python3.4和3.5之后加入的新特性，本书并没有涉及。因此需要从新看下。"
   ],
   "metadata": {}
  },
  {
   "cell_type": "code",
   "execution_count": null,
   "source": [
    "# 普通函数\r\n",
    "def function():\r\n",
    "    return 1\r\n",
    "\r\n",
    "# 生成器函数\r\n",
    "def generator():\r\n",
    "    yield 1\r\n",
    "\r\n",
    "# 异步函数（协程）\r\n",
    "async def async_function():\r\n",
    "    return 1\r\n",
    "\r\n",
    "# 异步生成器\r\n",
    "async def async_generator():\r\n",
    "    yield 1\r\n",
    "\r\n",
    "\r\n",
    "import types\r\n",
    "print(type(function) is types.FunctionType)\r\n",
    "print(type(generator()) is types.GeneratorType)\r\n",
    "print(type(async_function()) is types.CoroutineType)\r\n",
    "print(type(async_generator()) is types.AsyncGeneratorType)\r\n"
   ],
   "outputs": [],
   "metadata": {}
  }
 ],
 "metadata": {
  "kernelspec": {
   "name": "python3",
   "display_name": "Python 3.8.7 64-bit"
  },
  "language_info": {
   "name": "python",
   "version": "3.8.7",
   "mimetype": "text/x-python",
   "codemirror_mode": {
    "name": "ipython",
    "version": 3
   },
   "pygments_lexer": "ipython3",
   "nbconvert_exporter": "python",
   "file_extension": ".py"
  },
  "interpreter": {
   "hash": "1baa965d5efe3ac65b79dfc60c0d706280b1da80fedb7760faf2759126c4f253"
  }
 },
 "nbformat": 4,
 "nbformat_minor": 2
}