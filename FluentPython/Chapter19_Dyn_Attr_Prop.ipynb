{
 "cells": [
  {
   "cell_type": "markdown",
   "metadata": {},
   "source": [
    "# 第六部分 元编程 19 动态属性和特性\n",
    "\n",
    "## 19.1 使用动态属性转换数据\n",
    "\n",
    "在Python中，数据的属性和处理数据的方法统称属性（attribute）。其实，方法只是可调用的属性。除了这二者之外，我们还可以创建特性（property），在不改变类接口的前提下，使用存取方法（即读值方法和设值方法）修改数据属性。\n",
    "\n",
    "\n",
    "不管服务是由存储还是计算实现的，一个模块提供的所有服务都应该通过统一的方式使用\n",
    "\n",
    "用户自己定义的类可以通过__getattr__方法实现“虚拟属性”，当访问不存在的属性时（如obj.no_such_attribute），即时计算属性的值"
   ]
  },
  {
   "cell_type": "code",
   "execution_count": null,
   "metadata": {},
   "outputs": [],
   "source": [
    "\"\"\"\n",
    "osconfeed.py: Script to download the OSCON schedule feed\n",
    "\n",
    "# BEGIN OSCONFEED_DEMO\n",
    "\n",
    "    >>> feed = load()  # <1>\n",
    "    >>> sorted(feed['Schedule'].keys())  # <2>\n",
    "    ['conferences', 'events', 'speakers', 'venues']\n",
    "    >>> for key, value in sorted(feed['Schedule'].items()):\n",
    "    ...     print('{:3} {}'.format(len(value), key))  # <3>\n",
    "    ...\n",
    "      1 conferences\n",
    "    484 events\n",
    "    357 speakers\n",
    "     53 venues\n",
    "    >>> feed['Schedule']['speakers'][-1]['name']  # <4>\n",
    "    'Carina C. Zona'\n",
    "    >>> feed['Schedule']['speakers'][-1]['serial']  # <5>\n",
    "    141590\n",
    "    >>> feed['Schedule']['events'][40]['name']\n",
    "    'There *Will* Be Bugs'\n",
    "    >>> feed['Schedule']['events'][40]['speakers']  # <6>\n",
    "    [3471, 5199]\n",
    "\n",
    "\n",
    "# END OSCONFEED_DEMO\n",
    "\"\"\"\n",
    "\n",
    "# BEGIN OSCONFEED\n",
    "from urllib.request import urlopen\n",
    "import warnings\n",
    "import os\n",
    "import json\n",
    "\n",
    "URL = 'http://www.oreilly.com/pub/sc/osconfeed'\n",
    "JSON = 'data/osconfeed.json'\n",
    "\n",
    "\n",
    "def load():\n",
    "    if not os.path.exists(JSON):\n",
    "        msg = 'downloading {} to {}'.format(URL, JSON)\n",
    "        warnings.warn(msg)  # <1>\n",
    "        with urlopen(URL) as remote, open(JSON, 'wb') as local:  # 在with语句中使用两个上下文管理器（从Python 2.7和Python 3.1起允许这么做），分别用于读取和保存远程文件。\n",
    "            local.write(remote.read())\n",
    "\n",
    "    with open(JSON) as fp:\n",
    "        return json.load(fp)  # <3>\n",
    "\n",
    "# END OSCONFEED\n",
    "feed = load()"
   ]
  },
  {
   "cell_type": "markdown",
   "metadata": {},
   "source": [
    "### 19.1.1 使用动态属性访问JSON类数据\n",
    "\n",
    "feed\\['Schedule'\\]\\['events'\\]\\[40\\]\\['name'\\]这种句法很冗长。在JavaScript中，可以使用feed.Schedule.events\\[40\\].name获取那个值。在Python中，可以实现一个近似字典的类（网上有大量实现）。\n",
    "\n",
    "目标：实现一个FrozenJSON类，只支持读取，即只能访问数据。不过，这个类能递归，自动处理嵌套的映射和列表。"
   ]
  },
  {
   "cell_type": "code",
   "execution_count": 4,
   "metadata": {},
   "outputs": [],
   "source": [
    "# 目标：实现一个FrozenJSON类，只支持读取，即只能访问数据。不过，这个类能递归，自动处理嵌套的映射和列表。\n",
    "\n",
    "from collections import abc\n",
    "import keyword\n",
    "\n",
    "class FrozenJSON:\n",
    "    \"\"\"\n",
    "        一个只读接口,使用属性表示法访问JSON类对象\n",
    "    \"\"\"\n",
    "    def __init__(self, mapping):\n",
    "        # self.__data = dict(mapping) # 使用mapping参数构建一个字典。这么做有两个目的：(1)确保传入的是字典（或者是能转换成字典的对象）；(2)安全起见，创建一个副本。\n",
    "        self.__data = {}\n",
    "        for key, value in mapping.items():\n",
    "            if keyword.iskeyword(key): # 检查是否是python的关键字\n",
    "                key += '_'\n",
    "            self.__data[key] = value \n",
    "\n",
    "    def __getattr__(self, name): # 仅当没有指定名称（name）的属性时才调用__getattr__方法。(会先调用__getattribute__方法)\n",
    "        if hasattr(self.__data, name):\n",
    "            return getattr(self.__data, name) # 如果name是实例属性__data的属性，返回那个属性。调用keys等方法就是通过这种方式处理的。\n",
    "\n",
    "        else:\n",
    "            return FrozenJSON.build(self.__data[name]) # 否则，从self.__data中获取name键对应的元素，返回调用FrozenJSON.build（　）方法得到的结果。\n",
    "\n",
    "    @classmethod\n",
    "    def build(cls, obj): # 这是一个备选构造方法，@classmethod装饰器经常这么用。\n",
    "        # Json的数据只有字典和列表两种类型\n",
    "        if isinstance(obj, abc.Mapping): # 如果obj是映射，那就构建一个FrozenJSON对象。\n",
    "            return cls(obj)\n",
    "        elif isinstance(obj, abc.MutableSequence): # 如果是MutableSequence对象，必然是列表，因此，我们把obj中的每个元素递归地传给.build（　）方法，构建一个列表。\n",
    "            return [cls.build(item) for item in obj]\n",
    "        else: # 如果既不是字典也不是列表，那么原封不动地返回元素。\n",
    "            return obj\n",
    "    "
   ]
  },
  {
   "cell_type": "code",
   "execution_count": 5,
   "metadata": {},
   "outputs": [
    {
     "name": "stdout",
     "output_type": "stream",
     "text": [
      "357\n",
      "['conferences', 'events', 'speakers', 'venues']\n",
      "  1 conferences\n",
      "484 events\n",
      "357 speakers\n",
      " 53 venues\n"
     ]
    }
   ],
   "source": [
    "# 检查 FrozenJSON 类\n",
    "import json\n",
    "\n",
    "filepath = 'chapter19/osconfeed.json'\n",
    "\n",
    "with open(filepath, 'r') as fp:\n",
    "    j = json.load(fp)\n",
    "\n",
    "    feed = FrozenJSON(j)\n",
    "\n",
    "    print(len(feed.Schedule.speakers))\n",
    "\n",
    "    print(sorted(feed.Schedule.keys()))\n",
    "\n",
    "    for key, value in sorted(feed.Schedule.items()):\n",
    "        print('{:3} {}'.format(len(value), key))\n",
    "    \n",
    "    fp.close()"
   ]
  },
  {
   "cell_type": "code",
   "execution_count": 22,
   "metadata": {},
   "outputs": [
    {
     "data": {
      "text/plain": [
       "True"
      ]
     },
     "execution_count": 22,
     "metadata": {},
     "output_type": "execute_result"
    }
   ],
   "source": [
    "bf = dir(feed)\n",
    "events = feed.Schedule.events\n",
    "aft = dir(feed)\n",
    "\n",
    "bf == aft # 并没有给feed添加.Schedule.events属性！"
   ]
  },
  {
   "cell_type": "markdown",
   "metadata": {},
   "source": [
    "- 初始化时，将数据保存在__data属性中。\n",
    "- 使用feed.Schedule.events这种方式取值时，由于本没有该属性，会触发__getattr__()方法来尝试获得。（python获得属性的方法有多种，且有优先级）\n",
    "- 在__getattr__方法中调用类方法去创建新的类实例作为返回值（并非为原来的实例创建属性！）"
   ]
  },
  {
   "cell_type": "markdown",
   "metadata": {},
   "source": [
    "### 19.1.3 使用__new__方法以灵活的方式创建对象\n",
    "\n",
    "其实，用于构建实例的是特殊方法__new__：这是个类方法（使用特殊方式处理，因此不必使用@classmethod装饰器），必须返回一个实例。返回的实例会作为第一个参数（即self）传给__init__方法。因为调用__init__方法时要传入实例，而且禁止返回任何值，所以__init__方法其实是“初始化方法”。真正的构造方法是__new__。\n",
    "\n",
    "我们几乎不需要自己编写__new__方法，因为从object类继承的实现已经足够了。\n",
    "\n",
    "骚操作的基础：即从__new__方法到__init__方法，是最常见的，但不是唯一的。__new__方法也可以返回其他类的实例，此时，解释器不会调用__init__方法。"
   ]
  },
  {
   "cell_type": "code",
   "execution_count": 23,
   "metadata": {},
   "outputs": [],
   "source": [
    "# 使用__new__方法取代build方法，构建可能是也可能不是FrozenJSON实例的新对象\n",
    "\n",
    "from collections import abc\n",
    "import keyword\n",
    "\n",
    "class FrozenJSON2:\n",
    "    \"\"\"\n",
    "        一个只读接口，使用属性表示法访问JSON类对象\n",
    "    \"\"\"\n",
    "    def __new__(cls, obj): # __new__是类方法，第一个参数是类本身，余下的参数与__init__方法一样，只不过没有self。\n",
    "        if isinstance(obj, abc.Mapping): \n",
    "            return super().__new__(cls)  #  默认的行为是委托给超类的__new__方法。这里调用的是object基类的__new__方法，把唯一的参数设为FrozenJSON。\n",
    "        elif isinstance(obj, abc.MutableSequence):  # __new__方法中余下的代码与原先的build方法完全一样。\n",
    "            return [cls(item) for item in obj] \n",
    "        else: \n",
    "            return obj\n",
    "\n",
    "    def __init__(self, mapping):\n",
    "        self.__data = {}\n",
    "        for key, value in mapping.items():\n",
    "            if keyword.iskeyword(key): \n",
    "                key += '_'\n",
    "            self.__data[key] = value \n",
    "\n",
    "    def __getattr__(self, name):\n",
    "        if hasattr(self.__data, name):\n",
    "            return getattr(self.__data, name) \n",
    "\n",
    "        else:\n",
    "            return FrozenJSON(self.__data[name]) # 之前，这里调用的是FrozenJSON.build方法，现在只需调用FrozenJSON构造方法。\n",
    "\n",
    "    # 使用__new__内置函数代替：\n",
    "    # @classmethod\n",
    "    # def build(cls, obj): # 这是一个备选构造方法，@classmethod装饰器经常这么用。\n",
    "    #     # Json的数据只有字典和列表两种类型\n",
    "    #     if isinstance(obj, abc.Mapping): # 如果obj是映射，那就构建一个FrozenJSON对象。\n",
    "    #         return cls(obj)\n",
    "    #     elif isinstance(obj, abc.MutableSequence): # 如果是MutableSequence对象，必然是列表，[插图]因此，我们把obj中的每个元素递归地传给.build（　）方法，构建一个列表。\n",
    "    #         return [cls.build(item) for item in obj]\n",
    "    #     else: # 如果既不是字典也不是列表，那么原封不动地返回元素。\n",
    "    #         return obj"
   ]
  },
  {
   "cell_type": "code",
   "execution_count": 30,
   "metadata": {},
   "outputs": [
    {
     "name": "stdout",
     "output_type": "stream",
     "text": [
      "<class 'dict'>\n"
     ]
    }
   ],
   "source": [
    "filepath = 'chapter19/osconfeed.json'\n",
    "\n",
    "with open(filepath, 'r') as fp:\n",
    "    j = json.load(fp)\n",
    "\n",
    "print(type(j))\n",
    "\n",
    "j = json.load(fp) # 将无法加载，因为with上下文管理把文件关闭了！"
   ]
  },
  {
   "cell_type": "code",
   "execution_count": 24,
   "metadata": {},
   "outputs": [
    {
     "name": "stdout",
     "output_type": "stream",
     "text": [
      "357\n",
      "['conferences', 'events', 'speakers', 'venues']\n",
      "  1 conferences\n",
      "484 events\n",
      "357 speakers\n",
      " 53 venues\n"
     ]
    }
   ],
   "source": [
    "# 检查 FrozenJSON 类\n",
    "import json\n",
    "\n",
    "filepath = 'chapter19/osconfeed.json'\n",
    "\n",
    "with open(filepath, 'r') as fp:\n",
    "    j = json.load(fp)\n",
    "\n",
    "    feed = FrozenJSON2(j)\n",
    "\n",
    "    print(len(feed.Schedule.speakers))\n",
    "\n",
    "    print(sorted(feed.Schedule.keys()))\n",
    "\n",
    "    for key, value in sorted(feed.Schedule.items()):\n",
    "        print('{:3} {}'.format(len(value), key))\n",
    "\n",
    "    fp.close()"
   ]
  },
  {
   "cell_type": "markdown",
   "metadata": {},
   "source": [
    "### 19.1.4 使用shelve模块调整OSCON数据源的结构\n",
    "\n",
    "接下来的任务是，调整数据结构，以便自动获取所链接的记录。\n",
    "\n",
    "shelve.open高阶函数返回一个shelve.Shelf实例，这是简单的键值对象数据库，背后由dbm模块支持，具有下述特点。\n",
    "- shelve.Shelf是abc.MutableMapping的子类，因此提供了处理映射类型的重要方法。\n",
    "- 此外，shelve.Shelf类还提供了几个管理I/O的方法，如sync和close；\n",
    "- 它也是一个上下文管理器。\n",
    "- 只要把新值赋予键，就会保存键和值。\n",
    "- 键必须是字符串。\n",
    "- 值必须是pickle模块能处理的对象。\n",
    "\n"
   ]
  },
  {
   "cell_type": "code",
   "execution_count": 1,
   "metadata": {},
   "outputs": [
    {
     "name": "stdout",
     "output_type": "stream",
     "text": [
      "<class '__main__.Record'>\n",
      "Anna Martelli Ravenscroft\n",
      "annaraven\n"
     ]
    }
   ],
   "source": [
    "\"\"\"\n",
    "schedule1.py: traversing OSCON schedule data\n",
    "\"\"\"\n",
    "# BEGIN SCHEDULE1\n",
    "import warnings\n",
    "import json\n",
    "\n",
    "DB_NAME = 'data/schedule1_db'\n",
    "CONFERENCE = 'conference.115'\n",
    "\n",
    "\n",
    "def load_osconfeed():\n",
    "    with open('chapter19/osconfeed.json', 'r') as fp:\n",
    "        return json.load(fp)\n",
    "\n",
    "\n",
    "class Record:\n",
    "    def __init__(self, **kwargs):\n",
    "        self.__dict__.update(kwargs)  #  这是使用关键字参数传入的属性构建实例的常用简便方式（详情参见下文）。\n",
    "        # Record.__init__方法展示了一个流行的Python技巧。我们知道，对象的__dict__属性中存储着对象的属性--前提是类中没有声明__slots__属性，如9.8节所述。\n",
    "        # 因此，更新实例的__dict__属性，把值设为一个映射，能快速地在那个实例中创建一堆属性。另外要处理不能作为属性名的健。\n",
    "\n",
    "'''\n",
    "双星号（**): **kwargs  将参数以字典(dict)的形式导入\n",
    "单星号（*) : *agrs  将所以参数以元组(tuple)的形式导入\n",
    "'''\n",
    "\n",
    "\n",
    "def load_db(db):\n",
    "    raw_data = load_osconfeed()  # 如果本地没有副本，从网上下载JSON数据源。\n",
    "    warnings.warn('loading ' + DB_NAME)\n",
    "    for collection, rec_list in raw_data['Schedule'].items():  # 迭代集合（例如'conferences'、'events'，等等）。\n",
    "        record_type = collection[:-1]  # record_type的值是去掉尾部's'后的集合名（即把'events'变成'event'）。\n",
    "        for record in rec_list:\n",
    "            key = '{}.{}'.format(record_type, record['serial'])  # 使用record_type和'serial'字段构成key。\n",
    "            record['serial'] = key  # 把'serial'字段的值设为完整的键。\n",
    "            db[key] = Record(**record)  #  构建Record实例，存储在数据库中的key键名下。\n",
    "\n",
    "# END SCHEDULE1\n",
    "\n",
    "import shelve \n",
    "\n",
    "with shelve.open(DB_NAME) as db: # shelve.open函数打开现有的数据库文件，或者新建一个。\n",
    "    if CONFERENCE not in db: # 判断数据库是否填充的简便方法是，检查某个已知的键是否存在；这里检查的键是conference.115，即conference记录（只有一个）的键。\n",
    "        load_db(db) # 如果数据库是空的，那就调用load_db(db)，加载数据。\n",
    "\n",
    "    speaker = db['speaker.3471'] # 获取一条speaker记录。\n",
    "    print(type(speaker)) # 它是示例19-9中定义的Record类的实例。 <class '__main__.Record'>\n",
    "    print(speaker.name) # 各个Record实例都有一系列自定义的属性，对应于底层JSON记录里的字段。  Anna Martelli Ravenscroft\n",
    "    print(speaker.twitter) \n",
    "    db.close() # 一定要记得关闭shelve.Shelf对象。如果可以，使用with块确保Shelf对象会关闭。（这里没必要手动关闭，因为上下文管理器会自动关闭）"
   ]
  },
  {
   "cell_type": "markdown",
   "metadata": {},
   "source": [
    "### 19.1.5 使用特性获取链接的记录\n",
    "\n",
    "@property装饰器装饰的方法为特性。\n",
    "\n",
    "目标是，对于从Shelf对象中获取的event记录来说，读取它的venue或speakers属性时返回的不是编号，而是完整的记录对象。\n",
    "\n",
    "**Record**\n",
    "\n",
    "- __init__方法与schedule1.py脚本（见示例19-9）中的一样；为了辅助测试，增加了__eq__方法。\n",
    "\n",
    "**DbRecord**\n",
    "\n",
    "- Record类的子类，添加了__db类属性，用于设置和获取__db属性的set_db和get_db静态方法，用于从数据库中获取记录的fetch类方法，以及辅助调试和测试的__repr__实例方法。\n",
    "- DbRecord.__db类属性的作用是存储打开的shelve.Shelf数据库引用，以便在需要使用数据库的DbRecord.fetch方法及Event.venue和Event.speakers属性中使用。\n",
    "\n",
    "**Event**\n",
    "\n",
    "- DbRecord类的子类，添加了用于获取所链接记录的venue和speakers属性，以及特殊的__repr__方法。\n",
    "\n",
    "![Record Class UML](chapter19/RecordClassUML.png)"
   ]
  },
  {
   "cell_type": "code",
   "execution_count": 27,
   "metadata": {},
   "outputs": [
    {
     "name": "stdout",
     "output_type": "stream",
     "text": [
      "Portland 251\n",
      "Anna Martelli Ravenscroft\n",
      "Alex Martelli\n",
      "There *Will* Be Bugs\n"
     ]
    }
   ],
   "source": [
    "import warnings\n",
    "import inspect # inspect模块在load_db函数中使用\n",
    "import json\n",
    "\n",
    "DB_NAME = 'data/schedule2_db' # 因为要存储几个不同类的实例，所以我们要创建并使用不同的数据库文件；这里不用示例19-9中的'schedule1_db'，而是使用'schedule2_db'。\n",
    "CONFERENCE = 'conference.115'\n",
    "\n",
    "\n",
    "def load_osconfeed():\n",
    "    with open('chapter19/osconfeed.json', 'r') as fp:\n",
    "        return json.load(fp)\n",
    "\n",
    "\n",
    "def load_db(db):\n",
    "    raw_data = load_osconfeed()  # 如果本地没有副本，从网上下载JSON数据源。\n",
    "    warnings.warn('loading ' + DB_NAME)\n",
    "    for collection, rec_list in raw_data['Schedule'].items():  # 迭代集合（例如'conferences'、'events'，等等）。\n",
    "        record_type = collection[:-1]  # record_type的值是去掉尾部's'后的集合名（即把'events'变成'event'）。\n",
    "        for record in rec_list:\n",
    "            key = '{}.{}'.format(record_type, record['serial'])  # 使用record_type和'serial'字段构成key。\n",
    "            record['serial'] = key  # 把'serial'字段的值设为完整的键。\n",
    "            db[key] = Record(**record)  #  构建Record实例，存储在数据库中的key键名下。\n",
    "\n",
    "\n",
    "class Record:\n",
    "    def __init__(self, **kwargs):\n",
    "        self.__dict__.update(kwargs)\n",
    "        \n",
    "    def __eq__(self, other): # __eq__方法对测试有重大帮助。\n",
    "        if isinstance(other, Record):\n",
    "            return self.__dict__ == other.__dict__\n",
    "        else:\n",
    "            return NotImplemented\n",
    "\n",
    "# 一个自定义的异常类型\n",
    "class MissingDatabaseError(RuntimeError):\n",
    "    \"\"\"需要数据库，但没有指定数据库时抛出\"\"\" \n",
    "    # 自定义的异常通常是标志类，没有定义体。写一个文档字符串，说明异常的用途，比只写一个pass语句要好。\n",
    "\n",
    " \n",
    "class DbRecord(Record): # DbRecord类扩展Record类\n",
    "    __db = None #  __db类属性存储一个打开的shelve.Shelf数据库引用。\n",
    "\n",
    "    @staticmethod # set_db是静态方法，以此强调不管调用多少次，效果始终一样。\n",
    "    def set_db(db):\n",
    "        DbRecord.__db = db # 即使调用Event.set_db(my_db)，__db属性仍在DbRecord类中设置。\n",
    "\n",
    "    @staticmethod\n",
    "    def get_db():\n",
    "        return DbRecord.__db \n",
    "\n",
    "    @classmethod # fetch是类方法，因此在子类中易于定制它的行为。\n",
    "    def fetch(cls, ident):\n",
    "        db = cls.get_db()\n",
    "        try:\n",
    "            return db[ident] # 从数据库中获取ident键对应的记录。\n",
    "        except TypeError:\n",
    "            if db is None: # 如果捕获到TypeError异常，而且db变量的值是None，抛出自定义的异常，说明必须设置数据库。\n",
    "                msg = \"database not set; call '{}.set_db(my_db)'\"\n",
    "                raise MissingDatabaseError(msg.format(cls.__name__))\n",
    "            else: # 否则，重新抛出TypeError异常，因为我们不知道怎么处理。\n",
    "                raise\n",
    "    \n",
    "    def __repr__(self):\n",
    "        if hasattr(self, 'serial'): # 如果记录有serial属性，在字符串表示形式中使用。\n",
    "            cls_name = self.__class__.__name__\n",
    "            return '<{} serial={!r}>'.format(cls_name, self.serial)\n",
    "        else:\n",
    "            return super().__repr__() # 否则，调用继承的__repr__方法。\n",
    "\n",
    "\n",
    "# 重要的Event类\n",
    "class Event(DbRecord): # Event类扩展DbRecord类\n",
    "    @property\n",
    "    def venue(self):\n",
    "        key = 'venue.{}'.format(self.venue_serial) \n",
    "        return self.__class__.fetch(key) # 在venue特性中使用venue_serial属性构建key，然后传给继承自DbRecord类的fetch类方法（详情参见下文）。\n",
    "\n",
    "    @property\n",
    "    def speaker(self):\n",
    "        if not hasattr(self, '_speaker_objs'): # speakers特性检查记录是否有_speaker_objs属性\n",
    "            spkr_serials = self.__dict__['speakers'] # 如果没有，直接从__dict__实例属性中获取'speakers'属性的值，防止无限递归，因为这个特性的公开名称也是speakers。\n",
    "            fetch = self.__class__.fetch # 获取fetch类方法的引用（稍后会说明这么做的原因）。\n",
    "            self._speaker_objs = [  fetch('speaker.{}'.format(key))  # 使用fetch获取speaker记录列表，然后赋值给self._speaker_objs。\n",
    "                                    for key in spkr_serials]\n",
    "        return self._speaker_objs # 返回前面获取的列表。\n",
    "\n",
    "    def __repr__(self):\n",
    "        if hasattr(self, 'name'): # 如果记录有name属性，在字符串表示形式中使用。\n",
    "            cls_name = self.__class__.__name__\n",
    "            return '<{} {!r}>'.format(cls_name, self.name)\n",
    "        else:\n",
    "            return super().__repr__() # 否则，调用继承的__repr__方法。\n",
    "\n",
    "\n",
    "# --------------------------------------------- RUN ----------------------------------------------------\n",
    "with shelve.open(DB_NAME) as db: # shelve.open函数打开现有的数据库文件，或者新建一个。\n",
    "    if CONFERENCE not in db: # 判断数据库是否填充的简便方法是，检查某个已知的键是否存在；这里检查的键是conference.115，即conference记录（只有一个）的键。\n",
    "        load_db(db) # 如果数据库是空的，那就调用load_db(db)，加载数据。\n",
    "\n",
    "    DbRecord.set_db(db)\n",
    "\n",
    "    event = DbRecord.fetch('event.33950')\n",
    "    \n",
    "    v = event.venue\n",
    "\n",
    "    print(event.venue.name)\n",
    "    for s in event.speaker:\n",
    "        print(s.name)\n",
    "    print(event.name)\n",
    "\n",
    "\n",
    "\n"
   ]
  },
  {
   "cell_type": "markdown",
   "metadata": {},
   "source": [
    "为什么不直接使用self.fetch(key)呢？\n",
    "\n",
    "哪怕只有一个事件记录有名为'fetch'的键，那么在那个Event实例中，self.fetch获取的是fetch字段的值，而不是Event继承自DbRecord的fetch类方法。这个缺陷不明显，很容易被测试忽略；"
   ]
  },
  {
   "cell_type": "code",
   "execution_count": 28,
   "metadata": {},
   "outputs": [
    {
     "name": "stdout",
     "output_type": "stream",
     "text": [
      "Portland 251\n",
      "speaker.3471 : Anna Martelli Ravenscroft\n",
      "speaker.5199 : Alex Martelli\n"
     ]
    }
   ],
   "source": [
    "import warnings\n",
    "import inspect # inspect模块在load_db函数中使用\n",
    "import json\n",
    "\n",
    "DB_NAME = 'data/schedule2_db' # 因为要存储几个不同类的实例，所以我们要创建并使用不同的数据库文件；这里不用示例19-9中的'schedule1_db'，而是使用'schedule2_db'。\n",
    "CONFERENCE = 'conference.115'\n",
    "\n",
    "\n",
    "def load_osconfeed():\n",
    "    with open('chapter19/osconfeed.json', 'r') as fp:\n",
    "        return json.load(fp)\n",
    "\n",
    "\n",
    "def load_db(db):\n",
    "    raw_data = load_osconfeed()  # 如果本地没有副本，从网上下载JSON数据源。\n",
    "    warnings.warn('loading ' + DB_NAME)\n",
    "    for collection, rec_list in raw_data['Schedule'].items():  # 迭代集合（例如'conferences'、'events'，等等）。\n",
    "        record_type = collection[:-1]  # record_type的值是去掉尾部's'后的集合名（即把'events'变成'event'）。\n",
    "        \n",
    "        cls_name = record_type.capitalize() #  把record_type变量的值首字母变成大写（例如，把'event'变成'Event'），获取可能的类名。\n",
    "        cls = globals().get(cls_name, DbRecord) # 从模块的全局作用域中获取那个名称对应的对象；如果找不到对象，使用DbRecord\n",
    "        if inspect.isclass(cls) and issubclass(cls, DbRecord): # 如果获取的对象是类，而且是DbRecord的子类……\n",
    "            factory = cls # ……把对象赋值给factory变量。因此，factory的值可能是DbRecord的任何一个子类，具体的类取决于record_type的值。\n",
    "        else:\n",
    "            factory = DbRecord # 否则，把DbRecord赋值给factory变量。\n",
    "\n",
    "        for record in rec_list:\n",
    "            key = '{}.{}'.format(record_type, record['serial'])  \n",
    "            record['serial'] = key  \n",
    "            db[key] = factory(**record)  #  ……存储在数据库中的对象由factory构建，factory可能是DbRecord类，也可能是根据record_type的值确定的某个子类。\n",
    "\n",
    "\n",
    "class Record:\n",
    "    def __init__(self, **kwargs):\n",
    "        self.__dict__.update(kwargs)\n",
    "        \n",
    "    def __eq__(self, other): # __eq__方法对测试有重大帮助。\n",
    "        if isinstance(other, Record):\n",
    "            return self.__dict__ == other.__dict__\n",
    "        else:\n",
    "            return NotImplemented\n",
    "\n",
    "# 一个自定义的异常类型\n",
    "class MissingDatabaseError(RuntimeError):\n",
    "    \"\"\"需要数据库，但没有指定数据库时抛出\"\"\" \n",
    "    # 自定义的异常通常是标志类，没有定义体。写一个文档字符串，说明异常的用途，比只写一个pass语句要好。\n",
    "\n",
    " \n",
    "class DbRecord(Record): # DbRecord类扩展Record类\n",
    "    __db = None #  __db类属性存储一个打开的shelve.Shelf数据库引用。\n",
    "\n",
    "    @staticmethod # set_db是静态方法，以此强调不管调用多少次，效果始终一样。\n",
    "    def set_db(db):\n",
    "        DbRecord.__db = db # 即使调用Event.set_db(my_db)，__db属性仍在DbRecord类中设置。\n",
    "\n",
    "    @staticmethod\n",
    "    def get_db():\n",
    "        return DbRecord.__db\n",
    "\n",
    "    @classmethod # fetch是类方法，因此在子类中易于定制它的行为。\n",
    "    def fetch(cls, ident):\n",
    "        db = cls.get_db()\n",
    "        try:\n",
    "            return db[ident] # 从数据库中获取ident键对应的记录。\n",
    "        except TypeError:\n",
    "            if db is None: # 如果捕获到TypeError异常，而且db变量的值是None，抛出自定义的异常，说明必须设置数据库。\n",
    "                msg = \"database not set; call '{}.set_db(my_db)'\"\n",
    "                raise MissingDatabaseError(msg.format(cls.__name__))\n",
    "            else: # 否则，重新抛出TypeError异常，因为我们不知道怎么处理。\n",
    "                raise\n",
    "    \n",
    "    def __repr__(self):\n",
    "        if hasattr(self, 'serial'): # 如果记录有serial属性，在字符串表示形式中使用。\n",
    "            cls_name = self.__class__.__name__\n",
    "            return '<{} serial={!r}'.format(cls_name, self.serial)\n",
    "        else:\n",
    "            return super().__repr__() # 否则，调用继承的__repr__方法。\n",
    "\n",
    "\n",
    "# 重要的Event类\n",
    "class Event(DbRecord): # Event类扩展DbRecord类\n",
    "    @property\n",
    "    def venue(self):\n",
    "        key = 'venue.{}'.format(self.venue_serial) \n",
    "        return self.__class__.fetch(key) # 在venue特性中使用venue_serial属性构建key，然后传给继承自DbRecord类的fetch类方法（详情参见下文）。\n",
    "\n",
    "    @property\n",
    "    def speakers(self):\n",
    "        if not hasattr(self, '_speaker_obs'): # speakers特性检查记录是否有_speaker_objs属性\n",
    "            spkr_serials = self.__dict__['speakers'] # 如果没有，直接从__dict__实例属性中获取'speakers'属性的值，防止无限递归，因为这个特性的公开名称也是speakers。\n",
    "            fetch = self.__class__.fetch # 获取fetch类方法的引用（稍后会说明这么做的原因）。\n",
    "            self._speaker_objs = [  fetch('speaker.{}'.format(key))  # 使用fetch获取speaker记录列表，然后赋值给self._speaker_objs。\n",
    "                                    for key in spkr_serials]\n",
    "        return self._speaker_objs # 返回前面获取的列表。\n",
    "\n",
    "    def __repr__(self):\n",
    "        if hasattr(self, 'name'): # 如果记录有name属性，在字符串表示形式中使用。\n",
    "            cls_name = self.__class__.__name__\n",
    "            return '<{} {!r}>'.format(cls_name, self.name)\n",
    "        else:\n",
    "            return super().__repr__() # 否则，调用继承的__repr__方法。\n",
    "\n",
    "\n",
    "# --------------------------------------------- RUN ----------------------------------------------------\n",
    "with shelve.open(DB_NAME) as db: # shelve.open函数打开现有的数据库文件，或者新建一个。\n",
    "    if CONFERENCE not in db: # 判断数据库是否填充的简便方法是，检查某个已知的键是否存在；这里检查的键是conference.115，即conference记录（只有一个）的键。\n",
    "        load_db(db) # 如果数据库是空的，那就调用load_db(db)，加载数据。\n",
    "\n",
    "    DbRecord.set_db(db)\n",
    "\n",
    "    event = DbRecord.fetch('event.33950')\n",
    "    print(event.venue.name)\n",
    "\n",
    "    for spkr in event.speakers:\n",
    "        print('{0.serial} : {0.name}'.format(spkr))\n",
    "\n",
    "    db.close()\n"
   ]
  },
  {
   "cell_type": "markdown",
   "metadata": {},
   "source": [
    "_getattr__方法、hasattr函数、getattr函数、@property装饰器和__dict__属性，来实现动态属性。\n",
    "\n",
    "特性经常用于把公开的属性变成使用读值方法和设值方法管理的属性，且在不影响客户端代码的前提下实施业务规则"
   ]
  },
  {
   "cell_type": "markdown",
   "metadata": {},
   "source": [
    "## 19.2 使用特性验证属性\n",
    "\n",
    "前面只介绍了如何使用@property装饰器实现只读特性。本节要创建一个可读写的特性。\n",
    "\n"
   ]
  },
  {
   "cell_type": "code",
   "execution_count": 29,
   "metadata": {},
   "outputs": [],
   "source": [
    "# 已经发布的第一代代码：\n",
    "\n",
    "class LineItem:\n",
    "    def __init__(self, description, weight, price):\n",
    "        self.__description = description\n",
    "        self.__weight = weight\n",
    "        self.__price = price\n",
    "\n",
    "    def subtotal(self):\n",
    "        return self.__weight * self.__price"
   ]
  },
  {
   "cell_type": "code",
   "execution_count": 30,
   "metadata": {},
   "outputs": [],
   "source": [
    "# 发现发布的代码有问题，比方weight可以为负。需要修正，但是为了不破话其他代码的引用，我们采用特性来打补丁。\n",
    "\n",
    "class LineItem:\n",
    "    def __init__(self, description, weight, price):\n",
    "        self.__description = description\n",
    "        self.__weight = weight\n",
    "        self.__price = price\n",
    "\n",
    "    def subtotal(self):\n",
    "        return self.__weight * self.__price\n",
    "\n",
    "    # 使用特性打补丁\n",
    "    @property\n",
    "    def weight(self): # 实现特性的方法，其名称都与公开属性的名称一样——weight。\n",
    "        return self.__weight\n",
    "\n",
    "    @weight.setter\n",
    "    def weight(self, value):\n",
    "        if value > 0 :\n",
    "            self.__weight = value\n",
    "        else:\n",
    "            raise ValueError('value must be > 0')\n"
   ]
  },
  {
   "cell_type": "code",
   "execution_count": 31,
   "metadata": {},
   "outputs": [
    {
     "name": "stdout",
     "output_type": "stream",
     "text": [
      "69.5\n"
     ]
    },
    {
     "ename": "ValueError",
     "evalue": "value must be > 0",
     "output_type": "error",
     "traceback": [
      "\u001b[0;31m---------------------------------------------------------------------------\u001b[0m",
      "\u001b[0;31mValueError\u001b[0m                                Traceback (most recent call last)",
      "\u001b[0;32m/var/folders/jh/h9m07pjn1cl8rn6_1czdjjmr0000gn/T/ipykernel_70447/1090668785.py\u001b[0m in \u001b[0;36m<module>\u001b[0;34m\u001b[0m\n\u001b[1;32m      4\u001b[0m \u001b[0mprint\u001b[0m\u001b[0;34m(\u001b[0m\u001b[0mraisins\u001b[0m\u001b[0;34m.\u001b[0m\u001b[0msubtotal\u001b[0m\u001b[0;34m(\u001b[0m\u001b[0;34m)\u001b[0m\u001b[0;34m)\u001b[0m\u001b[0;34m\u001b[0m\u001b[0;34m\u001b[0m\u001b[0m\n\u001b[1;32m      5\u001b[0m \u001b[0;34m\u001b[0m\u001b[0m\n\u001b[0;32m----> 6\u001b[0;31m \u001b[0mraisins\u001b[0m\u001b[0;34m.\u001b[0m\u001b[0mweight\u001b[0m \u001b[0;34m=\u001b[0m \u001b[0;34m-\u001b[0m\u001b[0;36m10.0\u001b[0m\u001b[0;34m\u001b[0m\u001b[0;34m\u001b[0m\u001b[0m\n\u001b[0m\u001b[1;32m      7\u001b[0m \u001b[0;34m\u001b[0m\u001b[0m\n\u001b[1;32m      8\u001b[0m \u001b[0mprint\u001b[0m\u001b[0;34m(\u001b[0m\u001b[0mraisins\u001b[0m\u001b[0;34m.\u001b[0m\u001b[0msubtotal\u001b[0m\u001b[0;34m(\u001b[0m\u001b[0;34m)\u001b[0m\u001b[0;34m)\u001b[0m\u001b[0;34m\u001b[0m\u001b[0;34m\u001b[0m\u001b[0m\n",
      "\u001b[0;32m/var/folders/jh/h9m07pjn1cl8rn6_1czdjjmr0000gn/T/ipykernel_70447/2284196495.py\u001b[0m in \u001b[0;36mweight\u001b[0;34m(self, value)\u001b[0m\n\u001b[1;32m     20\u001b[0m             \u001b[0mself\u001b[0m\u001b[0;34m.\u001b[0m\u001b[0m__weight\u001b[0m \u001b[0;34m=\u001b[0m \u001b[0mvalue\u001b[0m\u001b[0;34m\u001b[0m\u001b[0;34m\u001b[0m\u001b[0m\n\u001b[1;32m     21\u001b[0m         \u001b[0;32melse\u001b[0m\u001b[0;34m:\u001b[0m\u001b[0;34m\u001b[0m\u001b[0;34m\u001b[0m\u001b[0m\n\u001b[0;32m---> 22\u001b[0;31m             \u001b[0;32mraise\u001b[0m \u001b[0mValueError\u001b[0m\u001b[0;34m(\u001b[0m\u001b[0;34m'value must be > 0'\u001b[0m\u001b[0;34m)\u001b[0m\u001b[0;34m\u001b[0m\u001b[0;34m\u001b[0m\u001b[0m\n\u001b[0m",
      "\u001b[0;31mValueError\u001b[0m: value must be > 0"
     ]
    }
   ],
   "source": [
    "# 测试\n",
    "\n",
    "raisins = LineItem('Golden raisins', 10, 6.95)\n",
    "print(raisins.subtotal())\n",
    "\n",
    "raisins.weight = -10.0\n",
    "\n",
    "print(raisins.subtotal())"
   ]
  },
  {
   "cell_type": "markdown",
   "metadata": {},
   "source": [
    "上面虽然修复了重量weight这个属性不能为负，但是价格还是可以为负的。我们当然可以将价格也做成特性，但是这是和weight重复的代码，只是换了个名字而已，因此代码失去了优雅。而去除重复的方法是抽象。\n",
    "\n",
    "抽象特性的定义有两种方式：\n",
    "- 特性工厂函数\n",
    "- 描述符类（更灵活，下章介绍）"
   ]
  },
  {
   "cell_type": "markdown",
   "metadata": {},
   "source": [
    "## 19.3 特性全解析\n",
    "\n",
    "虽然内置的property经常用作装饰器，但它其实是一个类。在Python中，函数和类通常可以互换，因为二者都是可调用的对象，而且没有实例化对象的new运算符，所以调用构造方法与调用工厂函数没有区别。此外，只要能返回新的可调用对象，代替被装饰的函数，二者都可以用作装饰器。"
   ]
  },
  {
   "cell_type": "code",
   "execution_count": 63,
   "metadata": {},
   "outputs": [
    {
     "data": {
      "text/plain": [
       "['_LineItem__description',\n",
       " '_LineItem__price',\n",
       " '_LineItem__weight',\n",
       " '__class__',\n",
       " '__delattr__',\n",
       " '__dict__',\n",
       " '__dir__',\n",
       " '__doc__',\n",
       " '__eq__',\n",
       " '__format__',\n",
       " '__ge__',\n",
       " '__getattribute__',\n",
       " '__gt__',\n",
       " '__hash__',\n",
       " '__init__',\n",
       " '__init_subclass__',\n",
       " '__le__',\n",
       " '__lt__',\n",
       " '__module__',\n",
       " '__ne__',\n",
       " '__new__',\n",
       " '__reduce__',\n",
       " '__reduce_ex__',\n",
       " '__repr__',\n",
       " '__setattr__',\n",
       " '__sizeof__',\n",
       " '__str__',\n",
       " '__subclasshook__',\n",
       " '__weakref__',\n",
       " 'get_weight',\n",
       " 'set_weight',\n",
       " 'subtotal',\n",
       " 'weight']"
      ]
     },
     "execution_count": 63,
     "metadata": {},
     "output_type": "execute_result"
    }
   ],
   "source": [
    "# property的经典用法，即使用了这个类的构造函数\n",
    "\n",
    "class LineItem:\n",
    "    def __init__(self, description, weight, price):\n",
    "        self.__description = description\n",
    "        self.__weight = weight\n",
    "        self.__price = price\n",
    "\n",
    "    def subtotal(self):\n",
    "        return self.__weight * self.__price\n",
    "\n",
    "\n",
    "    def get_weight(self):\n",
    "        return self.__weight\n",
    "\n",
    "    def set_weight(self, value):\n",
    "        if value > 0 :\n",
    "            self.__weight = value\n",
    "        else:\n",
    "            raise ValueError('value must be > 0')\n",
    "\n",
    "    weight = property(get_weight, set_weight)\n",
    "\n",
    "    # 某些情况下，这种经典形式比装饰器句法好；稍后讨论的特性工厂函数就是一例。\n",
    "\n",
    "LI0 = LineItem('test', 1.0, 2.3)\n",
    "dir(LI0)\n"
   ]
  },
  {
   "cell_type": "markdown",
   "metadata": {},
   "source": [
    "### 19.3.1 特性会覆盖实例属性\n",
    "\n",
    "特性都是类属性，但是特性管理的其实是实例属性的存取。\n",
    "\n",
    "如果实例和所属的类有同名数据属性，那么实例属性会覆盖（或称遮盖）类属性\n",
    "\n",
    "本节的主要观点是，obj.attr这样的表达式不会从obj开始寻找attr，而是从obj.__class__开始，而且，仅当类中没有名为attr的特性时，Python才会在obj实例中寻找。这条规则不仅适用于特性，还适用于一整类描述符——覆盖型描述符（overridingdescriptor）。第20章会进一步讨论描述符，那时你会发现，特性其实是覆盖型描述符。"
   ]
  },
  {
   "cell_type": "code",
   "execution_count": 35,
   "metadata": {},
   "outputs": [
    {
     "name": "stdout",
     "output_type": "stream",
     "text": [
      "{}\n",
      "the class data attr\n",
      "{'data': 'baar'}\n",
      "baar\n",
      "the class data attr\n"
     ]
    }
   ],
   "source": [
    "class Class: # 这个类有两个类属性：data数据属性和prop特性。\n",
    "    data = 'the class data attr'\n",
    "\n",
    "    @property\n",
    "    def prop(self):\n",
    "        return 'the prop value'\n",
    "\n",
    "obj = Class()\n",
    "print(vars(obj)) # vars函数返回obj的__dict__属性，表明没有实例属性。\n",
    "print(obj.data)\n",
    "obj.data = 'baar' # 为obj.data赋值，创建一个实例属性。\n",
    "print(vars(obj))\n",
    "print(obj.data) # 现在读取obj.data，获取的是实例属性的值。从obj实例中读取属性时，实例属性data会遮盖类属性data。\n",
    "print(Class.data) # Class.data属性的值完好无损。\n"
   ]
  },
  {
   "cell_type": "code",
   "execution_count": 36,
   "metadata": {},
   "outputs": [
    {
     "name": "stdout",
     "output_type": "stream",
     "text": [
      "\n",
      "#实例属性不会遮盖类特性#\n",
      "<property object at 0x7fbb674b5a90>\n",
      "the prop value\n",
      "{'data': 'baar', 'prop': 'foo'}\n",
      "the prop value\n",
      "foo\n"
     ]
    }
   ],
   "source": [
    "# #实例属性不会遮盖类特性#\n",
    "print('\\n#实例属性不会遮盖类特性#')\n",
    "\n",
    "print(Class.prop) # 直接从Class中读取prop特性，获取的是特性对象本身，不会运行特性的读值方法。\n",
    "\n",
    "print(obj.prop) # 读取obj.prop会执行特性的读值方法\n",
    "\n",
    "# obj.prop = 'foo'  # 因为特性没有设置权限，因此会返回 AtributeError: can't set attribute\n",
    "obj.__dict__['prop'] = 'foo' # 但是可以直接把'prop'存入obj.__dict__。\n",
    "print(vars(obj)) # 可以看到，obj现在有两个实例属性：data和prop。\n",
    "\n",
    "print(obj.prop) # 然而，读取obj.prop时仍会运行特性的读值方法。特性没被实例属性遮盖。\n",
    "\n",
    "Class.prop = 'baz' # 覆盖Class.prop特性，销毁特性对象。原本是<property object>对象，现在只是个字符串了\n",
    "\n",
    "print(obj.prop) # 现在，obj.prop获取的是实例属性。Class.prop不是特性了，因此不会再覆盖obj.prop。"
   ]
  },
  {
   "cell_type": "code",
   "execution_count": 37,
   "metadata": {},
   "outputs": [
    {
     "name": "stdout",
     "output_type": "stream",
     "text": [
      "\n",
      "#新添的类特性遮盖现有的实例属性#\n",
      "baar\n",
      "the class data attr\n",
      "the \"data\" prop value\n",
      "baar\n"
     ]
    }
   ],
   "source": [
    "# #新添的类特性遮盖现有的实例属性#\n",
    "print(\"\\n#新添的类特性遮盖现有的实例属性#\")\n",
    "\n",
    "print(obj.data) # obj.data获取的是实例属性data。\n",
    "\n",
    "print(Class.data) # Class.data获取的是类属性data。\n",
    "\n",
    "Class.data = property(lambda self: 'the \"data\" prop value') # 使用新特性覆盖Class.data。\n",
    "\n",
    "print(obj.data) # 现在，obj.data被Class.data特性遮盖了。\n",
    "\n",
    "del Class.data #  删除特性。\n",
    "\n",
    "print(obj.data) # 现在恢复原样，obj.data获取的是实例属性data。"
   ]
  },
  {
   "cell_type": "markdown",
   "metadata": {},
   "source": [
    "### 19.3.2 特性文档\n",
    "\n",
    "控制台中的help()函数或IDE等工具需要显示特性的文档时，会从特性的__doc__属性中提取信息。\n",
    "\n",
    "为特性写文档有两种方式：\n"
   ]
  },
  {
   "cell_type": "code",
   "execution_count": 39,
   "metadata": {},
   "outputs": [
    {
     "ename": "NameError",
     "evalue": "name 'get_weight' is not defined",
     "output_type": "error",
     "traceback": [
      "\u001b[0;31m---------------------------------------------------------------------------\u001b[0m",
      "\u001b[0;31mNameError\u001b[0m                                 Traceback (most recent call last)",
      "\u001b[0;32m/var/folders/jh/h9m07pjn1cl8rn6_1czdjjmr0000gn/T/ipykernel_70447/2042818219.py\u001b[0m in \u001b[0;36m<module>\u001b[0;34m\u001b[0m\n\u001b[1;32m      1\u001b[0m \u001b[0;31m# 方式一：\u001b[0m\u001b[0;34m\u001b[0m\u001b[0;34m\u001b[0m\u001b[0m\n\u001b[0;32m----> 2\u001b[0;31m \u001b[0mweight\u001b[0m \u001b[0;34m=\u001b[0m \u001b[0mproperty\u001b[0m\u001b[0;34m(\u001b[0m\u001b[0mget_weight\u001b[0m\u001b[0;34m,\u001b[0m \u001b[0mset_weight\u001b[0m\u001b[0;34m,\u001b[0m \u001b[0mdoc\u001b[0m\u001b[0;34m=\u001b[0m\u001b[0;34m'weight in kilograms'\u001b[0m\u001b[0;34m)\u001b[0m\u001b[0;34m\u001b[0m\u001b[0;34m\u001b[0m\u001b[0m\n\u001b[0m\u001b[1;32m      3\u001b[0m \u001b[0;34m\u001b[0m\u001b[0m\n\u001b[1;32m      4\u001b[0m \u001b[0;31m# 方法二：\u001b[0m\u001b[0;34m\u001b[0m\u001b[0;34m\u001b[0m\u001b[0m\n\u001b[1;32m      5\u001b[0m \u001b[0;34m@\u001b[0m\u001b[0mproperty\u001b[0m\u001b[0;34m\u001b[0m\u001b[0;34m\u001b[0m\u001b[0m\n",
      "\u001b[0;31mNameError\u001b[0m: name 'get_weight' is not defined"
     ]
    }
   ],
   "source": [
    "# 方式一：\n",
    "weight = property(get_weight, set_weight, doc='weight in kilograms')\n",
    "\n",
    "# 方法二：\n",
    "@property\n",
    "def bar(self):\n",
    "    '''The bar attribute'''\n",
    "    return self.__dict__['bar']\n",
    "\n",
    "@bar.setter\n",
    "def bar(self, value):\n",
    "    self.__dict__['bar'] = value"
   ]
  },
  {
   "cell_type": "markdown",
   "metadata": {},
   "source": [
    "## 19.4 定义一个特性工厂函数\n",
    "\n"
   ]
  },
  {
   "cell_type": "code",
   "execution_count": 64,
   "metadata": {},
   "outputs": [
    {
     "name": "stdout",
     "output_type": "stream",
     "text": [
      "<__main__.LineItem object at 0x7fbb6741c9a0>\n",
      "<property object at 0x7fbb677751d0>\n",
      "This is an apple\n",
      "<class 'str'>\n",
      "<class 'float'>\n",
      "{'description': 'This is an apple', 'weight': 2.3, 'price': 1.34}\n"
     ]
    }
   ],
   "source": [
    "# 使用特性工厂函数！\n",
    "\n",
    "def quantity(storage_name): # storage_name参数确定各个特性的数据存储在哪儿；对weight特性来说，存储的名称是'weight'。\n",
    "\n",
    "    def qty_getter(instance): # qty_getter函数的第一个参数可以命名为self，但是这么做很奇怪，因为qty_getter函数不在类定义体中；instance指代要把属性存储其中的LineItem实例。\n",
    "        return instance.__dict__[storage_name] # qty_getter引用了storage_name，把它保存在这个函数的闭包里；值直接从instance.__dict__中获取，为的是跳过特性，防止无限递归。\n",
    "\n",
    "    def qty_setter(instance, value): # 定义qty_setter函数，第一个参数也是instance。\n",
    "        if value > 0 :\n",
    "            instance.__dict__[storage_name] = value # 值直接存到instance.__dict__中，这也是为了跳过特性。\n",
    "        else :\n",
    "            raise ValueError('value must be > 0')\n",
    "    return property(qty_getter, qty_setter) # 构建一个自定义的特性对象，然后将其返回。\n",
    "\n",
    "\n",
    "class LineItem:\n",
    "    weight = quantity('weight') # 使用工厂函数把第一个自定义的特性weight定义为类属性\n",
    "    price = quantity('price') # 第二次调用，构建另一个自定义的特性，price。\n",
    "    \n",
    "    \"\"\"\n",
    "        特性是类属性。构建各个quantity特性对象时,要传入LineItem实例属性的名称,让特性管理。\n",
    "        赋值语句的右边先计算,因此调用quantity()时,weight类属性还不存在。\n",
    "    \"\"\"\n",
    "\n",
    "    def __init__(self, description, weight, price):\n",
    "        self.description = description\n",
    "        self.weight = weight # 这里，特性已经激活，确保不能把weight设为负数或零。\n",
    "        self.price = price\n",
    "\n",
    "    def subtotal(self):\n",
    "        return self.weight * self.price # 这里也用到了特性，使用特性获取实例中存储的值。\n",
    "\n",
    "    @property\n",
    "    def prop(self):\n",
    "        return 'property'\n",
    "\n",
    "apple = LineItem('This is an apple', 2.3, 1.34)\n",
    "\n",
    "total = apple.weight * apple.price\n",
    "\n",
    "p  = apple.prop\n",
    "\n",
    "# apple.weight = 2.5\n",
    "\n",
    "print(apple)\n",
    "\n",
    "print(LineItem.weight)\n",
    "\n",
    "print(apple.description)\n",
    "\n",
    "print(type(p))\n",
    "\n",
    "print(type(apple.weight))\n",
    "\n",
    "print(vars(apple))\n"
   ]
  },
  {
   "cell_type": "markdown",
   "metadata": {},
   "source": [
    "使用传统方式定义特性时，用于存储值的属性名硬编码在读值方法和设值方法中。\n",
    "\n",
    "这里的qty_getter和qty_setter函数是通用的，要依靠storage_name变量判断从__dict__中获取哪个属性，或者设置哪个属性。每次调用quantity工厂函数构建属性时，都要把storage_name参数设为独一无二的值。\n",
    "\n",
    "我们使用property对象包装qty_getter和qty_setter函数。需要运行这两个函数时，它们会从闭包中读取storage_name，确定从哪里获取属性的值，或者在哪里存储属性的值。\n",
    "\n",
    "**工厂函数构建的特性利用了19.3.1节所述的行为：weight特性覆盖了weight实例属性，因此对self.weight或nutmeg.weight的每个引用都由特性函数处理，只有直接存取__dict__属性才能跳过特性的处理逻辑。**\n",
    "\n",
    "在真实的系统中，分散在多个类中的多个字段可能要做同样的验证，此时最好把quantity工厂函数放在实用工具模块中，以便重复使用。最终可能要重构那个简单的工厂函数，改成更易扩展的描述符类，然后使用专门的子类执行不同的验证。在第20章中，我们会这么做。"
   ]
  },
  {
   "cell_type": "markdown",
   "metadata": {},
   "source": [
    "## 19.5 处理属性删除操作\n",
    "\n",
    "使用Python编程时不常删除属性，通过特性删除属性更少见。但是，Python支持这么做"
   ]
  },
  {
   "cell_type": "code",
   "execution_count": 12,
   "metadata": {},
   "outputs": [],
   "source": [
    "class BlackKnight:\n",
    "    def __init__(self):\n",
    "        self.members = ['an arm', 'another arm', 'a leg', 'another leg']\n",
    "        self.phrases = [\"'This but a scratch.\", \"It's just a flesh wound.\", \"I'm invincible!\", \"All right, we'll call it a draw.\"]\n",
    "\n",
    "    @property\n",
    "    def member(self):\n",
    "        print('next member is:')\n",
    "        return self.members[0]\n",
    "\n",
    "    @member.deleter\n",
    "    def member(self):\n",
    "        text = 'BLACK KNIGHT (loses {})\\n--{}'\n",
    "        print(text.format(self.members.pop(0), self.phrases.pop(0)))"
   ]
  },
  {
   "cell_type": "code",
   "execution_count": 13,
   "metadata": {},
   "outputs": [
    {
     "name": "stdout",
     "output_type": "stream",
     "text": [
      "next member is:\n"
     ]
    },
    {
     "data": {
      "text/plain": [
       "'an arm'"
      ]
     },
     "execution_count": 13,
     "metadata": {},
     "output_type": "execute_result"
    }
   ],
   "source": [
    "knight = BlackKnight()\n",
    "\n",
    "knight.member"
   ]
  },
  {
   "cell_type": "code",
   "execution_count": 14,
   "metadata": {},
   "outputs": [
    {
     "name": "stdout",
     "output_type": "stream",
     "text": [
      "BLACK KNIGHT (loses an arm)\n",
      "--'This but a scratch.\n"
     ]
    }
   ],
   "source": [
    "del knight.member"
   ]
  },
  {
   "cell_type": "code",
   "execution_count": 15,
   "metadata": {},
   "outputs": [
    {
     "name": "stdout",
     "output_type": "stream",
     "text": [
      "BLACK KNIGHT (loses another arm)\n",
      "--It's just a flesh wound.\n"
     ]
    }
   ],
   "source": [
    "del knight.member"
   ]
  },
  {
   "cell_type": "markdown",
   "metadata": {},
   "source": [
    "## 19.6 处理属性的重要属性和函数\n",
    "\n",
    "### 19.6.1 影响属性处理方式的特殊属性\n",
    "\n",
    "```__class__```\n",
    "\n",
    "对象所属类的引用（即obj.\\_\\_class\\_\\_与type(obj)的作用相同）。Python的某些特殊方法，例如__getattr__，只在对象的类中寻找，而不在实例中寻找。\n",
    "\n",
    "```__dict__```\n",
    "\n",
    "一个映射，存储对象或类的可写属性。有__dict__属性的对象，任何时候都能随意设置新属性。如果类有__slots__属性，它的实例可能没有__dict__属性。参见下面对__slots__属性的说明。\n",
    "\n",
    "```__slots__```\n",
    "\n",
    "类可以定义这个这属性，限制实例能有哪些属性。__slots__属性的值是一个字符串组成的元组，指明允许有的属性。[插图]如果__slots__中没有'__dict__'，那么该类的实例没有__dict__属性，实例只允许有指定名称的属性。\n",
    "\n",
    "### 19.6.2 处理属性的内置函数\n",
    "\n",
    "```\n",
    "dir([object])\n",
    "```\n",
    "列出对象的大多数属性。官方文档说，dir函数的目的是交互式使用，因此没有提供完整的属性列表，只列出一组“重要的”属性名。dir函数能审查有或没有__dict__属性的对象。dir函数不会列出__dict__属性本身，但会列出其中的键。dir函数也不会列出类的几个特殊属性，例如__mro__、\\_\\_bases\\_\\_和\\_\\_name\\_\\_。如果没有指定可选的object参数，dir函数会列出当前作用域中的名称。\n",
    "\n",
    "```\n",
    "getattr(object, name[, default])\n",
    "```\n",
    "\n",
    "从object对象中获取name字符串对应的属性。获取的属性可能来自对象所属的类或超类。如果没有指定的属性，getattr函数抛出AttributeError异常，或者返回default参数的值（如果设定了这个参数的话）。\n",
    "\n",
    "```\n",
    "hasattr(object, name)\n",
    "```\n",
    "\n",
    "如果object对象中存在指定的属性，或者能以某种方式（例如继承）通过object对象获取指定的属性，返回True。文档说道：“这个函数的实现方法是调用getattr(object, name)函数，看看是否抛出AttributeError异常。”\n",
    "\n",
    "```\n",
    "setattr(object, name, value)\n",
    "```\n",
    "\n",
    "把object对象指定属性的值设为value，前提是object对象能接受那个值。这个函数可能会创建一个新属性，或者覆盖现有的属性。\n",
    "```\n",
    "vars([object])\n",
    "```\n",
    "返回object对象的__dict__属性；如果实例所属的类定义了__slots__属性，实例没有__dict__属性，那么vars函数不能处理那个实例（相反，dir函数能处理这样的实例）。如果没有指定参数，那么vars（　）函数的作用与locals（　）函数一样：返回表示本地作用域的字典。\n",
    "\n",
    "### 19.6.3 处理属性的特殊方法\n",
    "\n",
    "使用点号或内置的getattr、hasattr和setattr函数存取属性都会触发下述列表中相应的特殊方法。但是，**直接通过实例的__dict__属性读写属性不会触发这些特殊方法——如果需要，通常会使用这种方式跳过特殊方法。**\n",
    "\n",
    "要假定特殊方法从类上获取，即便操作目标是实例也是如此。因此，**特殊方法不会被同名实例属性遮盖。**\n",
    "\n",
    "```\n",
    "__delattr__(self, name)\n",
    "\n",
    "```\n",
    "只要使用del语句删除属性，就会调用这个方法。例如，delobj.attr语句触发Class.\\_\\_delattr\\_\\_(obj, 'attr')方法。\n",
    "\n",
    "```\n",
    "__dir__(self)\n",
    "```\n",
    "\n",
    "把对象传给dir函数时调用，列出属性。例如，dir(obj)触发Class.\\_\\_dir\\_\\_(obj)方法。\n",
    "\n",
    "```\n",
    "__getattr__(self, name)\n",
    "```\n",
    "\n",
    "仅当获取指定的属性失败，搜索过obj、Class和超类之后调用。表达式obj.no_such_attr、getattr(obj, 'no_such_attr')和hasattr(obj, 'no_such_attr')可能会触发Class.\\_\\_getattr\\_\\_(obj,'no_such_attr')方法，但是，**仅当在obj、Class和超类中找不到指定的属性时才会触发。**\n",
    "\n",
    "```\n",
    "__getattribute__(self, name)\n",
    "```\n",
    "\n",
    "尝试获取指定的属性时总会调用这个方法，不过，寻找的属性是特殊属性或特殊方法时除外。点号与getattr和hasattr内置函数会触发这个方法。调用__getattribute__方法且抛出AttributeError异常时，才会调用__getattr__方法。为了在获取obj实例的属性时不导致无限递归，__getattribute__方法的实现要使用super().\\_\\_getattribute\\_\\_(obj, name)。\n",
    "\n",
    "```\n",
    "__setattr__(self, name, value)\n",
    "```\n",
    "\n",
    "尝试设置指定的属性时总会调用这个方法。点号和setattr内置函数会触发这个方法。例如，obj.attr=42和setattr(obj, 'attr',42)都会触发Class.\\_\\_setattr\\_\\_(obj, ‘attr’, 42)方法。\n",
    "\n",
    "> 特殊方法__getattribute__和__setattr__不管怎样都会调用，几乎会影响每一次属性存取，因此比__getattr__方法（只处理不存在的属性名）更难正确使用。与定义这些特殊方法相比，使用特性或描述符相对不易出错。"
   ]
  },
  {
   "cell_type": "markdown",
   "metadata": {},
   "source": []
  }
 ],
 "metadata": {
  "interpreter": {
   "hash": "e646c64beb1dc31dce11c6ddfc60e5f67dd550bf9836c68ffd554ddf87122867"
  },
  "kernelspec": {
   "display_name": "Python 3.9.7 ('base')",
   "language": "python",
   "name": "python3"
  },
  "language_info": {
   "codemirror_mode": {
    "name": "ipython",
    "version": 3
   },
   "file_extension": ".py",
   "mimetype": "text/x-python",
   "name": "python",
   "nbconvert_exporter": "python",
   "pygments_lexer": "ipython3",
   "version": "3.9.7"
  },
  "orig_nbformat": 4
 },
 "nbformat": 4,
 "nbformat_minor": 2
}
