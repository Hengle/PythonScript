{
 "cells": [
  {
   "cell_type": "markdown",
   "metadata": {},
   "source": [
    "# 20 属性描述符\n",
    "\n",
    "描述符是实现了特定协议的类，这个协议包括__get__、__set__和__delete__方法。property类实现了完整的描述符协议。\n",
    "\n",
    "实现了__get__、__set__或__delete__方法的类是描述符。描述符的用法是，创建一个实例，作为另一个类的类属性。\n",
    "\n",
    "<img src=\"Chapter20/IMG_E2D17AE68F3D-1.jpeg\" alt=\"drawing\" style=\"width:640px;\"/>"
   ]
  },
  {
   "cell_type": "markdown",
   "metadata": {},
   "source": [
    "## 20.1  描述符示例：验证属性\n",
    "\n",
    "### 20.1.1 一个简单的描述符 —— 使用基本的描述符类创建属性"
   ]
  },
  {
   "cell_type": "code",
   "execution_count": 26,
   "metadata": {},
   "outputs": [
    {
     "name": "stdout",
     "output_type": "stream",
     "text": [
      "35.0\n",
      "<class 'float'>\n",
      "{'description': 'apple', 'weight': 10.0, 'price': 3.5}\n"
     ]
    }
   ],
   "source": [
    "# 基本用法\n",
    "\n",
    "class Quantity: # 描述符类\n",
    "\n",
    "    def __init__(self, storage_name):\n",
    "        self.storage_name = storage_name\n",
    "\n",
    "    def __set__(self, instance, value):\n",
    "        if value > 0 :\n",
    "            instance.__dict__[self.storage_name] = value #  这里，必须直接处理托管实例的__dict__属性；如果使用内置的setattr函数，会再次触发__set__方法，导致无限递归。其原因就是托管属性与描述符实例名字相同！\n",
    "        else:\n",
    "            raise ValueError('value must be > 0!')\n",
    "\n",
    "class LineItem: # 托管类\n",
    "    weight = Quantity('weight') # 描述符实例\n",
    "    price = Quantity('price')\n",
    "\n",
    "    def __init__(self, description, weight, price):\n",
    "        self.description = description\n",
    "        self.weight = weight # 托管属性\n",
    "        self.price = price\n",
    "\n",
    "    def subtotal(self):\n",
    "        return self.price * self.weight\n",
    "\n",
    "\n",
    "\n",
    "\n",
    "apples = LineItem('apple', 2.0, 3.5) # 托管实例\n",
    "\n",
    "#print(apples.subtotal())\n",
    "\n",
    "apples.weight = 10.0  # 存储属性\n",
    "\n",
    "\n",
    "print(apples.subtotal())\n",
    "\n",
    "\n",
    "print(type(apples.weight))\n",
    "\n",
    "print(vars(apples))"
   ]
  },
  {
   "cell_type": "markdown",
   "metadata": {},
   "source": [
    "编写__set__方法时，要记住self和instance参数的意思：self是描述符实例，instance是托管实例。管理实例属性的描述符应该把值存储在托管实例中。因此，Python才为描述符中的那个方法提供了instance参数。\n",
    "\n",
    "```py\n",
    "# 正确写法：\n",
    "instance.__dict__[self.storage_name] = value\n",
    "# 错误写法：\n",
    "self.__dict__[self.storage_name] = value\n",
    "```\n",
    "\n",
    "为了理解错误的原因，可以想想__set__方法前两个参数（self和instance）的意思。这里，self是描述符实例，它其实是托管类的类属性。同一时刻，内存中可能有几千个LineItem实例，不过只会有两个描述符实例：LineItem.weight和LineItem.price。因此，存储在描述符实例中的数据，其实会变成LineItem类的类属性，从而由全部LineItem实例共享。"
   ]
  },
  {
   "cell_type": "markdown",
   "metadata": {},
   "source": [
    "### 20.1.2 变得更加复杂 —— 自动获取储存属性的名称\n",
    "\n",
    "\n",
    "**为了避免在描述符声明语句中重复输入属性名，我们将为每个Quantity实例的storage_name属性生成一个独一无二的字符串。**"
   ]
  },
  {
   "cell_type": "code",
   "execution_count": 17,
   "metadata": {},
   "outputs": [
    {
     "name": "stdout",
     "output_type": "stream",
     "text": [
      "7.0\n",
      "35.0\n",
      "{'description': 'apple', 'Quantity#0': 10.0, 'Quantity#1': 3.5}\n",
      "{'description': 'banana', 'Quantity#0': 1.5, 'Quantity#1': 2}\n"
     ]
    }
   ],
   "source": [
    "# 基本用法\n",
    "\n",
    "class Quantity: # 描述符类\n",
    "    __count = 0\n",
    "    def __init__(self):\n",
    "        cls = self.__class__\n",
    "        index = cls.__count\n",
    "        name = cls.__name__\n",
    "        self.storage_name = '{}#{}'.format(name, index)\n",
    "        cls.__count += 1\n",
    "\n",
    "    def __set__(self, instance, value):\n",
    "        if value > 0 :\n",
    "            setattr(instance, self.storage_name, value)\n",
    "        else:\n",
    "            raise ValueError('value must be > 0!')\n",
    "\n",
    "    def __get__(self, instance, name):\n",
    "        return getattr(instance, self.storage_name)\n",
    "\n",
    "class LineItem: # 托管类\n",
    "    weight = Quantity() # 描述符实例\n",
    "    price = Quantity()\n",
    "\n",
    "    def __init__(self, description, weight, price):\n",
    "        self.description = description\n",
    "        self.weight = weight # 托管属性\n",
    "        self.price = price\n",
    "\n",
    "    def subtotal(self):\n",
    "        return self.price * self.weight\n",
    "\n",
    "\n",
    "\n",
    "\n",
    "apples = LineItem('apple', 2.0, 3.5) # 托管实例\n",
    "banana = LineItem('banana', 1.5, 2) # 托管实例\n",
    "\n",
    "print(apples.subtotal())\n",
    "\n",
    "apples.weight = 10.0  # 存储属性\n",
    "\n",
    "\n",
    "print(apples.subtotal())\n",
    "\n",
    "\n",
    "print(vars(apples))\n",
    "print(vars(banana))\n"
   ]
  },
  {
   "cell_type": "code",
   "execution_count": null,
   "metadata": {},
   "outputs": [],
   "source": []
  }
 ],
 "metadata": {
  "interpreter": {
   "hash": "e646c64beb1dc31dce11c6ddfc60e5f67dd550bf9836c68ffd554ddf87122867"
  },
  "kernelspec": {
   "display_name": "Python 3.9.7 ('base')",
   "language": "python",
   "name": "python3"
  },
  "language_info": {
   "codemirror_mode": {
    "name": "ipython",
    "version": 3
   },
   "file_extension": ".py",
   "mimetype": "text/x-python",
   "name": "python",
   "nbconvert_exporter": "python",
   "pygments_lexer": "ipython3",
   "version": "3.9.7"
  },
  "orig_nbformat": 4
 },
 "nbformat": 4,
 "nbformat_minor": 2
}
