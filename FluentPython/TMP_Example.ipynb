{
 "cells": [
  {
   "cell_type": "code",
   "execution_count": 7,
   "source": [
    "\n",
    "def averager():\n",
    "    count = 0\n",
    "    total = 0\n",
    "    average = None\n",
    "    while True:\n",
    "        r = yield average\n",
    "        total += r\n",
    "        count += 1\n",
    "        average = total/count"
   ],
   "outputs": [],
   "metadata": {}
  },
  {
   "cell_type": "code",
   "execution_count": 8,
   "source": [
    "a = averager()\n",
    "print(type(a))\n",
    "next(a)"
   ],
   "outputs": [
    {
     "output_type": "stream",
     "name": "stdout",
     "text": [
      "<class 'generator'>\n"
     ]
    }
   ],
   "metadata": {}
  },
  {
   "cell_type": "code",
   "execution_count": 3,
   "source": [
    "type(a)"
   ],
   "outputs": [
    {
     "output_type": "execute_result",
     "data": {
      "text/plain": [
       "generator"
      ]
     },
     "metadata": {},
     "execution_count": 3
    }
   ],
   "metadata": {}
  },
  {
   "cell_type": "code",
   "execution_count": 4,
   "source": [
    "a.send(3)"
   ],
   "outputs": [
    {
     "output_type": "execute_result",
     "data": {
      "text/plain": [
       "3.0"
      ]
     },
     "metadata": {},
     "execution_count": 4
    }
   ],
   "metadata": {}
  },
  {
   "cell_type": "code",
   "execution_count": 5,
   "source": [
    "a.send(5)"
   ],
   "outputs": [
    {
     "output_type": "execute_result",
     "data": {
      "text/plain": [
       "4.0"
      ]
     },
     "metadata": {},
     "execution_count": 5
    }
   ],
   "metadata": {}
  },
  {
   "cell_type": "code",
   "execution_count": 6,
   "source": [
    "type(a)"
   ],
   "outputs": [
    {
     "output_type": "execute_result",
     "data": {
      "text/plain": [
       "generator"
      ]
     },
     "metadata": {},
     "execution_count": 6
    }
   ],
   "metadata": {}
  },
  {
   "cell_type": "code",
   "execution_count": 9,
   "source": [
    "a.close()"
   ],
   "outputs": [],
   "metadata": {}
  },
  {
   "cell_type": "code",
   "execution_count": 11,
   "source": [
    "from collections import namedtuple\n",
    "result = namedtuple(\"result\",\"count average\")\n",
    "def averager():\n",
    "    count = 0\n",
    "    total = 0\n",
    "    average = None\n",
    "    while True:\n",
    "        r = yield\n",
    "        if r == None:\n",
    "            break\n",
    "        total += r\n",
    "        count += 1\n",
    "        average = total/count\n",
    "    return result(count, average)"
   ],
   "outputs": [],
   "metadata": {}
  },
  {
   "cell_type": "code",
   "execution_count": 19,
   "source": [
    "a = averager()\n",
    "next(a)\n",
    "a.send(10)\n",
    "a.send(12)\n",
    "a.send(14)\n",
    "a.send(16)\n",
    "a.send(18)\n",
    "a.send(20)\n",
    "a.send(22)\n",
    "a.send(24)\n",
    "try:\n",
    "    a.send(None)\n",
    "except StopIteration as r:\n",
    "    print(r)"
   ],
   "outputs": [
    {
     "output_type": "stream",
     "name": "stdout",
     "text": [
      "result(count=8, average=17.0)\n"
     ]
    }
   ],
   "metadata": {}
  },
  {
   "cell_type": "code",
   "execution_count": 29,
   "source": [
    "from collections import namedtuple\n",
    "\n",
    "Result = namedtuple(\"result\",\"count average\")\n",
    "\n",
    "def averager():\n",
    "    count = 0\n",
    "    total = 0\n",
    "    average = None\n",
    "    while True:\n",
    "        r = yield\n",
    "        if r == None:\n",
    "            break\n",
    "        total += r\n",
    "        count += 1\n",
    "        average = total/count\n",
    "    return Result(count, average)\n",
    "\n",
    "def grouper(results, key):\n",
    "    while True:\n",
    "        results[key] = yield from averager()\n",
    "\n",
    "\n",
    "data = {\n",
    "    'girls;kg':\n",
    "        [40.9, 38.5, 44.3, 42.2, 45.2, 41.7, 44.5, 38.0, 40.6, 44.5],\n",
    "    'girls;m':\n",
    "        [1.6, 1.51, 1.4, 1.3, 1.41, 1.39, 1.33, 1.46, 1.45, 1.43],\n",
    "    'boys;kg':\n",
    "        [39.0, 40.8, 43.2, 40.8, 43.1, 38.6, 41.4, 40.6, 36.3],\n",
    "    'boys;m':\n",
    "        [1.38, 1.5, 1.32, 1.25, 1.37, 1.48, 1.25, 1.49, 1.46],\n",
    "}\n",
    "\n",
    "def report(results):\n",
    "    for key, result in sorted(results.items()):\n",
    "        group, unit = key.split(';')\n",
    "        print(\"{:2} {:5} averaging {:.2f} {}\".format(\n",
    "            result.count, group, result.average, unit\n",
    "        ))\n",
    "\n",
    "result = {}\n",
    "for key, value in data.items():\n",
    "    group = grouper(result, key)\n",
    "    next(group)\n",
    "    for v in value:\n",
    "        group.send(v)\n",
    "    group.send(None)\n",
    "    \n",
    "report(result)"
   ],
   "outputs": [
    {
     "output_type": "stream",
     "name": "stdout",
     "text": [
      " 9 boys  averaging 40.42 kg\n",
      " 9 boys  averaging 1.39 m\n",
      "10 girls averaging 42.04 kg\n",
      "10 girls averaging 1.43 m\n"
     ]
    }
   ],
   "metadata": {}
  },
  {
   "cell_type": "code",
   "execution_count": null,
   "source": [
    "from collections import namedtuple\n",
    "\n",
    "Event = namedtuple(\"Event\", \"time proc action\")\n",
    "\n",
    "async def taxi_process(ident, trips, start_time=0):\n",
    "    time = yield Event(start_time, ident, \"leave garage\") # 出车库\n",
    "    for i in range(trips):\n",
    "        time = yield Event(time, ident, \"drop off passenger\") # 放乘客\n",
    "        time = yield Event(time, ident, \"pick up passenger\")  # 接乘客\n",
    "    yield Event(time, ident, \"going home\")                  # 回家"
   ],
   "outputs": [],
   "metadata": {}
  }
 ],
 "metadata": {
  "orig_nbformat": 4,
  "language_info": {
   "name": "python",
   "version": "3.8.5",
   "mimetype": "text/x-python",
   "codemirror_mode": {
    "name": "ipython",
    "version": 3
   },
   "pygments_lexer": "ipython3",
   "nbconvert_exporter": "python",
   "file_extension": ".py"
  },
  "kernelspec": {
   "name": "python3",
   "display_name": "Python 3.8.5 64-bit ('base': conda)"
  },
  "interpreter": {
   "hash": "e6db7d16afb9d2b05a6270becd2d66f0676bfd807f06b7702e9e3df3fb7a71ca"
  }
 },
 "nbformat": 4,
 "nbformat_minor": 2
}