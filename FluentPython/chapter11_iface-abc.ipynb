{
 "metadata": {
  "language_info": {
   "codemirror_mode": {
    "name": "ipython",
    "version": 3
   },
   "file_extension": ".py",
   "mimetype": "text/x-python",
   "name": "python",
   "nbconvert_exporter": "python",
   "pygments_lexer": "ipython3",
   "version": "3.8.3"
  },
  "orig_nbformat": 4,
  "kernelspec": {
   "name": "python3",
   "display_name": "Python 3.8.3 64-bit"
  },
  "interpreter": {
   "hash": "aee8b7b246df8f9039afb4144a1f6fd8d2ca17a180786b69acc140d282b71a49"
  }
 },
 "nbformat": 4,
 "nbformat_minor": 2,
 "cells": [
  {
   "source": [
    "# 接口：从协议到抽象类\n",
    "\n",
    "从鸭子类型的代表特征动态协议，到使接口更 明确、能验证实现是否符合规定的抽象基类(Abstract Base Class， ABC)。"
   ],
   "cell_type": "markdown",
   "metadata": {}
  },
  {
   "source": [
    "## 鸭子类型特征\n",
    "\n",
    "什么是鸭子类型？\n",
    "\n",
    "即忽略对象的真正类型，转而关注对象有没有实现所需的方法、签名和语义\n",
    "\n",
    "本章讨论的主题是“鸭子类型”:对象的类型无关紧要，只要实现 了特定的协议即可。"
   ],
   "cell_type": "markdown",
   "metadata": {}
  },
  {
   "source": [
    "## 11.3 打猴子补丁\n"
   ],
   "cell_type": "markdown",
   "metadata": {}
  },
  {
   "cell_type": "code",
   "execution_count": null,
   "metadata": {},
   "outputs": [],
   "source": [
    "import collections\n",
    "\n",
    "Card = collections.namedtuple('Card', ['rank', 'suit'])\n",
    "\n",
    "class FrenchDeck:\n",
    "    ranks = [str(n) for n in range(2, 11)] + list('JQKA')\n",
    "    suits = 'spades diamonds clubs hearts'.split()\n",
    "\n",
    "    def __init__(self):\n",
    "        self._cards = [Card(rank, suit) for suit in self.suits\n",
    "                                        for rank in self.ranks]\n",
    "\n",
    "    def __len__(self):\n",
    "        return len(self._cards)\n",
    "\n",
    "    def __getitem__(self, position):\n",
    "        return self._cards[position]\n",
    "\n"
   ]
  },
  {
   "cell_type": "code",
   "execution_count": null,
   "metadata": {},
   "outputs": [],
   "source": [
    "deck = FrenchDeck()\n",
    "deck[:5]"
   ]
  },
  {
   "cell_type": "code",
   "execution_count": null,
   "metadata": {},
   "outputs": [],
   "source": [
    "# 没有实现序列赋值，因此无法使用随机方法就地打乱\n",
    "from random import shuffle\n",
    "\n",
    "shuffle(deck)"
   ]
  },
  {
   "cell_type": "code",
   "execution_count": null,
   "metadata": {},
   "outputs": [],
   "source": [
    "# 猴子补丁\n",
    "# 定义一个普通的静态函数：\n",
    "\n",
    "def setCard(deck, position, value):\n",
    "    deck._cards[position] = value\n",
    "\n",
    "# 动态打猴子补丁\n",
    "FrenchDeck.__setitem__ = setCard\n",
    "shuffle(deck)\n",
    "deck[:5]"
   ]
  },
  {
   "source": [
    "这里的关键是，set_card 函数要知道 deck 对象有一个名为 _cards 的属性，而且 _cards 的值必须是可变序列。然后，我们把 set_card\n",
    "函数赋值给特殊方法 __setitem__，从而把它依附到 FrenchDeck\n",
    "类上。这种技术叫猴子补丁:在运行时修改类或模块，而不改动源码。 猴子补丁很强大，但是打补丁的代码与要打补丁的程序耦合十分紧密， 而且往往要处理隐藏和没有文档的部分。\n",
    "除了举例说明猴子补丁之外，示例 11-6 还强调了协议是动态 的:random.shuffle 函数不关心参数的类型，只要那个对象实现了\n",
    "部分可变序列协议即可。即便对象一开始没有所需的方法也没关系，后\n",
    "来再提供也行。"
   ],
   "cell_type": "markdown",
   "metadata": {}
  },
  {
   "source": [
    "## 抽象基类\n",
    "\n",
    "抽象基类的本质就是几个特殊方法"
   ],
   "cell_type": "markdown",
   "metadata": {}
  },
  {
   "cell_type": "code",
   "execution_count": null,
   "metadata": {},
   "outputs": [],
   "source": [
    "class Struggle:\n",
    "    def __len__(self):\n",
    "        return 1\n",
    "\n",
    "        \n",
    "# 抽象基类的本质就是几个特殊方法\n",
    "from collections import Sized\n",
    "isinstance(Struggle(), Sized)"
   ]
  },
  {
   "source": [
    "然而，即便是抽象基类，也不能滥用 isinstance 检查，用得多了可能导致代码异味，即表明面向对象设计得不好。在一连串 if/elif/elif 中使用 isinstance 做检查，然后根据对象的类型执\n",
    "行不同的操作，通常是不好的做法;此时应该使用多态，即采用一定的 方式定义类，让解释器把调用分派给正确的方法，而不使用\n",
    "if/elif/elif 块硬编码分派逻辑。"
   ],
   "cell_type": "markdown",
   "metadata": {}
  },
  {
   "source": [
    "## 继承抽象基类的方法"
   ],
   "cell_type": "markdown",
   "metadata": {}
  },
  {
   "cell_type": "code",
   "execution_count": null,
   "metadata": {},
   "outputs": [],
   "source": [
    "import collections\n",
    "\n",
    "Card = collections.namedtuple('Card', ['rank', 'suit'])\n",
    "\n",
    "class FrenchDeck2(collections.abc.MutableSequence):\n",
    "    ranks = [str(n) for n in range(2, 11)] + list('JQKA')\n",
    "    suits = 'spades diamonds clubs hearts'.split()\n",
    "\n",
    "    def __init__(self):\n",
    "        self._cards = [Card(rank, suit) for suit in self.suits\n",
    "                                        for rank in self.ranks]\n",
    "\n",
    "    def __len__(self):\n",
    "        return len(self._cards)\n",
    "\n",
    "    def __getitem__(self, position):\n",
    "        return self._cards[position]"
   ]
  },
  {
   "cell_type": "code",
   "execution_count": null,
   "metadata": {},
   "outputs": [],
   "source": [
    "# 定义类的时候不会检查继承关系，但是当实例化的时候，会进行检查：\n",
    "deck = FrenchDeck2()"
   ]
  },
  {
   "source": [
    "导入时(加载并编译 frenchdeck2.py 模块时)，Python 不会检查抽象方\n",
    "法的实现，在运行时实例化 FrenchDeck2 类时才会真正检查。因此，\n",
    "如果没有正确实现某个抽象方法，Python 会抛出 TypeError 异常，并\n",
    "把错误消息设为\"Can't instantiate abstract class\n",
    "FrenchDeck2 with abstract methods \\_\\_delitem\\_\\_, insert\"。\n",
    "\n",
    "正是\n",
    "这个原因，即便 FrenchDeck2 类不需要 \\_\\_delitem\\_\\_ 和 insert\n",
    "提供的行为，也要实现，因为 MutableSequence 抽象基类需要它 们。"
   ],
   "cell_type": "markdown",
   "metadata": {}
  },
  {
   "cell_type": "code",
   "execution_count": null,
   "metadata": {},
   "outputs": [],
   "source": [
    "import collections\n",
    "\n",
    "Card = collections.namedtuple('Card', ['rank', 'suit'])\n",
    "\n",
    "class FrenchDeck2(collections.abc.MutableSequence):\n",
    "    ranks = [str(n) for n in range(2, 11)] + list('JQKA')\n",
    "    suits = 'spades diamonds clubs hearts'.split()\n",
    "\n",
    "    def __init__(self):\n",
    "        self._cards = [Card(rank, suit) for suit in self.suits\n",
    "                                        for rank in self.ranks]\n",
    "\n",
    "    def __len__(self):\n",
    "        return len(self._cards)\n",
    "\n",
    "    def __getitem__(self, position):\n",
    "        return self._cards[position]\n",
    "\n",
    "    def __setitem__(self, position, value):\n",
    "        self._cards[position] = value\n",
    "\n",
    "    # 实现抽象类的抽象方法\n",
    "    def __delitem__(self, position):\n",
    "        del self._cards[position]\n",
    "\n",
    "    def insert(self, position, value):\n",
    "        self._cards[position].insert(position, value)"
   ]
  },
  {
   "source": [
    "## 标准库中的抽象基类\n",
    "\n",
    "从 Python 2.6 开始，标准库提供了抽象基类。大多数抽象基类在\n",
    "collections.abc 模块中定义，不过其他地方也有。\n",
    "\n",
    "如，numbers 和 io 包中有一些抽象基类。但是，collections.abc\n",
    "中的抽象基类最常用。我们来看看这个模块中有哪些抽象基类。"
   ],
   "cell_type": "markdown",
   "metadata": {}
  },
  {
   "cell_type": "code",
   "execution_count": null,
   "metadata": {},
   "outputs": [],
   "source": []
  },
  {
   "source": [
    "# 自定义抽象类和抽象方法（自定义接口！）"
   ],
   "cell_type": "markdown",
   "metadata": {}
  },
  {
   "cell_type": "code",
   "execution_count": 85,
   "metadata": {},
   "outputs": [],
   "source": [
    "import abc\n",
    "\n",
    "class Tombola(abc.ABC):\n",
    "\n",
    "    @abc.abstractmethod\n",
    "    def load(self, iterable):\n",
    "        \"\"\"从可迭代对象中添加元素\"\"\"\n",
    "\n",
    "\n",
    "    @abc.abstractmethod\n",
    "    def pick(self):\n",
    "        \"\"\"\n",
    "            随机删除元素，然后将其返回。\n",
    "            如果实例为空，这个方法应该抛出‘LookuppError’\n",
    "        \"\"\"\n",
    "\n",
    "    def loaded(self):\n",
    "        \"\"\"\n",
    "            如果至少有一个元素，返回‘True’，否则返回‘False’\n",
    "        \"\"\"\n",
    "        return bool(self.inspect())\n",
    "\n",
    "    def inspect(self):\n",
    "        \"\"\"\n",
    "            返回一个有序元组，由当前元素构成。\n",
    "        \"\"\"\n",
    "        items = []\n",
    "        while True:\n",
    "            try:\n",
    "                items.append(self.pick())\n",
    "            except LookupError:\n",
    "                break\n",
    "        self.load(items)\n",
    "        return tuple(sorted(items))"
   ]
  },
  {
   "cell_type": "code",
   "execution_count": 88,
   "metadata": {},
   "outputs": [
    {
     "output_type": "execute_result",
     "data": {
      "text/plain": [
       "['__abstractmethods__',\n",
       " '__class__',\n",
       " '__delattr__',\n",
       " '__dict__',\n",
       " '__dir__',\n",
       " '__doc__',\n",
       " '__eq__',\n",
       " '__format__',\n",
       " '__ge__',\n",
       " '__getattribute__',\n",
       " '__gt__',\n",
       " '__hash__',\n",
       " '__init__',\n",
       " '__init_subclass__',\n",
       " '__le__',\n",
       " '__lt__',\n",
       " '__module__',\n",
       " '__ne__',\n",
       " '__new__',\n",
       " '__reduce__',\n",
       " '__reduce_ex__',\n",
       " '__repr__',\n",
       " '__setattr__',\n",
       " '__sizeof__',\n",
       " '__slots__',\n",
       " '__str__',\n",
       " '__subclasshook__',\n",
       " '__weakref__',\n",
       " '_abc_impl',\n",
       " 'inspect',\n",
       " 'load',\n",
       " 'loaded',\n",
       " 'pick']"
      ]
     },
     "metadata": {},
     "execution_count": 88
    }
   ],
   "source": [
    "dir(Tombola)"
   ]
  },
  {
   "cell_type": "code",
   "execution_count": 91,
   "metadata": {},
   "outputs": [
    {
     "output_type": "execute_result",
     "data": {
      "text/plain": [
       "<_abc_data at 0x7fe5e2693840>"
      ]
     },
     "metadata": {},
     "execution_count": 91
    }
   ],
   "source": [
    "Tombola._abc_impl"
   ]
  },
  {
   "source": [
    "## 一个普通的继承，只实现抽象类中的抽象函数"
   ],
   "cell_type": "markdown",
   "metadata": {}
  },
  {
   "cell_type": "code",
   "execution_count": 9,
   "metadata": {},
   "outputs": [],
   "source": [
    "# 一个子类： 使用一个更好的随机发生器\n",
    "\n",
    "import random\n",
    "\n",
    "class BingoCage(Tombola):\n",
    "\n",
    "    def __init__(self, items):\n",
    "        self._randomizer = random.SystemRandom()\n",
    "        self._items = []\n",
    "        self.load(items)\n",
    "\n",
    "\n",
    "    def load(self, items):\n",
    "        self._items.extend(items)\n",
    "        self._randomizer.shuffle(self._items)\n",
    "\n",
    "    def pick(self):\n",
    "        try:\n",
    "            return self._items.pop()\n",
    "        except IndexError:\n",
    "            raise LookupError('pick from empty BingoCage')\n",
    "\n",
    "    def __call__(self):\n",
    "        self.pick()"
   ]
  },
  {
   "cell_type": "code",
   "execution_count": 10,
   "metadata": {},
   "outputs": [],
   "source": [
    "f = BingoCage(['a','b','c','d'])"
   ]
  },
  {
   "cell_type": "code",
   "execution_count": 11,
   "metadata": {},
   "outputs": [
    {
     "output_type": "execute_result",
     "data": {
      "text/plain": [
       "'a'"
      ]
     },
     "metadata": {},
     "execution_count": 11
    }
   ],
   "source": [
    "f.pick()"
   ]
  },
  {
   "source": [
    "## 一个复杂的继承，不仅实现了抽象类中的抽象方法，还覆盖了抽象类中的非抽象方法，让代码效率提升"
   ],
   "cell_type": "markdown",
   "metadata": {}
  },
  {
   "cell_type": "code",
   "execution_count": 15,
   "metadata": {},
   "outputs": [],
   "source": [
    "# 另一个子类：覆盖抽象类中的非抽象方法，提高效率\n",
    "\n",
    "import random\n",
    "\n",
    "class LotterBlower(Tombola):\n",
    "\n",
    "    def __init__(self, iterable):\n",
    "        self._ball = list(iterable) # 这里用到了4.2的方法，创建一个副本，避免使用传入的序列，产生混淆。（尤其是我们的类还要删除和增添该数组）\n",
    "\n",
    "    def load(self, iterable):\n",
    "        self._ball.extend(iterable)\n",
    "\n",
    "    def pick(self):\n",
    "        try:\n",
    "            index = random.randrange(len(self._ball))\n",
    "        except ValueError:\n",
    "            raise LookupError(\"pick from empty LotterBlower!\")\n",
    "        return self._ball.pop(index)\n",
    "\n",
    "    # 覆盖重构抽象类中已经实现的非抽象方法，来提高函数效率。\n",
    "    def loaded(self):\n",
    "        return bool(self._ball)\n",
    "\n",
    "    # 覆盖重构抽象类中已经实现的非抽象方法，来提高函数效率。\n",
    "    def inspect(self):\n",
    "        return tuple(sorted(self._ball))"
   ]
  },
  {
   "cell_type": "code",
   "execution_count": 16,
   "metadata": {},
   "outputs": [],
   "source": [
    "lb = LotterBlower('a b c d'.split())"
   ]
  },
  {
   "cell_type": "code",
   "execution_count": 17,
   "metadata": {},
   "outputs": [
    {
     "output_type": "execute_result",
     "data": {
      "text/plain": [
       "('a', 'b', 'c', 'd')"
      ]
     },
     "metadata": {},
     "execution_count": 17
    }
   ],
   "source": [
    "lb.inspect()"
   ]
  },
  {
   "cell_type": "code",
   "execution_count": 18,
   "metadata": {},
   "outputs": [
    {
     "output_type": "execute_result",
     "data": {
      "text/plain": [
       "'c'"
      ]
     },
     "metadata": {},
     "execution_count": 18
    }
   ],
   "source": [
    "lb.pick()"
   ]
  },
  {
   "cell_type": "code",
   "execution_count": 19,
   "metadata": {},
   "outputs": [
    {
     "output_type": "execute_result",
     "data": {
      "text/plain": [
       "True"
      ]
     },
     "metadata": {},
     "execution_count": 19
    }
   ],
   "source": [
    "lb.loaded()"
   ]
  },
  {
   "source": [
    "## 虚拟子类的使用方法\n",
    "\n",
    "便不继 承，也有办法把一个类注册为抽象基类的虚拟子类。这样做时，我们保 证注册的类忠实地实现了抽象基类定义的接口，而 Python 会相信我们， 从而不做检查。如果我们说谎了，那么常规的运行时异常会把我们捕 获。\n",
    "\n",
    "注册虚拟子类的方式是在抽象基类上调用 register 方法。这么做之 后，注册的类会变成抽象基类的虚拟子类，而且 issubclass 和\n",
    "isinstance 等函数都能识别，但是注册的类不会从抽象基类中继承 任何方法或属性。\n",
    "\n",
    "\n",
    "虚拟子类不会继承注册的抽象基类，而且任何时候都不会检\n",
    " 查它是否符合抽象基类的接口，即便在实例化时也不会检查。为了\n",
    " 避免运行时错误，虚拟子类要实现所需的全部方法。"
   ],
   "cell_type": "markdown",
   "metadata": {}
  },
  {
   "cell_type": "code",
   "execution_count": 70,
   "metadata": {},
   "outputs": [],
   "source": [
    "# 使用注册的方法来实现虚拟子类有两种方法：一个是使用修饰器，一个是使用register函数\n",
    "\n",
    "from random import randrange\n",
    "\n",
    "# 使用第一种方法\n",
    "@Tombola.register  # 使用基类的register修饰器来创建虚拟子类\n",
    "class TombolaList(list):    # 实际继承了list类，亦可称为对list类的扩展\n",
    "\n",
    "    # def __init__(self):   # 直接继承list，不需要重新实现初始化方式\n",
    "\n",
    "    # 下面需要实现抽象基类的说有方法：\n",
    "    def pick(self):         # 这里直接使用了list的__bool_方法\n",
    "        if self:              \n",
    "            index = randrange(len(self))\n",
    "            return self.pop(index)\n",
    "        else:\n",
    "            raise LookupError(\"pick from empty TombolaList!\")\n",
    "\n",
    "    load = list.extend # 注意！这里直接将list的extent方法赋值给了虚拟子函数，因为他们的功能是一样的，省去了重新定义！！！\n",
    "    # load = self.extend # 不能使用self.extend,会返回错误：name 'self' is not defined\n",
    "                         # 而且在逻辑上也是不对的，毕竟self是该子函数，而不是父类。\n",
    "\n",
    "    def loaded(self):\n",
    "        return bool(list)\n",
    "\n",
    "    def inspect(self):\n",
    "        return tuple(sorted(self))\n"
   ]
  },
  {
   "cell_type": "code",
   "execution_count": 71,
   "metadata": {},
   "outputs": [
    {
     "output_type": "execute_result",
     "data": {
      "text/plain": [
       "('a', 'b', 'c', 'd', 'e')"
      ]
     },
     "metadata": {},
     "execution_count": 71
    }
   ],
   "source": [
    "tbl = TombolaList('a b c d e'.split())\n",
    "\n",
    "tbl.inspect()"
   ]
  },
  {
   "cell_type": "code",
   "execution_count": 72,
   "metadata": {},
   "outputs": [],
   "source": [
    "tbl.load('x y z'.split())"
   ]
  },
  {
   "cell_type": "code",
   "execution_count": 73,
   "metadata": {},
   "outputs": [
    {
     "output_type": "execute_result",
     "data": {
      "text/plain": [
       "('a', 'b', 'c', 'd', 'e', 'x', 'y', 'z')"
      ]
     },
     "metadata": {},
     "execution_count": 73
    }
   ],
   "source": [
    "tbl.inspect()"
   ]
  },
  {
   "cell_type": "code",
   "execution_count": 74,
   "metadata": {},
   "outputs": [
    {
     "output_type": "execute_result",
     "data": {
      "text/plain": [
       "'x'"
      ]
     },
     "metadata": {},
     "execution_count": 74
    }
   ],
   "source": [
    "tbl.pick()"
   ]
  },
  {
   "cell_type": "code",
   "execution_count": 75,
   "metadata": {},
   "outputs": [
    {
     "output_type": "execute_result",
     "data": {
      "text/plain": [
       "True"
      ]
     },
     "metadata": {},
     "execution_count": 75
    }
   ],
   "source": [
    "tbl.loaded()"
   ]
  },
  {
   "cell_type": "code",
   "execution_count": 76,
   "metadata": {},
   "outputs": [
    {
     "output_type": "execute_result",
     "data": {
      "text/plain": [
       "__main__.TombolaList2"
      ]
     },
     "metadata": {},
     "execution_count": 76
    }
   ],
   "source": [
    "# 另一种注册方式：\n",
    "# 使用register函数\n",
    "\n",
    "from random import randrange\n",
    "\n",
    "class TombolaList2(list):    # 不再使用修饰器，而是使用函数，其他的都说是一样的\n",
    "\n",
    "    # 下面需要实现抽象基类的说有方法：\n",
    "    def pick(self):         # 这里直接使用了list的__bool_方法\n",
    "        if self:              \n",
    "            index = randrange(len(self))\n",
    "            return self.pop(index)\n",
    "        else:\n",
    "            raise LookupError(\"pick from empty TombolaList!\")\n",
    "\n",
    "    load = list.extend \n",
    "\n",
    "    def loaded(self):\n",
    "        return bool(list)\n",
    "\n",
    "    def inspect(self):\n",
    "        return tuple(sorted(self))\n",
    " \n",
    "# 在全局进行注册： \n",
    "Tombola.register(TombolaList2)\n"
   ]
  },
  {
   "cell_type": "code",
   "execution_count": 77,
   "metadata": {},
   "outputs": [
    {
     "output_type": "execute_result",
     "data": {
      "text/plain": [
       "True"
      ]
     },
     "metadata": {},
     "execution_count": 77
    }
   ],
   "source": [
    "issubclass(TombolaList, Tombola)"
   ]
  },
  {
   "cell_type": "code",
   "execution_count": 78,
   "metadata": {},
   "outputs": [
    {
     "output_type": "execute_result",
     "data": {
      "text/plain": [
       "True"
      ]
     },
     "metadata": {},
     "execution_count": 78
    }
   ],
   "source": [
    "issubclass(TombolaList2, Tombola)\n"
   ]
  },
  {
   "cell_type": "code",
   "execution_count": 79,
   "metadata": {},
   "outputs": [
    {
     "output_type": "execute_result",
     "data": {
      "text/plain": [
       "True"
      ]
     },
     "metadata": {},
     "execution_count": 79
    }
   ],
   "source": [
    "issubclass(TombolaList2, list)"
   ]
  },
  {
   "cell_type": "code",
   "execution_count": 80,
   "metadata": {},
   "outputs": [
    {
     "output_type": "execute_result",
     "data": {
      "text/plain": [
       "True"
      ]
     },
     "metadata": {},
     "execution_count": 80
    }
   ],
   "source": [
    "isinstance(tbl, Tombola)"
   ]
  },
  {
   "cell_type": "code",
   "execution_count": 81,
   "metadata": {},
   "outputs": [
    {
     "output_type": "execute_result",
     "data": {
      "text/plain": [
       "True"
      ]
     },
     "metadata": {},
     "execution_count": 81
    }
   ],
   "source": [
    "isinstance(tbl, TombolaList)\n"
   ]
  },
  {
   "cell_type": "code",
   "execution_count": 82,
   "metadata": {},
   "outputs": [
    {
     "output_type": "execute_result",
     "data": {
      "text/plain": [
       "True"
      ]
     },
     "metadata": {},
     "execution_count": 82
    }
   ],
   "source": [
    "isinstance(tbl, list)\n",
    "\n"
   ]
  },
  {
   "cell_type": "code",
   "execution_count": 83,
   "metadata": {},
   "outputs": [
    {
     "output_type": "execute_result",
     "data": {
      "text/plain": [
       "False"
      ]
     },
     "metadata": {},
     "execution_count": 83
    }
   ],
   "source": [
    "isinstance(tbl, TombolaList2)"
   ]
  },
  {
   "source": [
    "类的继承关系在一个特殊的类属性中指定—— __mro__，即方 法解析顺序(Method Resolution Order)。这个属性的作用很简单，按顺\n",
    "序列出类及其超类，Python 会按照这个顺序搜索方法。17 查看 TomboList 类的 __mro__ 属性，你会发现它只列出了“真实的”超\n",
    "类，即 list 和 object"
   ],
   "cell_type": "markdown",
   "metadata": {}
  },
  {
   "cell_type": "code",
   "execution_count": 84,
   "metadata": {},
   "outputs": [
    {
     "output_type": "execute_result",
     "data": {
      "text/plain": [
       "(__main__.TombolaList, list, object)"
      ]
     },
     "metadata": {},
     "execution_count": 84
    }
   ],
   "source": [
    "TombolaList.__mro__"
   ]
  },
  {
   "source": [
    "Tombolist.__mro__ 中没有 Tombola，因此 Tombolist 没有从 Tombola 中继承任何方法。\n"
   ],
   "cell_type": "markdown",
   "metadata": {}
  },
  {
   "cell_type": "code",
   "execution_count": null,
   "metadata": {},
   "outputs": [],
   "source": []
  },
  {
   "cell_type": "code",
   "execution_count": null,
   "metadata": {},
   "outputs": [],
   "source": []
  }
 ]
}