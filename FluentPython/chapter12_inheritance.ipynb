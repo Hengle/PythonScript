{
 "metadata": {
  "language_info": {
   "codemirror_mode": {
    "name": "ipython",
    "version": 3
   },
   "file_extension": ".py",
   "mimetype": "text/x-python",
   "name": "python",
   "nbconvert_exporter": "python",
   "pygments_lexer": "ipython3",
   "version": "3.8.5"
  },
  "orig_nbformat": 4,
  "kernelspec": {
   "name": "python3",
   "display_name": "Python 3.8.5 64-bit ('base': conda)"
  },
  "interpreter": {
   "hash": "e6db7d16afb9d2b05a6270becd2d66f0676bfd807f06b7702e9e3df3fb7a71ca"
  }
 },
 "nbformat": 4,
 "nbformat_minor": 2,
 "cells": [
  {
   "source": [
    "# 12.1 内置类型存在无法覆盖的方法"
   ],
   "cell_type": "markdown",
   "metadata": {}
  },
  {
   "cell_type": "code",
   "execution_count": 6,
   "metadata": {},
   "outputs": [],
   "source": [
    "\n",
    "class DoppelDict(dict):\n",
    "\n",
    "    def __setitem__(self, key, value):\n",
    "        super().__setitem__(key, [value] * 2) # 覆盖父类的__setitem__方法"
   ]
  },
  {
   "cell_type": "code",
   "execution_count": 7,
   "metadata": {},
   "outputs": [
    {
     "output_type": "execute_result",
     "data": {
      "text/plain": [
       "{'one': 1}"
      ]
     },
     "metadata": {},
     "execution_count": 7
    }
   ],
   "source": [
    "# 初始化没有调用我们覆盖的函数，而是使用了父类的__init__方法\n",
    "dd = DoppelDict({'one' : 1})\n",
    "dd "
   ]
  },
  {
   "cell_type": "code",
   "execution_count": 8,
   "metadata": {},
   "outputs": [
    {
     "output_type": "execute_result",
     "data": {
      "text/plain": [
       "{'one': 1, 'two': [2, 2]}"
      ]
     },
     "metadata": {},
     "execution_count": 8
    }
   ],
   "source": [
    "# 直接调用setitem方法，正常运行我们的覆盖版本\n",
    "dd['two'] = 2\n",
    "dd"
   ]
  },
  {
   "cell_type": "code",
   "execution_count": 9,
   "metadata": {},
   "outputs": [
    {
     "output_type": "execute_result",
     "data": {
      "text/plain": [
       "{'one': 1, 'two': [2, 2], 'three': 3}"
      ]
     },
     "metadata": {},
     "execution_count": 9
    }
   ],
   "source": [
    "# 而使用update函数时，又用了内置的方法！\n",
    "dd.update(three = 3)\n",
    "dd"
   ]
  },
  {
   "source": [
    " 直接子类化内置类型(如 dict、list 或 str)容易出 错，因为内置类型的方法通常会忽略用户覆盖的方法。不要子类化 内置类型，用户自己定义的类应该继承 collections 模块 (http://docs.python.org/3/library/collections.html)中的类，例如 UserDict、UserList 和 UserString，这些类做了特殊设计， 因此易于扩展。"
   ],
   "cell_type": "markdown",
   "metadata": {}
  },
  {
   "source": [
    "本节所述的问题只发生在 C 语言实现的内置类型内部的方法委托\n",
    "上，而且只影响直接继承内置类型的用户自定义类。如果子类化使用 Python 编写的类，如 UserDict 或 MutableMapping，就不会受此影 响。3"
   ],
   "cell_type": "markdown",
   "metadata": {}
  },
  {
   "cell_type": "code",
   "execution_count": null,
   "metadata": {},
   "outputs": [],
   "source": []
  }
 ]
}