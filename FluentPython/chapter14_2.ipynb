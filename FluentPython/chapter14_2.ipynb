{
 "cells": [
  {
   "cell_type": "markdown",
   "metadata": {
    "collapsed": true,
    "pycharm": {
     "name": "#%% md\n"
    }
   },
   "source": [
    "- 语言内部使用 iter(...) 内置函数处理可迭代对象的方式\n",
    "- 如何使用 Python 实现经典的迭代器模式\n",
    "- 详细说明生成器函数的工作原理\n",
    "- 如何使用生成器函数或生成器表达式代替经典的迭代器\n",
    "- 如何使用标准库中通用的生成器函数\n",
    "- 如何使用 yield from 语句合并生成器\n",
    "- 案例分析:在一个数据库转换工具中使用生成器函数处理大型数据集\n",
    "- 为什么生成器和协程看似相同，实则差别很大，不能混淆"
   ]
  },
  {
   "cell_type": "markdown",
   "source": [
    "- 什么是迭代器\n",
    "### 迭代器\n",
    "  迭代器是这样的对象:实现了无参数的 \\_\\_next__ 方法，返回序\n",
    "列中的下一个元素;如果没有元素了，那么抛出 StopIteration 异\n",
    "常。Python 中的迭代器还实现了 \\_\\_iter__ 方法，因此迭代器也可以迭代。\n",
    "\n",
    "主要用在迭代操作中，如for循环"
   ],
   "metadata": {
    "collapsed": false,
    "pycharm": {
     "name": "#%% md\n"
    }
   }
  },
  {
   "cell_type": "code",
   "execution_count": 52,
   "outputs": [],
   "source": [
    "# 实现迭代器（迭代器是对象，即类）\n",
    "# 迭代器原理\n",
    "\n",
    "# 斐波那契数列\n",
    "class Fib:\n",
    "\n",
    "    def __init__(self, n):\n",
    "        self._prev = 0\n",
    "        self._cur = 1\n",
    "        self._n = n\n",
    "\n",
    "    def __iter__(self):\n",
    "        return self # 特点一，迭代时返回自己，而非数据\n",
    "\n",
    "    # 特点二：实现next，并只返回这一个元素（同一时间只返回一个元素，因此占用内存更少！\n",
    "    def __next__(self):\n",
    "        if self._n > 0:\n",
    "            value = self._cur\n",
    "            self._prev = self._cur\n",
    "            self._cur = self._prev + self._cur\n",
    "            self._n -= 1\n",
    "            return value\n",
    "        else:\n",
    "            raise StopIteration()"
   ],
   "metadata": {
    "collapsed": false,
    "pycharm": {
     "name": "#%%\n"
    }
   }
  },
  {
   "cell_type": "code",
   "execution_count": 56,
   "outputs": [
    {
     "name": "stdout",
     "output_type": "stream",
     "text": [
      "1\n",
      "2\n",
      "4\n",
      "8\n",
      "16\n"
     ]
    }
   ],
   "source": [
    "f =Fib(5)\n",
    "for v in f:\n",
    "    print(v)"
   ],
   "metadata": {
    "collapsed": false,
    "pycharm": {
     "name": "#%%\n"
    }
   }
  },
  {
   "cell_type": "markdown",
   "source": [
    "### 什么是生成器\n",
    "生成器是一种函数（迭代器是一个对象），使用yield关键字作为返回操作（普通的函数使用\n",
    "return），返回的类型是生成器对象。生成器对象本质就是迭代器，没有作用区别，只是前者\n",
    "是自动生成的，语法上更加简洁。"
   ],
   "metadata": {
    "collapsed": false,
    "pycharm": {
     "name": "#%% md\n"
    }
   }
  },
  {
   "cell_type": "code",
   "execution_count": 57,
   "outputs": [
    {
     "name": "stdout",
     "output_type": "stream",
     "text": [
      "1\n",
      "1\n",
      "2\n",
      "3\n",
      "5\n",
      "8\n"
     ]
    }
   ],
   "source": [
    "# 生成器有两种方式，一份是生成器函数，一个是生成器表达式\n",
    "# 斐波那契数列 生成器函数：\n",
    "def fib(n):\n",
    "    prev, cur = 0, 1\n",
    "    while n > 0:\n",
    "        yield cur # 此处返回一个生成器，但函数还会继续运行！\n",
    "        prev, cur = cur, cur + prev\n",
    "        n -= 1\n",
    "\n",
    "for v in fib(6):\n",
    "    print(v)"
   ],
   "metadata": {
    "collapsed": false,
    "pycharm": {
     "name": "#%%\n"
    }
   }
  },
  {
   "cell_type": "code",
   "execution_count": 67,
   "outputs": [
    {
     "name": "stdout",
     "output_type": "stream",
     "text": [
      "0\n",
      "1\n",
      "2\n",
      "3\n",
      "4\n",
      "5\n",
      "0\n",
      "2\n",
      "4\n",
      "6\n",
      "8\n",
      "10\n"
     ]
    },
    {
     "data": {
      "text/plain": "[0, 2, 4, 6, 8, 10]"
     },
     "execution_count": 67,
     "metadata": {},
     "output_type": "execute_result"
    }
   ],
   "source": [
    "# 生成器表达式(用小括号包围起来）：\n",
    "a = 1\n",
    "for v in (x for x in range(6)):\n",
    "    print(v)\n",
    "\n",
    "g = (x for x in range(6))\n",
    "g # generator\n",
    "\n",
    "# 下面是列表推导式\n",
    "for s in [x*2 for x in range(6)]:\n",
    "    print(s)\n",
    "\n",
    "l = [x*2 for x in range(6)]\n",
    "l # list"
   ],
   "metadata": {
    "collapsed": false,
    "pycharm": {
     "name": "#%%\n"
    }
   }
  },
  {
   "cell_type": "markdown",
   "source": [
    "- 详细说明生成器函数的工作原理\n",
    "### 生成器函数的工作原理\n",
    "只要 Python 函数的定义体中有 yield 关键字，该函数就是生成器函 数。\n",
    "调用生成器函数时，会返回一个生成器对象。也就是说，生成器函数是生成器工厂。"
   ],
   "metadata": {
    "collapsed": false,
    "pycharm": {
     "name": "#%% md\n"
    }
   }
  },
  {
   "cell_type": "code",
   "execution_count": 41,
   "outputs": [],
   "source": [
    "# 惰性实现\n",
    "import re\n",
    "import reprlib\n",
    "\n",
    "RE_WORD = re.compile(\"/w+\")\n",
    "\n",
    "class Sentence:\n",
    "    def __init__(self, text):\n",
    "        self._text = text\n",
    "\n",
    "    def __repr__(self):\n",
    "        return 'Sentence(%s)' % reprlib.repr(self._text)\n",
    "\n",
    "    def __iter__(self):\n",
    "        for match in RE_WORD.finditer(self._text):\n",
    "            yield match.group()"
   ],
   "metadata": {
    "collapsed": false,
    "pycharm": {
     "name": "#%%\n"
    }
   }
  },
  {
   "cell_type": "code",
   "execution_count": 42,
   "outputs": [
    {
     "data": {
      "text/plain": "Sentence('good way to die!')"
     },
     "execution_count": 42,
     "metadata": {},
     "output_type": "execute_result"
    }
   ],
   "source": [
    "s = Sentence('good way to die!')\n",
    "s"
   ],
   "metadata": {
    "collapsed": false,
    "pycharm": {
     "name": "#%%\n"
    }
   }
  },
  {
   "cell_type": "code",
   "execution_count": 43,
   "outputs": [
    {
     "data": {
      "text/plain": "<generator object Sentence.__iter__ at 0x7fa0ec15eac0>"
     },
     "execution_count": 43,
     "metadata": {},
     "output_type": "execute_result"
    }
   ],
   "source": [
    "iter(s)"
   ],
   "metadata": {
    "collapsed": false,
    "pycharm": {
     "name": "#%%\n"
    }
   }
  },
  {
   "cell_type": "code",
   "execution_count": 51,
   "outputs": [
    {
     "ename": "SyntaxError",
     "evalue": "'yield' outside function (<ipython-input-51-4402624b3873>, line 5)",
     "output_type": "error",
     "traceback": [
      "\u001B[0;36m  File \u001B[0;32m\"<ipython-input-51-4402624b3873>\"\u001B[0;36m, line \u001B[0;32m5\u001B[0m\n\u001B[0;31m    yield g\u001B[0m\n\u001B[0m    ^\u001B[0m\n\u001B[0;31mSyntaxError\u001B[0m\u001B[0;31m:\u001B[0m 'yield' outside function\n"
     ]
    }
   ],
   "source": [
    "a = RE_WORD.finditer('abc')\n",
    "\n",
    "for aa in a:\n",
    "    g = aa.group()"
   ],
   "metadata": {
    "collapsed": false,
    "pycharm": {
     "name": "#%%\n"
    }
   }
  },
  {
   "cell_type": "code",
   "execution_count": null,
   "outputs": [],
   "source": [
    "b = RE_WORD.findall('abc')"
   ],
   "metadata": {
    "collapsed": false,
    "pycharm": {
     "name": "#%%\n"
    }
   }
  },
  {
   "cell_type": "markdown",
   "source": [
    "### 可迭代对象不能是迭代器：\n",
    "为了“支持多种遍历”，必须能从同一个可迭代的实例中获取多个独立的 迭代器，而且各个迭代器要能维护自身的内部状态，因此这一模式正确\n",
    "的实现方式是，每次调用 iter(my_iterable) 都新建一个独立的迭 代器。这就是为什么这个示例需要定义 SentenceIterator 类。\n"
   ],
   "metadata": {
    "collapsed": false,
    "pycharm": {
     "name": "#%% md\n"
    }
   }
  },
  {
   "cell_type": "code",
   "execution_count": 64,
   "outputs": [
    {
     "name": "stdout",
     "output_type": "stream",
     "text": [
      "0\n",
      "2\n",
      "4\n",
      "6\n",
      "8\n"
     ]
    }
   ],
   "source": [
    "# 学会使用迭代器来代替生成列表\n",
    "# 生成器版本\n",
    "def numbers(n):\n",
    "    for n in range(n):\n",
    "        yield n*2\n",
    "\n",
    "for x in numbers(5):\n",
    "    print(x)"
   ],
   "metadata": {
    "collapsed": false,
    "pycharm": {
     "name": "#%%\n"
    }
   }
  },
  {
   "cell_type": "code",
   "execution_count": 65,
   "outputs": [
    {
     "name": "stdout",
     "output_type": "stream",
     "text": [
      "0\n",
      "2\n",
      "4\n",
      "6\n",
      "8\n"
     ]
    }
   ],
   "source": [
    "# 普通版本\n",
    "def nnumbers(n):\n",
    "    res = []\n",
    "    for x in range(n):\n",
    "        res.append(x*2)\n",
    "    return res\n",
    "for x in nnumbers(5):\n",
    "    print(x)\n"
   ],
   "metadata": {
    "collapsed": false,
    "pycharm": {
     "name": "#%%\n"
    }
   }
  },
  {
   "cell_type": "markdown",
   "source": [
    "### 注意一个生成器只能迭代一次！"
   ],
   "metadata": {
    "collapsed": false,
    "pycharm": {
     "name": "#%% md\n"
    }
   }
  },
  {
   "cell_type": "code",
   "execution_count": 73,
   "outputs": [
    {
     "data": {
      "text/plain": "0"
     },
     "execution_count": 73,
     "metadata": {},
     "output_type": "execute_result"
    }
   ],
   "source": [
    "# 注意一个生成器只能迭代一次！\n",
    "g = (x for x in range(6))\n",
    "next(g)"
   ],
   "metadata": {
    "collapsed": false,
    "pycharm": {
     "name": "#%%\n"
    }
   }
  },
  {
   "cell_type": "code",
   "execution_count": 74,
   "outputs": [
    {
     "data": {
      "text/plain": "1"
     },
     "execution_count": 74,
     "metadata": {},
     "output_type": "execute_result"
    }
   ],
   "source": [
    "next(g)"
   ],
   "metadata": {
    "collapsed": false,
    "pycharm": {
     "name": "#%%\n"
    }
   }
  },
  {
   "cell_type": "code",
   "execution_count": 75,
   "outputs": [
    {
     "data": {
      "text/plain": "2"
     },
     "execution_count": 75,
     "metadata": {},
     "output_type": "execute_result"
    }
   ],
   "source": [
    "next(g)"
   ],
   "metadata": {
    "collapsed": false,
    "pycharm": {
     "name": "#%%\n"
    }
   }
  },
  {
   "cell_type": "code",
   "execution_count": 76,
   "outputs": [
    {
     "data": {
      "text/plain": "[3, 4, 5]"
     },
     "execution_count": 76,
     "metadata": {},
     "output_type": "execute_result"
    }
   ],
   "source": [
    "a = list(g)\n",
    "a"
   ],
   "metadata": {
    "collapsed": false,
    "pycharm": {
     "name": "#%%\n"
    }
   }
  },
  {
   "cell_type": "code",
   "execution_count": null,
   "outputs": [],
   "source": [],
   "metadata": {
    "collapsed": false,
    "pycharm": {
     "name": "#%%\n"
    }
   }
  }
 ],
 "metadata": {
  "kernelspec": {
   "display_name": "Python 3",
   "language": "python",
   "name": "python3"
  },
  "language_info": {
   "codemirror_mode": {
    "name": "ipython",
    "version": 2
   },
   "file_extension": ".py",
   "mimetype": "text/x-python",
   "name": "python",
   "nbconvert_exporter": "python",
   "pygments_lexer": "ipython2",
   "version": "2.7.6"
  }
 },
 "nbformat": 4,
 "nbformat_minor": 0
}