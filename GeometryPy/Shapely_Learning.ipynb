{
 "cells": [
  {
   "cell_type": "markdown",
   "metadata": {},
   "source": [
    "# Shapely\n",
    "\n",
    "\n",
    "GEOS is a C/C++ library for computational geometry with a focus on algorithms used in geographic information systems (GIS) software. \n",
    "\n",
    "Shapely is a Python package for set-theoretic analysis and manipulation of planar features using (via Python’s ctypes module) functions from the well known and widely deployed GEOS library. GEOS, a port of the Java Topology Suite (JTS), is the geometry engine of the PostGIS spatial extension for the PostgreSQL RDBMS.\n",
    "\n",
    "https://shapely.readthedocs.io/en/stable/manual.html"
   ]
  },
  {
   "cell_type": "code",
   "execution_count": 16,
   "metadata": {
    "pycharm": {
     "is_executing": true
    }
   },
   "outputs": [
    {
     "data": {
      "text/plain": [
       "1.0"
      ]
     },
     "execution_count": 16,
     "metadata": {},
     "output_type": "execute_result"
    }
   ],
   "source": [
    "from shapely.geometry import Polygon\n",
    "\n",
    "\n",
    "Polygon([[0, 0], [1, 0], [1, 1], [0, 1], [0, 0]]).minimum_clearance"
   ]
  },
  {
   "cell_type": "markdown",
   "metadata": {},
   "source": [
    "# Spatial Data Model\n",
    "\n",
    "## Point"
   ]
  },
  {
   "cell_type": "code",
   "execution_count": 2,
   "metadata": {
    "pycharm": {
     "name": "#%%\n"
    }
   },
   "outputs": [
    {
     "data": {
      "text/plain": [
       "3.605551275463989"
      ]
     },
     "execution_count": 2,
     "metadata": {},
     "output_type": "execute_result"
    }
   ],
   "source": [
    "from shapely.geometry import Point\n",
    "point = Point(1, 1)\n",
    "line = LineString([(2, 0), (2, 4), (3, 4)])\n",
    "point.hausdorff_distance(line)\n",
    "#  The Hausdorff distance between two geometries is the furthest distance that \n",
    "# a point on either geometry can be from the nearest point to it on the other geometry."
   ]
  },
  {
   "cell_type": "code",
   "execution_count": 3,
   "metadata": {},
   "outputs": [
    {
     "data": {
      "text/plain": [
       "3.605551275463989"
      ]
     },
     "execution_count": 3,
     "metadata": {},
     "output_type": "execute_result"
    }
   ],
   "source": [
    "point.distance(Point(3, 4))"
   ]
  },
  {
   "cell_type": "code",
   "execution_count": 4,
   "metadata": {},
   "outputs": [
    {
     "data": {
      "text/plain": [
       "'POINT (0.0000000000000001 0)'"
      ]
     },
     "execution_count": 4,
     "metadata": {},
     "output_type": "execute_result"
    }
   ],
   "source": [
    "donut = Point(0, 0).buffer(2.0).difference(Point(0, 0).buffer(1.0))\n",
    "donut.centroid.wkt"
   ]
  },
  {
   "cell_type": "code",
   "execution_count": 5,
   "metadata": {},
   "outputs": [
    {
     "data": {
      "text/plain": [
       "'POINT (1.4975923633360986 0.0490085701647802)'"
      ]
     },
     "execution_count": 5,
     "metadata": {},
     "output_type": "execute_result"
    }
   ],
   "source": [
    "donut.representative_point().wkt"
   ]
  },
  {
   "cell_type": "code",
   "execution_count": 11,
   "metadata": {},
   "outputs": [
    {
     "data": {
      "text/plain": [
       "[(1.0, 1.0)]"
      ]
     },
     "execution_count": 11,
     "metadata": {},
     "output_type": "execute_result"
    }
   ],
   "source": [
    "point = Point(1, 1)\n",
    "point.length\n",
    "point.bounds\n",
    "point.coords[:]"
   ]
  },
  {
   "cell_type": "markdown",
   "metadata": {},
   "source": [
    "## LineString"
   ]
  },
  {
   "cell_type": "code",
   "execution_count": 22,
   "metadata": {},
   "outputs": [
    {
     "data": {
      "text/plain": [
       "0.0"
      ]
     },
     "execution_count": 22,
     "metadata": {},
     "output_type": "execute_result"
    }
   ],
   "source": [
    "from shapely.geometry import LineString\n",
    "# spline\n",
    "\n",
    "line = LineString([(0, 0), (1, 1)])\n",
    "line.coords[:]\n",
    "line.area"
   ]
  },
  {
   "cell_type": "code",
   "execution_count": 23,
   "metadata": {},
   "outputs": [
    {
     "data": {
      "text/plain": [
       "1.4142135623730951"
      ]
     },
     "execution_count": 23,
     "metadata": {},
     "output_type": "execute_result"
    }
   ],
   "source": [
    "line.length"
   ]
  },
  {
   "cell_type": "markdown",
   "metadata": {},
   "source": [
    "## LinearRing"
   ]
  },
  {
   "cell_type": "code",
   "execution_count": 36,
   "metadata": {},
   "outputs": [
    {
     "data": {
      "image/svg+xml": [
       "<svg xmlns=\"http://www.w3.org/2000/svg\" xmlns:xlink=\"http://www.w3.org/1999/xlink\" width=\"100.0\" height=\"100.0\" viewBox=\"-0.04 -0.04 1.08 1.08\" preserveAspectRatio=\"xMinYMin meet\"><g transform=\"matrix(1,0,0,-1,0,1.0)\"><polyline fill=\"none\" stroke=\"#66cc99\" stroke-width=\"0.0216\" points=\"0.0,0.0 1.0,1.0 1.0,0.0 0.0,0.0\" opacity=\"0.8\" /></g></svg>"
      ],
      "text/plain": [
       "<shapely.geometry.polygon.LinearRing at 0x2a1b7311070>"
      ]
     },
     "execution_count": 36,
     "metadata": {},
     "output_type": "execute_result"
    }
   ],
   "source": [
    "from shapely.geometry import LinearRing\n",
    "# closed spline\n",
    "ring = LinearRing([(0, 0), (1, 1), (1, 0)])\n",
    "ring"
   ]
  },
  {
   "cell_type": "code",
   "execution_count": null,
   "metadata": {},
   "outputs": [],
   "source": [
    "ring.area"
   ]
  },
  {
   "cell_type": "code",
   "execution_count": 21,
   "metadata": {},
   "outputs": [
    {
     "data": {
      "text/plain": [
       "3.414213562373095"
      ]
     },
     "execution_count": 21,
     "metadata": {},
     "output_type": "execute_result"
    }
   ],
   "source": [
    "ring.length"
   ]
  },
  {
   "cell_type": "code",
   "execution_count": 25,
   "metadata": {},
   "outputs": [
    {
     "data": {
      "text/plain": [
       "(0.0, 0.0, 1.0, 1.0)"
      ]
     },
     "execution_count": 25,
     "metadata": {},
     "output_type": "execute_result"
    }
   ],
   "source": [
    "ring.bounds"
   ]
  },
  {
   "cell_type": "markdown",
   "metadata": {},
   "source": [
    "## Polygon\n",
    "\n",
    "如果内部空洞的边和模型的外边重叠，或者点重叠都会是无效的，即使内部的多个空洞的边或点有重叠也是无效的。shapely在创建时不会检查是否有效，只有在操作模型时才会报错。"
   ]
  },
  {
   "cell_type": "code",
   "execution_count": 26,
   "metadata": {},
   "outputs": [
    {
     "data": {
      "text/plain": [
       "0.5"
      ]
     },
     "execution_count": 26,
     "metadata": {},
     "output_type": "execute_result"
    }
   ],
   "source": [
    "from shapely.geometry import Polygon\n",
    "polygon = Polygon([(0, 0), (1, 1), (1, 0)])\n",
    "polygon.area"
   ]
  },
  {
   "cell_type": "code",
   "execution_count": 27,
   "metadata": {},
   "outputs": [
    {
     "data": {
      "text/plain": [
       "3.414213562373095"
      ]
     },
     "execution_count": 27,
     "metadata": {},
     "output_type": "execute_result"
    }
   ],
   "source": [
    "polygon.length"
   ]
  },
  {
   "cell_type": "code",
   "execution_count": 28,
   "metadata": {},
   "outputs": [
    {
     "data": {
      "text/plain": [
       "(0.0, 0.0, 1.0, 1.0)"
      ]
     },
     "execution_count": 28,
     "metadata": {},
     "output_type": "execute_result"
    }
   ],
   "source": [
    "polygon.bounds"
   ]
  },
  {
   "cell_type": "code",
   "execution_count": 29,
   "metadata": {},
   "outputs": [
    {
     "data": {
      "text/plain": [
       "[(0.0, 0.0), (1.0, 1.0), (1.0, 0.0), (0.0, 0.0)]"
      ]
     },
     "execution_count": 29,
     "metadata": {},
     "output_type": "execute_result"
    }
   ],
   "source": [
    "list(polygon.exterior.coords)"
   ]
  },
  {
   "cell_type": "code",
   "execution_count": 30,
   "metadata": {},
   "outputs": [
    {
     "data": {
      "text/plain": [
       "[]"
      ]
     },
     "execution_count": 30,
     "metadata": {},
     "output_type": "execute_result"
    }
   ],
   "source": [
    "list(polygon.interiors)"
   ]
  },
  {
   "cell_type": "code",
   "execution_count": 34,
   "metadata": {},
   "outputs": [
    {
     "data": {
      "image/svg+xml": [
       "<svg xmlns=\"http://www.w3.org/2000/svg\" xmlns:xlink=\"http://www.w3.org/1999/xlink\" width=\"100.0\" height=\"100.0\" viewBox=\"-0.04 -0.04 1.08 1.08\" preserveAspectRatio=\"xMinYMin meet\"><g transform=\"matrix(1,0,0,-1,0,1.0)\"><path fill-rule=\"evenodd\" fill=\"#66cc99\" stroke=\"#555555\" stroke-width=\"0.0216\" opacity=\"0.6\" d=\"M 0.0,0.0 L 1.0,1.0 L 1.0,0.0 L 0.0,0.0 z\" /></g></svg>"
      ],
      "text/plain": [
       "<shapely.geometry.polygon.Polygon at 0x2a1b7311a00>"
      ]
     },
     "execution_count": 34,
     "metadata": {},
     "output_type": "execute_result"
    }
   ],
   "source": [
    "# The Polygon constructor also accepts instances of LineString and LinearRing.\n",
    "coords = [(0, 0), (1, 1), (1, 0)]\n",
    "r = LinearRing(coords)\n",
    "s = Polygon(r)\n",
    "s.area\n",
    "s"
   ]
  },
  {
   "cell_type": "code",
   "execution_count": 35,
   "metadata": {},
   "outputs": [
    {
     "data": {
      "image/svg+xml": [
       "<svg xmlns=\"http://www.w3.org/2000/svg\" xmlns:xlink=\"http://www.w3.org/1999/xlink\" width=\"100.0\" height=\"100.0\" viewBox=\"-1.12 -1.12 3.24 3.24\" preserveAspectRatio=\"xMinYMin meet\"><g transform=\"matrix(1,0,0,-1,0,1.0)\"><path fill-rule=\"evenodd\" fill=\"#66cc99\" stroke=\"#555555\" stroke-width=\"0.06480000000000001\" opacity=\"0.6\" d=\"M 0.0,-1.0 L -0.09801714032956045,-0.9951847266721969 L -0.19509032201612866,-0.9807852804032303 L -0.29028467725446244,-0.9569403357322088 L -0.38268343236509034,-0.9238795325112865 L -0.47139673682599786,-0.8819212643483549 L -0.5555702330196022,-0.8314696123025452 L -0.6343932841636459,-0.7730104533627367 L -0.7071067811865477,-0.7071067811865475 L -0.7730104533627371,-0.6343932841636453 L -0.8314696123025455,-0.555570233019602 L -0.881921264348355,-0.47139673682599764 L -0.9238795325112868,-0.38268343236508967 L -0.9569403357322089,-0.2902846772544621 L -0.9807852804032304,-0.19509032201612836 L -0.9951847266721969,-0.09801714032956059 L -1.0,1.2246467991473532e-16 L -0.9951847266721968,0.09801714032956083 L -0.9807852804032304,0.1950903220161286 L -0.9569403357322088,0.2902846772544624 L -0.9238795325112867,0.3826834323650899 L -0.8819212643483549,0.4713967368259978 L -0.8314696123025453,0.5555702330196022 L -0.773010453362737,0.6343932841636455 L -0.7071067811865475,0.7071067811865475 L 0.29289321881345254,1.7071067811865475 L 0.3656067158363546,1.773010453362737 L 0.44442976698039804,1.8314696123025453 L 0.5286032631740023,1.881921264348355 L 0.6173165676349103,1.9238795325112867 L 0.7097153227455378,1.956940335732209 L 0.8049096779838718,1.9807852804032304 L 0.9019828596704393,1.995184726672197 L 1.0,2.0 L 1.0980171403295609,1.9951847266721967 L 1.1950903220161284,1.9807852804032304 L 1.2902846772544623,1.956940335732209 L 1.3826834323650898,1.9238795325112867 L 1.471396736825998,1.881921264348355 L 1.5555702330196022,1.8314696123025453 L 1.6343932841636455,1.7730104533627369 L 1.7071067811865475,1.7071067811865475 L 1.7730104533627369,1.6343932841636453 L 1.8314696123025453,1.5555702330196022 L 1.881921264348355,1.4713967368259977 L 1.9238795325112867,1.3826834323650898 L 1.956940335732209,1.2902846772544623 L 1.9807852804032304,1.1950903220161284 L 1.995184726672197,1.0980171403295607 L 2.0,1.0 L 2.0,0.0 L 1.995184726672197,-0.0980171403295606 L 1.9807852804032304,-0.19509032201612825 L 1.9569403357322088,-0.29028467725446233 L 1.9238795325112867,-0.3826834323650898 L 1.881921264348355,-0.47139673682599764 L 1.8314696123025453,-0.5555702330196022 L 1.7730104533627369,-0.6343932841636455 L 1.7071067811865475,-0.7071067811865476 L 1.6343932841636455,-0.7730104533627369 L 1.5555702330196022,-0.8314696123025452 L 1.471396736825998,-0.8819212643483549 L 1.3826834323650898,-0.9238795325112867 L 1.2902846772544623,-0.9569403357322089 L 1.1950903220161284,-0.9807852804032304 L 1.0980171403295609,-0.9951847266721968 L 1.0,-1.0 L 0.0,-1.0 z M 0.0,0.0 L 1.0,1.0 L 1.0,0.0 L 0.0,0.0 z\" /></g></svg>"
      ],
      "text/plain": [
       "<shapely.geometry.polygon.Polygon at 0x2a1b7367130>"
      ]
     },
     "execution_count": 35,
     "metadata": {},
     "output_type": "execute_result"
    }
   ],
   "source": [
    "t = Polygon(s.buffer(1.0).exterior, [r])\n",
    "t.area\n",
    "t"
   ]
  },
  {
   "cell_type": "code",
   "execution_count": 33,
   "metadata": {},
   "outputs": [
    {
     "data": {
      "image/svg+xml": [
       "<svg xmlns=\"http://www.w3.org/2000/svg\" xmlns:xlink=\"http://www.w3.org/1999/xlink\" width=\"100.0\" height=\"100.0\" viewBox=\"-0.04 -0.04 1.08 1.08\" preserveAspectRatio=\"xMinYMin meet\"><g transform=\"matrix(1,0,0,-1,0,1.0)\"><path fill-rule=\"evenodd\" fill=\"#66cc99\" stroke=\"#555555\" stroke-width=\"0.0216\" opacity=\"0.6\" d=\"M 1.0,0.0 L 1.0,1.0 L 0.0,1.0 L 0.0,0.0 L 1.0,0.0 z\" /></g></svg>"
      ],
      "text/plain": [
       "<shapely.geometry.polygon.Polygon at 0x2a1b73111c0>"
      ]
     },
     "execution_count": 33,
     "metadata": {},
     "output_type": "execute_result"
    }
   ],
   "source": [
    "from shapely.geometry import box\n",
    "b = box(0.0, 0.0, 1.0, 1.0)\n",
    "b"
   ]
  },
  {
   "cell_type": "code",
   "execution_count": 50,
   "metadata": {},
   "outputs": [
    {
     "data": {
      "image/svg+xml": [
       "<svg xmlns=\"http://www.w3.org/2000/svg\" xmlns:xlink=\"http://www.w3.org/1999/xlink\" width=\"100.0\" height=\"100.0\" viewBox=\"-1.12 -1.12 3.24 3.24\" preserveAspectRatio=\"xMinYMin meet\"><g transform=\"matrix(1,0,0,-1,0,1.0)\"><path fill-rule=\"evenodd\" fill=\"#66cc99\" stroke=\"#555555\" stroke-width=\"0.06480000000000001\" opacity=\"0.6\" d=\"M 0.0,-1.0 L 1.0,-1.0 L 1.0980171403295609,-0.9951847266721968 L 1.1950903220161284,-0.9807852804032304 L 1.2902846772544623,-0.9569403357322089 L 1.3826834323650898,-0.9238795325112867 L 1.471396736825998,-0.8819212643483549 L 1.5555702330196022,-0.8314696123025452 L 1.6343932841636455,-0.7730104533627369 L 1.7071067811865475,-0.7071067811865476 L 1.7730104533627369,-0.6343932841636455 L 1.8314696123025453,-0.5555702330196022 L 1.881921264348355,-0.47139673682599764 L 1.9238795325112867,-0.3826834323650898 L 1.9569403357322088,-0.29028467725446233 L 1.9807852804032304,-0.19509032201612825 L 1.995184726672197,-0.0980171403295606 L 2.0,0.0 L 2.0,1.0 L 1.995184726672197,1.0980171403295607 L 1.9807852804032304,1.1950903220161284 L 1.956940335732209,1.2902846772544623 L 1.9238795325112867,1.3826834323650898 L 1.881921264348355,1.4713967368259977 L 1.8314696123025453,1.5555702330196022 L 1.7730104533627369,1.6343932841636453 L 1.7071067811865475,1.7071067811865475 L 1.6343932841636455,1.7730104533627369 L 1.5555702330196022,1.8314696123025453 L 1.471396736825998,1.881921264348355 L 1.3826834323650898,1.9238795325112867 L 1.2902846772544623,1.956940335732209 L 1.1950903220161284,1.9807852804032304 L 1.0980171403295609,1.9951847266721967 L 1.0,2.0 L 0.9019828596704393,1.995184726672197 L 0.8049096779838718,1.9807852804032304 L 0.7097153227455378,1.956940335732209 L 0.6173165676349103,1.9238795325112867 L 0.5286032631740023,1.881921264348355 L 0.44442976698039804,1.8314696123025453 L 0.3656067158363546,1.773010453362737 L 0.29289321881345254,1.7071067811865475 L -0.7071067811865475,0.7071067811865475 L -0.773010453362737,0.6343932841636455 L -0.8314696123025453,0.5555702330196022 L -0.8819212643483549,0.4713967368259978 L -0.9238795325112867,0.3826834323650899 L -0.9569403357322088,0.2902846772544624 L -0.9807852804032304,0.1950903220161286 L -0.9951847266721968,0.09801714032956083 L -1.0,1.2246467991473532e-16 L -0.9951847266721969,-0.09801714032956059 L -0.9807852804032304,-0.19509032201612836 L -0.9569403357322089,-0.2902846772544621 L -0.9238795325112868,-0.38268343236508967 L -0.881921264348355,-0.47139673682599764 L -0.8314696123025455,-0.555570233019602 L -0.7730104533627371,-0.6343932841636453 L -0.7071067811865477,-0.7071067811865475 L -0.6343932841636459,-0.7730104533627367 L -0.5555702330196022,-0.8314696123025452 L -0.47139673682599786,-0.8819212643483549 L -0.38268343236509034,-0.9238795325112865 L -0.29028467725446244,-0.9569403357322088 L -0.19509032201612866,-0.9807852804032303 L -0.09801714032956045,-0.9951847266721969 L 0.0,-1.0 z M 0.0,0.0 L 1.0,1.0 L 1.0,0.0 L 0.0,0.0 z\" /></g></svg>"
      ],
      "text/plain": [
       "<shapely.geometry.polygon.Polygon at 0x2a1b7311940>"
      ]
     },
     "execution_count": 50,
     "metadata": {},
     "output_type": "execute_result"
    }
   ],
   "source": [
    "from shapely.geometry.polygon import orient\n",
    "ot = orient(t, 0.50)\n",
    "ot"
   ]
  },
  {
   "cell_type": "markdown",
   "metadata": {},
   "source": [
    "## Collections\n",
    "\n",
    "多种元素可以合并成为集合\n"
   ]
  },
  {
   "cell_type": "code",
   "execution_count": 54,
   "metadata": {},
   "outputs": [
    {
     "data": {
      "image/svg+xml": [
       "<svg xmlns=\"http://www.w3.org/2000/svg\" xmlns:xlink=\"http://www.w3.org/1999/xlink\" width=\"100.0\" height=\"100.0\" viewBox=\"-0.08 -0.08 2.16 2.16\" preserveAspectRatio=\"xMinYMin meet\"><g transform=\"matrix(1,0,0,-1,0,2.0)\"><g><polyline fill=\"none\" stroke=\"#66cc99\" stroke-width=\"0.0432\" points=\"0.0,0.0 1.0,1.0\" opacity=\"0.8\" /><circle cx=\"2.0\" cy=\"2.0\" r=\"0.0648\" stroke=\"#555555\" stroke-width=\"0.0216\" fill=\"#66cc99\" opacity=\"0.6\" /></g></g></svg>"
      ],
      "text/plain": [
       "<shapely.geometry.collection.GeometryCollection at 0x2a1b73596a0>"
      ]
     },
     "execution_count": 54,
     "metadata": {},
     "output_type": "execute_result"
    }
   ],
   "source": [
    "a = LineString([(0, 0), (1, 1), (1,2), (2,2)])\n",
    "b = LineString([(0, 0), (1, 1), (2,1), (2,2)])\n",
    "x = a.intersection(b)\n",
    "x"
   ]
  },
  {
   "cell_type": "code",
   "execution_count": 56,
   "metadata": {},
   "outputs": [
    {
     "name": "stdout",
     "output_type": "stream",
     "text": [
      "[<shapely.geometry.linestring.LineString object at 0x000002A1B7359160>,\n",
      " <shapely.geometry.point.Point object at 0x000002A1B7359B50>]\n"
     ]
    }
   ],
   "source": [
    "from pprint import pprint\n",
    "\n",
    "pprint(list(x.geoms))"
   ]
  },
  {
   "cell_type": "markdown",
   "metadata": {},
   "source": [
    "### Collections of Points"
   ]
  },
  {
   "cell_type": "code",
   "execution_count": 60,
   "metadata": {},
   "outputs": [
    {
     "data": {
      "image/svg+xml": [
       "<svg xmlns=\"http://www.w3.org/2000/svg\" xmlns:xlink=\"http://www.w3.org/1999/xlink\" width=\"100.0\" height=\"100.0\" viewBox=\"-0.48 -0.48 12.96 2.96\" preserveAspectRatio=\"xMinYMin meet\"><g transform=\"matrix(1,0,0,-1,0,2.0)\"><g><circle cx=\"0.0\" cy=\"0.0\" r=\"0.38880000000000003\" stroke=\"#555555\" stroke-width=\"0.12960000000000002\" fill=\"#66cc99\" opacity=\"0.6\" /><circle cx=\"12.0\" cy=\"2.0\" r=\"0.38880000000000003\" stroke=\"#555555\" stroke-width=\"0.12960000000000002\" fill=\"#66cc99\" opacity=\"0.6\" /></g></g></svg>"
      ],
      "text/plain": [
       "<shapely.geometry.multipoint.MultiPoint at 0x2a1b73522e0>"
      ]
     },
     "execution_count": 60,
     "metadata": {},
     "output_type": "execute_result"
    }
   ],
   "source": [
    "from shapely.geometry import MultiPoint\n",
    "points = MultiPoint([(0.0, 0.0), (12.0, 2.0)])\n",
    "points.bounds\n",
    "\n",
    "points"
   ]
  },
  {
   "cell_type": "markdown",
   "metadata": {},
   "source": [
    "### Collections of Lines"
   ]
  },
  {
   "cell_type": "code",
   "execution_count": 62,
   "metadata": {},
   "outputs": [
    {
     "data": {
      "image/svg+xml": [
       "<svg xmlns=\"http://www.w3.org/2000/svg\" xmlns:xlink=\"http://www.w3.org/1999/xlink\" width=\"100.0\" height=\"100.0\" viewBox=\"-1.08 -0.08 2.16 1.1600000000000001\" preserveAspectRatio=\"xMinYMin meet\"><g transform=\"matrix(1,0,0,-1,0,1.0)\"><g><polyline fill=\"none\" stroke=\"#66cc99\" stroke-width=\"0.0432\" points=\"0.0,0.0 1.0,1.0\" opacity=\"0.8\" /><polyline fill=\"none\" stroke=\"#66cc99\" stroke-width=\"0.0432\" points=\"-1.0,0.0 1.0,0.0\" opacity=\"0.8\" /></g></g></svg>"
      ],
      "text/plain": [
       "<shapely.geometry.multilinestring.MultiLineString at 0x2a1b7359d00>"
      ]
     },
     "execution_count": 62,
     "metadata": {},
     "output_type": "execute_result"
    }
   ],
   "source": [
    "from shapely.geometry import MultiLineString\n",
    "coords = [((0, 0), (1, 1)), ((-1, 0), (1, 0))]\n",
    "lines = MultiLineString(coords)\n",
    "lines"
   ]
  },
  {
   "cell_type": "code",
   "execution_count": 63,
   "metadata": {},
   "outputs": [
    {
     "data": {
      "image/svg+xml": [
       "<svg xmlns=\"http://www.w3.org/2000/svg\" xmlns:xlink=\"http://www.w3.org/1999/xlink\" width=\"100.0\" height=\"100.0\" viewBox=\"-0.08 -0.08 2.16 2.16\" preserveAspectRatio=\"xMinYMin meet\"><g transform=\"matrix(1,0,0,-1,0,2.0)\"><g><polyline fill=\"none\" stroke=\"#66cc99\" stroke-width=\"0.0432\" points=\"0.0,0.0 1.0,1.0\" opacity=\"0.8\" /><polyline fill=\"none\" stroke=\"#66cc99\" stroke-width=\"0.0432\" points=\"0.0,2.0 1.0,1.5 1.5,1.0 2.0,0.0\" opacity=\"0.8\" /></g></g></svg>"
      ],
      "text/plain": [
       "<shapely.geometry.multilinestring.MultiLineString at 0x2a1b7359e50>"
      ]
     },
     "execution_count": 63,
     "metadata": {},
     "output_type": "execute_result"
    }
   ],
   "source": [
    "from shapely.geometry import MultiLineString\n",
    "\n",
    "mline1 = MultiLineString([((0, 0), (1, 1)), ((0, 2),  (1, 1.5), (1.5, 1), (2, 0))])\n",
    "mline1"
   ]
  },
  {
   "cell_type": "code",
   "execution_count": 65,
   "metadata": {},
   "outputs": [
    {
     "data": {
      "image/svg+xml": [
       "<svg xmlns=\"http://www.w3.org/2000/svg\" xmlns:xlink=\"http://www.w3.org/1999/xlink\" width=\"100.0\" height=\"100.0\" viewBox=\"-0.08 -0.08 2.16 2.16\" preserveAspectRatio=\"xMinYMin meet\"><g transform=\"matrix(1,0,0,-1,0,2.0)\"><g><polyline fill=\"none\" stroke=\"#66cc99\" stroke-width=\"0.0432\" points=\"0.0,0.0 1.0,1.0 1.5,1.0\" opacity=\"0.8\" /><polyline fill=\"none\" stroke=\"#66cc99\" stroke-width=\"0.0432\" points=\"0.0,2.0 1.0,1.5 1.5,1.0 2.0,0.0\" opacity=\"0.8\" /></g></g></svg>"
      ],
      "text/plain": [
       "<shapely.geometry.multilinestring.MultiLineString at 0x2a1b74b3ac0>"
      ]
     },
     "execution_count": 65,
     "metadata": {},
     "output_type": "execute_result"
    }
   ],
   "source": [
    "mline2 = MultiLineString([((0, 0), (1, 1), (1.5, 1)), ((0, 2), (1, 1.5), (1.5, 1), (2, 0))])\n",
    "mline2"
   ]
  },
  {
   "cell_type": "markdown",
   "metadata": {},
   "source": [
    "### Collections of Polygons"
   ]
  },
  {
   "cell_type": "code",
   "execution_count": 66,
   "metadata": {},
   "outputs": [
    {
     "data": {
      "text/plain": [
       "3"
      ]
     },
     "execution_count": 66,
     "metadata": {},
     "output_type": "execute_result"
    }
   ],
   "source": [
    "polygons = MultiPolygon([polygon, s, t])\n",
    "len(polygons.geoms)"
   ]
  },
  {
   "cell_type": "code",
   "execution_count": 67,
   "metadata": {},
   "outputs": [
    {
     "data": {
      "image/svg+xml": [
       "<svg xmlns=\"http://www.w3.org/2000/svg\" xmlns:xlink=\"http://www.w3.org/1999/xlink\" width=\"100.0\" height=\"100.0\" viewBox=\"-1.12 -1.12 3.24 3.24\" preserveAspectRatio=\"xMinYMin meet\"><g transform=\"matrix(1,0,0,-1,0,1.0)\"><g><path fill-rule=\"evenodd\" fill=\"#ff3333\" stroke=\"#555555\" stroke-width=\"0.06480000000000001\" opacity=\"0.6\" d=\"M 0.0,0.0 L 1.0,1.0 L 1.0,0.0 L 0.0,0.0 z\" /><path fill-rule=\"evenodd\" fill=\"#ff3333\" stroke=\"#555555\" stroke-width=\"0.06480000000000001\" opacity=\"0.6\" d=\"M 0.0,0.0 L 1.0,1.0 L 1.0,0.0 L 0.0,0.0 z\" /><path fill-rule=\"evenodd\" fill=\"#ff3333\" stroke=\"#555555\" stroke-width=\"0.06480000000000001\" opacity=\"0.6\" d=\"M 0.0,-1.0 L -0.09801714032956045,-0.9951847266721969 L -0.19509032201612866,-0.9807852804032303 L -0.29028467725446244,-0.9569403357322088 L -0.38268343236509034,-0.9238795325112865 L -0.47139673682599786,-0.8819212643483549 L -0.5555702330196022,-0.8314696123025452 L -0.6343932841636459,-0.7730104533627367 L -0.7071067811865477,-0.7071067811865475 L -0.7730104533627371,-0.6343932841636453 L -0.8314696123025455,-0.555570233019602 L -0.881921264348355,-0.47139673682599764 L -0.9238795325112868,-0.38268343236508967 L -0.9569403357322089,-0.2902846772544621 L -0.9807852804032304,-0.19509032201612836 L -0.9951847266721969,-0.09801714032956059 L -1.0,1.2246467991473532e-16 L -0.9951847266721968,0.09801714032956083 L -0.9807852804032304,0.1950903220161286 L -0.9569403357322088,0.2902846772544624 L -0.9238795325112867,0.3826834323650899 L -0.8819212643483549,0.4713967368259978 L -0.8314696123025453,0.5555702330196022 L -0.773010453362737,0.6343932841636455 L -0.7071067811865475,0.7071067811865475 L 0.29289321881345254,1.7071067811865475 L 0.3656067158363546,1.773010453362737 L 0.44442976698039804,1.8314696123025453 L 0.5286032631740023,1.881921264348355 L 0.6173165676349103,1.9238795325112867 L 0.7097153227455378,1.956940335732209 L 0.8049096779838718,1.9807852804032304 L 0.9019828596704393,1.995184726672197 L 1.0,2.0 L 1.0980171403295609,1.9951847266721967 L 1.1950903220161284,1.9807852804032304 L 1.2902846772544623,1.956940335732209 L 1.3826834323650898,1.9238795325112867 L 1.471396736825998,1.881921264348355 L 1.5555702330196022,1.8314696123025453 L 1.6343932841636455,1.7730104533627369 L 1.7071067811865475,1.7071067811865475 L 1.7730104533627369,1.6343932841636453 L 1.8314696123025453,1.5555702330196022 L 1.881921264348355,1.4713967368259977 L 1.9238795325112867,1.3826834323650898 L 1.956940335732209,1.2902846772544623 L 1.9807852804032304,1.1950903220161284 L 1.995184726672197,1.0980171403295607 L 2.0,1.0 L 2.0,0.0 L 1.995184726672197,-0.0980171403295606 L 1.9807852804032304,-0.19509032201612825 L 1.9569403357322088,-0.29028467725446233 L 1.9238795325112867,-0.3826834323650898 L 1.881921264348355,-0.47139673682599764 L 1.8314696123025453,-0.5555702330196022 L 1.7730104533627369,-0.6343932841636455 L 1.7071067811865475,-0.7071067811865476 L 1.6343932841636455,-0.7730104533627369 L 1.5555702330196022,-0.8314696123025452 L 1.471396736825998,-0.8819212643483549 L 1.3826834323650898,-0.9238795325112867 L 1.2902846772544623,-0.9569403357322089 L 1.1950903220161284,-0.9807852804032304 L 1.0980171403295609,-0.9951847266721968 L 1.0,-1.0 L 0.0,-1.0 z M 0.0,0.0 L 1.0,1.0 L 1.0,0.0 L 0.0,0.0 z\" /></g></g></svg>"
      ],
      "text/plain": [
       "<shapely.geometry.multipolygon.MultiPolygon at 0x2a1b7352790>"
      ]
     },
     "execution_count": 67,
     "metadata": {},
     "output_type": "execute_result"
    }
   ],
   "source": [
    "polygons"
   ]
  },
  {
   "cell_type": "code",
   "execution_count": 68,
   "metadata": {},
   "outputs": [
    {
     "data": {
      "text/plain": [
       "(-1.0, -1.0, 2.0, 2.0)"
      ]
     },
     "execution_count": 68,
     "metadata": {},
     "output_type": "execute_result"
    }
   ],
   "source": [
    "polygons.bounds"
   ]
  },
  {
   "cell_type": "markdown",
   "metadata": {},
   "source": [
    "## Empty features"
   ]
  },
  {
   "cell_type": "code",
   "execution_count": 69,
   "metadata": {},
   "outputs": [
    {
     "data": {
      "text/plain": [
       "True"
      ]
     },
     "execution_count": 69,
     "metadata": {},
     "output_type": "execute_result"
    }
   ],
   "source": [
    "line = LineString()\n",
    "line.is_empty"
   ]
  },
  {
   "cell_type": "markdown",
   "metadata": {},
   "source": [
    "## Coordinate sequences"
   ]
  },
  {
   "cell_type": "code",
   "execution_count": 70,
   "metadata": {},
   "outputs": [
    {
     "data": {
      "text/plain": [
       "<shapely.coords.CoordinateSequence at 0x2a1b7359ca0>"
      ]
     },
     "execution_count": 70,
     "metadata": {},
     "output_type": "execute_result"
    }
   ],
   "source": [
    "line = LineString([(0, 1), (2, 3), (4, 5)])\n",
    "line.coords"
   ]
  },
  {
   "cell_type": "code",
   "execution_count": 71,
   "metadata": {},
   "outputs": [
    {
     "data": {
      "text/plain": [
       "[(2.0, 3.0), (4.0, 5.0)]"
      ]
     },
     "execution_count": 71,
     "metadata": {},
     "output_type": "execute_result"
    }
   ],
   "source": [
    "line.coords[1:]"
   ]
  },
  {
   "cell_type": "code",
   "execution_count": 72,
   "metadata": {},
   "outputs": [
    {
     "name": "stdout",
     "output_type": "stream",
     "text": [
      "x=0.0, y=1.0\n",
      "x=2.0, y=3.0\n",
      "x=4.0, y=5.0\n"
     ]
    }
   ],
   "source": [
    "for x, y in line.coords:\n",
    "    print(\"x={}, y={}\".format(x, y))"
   ]
  },
  {
   "cell_type": "markdown",
   "metadata": {},
   "source": [
    "## Linear Referencing Methods\n",
    "\n",
    "LineStrings或MultiLineStrings上一维定位参数\n",
    "\n",
    "Shapely supports linear referencing based on length or distance, evaluating the distance along a geometric object to the projection of a given point, or the point at a given distance along the object.\n",
    "\n",
    "- interpolate()\n",
    "    \n",
    "    Return a point at the specified distance along a linear geometric object.\n",
    "    输入一个距离值（亦可标准化），返回线性模型（线）上该长度位置的点。\n",
    "    \n",
    "    \n",
    "- project()\n",
    "    \n",
    "    Returns the distance along this geometric object to a point nearest the other object.\n",
    "    输入一个点，返回该点距离令一个模型最近位置的点的距离值。\n",
    "    "
   ]
  },
  {
   "cell_type": "code",
   "execution_count": 93,
   "metadata": {},
   "outputs": [
    {
     "data": {
      "text/plain": [
       "'POINT (0.5 1)'"
      ]
     },
     "execution_count": 93,
     "metadata": {},
     "output_type": "execute_result"
    }
   ],
   "source": [
    "l =  LineString([(0, 0), (0, 1), (1, 1)])\n",
    "ip = l.interpolate(1.5) \n",
    "# interpolate()\n",
    "# Return a point at the specified distance along a linear geometric object.\n",
    "# 输入一个距离值（亦可标准化），返回线性模型（线）上该长度位置的点。\n",
    "rs = [l, ip]\n",
    "ip.wkt"
   ]
  },
  {
   "cell_type": "code",
   "execution_count": 96,
   "metadata": {},
   "outputs": [
    {
     "data": {
      "text/plain": [
       "'POINT (0.5 1)'"
      ]
     },
     "execution_count": 96,
     "metadata": {},
     "output_type": "execute_result"
    }
   ],
   "source": [
    "# project()\n",
    "# Returns the distance along this geometric object to a point nearest the other object.\n",
    "# 输入一个点，返回该点距离令一个模型最近位置的点的距离值。\n",
    "ip = Point((0.5,1.5))\n",
    "LineString([(0, 0), (0, 1), (1, 1)]).project(ip)\n",
    "rp = l.interpolate(1.5)\n",
    "rp.wkt"
   ]
  },
  {
   "cell_type": "code",
   "execution_count": 97,
   "metadata": {},
   "outputs": [],
   "source": [
    "def cut(line, distance):\n",
    "    # Cuts a line in two at a distance from its starting point\n",
    "    if distance <= 0.0 or distance >= line.length:\n",
    "        return [LineString(line)]\n",
    "    coords = list(line.coords)\n",
    "    for i, p in enumerate(coords):\n",
    "        pd = line.project(Point(p))\n",
    "        if pd == distance:\n",
    "            return [\n",
    "                LineString(coords[:i+1]),\n",
    "                LineString(coords[i:])]\n",
    "        if pd > distance:\n",
    "            cp = line.interpolate(distance)\n",
    "            return [\n",
    "                LineString(coords[:i] + [(cp.x, cp.y)]),\n",
    "                LineString([(cp.x, cp.y)] + coords[i:])]\n",
    "        \n"
   ]
  },
  {
   "cell_type": "code",
   "execution_count": 98,
   "metadata": {},
   "outputs": [
    {
     "name": "stdout",
     "output_type": "stream",
     "text": [
      "[[(0.0, 0.0), (1.0, 0.0)],\n",
      " [(1.0, 0.0), (2.0, 0.0), (3.0, 0.0), (4.0, 0.0), (5.0, 0.0)]]\n"
     ]
    }
   ],
   "source": [
    "line = LineString([(0, 0), (1, 0), (2, 0), (3, 0), (4, 0), (5, 0)])\n",
    "pprint([list(x.coords) for x in cut(line, 1.0)])"
   ]
  },
  {
   "cell_type": "markdown",
   "metadata": {},
   "source": [
    "## Predicates and Relationships\n",
    "\n",
    "Whether unary or binary, all return **True or False**.\n",
    "\n",
    "### Unary Predicates\n",
    "\n",
    "Standard unary predicates are implemented as **read-only** property attributes."
   ]
  },
  {
   "cell_type": "code",
   "execution_count": 99,
   "metadata": {},
   "outputs": [
    {
     "data": {
      "text/plain": [
       "False"
      ]
     },
     "execution_count": 99,
     "metadata": {},
     "output_type": "execute_result"
    }
   ],
   "source": [
    "Point(0, 0).has_z"
   ]
  },
  {
   "cell_type": "code",
   "execution_count": 100,
   "metadata": {},
   "outputs": [
    {
     "data": {
      "text/plain": [
       "True"
      ]
     },
     "execution_count": 100,
     "metadata": {},
     "output_type": "execute_result"
    }
   ],
   "source": [
    "Point(0, 0, 0).has_z"
   ]
  },
  {
   "cell_type": "code",
   "execution_count": 101,
   "metadata": {},
   "outputs": [
    {
     "data": {
      "text/plain": [
       "True"
      ]
     },
     "execution_count": 101,
     "metadata": {},
     "output_type": "execute_result"
    }
   ],
   "source": [
    "LinearRing([(1,0), (1,1), (0,0)]).is_ccw\n",
    "# counter-clockwise"
   ]
  },
  {
   "cell_type": "code",
   "execution_count": 102,
   "metadata": {},
   "outputs": [
    {
     "data": {
      "text/plain": [
       "False"
      ]
     },
     "execution_count": 102,
     "metadata": {},
     "output_type": "execute_result"
    }
   ],
   "source": [
    "LinearRing([(1,0), (1,1), (0,0)]).is_ccw\n",
    "ring.is_ccw"
   ]
  },
  {
   "cell_type": "code",
   "execution_count": 105,
   "metadata": {},
   "outputs": [
    {
     "data": {
      "text/plain": [
       "True"
      ]
     },
     "execution_count": 105,
     "metadata": {},
     "output_type": "execute_result"
    }
   ],
   "source": [
    "ring.coords = list(ring.coords)[::-1]\n",
    "ring.is_ccw"
   ]
  },
  {
   "cell_type": "code",
   "execution_count": 106,
   "metadata": {},
   "outputs": [
    {
     "data": {
      "text/plain": [
       "True"
      ]
     },
     "execution_count": 106,
     "metadata": {},
     "output_type": "execute_result"
    }
   ],
   "source": [
    "Point().is_empty"
   ]
  },
  {
   "cell_type": "code",
   "execution_count": 107,
   "metadata": {
    "scrolled": true
   },
   "outputs": [
    {
     "ename": "TypeError",
     "evalue": "object of type 'filter' has no len()",
     "output_type": "error",
     "traceback": [
      "\u001b[1;31m---------------------------------------------------------------------------\u001b[0m",
      "\u001b[1;31mTypeError\u001b[0m                                 Traceback (most recent call last)",
      "\u001b[1;32mC:\\Users\\ZHONGK~1.TEN\\AppData\\Local\\Temp/ipykernel_36460/2131613384.py\u001b[0m in \u001b[0;36m<module>\u001b[1;34m\u001b[0m\n\u001b[0;32m      1\u001b[0m \u001b[1;32mfrom\u001b[0m \u001b[0moperator\u001b[0m \u001b[1;32mimport\u001b[0m \u001b[0mattrgetter\u001b[0m\u001b[1;33m\u001b[0m\u001b[1;33m\u001b[0m\u001b[0m\n\u001b[0;32m      2\u001b[0m \u001b[0mempties\u001b[0m \u001b[1;33m=\u001b[0m \u001b[0mfilter\u001b[0m\u001b[1;33m(\u001b[0m\u001b[0mattrgetter\u001b[0m\u001b[1;33m(\u001b[0m\u001b[1;34m'is_empty'\u001b[0m\u001b[1;33m)\u001b[0m\u001b[1;33m,\u001b[0m \u001b[1;33m[\u001b[0m\u001b[0mPoint\u001b[0m\u001b[1;33m(\u001b[0m\u001b[1;33m)\u001b[0m\u001b[1;33m,\u001b[0m \u001b[0mPoint\u001b[0m\u001b[1;33m(\u001b[0m\u001b[1;36m0\u001b[0m\u001b[1;33m,\u001b[0m \u001b[1;36m0\u001b[0m\u001b[1;33m)\u001b[0m\u001b[1;33m]\u001b[0m\u001b[1;33m)\u001b[0m\u001b[1;33m\u001b[0m\u001b[1;33m\u001b[0m\u001b[0m\n\u001b[1;32m----> 3\u001b[1;33m \u001b[0mlen\u001b[0m\u001b[1;33m(\u001b[0m\u001b[0mempties\u001b[0m\u001b[1;33m)\u001b[0m\u001b[1;33m\u001b[0m\u001b[1;33m\u001b[0m\u001b[0m\n\u001b[0m",
      "\u001b[1;31mTypeError\u001b[0m: object of type 'filter' has no len()"
     ]
    }
   ],
   "source": [
    "from operator import attrgetter\n",
    "empties = filter(attrgetter('is_empty'), [Point(), Point(0, 0)])\n",
    "len(empties)"
   ]
  },
  {
   "cell_type": "code",
   "execution_count": 108,
   "metadata": {},
   "outputs": [
    {
     "data": {
      "text/plain": [
       "False"
      ]
     },
     "execution_count": 108,
     "metadata": {},
     "output_type": "execute_result"
    }
   ],
   "source": [
    "LineString([(0, 0), (1, 1), (1, -1)]).is_ring"
   ]
  },
  {
   "cell_type": "code",
   "execution_count": 109,
   "metadata": {},
   "outputs": [
    {
     "data": {
      "text/plain": [
       "True"
      ]
     },
     "execution_count": 109,
     "metadata": {},
     "output_type": "execute_result"
    }
   ],
   "source": [
    "LinearRing([(0, 0), (1, 1), (1, -1)]).is_ring"
   ]
  },
  {
   "cell_type": "code",
   "execution_count": 110,
   "metadata": {},
   "outputs": [
    {
     "data": {
      "text/plain": [
       "False"
      ]
     },
     "execution_count": 110,
     "metadata": {},
     "output_type": "execute_result"
    }
   ],
   "source": [
    "# Returns True if the feature does not cross itself.\n",
    "LineString([(0, 0), (1, 1), (1, -1), (0, 1)]).is_simple"
   ]
  },
  {
   "cell_type": "code",
   "execution_count": 111,
   "metadata": {},
   "outputs": [
    {
     "data": {
      "text/plain": [
       "True"
      ]
     },
     "execution_count": 111,
     "metadata": {},
     "output_type": "execute_result"
    }
   ],
   "source": [
    "LineString([(0, 0), (1, 1), (1, -1)]).is_simple"
   ]
  },
  {
   "cell_type": "code",
   "execution_count": 112,
   "metadata": {},
   "outputs": [
    {
     "data": {
      "text/plain": [
       "False"
      ]
     },
     "execution_count": 112,
     "metadata": {},
     "output_type": "execute_result"
    }
   ],
   "source": [
    "MultiPolygon([Point(0, 0).buffer(2.0), Point(1, 1).buffer(2.0)]).is_valid"
   ]
  },
  {
   "cell_type": "code",
   "execution_count": 113,
   "metadata": {},
   "outputs": [
    {
     "data": {
      "image/svg+xml": [
       "<svg xmlns=\"http://www.w3.org/2000/svg\" xmlns:xlink=\"http://www.w3.org/1999/xlink\" width=\"100.0\" height=\"100.0\" viewBox=\"-2.2 -2.2 5.4 5.4\" preserveAspectRatio=\"xMinYMin meet\"><g transform=\"matrix(1,0,0,-1,0,1.0)\"><g><path fill-rule=\"evenodd\" fill=\"#ff3333\" stroke=\"#555555\" stroke-width=\"0.10800000000000001\" opacity=\"0.6\" d=\"M 2.0,0.0 L 1.9903694533443939,-0.1960342806591212 L 1.9615705608064609,-0.3901806440322565 L 1.9138806714644176,-0.5805693545089247 L 1.8477590650225735,-0.7653668647301796 L 1.76384252869671,-0.9427934736519953 L 1.6629392246050905,-1.1111404660392044 L 1.546020906725474,-1.268786568327291 L 1.4142135623730951,-1.4142135623730951 L 1.268786568327291,-1.5460209067254738 L 1.1111404660392046,-1.6629392246050905 L 0.9427934736519956,-1.7638425286967099 L 0.7653668647301797,-1.8477590650225735 L 0.5805693545089247,-1.9138806714644179 L 0.39018064403225666,-1.9615705608064609 L 0.19603428065912154,-1.9903694533443936 L 1.2246467991473532e-16,-2.0 L -0.1960342806591213,-1.9903694533443939 L -0.3901806440322564,-1.9615705608064609 L -0.5805693545089243,-1.9138806714644179 L -0.7653668647301795,-1.8477590650225735 L -0.9427934736519954,-1.76384252869671 L -1.111140466039204,-1.6629392246050907 L -1.2687865683272908,-1.5460209067254742 L -1.414213562373095,-1.4142135623730951 L -1.546020906725474,-1.268786568327291 L -1.6629392246050907,-1.1111404660392044 L -1.7638425286967099,-0.9427934736519956 L -1.8477590650225735,-0.7653668647301798 L -1.9138806714644176,-0.5805693545089248 L -1.9615705608064609,-0.3901806440322572 L -1.9903694533443936,-0.19603428065912165 L -2.0,-2.4492935982947064e-16 L -1.9903694533443939,0.19603428065912118 L -1.9615705608064609,0.3901806440322567 L -1.9138806714644179,0.5805693545089242 L -1.8477590650225737,0.7653668647301793 L -1.76384252869671,0.9427934736519953 L -1.662939224605091,1.111140466039204 L -1.5460209067254742,1.2687865683272905 L -1.4142135623730954,1.414213562373095 L -1.2687865683272919,1.5460209067254733 L -1.1111404660392044,1.6629392246050905 L -0.9427934736519957,1.7638425286967099 L -0.7653668647301807,1.847759065022573 L -0.5805693545089249,1.9138806714644176 L -0.39018064403225733,1.9615705608064606 L -0.1960342806591209,1.9903694533443939 L -3.6739403974420594e-16,2.0 L 0.19603428065912018,1.9903694533443939 L 0.3901806440322566,1.9615705608064609 L 0.5805693545089241,1.9138806714644179 L 0.76536686473018,1.8477590650225733 L 0.9427934736519952,1.76384252869671 L 1.1111404660392037,1.662939224605091 L 1.2687865683272912,1.5460209067254738 L 1.4142135623730947,1.4142135623730954 L 1.546020906725473,1.2687865683272919 L 1.6629392246050905,1.1111404660392044 L 1.7638425286967097,0.9427934736519958 L 1.847759065022573,0.7653668647301808 L 1.9138806714644176,0.580569354508925 L 1.9615705608064606,0.39018064403225744 L 1.9903694533443939,0.196034280659121 L 2.0,0.0 z\" /><path fill-rule=\"evenodd\" fill=\"#ff3333\" stroke=\"#555555\" stroke-width=\"0.10800000000000001\" opacity=\"0.6\" d=\"M 3.0,1.0 L 2.990369453344394,0.8039657193408788 L 2.961570560806461,0.6098193559677435 L 2.9138806714644176,0.41943064549107534 L 2.8477590650225735,0.23463313526982044 L 2.76384252869671,0.057206526348004716 L 2.6629392246050907,-0.11114046603920436 L 2.5460209067254738,-0.268786568327291 L 2.414213562373095,-0.41421356237309515 L 2.268786568327291,-0.5460209067254738 L 2.1111404660392044,-0.6629392246050905 L 1.9427934736519956,-0.7638425286967099 L 1.7653668647301797,-0.8477590650225735 L 1.5805693545089246,-0.9138806714644179 L 1.3901806440322566,-0.9615705608064609 L 1.1960342806591215,-0.9903694533443936 L 1.0000000000000002,-1.0 L 0.8039657193408787,-0.9903694533443939 L 0.6098193559677436,-0.9615705608064609 L 0.41943064549107567,-0.9138806714644179 L 0.23463313526982055,-0.8477590650225735 L 0.057206526348004605,-0.7638425286967101 L -0.11114046603920391,-0.6629392246050907 L -0.26878656832729075,-0.5460209067254742 L -0.4142135623730949,-0.41421356237309515 L -0.546020906725474,-0.268786568327291 L -0.6629392246050907,-0.11114046603920436 L -0.7638425286967099,0.05720652634800438 L -0.8477590650225735,0.23463313526982021 L -0.9138806714644176,0.4194306454910752 L -0.9615705608064609,0.6098193559677427 L -0.9903694533443936,0.8039657193408783 L -1.0,0.9999999999999998 L -0.9903694533443939,1.196034280659121 L -0.9615705608064609,1.3901806440322568 L -0.9138806714644179,1.580569354508924 L -0.8477590650225737,1.7653668647301792 L -0.7638425286967101,1.9427934736519954 L -0.6629392246050909,2.111140466039204 L -0.5460209067254742,2.2687865683272905 L -0.41421356237309537,2.414213562373095 L -0.26878656832729186,2.5460209067254733 L -0.11114046603920436,2.6629392246050907 L 0.05720652634800427,2.76384252869671 L 0.23463313526981933,2.847759065022573 L 0.4194306454910751,2.9138806714644176 L 0.6098193559677427,2.961570560806461 L 0.8039657193408791,2.990369453344394 L 0.9999999999999997,3.0 L 1.1960342806591202,2.990369453344394 L 1.3901806440322566,2.961570560806461 L 1.580569354508924,2.913880671464418 L 1.7653668647301801,2.847759065022573 L 1.9427934736519952,2.76384252869671 L 2.1111404660392035,2.6629392246050907 L 2.2687865683272914,2.5460209067254738 L 2.414213562373095,2.4142135623730954 L 2.546020906725473,2.268786568327292 L 2.6629392246050907,2.1111404660392044 L 2.76384252869671,1.9427934736519958 L 2.847759065022573,1.7653668647301808 L 2.9138806714644176,1.580569354508925 L 2.961570560806461,1.3901806440322575 L 2.990369453344394,1.196034280659121 L 3.0,1.0 z\" /></g></g></svg>"
      ],
      "text/plain": [
       "<shapely.geometry.multipolygon.MultiPolygon at 0x2a1b7478460>"
      ]
     },
     "execution_count": 113,
     "metadata": {},
     "output_type": "execute_result"
    }
   ],
   "source": [
    "MultiPolygon([Point(0, 0).buffer(2.0), Point(1, 1).buffer(2.0)])"
   ]
  },
  {
   "cell_type": "code",
   "execution_count": 116,
   "metadata": {},
   "outputs": [
    {
     "ename": "TopologicalError",
     "evalue": "Given arguments do not determine a valid geometric object",
     "output_type": "error",
     "traceback": [
      "\u001b[1;31m---------------------------------------------------------------------------\u001b[0m",
      "\u001b[1;31mTopologicalError\u001b[0m                          Traceback (most recent call last)",
      "\u001b[1;32mC:\\Users\\ZHONGK~1.TEN\\AppData\\Local\\Temp/ipykernel_36460/2476850887.py\u001b[0m in \u001b[0;36m<module>\u001b[1;34m\u001b[0m\n\u001b[0;32m     18\u001b[0m \u001b[0mcoords\u001b[0m \u001b[1;33m=\u001b[0m \u001b[1;33m[\u001b[0m\u001b[1;33m(\u001b[0m\u001b[1;36m0\u001b[0m\u001b[1;33m,\u001b[0m \u001b[1;36m0\u001b[0m\u001b[1;33m)\u001b[0m\u001b[1;33m,\u001b[0m \u001b[1;33m(\u001b[0m\u001b[1;36m1\u001b[0m\u001b[1;33m,\u001b[0m \u001b[1;36m1\u001b[0m\u001b[1;33m)\u001b[0m\u001b[1;33m,\u001b[0m \u001b[1;33m(\u001b[0m\u001b[1;36m1\u001b[0m\u001b[1;33m,\u001b[0m \u001b[1;33m-\u001b[0m\u001b[1;36m1\u001b[0m\u001b[1;33m)\u001b[0m\u001b[1;33m,\u001b[0m \u001b[1;33m(\u001b[0m\u001b[1;36m0\u001b[0m\u001b[1;33m,\u001b[0m \u001b[1;36m1\u001b[0m\u001b[1;33m)\u001b[0m\u001b[1;33m]\u001b[0m\u001b[1;33m\u001b[0m\u001b[1;33m\u001b[0m\u001b[0m\n\u001b[0;32m     19\u001b[0m \u001b[1;33m\u001b[0m\u001b[0m\n\u001b[1;32m---> 20\u001b[1;33m \u001b[0mring\u001b[0m\u001b[1;33m(\u001b[0m\u001b[0mcoords\u001b[0m\u001b[1;33m)\u001b[0m\u001b[1;33m\u001b[0m\u001b[1;33m\u001b[0m\u001b[0m\n\u001b[0m",
      "\u001b[1;32mC:\\Users\\ZHONGK~1.TEN\\AppData\\Local\\Temp/ipykernel_36460/2476850887.py\u001b[0m in \u001b[0;36mwrapper\u001b[1;34m(*args, **kwargs)\u001b[0m\n\u001b[0;32m      7\u001b[0m         \u001b[0mob\u001b[0m \u001b[1;33m=\u001b[0m \u001b[0mfunc\u001b[0m\u001b[1;33m(\u001b[0m\u001b[1;33m*\u001b[0m\u001b[0margs\u001b[0m\u001b[1;33m,\u001b[0m \u001b[1;33m**\u001b[0m\u001b[0mkwargs\u001b[0m\u001b[1;33m)\u001b[0m\u001b[1;33m\u001b[0m\u001b[1;33m\u001b[0m\u001b[0m\n\u001b[0;32m      8\u001b[0m         \u001b[1;32mif\u001b[0m \u001b[1;32mnot\u001b[0m \u001b[0mob\u001b[0m\u001b[1;33m.\u001b[0m\u001b[0mis_valid\u001b[0m\u001b[1;33m:\u001b[0m\u001b[1;33m\u001b[0m\u001b[1;33m\u001b[0m\u001b[0m\n\u001b[1;32m----> 9\u001b[1;33m             raise TopologicalError(\n\u001b[0m\u001b[0;32m     10\u001b[0m                 \"Given arguments do not determine a valid geometric object\")\n\u001b[0;32m     11\u001b[0m         \u001b[1;32mreturn\u001b[0m \u001b[0mob\u001b[0m\u001b[1;33m\u001b[0m\u001b[1;33m\u001b[0m\u001b[0m\n",
      "\u001b[1;31mTopologicalError\u001b[0m: Given arguments do not determine a valid geometric object"
     ]
    }
   ],
   "source": [
    "from functools import wraps\n",
    "from shapely.geos import TopologicalError\n",
    "\n",
    "def validate(func):\n",
    "    @wraps(func)\n",
    "    def wrapper(*args, **kwargs):\n",
    "        ob = func(*args, **kwargs)\n",
    "        if not ob.is_valid:\n",
    "            raise TopologicalError(\n",
    "                \"Given arguments do not determine a valid geometric object\")\n",
    "        return ob\n",
    "    return wrapper\n",
    "\n",
    "@validate\n",
    "def ring(coordinates):\n",
    "    return LinearRing(coordinates)\n",
    "\n",
    "coords = [(0, 0), (1, 1), (1, -1), (0, 1)]\n",
    "\n",
    "ring(coords)\n",
    "\n",
    "# TopologicalError: Given arguments do not determine a valid geometric object"
   ]
  },
  {
   "cell_type": "markdown",
   "metadata": {},
   "source": [
    "### Binary Predicates\n",
    "Standard binary predicates are implemented as **methods**.\n",
    "\n",
    "- object.\\_\\_eq\\_\\_(other)\n",
    "    \n",
    "    Returns True if the two objects are of the same geometric type, and the coordinates of the two objects match precisely.\n",
    "    \n",
    "\n",
    "- object.equals(other)\n",
    "    \n",
    "    Returns True if the set-theoretic boundary, interior, and exterior of the object coincide with those of the other.\n",
    "    \n",
    "    \n",
    "- object.almost_equals(other\\[, decimal=6\\])\n",
    "    \n",
    "    Returns True if the object is approximately equal to the other at all points to specified decimal place precision.\n",
    "\n",
    "\n",
    "- object.contains(other)\n",
    "    \n",
    "    Returns True if no points of other lie in the exterior of the object and at least one point of the interior of other lies in the interior of object.\n",
    "\n",
    "\n",
    "- object.covers(other)\n",
    "    \n",
    "    Returns True if every point of other is a point on the interior or boundary of object. This is similar to object.contains(other) except that this does not require any interior points of other to lie in the interior of object.\n",
    "\n",
    "\n",
    "- object.covered_by(other)\n",
    "    \n",
    "    Returns True if every point of object is a point on the interior or boundary of other. This is equivalent to other.covers(object).\n",
    "\n",
    "\n",
    "- object.crosses(other)\n",
    "\n",
    "    Returns True if the interior of the object intersects the interior of the other but does not contain it, and the dimension of the intersection is less than the dimension of the one or the other.\n",
    "    \n",
    "    "
   ]
  },
  {
   "cell_type": "code",
   "execution_count": 120,
   "metadata": {},
   "outputs": [
    {
     "data": {
      "image/svg+xml": [
       "<svg xmlns=\"http://www.w3.org/2000/svg\" xmlns:xlink=\"http://www.w3.org/1999/xlink\" width=\"100.0\" height=\"100.0\" viewBox=\"-0.04 -0.04 1.08 1.08\" preserveAspectRatio=\"xMinYMin meet\"><g transform=\"matrix(1,0,0,-1,0,1.0)\"><g><polyline fill=\"none\" stroke=\"#66cc99\" stroke-width=\"0.0216\" points=\"0.0,0.0 1.0,1.0\" opacity=\"0.8\" /><polyline fill=\"none\" stroke=\"#66cc99\" stroke-width=\"0.0216\" points=\"0.0,0.0 0.5,0.5 1.0,1.0\" opacity=\"0.8\" /><polyline fill=\"none\" stroke=\"#66cc99\" stroke-width=\"0.0216\" points=\"0.0,0.0 0.0,0.0 1.0,1.0\" opacity=\"0.8\" /></g></g></svg>"
      ],
      "text/plain": [
       "<shapely.geometry.multilinestring.MultiLineString at 0x2a1b7311a90>"
      ]
     },
     "execution_count": 120,
     "metadata": {},
     "output_type": "execute_result"
    }
   ],
   "source": [
    "a = LineString([(0, 0), (1, 1)])\n",
    "b = LineString([(0, 0), (0.5, 0.5), (1, 1)])\n",
    "c = LineString([(0, 0), (0, 0), (1, 1)])\n"
   ]
  },
  {
   "cell_type": "code",
   "execution_count": 121,
   "metadata": {},
   "outputs": [
    {
     "data": {
      "text/plain": [
       "True"
      ]
     },
     "execution_count": 121,
     "metadata": {},
     "output_type": "execute_result"
    }
   ],
   "source": [
    "a.equals(b)"
   ]
  },
  {
   "cell_type": "code",
   "execution_count": 122,
   "metadata": {},
   "outputs": [
    {
     "data": {
      "text/plain": [
       "False"
      ]
     },
     "execution_count": 122,
     "metadata": {},
     "output_type": "execute_result"
    }
   ],
   "source": [
    "a == b"
   ]
  },
  {
   "cell_type": "code",
   "execution_count": 123,
   "metadata": {},
   "outputs": [
    {
     "data": {
      "text/plain": [
       "True"
      ]
     },
     "execution_count": 123,
     "metadata": {},
     "output_type": "execute_result"
    }
   ],
   "source": [
    "b.equals(c)"
   ]
  },
  {
   "cell_type": "code",
   "execution_count": 124,
   "metadata": {},
   "outputs": [
    {
     "data": {
      "text/plain": [
       "False"
      ]
     },
     "execution_count": 124,
     "metadata": {},
     "output_type": "execute_result"
    }
   ],
   "source": [
    "b == c"
   ]
  },
  {
   "cell_type": "code",
   "execution_count": 125,
   "metadata": {},
   "outputs": [
    {
     "data": {
      "text/plain": [
       "True"
      ]
     },
     "execution_count": 125,
     "metadata": {},
     "output_type": "execute_result"
    }
   ],
   "source": [
    "coords = [(0, 0), (1, 1)]\n",
    "LineString(coords).contains(Point(0.5, 0.5))"
   ]
  },
  {
   "cell_type": "code",
   "execution_count": 126,
   "metadata": {},
   "outputs": [
    {
     "data": {
      "text/plain": [
       "True"
      ]
     },
     "execution_count": 126,
     "metadata": {},
     "output_type": "execute_result"
    }
   ],
   "source": [
    "Point(0.5, 0.5).within(LineString(coords))"
   ]
  },
  {
   "cell_type": "code",
   "execution_count": 127,
   "metadata": {},
   "outputs": [
    {
     "data": {
      "text/plain": [
       "False"
      ]
     },
     "execution_count": 127,
     "metadata": {},
     "output_type": "execute_result"
    }
   ],
   "source": [
    "LineString(coords).contains(Point(1.0, 1.0))"
   ]
  },
  {
   "cell_type": "code",
   "execution_count": 133,
   "metadata": {},
   "outputs": [
    {
     "data": {
      "text/plain": [
       "['POINT (0.5 0.5)']"
      ]
     },
     "execution_count": 133,
     "metadata": {},
     "output_type": "execute_result"
    }
   ],
   "source": [
    "line = LineString(coords)\n",
    "contained = filter(line.contains, [Point(), Point(0.5, 0.5)])\n",
    "[p.wkt for p in contained]"
   ]
  },
  {
   "cell_type": "code",
   "execution_count": 137,
   "metadata": {},
   "outputs": [
    {
     "data": {
      "text/plain": [
       "True"
      ]
     },
     "execution_count": 137,
     "metadata": {},
     "output_type": "execute_result"
    }
   ],
   "source": [
    "coords = [(0, 0), (1, 1)]\n",
    "\n",
    "LineString(coords).crosses(LineString([(0, 1), (1, 0)]))"
   ]
  },
  {
   "cell_type": "code",
   "execution_count": 138,
   "metadata": {},
   "outputs": [
    {
     "data": {
      "text/plain": [
       "False"
      ]
     },
     "execution_count": 138,
     "metadata": {},
     "output_type": "execute_result"
    }
   ],
   "source": [
    "LineString(coords).crosses(Point(0.5, 0.5))\n",
    "\n",
    "# A line does not cross a point that it contains."
   ]
  },
  {
   "cell_type": "code",
   "execution_count": 154,
   "metadata": {},
   "outputs": [
    {
     "data": {
      "image/svg+xml": [
       "<svg xmlns=\"http://www.w3.org/2000/svg\" xmlns:xlink=\"http://www.w3.org/1999/xlink\" width=\"100.0\" height=\"100.0\" viewBox=\"-0.184 -0.184 2.2680000000000002 2.2680000000000002\" preserveAspectRatio=\"xMinYMin meet\"><g transform=\"matrix(1,0,0,-1,0,1.9000000000000001)\"><g><path fill-rule=\"evenodd\" fill=\"#66cc99\" stroke=\"#555555\" stroke-width=\"0.045360000000000004\" opacity=\"0.6\" d=\"M 0.1,0.0 L 0.09951847266721969,-0.009801714032956061 L 0.09807852804032305,-0.019509032201612826 L 0.09569403357322089,-0.029028467725446233 L 0.09238795325112868,-0.03826834323650898 L 0.08819212643483551,-0.04713967368259977 L 0.08314696123025453,-0.05555702330196022 L 0.0773010453362737,-0.06343932841636456 L 0.07071067811865477,-0.07071067811865477 L 0.06343932841636456,-0.07730104533627369 L 0.05555702330196023,-0.08314696123025453 L 0.04713967368259978,-0.0881921264348355 L 0.03826834323650899,-0.09238795325112868 L 0.029028467725446233,-0.0956940335732209 L 0.019509032201612833,-0.09807852804032305 L 0.009801714032956078,-0.09951847266721969 L 6.123233995736766e-18,-0.1 L -0.009801714032956065,-0.09951847266721969 L -0.01950903220161282,-0.09807852804032305 L -0.02902846772544622,-0.0956940335732209 L -0.038268343236508975,-0.09238795325112868 L -0.047139673682599775,-0.08819212643483551 L -0.0555570233019602,-0.08314696123025454 L -0.06343932841636454,-0.07730104533627372 L -0.07071067811865475,-0.07071067811865477 L -0.0773010453362737,-0.06343932841636456 L -0.08314696123025454,-0.05555702330196022 L -0.0881921264348355,-0.04713967368259978 L -0.09238795325112868,-0.03826834323650899 L -0.09569403357322089,-0.02902846772544624 L -0.09807852804032305,-0.01950903220161286 L -0.09951847266721969,-0.009801714032956084 L -0.1,-1.2246467991473533e-17 L -0.09951847266721969,0.00980171403295606 L -0.09807852804032305,0.019509032201612837 L -0.0956940335732209,0.029028467725446212 L -0.0923879532511287,0.03826834323650897 L -0.08819212643483551,0.04713967368259977 L -0.08314696123025456,0.0555570233019602 L -0.07730104533627372,0.06343932841636453 L -0.07071067811865477,0.07071067811865475 L -0.0634393284163646,0.07730104533627367 L -0.05555702330196022,0.08314696123025453 L -0.04713967368259979,0.0881921264348355 L -0.03826834323650904,0.09238795325112865 L -0.029028467725446247,0.09569403357322089 L -0.019509032201612868,0.09807852804032303 L -0.009801714032956045,0.09951847266721969 L -1.8369701987210297e-17,0.1 L 0.009801714032956009,0.09951847266721969 L 0.019509032201612833,0.09807852804032305 L 0.029028467725446205,0.0956940335732209 L 0.038268343236509,0.09238795325112867 L 0.04713967368259976,0.08819212643483551 L 0.05555702330196019,0.08314696123025456 L 0.06343932841636456,0.07730104533627369 L 0.07071067811865474,0.07071067811865477 L 0.07730104533627366,0.0634393284163646 L 0.08314696123025453,0.05555702330196022 L 0.08819212643483548,0.047139673682599796 L 0.09238795325112865,0.038268343236509045 L 0.09569403357322089,0.02902846772544625 L 0.09807852804032303,0.019509032201612875 L 0.09951847266721969,0.00980171403295605 L 0.1,0.0 z\" /><path fill-rule=\"evenodd\" fill=\"#66cc99\" stroke=\"#555555\" stroke-width=\"0.045360000000000004\" opacity=\"0.6\" d=\"M 2.0,1.0 L 1.995184726672197,0.9019828596704393 L 1.9807852804032304,0.8049096779838718 L 1.9569403357322088,0.7097153227455377 L 1.9238795325112867,0.6173165676349102 L 1.881921264348355,0.5286032631740023 L 1.8314696123025453,0.4444297669803978 L 1.7730104533627369,0.3656067158363545 L 1.7071067811865475,0.2928932188134524 L 1.6343932841636455,0.22698954663726312 L 1.5555702330196022,0.16853038769745476 L 1.471396736825998,0.11807873565164506 L 1.3826834323650898,0.07612046748871326 L 1.2902846772544623,0.043059664267791065 L 1.1950903220161284,0.01921471959676957 L 1.0980171403295609,0.004815273327803182 L 1.0,0.0 L 0.9019828596704393,0.004815273327803071 L 0.8049096779838718,0.01921471959676957 L 0.7097153227455378,0.043059664267791065 L 0.6173165676349103,0.07612046748871326 L 0.5286032631740023,0.11807873565164495 L 0.44442976698039804,0.16853038769745465 L 0.3656067158363546,0.2269895466372629 L 0.29289321881345254,0.2928932188134524 L 0.226989546637263,0.3656067158363545 L 0.16853038769745465,0.4444297669803978 L 0.11807873565164506,0.5286032631740022 L 0.07612046748871326,0.6173165676349102 L 0.043059664267791176,0.7097153227455376 L 0.01921471959676957,0.8049096779838714 L 0.004815273327803182,0.9019828596704391 L 0.0,0.9999999999999999 L 0.004815273327803071,1.0980171403295607 L 0.01921471959676957,1.1950903220161284 L 0.043059664267791065,1.290284677254462 L 0.07612046748871315,1.3826834323650896 L 0.11807873565164495,1.4713967368259977 L 0.16853038769745454,1.555570233019602 L 0.2269895466372629,1.6343932841636453 L 0.2928932188134523,1.7071067811865475 L 0.36560671583635407,1.7730104533627367 L 0.4444297669803978,1.8314696123025453 L 0.5286032631740021,1.881921264348355 L 0.6173165676349097,1.9238795325112865 L 0.7097153227455375,1.9569403357322088 L 0.8049096779838714,1.9807852804032304 L 0.9019828596704396,1.995184726672197 L 0.9999999999999998,2.0 L 1.09801714032956,1.995184726672197 L 1.1950903220161284,1.9807852804032304 L 1.290284677254462,1.956940335732209 L 1.38268343236509,1.9238795325112865 L 1.4713967368259975,1.881921264348355 L 1.5555702330196017,1.8314696123025453 L 1.6343932841636457,1.7730104533627369 L 1.7071067811865475,1.7071067811865477 L 1.7730104533627364,1.634393284163646 L 1.8314696123025453,1.5555702330196022 L 1.881921264348355,1.471396736825998 L 1.9238795325112865,1.3826834323650905 L 1.9569403357322088,1.2902846772544625 L 1.9807852804032304,1.1950903220161286 L 1.995184726672197,1.0980171403295604 L 2.0,1.0 z\" /></g></g></svg>"
      ],
      "text/plain": [
       "<shapely.geometry.multipolygon.MultiPolygon at 0x2a1b7cc72b0>"
      ]
     },
     "execution_count": 154,
     "metadata": {},
     "output_type": "execute_result"
    }
   ],
   "source": [
    "MultiPolygon([Point(0, 0).buffer(0.1),Point(1, 1).buffer(1)])"
   ]
  },
  {
   "cell_type": "code",
   "execution_count": 145,
   "metadata": {},
   "outputs": [
    {
     "data": {
      "text/plain": [
       "True"
      ]
     },
     "execution_count": 145,
     "metadata": {},
     "output_type": "execute_result"
    }
   ],
   "source": [
    "Point(0, 0).buffer(0.1).disjoint(Point(1, 1).buffer(1))\n",
    "# Returns True if the boundary and interior of the object do not intersect at all \n",
    "# with those of the other."
   ]
  },
  {
   "cell_type": "code",
   "execution_count": 152,
   "metadata": {},
   "outputs": [
    {
     "data": {
      "image/svg+xml": [
       "<svg xmlns=\"http://www.w3.org/2000/svg\" xmlns:xlink=\"http://www.w3.org/1999/xlink\" width=\"100.0\" height=\"100.0\" viewBox=\"-1.16 -1.16 4.32 4.32\" preserveAspectRatio=\"xMinYMin meet\"><g transform=\"matrix(1,0,0,-1,0,2.0)\"><g><path fill-rule=\"evenodd\" fill=\"#ff3333\" stroke=\"#555555\" stroke-width=\"0.0864\" opacity=\"0.6\" d=\"M 0.1,0.0 L 0.09951847266721969,-0.009801714032956061 L 0.09807852804032305,-0.019509032201612826 L 0.09569403357322089,-0.029028467725446233 L 0.09238795325112868,-0.03826834323650898 L 0.08819212643483551,-0.04713967368259977 L 0.08314696123025453,-0.05555702330196022 L 0.0773010453362737,-0.06343932841636456 L 0.07071067811865477,-0.07071067811865477 L 0.06343932841636456,-0.07730104533627369 L 0.05555702330196023,-0.08314696123025453 L 0.04713967368259978,-0.0881921264348355 L 0.03826834323650899,-0.09238795325112868 L 0.029028467725446233,-0.0956940335732209 L 0.019509032201612833,-0.09807852804032305 L 0.009801714032956078,-0.09951847266721969 L 6.123233995736766e-18,-0.1 L -0.009801714032956065,-0.09951847266721969 L -0.01950903220161282,-0.09807852804032305 L -0.02902846772544622,-0.0956940335732209 L -0.038268343236508975,-0.09238795325112868 L -0.047139673682599775,-0.08819212643483551 L -0.0555570233019602,-0.08314696123025454 L -0.06343932841636454,-0.07730104533627372 L -0.07071067811865475,-0.07071067811865477 L -0.0773010453362737,-0.06343932841636456 L -0.08314696123025454,-0.05555702330196022 L -0.0881921264348355,-0.04713967368259978 L -0.09238795325112868,-0.03826834323650899 L -0.09569403357322089,-0.02902846772544624 L -0.09807852804032305,-0.01950903220161286 L -0.09951847266721969,-0.009801714032956084 L -0.1,-1.2246467991473533e-17 L -0.09951847266721969,0.00980171403295606 L -0.09807852804032305,0.019509032201612837 L -0.0956940335732209,0.029028467725446212 L -0.0923879532511287,0.03826834323650897 L -0.08819212643483551,0.04713967368259977 L -0.08314696123025456,0.0555570233019602 L -0.07730104533627372,0.06343932841636453 L -0.07071067811865477,0.07071067811865475 L -0.0634393284163646,0.07730104533627367 L -0.05555702330196022,0.08314696123025453 L -0.04713967368259979,0.0881921264348355 L -0.03826834323650904,0.09238795325112865 L -0.029028467725446247,0.09569403357322089 L -0.019509032201612868,0.09807852804032303 L -0.009801714032956045,0.09951847266721969 L -1.8369701987210297e-17,0.1 L 0.009801714032956009,0.09951847266721969 L 0.019509032201612833,0.09807852804032305 L 0.029028467725446205,0.0956940335732209 L 0.038268343236509,0.09238795325112867 L 0.04713967368259976,0.08819212643483551 L 0.05555702330196019,0.08314696123025456 L 0.06343932841636456,0.07730104533627369 L 0.07071067811865474,0.07071067811865477 L 0.07730104533627366,0.0634393284163646 L 0.08314696123025453,0.05555702330196022 L 0.08819212643483548,0.047139673682599796 L 0.09238795325112865,0.038268343236509045 L 0.09569403357322089,0.02902846772544625 L 0.09807852804032303,0.019509032201612875 L 0.09951847266721969,0.00980171403295605 L 0.1,0.0 z\" /><path fill-rule=\"evenodd\" fill=\"#ff3333\" stroke=\"#555555\" stroke-width=\"0.0864\" opacity=\"0.6\" d=\"M 3.0,1.0 L 2.990369453344394,0.8039657193408788 L 2.961570560806461,0.6098193559677435 L 2.9138806714644176,0.41943064549107534 L 2.8477590650225735,0.23463313526982044 L 2.76384252869671,0.057206526348004716 L 2.6629392246050907,-0.11114046603920436 L 2.5460209067254738,-0.268786568327291 L 2.414213562373095,-0.41421356237309515 L 2.268786568327291,-0.5460209067254738 L 2.1111404660392044,-0.6629392246050905 L 1.9427934736519956,-0.7638425286967099 L 1.7653668647301797,-0.8477590650225735 L 1.5805693545089246,-0.9138806714644179 L 1.3901806440322566,-0.9615705608064609 L 1.1960342806591215,-0.9903694533443936 L 1.0000000000000002,-1.0 L 0.8039657193408787,-0.9903694533443939 L 0.6098193559677436,-0.9615705608064609 L 0.41943064549107567,-0.9138806714644179 L 0.23463313526982055,-0.8477590650225735 L 0.057206526348004605,-0.7638425286967101 L -0.11114046603920391,-0.6629392246050907 L -0.26878656832729075,-0.5460209067254742 L -0.4142135623730949,-0.41421356237309515 L -0.546020906725474,-0.268786568327291 L -0.6629392246050907,-0.11114046603920436 L -0.7638425286967099,0.05720652634800438 L -0.8477590650225735,0.23463313526982021 L -0.9138806714644176,0.4194306454910752 L -0.9615705608064609,0.6098193559677427 L -0.9903694533443936,0.8039657193408783 L -1.0,0.9999999999999998 L -0.9903694533443939,1.196034280659121 L -0.9615705608064609,1.3901806440322568 L -0.9138806714644179,1.580569354508924 L -0.8477590650225737,1.7653668647301792 L -0.7638425286967101,1.9427934736519954 L -0.6629392246050909,2.111140466039204 L -0.5460209067254742,2.2687865683272905 L -0.41421356237309537,2.414213562373095 L -0.26878656832729186,2.5460209067254733 L -0.11114046603920436,2.6629392246050907 L 0.05720652634800427,2.76384252869671 L 0.23463313526981933,2.847759065022573 L 0.4194306454910751,2.9138806714644176 L 0.6098193559677427,2.961570560806461 L 0.8039657193408791,2.990369453344394 L 0.9999999999999997,3.0 L 1.1960342806591202,2.990369453344394 L 1.3901806440322566,2.961570560806461 L 1.580569354508924,2.913880671464418 L 1.7653668647301801,2.847759065022573 L 1.9427934736519952,2.76384252869671 L 2.1111404660392035,2.6629392246050907 L 2.2687865683272914,2.5460209067254738 L 2.414213562373095,2.4142135623730954 L 2.546020906725473,2.268786568327292 L 2.6629392246050907,2.1111404660392044 L 2.76384252869671,1.9427934736519958 L 2.847759065022573,1.7653668647301808 L 2.9138806714644176,1.580569354508925 L 2.961570560806461,1.3901806440322575 L 2.990369453344394,1.196034280659121 L 3.0,1.0 z\" /></g></g></svg>"
      ],
      "text/plain": [
       "<shapely.geometry.multipolygon.MultiPolygon at 0x2a1b64ef430>"
      ]
     },
     "execution_count": 152,
     "metadata": {},
     "output_type": "execute_result"
    }
   ],
   "source": [
    "MultiPolygon([Point(0, 0).buffer(0.1),Point(1, 1).buffer(2)])"
   ]
  },
  {
   "cell_type": "code",
   "execution_count": 153,
   "metadata": {},
   "outputs": [
    {
     "data": {
      "text/plain": [
       "False"
      ]
     },
     "execution_count": 153,
     "metadata": {},
     "output_type": "execute_result"
    }
   ],
   "source": [
    "Point(0, 0).buffer(0.1).disjoint(Point(1, 1).buffer(2))\n",
    "# Returns True if the boundary and interior of the object do not intersect at all \n",
    "# with those of the other."
   ]
  },
  {
   "cell_type": "markdown",
   "metadata": {},
   "source": [
    "**object.intersects(other)**\n",
    "\n",
    "Returns True if the boundary or interior of the object intersect in any way with those of the other.\n",
    "\n",
    "In other words, geometric objects intersect if they have any boundary or interior point in common.\n",
    "\n",
    "**object.overlaps(other)**\n",
    "\n",
    "Returns True if the geometries have more than one but not all points in common, have the same dimension, and the intersection of the interiors of the geometries has the same dimension as the geometries themselves.\n",
    "\n",
    "**object.touches(other)**\n",
    "\n",
    "Returns True if the objects have at least one point in common and their interiors do not intersect with any part of the other."
   ]
  },
  {
   "cell_type": "code",
   "execution_count": 155,
   "metadata": {},
   "outputs": [
    {
     "data": {
      "text/plain": [
       "True"
      ]
     },
     "execution_count": 155,
     "metadata": {},
     "output_type": "execute_result"
    }
   ],
   "source": [
    "Point(0, 0).buffer(0.1).intersects(Point(1, 1).buffer(2))"
   ]
  },
  {
   "cell_type": "code",
   "execution_count": 159,
   "metadata": {},
   "outputs": [
    {
     "data": {
      "image/svg+xml": [
       "<svg xmlns=\"http://www.w3.org/2000/svg\" xmlns:xlink=\"http://www.w3.org/1999/xlink\" width=\"100.0\" height=\"100.0\" viewBox=\"-4.32 -4.32 8.64 8.64\" preserveAspectRatio=\"xMinYMin meet\"><g transform=\"matrix(1,0,0,-1,0,0.0)\"><g><path fill-rule=\"evenodd\" fill=\"#ff3333\" stroke=\"#555555\" stroke-width=\"0.1728\" opacity=\"0.6\" d=\"M 4.0,0.0 L 3.9807389066887877,-0.3920685613182424 L 3.9231411216129217,-0.780361288064513 L 3.8277613429288353,-1.1611387090178493 L 3.695518130045147,-1.5307337294603591 L 3.52768505739342,-1.8855869473039906 L 3.325878449210181,-2.2222809320784087 L 3.092041813450948,-2.537573136654582 L 2.8284271247461903,-2.8284271247461903 L 2.537573136654582,-3.0920418134509475 L 2.222280932078409,-3.325878449210181 L 1.8855869473039912,-3.5276850573934198 L 1.5307337294603593,-3.695518130045147 L 1.1611387090178493,-3.8277613429288357 L 0.7803612880645133,-3.9231411216129217 L 0.3920685613182431,-3.9807389066887873 L 2.4492935982947064e-16,-4.0 L -0.3920685613182426,-3.9807389066887877 L -0.7803612880645128,-3.9231411216129217 L -1.1611387090178487,-3.8277613429288357 L -1.530733729460359,-3.695518130045147 L -1.8855869473039908,-3.52768505739342 L -2.222280932078408,-3.3258784492101814 L -2.5375731366545815,-3.0920418134509484 L -2.82842712474619,-2.8284271247461903 L -3.092041813450948,-2.537573136654582 L -3.3258784492101814,-2.2222809320784087 L -3.5276850573934198,-1.8855869473039912 L -3.695518130045147,-1.5307337294603596 L -3.8277613429288353,-1.1611387090178495 L -3.9231411216129217,-0.7803612880645144 L -3.9807389066887873,-0.3920685613182433 L -4.0,-4.898587196589413e-16 L -3.9807389066887877,0.39206856131824236 L -3.9231411216129217,0.7803612880645134 L -3.8277613429288357,1.1611387090178484 L -3.6955181300451474,1.5307337294603587 L -3.52768505739342,1.8855869473039906 L -3.325878449210182,2.222280932078408 L -3.0920418134509484,2.537573136654581 L -2.8284271247461907,2.82842712474619 L -2.5375731366545837,3.0920418134509466 L -2.2222809320784087,3.325878449210181 L -1.8855869473039915,3.5276850573934198 L -1.5307337294603613,3.695518130045146 L -1.1611387090178498,3.8277613429288353 L -0.7803612880645147,3.9231411216129213 L -0.3920685613182418,3.9807389066887877 L -7.347880794884119e-16,4.0 L 0.39206856131824036,3.9807389066887877 L 0.7803612880645132,3.9231411216129217 L 1.1611387090178482,3.8277613429288357 L 1.53073372946036,3.6955181300451465 L 1.8855869473039903,3.52768505739342 L 2.2222809320784074,3.325878449210182 L 2.5375731366545824,3.0920418134509475 L 2.8284271247461894,2.8284271247461907 L 3.092041813450946,2.5375731366545837 L 3.325878449210181,2.2222809320784087 L 3.5276850573934193,1.8855869473039917 L 3.695518130045146,1.5307337294603616 L 3.8277613429288353,1.16113870901785 L 3.9231411216129213,0.7803612880645149 L 3.9807389066887877,0.392068561318242 L 4.0,0.0 z\" /><path fill-rule=\"evenodd\" fill=\"#ff3333\" stroke=\"#555555\" stroke-width=\"0.1728\" opacity=\"0.6\" d=\"M 3.0,1.0 L 2.990369453344394,0.8039657193408788 L 2.961570560806461,0.6098193559677435 L 2.9138806714644176,0.41943064549107534 L 2.8477590650225735,0.23463313526982044 L 2.76384252869671,0.057206526348004716 L 2.6629392246050907,-0.11114046603920436 L 2.5460209067254738,-0.268786568327291 L 2.414213562373095,-0.41421356237309515 L 2.268786568327291,-0.5460209067254738 L 2.1111404660392044,-0.6629392246050905 L 1.9427934736519956,-0.7638425286967099 L 1.7653668647301797,-0.8477590650225735 L 1.5805693545089246,-0.9138806714644179 L 1.3901806440322566,-0.9615705608064609 L 1.1960342806591215,-0.9903694533443936 L 1.0000000000000002,-1.0 L 0.8039657193408787,-0.9903694533443939 L 0.6098193559677436,-0.9615705608064609 L 0.41943064549107567,-0.9138806714644179 L 0.23463313526982055,-0.8477590650225735 L 0.057206526348004605,-0.7638425286967101 L -0.11114046603920391,-0.6629392246050907 L -0.26878656832729075,-0.5460209067254742 L -0.4142135623730949,-0.41421356237309515 L -0.546020906725474,-0.268786568327291 L -0.6629392246050907,-0.11114046603920436 L -0.7638425286967099,0.05720652634800438 L -0.8477590650225735,0.23463313526982021 L -0.9138806714644176,0.4194306454910752 L -0.9615705608064609,0.6098193559677427 L -0.9903694533443936,0.8039657193408783 L -1.0,0.9999999999999998 L -0.9903694533443939,1.196034280659121 L -0.9615705608064609,1.3901806440322568 L -0.9138806714644179,1.580569354508924 L -0.8477590650225737,1.7653668647301792 L -0.7638425286967101,1.9427934736519954 L -0.6629392246050909,2.111140466039204 L -0.5460209067254742,2.2687865683272905 L -0.41421356237309537,2.414213562373095 L -0.26878656832729186,2.5460209067254733 L -0.11114046603920436,2.6629392246050907 L 0.05720652634800427,2.76384252869671 L 0.23463313526981933,2.847759065022573 L 0.4194306454910751,2.9138806714644176 L 0.6098193559677427,2.961570560806461 L 0.8039657193408791,2.990369453344394 L 0.9999999999999997,3.0 L 1.1960342806591202,2.990369453344394 L 1.3901806440322566,2.961570560806461 L 1.580569354508924,2.913880671464418 L 1.7653668647301801,2.847759065022573 L 1.9427934736519952,2.76384252869671 L 2.1111404660392035,2.6629392246050907 L 2.2687865683272914,2.5460209067254738 L 2.414213562373095,2.4142135623730954 L 2.546020906725473,2.268786568327292 L 2.6629392246050907,2.1111404660392044 L 2.76384252869671,1.9427934736519958 L 2.847759065022573,1.7653668647301808 L 2.9138806714644176,1.580569354508925 L 2.961570560806461,1.3901806440322575 L 2.990369453344394,1.196034280659121 L 3.0,1.0 z\" /></g></g></svg>"
      ],
      "text/plain": [
       "<shapely.geometry.multipolygon.MultiPolygon at 0x2a1b7cc7880>"
      ]
     },
     "execution_count": 159,
     "metadata": {},
     "output_type": "execute_result"
    }
   ],
   "source": [
    "\n",
    "MultiPolygon([Point(0, 0).buffer(4),Point(1, 1).buffer(2)])"
   ]
  },
  {
   "cell_type": "code",
   "execution_count": 160,
   "metadata": {},
   "outputs": [
    {
     "data": {
      "text/plain": [
       "False"
      ]
     },
     "execution_count": 160,
     "metadata": {},
     "output_type": "execute_result"
    }
   ],
   "source": [
    "Point(0, 0).buffer(4).overlaps(Point(1, 1).buffer(2))"
   ]
  },
  {
   "cell_type": "code",
   "execution_count": 163,
   "metadata": {},
   "outputs": [
    {
     "data": {
      "image/svg+xml": [
       "<svg xmlns=\"http://www.w3.org/2000/svg\" xmlns:xlink=\"http://www.w3.org/1999/xlink\" width=\"100.0\" height=\"100.0\" viewBox=\"-0.58 -0.58 1.16 2.16\" preserveAspectRatio=\"xMinYMin meet\"><g transform=\"matrix(1,0,0,-1,0,1.0)\"><g><path fill-rule=\"evenodd\" fill=\"#66cc99\" stroke=\"#555555\" stroke-width=\"0.0432\" opacity=\"0.6\" d=\"M 0.5,0.0 L 0.49759236333609846,-0.0490085701647803 L 0.4903926402016152,-0.09754516100806412 L 0.4784701678661044,-0.14514233862723117 L 0.46193976625564337,-0.1913417161825449 L 0.4409606321741775,-0.23569836841299882 L 0.4157348061512726,-0.2777851165098011 L 0.3865052266813685,-0.31719664208182274 L 0.3535533905932738,-0.3535533905932738 L 0.31719664208182274,-0.38650522668136844 L 0.27778511650980114,-0.4157348061512726 L 0.2356983684129989,-0.44096063217417747 L 0.19134171618254492,-0.46193976625564337 L 0.14514233862723117,-0.47847016786610447 L 0.09754516100806417,-0.4903926402016152 L 0.049008570164780385,-0.4975923633360984 L 3.061616997868383e-17,-0.5 L -0.04900857016478032,-0.49759236333609846 L -0.0975451610080641,-0.4903926402016152 L -0.14514233862723108,-0.47847016786610447 L -0.19134171618254486,-0.46193976625564337 L -0.23569836841299885,-0.4409606321741775 L -0.277785116509801,-0.4157348061512727 L -0.3171966420818227,-0.38650522668136855 L -0.35355339059327373,-0.3535533905932738 L -0.3865052266813685,-0.31719664208182274 L -0.4157348061512727,-0.2777851165098011 L -0.44096063217417747,-0.2356983684129989 L -0.46193976625564337,-0.19134171618254495 L -0.4784701678661044,-0.1451423386272312 L -0.4903926402016152,-0.0975451610080643 L -0.4975923633360984,-0.04900857016478041 L -0.5,-6.123233995736766e-17 L -0.49759236333609846,0.049008570164780295 L -0.4903926402016152,0.09754516100806418 L -0.47847016786610447,0.14514233862723105 L -0.4619397662556434,0.19134171618254484 L -0.4409606321741775,0.23569836841299882 L -0.41573480615127273,0.277785116509801 L -0.38650522668136855,0.31719664208182263 L -0.35355339059327384,0.35355339059327373 L -0.31719664208182297,0.38650522668136833 L -0.2777851165098011,0.4157348061512726 L -0.23569836841299893,0.44096063217417747 L -0.19134171618254517,0.46193976625564326 L -0.14514233862723122,0.4784701678661044 L -0.09754516100806433,0.49039264020161516 L -0.049008570164780225,0.49759236333609846 L -9.184850993605148e-17,0.5 L 0.049008570164780045,0.49759236333609846 L 0.09754516100806415,0.4903926402016152 L 0.14514233862723103,0.47847016786610447 L 0.191341716182545,0.4619397662556433 L 0.2356983684129988,0.4409606321741775 L 0.2777851165098009,0.41573480615127273 L 0.3171966420818228,0.38650522668136844 L 0.3535533905932737,0.35355339059327384 L 0.3865052266813683,0.31719664208182297 L 0.4157348061512726,0.2777851165098011 L 0.4409606321741774,0.23569836841299896 L 0.46193976625564326,0.1913417161825452 L 0.4784701678661044,0.14514233862723125 L 0.49039264020161516,0.09754516100806436 L 0.49759236333609846,0.04900857016478025 L 0.5,0.0 z\" /><path fill-rule=\"evenodd\" fill=\"#66cc99\" stroke=\"#555555\" stroke-width=\"0.0432\" opacity=\"0.6\" d=\"M 0.5,1.0 L 0.49759236333609846,0.9509914298352197 L 0.4903926402016152,0.9024548389919359 L 0.4784701678661044,0.8548576613727689 L 0.46193976625564337,0.8086582838174551 L 0.4409606321741775,0.7643016315870012 L 0.4157348061512726,0.7222148834901989 L 0.3865052266813685,0.6828033579181773 L 0.3535533905932738,0.6464466094067263 L 0.31719664208182274,0.6134947733186316 L 0.27778511650980114,0.5842651938487273 L 0.2356983684129989,0.5590393678258225 L 0.19134171618254492,0.5380602337443566 L 0.14514233862723117,0.5215298321338955 L 0.09754516100806417,0.5096073597983848 L 0.049008570164780385,0.5024076366639016 L 3.061616997868383e-17,0.5 L -0.04900857016478032,0.5024076366639015 L -0.0975451610080641,0.5096073597983848 L -0.14514233862723108,0.5215298321338955 L -0.19134171618254486,0.5380602337443566 L -0.23569836841299885,0.5590393678258225 L -0.277785116509801,0.5842651938487273 L -0.3171966420818227,0.6134947733186314 L -0.35355339059327373,0.6464466094067263 L -0.3865052266813685,0.6828033579181773 L -0.4157348061512727,0.7222148834901989 L -0.44096063217417747,0.764301631587001 L -0.46193976625564337,0.8086582838174551 L -0.4784701678661044,0.8548576613727688 L -0.4903926402016152,0.9024548389919357 L -0.4975923633360984,0.9509914298352196 L -0.5,0.9999999999999999 L -0.49759236333609846,1.0490085701647802 L -0.4903926402016152,1.0975451610080642 L -0.47847016786610447,1.145142338627231 L -0.4619397662556434,1.1913417161825448 L -0.4409606321741775,1.2356983684129987 L -0.41573480615127273,1.277785116509801 L -0.38650522668136855,1.3171966420818226 L -0.35355339059327384,1.3535533905932737 L -0.31719664208182297,1.3865052266813684 L -0.2777851165098011,1.4157348061512727 L -0.23569836841299893,1.4409606321741775 L -0.19134171618254517,1.4619397662556433 L -0.14514233862723122,1.4784701678661043 L -0.09754516100806433,1.4903926402016152 L -0.049008570164780225,1.4975923633360986 L -9.184850993605148e-17,1.5 L 0.049008570164780045,1.4975923633360986 L 0.09754516100806415,1.4903926402016152 L 0.14514233862723103,1.4784701678661045 L 0.191341716182545,1.4619397662556433 L 0.2356983684129988,1.4409606321741775 L 0.2777851165098009,1.4157348061512727 L 0.3171966420818228,1.3865052266813684 L 0.3535533905932737,1.353553390593274 L 0.3865052266813683,1.3171966420818229 L 0.4157348061512726,1.277785116509801 L 0.4409606321741774,1.235698368412999 L 0.46193976625564326,1.1913417161825453 L 0.4784701678661044,1.1451423386272312 L 0.49039264020161516,1.0975451610080644 L 0.49759236333609846,1.0490085701647802 L 0.5,1.0 z\" /></g></g></svg>"
      ],
      "text/plain": [
       "<shapely.geometry.multipolygon.MultiPolygon at 0x2a1b7cc78e0>"
      ]
     },
     "execution_count": 163,
     "metadata": {},
     "output_type": "execute_result"
    }
   ],
   "source": [
    "MultiPolygon([Point(0, 0).buffer(0.5),Point(0, 1).buffer(0.5)])"
   ]
  },
  {
   "cell_type": "code",
   "execution_count": 165,
   "metadata": {},
   "outputs": [
    {
     "data": {
      "text/plain": [
       "False"
      ]
     },
     "execution_count": 165,
     "metadata": {},
     "output_type": "execute_result"
    }
   ],
   "source": [
    "Point(0, 0).buffer(0.5).touches(Point(0, 1).buffer(0.5))"
   ]
  },
  {
   "cell_type": "code",
   "execution_count": 166,
   "metadata": {},
   "outputs": [
    {
     "data": {
      "text/plain": [
       "True"
      ]
     },
     "execution_count": 166,
     "metadata": {},
     "output_type": "execute_result"
    }
   ],
   "source": [
    "a = LineString([(0, 0), (1, 1)])\n",
    "b = LineString([(1, 1), (2, 2)])\n",
    "a.touches(b)"
   ]
  },
  {
   "cell_type": "markdown",
   "metadata": {},
   "source": [
    "**object.within(other)**\n",
    "\n",
    "Returns True if the object’s boundary and interior intersect only with the interior of the other (not its boundary or exterior).\n",
    "\n",
    "是否在另一个模型的内部相交。"
   ]
  },
  {
   "cell_type": "code",
   "execution_count": 183,
   "metadata": {},
   "outputs": [],
   "source": [
    "a = Point(2, 2)\n",
    "b = Polygon([[1, 1], [1, 3], [3, 3], [3, 1]])\n",
    "c = Polygon([[0, 0], [0, 4], [4, 4], [4, 0]])\n",
    "d = Point(-1, -1)\n",
    "\n",
    "features = [c, a, d, b, c]\n",
    "\n",
    "# As the howto says, the less than comparison is guaranteed to be used in sorting.\n",
    "# 大小比较底层调用的是排序函数\n",
    "\n",
    "\n",
    "class Within:\n",
    "    def __init__(self, o):\n",
    "        self.o = o\n",
    "    def __lt__(self, other):\n",
    "        return self.o.within(other.o)\n",
    "    \n"
   ]
  },
  {
   "cell_type": "code",
   "execution_count": 185,
   "metadata": {},
   "outputs": [
    {
     "data": {
      "text/plain": [
       "False"
      ]
     },
     "execution_count": 185,
     "metadata": {},
     "output_type": "execute_result"
    }
   ],
   "source": [
    "Within(d) < Within(c)\n"
   ]
  },
  {
   "cell_type": "code",
   "execution_count": 188,
   "metadata": {},
   "outputs": [
    {
     "data": {
      "text/plain": [
       "[<shapely.geometry.point.Point at 0x2a1b76f9cd0>,\n",
       " <shapely.geometry.polygon.Polygon at 0x2a1b7457280>,\n",
       " <shapely.geometry.polygon.Polygon at 0x2a1b7457280>,\n",
       " <shapely.geometry.polygon.Polygon at 0x2a1b76f91f0>,\n",
       " <shapely.geometry.point.Point at 0x2a1b746d850>]"
      ]
     },
     "execution_count": 188,
     "metadata": {},
     "output_type": "execute_result"
    }
   ],
   "source": [
    "sorted(features, key=Within, reverse=True)"
   ]
  },
  {
   "cell_type": "markdown",
   "metadata": {},
   "source": [
    "## DE-9IM Relationships\n",
    "\n",
    "DE-9IM : Dimensionally Extended Nine-Intersection Model 尺寸延伸九个交叉点模型\n",
    "\n",
    "**object.relate(other)**\n",
    "\n",
    "Returns a string representation of the DE-9IM matrix of relationships between an object’s interior, boundary, exterior and those of another geometric object."
   ]
  },
  {
   "cell_type": "code",
   "execution_count": 189,
   "metadata": {},
   "outputs": [
    {
     "data": {
      "text/plain": [
       "'F0FFFF102'"
      ]
     },
     "execution_count": 189,
     "metadata": {},
     "output_type": "execute_result"
    }
   ],
   "source": [
    "Point(0, 0).relate(LineString([(0, 0), (1, 1)]))"
   ]
  },
  {
   "cell_type": "code",
   "execution_count": 190,
   "metadata": {},
   "outputs": [
    {
     "data": {
      "text/plain": [
       "True"
      ]
     },
     "execution_count": 190,
     "metadata": {},
     "output_type": "execute_result"
    }
   ],
   "source": [
    "point = Point(0.5, 0.5)\n",
    "square = Polygon([(0, 0), (0, 1), (1, 1), (1, 0)])\n",
    "square.relate_pattern(point, 'T*****FF*')"
   ]
  },
  {
   "cell_type": "code",
   "execution_count": 191,
   "metadata": {},
   "outputs": [
    {
     "data": {
      "text/plain": [
       "True"
      ]
     },
     "execution_count": 191,
     "metadata": {},
     "output_type": "execute_result"
    }
   ],
   "source": [
    "point.within(square)"
   ]
  },
  {
   "cell_type": "markdown",
   "metadata": {},
   "source": [
    "## Spatial Analysis Methods\n",
    "\n",
    "### Set-theoretic Methods\n",
    "\n",
    "These methods will always return **a geometric object**. An intersection of disjoint geometries for example will return an empty GeometryCollection, not None or False. To test for a non-empty result, use the geometry’s is_empty property."
   ]
  },
  {
   "cell_type": "markdown",
   "metadata": {},
   "source": [
    "object.boundary\n",
    "\n",
    "The boundary of a polygon is a line,\n",
    "\n",
    "the boundary of a line is a collection of points. \n",
    "\n",
    "The boundary of a point is an empty (null) collection."
   ]
  },
  {
   "cell_type": "code",
   "execution_count": 197,
   "metadata": {},
   "outputs": [
    {
     "data": {
      "text/plain": [
       "shapely.geometry.multipoint.MultiPoint"
      ]
     },
     "execution_count": 197,
     "metadata": {},
     "output_type": "execute_result"
    }
   ],
   "source": [
    "coords = [((0, 0), (1, 1)), ((-1, 0), (1, 0))]\n",
    "lines = MultiLineString(coords)\n",
    "type(lines.boundary) # the boundary of a line is a collection of points."
   ]
  },
  {
   "cell_type": "code",
   "execution_count": 196,
   "metadata": {},
   "outputs": [
    {
     "name": "stdout",
     "output_type": "stream",
     "text": [
      "[<shapely.geometry.point.Point object at 0x000002A1B76F3E20>,\n",
      " <shapely.geometry.point.Point object at 0x000002A1B76F3DC0>,\n",
      " <shapely.geometry.point.Point object at 0x000002A1B76F3040>,\n",
      " <shapely.geometry.point.Point object at 0x000002A1B76F3760>]\n"
     ]
    }
   ],
   "source": [
    "pprint(list(lines.boundary.geoms))"
   ]
  },
  {
   "cell_type": "code",
   "execution_count": 198,
   "metadata": {},
   "outputs": [
    {
     "data": {
      "text/plain": [
       "shapely.geometry.collection.GeometryCollection"
      ]
     },
     "execution_count": 198,
     "metadata": {},
     "output_type": "execute_result"
    }
   ],
   "source": [
    "type(lines.boundary.boundary) # The boundary of a point is an empty (null) collection."
   ]
  },
  {
   "cell_type": "code",
   "execution_count": 199,
   "metadata": {},
   "outputs": [
    {
     "data": {
      "text/plain": [
       "True"
      ]
     },
     "execution_count": 199,
     "metadata": {},
     "output_type": "execute_result"
    }
   ],
   "source": [
    "lines.boundary.boundary.is_empty"
   ]
  },
  {
   "cell_type": "markdown",
   "metadata": {},
   "source": [
    "object.centroid"
   ]
  },
  {
   "cell_type": "code",
   "execution_count": 200,
   "metadata": {},
   "outputs": [
    {
     "data": {
      "image/svg+xml": [
       "<svg xmlns=\"http://www.w3.org/2000/svg\" xmlns:xlink=\"http://www.w3.org/1999/xlink\" width=\"100.0\" height=\"100.0\" viewBox=\"-0.5 -0.5 2.0 2.0\" preserveAspectRatio=\"xMinYMin meet\"><g transform=\"matrix(1,0,0,-1,0,1.0)\"><circle cx=\"0.5\" cy=\"0.5\" r=\"0.06\" stroke=\"#555555\" stroke-width=\"0.02\" fill=\"#66cc99\" opacity=\"0.6\" /></g></svg>"
      ],
      "text/plain": [
       "<shapely.geometry.point.Point at 0x2a1b8592b50>"
      ]
     },
     "execution_count": 200,
     "metadata": {},
     "output_type": "execute_result"
    }
   ],
   "source": [
    "LineString([(0, 0), (1, 1)]).centroid"
   ]
  },
  {
   "cell_type": "markdown",
   "metadata": {},
   "source": [
    "布尔运算：\n",
    "\n",
    "- object.difference(other)    can be accessed with minus, -\n",
    "\n",
    "- object.intersection(other)   can be accessed with and, &  \n",
    "\n",
    "- object.symmetric_difference(other)   can be accessed with xor, ^\n",
    "\n",
    "- object.union(other)      can be accessed with or, |"
   ]
  },
  {
   "cell_type": "code",
   "execution_count": 201,
   "metadata": {},
   "outputs": [
    {
     "data": {
      "image/svg+xml": [
       "<svg xmlns=\"http://www.w3.org/2000/svg\" xmlns:xlink=\"http://www.w3.org/1999/xlink\" width=\"100.0\" height=\"100.0\" viewBox=\"-0.62 -0.62 2.24 3.24\" preserveAspectRatio=\"xMinYMin meet\"><g transform=\"matrix(1,0,0,-1,0,2.0)\"><path fill-rule=\"evenodd\" fill=\"#66cc99\" stroke=\"#555555\" stroke-width=\"0.06480000000000001\" opacity=\"0.6\" d=\"M 1.4354270158816935,-0.43541050359831335 L 1.2926354830241924,-0.47117792060484565 L 1.147025710494341,-0.4927770900082953 L 1.0,-0.5 L 0.852974289505659,-0.4927770900082953 L 0.7073645169758077,-0.47117792060484565 L 0.5645729841183067,-0.43541050359831335 L 0.42597485145236536,-0.38581929876693 L 0.29290489476100345,-0.32288189652253263 L 0.16664465047059707,-0.24720441845381802 L 0.04841007375453188,-0.15951568004410577 L -0.06066017177982119,-0.060660171779821415 L -0.15951568004410555,0.04841007375453177 L -0.24720441845381802,0.16664465047059673 L -0.3228818965225324,0.29290489476100334 L -0.38581929876693,0.42597485145236513 L -0.43541050359831335,0.5645729841183065 L -0.47117792060484565,0.7073645169758072 L -0.4927770900082953,0.8529742895056588 L -0.5,0.9999999999999998 L -0.4927770900082953,1.1470257104943409 L -0.47117792060484565,1.2926354830241924 L -0.43541050359831335,1.435427015881693 L -0.3858192987669302,1.5740251485476344 L -0.32288189652253263,1.7070951052389964 L -0.24720441845381824,1.8333553495294028 L -0.15951568004410577,1.951589926245468 L -0.060660171779821415,2.060660171779821 L 0.0484100737545311,2.159515680044105 L 0.16664465047059673,2.247204418453818 L 0.29290489476100323,2.3228818965225324 L 0.42597485145236447,2.38581929876693 L 0.5645729841183064,2.4354105035983133 L 0.7073645169758069,2.4711779206048456 L 0.8529742895056593,2.4927770900082953 L 0.9999999999999998,2.5 L 1.1470257104943402,2.4927770900082953 L 1.2926354830241924,2.4711779206048456 L 1.435427015881693,2.4354105035983133 L 1.4999999999999998,2.412305920438431 L 1.4259748514523645,2.38581929876693 L 1.2929048947610031,2.3228818965225324 L 1.1666446504705967,2.247204418453818 L 1.048410073754531,2.159515680044105 L 0.9393398282201786,2.060660171779821 L 0.8404843199558942,1.951589926245468 L 0.7527955815461818,1.8333553495294028 L 0.6771181034774674,1.7070951052389964 L 0.6141807012330698,1.5740251485476344 L 0.5645894964016867,1.435427015881693 L 0.5288220793951544,1.2926354830241924 L 0.5072229099917047,1.1470257104943409 L 0.5,0.9999999999999998 L 0.5072229099917047,0.8529742895056588 L 0.5288220793951544,0.7073645169758072 L 0.5645894964016867,0.5645729841183065 L 0.61418070123307,0.42597485145236513 L 0.6771181034774676,0.29290489476100334 L 0.752795581546182,0.16664465047059673 L 0.8404843199558945,0.04841007375453177 L 0.9393398282201788,-0.060660171779821415 L 1.0484100737545319,-0.15951568004410577 L 1.1666446504705972,-0.24720441845381802 L 1.2929048947610036,-0.32288189652253263 L 1.4259748514523654,-0.38581929876693 L 1.5000000000000002,-0.4123059204384313 L 1.4354270158816935,-0.43541050359831335 z\" /></g></svg>"
      ],
      "text/plain": [
       "<shapely.geometry.polygon.Polygon at 0x2a1b82444c0>"
      ]
     },
     "execution_count": 201,
     "metadata": {},
     "output_type": "execute_result"
    }
   ],
   "source": [
    "a = Point(1, 1).buffer(1.5)\n",
    "b = Point(2, 1).buffer(1.5)\n",
    "a.difference(b)"
   ]
  },
  {
   "cell_type": "code",
   "execution_count": 202,
   "metadata": {},
   "outputs": [
    {
     "data": {
      "image/svg+xml": [
       "<svg xmlns=\"http://www.w3.org/2000/svg\" xmlns:xlink=\"http://www.w3.org/1999/xlink\" width=\"100.0\" height=\"100.0\" viewBox=\"0.38701552636492553 -0.5252903940735058 2.2259689472701494 3.0505807881470117\" preserveAspectRatio=\"xMinYMin meet\"><g transform=\"matrix(1,0,0,-1,0,2.0)\"><path fill-rule=\"evenodd\" fill=\"#66cc99\" stroke=\"#555555\" stroke-width=\"0.06101161576294024\" opacity=\"0.6\" d=\"M 2.4927770900082953,0.8529742895056591 L 2.4711779206048456,0.7073645169758076 L 2.4354105035983133,0.5645729841183065 L 2.38581929876693,0.42597485145236536 L 2.3228818965225324,0.29290489476100356 L 2.247204418453818,0.16664465047059673 L 2.1595156800441053,0.04841007375453177 L 2.0606601717798214,-0.060660171779821415 L 1.9515899262454681,-0.15951568004410532 L 1.8333553495294035,-0.2472044184538178 L 1.7070951052389967,-0.3228818965225324 L 1.5740251485476349,-0.38581929876693 L 1.5000000000000002,-0.4123059204384313 L 1.4259748514523654,-0.38581929876693 L 1.2929048947610036,-0.32288189652253263 L 1.1666446504705972,-0.24720441845381802 L 1.0484100737545319,-0.15951568004410577 L 0.9393398282201788,-0.060660171779821415 L 0.8404843199558945,0.04841007375453177 L 0.752795581546182,0.16664465047059673 L 0.6771181034774676,0.29290489476100334 L 0.61418070123307,0.42597485145236513 L 0.5645894964016867,0.5645729841183065 L 0.5288220793951544,0.7073645169758072 L 0.5072229099917047,0.8529742895056588 L 0.5,0.9999999999999998 L 0.5072229099917047,1.1470257104943409 L 0.5288220793951544,1.2926354830241924 L 0.5645894964016867,1.435427015881693 L 0.6141807012330698,1.5740251485476344 L 0.6771181034774674,1.7070951052389964 L 0.7527955815461818,1.8333553495294028 L 0.8404843199558942,1.951589926245468 L 0.9393398282201786,2.060660171779821 L 1.048410073754531,2.159515680044105 L 1.1666446504705967,2.247204418453818 L 1.2929048947610031,2.3228818965225324 L 1.4259748514523645,2.38581929876693 L 1.4999999999999998,2.412305920438431 L 1.5740251485476349,2.38581929876693 L 1.7070951052389964,2.3228818965225324 L 1.8333553495294028,2.2472044184538182 L 1.9515899262454683,2.1595156800441053 L 2.060660171779821,2.0606601717798214 L 2.159515680044105,1.951589926245469 L 2.247204418453818,1.8333553495294033 L 2.3228818965225324,1.7070951052389969 L 2.38581929876693,1.5740251485476355 L 2.4354105035983133,1.4354270158816937 L 2.4711779206048456,1.292635483024193 L 2.4927770900082953,1.1470257104943409 L 2.5,1.0 L 2.4927770900082953,0.8529742895056591 z\" /></g></svg>"
      ],
      "text/plain": [
       "<shapely.geometry.polygon.Polygon at 0x2a1b74bf970>"
      ]
     },
     "execution_count": 202,
     "metadata": {},
     "output_type": "execute_result"
    }
   ],
   "source": [
    "a.intersection(b)"
   ]
  },
  {
   "cell_type": "code",
   "execution_count": 203,
   "metadata": {},
   "outputs": [
    {
     "data": {
      "image/svg+xml": [
       "<svg xmlns=\"http://www.w3.org/2000/svg\" xmlns:xlink=\"http://www.w3.org/1999/xlink\" width=\"100.0\" height=\"100.0\" viewBox=\"-0.66 -0.66 4.32 3.3200000000000003\" preserveAspectRatio=\"xMinYMin meet\"><g transform=\"matrix(1,0,0,-1,0,2.0)\"><g><path fill-rule=\"evenodd\" fill=\"#66cc99\" stroke=\"#555555\" stroke-width=\"0.0864\" opacity=\"0.6\" d=\"M 1.5740251485476349,-0.38581929876693 L 1.7070951052389967,-0.3228818965225324 L 1.8333553495294035,-0.2472044184538178 L 1.9515899262454681,-0.15951568004410532 L 2.0606601717798214,-0.060660171779821415 L 2.1595156800441053,0.04841007375453177 L 2.247204418453818,0.16664465047059673 L 2.3228818965225324,0.29290489476100356 L 2.38581929876693,0.42597485145236536 L 2.4354105035983133,0.5645729841183065 L 2.4711779206048456,0.7073645169758076 L 2.4927770900082953,0.8529742895056591 L 2.5,1.0 L 2.4927770900082953,1.1470257104943409 L 2.4711779206048456,1.292635483024193 L 2.4354105035983133,1.4354270158816937 L 2.38581929876693,1.5740251485476355 L 2.3228818965225324,1.7070951052389969 L 2.247204418453818,1.8333553495294033 L 2.159515680044105,1.951589926245469 L 2.060660171779821,2.0606601717798214 L 1.9515899262454683,2.1595156800441053 L 1.8333553495294028,2.2472044184538182 L 1.7070951052389964,2.3228818965225324 L 1.5740251485476349,2.38581929876693 L 1.4999999999999998,2.412305920438431 L 1.5645729841183065,2.4354105035983133 L 1.707364516975807,2.4711779206048456 L 1.8529742895056593,2.4927770900082953 L 1.9999999999999998,2.5 L 2.14702571049434,2.4927770900082953 L 2.2926354830241924,2.4711779206048456 L 2.435427015881693,2.4354105035983133 L 2.574025148547635,2.38581929876693 L 2.7070951052389964,2.3228818965225324 L 2.833355349529403,2.2472044184538182 L 2.951589926245468,2.1595156800441053 L 3.060660171779821,2.0606601717798214 L 3.159515680044105,1.951589926245469 L 3.247204418453818,1.8333553495294033 L 3.3228818965225324,1.7070951052389969 L 3.38581929876693,1.5740251485476355 L 3.4354105035983133,1.4354270158816937 L 3.4711779206048456,1.292635483024193 L 3.4927770900082953,1.1470257104943409 L 3.5,1.0 L 3.4927770900082953,0.8529742895056591 L 3.4711779206048456,0.7073645169758076 L 3.4354105035983133,0.5645729841183065 L 3.38581929876693,0.42597485145236536 L 3.3228818965225324,0.29290489476100356 L 3.247204418453818,0.16664465047059673 L 3.1595156800441053,0.04841007375453177 L 3.0606601717798214,-0.060660171779821415 L 2.951589926245468,-0.15951568004410532 L 2.8333553495294037,-0.2472044184538178 L 2.707095105238997,-0.3228818965225324 L 2.574025148547635,-0.38581929876693 L 2.4354270158816935,-0.43541050359831335 L 2.2926354830241924,-0.47117792060484565 L 2.1470257104943413,-0.4927770900082953 L 2.0,-0.5 L 1.8529742895056591,-0.4927770900082953 L 1.7073645169758076,-0.47117792060484565 L 1.5645729841183067,-0.43541050359831335 L 1.5000000000000002,-0.4123059204384313 L 1.5740251485476349,-0.38581929876693 z\" /><path fill-rule=\"evenodd\" fill=\"#66cc99\" stroke=\"#555555\" stroke-width=\"0.0864\" opacity=\"0.6\" d=\"M 1.4354270158816935,-0.43541050359831335 L 1.2926354830241924,-0.47117792060484565 L 1.147025710494341,-0.4927770900082953 L 1.0,-0.5 L 0.852974289505659,-0.4927770900082953 L 0.7073645169758077,-0.47117792060484565 L 0.5645729841183067,-0.43541050359831335 L 0.42597485145236536,-0.38581929876693 L 0.29290489476100345,-0.32288189652253263 L 0.16664465047059707,-0.24720441845381802 L 0.04841007375453188,-0.15951568004410577 L -0.06066017177982119,-0.060660171779821415 L -0.15951568004410555,0.04841007375453177 L -0.24720441845381802,0.16664465047059673 L -0.3228818965225324,0.29290489476100334 L -0.38581929876693,0.42597485145236513 L -0.43541050359831335,0.5645729841183065 L -0.47117792060484565,0.7073645169758072 L -0.4927770900082953,0.8529742895056588 L -0.5,0.9999999999999998 L -0.4927770900082953,1.1470257104943409 L -0.47117792060484565,1.2926354830241924 L -0.43541050359831335,1.435427015881693 L -0.3858192987669302,1.5740251485476344 L -0.32288189652253263,1.7070951052389964 L -0.24720441845381824,1.8333553495294028 L -0.15951568004410577,1.951589926245468 L -0.060660171779821415,2.060660171779821 L 0.0484100737545311,2.159515680044105 L 0.16664465047059673,2.247204418453818 L 0.29290489476100323,2.3228818965225324 L 0.42597485145236447,2.38581929876693 L 0.5645729841183064,2.4354105035983133 L 0.7073645169758069,2.4711779206048456 L 0.8529742895056593,2.4927770900082953 L 0.9999999999999998,2.5 L 1.1470257104943402,2.4927770900082953 L 1.2926354830241924,2.4711779206048456 L 1.435427015881693,2.4354105035983133 L 1.4999999999999998,2.412305920438431 L 1.4259748514523645,2.38581929876693 L 1.2929048947610031,2.3228818965225324 L 1.1666446504705967,2.247204418453818 L 1.048410073754531,2.159515680044105 L 0.9393398282201786,2.060660171779821 L 0.8404843199558942,1.951589926245468 L 0.7527955815461818,1.8333553495294028 L 0.6771181034774674,1.7070951052389964 L 0.6141807012330698,1.5740251485476344 L 0.5645894964016867,1.435427015881693 L 0.5288220793951544,1.2926354830241924 L 0.5072229099917047,1.1470257104943409 L 0.5,0.9999999999999998 L 0.5072229099917047,0.8529742895056588 L 0.5288220793951544,0.7073645169758072 L 0.5645894964016867,0.5645729841183065 L 0.61418070123307,0.42597485145236513 L 0.6771181034774676,0.29290489476100334 L 0.752795581546182,0.16664465047059673 L 0.8404843199558945,0.04841007375453177 L 0.9393398282201788,-0.060660171779821415 L 1.0484100737545319,-0.15951568004410577 L 1.1666446504705972,-0.24720441845381802 L 1.2929048947610036,-0.32288189652253263 L 1.4259748514523654,-0.38581929876693 L 1.5000000000000002,-0.4123059204384313 L 1.4354270158816935,-0.43541050359831335 z\" /></g></g></svg>"
      ],
      "text/plain": [
       "<shapely.geometry.multipolygon.MultiPolygon at 0x2a1b8718790>"
      ]
     },
     "execution_count": 203,
     "metadata": {},
     "output_type": "execute_result"
    }
   ],
   "source": [
    "a.symmetric_difference(b)"
   ]
  },
  {
   "cell_type": "code",
   "execution_count": 204,
   "metadata": {},
   "outputs": [
    {
     "data": {
      "image/svg+xml": [
       "<svg xmlns=\"http://www.w3.org/2000/svg\" xmlns:xlink=\"http://www.w3.org/1999/xlink\" width=\"100.0\" height=\"100.0\" viewBox=\"-0.66 -0.66 4.32 3.3200000000000003\" preserveAspectRatio=\"xMinYMin meet\"><g transform=\"matrix(1,0,0,-1,0,2.0)\"><path fill-rule=\"evenodd\" fill=\"#66cc99\" stroke=\"#555555\" stroke-width=\"0.0864\" opacity=\"0.6\" d=\"M 1.4354270158816935,-0.43541050359831335 L 1.2926354830241924,-0.47117792060484565 L 1.147025710494341,-0.4927770900082953 L 1.0,-0.5 L 0.852974289505659,-0.4927770900082953 L 0.7073645169758077,-0.47117792060484565 L 0.5645729841183067,-0.43541050359831335 L 0.42597485145236536,-0.38581929876693 L 0.29290489476100345,-0.32288189652253263 L 0.16664465047059707,-0.24720441845381802 L 0.04841007375453188,-0.15951568004410577 L -0.06066017177982119,-0.060660171779821415 L -0.15951568004410555,0.04841007375453177 L -0.24720441845381802,0.16664465047059673 L -0.3228818965225324,0.29290489476100334 L -0.38581929876693,0.42597485145236513 L -0.43541050359831335,0.5645729841183065 L -0.47117792060484565,0.7073645169758072 L -0.4927770900082953,0.8529742895056588 L -0.5,0.9999999999999998 L -0.4927770900082953,1.1470257104943409 L -0.47117792060484565,1.2926354830241924 L -0.43541050359831335,1.435427015881693 L -0.3858192987669302,1.5740251485476344 L -0.32288189652253263,1.7070951052389964 L -0.24720441845381824,1.8333553495294028 L -0.15951568004410577,1.951589926245468 L -0.060660171779821415,2.060660171779821 L 0.0484100737545311,2.159515680044105 L 0.16664465047059673,2.247204418453818 L 0.29290489476100323,2.3228818965225324 L 0.42597485145236447,2.38581929876693 L 0.5645729841183064,2.4354105035983133 L 0.7073645169758069,2.4711779206048456 L 0.8529742895056593,2.4927770900082953 L 0.9999999999999998,2.5 L 1.1470257104943402,2.4927770900082953 L 1.2926354830241924,2.4711779206048456 L 1.435427015881693,2.4354105035983133 L 1.4999999999999998,2.412305920438431 L 1.5645729841183065,2.4354105035983133 L 1.707364516975807,2.4711779206048456 L 1.8529742895056593,2.4927770900082953 L 1.9999999999999998,2.5 L 2.14702571049434,2.4927770900082953 L 2.2926354830241924,2.4711779206048456 L 2.435427015881693,2.4354105035983133 L 2.574025148547635,2.38581929876693 L 2.7070951052389964,2.3228818965225324 L 2.833355349529403,2.2472044184538182 L 2.951589926245468,2.1595156800441053 L 3.060660171779821,2.0606601717798214 L 3.159515680044105,1.951589926245469 L 3.247204418453818,1.8333553495294033 L 3.3228818965225324,1.7070951052389969 L 3.38581929876693,1.5740251485476355 L 3.4354105035983133,1.4354270158816937 L 3.4711779206048456,1.292635483024193 L 3.4927770900082953,1.1470257104943409 L 3.5,1.0 L 3.4927770900082953,0.8529742895056591 L 3.4711779206048456,0.7073645169758076 L 3.4354105035983133,0.5645729841183065 L 3.38581929876693,0.42597485145236536 L 3.3228818965225324,0.29290489476100356 L 3.247204418453818,0.16664465047059673 L 3.1595156800441053,0.04841007375453177 L 3.0606601717798214,-0.060660171779821415 L 2.951589926245468,-0.15951568004410532 L 2.8333553495294037,-0.2472044184538178 L 2.707095105238997,-0.3228818965225324 L 2.574025148547635,-0.38581929876693 L 2.4354270158816935,-0.43541050359831335 L 2.2926354830241924,-0.47117792060484565 L 2.1470257104943413,-0.4927770900082953 L 2.0,-0.5 L 1.8529742895056591,-0.4927770900082953 L 1.7073645169758076,-0.47117792060484565 L 1.5645729841183067,-0.43541050359831335 L 1.5000000000000002,-0.4123059204384313 L 1.4354270158816935,-0.43541050359831335 z\" /></g></svg>"
      ],
      "text/plain": [
       "<shapely.geometry.polygon.Polygon at 0x2a1b7300910>"
      ]
     },
     "execution_count": 204,
     "metadata": {},
     "output_type": "execute_result"
    }
   ],
   "source": [
    "a.union(b)\n",
    "\n",
    "# union() is an expensive way to find the cumulative union of many objects. \n",
    "# See shapely.ops.unary_union() for a more effective method."
   ]
  },
  {
   "cell_type": "code",
   "execution_count": 205,
   "metadata": {},
   "outputs": [
    {
     "data": {
      "image/svg+xml": [
       "<svg xmlns=\"http://www.w3.org/2000/svg\" xmlns:xlink=\"http://www.w3.org/1999/xlink\" width=\"100.0\" height=\"100.0\" viewBox=\"-0.62 -0.62 2.24 3.24\" preserveAspectRatio=\"xMinYMin meet\"><g transform=\"matrix(1,0,0,-1,0,2.0)\"><path fill-rule=\"evenodd\" fill=\"#66cc99\" stroke=\"#555555\" stroke-width=\"0.06480000000000001\" opacity=\"0.6\" d=\"M 1.4354270158816935,-0.43541050359831335 L 1.2926354830241924,-0.47117792060484565 L 1.147025710494341,-0.4927770900082953 L 1.0,-0.5 L 0.852974289505659,-0.4927770900082953 L 0.7073645169758077,-0.47117792060484565 L 0.5645729841183067,-0.43541050359831335 L 0.42597485145236536,-0.38581929876693 L 0.29290489476100345,-0.32288189652253263 L 0.16664465047059707,-0.24720441845381802 L 0.04841007375453188,-0.15951568004410577 L -0.06066017177982119,-0.060660171779821415 L -0.15951568004410555,0.04841007375453177 L -0.24720441845381802,0.16664465047059673 L -0.3228818965225324,0.29290489476100334 L -0.38581929876693,0.42597485145236513 L -0.43541050359831335,0.5645729841183065 L -0.47117792060484565,0.7073645169758072 L -0.4927770900082953,0.8529742895056588 L -0.5,0.9999999999999998 L -0.4927770900082953,1.1470257104943409 L -0.47117792060484565,1.2926354830241924 L -0.43541050359831335,1.435427015881693 L -0.3858192987669302,1.5740251485476344 L -0.32288189652253263,1.7070951052389964 L -0.24720441845381824,1.8333553495294028 L -0.15951568004410577,1.951589926245468 L -0.060660171779821415,2.060660171779821 L 0.0484100737545311,2.159515680044105 L 0.16664465047059673,2.247204418453818 L 0.29290489476100323,2.3228818965225324 L 0.42597485145236447,2.38581929876693 L 0.5645729841183064,2.4354105035983133 L 0.7073645169758069,2.4711779206048456 L 0.8529742895056593,2.4927770900082953 L 0.9999999999999998,2.5 L 1.1470257104943402,2.4927770900082953 L 1.2926354830241924,2.4711779206048456 L 1.435427015881693,2.4354105035983133 L 1.4999999999999998,2.412305920438431 L 1.4259748514523645,2.38581929876693 L 1.2929048947610031,2.3228818965225324 L 1.1666446504705967,2.247204418453818 L 1.048410073754531,2.159515680044105 L 0.9393398282201786,2.060660171779821 L 0.8404843199558942,1.951589926245468 L 0.7527955815461818,1.8333553495294028 L 0.6771181034774674,1.7070951052389964 L 0.6141807012330698,1.5740251485476344 L 0.5645894964016867,1.435427015881693 L 0.5288220793951544,1.2926354830241924 L 0.5072229099917047,1.1470257104943409 L 0.5,0.9999999999999998 L 0.5072229099917047,0.8529742895056588 L 0.5288220793951544,0.7073645169758072 L 0.5645894964016867,0.5645729841183065 L 0.61418070123307,0.42597485145236513 L 0.6771181034774676,0.29290489476100334 L 0.752795581546182,0.16664465047059673 L 0.8404843199558945,0.04841007375453177 L 0.9393398282201788,-0.060660171779821415 L 1.0484100737545319,-0.15951568004410577 L 1.1666446504705972,-0.24720441845381802 L 1.2929048947610036,-0.32288189652253263 L 1.4259748514523654,-0.38581929876693 L 1.5000000000000002,-0.4123059204384313 L 1.4354270158816935,-0.43541050359831335 z\" /></g></svg>"
      ],
      "text/plain": [
       "<shapely.geometry.polygon.Polygon at 0x2a1b85abfd0>"
      ]
     },
     "execution_count": 205,
     "metadata": {},
     "output_type": "execute_result"
    }
   ],
   "source": [
    "a - b"
   ]
  },
  {
   "cell_type": "code",
   "execution_count": 206,
   "metadata": {},
   "outputs": [
    {
     "data": {
      "image/svg+xml": [
       "<svg xmlns=\"http://www.w3.org/2000/svg\" xmlns:xlink=\"http://www.w3.org/1999/xlink\" width=\"100.0\" height=\"100.0\" viewBox=\"-0.66 -0.66 4.32 3.3200000000000003\" preserveAspectRatio=\"xMinYMin meet\"><g transform=\"matrix(1,0,0,-1,0,2.0)\"><g><path fill-rule=\"evenodd\" fill=\"#66cc99\" stroke=\"#555555\" stroke-width=\"0.0864\" opacity=\"0.6\" d=\"M 1.5740251485476349,-0.38581929876693 L 1.7070951052389967,-0.3228818965225324 L 1.8333553495294035,-0.2472044184538178 L 1.9515899262454681,-0.15951568004410532 L 2.0606601717798214,-0.060660171779821415 L 2.1595156800441053,0.04841007375453177 L 2.247204418453818,0.16664465047059673 L 2.3228818965225324,0.29290489476100356 L 2.38581929876693,0.42597485145236536 L 2.4354105035983133,0.5645729841183065 L 2.4711779206048456,0.7073645169758076 L 2.4927770900082953,0.8529742895056591 L 2.5,1.0 L 2.4927770900082953,1.1470257104943409 L 2.4711779206048456,1.292635483024193 L 2.4354105035983133,1.4354270158816937 L 2.38581929876693,1.5740251485476355 L 2.3228818965225324,1.7070951052389969 L 2.247204418453818,1.8333553495294033 L 2.159515680044105,1.951589926245469 L 2.060660171779821,2.0606601717798214 L 1.9515899262454683,2.1595156800441053 L 1.8333553495294028,2.2472044184538182 L 1.7070951052389964,2.3228818965225324 L 1.5740251485476349,2.38581929876693 L 1.4999999999999998,2.412305920438431 L 1.5645729841183065,2.4354105035983133 L 1.707364516975807,2.4711779206048456 L 1.8529742895056593,2.4927770900082953 L 1.9999999999999998,2.5 L 2.14702571049434,2.4927770900082953 L 2.2926354830241924,2.4711779206048456 L 2.435427015881693,2.4354105035983133 L 2.574025148547635,2.38581929876693 L 2.7070951052389964,2.3228818965225324 L 2.833355349529403,2.2472044184538182 L 2.951589926245468,2.1595156800441053 L 3.060660171779821,2.0606601717798214 L 3.159515680044105,1.951589926245469 L 3.247204418453818,1.8333553495294033 L 3.3228818965225324,1.7070951052389969 L 3.38581929876693,1.5740251485476355 L 3.4354105035983133,1.4354270158816937 L 3.4711779206048456,1.292635483024193 L 3.4927770900082953,1.1470257104943409 L 3.5,1.0 L 3.4927770900082953,0.8529742895056591 L 3.4711779206048456,0.7073645169758076 L 3.4354105035983133,0.5645729841183065 L 3.38581929876693,0.42597485145236536 L 3.3228818965225324,0.29290489476100356 L 3.247204418453818,0.16664465047059673 L 3.1595156800441053,0.04841007375453177 L 3.0606601717798214,-0.060660171779821415 L 2.951589926245468,-0.15951568004410532 L 2.8333553495294037,-0.2472044184538178 L 2.707095105238997,-0.3228818965225324 L 2.574025148547635,-0.38581929876693 L 2.4354270158816935,-0.43541050359831335 L 2.2926354830241924,-0.47117792060484565 L 2.1470257104943413,-0.4927770900082953 L 2.0,-0.5 L 1.8529742895056591,-0.4927770900082953 L 1.7073645169758076,-0.47117792060484565 L 1.5645729841183067,-0.43541050359831335 L 1.5000000000000002,-0.4123059204384313 L 1.5740251485476349,-0.38581929876693 z\" /><path fill-rule=\"evenodd\" fill=\"#66cc99\" stroke=\"#555555\" stroke-width=\"0.0864\" opacity=\"0.6\" d=\"M 1.4354270158816935,-0.43541050359831335 L 1.2926354830241924,-0.47117792060484565 L 1.147025710494341,-0.4927770900082953 L 1.0,-0.5 L 0.852974289505659,-0.4927770900082953 L 0.7073645169758077,-0.47117792060484565 L 0.5645729841183067,-0.43541050359831335 L 0.42597485145236536,-0.38581929876693 L 0.29290489476100345,-0.32288189652253263 L 0.16664465047059707,-0.24720441845381802 L 0.04841007375453188,-0.15951568004410577 L -0.06066017177982119,-0.060660171779821415 L -0.15951568004410555,0.04841007375453177 L -0.24720441845381802,0.16664465047059673 L -0.3228818965225324,0.29290489476100334 L -0.38581929876693,0.42597485145236513 L -0.43541050359831335,0.5645729841183065 L -0.47117792060484565,0.7073645169758072 L -0.4927770900082953,0.8529742895056588 L -0.5,0.9999999999999998 L -0.4927770900082953,1.1470257104943409 L -0.47117792060484565,1.2926354830241924 L -0.43541050359831335,1.435427015881693 L -0.3858192987669302,1.5740251485476344 L -0.32288189652253263,1.7070951052389964 L -0.24720441845381824,1.8333553495294028 L -0.15951568004410577,1.951589926245468 L -0.060660171779821415,2.060660171779821 L 0.0484100737545311,2.159515680044105 L 0.16664465047059673,2.247204418453818 L 0.29290489476100323,2.3228818965225324 L 0.42597485145236447,2.38581929876693 L 0.5645729841183064,2.4354105035983133 L 0.7073645169758069,2.4711779206048456 L 0.8529742895056593,2.4927770900082953 L 0.9999999999999998,2.5 L 1.1470257104943402,2.4927770900082953 L 1.2926354830241924,2.4711779206048456 L 1.435427015881693,2.4354105035983133 L 1.4999999999999998,2.412305920438431 L 1.4259748514523645,2.38581929876693 L 1.2929048947610031,2.3228818965225324 L 1.1666446504705967,2.247204418453818 L 1.048410073754531,2.159515680044105 L 0.9393398282201786,2.060660171779821 L 0.8404843199558942,1.951589926245468 L 0.7527955815461818,1.8333553495294028 L 0.6771181034774674,1.7070951052389964 L 0.6141807012330698,1.5740251485476344 L 0.5645894964016867,1.435427015881693 L 0.5288220793951544,1.2926354830241924 L 0.5072229099917047,1.1470257104943409 L 0.5,0.9999999999999998 L 0.5072229099917047,0.8529742895056588 L 0.5288220793951544,0.7073645169758072 L 0.5645894964016867,0.5645729841183065 L 0.61418070123307,0.42597485145236513 L 0.6771181034774676,0.29290489476100334 L 0.752795581546182,0.16664465047059673 L 0.8404843199558945,0.04841007375453177 L 0.9393398282201788,-0.060660171779821415 L 1.0484100737545319,-0.15951568004410577 L 1.1666446504705972,-0.24720441845381802 L 1.2929048947610036,-0.32288189652253263 L 1.4259748514523654,-0.38581929876693 L 1.5000000000000002,-0.4123059204384313 L 1.4354270158816935,-0.43541050359831335 z\" /></g></g></svg>"
      ],
      "text/plain": [
       "<shapely.geometry.multipolygon.MultiPolygon at 0x2a1b77f5850>"
      ]
     },
     "execution_count": 206,
     "metadata": {},
     "output_type": "execute_result"
    }
   ],
   "source": [
    "a ^ b"
   ]
  },
  {
   "cell_type": "code",
   "execution_count": 207,
   "metadata": {},
   "outputs": [
    {
     "data": {
      "image/svg+xml": [
       "<svg xmlns=\"http://www.w3.org/2000/svg\" xmlns:xlink=\"http://www.w3.org/1999/xlink\" width=\"100.0\" height=\"100.0\" viewBox=\"-0.66 -0.66 4.32 3.3200000000000003\" preserveAspectRatio=\"xMinYMin meet\"><g transform=\"matrix(1,0,0,-1,0,2.0)\"><path fill-rule=\"evenodd\" fill=\"#66cc99\" stroke=\"#555555\" stroke-width=\"0.0864\" opacity=\"0.6\" d=\"M 1.4354270158816935,-0.43541050359831335 L 1.2926354830241924,-0.47117792060484565 L 1.147025710494341,-0.4927770900082953 L 1.0,-0.5 L 0.852974289505659,-0.4927770900082953 L 0.7073645169758077,-0.47117792060484565 L 0.5645729841183067,-0.43541050359831335 L 0.42597485145236536,-0.38581929876693 L 0.29290489476100345,-0.32288189652253263 L 0.16664465047059707,-0.24720441845381802 L 0.04841007375453188,-0.15951568004410577 L -0.06066017177982119,-0.060660171779821415 L -0.15951568004410555,0.04841007375453177 L -0.24720441845381802,0.16664465047059673 L -0.3228818965225324,0.29290489476100334 L -0.38581929876693,0.42597485145236513 L -0.43541050359831335,0.5645729841183065 L -0.47117792060484565,0.7073645169758072 L -0.4927770900082953,0.8529742895056588 L -0.5,0.9999999999999998 L -0.4927770900082953,1.1470257104943409 L -0.47117792060484565,1.2926354830241924 L -0.43541050359831335,1.435427015881693 L -0.3858192987669302,1.5740251485476344 L -0.32288189652253263,1.7070951052389964 L -0.24720441845381824,1.8333553495294028 L -0.15951568004410577,1.951589926245468 L -0.060660171779821415,2.060660171779821 L 0.0484100737545311,2.159515680044105 L 0.16664465047059673,2.247204418453818 L 0.29290489476100323,2.3228818965225324 L 0.42597485145236447,2.38581929876693 L 0.5645729841183064,2.4354105035983133 L 0.7073645169758069,2.4711779206048456 L 0.8529742895056593,2.4927770900082953 L 0.9999999999999998,2.5 L 1.1470257104943402,2.4927770900082953 L 1.2926354830241924,2.4711779206048456 L 1.435427015881693,2.4354105035983133 L 1.4999999999999998,2.412305920438431 L 1.5645729841183065,2.4354105035983133 L 1.707364516975807,2.4711779206048456 L 1.8529742895056593,2.4927770900082953 L 1.9999999999999998,2.5 L 2.14702571049434,2.4927770900082953 L 2.2926354830241924,2.4711779206048456 L 2.435427015881693,2.4354105035983133 L 2.574025148547635,2.38581929876693 L 2.7070951052389964,2.3228818965225324 L 2.833355349529403,2.2472044184538182 L 2.951589926245468,2.1595156800441053 L 3.060660171779821,2.0606601717798214 L 3.159515680044105,1.951589926245469 L 3.247204418453818,1.8333553495294033 L 3.3228818965225324,1.7070951052389969 L 3.38581929876693,1.5740251485476355 L 3.4354105035983133,1.4354270158816937 L 3.4711779206048456,1.292635483024193 L 3.4927770900082953,1.1470257104943409 L 3.5,1.0 L 3.4927770900082953,0.8529742895056591 L 3.4711779206048456,0.7073645169758076 L 3.4354105035983133,0.5645729841183065 L 3.38581929876693,0.42597485145236536 L 3.3228818965225324,0.29290489476100356 L 3.247204418453818,0.16664465047059673 L 3.1595156800441053,0.04841007375453177 L 3.0606601717798214,-0.060660171779821415 L 2.951589926245468,-0.15951568004410532 L 2.8333553495294037,-0.2472044184538178 L 2.707095105238997,-0.3228818965225324 L 2.574025148547635,-0.38581929876693 L 2.4354270158816935,-0.43541050359831335 L 2.2926354830241924,-0.47117792060484565 L 2.1470257104943413,-0.4927770900082953 L 2.0,-0.5 L 1.8529742895056591,-0.4927770900082953 L 1.7073645169758076,-0.47117792060484565 L 1.5645729841183067,-0.43541050359831335 L 1.5000000000000002,-0.4123059204384313 L 1.4354270158816935,-0.43541050359831335 z\" /></g></svg>"
      ],
      "text/plain": [
       "<shapely.geometry.polygon.Polygon at 0x2a1b77f5640>"
      ]
     },
     "execution_count": 207,
     "metadata": {},
     "output_type": "execute_result"
    }
   ],
   "source": [
    "a | b"
   ]
  },
  {
   "cell_type": "code",
   "execution_count": 208,
   "metadata": {},
   "outputs": [
    {
     "data": {
      "image/svg+xml": [
       "<svg xmlns=\"http://www.w3.org/2000/svg\" xmlns:xlink=\"http://www.w3.org/1999/xlink\" width=\"100.0\" height=\"100.0\" viewBox=\"0.38701552636492553 -0.5252903940735058 2.2259689472701494 3.0505807881470117\" preserveAspectRatio=\"xMinYMin meet\"><g transform=\"matrix(1,0,0,-1,0,2.0)\"><path fill-rule=\"evenodd\" fill=\"#66cc99\" stroke=\"#555555\" stroke-width=\"0.06101161576294024\" opacity=\"0.6\" d=\"M 2.4927770900082953,0.8529742895056591 L 2.4711779206048456,0.7073645169758076 L 2.4354105035983133,0.5645729841183065 L 2.38581929876693,0.42597485145236536 L 2.3228818965225324,0.29290489476100356 L 2.247204418453818,0.16664465047059673 L 2.1595156800441053,0.04841007375453177 L 2.0606601717798214,-0.060660171779821415 L 1.9515899262454681,-0.15951568004410532 L 1.8333553495294035,-0.2472044184538178 L 1.7070951052389967,-0.3228818965225324 L 1.5740251485476349,-0.38581929876693 L 1.5000000000000002,-0.4123059204384313 L 1.4259748514523654,-0.38581929876693 L 1.2929048947610036,-0.32288189652253263 L 1.1666446504705972,-0.24720441845381802 L 1.0484100737545319,-0.15951568004410577 L 0.9393398282201788,-0.060660171779821415 L 0.8404843199558945,0.04841007375453177 L 0.752795581546182,0.16664465047059673 L 0.6771181034774676,0.29290489476100334 L 0.61418070123307,0.42597485145236513 L 0.5645894964016867,0.5645729841183065 L 0.5288220793951544,0.7073645169758072 L 0.5072229099917047,0.8529742895056588 L 0.5,0.9999999999999998 L 0.5072229099917047,1.1470257104943409 L 0.5288220793951544,1.2926354830241924 L 0.5645894964016867,1.435427015881693 L 0.6141807012330698,1.5740251485476344 L 0.6771181034774674,1.7070951052389964 L 0.7527955815461818,1.8333553495294028 L 0.8404843199558942,1.951589926245468 L 0.9393398282201786,2.060660171779821 L 1.048410073754531,2.159515680044105 L 1.1666446504705967,2.247204418453818 L 1.2929048947610031,2.3228818965225324 L 1.4259748514523645,2.38581929876693 L 1.4999999999999998,2.412305920438431 L 1.5740251485476349,2.38581929876693 L 1.7070951052389964,2.3228818965225324 L 1.8333553495294028,2.2472044184538182 L 1.9515899262454683,2.1595156800441053 L 2.060660171779821,2.0606601717798214 L 2.159515680044105,1.951589926245469 L 2.247204418453818,1.8333553495294033 L 2.3228818965225324,1.7070951052389969 L 2.38581929876693,1.5740251485476355 L 2.4354105035983133,1.4354270158816937 L 2.4711779206048456,1.292635483024193 L 2.4927770900082953,1.1470257104943409 L 2.5,1.0 L 2.4927770900082953,0.8529742895056591 z\" /></g></svg>"
      ],
      "text/plain": [
       "<shapely.geometry.polygon.Polygon at 0x2a1b7c2ea60>"
      ]
     },
     "execution_count": 208,
     "metadata": {},
     "output_type": "execute_result"
    }
   ],
   "source": [
    "a & b"
   ]
  },
  {
   "cell_type": "markdown",
   "metadata": {},
   "source": [
    "\n",
    "## Constructive Methods\n",
    "\n",
    "\n",
    "object.buffer(distance, resolution=16, cap_style=1, join_style=1, mitre_limit=5.0, single_sided=False)"
   ]
  },
  {
   "cell_type": "code",
   "execution_count": 209,
   "metadata": {},
   "outputs": [
    {
     "data": {
      "image/svg+xml": [
       "<svg xmlns=\"http://www.w3.org/2000/svg\" xmlns:xlink=\"http://www.w3.org/1999/xlink\" width=\"100.0\" height=\"100.0\" viewBox=\"-0.6599986858544988 -0.6599986858544988 4.319964518071469 3.3199973717089977\" preserveAspectRatio=\"xMinYMin meet\"><g transform=\"matrix(1,0,0,-1,0,2.0)\"><path fill-rule=\"evenodd\" fill=\"#66cc99\" stroke=\"#555555\" stroke-width=\"0.08639929036142938\" opacity=\"0.6\" d=\"M 0.29289321881345254,1.0 L -0.35355339059327373,1.6464466094067263 L -0.38650522668136855,1.6828033579181774 L -0.41573480615127273,1.722214883490199 L -0.4409606321741775,1.7643016315870013 L -0.4619397662556434,1.8086582838174552 L -0.47847016786610447,1.854857661372769 L -0.4903926402016152,1.9024548389919358 L -0.49759236333609846,1.9509914298352198 L -0.5,2.0 L -0.4975923633360984,2.0490085701647804 L -0.4903926402016152,2.0975451610080644 L -0.4784701678661044,2.145142338627231 L -0.46193976625564337,2.191341716182545 L -0.44096063217417747,2.235698368412999 L -0.4157348061512727,2.277785116509801 L -0.3865052266813685,2.317196642081823 L -0.35355339059327373,2.353553390593274 L -0.3171966420818227,2.3865052266813684 L -0.277785116509801,2.4157348061512725 L -0.23569836841299885,2.4409606321741775 L -0.19134171618254486,2.4619397662556435 L -0.14514233862723108,2.4784701678661043 L -0.09754516100806421,2.490392640201615 L -0.04900857016478032,2.4975923633360986 L 0.0,2.5 L 2.0,2.5 L 2.0490085701647804,2.4975923633360986 L 2.097545161008064,2.490392640201615 L 2.145142338627231,2.4784701678661043 L 2.191341716182545,2.4619397662556435 L 2.235698368412999,2.4409606321741775 L 2.277785116509801,2.4157348061512725 L 2.317196642081823,2.3865052266813684 L 2.353553390593274,2.353553390593274 L 3.353553390593274,1.3535533905932737 L 3.3869593598581984,1.3166424700164734 L 3.416529207756272,1.2765925145153654 L 3.441969793619239,1.2338005592982344 L 3.4630289122153934,1.1886908223858001 L 3.4794977939859795,1.1417104991261375 L 3.491213174682082,1.093325328923881 L 3.49805891388465,1.0440149781329329 L 3.4999671463624717,0.9942682848843708 L 3.496918954854096,0.9445784129899474 L 3.488944557604095,0.8954379629629573 L 3.476123008794514,0.8473340886233631 L 3.4585814148412894,0.8007436676987123 L 3.436493674324875,0.75612857429709 L 3.4100787540467756,0.7139311001184431 L 3.3795985183023,0.6745695697960951 L 3.3453551328890367,0.6384341938357614 L 3.3076880695864137,0.6058832002639494 L 3.266970740802428,0.5772392833346471 L 3.223606797749979,0.5527864045000421 L 1.223606797749979,-0.4472135954999579 L 1.1786954721534513,-0.4669774386754194 L 1.1320632114752043,-0.48224403384060177 L 1.0841591098773562,-0.4928663553384945 L 1.0354445100453398,-0.4987421044063212 L 0.9863885602056465,-0.49981469436854764 L 0.9374636959719429,-0.4960737955975002 L 0.8891410905318508,-0.4875554349933274 L 0.8418861169915811,-0.47434164902525694 L 0.796153866578523,-0.4565596936755515 L 0.7523847658639455,-0.4343808188948344 L 0.7110003352143544,-0.4080186193714503 L 0.6723991293199356,-0.3777269774978532 L 0.6369528988950185,-0.343797618344382 L 0.6050030105154757,-0.30655730018735905 L 0.5768571590719873,-0.2663646676482649 L 0.5527864045000421,-0.22360679774997905 L 0.5330225613245806,-0.17869547215345133 L 0.5318852523876161,-0.17522152879893144 L 0.35355339059327373,-0.35355339059327373 L 0.31719664208182274,-0.38650522668136844 L 0.27778511650980114,-0.4157348061512726 L 0.2356983684129989,-0.44096063217417747 L 0.19134171618254492,-0.46193976625564337 L 0.14514233862723117,-0.47847016786610447 L 0.09754516100806417,-0.4903926402016152 L 0.049008570164780385,-0.4975923633360984 L 3.061616997868383e-17,-0.5 L -0.04900857016478032,-0.49759236333609846 L -0.0975451610080641,-0.4903926402016152 L -0.14514233862723108,-0.47847016786610447 L -0.19134171618254486,-0.46193976625564337 L -0.23569836841299885,-0.4409606321741775 L -0.277785116509801,-0.4157348061512727 L -0.3171966420818227,-0.38650522668136855 L -0.35355339059327373,-0.3535533905932738 L -0.3865052266813685,-0.31719664208182274 L -0.4157348061512727,-0.2777851165098011 L -0.44096063217417747,-0.2356983684129989 L -0.46193976625564337,-0.19134171618254495 L -0.4784701678661044,-0.1451423386272312 L -0.4903926402016152,-0.0975451610080643 L -0.4975923633360984,-0.04900857016478041 L -0.5,-6.123233995736766e-17 L -0.49759236333609846,0.049008570164780295 L -0.4903926402016152,0.09754516100806418 L -0.47847016786610447,0.14514233862723105 L -0.4619397662556434,0.19134171618254484 L -0.4409606321741775,0.23569836841299882 L -0.41573480615127273,0.277785116509801 L -0.38650522668136855,0.31719664208182263 L -0.35355339059327373,0.35355339059327373 L 0.29289321881345254,1.0 z M 1.4503736709046264,0.7842038298272606 L 2.1559174829590035,1.136975735854449 L 1.7928932188134525,1.5 L 1.2071067811865475,1.5 L 1.3535533905932737,1.3535533905932737 L 1.3865052266813684,1.3171966420818229 L 1.4157348061512727,1.277785116509801 L 1.4409606321741775,1.2356983684129987 L 1.4619397662556435,1.1913417161825448 L 1.4784701678661043,1.1451423386272312 L 1.4903926402016152,1.0975451610080642 L 1.4975923633360986,1.0490085701647802 L 1.5,1.0 L 1.4975923633360986,0.9509914298352197 L 1.4903926402016152,0.9024548389919359 L 1.4784701678661045,0.8548576613727689 L 1.4619397662556435,0.8086582838174551 L 1.4503736709046264,0.7842038298272606 z\" /></g></svg>"
      ],
      "text/plain": [
       "<shapely.geometry.polygon.Polygon at 0x2a1b77cb9a0>"
      ]
     },
     "execution_count": 209,
     "metadata": {},
     "output_type": "execute_result"
    }
   ],
   "source": [
    "line = LineString([(0, 0), (1, 1), (0, 2), (2, 2), (3, 1), (1, 0)])\n",
    "dilated = line.buffer(0.5)\n",
    "dilated"
   ]
  },
  {
   "cell_type": "code",
   "execution_count": 210,
   "metadata": {},
   "outputs": [
    {
     "data": {
      "image/svg+xml": [
       "<svg xmlns=\"http://www.w3.org/2000/svg\" xmlns:xlink=\"http://www.w3.org/1999/xlink\" width=\"100.0\" height=\"100.0\" viewBox=\"-0.3356083064751497 -0.33560830647514966 3.6711928462392214 2.6715784118914176\" preserveAspectRatio=\"xMinYMin meet\"><g transform=\"matrix(1,0,0,-1,0,2.000361798941118)\"><path fill-rule=\"evenodd\" fill=\"#66cc99\" stroke=\"#555555\" stroke-width=\"0.07342385692478443\" opacity=\"0.6\" d=\"M 0.5050252531694168,0.7878679656440357 L 0.5247963548222736,0.8096820147509064 L 0.5423341025042161,0.8333289300941193 L 0.557469598117959,0.8585809789522008 L 0.5700570785668386,0.8851949702904731 L 0.5799753195331152,0.9129145968236613 L 0.5871288029344217,0.9414729033951615 L 0.5914486368151116,0.9705948579011319 L 0.5928932188134526,1.0 L 0.5914486368151116,1.0294051420988681 L 0.5871288029344217,1.0585270966048386 L 0.5799753195331152,1.0870854031763386 L 0.5700570785668386,1.1148050297095269 L 0.5574695981179589,1.1414190210477992 L 0.5423341025042161,1.1666710699058807 L 0.5247963548222736,1.1903179852490937 L 0.5050252531694168,1.2121320343559643 L -0.1362138070887073,1.8533710946140884 L -0.1543224163090482,1.873350865985734 L -0.16599309763520642,1.8890869581181025 L -0.1760651746900803,1.9058912034750302 L -0.18444164786567438,1.9236017679875952 L -0.19104184714626102,1.942048089237961 L -0.19580220900473236,1.9610525190687023 L -0.19867688855411278,1.9804320344316702 L -0.1996382010588822,1.9999999999999998 L -0.19867688855411272,2.01956796556833 L -0.1958022090047323,2.0389474809312977 L -0.19104184714626107,2.0579519107620388 L -0.18444164786567427,2.076398232012405 L -0.1760651746900797,2.094108796524971 L -0.16599309763520645,2.1109130418818975 L -0.15432241630904925,2.1266491340142646 L -0.14116552575261773,2.1411655257526205 L -0.1266491340142667,2.1543224163090477 L -0.11091304188189714,2.1659930976352064 L -0.09410879652497062,2.17606517469008 L -0.07639823201240398,2.184441647865675 L -0.05795191076204046,2.1910418471462605 L -0.03894748093129697,2.1958022090047327 L -0.019567965568329952,2.198676888554113 L 0.007364586632681461,2.2 L 1.9926354133673185,2.2 L 2.0195679655683296,2.198676888554113 L 2.0389474809312977,2.195802209004732 L 2.0579519107620405,2.1910418471462605 L 2.076398232012405,2.1844416478656745 L 2.094108796524969,2.176065174690081 L 2.1109130418818958,2.1659930976352073 L 2.1266491340142686,2.1543224163090464 L 2.146628905385912,2.1362138070887076 L 3.1361377664312835,1.1467049460433356 L 3.1544954989456087,1.1264211218730886 L 3.1663014116038086,1.1104309727779462 L 3.1764586953242713,1.0933460663046861 L 3.1848666558813163,1.0753357736627291 L 3.191441940963334,1.0565786398766723 L 3.196119366485863,1.0372606137803255 L 3.198852562793971,1.0175732046130626 L 3.199614434347804,0.9977115834930848 L 3.198397428334199,0.9778726485886986 L 3.1952136095414945,0.9582530731683895 L 3.190094540755259,0.9390473558805693 L 3.1830909698606353,0.9204458925913018 L 3.1742723267532176,0.9026330888950328 L 3.163726035045817,0.8857855320098248 L 3.151556645394541,0.8700702401801024 L 3.1378847990359295,0.855643006941388 L 3.1228460318101208,0.8426468566611723 L 3.106589430526412,0.8312106266669667 L 3.082759447896349,0.8177729261981954 L 1.096029805634733,-0.17559189493261246 L 1.0713488851961657,-0.18645307158449023 L 1.0527297239299365,-0.1925486627746331 L 1.0336027465972646,-0.1967899050844497 L 1.0141521564457305,-0.19913595303199835 L 0.9945652732912678,-0.19956421289306378 L 0.975030729525935,-0.1980705602910732 L 0.9557366534848583,-0.19466937991709732 L 0.9368688576675296,-0.18939342699741205 L 0.9186090492618548,-0.18229351184276282 L 0.9011330802046081,-0.17343801051729762 L 0.8846092536311467,-0.16291220633968984 L 0.8691967030242175,-0.15081746855816117 L 0.855043859671519,-0.13727027610920142 L 0.8422870231912706,-0.12240109586174412 L 0.8310490488923733,-0.106353126149893 L 0.8214381646106278,-0.08928091769468678 L 0.8091765639247368,-0.06141767592284468 L 0.8065989585174798,-0.0546712087479464 L 0.7936129177762219,-0.028597420378010496 L 0.7781594258186884,-0.0039059384376275152 L 0.7603841712463104,0.019170456839385924 L 0.740454731198666,0.04041421153296951 L 0.7185589915112558,0.059625049037747485 L 0.6949033754119904,0.07662185818117162 L 0.669710897455442,0.09124440065854661 L 0.6432190610415,0.1033548216880048 L 0.6156776193396807,0.11283894964365282 L 0.5873462207280961,0.11960737241452879 L 0.5584919609448262,0.12359628034194237 L 0.5293868650289177,0.12476806778836003 L 0.5003053227901408,0.12311168766651431 L 0.4715215019847458,0.11864275558639492 L 0.4433067635846417,0.11140340263827159 L 0.4159271035076803,0.1014618781996427 L 0.38964064492726697,0.0889119065106696 L 0.36469520480268086,0.07387180308401378 L 0.34132595757176587,0.05648335927917075 L 0.3197532180316519,0.03691050555703282 L 0.14662890538591175,-0.13621380708870726 L 0.1266491340142666,-0.15432241630904764 L 0.11091304188189757,-0.16599309763520625 L 0.0941087965249686,-0.17606517469008104 L 0.07639823201240549,-0.1844416478656742 L 0.05795191076203918,-0.19104184714626096 L 0.0389474809312978,-0.19580220900473233 L 0.01956796556833014,-0.19867688855411272 L -8.728155770128838e-16,-0.19963820105888222 L -0.01956796556832885,-0.1986768885541129 L -0.038947480931298545,-0.1958022090047322 L -0.057951910762038296,-0.19104184714626124 L -0.0763982320124055,-0.18444164786567416 L -0.09410879652496934,-0.17606517469008065 L -0.11091304188189748,-0.16599309763520634 L -0.12664913401426636,-0.15432241630904792 L -0.14116552575261898,-0.14116552575261904 L -0.15432241630904794,-0.1266491340142663 L -0.16599309763520642,-0.1109130418818974 L -0.17606517469008032,-0.0941087965249699 L -0.18444164786567444,-0.07639823201240484 L -0.19104184714626113,-0.057951910762038664 L -0.19580220900473233,-0.038947480931298066 L -0.19867688855411286,-0.01956796556832925 L -0.19963820105888225,-8.490801140485446e-16 L -0.19867688855411278,0.01956796556832957 L -0.19580220900473227,0.038947480931298045 L -0.19104184714626107,0.05795191076203877 L -0.18444164786567405,0.07639823201240586 L -0.17606517469008082,0.09410879652496909 L -0.16599309763520653,0.11091304188189723 L -0.154322416309048,0.1266491340142662 L -0.13621380708870703,0.14662890538591197 L 0.5050252531694168,0.7878679656440357 z M 1.179176882967594,0.9124703578563461 L 1.167822181791026,0.885023748492606 L 1.1592372562731252,0.8565888287946889 L 1.1535062621116925,0.8274443385727529 L 1.1506853786890345,0.7978759733644654 L 1.1508022583607078,0.7681735838390878 L 1.153855755386973,0.738628334469934 L 1.1598159371641699,0.7095298493279603 L 1.1686243776459182,0.6811633729755052 L 1.1801947300778137,0.653806974291164 L 1.194413573431255,0.6277288206359453 L 1.2111415242390435,0.6031845490813217 L 1.2302146029337309,0.5804147604683115 L 1.251445841294869,0.5596426608626524 L 1.2746271152477968,0.5410718735262411 L 1.2995311850475273,0.5248844428534924 L 1.3259139228483736,0.5112390498394861 L 1.3535167058230448,0.500269456573184 L 1.3820689513721196,0.4920831950039301 L 1.4112907695719235,0.4867605128348995 L 1.4408957068595827,0.4843535868766155 L 1.4705935540596546,0.48488601157181993 L 1.5000931912260103,0.4883525677055459 L 1.5291054414117529,0.49471927356766804 L 1.5573459053924446,0.5039237180663951 L 1.5845377495546138,0.5158756725272857 L 2.2900815616089907,0.8686475785544743 L 2.3160999274404603,0.8833193058552373 L 2.3405303247108518,0.9005056560128185 L 2.3631305626924255,0.9200362521559057 L 2.383676593940383,0.9417174777321059 L 2.4019647353870686,0.9653343959255147 L 2.4178136875539287,0.9906528804327029 L 2.4310663318637773,1.0174219364736763 L 2.441591288235712,1.0453761890284667 L 2.4492842175214604,1.0742385136322232 L 2.454068855871461,1.1037227836484174 L 2.4558977707764864,1.1335367067850715 L 2.4547528312897935,1.1633847227342087 L 2.450645387768253,1.1929709332087775 L 2.4436161593505914,1.2220020353301315 L 2.4337348302882393,1.250190229285929 L 2.421099359130547,1.2772560714333896 L 2.4058350076127666,1.3029312445636683 L 2.3880930988739224,1.326961217864333 L 2.368049517314968,1.3491077702104133 L 2.005025253169417,1.7121320343559643 L 1.9832112040625463,1.731903136008821 L 1.9595642887193332,1.7494408836907636 L 1.9343122398612518,1.7645763793045064 L 1.9076982485229794,1.777163859753386 L 1.8799786219897912,1.7870821007196627 L 1.851420315418291,1.7942355841209692 L 1.8222983609123207,1.798555418001659 L 1.7928932188134525,1.8 L 1.2071067811865475,1.8 L 1.1777016390876793,1.798555418001659 L 1.148579684581709,1.794235584120969 L 1.1200213780102088,1.7870821007196627 L 1.0923017514770204,1.7771638597533859 L 1.065687760138748,1.7645763793045064 L 1.0404357112806668,1.7494408836907636 L 1.0167887959374537,1.731903136008821 L 0.9949747468305832,1.7121320343559643 L 0.9752036451777264,1.6903179852490935 L 0.9576658974957839,1.6666710699058807 L 0.942530401882041,1.6414190210477992 L 0.9299429214331614,1.6148050297095269 L 0.9200246804668848,1.5870854031763386 L 0.9128711970655783,1.5585270966048386 L 0.9085513631848884,1.5294051420988681 L 0.9071067811865474,1.5 L 0.9085513631848885,1.4705948579011316 L 0.9128711970655783,1.4414729033951614 L 0.9200246804668848,1.4129145968236614 L 0.9299429214331614,1.3851949702904731 L 0.9425304018820411,1.3585809789522008 L 0.9576658974957839,1.3333289300941193 L 0.9752036451777264,1.3096820147509063 L 0.9949747468305832,1.2878679656440357 L 1.1362138070887098,1.1466289053859091 L 1.1543224163090473,1.126649134014267 L 1.1659930976352069,1.1109130418818967 L 1.1760651746900799,1.0941087965249705 L 1.1844416478656743,1.076398232012405 L 1.1910418471462612,1.0579519107620383 L 1.1958022090047324,1.0389474809312975 L 1.1986768885541128,1.01956796556833 L 1.1996382010588822,1.0 L 1.1986768885541128,0.9804320344316703 L 1.1958022090047324,0.9610525190687029 L 1.191041847146261,0.9420480892379607 L 1.184441647865674,0.9236017679875942 L 1.179176882967594,0.9124703578563461 z\" /></g></svg>"
      ],
      "text/plain": [
       "<shapely.geometry.polygon.Polygon at 0x2a1b77cb640>"
      ]
     },
     "execution_count": 210,
     "metadata": {},
     "output_type": "execute_result"
    }
   ],
   "source": [
    "eroded = dilated.buffer(-0.3)\n",
    "eroded"
   ]
  },
  {
   "cell_type": "code",
   "execution_count": 219,
   "metadata": {},
   "outputs": [
    {
     "data": {
      "image/svg+xml": [
       "<svg xmlns=\"http://www.w3.org/2000/svg\" xmlns:xlink=\"http://www.w3.org/1999/xlink\" width=\"100.0\" height=\"100.0\" viewBox=\"-0.6541421356237309 -0.6541421356237309 4.161837661840736 3.3082842712474623\" preserveAspectRatio=\"xMinYMin meet\"><g transform=\"matrix(1,0,0,-1,0,2.0)\"><path fill-rule=\"evenodd\" fill=\"#66cc99\" stroke=\"#555555\" stroke-width=\"0.08323675323681473\" opacity=\"0.6\" d=\"M 0.29289321881345254,1.0 L -0.35355339059327373,1.6464466094067263 L 0.0,2.5 L 2.0,2.5 L 2.353553390593274,2.353553390593274 L 3.353553390593274,1.3535533905932737 L 3.223606797749979,0.5527864045000421 L 1.223606797749979,-0.4472135954999579 L 1.1320632114752043,-0.48224403384060177 L 1.0354445100453398,-0.4987421044063212 L 0.9374636959719429,-0.4960737955975002 L 0.8418861169915811,-0.47434164902525694 L 0.7523847658639455,-0.4343808188948344 L 0.6723991293199356,-0.3777269774978532 L 0.6050030105154757,-0.30655730018735905 L 0.5527864045000421,-0.22360679774997905 L 0.5336107979071216,-0.17349598327942584 L 0.35355339059327373,-0.35355339059327373 L 0.27778511650980114,-0.4157348061512726 L 0.19134171618254492,-0.46193976625564337 L 0.09754516100806417,-0.4903926402016152 L 3.061616997868383e-17,-0.5 L -0.0975451610080641,-0.4903926402016152 L -0.19134171618254486,-0.46193976625564337 L -0.277785116509801,-0.4157348061512727 L -0.35355339059327373,-0.3535533905932738 L -0.4157348061512727,-0.2777851165098011 L -0.46193976625564337,-0.19134171618254495 L -0.4903926402016152,-0.0975451610080643 L -0.5,-6.123233995736766e-17 L -0.4903926402016152,0.09754516100806418 L -0.4619397662556434,0.19134171618254484 L -0.41573480615127273,0.277785116509801 L -0.35355339059327373,0.35355339059327373 L 0.29289321881345254,1.0 z M 1.3535533905932737,0.7357936896715842 L 2.1559174829590035,1.136975735854449 L 1.7928932188134525,1.5 L 1.2071067811865475,1.5 L 1.3535533905932737,1.3535533905932737 L 1.3535533905932737,0.7357936896715842 z\" /></g></svg>"
      ],
      "text/plain": [
       "<shapely.geometry.polygon.Polygon at 0x2a1b8249310>"
      ]
     },
     "execution_count": 219,
     "metadata": {},
     "output_type": "execute_result"
    }
   ],
   "source": [
    "line = LineString([(0, 0), (1, 1), (0, 2), (2, 2), (3, 1), (1, 0)])\n",
    "line.buffer(distance = 0.5, cap_style=1, join_style=3)"
   ]
  },
  {
   "cell_type": "code",
   "execution_count": 220,
   "metadata": {},
   "outputs": [
    {
     "data": {
      "image/svg+xml": [
       "<svg xmlns=\"http://www.w3.org/2000/svg\" xmlns:xlink=\"http://www.w3.org/1999/xlink\" width=\"100.0\" height=\"100.0\" viewBox=\"-0.5018376618407356 -0.5954978667474198 4.003675323681472 3.2437821379948817\" preserveAspectRatio=\"xMinYMin meet\"><g transform=\"matrix(1,0,0,-1,0,2.0527864045000426)\"><path fill-rule=\"evenodd\" fill=\"#66cc99\" stroke=\"#555555\" stroke-width=\"0.08007350647362944\" opacity=\"0.6\" d=\"M 0.29289321881345254,1.0 L -0.35355339059327373,1.6464466094067263 L 0.0,2.5 L 2.0,2.5 L 2.353553390593274,2.353553390593274 L 3.353553390593274,1.3535533905932737 L 3.223606797749979,0.5527864045000421 L 1.223606797749979,-0.4472135954999579 L 0.9023689270621824,0.19526214587563506 L 0.35355339059327373,-0.35355339059327373 L -0.35355339059327373,0.35355339059327373 L 0.29289321881345254,1.0 z M 1.3535533905932737,0.7357936896715842 L 2.1559174829590035,1.136975735854449 L 1.7928932188134525,1.5 L 1.2071067811865475,1.5 L 1.3535533905932737,1.3535533905932737 L 1.3535533905932737,0.7357936896715842 z\" /></g></svg>"
      ],
      "text/plain": [
       "<shapely.geometry.polygon.Polygon at 0x2a1b8249520>"
      ]
     },
     "execution_count": 220,
     "metadata": {},
     "output_type": "execute_result"
    }
   ],
   "source": [
    "line.buffer(distance = 0.5, cap_style=2, join_style=3)"
   ]
  },
  {
   "cell_type": "code",
   "execution_count": 221,
   "metadata": {},
   "outputs": [
    {
     "data": {
      "image/svg+xml": [
       "<svg xmlns=\"http://www.w3.org/2000/svg\" xmlns:xlink=\"http://www.w3.org/1999/xlink\" width=\"100.0\" height=\"100.0\" viewBox=\"-0.8695331880577403 -0.8695331880577403 4.385512985522207 3.531959594928933\" preserveAspectRatio=\"xMinYMin meet\"><g transform=\"matrix(1,0,0,-1,0,1.7928932188134525)\"><path fill-rule=\"evenodd\" fill=\"#66cc99\" stroke=\"#555555\" stroke-width=\"0.08771025971044415\" opacity=\"0.6\" d=\"M 0.29289321881345254,1.0 L -0.35355339059327373,1.6464466094067263 L 0.0,2.5 L 2.0,2.5 L 2.353553390593274,2.353553390593274 L 3.353553390593274,1.3535533905932737 L 3.223606797749979,0.5527864045000421 L 1.223606797749979,-0.4472135954999579 L 0.7763932022500211,-0.670820393249937 L 0.5296909308122175,-0.17741585037432994 L 0.35355339059327373,-0.35355339059327373 L 0.0,-0.7071067811865475 L -0.7071067811865475,-5.551115123125783e-17 L 0.29289321881345254,1.0 z M 1.3535533905932737,0.7357936896715841 L 2.1559174829590035,1.136975735854449 L 1.7928932188134525,1.5 L 1.2071067811865475,1.5 L 1.3535533905932737,1.3535533905932737 L 1.3535533905932737,0.7357936896715841 z\" /></g></svg>"
      ],
      "text/plain": [
       "<shapely.geometry.polygon.Polygon at 0x2a1b8572220>"
      ]
     },
     "execution_count": 221,
     "metadata": {},
     "output_type": "execute_result"
    }
   ],
   "source": [
    "line.buffer(distance = 0.5, cap_style=3, join_style=3)"
   ]
  },
  {
   "cell_type": "code",
   "execution_count": 222,
   "metadata": {},
   "outputs": [
    {
     "data": {
      "image/svg+xml": [
       "<svg xmlns=\"http://www.w3.org/2000/svg\" xmlns:xlink=\"http://www.w3.org/1999/xlink\" width=\"100.0\" height=\"100.0\" viewBox=\"-0.6599986858544988 -0.6599986858544988 4.319964518071469 3.3199973717089977\" preserveAspectRatio=\"xMinYMin meet\"><g transform=\"matrix(1,0,0,-1,0,2.0)\"><path fill-rule=\"evenodd\" fill=\"#66cc99\" stroke=\"#555555\" stroke-width=\"0.08639929036142938\" opacity=\"0.6\" d=\"M 0.29289321881345254,1.0 L -0.35355339059327373,1.6464466094067263 L -0.38650522668136855,1.6828033579181774 L -0.41573480615127273,1.722214883490199 L -0.4409606321741775,1.7643016315870013 L -0.4619397662556434,1.8086582838174552 L -0.47847016786610447,1.854857661372769 L -0.4903926402016152,1.9024548389919358 L -0.49759236333609846,1.9509914298352198 L -0.5,2.0 L -0.4975923633360984,2.0490085701647804 L -0.4903926402016152,2.0975451610080644 L -0.4784701678661044,2.145142338627231 L -0.46193976625564337,2.191341716182545 L -0.44096063217417747,2.235698368412999 L -0.4157348061512727,2.277785116509801 L -0.3865052266813685,2.317196642081823 L -0.35355339059327373,2.353553390593274 L -0.3171966420818227,2.3865052266813684 L -0.277785116509801,2.4157348061512725 L -0.23569836841299885,2.4409606321741775 L -0.19134171618254486,2.4619397662556435 L -0.14514233862723108,2.4784701678661043 L -0.09754516100806421,2.490392640201615 L -0.04900857016478032,2.4975923633360986 L 0.0,2.5 L 2.0,2.5 L 2.0490085701647804,2.4975923633360986 L 2.097545161008064,2.490392640201615 L 2.145142338627231,2.4784701678661043 L 2.191341716182545,2.4619397662556435 L 2.235698368412999,2.4409606321741775 L 2.277785116509801,2.4157348061512725 L 2.317196642081823,2.3865052266813684 L 2.353553390593274,2.353553390593274 L 3.353553390593274,1.3535533905932737 L 3.3869593598581984,1.3166424700164734 L 3.416529207756272,1.2765925145153654 L 3.441969793619239,1.2338005592982344 L 3.4630289122153934,1.1886908223858001 L 3.4794977939859795,1.1417104991261375 L 3.491213174682082,1.093325328923881 L 3.49805891388465,1.0440149781329329 L 3.4999671463624717,0.9942682848843708 L 3.496918954854096,0.9445784129899474 L 3.488944557604095,0.8954379629629573 L 3.476123008794514,0.8473340886233631 L 3.4585814148412894,0.8007436676987123 L 3.436493674324875,0.75612857429709 L 3.4100787540467756,0.7139311001184431 L 3.3795985183023,0.6745695697960951 L 3.3453551328890367,0.6384341938357614 L 3.3076880695864137,0.6058832002639494 L 3.266970740802428,0.5772392833346471 L 3.223606797749979,0.5527864045000421 L 1.223606797749979,-0.4472135954999579 L 1.1786954721534513,-0.4669774386754194 L 1.1320632114752043,-0.48224403384060177 L 1.0841591098773562,-0.4928663553384945 L 1.0354445100453398,-0.4987421044063212 L 0.9863885602056465,-0.49981469436854764 L 0.9374636959719429,-0.4960737955975002 L 0.8891410905318508,-0.4875554349933274 L 0.8418861169915811,-0.47434164902525694 L 0.796153866578523,-0.4565596936755515 L 0.7523847658639455,-0.4343808188948344 L 0.7110003352143544,-0.4080186193714503 L 0.6723991293199356,-0.3777269774978532 L 0.6369528988950185,-0.343797618344382 L 0.6050030105154757,-0.30655730018735905 L 0.5768571590719873,-0.2663646676482649 L 0.5527864045000421,-0.22360679774997905 L 0.5330225613245806,-0.17869547215345133 L 0.5318852523876161,-0.17522152879893144 L 0.35355339059327373,-0.35355339059327373 L 0.31719664208182274,-0.38650522668136844 L 0.27778511650980114,-0.4157348061512726 L 0.2356983684129989,-0.44096063217417747 L 0.19134171618254492,-0.46193976625564337 L 0.14514233862723117,-0.47847016786610447 L 0.09754516100806417,-0.4903926402016152 L 0.049008570164780385,-0.4975923633360984 L 3.061616997868383e-17,-0.5 L -0.04900857016478032,-0.49759236333609846 L -0.0975451610080641,-0.4903926402016152 L -0.14514233862723108,-0.47847016786610447 L -0.19134171618254486,-0.46193976625564337 L -0.23569836841299885,-0.4409606321741775 L -0.277785116509801,-0.4157348061512727 L -0.3171966420818227,-0.38650522668136855 L -0.35355339059327373,-0.3535533905932738 L -0.3865052266813685,-0.31719664208182274 L -0.4157348061512727,-0.2777851165098011 L -0.44096063217417747,-0.2356983684129989 L -0.46193976625564337,-0.19134171618254495 L -0.4784701678661044,-0.1451423386272312 L -0.4903926402016152,-0.0975451610080643 L -0.4975923633360984,-0.04900857016478041 L -0.5,-6.123233995736766e-17 L -0.49759236333609846,0.049008570164780295 L -0.4903926402016152,0.09754516100806418 L -0.47847016786610447,0.14514233862723105 L -0.4619397662556434,0.19134171618254484 L -0.4409606321741775,0.23569836841299882 L -0.41573480615127273,0.277785116509801 L -0.38650522668136855,0.31719664208182263 L -0.35355339059327373,0.35355339059327373 L 0.29289321881345254,1.0 z M 1.4503736709046264,0.7842038298272606 L 2.1559174829590035,1.136975735854449 L 1.7928932188134525,1.5 L 1.2071067811865475,1.5 L 1.3535533905932737,1.3535533905932737 L 1.3865052266813684,1.3171966420818229 L 1.4157348061512727,1.277785116509801 L 1.4409606321741775,1.2356983684129987 L 1.4619397662556435,1.1913417161825448 L 1.4784701678661043,1.1451423386272312 L 1.4903926402016152,1.0975451610080642 L 1.4975923633360986,1.0490085701647802 L 1.5,1.0 L 1.4975923633360986,0.9509914298352197 L 1.4903926402016152,0.9024548389919359 L 1.4784701678661045,0.8548576613727689 L 1.4619397662556435,0.8086582838174551 L 1.4503736709046264,0.7842038298272606 z\" /></g></svg>"
      ],
      "text/plain": [
       "<shapely.geometry.polygon.Polygon at 0x2a1b77f50d0>"
      ]
     },
     "execution_count": 222,
     "metadata": {},
     "output_type": "execute_result"
    }
   ],
   "source": [
    "line.buffer(distance = 0.5, cap_style=1, join_style=1)"
   ]
  },
  {
   "cell_type": "code",
   "execution_count": 223,
   "metadata": {},
   "outputs": [
    {
     "data": {
      "image/svg+xml": [
       "<svg xmlns=\"http://www.w3.org/2000/svg\" xmlns:xlink=\"http://www.w3.org/1999/xlink\" width=\"100.0\" height=\"100.0\" viewBox=\"-1.4091543531156492 -0.7020475719291018 5.455284442085748 3.4040951438582034\" preserveAspectRatio=\"xMinYMin meet\"><g transform=\"matrix(1,0,0,-1,0,2.0)\"><path fill-rule=\"evenodd\" fill=\"#66cc99\" stroke=\"#555555\" stroke-width=\"0.10910568884171497\" opacity=\"0.6\" d=\"M 0.29289321881345254,1.0 L -1.2071067811865475,2.5 L 2.207106781186548,2.5 L 3.844082517040997,0.8630242641455508 L 1.223606797749979,-0.4472135954999579 L 1.1320632114752043,-0.48224403384060177 L 1.0354445100453398,-0.4987421044063212 L 0.9374636959719429,-0.4960737955975002 L 0.8418861169915811,-0.47434164902525694 L 0.7523847658639455,-0.4343808188948344 L 0.6723991293199356,-0.3777269774978532 L 0.6050030105154757,-0.30655730018735905 L 0.5527864045000421,-0.22360679774997905 L 0.5336107979071216,-0.17349598327942584 L 0.35355339059327373,-0.35355339059327373 L 0.27778511650980114,-0.4157348061512726 L 0.19134171618254492,-0.46193976625564337 L 0.09754516100806417,-0.4903926402016152 L 3.061616997868383e-17,-0.5 L -0.0975451610080641,-0.4903926402016152 L -0.19134171618254486,-0.46193976625564337 L -0.277785116509801,-0.4157348061512727 L -0.35355339059327373,-0.3535533905932738 L -0.4157348061512727,-0.2777851165098011 L -0.46193976625564337,-0.19134171618254495 L -0.4903926402016152,-0.0975451610080643 L -0.5,-6.123233995736766e-17 L -0.4903926402016152,0.09754516100806418 L -0.4619397662556434,0.19134171618254484 L -0.41573480615127273,0.277785116509801 L -0.35355339059327373,0.35355339059327373 L 0.29289321881345254,1.0 z M 1.5322475511229894,0.825140769936442 L 2.1559174829590035,1.136975735854449 L 1.7928932188134525,1.5 L 1.2071067811865475,1.5 L 1.7071067811865475,1.0 L 1.5322475511229894,0.825140769936442 z\" /></g></svg>"
      ],
      "text/plain": [
       "<shapely.geometry.polygon.Polygon at 0x2a1b82497c0>"
      ]
     },
     "execution_count": 223,
     "metadata": {},
     "output_type": "execute_result"
    }
   ],
   "source": [
    "line.buffer(distance = 0.5, cap_style=1, join_style=2)"
   ]
  },
  {
   "cell_type": "code",
   "execution_count": 225,
   "metadata": {},
   "outputs": [
    {
     "data": {
      "image/svg+xml": [
       "<svg xmlns=\"http://www.w3.org/2000/svg\" xmlns:xlink=\"http://www.w3.org/1999/xlink\" width=\"100.0\" height=\"100.0\" viewBox=\"-10.8 -10.8 21.6 21.6\" preserveAspectRatio=\"xMinYMin meet\"><g transform=\"matrix(1,0,0,-1,0,0.0)\"><path fill-rule=\"evenodd\" fill=\"#66cc99\" stroke=\"#555555\" stroke-width=\"0.43200000000000005\" opacity=\"0.6\" d=\"M 10.0,0.0 L 6.123233995736766e-16,-10.0 L -10.0,-1.2246467991473533e-15 L -1.8369701987210296e-15,10.0 L 10.0,0.0 z\" /></g></svg>"
      ],
      "text/plain": [
       "<shapely.geometry.polygon.Polygon at 0x2a1b733c310>"
      ]
     },
     "execution_count": 225,
     "metadata": {},
     "output_type": "execute_result"
    }
   ],
   "source": [
    "q = Point(0, 0).buffer(10.0, resolution=1)\n",
    "q"
   ]
  },
  {
   "cell_type": "code",
   "execution_count": 229,
   "metadata": {},
   "outputs": [
    {
     "data": {
      "image/svg+xml": [
       "<svg xmlns=\"http://www.w3.org/2000/svg\" xmlns:xlink=\"http://www.w3.org/1999/xlink\" width=\"100.0\" height=\"100.0\" viewBox=\"-10.8 -10.8 21.6 21.6\" preserveAspectRatio=\"xMinYMin meet\"><g transform=\"matrix(1,0,0,-1,0,0.0)\"><path fill-rule=\"evenodd\" fill=\"#66cc99\" stroke=\"#555555\" stroke-width=\"0.43200000000000005\" opacity=\"0.6\" d=\"M 10.0,0.0 L 9.659258262890683,-2.5881904510252074 L 8.660254037844387,-4.999999999999999 L 7.0710678118654755,-7.0710678118654755 L 5.000000000000001,-8.660254037844386 L 2.5881904510252096,-9.659258262890681 L 6.123233995736766e-16,-10.0 L -2.5881904510252065,-9.659258262890683 L -4.999999999999998,-8.660254037844387 L -7.071067811865475,-7.0710678118654755 L -8.660254037844386,-5.0000000000000036 L -9.659258262890681,-2.58819045102521 L -10.0,-1.2246467991473533e-15 L -9.659258262890685,2.5881904510252034 L -8.660254037844389,4.999999999999997 L -7.071067811865479,7.071067811865471 L -5.000000000000004,8.660254037844386 L -2.5881904510252154,9.659258262890681 L -1.8369701987210296e-15,10.0 L 2.588190451025203,9.659258262890685 L 4.999999999999993,8.66025403784439 L 7.071067811865474,7.071067811865477 L 8.660254037844384,5.000000000000004 L 9.659258262890681,2.588190451025216 L 10.0,0.0 z\" /></g></svg>"
      ],
      "text/plain": [
       "<shapely.geometry.polygon.Polygon at 0x2a1b8249b50>"
      ]
     },
     "execution_count": 229,
     "metadata": {},
     "output_type": "execute_result"
    }
   ],
   "source": [
    "q = Point(0, 0).buffer(10.0, resolution=6)\n",
    "q"
   ]
  },
  {
   "cell_type": "code",
   "execution_count": 228,
   "metadata": {},
   "outputs": [
    {
     "data": {
      "image/svg+xml": [
       "<svg xmlns=\"http://www.w3.org/2000/svg\" xmlns:xlink=\"http://www.w3.org/1999/xlink\" width=\"100.0\" height=\"100.0\" viewBox=\"-10.8 -10.8 21.6 21.6\" preserveAspectRatio=\"xMinYMin meet\"><g transform=\"matrix(1,0,0,-1,0,0.0)\"><path fill-rule=\"evenodd\" fill=\"#66cc99\" stroke=\"#555555\" stroke-width=\"0.43200000000000005\" opacity=\"0.6\" d=\"M 10.0,0.0 L 9.95184726672197,-0.980171403295606 L 9.807852804032304,-1.9509032201612824 L 9.569403357322088,-2.902846772544623 L 9.238795325112868,-3.826834323650898 L 8.819212643483551,-4.7139673682599765 L 8.314696123025453,-5.555702330196022 L 7.73010453362737,-6.343932841636455 L 7.0710678118654755,-7.0710678118654755 L 6.343932841636455,-7.730104533627369 L 5.555702330196023,-8.314696123025453 L 4.713967368259978,-8.81921264348355 L 3.8268343236508984,-9.238795325112868 L 2.902846772544623,-9.56940335732209 L 1.9509032201612833,-9.807852804032304 L 0.9801714032956077,-9.951847266721968 L 6.123233995736766e-16,-10.0 L -0.9801714032956065,-9.95184726672197 L -1.950903220161282,-9.807852804032304 L -2.9028467725446214,-9.56940335732209 L -3.826834323650897,-9.238795325112868 L -4.713967368259977,-8.819212643483551 L -5.55570233019602,-8.314696123025453 L -6.3439328416364535,-7.730104533627371 L -7.071067811865475,-7.0710678118654755 L -7.73010453362737,-6.343932841636455 L -8.314696123025453,-5.555702330196022 L -8.81921264348355,-4.713967368259978 L -9.238795325112868,-3.826834323650899 L -9.569403357322088,-2.902846772544624 L -9.807852804032304,-1.9509032201612861 L -9.951847266721968,-0.9801714032956083 L -10.0,-1.2246467991473533e-15 L -9.95184726672197,0.9801714032956059 L -9.807852804032304,1.9509032201612837 L -9.56940335732209,2.902846772544621 L -9.238795325112868,3.8268343236508966 L -8.819212643483551,4.7139673682599765 L -8.314696123025454,5.55570233019602 L -7.730104533627371,6.343932841636453 L -7.071067811865477,7.071067811865475 L -6.343932841636459,7.730104533627367 L -5.555702330196022,8.314696123025453 L -4.713967368259978,8.81921264348355 L -3.8268343236509033,9.238795325112864 L -2.9028467725446245,9.569403357322088 L -1.9509032201612866,9.807852804032303 L -0.9801714032956045,9.95184726672197 L -1.8369701987210296e-15,10.0 L 0.9801714032956009,9.95184726672197 L 1.950903220161283,9.807852804032304 L 2.9028467725446205,9.56940335732209 L 3.8268343236509,9.238795325112866 L 4.713967368259976,8.819212643483551 L 5.555702330196018,8.314696123025454 L 6.343932841636456,7.730104533627369 L 7.071067811865474,7.071067811865477 L 7.730104533627365,6.343932841636459 L 8.314696123025453,5.555702330196022 L 8.819212643483548,4.713967368259979 L 9.238795325112864,3.826834323650904 L 9.569403357322088,2.902846772544625 L 9.807852804032303,1.9509032201612873 L 9.95184726672197,0.980171403295605 L 10.0,0.0 z\" /></g></svg>"
      ],
      "text/plain": [
       "<shapely.geometry.polygon.Polygon at 0x2a1b823cb50>"
      ]
     },
     "execution_count": 228,
     "metadata": {},
     "output_type": "execute_result"
    }
   ],
   "source": [
    "q = Point(0, 0).buffer(10.0, resolution=16)\n",
    "q"
   ]
  },
  {
   "cell_type": "code",
   "execution_count": 231,
   "metadata": {},
   "outputs": [
    {
     "data": {
      "image/svg+xml": [
       "<svg xmlns=\"http://www.w3.org/2000/svg\" xmlns:xlink=\"http://www.w3.org/1999/xlink\" width=\"100.0\" height=\"100.0\" viewBox=\"-0.6599986858544988 -0.6072122813544568 4.319964518071469 3.2672109672089555\" preserveAspectRatio=\"xMinYMin meet\"><g transform=\"matrix(1,0,0,-1,0,2.052786404500042)\"><path fill-rule=\"evenodd\" fill=\"#66cc99\" stroke=\"#555555\" stroke-width=\"0.08639929036142938\" opacity=\"0.6\" d=\"M 1.0,0.0 L 3.0,1.0 L 2.0,2.0 L 0.0,2.0 L 1.0,1.0 L 0.0,0.0 L -0.35355339059327373,0.35355339059327373 L 0.29289321881345254,1.0 L -0.35355339059327373,1.6464466094067263 L -0.38650522668136855,1.6828033579181774 L -0.41573480615127273,1.722214883490199 L -0.4409606321741775,1.7643016315870013 L -0.4619397662556434,1.8086582838174552 L -0.47847016786610447,1.854857661372769 L -0.4903926402016152,1.9024548389919358 L -0.49759236333609846,1.9509914298352198 L -0.5,2.0 L -0.4975923633360984,2.0490085701647804 L -0.4903926402016152,2.0975451610080644 L -0.4784701678661044,2.145142338627231 L -0.46193976625564337,2.191341716182545 L -0.44096063217417747,2.235698368412999 L -0.4157348061512727,2.277785116509801 L -0.3865052266813685,2.317196642081823 L -0.35355339059327373,2.353553390593274 L -0.3171966420818227,2.3865052266813684 L -0.277785116509801,2.4157348061512725 L -0.23569836841299885,2.4409606321741775 L -0.19134171618254486,2.4619397662556435 L -0.14514233862723108,2.4784701678661043 L -0.09754516100806421,2.490392640201615 L -0.04900857016478032,2.4975923633360986 L 0.0,2.5 L 2.0,2.5 L 2.0490085701647804,2.4975923633360986 L 2.097545161008064,2.490392640201615 L 2.145142338627231,2.4784701678661043 L 2.191341716182545,2.4619397662556435 L 2.235698368412999,2.4409606321741775 L 2.277785116509801,2.4157348061512725 L 2.317196642081823,2.3865052266813684 L 2.353553390593274,2.353553390593274 L 3.353553390593274,1.3535533905932737 L 3.3869593598581984,1.3166424700164734 L 3.416529207756272,1.2765925145153654 L 3.441969793619239,1.2338005592982344 L 3.4630289122153934,1.1886908223858001 L 3.4794977939859795,1.1417104991261375 L 3.491213174682082,1.093325328923881 L 3.49805891388465,1.0440149781329329 L 3.4999671463624717,0.9942682848843708 L 3.496918954854096,0.9445784129899474 L 3.488944557604095,0.8954379629629573 L 3.476123008794514,0.8473340886233631 L 3.4585814148412894,0.8007436676987123 L 3.436493674324875,0.75612857429709 L 3.4100787540467756,0.7139311001184431 L 3.3795985183023,0.6745695697960951 L 3.3453551328890367,0.6384341938357614 L 3.3076880695864137,0.6058832002639494 L 3.266970740802428,0.5772392833346471 L 3.223606797749979,0.5527864045000421 L 1.223606797749979,-0.4472135954999579 L 1.0,0.0 z\" /></g></svg>"
      ],
      "text/plain": [
       "<shapely.geometry.polygon.Polygon at 0x2a1b7c4e790>"
      ]
     },
     "execution_count": 231,
     "metadata": {},
     "output_type": "execute_result"
    }
   ],
   "source": [
    "line = LineString([(0, 0), (1, 1), (0, 2), (2, 2), (3, 1), (1, 0)])\n",
    "# a positive distance indicates the left-hand side\n",
    "left_hand_side = line.buffer(0.5, single_sided=True)\n",
    "left_hand_side\n"
   ]
  },
  {
   "cell_type": "code",
   "execution_count": 232,
   "metadata": {},
   "outputs": [
    {
     "data": {
      "image/svg+xml": [
       "<svg xmlns=\"http://www.w3.org/2000/svg\" xmlns:xlink=\"http://www.w3.org/1999/xlink\" width=\"100.0\" height=\"100.0\" viewBox=\"-0.12 -0.3321320343559642 3.24 2.4521320343559645\" preserveAspectRatio=\"xMinYMin meet\"><g transform=\"matrix(1,0,0,-1,0,1.787867965644036)\"><path fill-rule=\"evenodd\" fill=\"#66cc99\" stroke=\"#555555\" stroke-width=\"0.06480000000000001\" opacity=\"0.6\" d=\"M 0.0,0.0 L 1.0,1.0 L 0.0,2.0 L 2.0,2.0 L 3.0,1.0 L 1.0,0.0 L 0.8658359213500126,0.2683281572999747 L 2.493550489775402,1.0821854415126693 L 1.8757359312880715,1.7 L 0.7242640687119286,1.7 L 1.2121320343559643,1.2121320343559643 L 1.231903136008821,1.1903179852490937 L 1.2494408836907636,1.1666710699058807 L 1.2645763793045064,1.1414190210477992 L 1.277163859753386,1.1148050297095269 L 1.2870821007196627,1.0870854031763386 L 1.2942355841209692,1.0585270966048386 L 1.298555418001659,1.0294051420988681 L 1.3,1.0 L 1.298555418001659,0.9705948579011319 L 1.2942355841209692,0.9414729033951615 L 1.2870821007196627,0.9129145968236613 L 1.277163859753386,0.8851949702904731 L 1.2645763793045064,0.8585809789522006 L 1.2494408836907636,0.8333289300941193 L 1.231903136008821,0.8096820147509064 L 1.2121320343559643,0.7878679656440357 L 0.21213203435596423,-0.21213203435596423 L 0.0,0.0 z\" /></g></svg>"
      ],
      "text/plain": [
       "<shapely.geometry.polygon.Polygon at 0x2a1b85bd9a0>"
      ]
     },
     "execution_count": 232,
     "metadata": {},
     "output_type": "execute_result"
    }
   ],
   "source": [
    "# a negative distance indicates the right-hand side\n",
    "right_hand_side = line.buffer(-0.3, single_sided=True)\n",
    "right_hand_side"
   ]
  },
  {
   "cell_type": "markdown",
   "metadata": {},
   "source": [
    "**object.convex_hull**\n",
    "\n",
    "Returns a representation of the smallest convex Polygon containing all the points in the object unless the number of points in the object is less than three. For two points, the convex hull collapses to a LineString; for 1, a Point."
   ]
  },
  {
   "cell_type": "code",
   "execution_count": 233,
   "metadata": {},
   "outputs": [
    {
     "data": {
      "image/svg+xml": [
       "<svg xmlns=\"http://www.w3.org/2000/svg\" xmlns:xlink=\"http://www.w3.org/1999/xlink\" width=\"100.0\" height=\"100.0\" viewBox=\"-0.08 -1.08 1.1600000000000001 2.16\" preserveAspectRatio=\"xMinYMin meet\"><g transform=\"matrix(1,0,0,-1,0,0.0)\"><path fill-rule=\"evenodd\" fill=\"#66cc99\" stroke=\"#555555\" stroke-width=\"0.0432\" opacity=\"0.6\" d=\"M 1.0,-1.0 L 0.0,0.0 L 1.0,1.0 L 1.0,-1.0 z\" /></g></svg>"
      ],
      "text/plain": [
       "<shapely.geometry.polygon.Polygon at 0x2a1b8249430>"
      ]
     },
     "execution_count": 233,
     "metadata": {},
     "output_type": "execute_result"
    }
   ],
   "source": [
    "MultiPoint([(0, 0), (1, 1), (1, -1)]).convex_hull"
   ]
  },
  {
   "cell_type": "markdown",
   "metadata": {},
   "source": [
    "**object.envelope**\n",
    "\n",
    "Returns a representation of the point or smallest rectangular polygon (with sides parallel to the coordinate axes) that contains the object."
   ]
  },
  {
   "cell_type": "code",
   "execution_count": 238,
   "metadata": {},
   "outputs": [
    {
     "data": {
      "image/svg+xml": [
       "<svg xmlns=\"http://www.w3.org/2000/svg\" xmlns:xlink=\"http://www.w3.org/1999/xlink\" width=\"100.0\" height=\"100.0\" viewBox=\"0.29023999999999994 -0.29576 1.7755200000000002 1.36152\" preserveAspectRatio=\"xMinYMin meet\"><g transform=\"matrix(1,0,0,-1,0,0.77)\"><path fill-rule=\"evenodd\" fill=\"#66cc99\" stroke=\"#555555\" stroke-width=\"0.035510400000000004\" opacity=\"0.6\" d=\"M 0.356,-0.23 L 2.0,-0.23 L 2.0,1.0 L 0.356,1.0 L 0.356,-0.23 z\" /></g></svg>"
      ],
      "text/plain": [
       "<shapely.geometry.polygon.Polygon at 0x2a1b85720a0>"
      ]
     },
     "execution_count": 238,
     "metadata": {},
     "output_type": "execute_result"
    }
   ],
   "source": [
    "MultiPoint([(0.356, -0.23), (2, 1)]).envelope"
   ]
  },
  {
   "cell_type": "markdown",
   "metadata": {},
   "source": [
    "**object.minimum_rotated_rectangle**\n",
    "\n",
    "Returns the general minimum bounding rectangle that contains the object. Unlike envelope this rectangle is not constrained to be parallel to the coordinate axes. If the convex hull of the object is a degenerate (line or point) this degenerate is returned."
   ]
  },
  {
   "cell_type": "code",
   "execution_count": 239,
   "metadata": {},
   "outputs": [
    {
     "data": {
      "image/svg+xml": [
       "<svg xmlns=\"http://www.w3.org/2000/svg\" xmlns:xlink=\"http://www.w3.org/1999/xlink\" width=\"100.0\" height=\"100.0\" viewBox=\"-0.26352941176470585 -0.08705882352941176 2.3505882352941176 1.3800000000000001\" preserveAspectRatio=\"xMinYMin meet\"><g transform=\"matrix(1,0,0,-1,0,1.2058823529411764)\"><path fill-rule=\"evenodd\" fill=\"#66cc99\" stroke=\"#555555\" stroke-width=\"0.04701176470588235\" opacity=\"0.6\" d=\"M 1.8235294117647058,1.2058823529411764 L -0.1764705882352941,0.7058823529411764 L 0.0,0.0 L 2.0,0.5 L 1.8235294117647058,1.2058823529411764 z\" /></g></svg>"
      ],
      "text/plain": [
       "<shapely.geometry.polygon.Polygon at 0x2a1b737d430>"
      ]
     },
     "execution_count": 239,
     "metadata": {},
     "output_type": "execute_result"
    }
   ],
   "source": [
    "MultiPoint([(0,0),(1,1),(2,0.5)]).minimum_rotated_rectangle"
   ]
  },
  {
   "cell_type": "markdown",
   "metadata": {},
   "source": [
    "**object.parallel_offset(distance, side, resolution=16, join_style=1, mitre_limit=5.0)**\n",
    "\n",
    "Returns a LineString or MultiLineString geometry at a distance from the object on its right or its left side.\n",
    "\n",
    "Mitre_Limit参数可以控制严重姿势的角落（以英语英语，en-GB拼写）控制。平行线的角落将从原始的比大多数地方进一步与斜线连接风格。该进一步距离与指定距离的比率是斜斜率。超过限制的比率的角落将被倾斜。"
   ]
  },
  {
   "cell_type": "code",
   "execution_count": 257,
   "metadata": {},
   "outputs": [
    {
     "data": {
      "image/svg+xml": [
       "<svg xmlns=\"http://www.w3.org/2000/svg\" xmlns:xlink=\"http://www.w3.org/1999/xlink\" width=\"100.0\" height=\"100.0\" viewBox=\"-0.33599947434179955 -0.31488491254178275 3.6719858072285882 2.6508843868835825\" preserveAspectRatio=\"xMinYMin meet\"><g transform=\"matrix(1,0,0,-1,0,2.021114561800017)\"><g><polyline fill=\"none\" stroke=\"#66cc99\" stroke-width=\"0.07343971614457176\" points=\"0.0,0.0 1.0,1.0 0.0,2.0 2.0,2.0 3.0,1.0 1.0,0.0\" opacity=\"0.8\" /><polyline fill=\"none\" stroke=\"#66cc99\" stroke-width=\"0.07343971614457176\" points=\"-0.1414213562373095,0.1414213562373095 0.7171572875253811,1.0 -0.1414213562373095,1.8585786437626906 -0.1546020906725475,1.873121343167271 -0.1662939224605091,1.8888859533960796 -0.17638425286967108,1.9057206526348005 -0.1847759065022574,1.923463313526982 -0.19138806714644183,1.9419430645491076 -0.19615705608064612,1.9609819355967744 -0.19903694533443939,1.980396571934088 -0.2,2.0 -0.19903694533443939,2.019603428065912 -0.1961570560806461,2.039018064403226 -0.19138806714644174,2.0580569354508924 -0.1847759065022573,2.076536686473018 -0.176384252869671,2.0942793473651995 -0.166293922460509,2.1111140466039204 -0.15460209067254735,2.126878656832729 -0.1414213562373095,2.1414213562373097 -0.1268786568327291,2.1546020906725474 -0.1111140466039204,2.166293922460509 -0.09427934736519955,2.176384252869671 -0.07653668647301791,2.1847759065022574 -0.05805693545089244,2.1913880671464416 -0.0390180644032256,2.1961570560806463 -0.019603428065912042,2.1990369453344396 0.0,2.2 2.0,2.2 2.019603428065912,2.1990369453344396 2.039018064403226,2.1961570560806463 2.0580569354508924,2.1913880671464416 2.076536686473018,2.1847759065022574 2.0942793473651995,2.176384252869671 2.1111140466039204,2.166293922460509 2.126878656832729,2.1546020906725474 2.1414213562373097,2.1414213562373097 3.1414213562373097,1.1414213562373094 3.1547837439432795,1.1266569880065893 3.166611683102509,1.110637005806146 3.1767879174476956,1.0935202237192936 3.185211564886157,1.0754763289543199 3.191799117594392,1.056684199650455 3.1964852698728325,1.0373301315695522 3.19922356555386,1.017605991253173 3.199986858544989,0.9977073139537482 3.1987675819416386,0.9778313651959789 3.195577823041638,0.958175185185183 3.1904492035178054,0.9389336354493452 3.1834325659365157,0.9202974670794849 3.17459746972995,0.902451429718836 3.16403150161871,0.8855724400473772 3.15183940732092,0.869827827918438 3.138142053155615,0.8553736775343045 3.1230752278345655,0.8423532801055797 3.106788296320971,0.8308957133338589 3.0894427190999916,0.8211145618000169 1.0894427190999916,-0.17888543819998318\" opacity=\"0.8\" /></g></g></svg>"
      ],
      "text/plain": [
       "<shapely.geometry.multilinestring.MultiLineString at 0x2a1b746d8b0>"
      ]
     },
     "execution_count": 257,
     "metadata": {},
     "output_type": "execute_result"
    }
   ],
   "source": [
    "line = LineString([(0, 0), (1, 1), (0, 2), (2, 2), (3, 1), (1, 0)])\n",
    "line_parallel = line.parallel_offset(-0.2, join_style=1, mitre_limit=5.0)\n",
    "\n",
    "multilines = MultiLineString([line, line_parallel])\n",
    "multilines"
   ]
  },
  {
   "cell_type": "markdown",
   "metadata": {},
   "source": [
    "**object.simplify(tolerance, preserve_topology=True)**\n",
    "\n",
    "Returns a simplified representation of the geometric object."
   ]
  },
  {
   "cell_type": "code",
   "execution_count": 262,
   "metadata": {},
   "outputs": [
    {
     "data": {
      "image/svg+xml": [
       "<svg xmlns=\"http://www.w3.org/2000/svg\" xmlns:xlink=\"http://www.w3.org/1999/xlink\" width=\"100.0\" height=\"100.0\" viewBox=\"-1.08 -1.08 2.16 2.16\" preserveAspectRatio=\"xMinYMin meet\"><g transform=\"matrix(1,0,0,-1,0,0.0)\"><g><path fill-rule=\"evenodd\" fill=\"#ff3333\" stroke=\"#555555\" stroke-width=\"0.0432\" opacity=\"0.6\" d=\"M 1.0,0.0 L 0.9951847266721969,-0.0980171403295606 L 0.9807852804032304,-0.19509032201612825 L 0.9569403357322088,-0.29028467725446233 L 0.9238795325112867,-0.3826834323650898 L 0.881921264348355,-0.47139673682599764 L 0.8314696123025452,-0.5555702330196022 L 0.773010453362737,-0.6343932841636455 L 0.7071067811865476,-0.7071067811865476 L 0.6343932841636455,-0.7730104533627369 L 0.5555702330196023,-0.8314696123025452 L 0.4713967368259978,-0.8819212643483549 L 0.38268343236508984,-0.9238795325112867 L 0.29028467725446233,-0.9569403357322089 L 0.19509032201612833,-0.9807852804032304 L 0.09801714032956077,-0.9951847266721968 L 6.123233995736766e-17,-1.0 L -0.09801714032956065,-0.9951847266721969 L -0.1950903220161282,-0.9807852804032304 L -0.29028467725446216,-0.9569403357322089 L -0.3826834323650897,-0.9238795325112867 L -0.4713967368259977,-0.881921264348355 L -0.555570233019602,-0.8314696123025453 L -0.6343932841636454,-0.7730104533627371 L -0.7071067811865475,-0.7071067811865476 L -0.773010453362737,-0.6343932841636455 L -0.8314696123025453,-0.5555702330196022 L -0.8819212643483549,-0.4713967368259978 L -0.9238795325112867,-0.3826834323650899 L -0.9569403357322088,-0.2902846772544624 L -0.9807852804032304,-0.1950903220161286 L -0.9951847266721968,-0.09801714032956083 L -1.0,-1.2246467991473532e-16 L -0.9951847266721969,0.09801714032956059 L -0.9807852804032304,0.19509032201612836 L -0.9569403357322089,0.2902846772544621 L -0.9238795325112868,0.38268343236508967 L -0.881921264348355,0.47139673682599764 L -0.8314696123025455,0.555570233019602 L -0.7730104533627371,0.6343932841636453 L -0.7071067811865477,0.7071067811865475 L -0.6343932841636459,0.7730104533627367 L -0.5555702330196022,0.8314696123025452 L -0.47139673682599786,0.8819212643483549 L -0.38268343236509034,0.9238795325112865 L -0.29028467725446244,0.9569403357322088 L -0.19509032201612866,0.9807852804032303 L -0.09801714032956045,0.9951847266721969 L -1.8369701987210297e-16,1.0 L 0.09801714032956009,0.9951847266721969 L 0.1950903220161283,0.9807852804032304 L 0.29028467725446205,0.9569403357322089 L 0.38268343236509,0.9238795325112866 L 0.4713967368259976,0.881921264348355 L 0.5555702330196018,0.8314696123025455 L 0.6343932841636456,0.7730104533627369 L 0.7071067811865474,0.7071067811865477 L 0.7730104533627365,0.6343932841636459 L 0.8314696123025452,0.5555702330196022 L 0.8819212643483548,0.4713967368259979 L 0.9238795325112865,0.3826834323650904 L 0.9569403357322088,0.2902846772544625 L 0.9807852804032303,0.19509032201612872 L 0.9951847266721969,0.0980171403295605 L 1.0,0.0 z\" /><path fill-rule=\"evenodd\" fill=\"#ff3333\" stroke=\"#555555\" stroke-width=\"0.0432\" opacity=\"0.6\" d=\"M 1.0,0.0 L 0.7071067811865476,-0.7071067811865476 L 6.123233995736766e-17,-1.0 L -0.7071067811865475,-0.7071067811865476 L -1.0,-1.2246467991473532e-16 L -0.7071067811865477,0.7071067811865475 L -1.8369701987210297e-16,1.0 L 0.7071067811865474,0.7071067811865477 L 1.0,0.0 z\" /></g></g></svg>"
      ],
      "text/plain": [
       "<shapely.geometry.multipolygon.MultiPolygon at 0x2a1b735a460>"
      ]
     },
     "execution_count": 262,
     "metadata": {},
     "output_type": "execute_result"
    }
   ],
   "source": [
    "p = Point(0.0, 0.0)\n",
    "x = p.buffer(1.0)\n",
    "s = x.simplify(0.2, preserve_topology=False)\n",
    "MultiPolygon([x,s])"
   ]
  },
  {
   "cell_type": "markdown",
   "metadata": {},
   "source": [
    "## Affine Transformations\n",
    "\n",
    "A collection of affine transform functions are in the shapely.affinity module, which return transformed geometries by either directly supplying coefficients to an affine transformation matrix, or by using a specific, named transform (rotate, scale, etc.). The functions can be used with all geometry types (except GeometryCollection), and 3D types are either preserved or supported by 3D affine transformations."
   ]
  },
  {
   "cell_type": "code",
   "execution_count": 272,
   "metadata": {},
   "outputs": [
    {
     "data": {
      "image/svg+xml": [
       "<svg xmlns=\"http://www.w3.org/2000/svg\" xmlns:xlink=\"http://www.w3.org/1999/xlink\" width=\"100.0\" height=\"100.0\" viewBox=\"0.8365460059804851 0.09470124333250972 3.32690798803903 3.028517571039306\" preserveAspectRatio=\"xMinYMin meet\"><g transform=\"matrix(1,0,0,-1,0,3.2179200577043257)\"><g><polyline fill=\"none\" stroke=\"#66cc99\" stroke-width=\"0.0665381597607806\" points=\"1.0,3.0 1.0,1.0 4.0,1.0\" opacity=\"0.8\" /><polyline fill=\"none\" stroke=\"#66cc99\" stroke-width=\"0.0665381597607806\" points=\"0.959764820352301,1.0631565811857246 2.772380394425601,0.21792005770432565 4.040235179647699,2.936843418814276\" opacity=\"0.8\" /></g></g></svg>"
      ],
      "text/plain": [
       "<shapely.geometry.multilinestring.MultiLineString at 0x2a1b3a46340>"
      ]
     },
     "execution_count": 272,
     "metadata": {},
     "output_type": "execute_result"
    }
   ],
   "source": [
    "from shapely import affinity\n",
    "line = LineString([(1, 3), (1, 1), (4, 1)])\n",
    "rotated_a = affinity.rotate(line, 65)\n",
    "rotated_b = affinity.rotate(line, 65, origin='centroid')\n",
    "MultiLineString([line,rotated_a])"
   ]
  },
  {
   "cell_type": "code",
   "execution_count": 273,
   "metadata": {},
   "outputs": [
    {
     "data": {
      "image/svg+xml": [
       "<svg xmlns=\"http://www.w3.org/2000/svg\" xmlns:xlink=\"http://www.w3.org/1999/xlink\" width=\"100.0\" height=\"100.0\" viewBox=\"-0.08927625780418835 0.0590926947254069 4.2883388004308065 3.2339337163341977\" preserveAspectRatio=\"xMinYMin meet\"><g transform=\"matrix(1,0,0,-1,0,3.352119105785011)\"><g><polyline fill=\"none\" stroke=\"#66cc99\" stroke-width=\"0.08576677600861612\" points=\"1.0,3.0 1.0,1.0 4.0,1.0\" opacity=\"0.8\" /><polyline fill=\"none\" stroke=\"#66cc99\" stroke-width=\"0.08576677600861612\" points=\"0.959764820352301,1.0631565811857246 2.772380394425601,0.21792005770432565 4.040235179647699,2.936843418814276\" opacity=\"0.8\" /><polyline fill=\"none\" stroke=\"#66cc99\" stroke-width=\"0.08576677600861612\" points=\"0.0695511051747304,1.2605122104521342 1.8821666792480303,0.41527568697073525 3.1500214644701288,3.1341990480806854\" opacity=\"0.8\" /></g></g></svg>"
      ],
      "text/plain": [
       "<shapely.geometry.multilinestring.MultiLineString at 0x2a1b7b10b50>"
      ]
     },
     "execution_count": 273,
     "metadata": {},
     "output_type": "execute_result"
    }
   ],
   "source": [
    "MultiLineString([line,rotated_a,rotated_b])\n"
   ]
  },
  {
   "cell_type": "code",
   "execution_count": 274,
   "metadata": {},
   "outputs": [
    {
     "data": {
      "image/svg+xml": [
       "<svg xmlns=\"http://www.w3.org/2000/svg\" xmlns:xlink=\"http://www.w3.org/1999/xlink\" width=\"100.0\" height=\"100.0\" viewBox=\"0.32 0.8200000000000001 4.859999999999999 2.3600000000000003\" preserveAspectRatio=\"xMinYMin meet\"><g transform=\"matrix(1,0,0,-1,0,4.0)\"><g><path fill-rule=\"evenodd\" fill=\"#ff3333\" stroke=\"#555555\" stroke-width=\"0.0972\" opacity=\"0.6\" d=\"M 1.0,1.0 L 2.0,3.0 L 3.0,1.0 L 1.0,1.0 z\" /><path fill-rule=\"evenodd\" fill=\"#ff3333\" stroke=\"#555555\" stroke-width=\"0.0972\" opacity=\"0.6\" d=\"M 0.5,3.0 L 2.0,1.0 L 3.5,3.0 L 0.5,3.0 z\" /><path fill-rule=\"evenodd\" fill=\"#ff3333\" stroke=\"#555555\" stroke-width=\"0.0972\" opacity=\"0.6\" d=\"M 1.0,1.0 L 3.0,3.0 L 5.0,1.0 L 1.0,1.0 z\" /></g></g></svg>"
      ],
      "text/plain": [
       "<shapely.geometry.multipolygon.MultiPolygon at 0x2a1b813d970>"
      ]
     },
     "execution_count": 274,
     "metadata": {},
     "output_type": "execute_result"
    }
   ],
   "source": [
    "triangle = Polygon([(1, 1), (2, 3), (3, 1)])\n",
    "triangle_a = affinity.scale(triangle, xfact=1.5, yfact=-1)\n",
    "triangle_b = affinity.scale(triangle, xfact=2, origin=(1,1))\n",
    "MultiPolygon([triangle,triangle_a,triangle_b])"
   ]
  },
  {
   "cell_type": "markdown",
   "metadata": {},
   "source": [
    "### Other Transformations\n",
    "\n",
    "Shapely supports map projections and other arbitrary transformations of geometric objects.\n",
    "\n",
    "...\n",
    "\n",
    "没看懂\n"
   ]
  },
  {
   "cell_type": "markdown",
   "metadata": {},
   "source": [
    "## Other Operations\n",
    "### Merging Linear Features\n",
    "\n",
    "Sequences of touching lines can be merged into MultiLineStrings or Polygons using functions in the shapely.ops module.\n"
   ]
  },
  {
   "cell_type": "code",
   "execution_count": 276,
   "metadata": {},
   "outputs": [
    {
     "name": "stdout",
     "output_type": "stream",
     "text": [
      "[<shapely.geometry.polygon.Polygon object at 0x000002A1B82D3D00>,\n",
      " <shapely.geometry.polygon.Polygon object at 0x000002A1B82D3D30>]\n"
     ]
    }
   ],
   "source": [
    "from shapely.ops import polygonize\n",
    "lines = [\n",
    "    ((0, 0), (1, 1)),\n",
    "    ((0, 0), (0, 1)),\n",
    "    ((0, 1), (1, 1)),\n",
    "    ((1, 1), (1, 0)),\n",
    "    ((1, 0), (0, 0))\n",
    "    ]\n",
    "pprint(list(polygonize(lines)))\n",
    "\n",
    "# Returns an iterator over polygons constructed from the input lines."
   ]
  },
  {
   "cell_type": "code",
   "execution_count": 287,
   "metadata": {},
   "outputs": [
    {
     "data": {
      "text/plain": [
       "2"
      ]
     },
     "execution_count": 287,
     "metadata": {},
     "output_type": "execute_result"
    }
   ],
   "source": [
    "from shapely.ops import polygonize_full\n",
    "lines = [\n",
    "    ((0, 0), (1, 1)),\n",
    "    ((0, 0), (0, 1)),\n",
    "    ((0, 1), (1, 1)),\n",
    "    ((1, 1), (1, 0)),\n",
    "    ((1, 0), (0, 0)),\n",
    "    ((5, 5), (6, 6)),\n",
    "    ((1, 1), (10, 10)),\n",
    "    ]\n",
    "result, dangles, cuts, invalids = polygonize_full(lines)\n",
    "len(result.geoms)"
   ]
  },
  {
   "cell_type": "code",
   "execution_count": 288,
   "metadata": {},
   "outputs": [
    {
     "data": {
      "image/svg+xml": [
       "<svg xmlns=\"http://www.w3.org/2000/svg\" xmlns:xlink=\"http://www.w3.org/1999/xlink\" width=\"100.0\" height=\"100.0\" viewBox=\"-0.04 -0.04 1.08 1.08\" preserveAspectRatio=\"xMinYMin meet\"><g transform=\"matrix(1,0,0,-1,0,1.0)\"><g><path fill-rule=\"evenodd\" fill=\"#66cc99\" stroke=\"#555555\" stroke-width=\"0.0216\" opacity=\"0.6\" d=\"M 0.0,0.0 L 1.0,1.0 L 1.0,0.0 L 0.0,0.0 z\" /><path fill-rule=\"evenodd\" fill=\"#66cc99\" stroke=\"#555555\" stroke-width=\"0.0216\" opacity=\"0.6\" d=\"M 1.0,1.0 L 0.0,0.0 L 0.0,1.0 L 1.0,1.0 z\" /></g></g></svg>"
      ],
      "text/plain": [
       "<shapely.geometry.collection.GeometryCollection at 0x2a1b8756220>"
      ]
     },
     "execution_count": 288,
     "metadata": {},
     "output_type": "execute_result"
    }
   ],
   "source": [
    "result"
   ]
  },
  {
   "cell_type": "code",
   "execution_count": 289,
   "metadata": {},
   "outputs": [
    {
     "data": {
      "image/svg+xml": [
       "<svg xmlns=\"http://www.w3.org/2000/svg\" xmlns:xlink=\"http://www.w3.org/1999/xlink\" />"
      ],
      "text/plain": [
       "<shapely.geometry.collection.GeometryCollection at 0x2a1b87567f0>"
      ]
     },
     "execution_count": 289,
     "metadata": {},
     "output_type": "execute_result"
    }
   ],
   "source": [
    "dangles \n",
    "# Dangles are edges which have one or both ends which are not incident on another edge endpoint. \n",
    "# 悬挂是具有一个或两个端部的边缘，其不入射在另一个边缘端点上。"
   ]
  },
  {
   "cell_type": "code",
   "execution_count": 290,
   "metadata": {},
   "outputs": [
    {
     "data": {
      "image/svg+xml": [
       "<svg xmlns=\"http://www.w3.org/2000/svg\" xmlns:xlink=\"http://www.w3.org/1999/xlink\" width=\"100.0\" height=\"100.0\" viewBox=\"0.64 0.64 9.719999999999999 9.719999999999999\" preserveAspectRatio=\"xMinYMin meet\"><g transform=\"matrix(1,0,0,-1,0,11.0)\"><g><polyline fill=\"none\" stroke=\"#66cc99\" stroke-width=\"0.1944\" points=\"1.0,1.0 10.0,10.0\" opacity=\"0.8\" /><polyline fill=\"none\" stroke=\"#66cc99\" stroke-width=\"0.1944\" points=\"5.0,5.0 6.0,6.0\" opacity=\"0.8\" /></g></g></svg>"
      ],
      "text/plain": [
       "<shapely.geometry.collection.GeometryCollection at 0x2a1b8756070>"
      ]
     },
     "execution_count": 290,
     "metadata": {},
     "output_type": "execute_result"
    }
   ],
   "source": [
    "cuts # Cut edges are connected at both ends but do not form part of polygon."
   ]
  },
  {
   "cell_type": "code",
   "execution_count": 291,
   "metadata": {},
   "outputs": [
    {
     "data": {
      "image/svg+xml": [
       "<svg xmlns=\"http://www.w3.org/2000/svg\" xmlns:xlink=\"http://www.w3.org/1999/xlink\" />"
      ],
      "text/plain": [
       "<shapely.geometry.collection.GeometryCollection at 0x2a1b8756190>"
      ]
     },
     "execution_count": 291,
     "metadata": {},
     "output_type": "execute_result"
    }
   ],
   "source": [
    "invalids # Invalid ring lines form rings which are invalid (bowties, etc)."
   ]
  },
  {
   "cell_type": "code",
   "execution_count": 292,
   "metadata": {},
   "outputs": [
    {
     "data": {
      "image/svg+xml": [
       "<svg xmlns=\"http://www.w3.org/2000/svg\" xmlns:xlink=\"http://www.w3.org/1999/xlink\" width=\"100.0\" height=\"100.0\" viewBox=\"-0.28 -0.28 7.5600000000000005 7.5600000000000005\" preserveAspectRatio=\"xMinYMin meet\"><g transform=\"matrix(1,0,0,-1,0,7.0)\"><g><polyline fill=\"none\" stroke=\"#66cc99\" stroke-width=\"0.1512\" points=\"1.0,1.0 1.0,0.0 0.0,0.0\" opacity=\"0.8\" /><polyline fill=\"none\" stroke=\"#66cc99\" stroke-width=\"0.1512\" points=\"0.0,0.0 1.0,1.0\" opacity=\"0.8\" /><polyline fill=\"none\" stroke=\"#66cc99\" stroke-width=\"0.1512\" points=\"0.0,0.0 0.0,1.0 1.0,1.0\" opacity=\"0.8\" /><polyline fill=\"none\" stroke=\"#66cc99\" stroke-width=\"0.1512\" points=\"1.0,1.0 7.0,7.0\" opacity=\"0.8\" /><polyline fill=\"none\" stroke=\"#66cc99\" stroke-width=\"0.1512\" points=\"5.0,5.0 6.0,6.0\" opacity=\"0.8\" /></g></g></svg>"
      ],
      "text/plain": [
       "<shapely.geometry.multilinestring.MultiLineString at 0x2a1b8244520>"
      ]
     },
     "execution_count": 292,
     "metadata": {},
     "output_type": "execute_result"
    }
   ],
   "source": [
    "from shapely.ops import linemerge\n",
    "lines = [\n",
    "    ((0, 0), (1, 1)),\n",
    "    ((0, 0), (0, 1)),\n",
    "    ((0, 1), (1, 1)),\n",
    "    ((1, 1), (1, 0)),\n",
    "    ((1, 0), (0, 0)),\n",
    "    ((5, 5), (6, 6)),\n",
    "    ((1, 1), (7, 7)),\n",
    "    ]\n",
    "linemerge(lines)"
   ]
  },
  {
   "cell_type": "markdown",
   "metadata": {},
   "source": [
    "## Efficient Rectangle Clipping\n",
    "\n",
    "shapely.ops.clip_by_rect(geom, xmin, ymin, xmax, ymax)\n",
    "\n",
    "The geometry is clipped in a fast but possibly dirty way. The output is not guaranteed to be valid. No exceptions will be raised for topological errors."
   ]
  },
  {
   "cell_type": "code",
   "execution_count": 296,
   "metadata": {},
   "outputs": [
    {
     "data": {
      "image/svg+xml": [
       "<svg xmlns=\"http://www.w3.org/2000/svg\" xmlns:xlink=\"http://www.w3.org/1999/xlink\" width=\"100.0\" height=\"100.0\" viewBox=\"-1.2 -1.2 32.4 32.4\" preserveAspectRatio=\"xMinYMin meet\"><g transform=\"matrix(1,0,0,-1,0,30.0)\"><path fill-rule=\"evenodd\" fill=\"#66cc99\" stroke=\"#555555\" stroke-width=\"0.648\" opacity=\"0.6\" d=\"M 0.0,0.0 L 0.0,30.0 L 30.0,30.0 L 30.0,0.0 L 0.0,0.0 z M 10.0,10.0 L 20.0,10.0 L 20.0,20.0 L 10.0,20.0 L 10.0,10.0 z\" /></g></svg>"
      ],
      "text/plain": [
       "<shapely.geometry.polygon.Polygon at 0x2a1b8244a00>"
      ]
     },
     "execution_count": 296,
     "metadata": {},
     "output_type": "execute_result"
    }
   ],
   "source": [
    "from shapely.geometry import Polygon\n",
    "from shapely.ops import clip_by_rect\n",
    "polygon = Polygon(\n",
    "       shell=[(0, 0), (0, 30), (30, 30), (30, 0), (0, 0)],\n",
    "       holes=[[(10, 10), (20, 10), (20, 20), (10, 20), (10, 10)]],\n",
    "    )\n",
    "clipped_polygon = clip_by_rect(polygon, 5, 5, 15, 15)\n",
    "polygon"
   ]
  },
  {
   "cell_type": "code",
   "execution_count": 295,
   "metadata": {},
   "outputs": [
    {
     "data": {
      "image/svg+xml": [
       "<svg xmlns=\"http://www.w3.org/2000/svg\" xmlns:xlink=\"http://www.w3.org/1999/xlink\" width=\"100.0\" height=\"100.0\" viewBox=\"4.6 4.6 10.8 10.8\" preserveAspectRatio=\"xMinYMin meet\"><g transform=\"matrix(1,0,0,-1,0,20.0)\"><path fill-rule=\"evenodd\" fill=\"#66cc99\" stroke=\"#555555\" stroke-width=\"0.21600000000000003\" opacity=\"0.6\" d=\"M 5.0,5.0 L 5.0,15.0 L 10.0,15.0 L 10.0,10.0 L 15.0,10.0 L 15.0,5.0 L 5.0,5.0 z\" /></g></svg>"
      ],
      "text/plain": [
       "<shapely.geometry.polygon.Polygon at 0x2a1b8145070>"
      ]
     },
     "execution_count": 295,
     "metadata": {},
     "output_type": "execute_result"
    }
   ],
   "source": [
    "clipped_polygon"
   ]
  },
  {
   "cell_type": "markdown",
   "metadata": {},
   "source": [
    "## Efficient Unions\n",
    "\n",
    "The unary_union() function in shapely.ops is more efficient than accumulating with union()."
   ]
  },
  {
   "cell_type": "code",
   "execution_count": 297,
   "metadata": {},
   "outputs": [
    {
     "data": {
      "image/svg+xml": [
       "<svg xmlns=\"http://www.w3.org/2000/svg\" xmlns:xlink=\"http://www.w3.org/1999/xlink\" width=\"100.0\" height=\"100.0\" viewBox=\"-0.9159999999999999 -0.9159999999999999 5.832000000000001 1.8319999999999999\" preserveAspectRatio=\"xMinYMin meet\"><g transform=\"matrix(1,0,0,-1,0,0.0)\"><path fill-rule=\"evenodd\" fill=\"#66cc99\" stroke=\"#555555\" stroke-width=\"0.11664000000000002\" opacity=\"0.6\" d=\"M 0.44407529891455183,-0.5411073173539158 L 0.3888991631137216,-0.5820287286117817 L 0.32997771577819845,-0.6173448850438484 L 0.26787840265556284,-0.6467156727579007 L 0.20319927407812363,-0.6698582350125463 L 0.13656322541128982,-0.6865496962822613 L 0.06861199823069253,-0.6966293086705377 L 4.286263797015736e-17,-0.7 L -0.06861199823069244,-0.6966293086705379 L -0.13656322541128973,-0.6865496962822613 L -0.2031992740781235,-0.6698582350125463 L -0.2678784026555628,-0.6467156727579007 L -0.32997771577819834,-0.6173448850438485 L -0.38889916311372136,-0.5820287286117817 L -0.4440752989145517,-0.5411073173539159 L -0.4949747468305832,-0.4949747468305833 L -0.5411073173539158,-0.44407529891455183 L -0.5820287286117817,-0.3888991631137215 L -0.6173448850438484,-0.32997771577819845 L -0.6467156727579007,-0.2678784026555629 L -0.6698582350125462,-0.20319927407812366 L -0.6865496962822613,-0.13656322541129 L -0.6966293086705377,-0.06861199823069257 L -0.7,-8.572527594031472e-17 L -0.6966293086705379,0.0686119982306924 L -0.6865496962822613,0.13656322541128985 L -0.6698582350125463,0.20319927407812347 L -0.6467156727579008,0.26787840265556273 L -0.6173448850438485,0.32997771577819834 L -0.5820287286117818,0.38889916311372136 L -0.5411073173539159,0.44407529891455166 L -0.49497474683058335,0.4949747468305832 L -0.4440752989145521,0.5411073173539156 L -0.3888991631137215,0.5820287286117817 L -0.3299777157781985,0.6173448850438484 L -0.26787840265556323,0.6467156727579005 L -0.2031992740781237,0.6698582350125462 L -0.13656322541129007,0.6865496962822611 L -0.0686119982306923,0.6966293086705379 L -1.2858791391047207e-16,0.7 L 0.06861199823069206,0.6966293086705379 L 0.1365632254112898,0.6865496962822613 L 0.20319927407812344,0.6698582350125463 L 0.267878402655563,0.6467156727579007 L 0.3299777157781983,0.6173448850438485 L 0.38889916311372125,0.5820287286117818 L 0.4440752989145519,0.5411073173539158 L 0.4949747468305831,0.49497474683058335 L 0.49999999999999994,0.4894302343731161 L 0.5050252531694166,0.4949747468305832 L 0.5559247010854479,0.5411073173539156 L 0.6111008368862785,0.5820287286117817 L 0.6700222842218015,0.6173448850438484 L 0.7321215973444368,0.6467156727579005 L 0.7968007259218763,0.6698582350125462 L 0.8634367745887099,0.6865496962822611 L 0.9313880017693077,0.6966293086705379 L 0.9999999999999999,0.7 L 1.068611998230692,0.6966293086705379 L 1.1365632254112898,0.6865496962822613 L 1.2031992740781234,0.6698582350125463 L 1.267878402655563,0.6467156727579007 L 1.3299777157781982,0.6173448850438485 L 1.3888991631137213,0.5820287286117818 L 1.444075298914552,0.5411073173539158 L 1.4949747468305832,0.49497474683058335 L 1.5,0.4894302343731161 L 1.5050252531694166,0.4949747468305832 L 1.555924701085448,0.5411073173539156 L 1.6111008368862785,0.5820287286117817 L 1.6700222842218015,0.6173448850438484 L 1.7321215973444368,0.6467156727579005 L 1.7968007259218763,0.6698582350125462 L 1.86343677458871,0.6865496962822611 L 1.9313880017693077,0.6966293086705379 L 1.9999999999999998,0.7 L 2.068611998230692,0.6966293086705379 L 2.13656322541129,0.6865496962822613 L 2.2031992740781234,0.6698582350125463 L 2.267878402655563,0.6467156727579007 L 2.3299777157781985,0.6173448850438485 L 2.388899163113721,0.5820287286117818 L 2.444075298914552,0.5411073173539158 L 2.494974746830583,0.49497474683058335 L 2.5,0.48943023437311606 L 2.505025253169417,0.4949747468305832 L 2.555924701085448,0.5411073173539156 L 2.6111008368862785,0.5820287286117817 L 2.6700222842218015,0.6173448850438484 L 2.732121597344437,0.6467156727579005 L 2.796800725921876,0.6698582350125462 L 2.8634367745887097,0.6865496962822611 L 2.9313880017693075,0.6966293086705379 L 3.0,0.7 L 3.068611998230692,0.6966293086705379 L 3.13656322541129,0.6865496962822613 L 3.2031992740781234,0.6698582350125463 L 3.267878402655563,0.6467156727579007 L 3.3299777157781985,0.6173448850438485 L 3.388899163113721,0.5820287286117818 L 3.444075298914552,0.5411073173539158 L 3.494974746830583,0.49497474683058335 L 3.5,0.48943023437311606 L 3.505025253169417,0.4949747468305832 L 3.555924701085448,0.5411073173539156 L 3.6111008368862785,0.5820287286117817 L 3.6700222842218015,0.6173448850438484 L 3.732121597344437,0.6467156727579005 L 3.796800725921876,0.6698582350125462 L 3.8634367745887097,0.6865496962822611 L 3.9313880017693075,0.6966293086705379 L 4.0,0.7 L 4.068611998230692,0.6966293086705379 L 4.136563225411289,0.6865496962822613 L 4.203199274078123,0.6698582350125463 L 4.267878402655563,0.6467156727579007 L 4.329977715778198,0.6173448850438485 L 4.388899163113721,0.5820287286117818 L 4.4440752989145516,0.5411073173539158 L 4.494974746830583,0.49497474683058335 L 4.541107317353916,0.4440752989145521 L 4.582028728611782,0.3888991631137215 L 4.617344885043848,0.3299777157781985 L 4.6467156727579,0.26787840265556323 L 4.669858235012546,0.20319927407812374 L 4.6865496962822615,0.1365632254112901 L 4.696629308670538,0.06861199823069235 L 4.7,0.0 L 4.696629308670538,-0.06861199823069242 L 4.6865496962822615,-0.13656322541128976 L 4.669858235012546,-0.20319927407812363 L 4.6467156727579,-0.26787840265556284 L 4.617344885043849,-0.32997771577819834 L 4.582028728611782,-0.3888991631137215 L 4.541107317353916,-0.44407529891455183 L 4.494974746830583,-0.4949747468305833 L 4.4440752989145516,-0.5411073173539158 L 4.388899163113722,-0.5820287286117817 L 4.329977715778199,-0.6173448850438484 L 4.267878402655563,-0.6467156727579007 L 4.203199274078123,-0.6698582350125463 L 4.136563225411289,-0.6865496962822613 L 4.0686119982306925,-0.6966293086705377 L 4.0,-0.7 L 3.9313880017693075,-0.6966293086705379 L 3.86343677458871,-0.6865496962822613 L 3.7968007259218766,-0.6698582350125463 L 3.7321215973444373,-0.6467156727579007 L 3.6700222842218015,-0.6173448850438485 L 3.6111008368862785,-0.5820287286117817 L 3.5559247010854484,-0.5411073173539159 L 3.505025253169417,-0.4949747468305833 L 3.5,-0.48943023437311606 L 3.494974746830583,-0.4949747468305833 L 3.444075298914552,-0.5411073173539158 L 3.3888991631137215,-0.5820287286117817 L 3.3299777157781985,-0.6173448850438484 L 3.2678784026555627,-0.6467156727579007 L 3.2031992740781234,-0.6698582350125463 L 3.13656322541129,-0.6865496962822613 L 3.0686119982306925,-0.6966293086705377 L 3.0,-0.7 L 2.9313880017693075,-0.6966293086705379 L 2.86343677458871,-0.6865496962822613 L 2.7968007259218766,-0.6698582350125463 L 2.7321215973444373,-0.6467156727579007 L 2.6700222842218015,-0.6173448850438485 L 2.6111008368862785,-0.5820287286117817 L 2.5559247010854484,-0.5411073173539159 L 2.505025253169417,-0.4949747468305833 L 2.5,-0.48943023437311606 L 2.494974746830583,-0.4949747468305833 L 2.444075298914552,-0.5411073173539158 L 2.3888991631137215,-0.5820287286117817 L 2.3299777157781985,-0.6173448850438484 L 2.2678784026555627,-0.6467156727579007 L 2.2031992740781234,-0.6698582350125463 L 2.13656322541129,-0.6865496962822613 L 2.0686119982306925,-0.6966293086705377 L 2.0,-0.7 L 1.9313880017693075,-0.6966293086705379 L 1.8634367745887102,-0.6865496962822613 L 1.7968007259218766,-0.6698582350125463 L 1.7321215973444373,-0.6467156727579007 L 1.6700222842218015,-0.6173448850438485 L 1.6111008368862787,-0.5820287286117817 L 1.5559247010854482,-0.5411073173539159 L 1.5050252531694168,-0.4949747468305833 L 1.5,-0.48943023437311606 L 1.4949747468305832,-0.4949747468305833 L 1.4440752989145518,-0.5411073173539158 L 1.3888991631137215,-0.5820287286117817 L 1.3299777157781985,-0.6173448850438484 L 1.2678784026555627,-0.6467156727579007 L 1.2031992740781237,-0.6698582350125463 L 1.1365632254112898,-0.6865496962822613 L 1.0686119982306925,-0.6966293086705377 L 1.0,-0.7 L 0.9313880017693076,-0.6966293086705379 L 0.8634367745887103,-0.6865496962822613 L 0.7968007259218766,-0.6698582350125463 L 0.7321215973444373,-0.6467156727579007 L 0.6700222842218017,-0.6173448850438485 L 0.6111008368862787,-0.5820287286117817 L 0.5559247010854482,-0.5411073173539159 L 0.5050252531694168,-0.4949747468305833 L 0.5,-0.4894302343731161 L 0.4949747468305833,-0.4949747468305833 L 0.44407529891455183,-0.5411073173539158 z\" /></g></svg>"
      ],
      "text/plain": [
       "<shapely.geometry.polygon.Polygon at 0x2a1b7506d60>"
      ]
     },
     "execution_count": 297,
     "metadata": {},
     "output_type": "execute_result"
    }
   ],
   "source": [
    "from shapely.ops import unary_union\n",
    "polygons = [Point(i, 0).buffer(0.7) for i in range(5)]\n",
    "unary_union(polygons)\n"
   ]
  },
  {
   "cell_type": "code",
   "execution_count": 298,
   "metadata": {},
   "outputs": [
    {
     "data": {
      "image/svg+xml": [
       "<svg xmlns=\"http://www.w3.org/2000/svg\" xmlns:xlink=\"http://www.w3.org/1999/xlink\" width=\"100.0\" height=\"100.0\" viewBox=\"-0.9159999999999999 -0.9159999999999999 5.832000000000001 1.8319999999999999\" preserveAspectRatio=\"xMinYMin meet\"><g transform=\"matrix(1,0,0,-1,0,0.0)\"><g><path fill-rule=\"evenodd\" fill=\"#ff3333\" stroke=\"#555555\" stroke-width=\"0.11664000000000002\" opacity=\"0.6\" d=\"M 0.7,0.0 L 0.6966293086705379,-0.06861199823069242 L 0.6865496962822613,-0.13656322541128976 L 0.6698582350125462,-0.20319927407812363 L 0.6467156727579007,-0.26787840265556284 L 0.6173448850438485,-0.32997771577819834 L 0.5820287286117817,-0.3888991631137215 L 0.5411073173539158,-0.44407529891455183 L 0.4949747468305833,-0.4949747468305833 L 0.44407529891455183,-0.5411073173539158 L 0.3888991631137216,-0.5820287286117817 L 0.32997771577819845,-0.6173448850438484 L 0.26787840265556284,-0.6467156727579007 L 0.20319927407812363,-0.6698582350125463 L 0.13656322541128982,-0.6865496962822613 L 0.06861199823069253,-0.6966293086705377 L 4.286263797015736e-17,-0.7 L -0.06861199823069244,-0.6966293086705379 L -0.13656322541128973,-0.6865496962822613 L -0.2031992740781235,-0.6698582350125463 L -0.2678784026555628,-0.6467156727579007 L -0.32997771577819834,-0.6173448850438485 L -0.38889916311372136,-0.5820287286117817 L -0.4440752989145517,-0.5411073173539159 L -0.4949747468305832,-0.4949747468305833 L -0.5411073173539158,-0.44407529891455183 L -0.5820287286117817,-0.3888991631137215 L -0.6173448850438484,-0.32997771577819845 L -0.6467156727579007,-0.2678784026555629 L -0.6698582350125462,-0.20319927407812366 L -0.6865496962822613,-0.13656322541129 L -0.6966293086705377,-0.06861199823069257 L -0.7,-8.572527594031472e-17 L -0.6966293086705379,0.0686119982306924 L -0.6865496962822613,0.13656322541128985 L -0.6698582350125463,0.20319927407812347 L -0.6467156727579008,0.26787840265556273 L -0.6173448850438485,0.32997771577819834 L -0.5820287286117818,0.38889916311372136 L -0.5411073173539159,0.44407529891455166 L -0.49497474683058335,0.4949747468305832 L -0.4440752989145521,0.5411073173539156 L -0.3888991631137215,0.5820287286117817 L -0.3299777157781985,0.6173448850438484 L -0.26787840265556323,0.6467156727579005 L -0.2031992740781237,0.6698582350125462 L -0.13656322541129007,0.6865496962822611 L -0.0686119982306923,0.6966293086705379 L -1.2858791391047207e-16,0.7 L 0.06861199823069206,0.6966293086705379 L 0.1365632254112898,0.6865496962822613 L 0.20319927407812344,0.6698582350125463 L 0.267878402655563,0.6467156727579007 L 0.3299777157781983,0.6173448850438485 L 0.38889916311372125,0.5820287286117818 L 0.4440752989145519,0.5411073173539158 L 0.4949747468305831,0.49497474683058335 L 0.5411073173539156,0.4440752989145521 L 0.5820287286117817,0.3888991631137215 L 0.6173448850438483,0.3299777157781985 L 0.6467156727579005,0.26787840265556323 L 0.6698582350125462,0.20319927407812374 L 0.6865496962822611,0.1365632254112901 L 0.6966293086705379,0.06861199823069235 L 0.7,0.0 z\" /><path fill-rule=\"evenodd\" fill=\"#ff3333\" stroke=\"#555555\" stroke-width=\"0.11664000000000002\" opacity=\"0.6\" d=\"M 1.7,0.0 L 1.6966293086705377,-0.06861199823069242 L 1.6865496962822613,-0.13656322541128976 L 1.6698582350125462,-0.20319927407812363 L 1.6467156727579007,-0.26787840265556284 L 1.6173448850438485,-0.32997771577819834 L 1.5820287286117818,-0.3888991631137215 L 1.5411073173539158,-0.44407529891455183 L 1.4949747468305832,-0.4949747468305833 L 1.4440752989145518,-0.5411073173539158 L 1.3888991631137215,-0.5820287286117817 L 1.3299777157781985,-0.6173448850438484 L 1.2678784026555627,-0.6467156727579007 L 1.2031992740781237,-0.6698582350125463 L 1.1365632254112898,-0.6865496962822613 L 1.0686119982306925,-0.6966293086705377 L 1.0,-0.7 L 0.9313880017693076,-0.6966293086705379 L 0.8634367745887103,-0.6865496962822613 L 0.7968007259218766,-0.6698582350125463 L 0.7321215973444373,-0.6467156727579007 L 0.6700222842218017,-0.6173448850438485 L 0.6111008368862787,-0.5820287286117817 L 0.5559247010854482,-0.5411073173539159 L 0.5050252531694168,-0.4949747468305833 L 0.4588926826460842,-0.44407529891455183 L 0.4179712713882183,-0.3888991631137215 L 0.38265511495615157,-0.32997771577819845 L 0.35328432724209935,-0.2678784026555629 L 0.33014176498745385,-0.20319927407812366 L 0.31345030371773874,-0.13656322541129 L 0.30337069132946226,-0.06861199823069257 L 0.30000000000000004,-8.572527594031472e-17 L 0.30337069132946215,0.0686119982306924 L 0.31345030371773874,0.13656322541128985 L 0.33014176498745373,0.20319927407812347 L 0.35328432724209924,0.26787840265556273 L 0.38265511495615145,0.32997771577819834 L 0.4179712713882182,0.38889916311372136 L 0.45889268264608407,0.44407529891455166 L 0.5050252531694166,0.4949747468305832 L 0.5559247010854479,0.5411073173539156 L 0.6111008368862785,0.5820287286117817 L 0.6700222842218015,0.6173448850438484 L 0.7321215973444368,0.6467156727579005 L 0.7968007259218763,0.6698582350125462 L 0.8634367745887099,0.6865496962822611 L 0.9313880017693077,0.6966293086705379 L 0.9999999999999999,0.7 L 1.068611998230692,0.6966293086705379 L 1.1365632254112898,0.6865496962822613 L 1.2031992740781234,0.6698582350125463 L 1.267878402655563,0.6467156727579007 L 1.3299777157781982,0.6173448850438485 L 1.3888991631137213,0.5820287286117818 L 1.444075298914552,0.5411073173539158 L 1.4949747468305832,0.49497474683058335 L 1.5411073173539156,0.4440752989145521 L 1.5820287286117818,0.3888991631137215 L 1.6173448850438483,0.3299777157781985 L 1.6467156727579004,0.26787840265556323 L 1.6698582350125462,0.20319927407812374 L 1.686549696282261,0.1365632254112901 L 1.6966293086705377,0.06861199823069235 L 1.7,0.0 z\" /><path fill-rule=\"evenodd\" fill=\"#ff3333\" stroke=\"#555555\" stroke-width=\"0.11664000000000002\" opacity=\"0.6\" d=\"M 2.7,0.0 L 2.6966293086705377,-0.06861199823069242 L 2.6865496962822615,-0.13656322541128976 L 2.669858235012546,-0.20319927407812363 L 2.6467156727579004,-0.26787840265556284 L 2.6173448850438485,-0.32997771577819834 L 2.582028728611782,-0.3888991631137215 L 2.541107317353916,-0.44407529891455183 L 2.494974746830583,-0.4949747468305833 L 2.444075298914552,-0.5411073173539158 L 2.3888991631137215,-0.5820287286117817 L 2.3299777157781985,-0.6173448850438484 L 2.2678784026555627,-0.6467156727579007 L 2.2031992740781234,-0.6698582350125463 L 2.13656322541129,-0.6865496962822613 L 2.0686119982306925,-0.6966293086705377 L 2.0,-0.7 L 1.9313880017693075,-0.6966293086705379 L 1.8634367745887102,-0.6865496962822613 L 1.7968007259218766,-0.6698582350125463 L 1.7321215973444373,-0.6467156727579007 L 1.6700222842218015,-0.6173448850438485 L 1.6111008368862787,-0.5820287286117817 L 1.5559247010854482,-0.5411073173539159 L 1.5050252531694168,-0.4949747468305833 L 1.4588926826460842,-0.44407529891455183 L 1.4179712713882182,-0.3888991631137215 L 1.3826551149561515,-0.32997771577819845 L 1.3532843272420993,-0.2678784026555629 L 1.3301417649874538,-0.20319927407812366 L 1.3134503037177387,-0.13656322541129 L 1.3033706913294623,-0.06861199823069257 L 1.3,-8.572527594031472e-17 L 1.3033706913294623,0.0686119982306924 L 1.3134503037177387,0.13656322541128985 L 1.3301417649874536,0.20319927407812347 L 1.3532843272420991,0.26787840265556273 L 1.3826551149561515,0.32997771577819834 L 1.4179712713882182,0.38889916311372136 L 1.4588926826460842,0.44407529891455166 L 1.5050252531694166,0.4949747468305832 L 1.555924701085448,0.5411073173539156 L 1.6111008368862785,0.5820287286117817 L 1.6700222842218015,0.6173448850438484 L 1.7321215973444368,0.6467156727579005 L 1.7968007259218763,0.6698582350125462 L 1.86343677458871,0.6865496962822611 L 1.9313880017693077,0.6966293086705379 L 1.9999999999999998,0.7 L 2.068611998230692,0.6966293086705379 L 2.13656322541129,0.6865496962822613 L 2.2031992740781234,0.6698582350125463 L 2.267878402655563,0.6467156727579007 L 2.3299777157781985,0.6173448850438485 L 2.388899163113721,0.5820287286117818 L 2.444075298914552,0.5411073173539158 L 2.494974746830583,0.49497474683058335 L 2.541107317353916,0.4440752989145521 L 2.582028728611782,0.3888991631137215 L 2.617344885043848,0.3299777157781985 L 2.6467156727579004,0.26787840265556323 L 2.669858235012546,0.20319927407812374 L 2.686549696282261,0.1365632254112901 L 2.6966293086705377,0.06861199823069235 L 2.7,0.0 z\" /><path fill-rule=\"evenodd\" fill=\"#ff3333\" stroke=\"#555555\" stroke-width=\"0.11664000000000002\" opacity=\"0.6\" d=\"M 3.7,0.0 L 3.6966293086705377,-0.06861199823069242 L 3.6865496962822615,-0.13656322541128976 L 3.669858235012546,-0.20319927407812363 L 3.6467156727579004,-0.26787840265556284 L 3.6173448850438485,-0.32997771577819834 L 3.582028728611782,-0.3888991631137215 L 3.541107317353916,-0.44407529891455183 L 3.494974746830583,-0.4949747468305833 L 3.444075298914552,-0.5411073173539158 L 3.3888991631137215,-0.5820287286117817 L 3.3299777157781985,-0.6173448850438484 L 3.2678784026555627,-0.6467156727579007 L 3.2031992740781234,-0.6698582350125463 L 3.13656322541129,-0.6865496962822613 L 3.0686119982306925,-0.6966293086705377 L 3.0,-0.7 L 2.9313880017693075,-0.6966293086705379 L 2.86343677458871,-0.6865496962822613 L 2.7968007259218766,-0.6698582350125463 L 2.7321215973444373,-0.6467156727579007 L 2.6700222842218015,-0.6173448850438485 L 2.6111008368862785,-0.5820287286117817 L 2.5559247010854484,-0.5411073173539159 L 2.505025253169417,-0.4949747468305833 L 2.458892682646084,-0.44407529891455183 L 2.417971271388218,-0.3888991631137215 L 2.3826551149561515,-0.32997771577819845 L 2.3532843272420996,-0.2678784026555629 L 2.330141764987454,-0.20319927407812366 L 2.3134503037177385,-0.13656322541129 L 2.3033706913294623,-0.06861199823069257 L 2.3,-8.572527594031472e-17 L 2.3033706913294623,0.0686119982306924 L 2.3134503037177385,0.13656322541128985 L 2.3301417649874536,0.20319927407812347 L 2.353284327242099,0.26787840265556273 L 2.3826551149561515,0.32997771577819834 L 2.417971271388218,0.38889916311372136 L 2.458892682646084,0.44407529891455166 L 2.505025253169417,0.4949747468305832 L 2.555924701085448,0.5411073173539156 L 2.6111008368862785,0.5820287286117817 L 2.6700222842218015,0.6173448850438484 L 2.732121597344437,0.6467156727579005 L 2.796800725921876,0.6698582350125462 L 2.8634367745887097,0.6865496962822611 L 2.9313880017693075,0.6966293086705379 L 3.0,0.7 L 3.068611998230692,0.6966293086705379 L 3.13656322541129,0.6865496962822613 L 3.2031992740781234,0.6698582350125463 L 3.267878402655563,0.6467156727579007 L 3.3299777157781985,0.6173448850438485 L 3.388899163113721,0.5820287286117818 L 3.444075298914552,0.5411073173539158 L 3.494974746830583,0.49497474683058335 L 3.541107317353916,0.4440752989145521 L 3.582028728611782,0.3888991631137215 L 3.617344885043848,0.3299777157781985 L 3.6467156727579004,0.26787840265556323 L 3.669858235012546,0.20319927407812374 L 3.686549696282261,0.1365632254112901 L 3.6966293086705377,0.06861199823069235 L 3.7,0.0 z\" /><path fill-rule=\"evenodd\" fill=\"#ff3333\" stroke=\"#555555\" stroke-width=\"0.11664000000000002\" opacity=\"0.6\" d=\"M 4.7,0.0 L 4.696629308670538,-0.06861199823069242 L 4.6865496962822615,-0.13656322541128976 L 4.669858235012546,-0.20319927407812363 L 4.6467156727579,-0.26787840265556284 L 4.617344885043849,-0.32997771577819834 L 4.582028728611782,-0.3888991631137215 L 4.541107317353916,-0.44407529891455183 L 4.494974746830583,-0.4949747468305833 L 4.4440752989145516,-0.5411073173539158 L 4.388899163113722,-0.5820287286117817 L 4.329977715778199,-0.6173448850438484 L 4.267878402655563,-0.6467156727579007 L 4.203199274078123,-0.6698582350125463 L 4.136563225411289,-0.6865496962822613 L 4.0686119982306925,-0.6966293086705377 L 4.0,-0.7 L 3.9313880017693075,-0.6966293086705379 L 3.86343677458871,-0.6865496962822613 L 3.7968007259218766,-0.6698582350125463 L 3.7321215973444373,-0.6467156727579007 L 3.6700222842218015,-0.6173448850438485 L 3.6111008368862785,-0.5820287286117817 L 3.5559247010854484,-0.5411073173539159 L 3.505025253169417,-0.4949747468305833 L 3.458892682646084,-0.44407529891455183 L 3.417971271388218,-0.3888991631137215 L 3.3826551149561515,-0.32997771577819845 L 3.3532843272420996,-0.2678784026555629 L 3.330141764987454,-0.20319927407812366 L 3.3134503037177385,-0.13656322541129 L 3.3033706913294623,-0.06861199823069257 L 3.3,-8.572527594031472e-17 L 3.3033706913294623,0.0686119982306924 L 3.3134503037177385,0.13656322541128985 L 3.3301417649874536,0.20319927407812347 L 3.353284327242099,0.26787840265556273 L 3.3826551149561515,0.32997771577819834 L 3.417971271388218,0.38889916311372136 L 3.458892682646084,0.44407529891455166 L 3.505025253169417,0.4949747468305832 L 3.555924701085448,0.5411073173539156 L 3.6111008368862785,0.5820287286117817 L 3.6700222842218015,0.6173448850438484 L 3.732121597344437,0.6467156727579005 L 3.796800725921876,0.6698582350125462 L 3.8634367745887097,0.6865496962822611 L 3.9313880017693075,0.6966293086705379 L 4.0,0.7 L 4.068611998230692,0.6966293086705379 L 4.136563225411289,0.6865496962822613 L 4.203199274078123,0.6698582350125463 L 4.267878402655563,0.6467156727579007 L 4.329977715778198,0.6173448850438485 L 4.388899163113721,0.5820287286117818 L 4.4440752989145516,0.5411073173539158 L 4.494974746830583,0.49497474683058335 L 4.541107317353916,0.4440752989145521 L 4.582028728611782,0.3888991631137215 L 4.617344885043848,0.3299777157781985 L 4.6467156727579,0.26787840265556323 L 4.669858235012546,0.20319927407812374 L 4.6865496962822615,0.1365632254112901 L 4.696629308670538,0.06861199823069235 L 4.7,0.0 z\" /></g></g></svg>"
      ],
      "text/plain": [
       "<shapely.geometry.multipolygon.MultiPolygon at 0x2a1b81192b0>"
      ]
     },
     "execution_count": 298,
     "metadata": {},
     "output_type": "execute_result"
    }
   ],
   "source": [
    "# Because the union merges the areas of overlapping Polygons it can be used \n",
    "# in an attempt to fix invalid MultiPolygons. As with the zero distance buffer() \n",
    "# trick, your mileage may vary when using this.\n",
    "\n",
    "m = MultiPolygon(polygons)\n",
    "m"
   ]
  },
  {
   "cell_type": "code",
   "execution_count": 299,
   "metadata": {},
   "outputs": [
    {
     "data": {
      "text/plain": [
       "7.684543801837549"
      ]
     },
     "execution_count": 299,
     "metadata": {},
     "output_type": "execute_result"
    }
   ],
   "source": [
    "m.area"
   ]
  },
  {
   "cell_type": "code",
   "execution_count": 300,
   "metadata": {},
   "outputs": [
    {
     "data": {
      "text/plain": [
       "False"
      ]
     },
     "execution_count": 300,
     "metadata": {},
     "output_type": "execute_result"
    }
   ],
   "source": [
    "m.is_valid"
   ]
  },
  {
   "cell_type": "code",
   "execution_count": 301,
   "metadata": {},
   "outputs": [
    {
     "data": {
      "text/plain": [
       "6.610301355116799"
      ]
     },
     "execution_count": 301,
     "metadata": {},
     "output_type": "execute_result"
    }
   ],
   "source": [
    "unary_union(m).area"
   ]
  },
  {
   "cell_type": "code",
   "execution_count": 302,
   "metadata": {},
   "outputs": [
    {
     "data": {
      "text/plain": [
       "True"
      ]
     },
     "execution_count": 302,
     "metadata": {},
     "output_type": "execute_result"
    }
   ],
   "source": [
    "unary_union(m).is_valid"
   ]
  },
  {
   "cell_type": "markdown",
   "metadata": {},
   "source": [
    "### Delaunay triangulation \n",
    "\n",
    "    Delaunay三角,临近点连线，但不会有相交线。\n",
    "    \n"
   ]
  },
  {
   "cell_type": "code",
   "execution_count": 304,
   "metadata": {},
   "outputs": [
    {
     "data": {
      "image/svg+xml": [
       "<svg xmlns=\"http://www.w3.org/2000/svg\" xmlns:xlink=\"http://www.w3.org/1999/xlink\" width=\"100.0\" height=\"100.0\" viewBox=\"-0.12 -0.12 3.24 2.24\" preserveAspectRatio=\"xMinYMin meet\"><g transform=\"matrix(1,0,0,-1,0,2.0)\"><g><circle cx=\"0.0\" cy=\"0.0\" r=\"0.09720000000000001\" stroke=\"#555555\" stroke-width=\"0.032400000000000005\" fill=\"#66cc99\" opacity=\"0.6\" /><circle cx=\"1.0\" cy=\"1.0\" r=\"0.09720000000000001\" stroke=\"#555555\" stroke-width=\"0.032400000000000005\" fill=\"#66cc99\" opacity=\"0.6\" /><circle cx=\"0.0\" cy=\"2.0\" r=\"0.09720000000000001\" stroke=\"#555555\" stroke-width=\"0.032400000000000005\" fill=\"#66cc99\" opacity=\"0.6\" /><circle cx=\"2.0\" cy=\"2.0\" r=\"0.09720000000000001\" stroke=\"#555555\" stroke-width=\"0.032400000000000005\" fill=\"#66cc99\" opacity=\"0.6\" /><circle cx=\"3.0\" cy=\"1.0\" r=\"0.09720000000000001\" stroke=\"#555555\" stroke-width=\"0.032400000000000005\" fill=\"#66cc99\" opacity=\"0.6\" /><circle cx=\"1.0\" cy=\"0.0\" r=\"0.09720000000000001\" stroke=\"#555555\" stroke-width=\"0.032400000000000005\" fill=\"#66cc99\" opacity=\"0.6\" /></g></g></svg>"
      ],
      "text/plain": [
       "<shapely.geometry.multipoint.MultiPoint at 0x2a1b8119b50>"
      ]
     },
     "execution_count": 304,
     "metadata": {},
     "output_type": "execute_result"
    }
   ],
   "source": [
    "from shapely.ops import triangulate\n",
    "points = MultiPoint([(0, 0), (1, 1), (0, 2), (2, 2), (3, 1), (1, 0)])\n",
    "triangles = triangulate(points)\n",
    "points"
   ]
  },
  {
   "cell_type": "code",
   "execution_count": 306,
   "metadata": {},
   "outputs": [
    {
     "data": {
      "image/svg+xml": [
       "<svg xmlns=\"http://www.w3.org/2000/svg\" xmlns:xlink=\"http://www.w3.org/1999/xlink\" width=\"100.0\" height=\"100.0\" viewBox=\"-0.12 -0.12 3.24 2.24\" preserveAspectRatio=\"xMinYMin meet\"><g transform=\"matrix(1,0,0,-1,0,2.0)\"><g><path fill-rule=\"evenodd\" fill=\"#ff3333\" stroke=\"#555555\" stroke-width=\"0.06480000000000001\" opacity=\"0.6\" d=\"M 0.0,2.0 L 0.0,0.0 L 1.0,1.0 L 0.0,2.0 z\" /><path fill-rule=\"evenodd\" fill=\"#ff3333\" stroke=\"#555555\" stroke-width=\"0.06480000000000001\" opacity=\"0.6\" d=\"M 0.0,2.0 L 1.0,1.0 L 2.0,2.0 L 0.0,2.0 z\" /><path fill-rule=\"evenodd\" fill=\"#ff3333\" stroke=\"#555555\" stroke-width=\"0.06480000000000001\" opacity=\"0.6\" d=\"M 2.0,2.0 L 1.0,1.0 L 3.0,1.0 L 2.0,2.0 z\" /><path fill-rule=\"evenodd\" fill=\"#ff3333\" stroke=\"#555555\" stroke-width=\"0.06480000000000001\" opacity=\"0.6\" d=\"M 3.0,1.0 L 1.0,1.0 L 1.0,0.0 L 3.0,1.0 z\" /><path fill-rule=\"evenodd\" fill=\"#ff3333\" stroke=\"#555555\" stroke-width=\"0.06480000000000001\" opacity=\"0.6\" d=\"M 1.0,0.0 L 1.0,1.0 L 0.0,0.0 L 1.0,0.0 z\" /></g></g></svg>"
      ],
      "text/plain": [
       "<shapely.geometry.multipolygon.MultiPolygon at 0x2a1b7ba0b20>"
      ]
     },
     "execution_count": 306,
     "metadata": {},
     "output_type": "execute_result"
    }
   ],
   "source": [
    "MultiPolygon(triangles)"
   ]
  },
  {
   "cell_type": "markdown",
   "metadata": {},
   "source": [
    "### Voronoi Diagram"
   ]
  },
  {
   "cell_type": "code",
   "execution_count": 308,
   "metadata": {},
   "outputs": [
    {
     "data": {
      "image/svg+xml": [
       "<svg xmlns=\"http://www.w3.org/2000/svg\" xmlns:xlink=\"http://www.w3.org/1999/xlink\" width=\"100.0\" height=\"100.0\" viewBox=\"-0.12 -0.12 3.24 2.24\" preserveAspectRatio=\"xMinYMin meet\"><g transform=\"matrix(1,0,0,-1,0,2.0)\"><g><circle cx=\"0.0\" cy=\"0.0\" r=\"0.09720000000000001\" stroke=\"#555555\" stroke-width=\"0.032400000000000005\" fill=\"#66cc99\" opacity=\"0.6\" /><circle cx=\"1.0\" cy=\"1.0\" r=\"0.09720000000000001\" stroke=\"#555555\" stroke-width=\"0.032400000000000005\" fill=\"#66cc99\" opacity=\"0.6\" /><circle cx=\"0.0\" cy=\"2.0\" r=\"0.09720000000000001\" stroke=\"#555555\" stroke-width=\"0.032400000000000005\" fill=\"#66cc99\" opacity=\"0.6\" /><circle cx=\"2.0\" cy=\"2.0\" r=\"0.09720000000000001\" stroke=\"#555555\" stroke-width=\"0.032400000000000005\" fill=\"#66cc99\" opacity=\"0.6\" /><circle cx=\"3.0\" cy=\"1.0\" r=\"0.09720000000000001\" stroke=\"#555555\" stroke-width=\"0.032400000000000005\" fill=\"#66cc99\" opacity=\"0.6\" /><circle cx=\"1.0\" cy=\"0.0\" r=\"0.09720000000000001\" stroke=\"#555555\" stroke-width=\"0.032400000000000005\" fill=\"#66cc99\" opacity=\"0.6\" /></g></g></svg>"
      ],
      "text/plain": [
       "<shapely.geometry.multipoint.MultiPoint at 0x2a1b8e5d3a0>"
      ]
     },
     "execution_count": 308,
     "metadata": {},
     "output_type": "execute_result"
    }
   ],
   "source": [
    "from shapely.ops import voronoi_diagram\n",
    "points = MultiPoint([(0, 0), (1, 1), (0, 2), (2, 2), (3, 1), (1, 0)])\n",
    "regions = voronoi_diagram(points)\n",
    "points"
   ]
  },
  {
   "cell_type": "code",
   "execution_count": 309,
   "metadata": {},
   "outputs": [
    {
     "data": {
      "image/svg+xml": [
       "<svg xmlns=\"http://www.w3.org/2000/svg\" xmlns:xlink=\"http://www.w3.org/1999/xlink\" width=\"100.0\" height=\"100.0\" viewBox=\"-3.36 -3.36 9.72 8.72\" preserveAspectRatio=\"xMinYMin meet\"><g transform=\"matrix(1,0,0,-1,0,2.0000000000000004)\"><g><path fill-rule=\"evenodd\" fill=\"#66cc99\" stroke=\"#555555\" stroke-width=\"0.19440000000000002\" opacity=\"0.6\" d=\"M 2.0,1.0 L 2.0,0.5 L 0.5,0.5 L 0.0,1.0 L 1.0,2.0 L 2.0,1.0 z\" /><path fill-rule=\"evenodd\" fill=\"#66cc99\" stroke=\"#555555\" stroke-width=\"0.19440000000000002\" opacity=\"0.6\" d=\"M 6.0,-3.0 L 3.7499999999999996,-3.0 L 2.0,0.5 L 2.0,1.0 L 6.0,5.0 L 6.0,-3.0 z\" /><path fill-rule=\"evenodd\" fill=\"#66cc99\" stroke=\"#555555\" stroke-width=\"0.19440000000000002\" opacity=\"0.6\" d=\"M -3.0,-3.0 L -3.0,1.0 L 0.0,1.0 L 0.5,0.5 L 0.5,-3.0 L -3.0,-3.0 z\" /><path fill-rule=\"evenodd\" fill=\"#66cc99\" stroke=\"#555555\" stroke-width=\"0.19440000000000002\" opacity=\"0.6\" d=\"M 0.5,-3.0 L 0.5,0.5 L 2.0,0.5 L 3.7499999999999996,-3.0 L 0.5,-3.0 z\" /><path fill-rule=\"evenodd\" fill=\"#66cc99\" stroke=\"#555555\" stroke-width=\"0.19440000000000002\" opacity=\"0.6\" d=\"M -3.0,5.0 L 1.0,5.0 L 1.0,2.0 L 0.0,1.0 L -3.0,1.0 L -3.0,5.0 z\" /><path fill-rule=\"evenodd\" fill=\"#66cc99\" stroke=\"#555555\" stroke-width=\"0.19440000000000002\" opacity=\"0.6\" d=\"M 6.0,5.0 L 2.0,1.0 L 1.0,2.0 L 1.0,5.0 L 6.0,5.0 z\" /></g></g></svg>"
      ],
      "text/plain": [
       "<shapely.geometry.collection.GeometryCollection at 0x2a1b7506790>"
      ]
     },
     "execution_count": 309,
     "metadata": {},
     "output_type": "execute_result"
    }
   ],
   "source": [
    "regions"
   ]
  },
  {
   "cell_type": "markdown",
   "metadata": {},
   "source": [
    "### Nearest points"
   ]
  },
  {
   "cell_type": "code",
   "execution_count": 310,
   "metadata": {},
   "outputs": [
    {
     "data": {
      "image/svg+xml": [
       "<svg xmlns=\"http://www.w3.org/2000/svg\" xmlns:xlink=\"http://www.w3.org/1999/xlink\" width=\"100.0\" height=\"100.0\" viewBox=\"-0.12 -0.12 1.2400000000000002 3.24\" preserveAspectRatio=\"xMinYMin meet\"><g transform=\"matrix(1,0,0,-1,0,3.0)\"><g><path fill-rule=\"evenodd\" fill=\"#66cc99\" stroke=\"#555555\" stroke-width=\"0.06480000000000001\" opacity=\"0.6\" d=\"M 0.0,0.0 L 1.0,0.0 L 0.5,1.0 L 0.0,0.0 z\" /><path fill-rule=\"evenodd\" fill=\"#66cc99\" stroke=\"#555555\" stroke-width=\"0.06480000000000001\" opacity=\"0.6\" d=\"M 0.0,2.0 L 1.0,2.0 L 1.0,3.0 L 0.0,3.0 L 0.0,2.0 z\" /></g></g></svg>"
      ],
      "text/plain": [
       "<shapely.geometry.multipolygon.MultiPolygon at 0x2a1b862ea90>"
      ]
     },
     "execution_count": 310,
     "metadata": {},
     "output_type": "execute_result"
    }
   ],
   "source": [
    "from shapely.ops import nearest_points\n",
    "triangle = Polygon([(0, 0), (1, 0), (0.5, 1), (0, 0)])\n",
    "square = Polygon([(0, 2), (1, 2), (1, 3), (0, 3), (0, 2)])\n",
    "MultiPolygon([triangle, square])"
   ]
  },
  {
   "cell_type": "code",
   "execution_count": 314,
   "metadata": {},
   "outputs": [
    {
     "data": {
      "image/svg+xml": [
       "<svg xmlns=\"http://www.w3.org/2000/svg\" xmlns:xlink=\"http://www.w3.org/1999/xlink\" width=\"100.0\" height=\"100.0\" viewBox=\"0.46 0.96 0.08000000000000002 1.08\" preserveAspectRatio=\"xMinYMin meet\"><g transform=\"matrix(1,0,0,-1,0,3.0)\"><g><circle cx=\"0.5\" cy=\"1.0\" r=\"0.0324\" stroke=\"#555555\" stroke-width=\"0.0108\" fill=\"#66cc99\" opacity=\"0.6\" /><circle cx=\"0.5\" cy=\"2.0\" r=\"0.0324\" stroke=\"#555555\" stroke-width=\"0.0108\" fill=\"#66cc99\" opacity=\"0.6\" /></g></g></svg>"
      ],
      "text/plain": [
       "<shapely.geometry.multipoint.MultiPoint at 0x2a1b82ff8b0>"
      ]
     },
     "execution_count": 314,
     "metadata": {},
     "output_type": "execute_result"
    }
   ],
   "source": [
    "MultiPoint([o for o in nearest_points(triangle, square)])"
   ]
  },
  {
   "cell_type": "code",
   "execution_count": 315,
   "metadata": {},
   "outputs": [
    {
     "data": {
      "text/plain": [
       "['POINT (0.5 1)', 'POINT (0.5 2)']"
      ]
     },
     "execution_count": 315,
     "metadata": {},
     "output_type": "execute_result"
    }
   ],
   "source": [
    "[o.wkt for o in nearest_points(triangle, square)]"
   ]
  },
  {
   "cell_type": "markdown",
   "metadata": {},
   "source": [
    "### Snapping\n",
    "\n",
    "snaps the vertices in one geometry to the vertices in a second geometry with a given tolerance."
   ]
  },
  {
   "cell_type": "code",
   "execution_count": 319,
   "metadata": {},
   "outputs": [
    {
     "data": {
      "image/svg+xml": [
       "<svg xmlns=\"http://www.w3.org/2000/svg\" xmlns:xlink=\"http://www.w3.org/1999/xlink\" width=\"100.0\" height=\"100.0\" viewBox=\"0.96 0.96 1.08 1.08\" preserveAspectRatio=\"xMinYMin meet\"><g transform=\"matrix(1,0,0,-1,0,3.0)\"><path fill-rule=\"evenodd\" fill=\"#66cc99\" stroke=\"#555555\" stroke-width=\"0.0216\" opacity=\"0.6\" d=\"M 1.0,1.0 L 2.0,1.0 L 2.0,2.0 L 1.0,2.0 L 1.0,1.0 z\" /></g></svg>"
      ],
      "text/plain": [
       "<shapely.geometry.polygon.Polygon at 0x2a1b8638f40>"
      ]
     },
     "execution_count": 319,
     "metadata": {},
     "output_type": "execute_result"
    }
   ],
   "source": [
    "from shapely.ops import snap\n",
    "square = Polygon([(1,1), (2, 1), (2, 2), (1, 2), (1, 1)])\n",
    "line = LineString([(0,0), (0.8, 0.8), (1.8, 0.95), (2.6, 0.5)])\n",
    "square"
   ]
  },
  {
   "cell_type": "code",
   "execution_count": 320,
   "metadata": {},
   "outputs": [
    {
     "data": {
      "image/svg+xml": [
       "<svg xmlns=\"http://www.w3.org/2000/svg\" xmlns:xlink=\"http://www.w3.org/1999/xlink\" width=\"100.0\" height=\"100.0\" viewBox=\"-0.10400000000000001 -0.10400000000000001 2.8080000000000003 1.1580000000000001\" preserveAspectRatio=\"xMinYMin meet\"><g transform=\"matrix(1,0,0,-1,0,0.9500000000000001)\"><polyline fill=\"none\" stroke=\"#66cc99\" stroke-width=\"0.05616000000000001\" points=\"0.0,0.0 0.8,0.8 1.8,0.95 2.6,0.5\" opacity=\"0.8\" /></g></svg>"
      ],
      "text/plain": [
       "<shapely.geometry.linestring.LineString at 0x2a1b8638700>"
      ]
     },
     "execution_count": 320,
     "metadata": {},
     "output_type": "execute_result"
    }
   ],
   "source": [
    "line"
   ]
  },
  {
   "cell_type": "code",
   "execution_count": 325,
   "metadata": {},
   "outputs": [
    {
     "data": {
      "image/svg+xml": [
       "<svg xmlns=\"http://www.w3.org/2000/svg\" xmlns:xlink=\"http://www.w3.org/1999/xlink\" width=\"100.0\" height=\"100.0\" viewBox=\"-0.10400000000000001 -0.10400000000000001 2.8080000000000003 1.2080000000000002\" preserveAspectRatio=\"xMinYMin meet\"><g transform=\"matrix(1,0,0,-1,0,1.0)\"><polyline fill=\"none\" stroke=\"#66cc99\" stroke-width=\"0.05616000000000001\" points=\"0.0,0.0 1.0,1.0 2.0,1.0 2.6,0.5\" opacity=\"0.8\" /></g></svg>"
      ],
      "text/plain": [
       "<shapely.geometry.linestring.LineString at 0x2a1b8638940>"
      ]
     },
     "execution_count": 325,
     "metadata": {},
     "output_type": "execute_result"
    }
   ],
   "source": [
    "result = snap(line, square, 0.5)\n",
    "result"
   ]
  },
  {
   "cell_type": "code",
   "execution_count": 323,
   "metadata": {},
   "outputs": [
    {
     "data": {
      "text/plain": [
       "'LINESTRING (0 0, 1 1, 2 1, 2.6 0.5)'"
      ]
     },
     "execution_count": 323,
     "metadata": {},
     "output_type": "execute_result"
    }
   ],
   "source": [
    "result.wkt"
   ]
  },
  {
   "cell_type": "code",
   "execution_count": 324,
   "metadata": {},
   "outputs": [
    {
     "data": {
      "text/plain": [
       "'LINESTRING (0 0, 0.8 0.8, 1.8 0.95, 2.6 0.5)'"
      ]
     },
     "execution_count": 324,
     "metadata": {},
     "output_type": "execute_result"
    }
   ],
   "source": [
    "line.wkt"
   ]
  },
  {
   "cell_type": "markdown",
   "metadata": {},
   "source": [
    "### Shared paths\n",
    "\n",
    "finds the shared paths between two linear geometries."
   ]
  },
  {
   "cell_type": "code",
   "execution_count": 333,
   "metadata": {},
   "outputs": [
    {
     "data": {
      "image/svg+xml": [
       "<svg xmlns=\"http://www.w3.org/2000/svg\" xmlns:xlink=\"http://www.w3.org/1999/xlink\" width=\"100.0\" height=\"100.0\" viewBox=\"-1.2 -1.2 32.4 7.4\" preserveAspectRatio=\"xMinYMin meet\"><g transform=\"matrix(1,0,0,-1,0,5.0)\"><g><polyline fill=\"none\" stroke=\"#66cc99\" stroke-width=\"0.648\" points=\"0.0,0.0 10.0,0.0 10.0,5.0 20.0,5.0\" opacity=\"0.8\" /><polyline fill=\"none\" stroke=\"#66cc99\" stroke-width=\"0.648\" points=\"5.0,0.0 30.0,0.0 30.0,5.0 0.0,5.0\" opacity=\"0.8\" /></g></g></svg>"
      ],
      "text/plain": [
       "<shapely.geometry.multilinestring.MultiLineString at 0x2a1b871cc10>"
      ]
     },
     "execution_count": 333,
     "metadata": {},
     "output_type": "execute_result"
    }
   ],
   "source": [
    "from shapely.ops import shared_paths\n",
    "g1 = LineString([(0, 0), (10, 0), (10, 5), (20, 5)])\n",
    "g2 = LineString([(5, 0), (30, 0), (30, 5), (0, 5)])\n",
    "forward, backward = shared_paths(g1, g2).geoms\n",
    "MultiLineString([g1, g2 ])"
   ]
  },
  {
   "cell_type": "code",
   "execution_count": 330,
   "metadata": {},
   "outputs": [
    {
     "data": {
      "image/svg+xml": [
       "<svg xmlns=\"http://www.w3.org/2000/svg\" xmlns:xlink=\"http://www.w3.org/1999/xlink\" width=\"100.0\" height=\"100.0\" viewBox=\"4.8 -0.2 5.3999999999999995 0.4\" preserveAspectRatio=\"xMinYMin meet\"><g transform=\"matrix(1,0,0,-1,0,0.0)\"><g><polyline fill=\"none\" stroke=\"#66cc99\" stroke-width=\"0.10799999999999998\" points=\"5.0,0.0 10.0,0.0\" opacity=\"0.8\" /></g></g></svg>"
      ],
      "text/plain": [
       "<shapely.geometry.multilinestring.MultiLineString at 0x2a1b8221130>"
      ]
     },
     "execution_count": 330,
     "metadata": {},
     "output_type": "execute_result"
    }
   ],
   "source": [
    "forward"
   ]
  },
  {
   "cell_type": "code",
   "execution_count": 331,
   "metadata": {},
   "outputs": [
    {
     "data": {
      "image/svg+xml": [
       "<svg xmlns=\"http://www.w3.org/2000/svg\" xmlns:xlink=\"http://www.w3.org/1999/xlink\" width=\"100.0\" height=\"100.0\" viewBox=\"9.6 4.6 10.799999999999999 0.8000000000000007\" preserveAspectRatio=\"xMinYMin meet\"><g transform=\"matrix(1,0,0,-1,0,10.0)\"><g><polyline fill=\"none\" stroke=\"#66cc99\" stroke-width=\"0.21599999999999997\" points=\"10.0,5.0 20.0,5.0\" opacity=\"0.8\" /></g></g></svg>"
      ],
      "text/plain": [
       "<shapely.geometry.multilinestring.MultiLineString at 0x2a1b8221b80>"
      ]
     },
     "execution_count": 331,
     "metadata": {},
     "output_type": "execute_result"
    }
   ],
   "source": [
    "backward"
   ]
  },
  {
   "cell_type": "markdown",
   "metadata": {},
   "source": [
    "### Splitting\n",
    "\n",
    "splits a geometry by another geometry.\n",
    "\n",
    "Splits a geometry by another geometry and returns a collection of geometries.\n",
    "\n",
    "The function supports:\n",
    "\n",
    "- Splitting a (Multi)LineString by a (Multi)Point or (Multi)LineString or (Multi)Polygon boundary\n",
    "\n",
    "- Splitting a (Multi)Polygon by a LineString"
   ]
  },
  {
   "cell_type": "code",
   "execution_count": 335,
   "metadata": {},
   "outputs": [
    {
     "data": {
      "text/plain": [
       "'GEOMETRYCOLLECTION (LINESTRING (0 0, 1 1), LINESTRING (1 1, 2 2))'"
      ]
     },
     "execution_count": 335,
     "metadata": {},
     "output_type": "execute_result"
    }
   ],
   "source": [
    "from shapely.ops import split\n",
    "pt = Point((1, 1))\n",
    "line = LineString([(0,0), (2,2)])\n",
    "result = split(line, pt)\n",
    "result.wkt"
   ]
  },
  {
   "cell_type": "markdown",
   "metadata": {},
   "source": [
    "### Substring\n",
    "\n",
    "returns a line segment between specified distances along a LineString."
   ]
  },
  {
   "cell_type": "code",
   "execution_count": 336,
   "metadata": {},
   "outputs": [
    {
     "data": {
      "text/plain": [
       "'LINESTRING (0 0, 1 0, 2 0, 3 0, 4 0, 5 0)'"
      ]
     },
     "execution_count": 336,
     "metadata": {},
     "output_type": "execute_result"
    }
   ],
   "source": [
    "from shapely.geometry import LineString\n",
    "from shapely.ops import substring\n",
    "ls = LineString((i, 0) for i in range(6))\n",
    "ls.wkt"
   ]
  },
  {
   "cell_type": "code",
   "execution_count": 339,
   "metadata": {},
   "outputs": [
    {
     "data": {
      "text/plain": [
       "'LINESTRING (1 0, 2 0, 3 0)'"
      ]
     },
     "execution_count": 339,
     "metadata": {},
     "output_type": "execute_result"
    }
   ],
   "source": [
    "substring(ls, start_dist=1, end_dist=3).wkt"
   ]
  },
  {
   "cell_type": "code",
   "execution_count": 340,
   "metadata": {},
   "outputs": [
    {
     "data": {
      "text/plain": [
       "'LINESTRING (3 0, 2 0, 1 0)'"
      ]
     },
     "execution_count": 340,
     "metadata": {},
     "output_type": "execute_result"
    }
   ],
   "source": [
    "substring(ls, start_dist=3, end_dist=1).wkt"
   ]
  },
  {
   "cell_type": "code",
   "execution_count": 341,
   "metadata": {},
   "outputs": [
    {
     "data": {
      "text/plain": [
       "'LINESTRING (1 0, 2 0)'"
      ]
     },
     "execution_count": 341,
     "metadata": {},
     "output_type": "execute_result"
    }
   ],
   "source": [
    "substring(ls, start_dist=1, end_dist=-3).wkt"
   ]
  },
  {
   "cell_type": "code",
   "execution_count": 342,
   "metadata": {},
   "outputs": [
    {
     "data": {
      "text/plain": [
       "'LINESTRING (1 0, 2 0)'"
      ]
     },
     "execution_count": 342,
     "metadata": {},
     "output_type": "execute_result"
    }
   ],
   "source": [
    "substring(ls, start_dist=0.2, end_dist=-0.6, normalized=True).wkt"
   ]
  },
  {
   "cell_type": "code",
   "execution_count": 343,
   "metadata": {},
   "outputs": [
    {
     "data": {
      "image/svg+xml": [
       "<svg xmlns=\"http://www.w3.org/2000/svg\" xmlns:xlink=\"http://www.w3.org/1999/xlink\" width=\"100.0\" height=\"100.0\" viewBox=\"1.5 -1.0 2.0 2.0\" preserveAspectRatio=\"xMinYMin meet\"><g transform=\"matrix(1,0,0,-1,0,0.0)\"><circle cx=\"2.5\" cy=\"0.0\" r=\"0.06\" stroke=\"#555555\" stroke-width=\"0.02\" fill=\"#66cc99\" opacity=\"0.6\" /></g></svg>"
      ],
      "text/plain": [
       "<shapely.geometry.point.Point at 0x2a1b81402e0>"
      ]
     },
     "execution_count": 343,
     "metadata": {},
     "output_type": "execute_result"
    }
   ],
   "source": [
    "substring(ls, start_dist=2.5, end_dist=-2.5)"
   ]
  },
  {
   "cell_type": "markdown",
   "metadata": {},
   "source": [
    "## Prepared Geometry Operations\n",
    "\n",
    "Shapely可以被处理为支持更有效的操作批次的状态。\n",
    "\n",
    "To test one polygon containment against a large batch of points, one should first use the prepared.prep() function."
   ]
  },
  {
   "cell_type": "code",
   "execution_count": 344,
   "metadata": {},
   "outputs": [
    {
     "data": {
      "text/plain": [
       "<shapely.prepared.PreparedGeometry at 0x2a1b7ba04f0>"
      ]
     },
     "execution_count": 344,
     "metadata": {},
     "output_type": "execute_result"
    }
   ],
   "source": [
    "from shapely.geometry import Point\n",
    "from shapely.prepared import prep\n",
    "points = [...] # large list of points\n",
    "polygon = Point(0.0, 0.0).buffer(1.0)\n",
    "prepared_polygon = prep(polygon)\n",
    "prepared_polygon"
   ]
  },
  {
   "cell_type": "markdown",
   "metadata": {},
   "source": [
    "Prepared geometries instances have the following methods: contains, contains_properly, covers, and intersects.\n",
    "\n",
    "准备好的几何实例具有以下方法：包含，包含，封面和相交。"
   ]
  },
  {
   "cell_type": "markdown",
   "metadata": {},
   "source": [
    "## Diagnostics\n",
    "\n",
    "Returns a string explaining the validity or invalidity of the object.\n"
   ]
  },
  {
   "cell_type": "code",
   "execution_count": 345,
   "metadata": {},
   "outputs": [
    {
     "data": {
      "text/plain": [
       "'Ring Self-intersection[1 1]'"
      ]
     },
     "execution_count": 345,
     "metadata": {},
     "output_type": "execute_result"
    }
   ],
   "source": [
    "coords = [(0, 0), (0, 2), (1, 1), (2, 2), (2, 0), (1, 1), (0, 0)]\n",
    "p = Polygon(coords)\n",
    "from shapely.validation import explain_validity\n",
    "explain_validity(p)\n",
    "# Returns a string explaining the validity or invalidity of the object."
   ]
  },
  {
   "cell_type": "code",
   "execution_count": 346,
   "metadata": {},
   "outputs": [
    {
     "data": {
      "text/plain": [
       "'MULTIPOLYGON (((1 1, 0 0, 0 2, 1 1)), ((2 0, 1 1, 2 2, 2 0)))'"
      ]
     },
     "execution_count": 346,
     "metadata": {},
     "output_type": "execute_result"
    }
   ],
   "source": [
    "from shapely.validation import make_valid\n",
    "coords = [(0, 0), (0, 2), (1, 1), (2, 2), (2, 0), (1, 1), (0, 0)]\n",
    "p = Polygon(coords)\n",
    "str(make_valid(p))\n",
    "# Returns a valid representation of the geometry, if it is invalid. \n",
    "# If it is valid, the input geometry will be returned."
   ]
  },
  {
   "cell_type": "code",
   "execution_count": 347,
   "metadata": {},
   "outputs": [
    {
     "data": {
      "text/plain": [
       "'GEOMETRYCOLLECTION (POLYGON ((2 0, 0 0, 0 1, 2 0)), LINESTRING (0 2, 0 1))'"
      ]
     },
     "execution_count": 347,
     "metadata": {},
     "output_type": "execute_result"
    }
   ],
   "source": [
    "from shapely.validation import make_valid\n",
    "coords = [(0, 2), (0, 1), (2, 0), (0, 0), (0, 2)]\n",
    "p = Polygon(coords)\n",
    "str(make_valid(p))"
   ]
  },
  {
   "cell_type": "markdown",
   "metadata": {},
   "source": [
    "## Polylabel\n",
    "\n",
    "Finds the approximate location of the pole of inaccessibility for a given polygon. Based on Vladimir Agafonkin’s [polylabel](https://github.com/mapbox/polylabel).\n",
    "\n",
    "求一个模型的（近似）最内部点，该点到模型的任意边都是最远的。与模型的重心(centroid)不同。常用于在模型中添加文字标签时的最佳位置。\n",
    "\n",
    "![polylabel](https://cloud.githubusercontent.com/assets/25395/16745865/864a0a30-47c0-11e6-87bc-58acac41a520.png)"
   ]
  },
  {
   "cell_type": "code",
   "execution_count": 348,
   "metadata": {},
   "outputs": [
    {
     "data": {
      "text/plain": [
       "'POINT (59.35615556364569 121.83919629746435)'"
      ]
     },
     "execution_count": 348,
     "metadata": {},
     "output_type": "execute_result"
    }
   ],
   "source": [
    "from shapely.ops import polylabel\n",
    "polygon = LineString([(0, 0), (50, 200), (100, 100), (20, 50),\n",
    "(-100, -20), (-150, -200)]).buffer(100)\n",
    "label = polylabel(polygon, tolerance=10)\n",
    "label.wkt"
   ]
  },
  {
   "cell_type": "markdown",
   "metadata": {},
   "source": [
    "## STR-packed R-tree\n",
    "\n",
    "Shapely provides an interface to the query-only GEOS R-tree packed using the Sort-Tile-Recursive algorithm. Pass a list of geometry objects to the STRtree constructor to create a spatial index that you can query with another geometric object. Query-only means that once created, the STRtree is immutable. You cannot add or remove geometries."
   ]
  },
  {
   "cell_type": "code",
   "execution_count": 13,
   "metadata": {},
   "outputs": [
    {
     "data": {
      "text/plain": [
       "[<shapely.geometry.point.Point at 0x24e015aabb0>]"
      ]
     },
     "execution_count": 13,
     "metadata": {},
     "output_type": "execute_result"
    }
   ],
   "source": [
    "from shapely.strtree import STRtree\n",
    "from shapely.geometry import Point\n",
    "points = [Point(i, i) for i in range(10)]\n",
    "tree = STRtree(points)\n",
    "query_geom = Point(2,2).buffer(0.99)\n",
    "[o.wkt for o in tree.query(query_geom)]\n",
    "# Returns a list of all geometries in the strtree whose extents intersect the extent of geom."
   ]
  },
  {
   "cell_type": "code",
   "execution_count": 15,
   "metadata": {},
   "outputs": [
    {
     "data": {
      "text/plain": [
       "['POINT (1 1)', 'POINT (2 2)', 'POINT (3 3)']"
      ]
     },
     "execution_count": 15,
     "metadata": {},
     "output_type": "execute_result"
    }
   ],
   "source": [
    "query_geom = Point(2, 2).buffer(1.0)\n",
    "[o.wkt for o in tree.query(query_geom)]"
   ]
  },
  {
   "cell_type": "markdown",
   "metadata": {},
   "source": [
    "This means that a subsequent search through the returned subset using the desired binary predicate (eg. intersects, crosses, contains, overlaps) may be necessary to further filter the results according to their specific spatial relationships.”"
   ]
  },
  {
   "cell_type": "code",
   "execution_count": 16,
   "metadata": {},
   "outputs": [
    {
     "data": {
      "text/plain": [
       "['POINT (2 2)']"
      ]
     },
     "execution_count": 16,
     "metadata": {},
     "output_type": "execute_result"
    }
   ],
   "source": [
    "[o.wkt for o in tree.query(query_geom) if o.intersects(query_geom)]"
   ]
  },
  {
   "cell_type": "markdown",
   "metadata": {},
   "source": [
    "To get the original indexes of the query results, create an auxiliary dictionary. But use the geometry ids as keys since the shapely geometries themselves are not hashable. \n",
    "过的查询结果的原始序列ID，需要使用一个辅助字典来存储。因为shapely模型本身并非可哈希的。"
   ]
  },
  {
   "cell_type": "code",
   "execution_count": 17,
   "metadata": {},
   "outputs": [
    {
     "data": {
      "text/plain": [
       "[(1, 'POINT (1 1)'), (2, 'POINT (2 2)'), (3, 'POINT (3 3)')]"
      ]
     },
     "execution_count": 17,
     "metadata": {},
     "output_type": "execute_result"
    }
   ],
   "source": [
    "index_by_id = dict((id(pt), i) for i, pt in enumerate(points))\n",
    "[(index_by_id[id(pt)], pt.wkt) for pt in tree.query(Point(2,2).buffer(1.0))]"
   ]
  },
  {
   "cell_type": "markdown",
   "metadata": {},
   "source": [
    "**strtree.nearest(geom)**\n",
    "\n",
    "Returns the nearest geometry in strtree to geom."
   ]
  },
  {
   "cell_type": "code",
   "execution_count": 18,
   "metadata": {},
   "outputs": [
    {
     "data": {
      "text/plain": [
       "'POINT (2 2)'"
      ]
     },
     "execution_count": 18,
     "metadata": {},
     "output_type": "execute_result"
    }
   ],
   "source": [
    "tree = STRtree([Point(i, i) for i in range(10)])\n",
    "tree.nearest(Point(2.2, 2.2)).wkt"
   ]
  },
  {
   "cell_type": "markdown",
   "metadata": {},
   "source": [
    "## Interoperation 互动\n",
    "\n",
    "一共4种途径。\n",
    "\n",
    "### Well-Known Formats\n",
    "\n",
    "- Well Known Text (WKT)\n",
    "\n",
    "- Well Known Binary (WKB) "
   ]
  },
  {
   "cell_type": "code",
   "execution_count": 20,
   "metadata": {},
   "outputs": [
    {
     "data": {
      "text/plain": [
       "'POINT (0 0)'"
      ]
     },
     "execution_count": 20,
     "metadata": {},
     "output_type": "execute_result"
    }
   ],
   "source": [
    "Point(0, 0).wkt"
   ]
  },
  {
   "cell_type": "code",
   "execution_count": 22,
   "metadata": {},
   "outputs": [
    {
     "data": {
      "text/plain": [
       "b'\\x01\\x01\\x00\\x00\\x00\\x00\\x00\\x00\\x00\\x00\\x00\\x00\\x00\\x00\\x00\\x00\\x00\\x00\\x00\\x00\\x00'"
      ]
     },
     "execution_count": 22,
     "metadata": {},
     "output_type": "execute_result"
    }
   ],
   "source": [
    "Point(0, 0).wkb"
   ]
  },
  {
   "cell_type": "markdown",
   "metadata": {},
   "source": [
    "- 序列化方法：dumps()\n",
    "\n",
    "To serialize a geometric object to a binary or text string, use dumps().\n",
    "    \n",
    "    shapely.wkb.dumps(ob)\n",
    "\n",
    "        Returns a WKB representation of ob.\n",
    "    \n",
    "\n",
    "- 反序列化方法：loads()\n",
    "\n",
    "To deserialize a string and get a new geometric object of the appropriate type, use loads().\n",
    "    \n",
    "    shapely.wkb.loads(wkb)\n",
    "        \n",
    "        Returns a geometric object from a WKB representation wkb."
   ]
  },
  {
   "cell_type": "code",
   "execution_count": 23,
   "metadata": {},
   "outputs": [
    {
     "data": {
      "text/plain": [
       "b'\\x01\\x01\\x00\\x00\\x00\\x00\\x00\\x00\\x00\\x00\\x00\\x00\\x00\\x00\\x00\\x00\\x00\\x00\\x00\\x00\\x00'"
      ]
     },
     "execution_count": 23,
     "metadata": {},
     "output_type": "execute_result"
    }
   ],
   "source": [
    "from shapely import wkb\n",
    "pt = Point(0, 0)\n",
    "wkb.dumps(pt)"
   ]
  },
  {
   "cell_type": "code",
   "execution_count": 24,
   "metadata": {},
   "outputs": [
    {
     "data": {
      "text/plain": [
       "'POINT (0 0)'"
      ]
     },
     "execution_count": 24,
     "metadata": {},
     "output_type": "execute_result"
    }
   ],
   "source": [
    "wkb.loads(pt.wkb).wkt"
   ]
  },
  {
   "cell_type": "markdown",
   "metadata": {},
   "source": [
    "- shapely.wkt.dumps(ob)\n",
    "\n",
    "Returns a WKT representation of ob. Several keyword arguments are available to alter the WKT which is returned; see the docstrings for more details.\n",
    "\n",
    "- shapely.wkt.loads(wkt)\n",
    "\n",
    "Returns a geometric object from a WKT representation wkt."
   ]
  },
  {
   "cell_type": "code",
   "execution_count": 25,
   "metadata": {},
   "outputs": [
    {
     "data": {
      "text/plain": [
       "'POINT (0.0000000000000000 0.0000000000000000)'"
      ]
     },
     "execution_count": 25,
     "metadata": {},
     "output_type": "execute_result"
    }
   ],
   "source": [
    "from shapely import wkt\n",
    "pt = Point(0, 0)\n",
    "thewkt = wkt.dumps(pt)\n",
    "thewkt"
   ]
  },
  {
   "cell_type": "code",
   "execution_count": 26,
   "metadata": {},
   "outputs": [
    {
     "data": {
      "text/plain": [
       "'POINT (0 0)'"
      ]
     },
     "execution_count": 26,
     "metadata": {},
     "output_type": "execute_result"
    }
   ],
   "source": [
    "pt.wkt"
   ]
  },
  {
   "cell_type": "code",
   "execution_count": 27,
   "metadata": {},
   "outputs": [
    {
     "data": {
      "text/plain": [
       "'POINT (0 0)'"
      ]
     },
     "execution_count": 27,
     "metadata": {},
     "output_type": "execute_result"
    }
   ],
   "source": [
    "wkt.dumps(pt, trim=True)"
   ]
  },
  {
   "cell_type": "markdown",
   "metadata": {},
   "source": [
    "## Numpy and Python Arrays\n",
    "\n",
    "All geometric objects with coordinate sequences (Point, LinearRing, LineString) provide the Numpy array interface and can thereby be converted or adapted to Numpy arrays."
   ]
  },
  {
   "cell_type": "code",
   "execution_count": 30,
   "metadata": {},
   "outputs": [
    {
     "data": {
      "text/plain": [
       "array([[0., 0.]])"
      ]
     },
     "execution_count": 30,
     "metadata": {},
     "output_type": "execute_result"
    }
   ],
   "source": [
    "from numpy import asarray\n",
    "\n",
    "asarray(Point(0, 0).coords)"
   ]
  },
  {
   "cell_type": "code",
   "execution_count": 34,
   "metadata": {},
   "outputs": [
    {
     "data": {
      "text/plain": [
       "array([[0., 0.],\n",
       "       [1., 1.]])"
      ]
     },
     "execution_count": 34,
     "metadata": {},
     "output_type": "execute_result"
    }
   ],
   "source": [
    "from shapely.geometry import LineString\n",
    "asarray(LineString([(0, 0), (1, 1)]).coords)"
   ]
  },
  {
   "cell_type": "code",
   "execution_count": 35,
   "metadata": {},
   "outputs": [
    {
     "data": {
      "text/plain": [
       "(array('d', [0.0]), array('d', [0.0]))"
      ]
     },
     "execution_count": 35,
     "metadata": {},
     "output_type": "execute_result"
    }
   ],
   "source": [
    "Point(0,0).xy"
   ]
  },
  {
   "cell_type": "code",
   "execution_count": 36,
   "metadata": {},
   "outputs": [
    {
     "data": {
      "text/plain": [
       "(array('d', [0.0, 1.0]), array('d', [0.0, 1.0]))"
      ]
     },
     "execution_count": 36,
     "metadata": {},
     "output_type": "execute_result"
    }
   ],
   "source": [
    "LineString([(0, 0), (1, 1)]).xy"
   ]
  },
  {
   "cell_type": "code",
   "execution_count": 56,
   "metadata": {},
   "outputs": [
    {
     "name": "stderr",
     "output_type": "stream",
     "text": [
      "Exception ignored in: <function BaseGeometry.__del__ at 0x0000024E0155E5E0>\n",
      "Traceback (most recent call last):\n",
      "  File \"C:\\Users\\zhongkailiu.TENCENT\\Anaconda3\\lib\\site-packages\\shapely\\geometry\\base.py\", line 209, in __del__\n",
      "    self._empty(val=None)\n",
      "  File \"C:\\Users\\zhongkailiu.TENCENT\\Anaconda3\\lib\\site-packages\\shapely\\geometry\\base.py\", line 199, in _empty\n",
      "    self._is_empty = True\n",
      "  File \"C:\\Users\\zhongkailiu.TENCENT\\Anaconda3\\lib\\site-packages\\shapely\\geometry\\proxy.py\", line 44, in __setattr__\n",
      "    object.__setattr__(self, name, value)\n",
      "AttributeError: can't set attribute\n"
     ]
    },
    {
     "data": {
      "text/plain": [
       "'POINT (0 0)'"
      ]
     },
     "execution_count": 56,
     "metadata": {},
     "output_type": "execute_result"
    }
   ],
   "source": [
    "from shapely.geometry import asPoint\n",
    "from numpy import array\n",
    "pa = asPoint(array([0.0, 0.0]))\n",
    "pa.wkt"
   ]
  },
  {
   "cell_type": "code",
   "execution_count": 57,
   "metadata": {},
   "outputs": [
    {
     "name": "stderr",
     "output_type": "stream",
     "text": [
      "Exception ignored in: <function BaseGeometry.__del__ at 0x0000024E0155E5E0>\n",
      "Traceback (most recent call last):\n",
      "  File \"C:\\Users\\zhongkailiu.TENCENT\\Anaconda3\\lib\\site-packages\\shapely\\geometry\\base.py\", line 209, in __del__\n",
      "    self._empty(val=None)\n",
      "  File \"C:\\Users\\zhongkailiu.TENCENT\\Anaconda3\\lib\\site-packages\\shapely\\geometry\\base.py\", line 199, in _empty\n",
      "    self._is_empty = True\n",
      "  File \"C:\\Users\\zhongkailiu.TENCENT\\Anaconda3\\lib\\site-packages\\shapely\\geometry\\proxy.py\", line 44, in __setattr__\n",
      "    object.__setattr__(self, name, value)\n",
      "AttributeError: can't set attribute\n"
     ]
    },
    {
     "data": {
      "text/plain": [
       "'LINESTRING (1 2, 3 4)'"
      ]
     },
     "execution_count": 57,
     "metadata": {},
     "output_type": "execute_result"
    }
   ],
   "source": [
    "from shapely.geometry import asLineString\n",
    "la = asLineString(array([[1.0, 2.0], [3.0, 4.0]]))\n",
    "la.wkt"
   ]
  },
  {
   "cell_type": "code",
   "execution_count": 58,
   "metadata": {},
   "outputs": [
    {
     "name": "stderr",
     "output_type": "stream",
     "text": [
      "Exception ignored in: <function BaseGeometry.__del__ at 0x0000024E0155E5E0>\n",
      "Traceback (most recent call last):\n",
      "  File \"C:\\Users\\zhongkailiu.TENCENT\\Anaconda3\\lib\\site-packages\\shapely\\geometry\\base.py\", line 209, in __del__\n",
      "    self._empty(val=None)\n",
      "  File \"C:\\Users\\zhongkailiu.TENCENT\\Anaconda3\\lib\\site-packages\\shapely\\geometry\\base.py\", line 199, in _empty\n",
      "    self._is_empty = True\n",
      "  File \"C:\\Users\\zhongkailiu.TENCENT\\Anaconda3\\lib\\site-packages\\shapely\\geometry\\proxy.py\", line 44, in __setattr__\n",
      "    object.__setattr__(self, name, value)\n",
      "AttributeError: can't set attribute\n"
     ]
    },
    {
     "data": {
      "text/plain": [
       "'MULTIPOINT (1.1 2.2, 3.3 4.4, 5.5 6.6)'"
      ]
     },
     "execution_count": 58,
     "metadata": {},
     "output_type": "execute_result"
    }
   ],
   "source": [
    "from shapely.geometry import asMultiPoint\n",
    "import numpy as np\n",
    "ma = asMultiPoint(np.array([[1.1, 2.2], [3.3, 4.4], [5.5, 6.6]]))\n",
    "ma.wkt"
   ]
  },
  {
   "cell_type": "code",
   "execution_count": 59,
   "metadata": {},
   "outputs": [
    {
     "name": "stderr",
     "output_type": "stream",
     "text": [
      "Exception ignored in: <function BaseGeometry.__del__ at 0x0000024E0155E5E0>\n",
      "Traceback (most recent call last):\n",
      "  File \"C:\\Users\\zhongkailiu.TENCENT\\Anaconda3\\lib\\site-packages\\shapely\\geometry\\base.py\", line 209, in __del__\n",
      "    self._empty(val=None)\n",
      "  File \"C:\\Users\\zhongkailiu.TENCENT\\Anaconda3\\lib\\site-packages\\shapely\\geometry\\base.py\", line 199, in _empty\n",
      "    self._is_empty = True\n",
      "  File \"C:\\Users\\zhongkailiu.TENCENT\\Anaconda3\\lib\\site-packages\\shapely\\geometry\\proxy.py\", line 44, in __setattr__\n",
      "    object.__setattr__(self, name, value)\n",
      "AttributeError: can't set attribute\n"
     ]
    },
    {
     "data": {
      "text/plain": [
       "'POLYGON ((1.1 2.2, 3.3 4.4, 5.5 6.6, 1.1 2.2))'"
      ]
     },
     "execution_count": 59,
     "metadata": {},
     "output_type": "execute_result"
    }
   ],
   "source": [
    "from shapely.geometry import asPolygon\n",
    "pa = asPolygon(np.array([[1.1, 2.2], [3.3, 4.4], [5.5, 6.6]]))\n",
    "pa.wkt"
   ]
  },
  {
   "cell_type": "markdown",
   "metadata": {},
   "source": [
    "## Python Geo Interface\n",
    "\n",
    "Any object that provides the GeoJSON-like Python geo interface can be adapted and used as a Shapely geometry using the shapely.geometry.asShape() or shapely.geometry.shape() functions.\n",
    "\n",
    "- shapely.geometry.asShape(context)\n",
    "    \n",
    "    Adapts the context to a geometry interface. The coordinates remain stored in the context.\n",
    "    \n",
    "\n",
    "- shapely.geometry.shape(context)\n",
    "    \n",
    "    Returns a new, independent geometry with coordinates copied from the context."
   ]
  },
  {
   "cell_type": "code",
   "execution_count": 61,
   "metadata": {},
   "outputs": [
    {
     "data": {
      "text/plain": [
       "'Point'"
      ]
     },
     "execution_count": 61,
     "metadata": {},
     "output_type": "execute_result"
    }
   ],
   "source": [
    "from shapely.geometry import shape\n",
    "data = {\"type\": \"Point\", \"coordinates\": (0.0, 0.0)}\n",
    "geom = shape(data)\n",
    "geom.geom_type"
   ]
  },
  {
   "cell_type": "code",
   "execution_count": 62,
   "metadata": {},
   "outputs": [
    {
     "data": {
      "text/plain": [
       "[(0.0, 0.0)]"
      ]
     },
     "execution_count": 62,
     "metadata": {},
     "output_type": "execute_result"
    }
   ],
   "source": [
    "list(geom.coords)"
   ]
  },
  {
   "cell_type": "code",
   "execution_count": 63,
   "metadata": {},
   "outputs": [
    {
     "data": {
      "text/plain": [
       "'Point'"
      ]
     },
     "execution_count": 63,
     "metadata": {},
     "output_type": "execute_result"
    }
   ],
   "source": [
    "class GeoThing:\n",
    "    def __init__(self, d):\n",
    "        self.__geo_interface__ = d\n",
    "        \n",
    "thing = GeoThing({\"type\": \"Point\", \"coordinates\": (0.0, 0.0)})\n",
    "\n",
    "geom = shape(thing)\n",
    "geom.geom_type"
   ]
  },
  {
   "cell_type": "code",
   "execution_count": 64,
   "metadata": {},
   "outputs": [
    {
     "data": {
      "text/plain": [
       "[(0.0, 0.0)]"
      ]
     },
     "execution_count": 64,
     "metadata": {},
     "output_type": "execute_result"
    }
   ],
   "source": [
    "list(geom.coords)"
   ]
  },
  {
   "cell_type": "markdown",
   "metadata": {},
   "source": [
    "The GeoJSON-like mapping of a geometric object can be obtained using shapely.geometry.mapping().\n",
    "\n",
    "- shapely.geometry.mapping(ob)\n",
    "\n",
    "    Returns a new, independent geometry with coordinates copied from the context."
   ]
  },
  {
   "cell_type": "code",
   "execution_count": 65,
   "metadata": {},
   "outputs": [
    {
     "data": {
      "text/plain": [
       "'Point'"
      ]
     },
     "execution_count": 65,
     "metadata": {},
     "output_type": "execute_result"
    }
   ],
   "source": [
    "from shapely.geometry import mapping\n",
    "thing = GeoThing({\"type\": \"Point\", \"coordinates\": (0.0, 0.0)})\n",
    "m = mapping(thing)\n",
    "m['type']"
   ]
  },
  {
   "cell_type": "code",
   "execution_count": 66,
   "metadata": {},
   "outputs": [
    {
     "data": {
      "text/plain": [
       "(0.0, 0.0)"
      ]
     },
     "execution_count": 66,
     "metadata": {},
     "output_type": "execute_result"
    }
   ],
   "source": [
    "m['coordinates']"
   ]
  },
  {
   "cell_type": "code",
   "execution_count": 67,
   "metadata": {},
   "outputs": [
    {
     "data": {
      "text/plain": [
       "{'type': 'Point', 'coordinates': (0.0, 0.0)}"
      ]
     },
     "execution_count": 67,
     "metadata": {},
     "output_type": "execute_result"
    }
   ],
   "source": [
    "m"
   ]
  },
  {
   "cell_type": "code",
   "execution_count": 68,
   "metadata": {},
   "outputs": [
    {
     "data": {
      "text/plain": [
       "<__main__.GeoThing at 0x24e015dc160>"
      ]
     },
     "execution_count": 68,
     "metadata": {},
     "output_type": "execute_result"
    }
   ],
   "source": [
    "thing"
   ]
  },
  {
   "cell_type": "code",
   "execution_count": 70,
   "metadata": {},
   "outputs": [
    {
     "data": {
      "image/svg+xml": [
       "<svg xmlns=\"http://www.w3.org/2000/svg\" xmlns:xlink=\"http://www.w3.org/1999/xlink\" width=\"100.0\" height=\"100.0\" viewBox=\"-1.0 -1.0 2.0 2.0\" preserveAspectRatio=\"xMinYMin meet\"><g transform=\"matrix(1,0,0,-1,0,0.0)\"><circle cx=\"0.0\" cy=\"0.0\" r=\"0.06\" stroke=\"#555555\" stroke-width=\"0.02\" fill=\"#66cc99\" opacity=\"0.6\" /></g></svg>"
      ],
      "text/plain": [
       "<shapely.geometry.point.Point at 0x24e015dc550>"
      ]
     },
     "execution_count": 70,
     "metadata": {},
     "output_type": "execute_result"
    }
   ],
   "source": [
    "geom = shape(thing)\n",
    "geom"
   ]
  },
  {
   "cell_type": "markdown",
   "metadata": {},
   "source": [
    "## Performance\n",
    "\n",
    "The shapely.speedups module contains performance enhancements written in C. They are automatically installed when Python has access to a compiler and GEOS development headers during installation.\n",
    "\n",
    "You can check if the speedups are installed with the available attribute. To enable the speedups call enable(). You can revert to the slow implementation with disable().\n"
   ]
  },
  {
   "cell_type": "code",
   "execution_count": 71,
   "metadata": {},
   "outputs": [
    {
     "data": {
      "text/plain": [
       "True"
      ]
     },
     "execution_count": 71,
     "metadata": {},
     "output_type": "execute_result"
    }
   ],
   "source": [
    "from shapely import speedups\n",
    "speedups.available"
   ]
  },
  {
   "cell_type": "code",
   "execution_count": 73,
   "metadata": {},
   "outputs": [],
   "source": [
    "speedups.enable()"
   ]
  },
  {
   "cell_type": "code",
   "execution_count": 74,
   "metadata": {},
   "outputs": [
    {
     "data": {
      "text/plain": [
       "True"
      ]
     },
     "execution_count": 74,
     "metadata": {},
     "output_type": "execute_result"
    }
   ],
   "source": [
    "speedups.enabled"
   ]
  },
  {
   "cell_type": "code",
   "execution_count": null,
   "metadata": {},
   "outputs": [],
   "source": []
  }
 ],
 "metadata": {
  "kernelspec": {
   "display_name": "Python 3 (ipykernel)",
   "language": "python",
   "name": "python3"
  },
  "language_info": {
   "codemirror_mode": {
    "name": "ipython",
    "version": 3
   },
   "file_extension": ".py",
   "mimetype": "text/x-python",
   "name": "python",
   "nbconvert_exporter": "python",
   "pygments_lexer": "ipython3",
   "version": "3.9.7"
  }
 },
 "nbformat": 4,
 "nbformat_minor": 1
}
