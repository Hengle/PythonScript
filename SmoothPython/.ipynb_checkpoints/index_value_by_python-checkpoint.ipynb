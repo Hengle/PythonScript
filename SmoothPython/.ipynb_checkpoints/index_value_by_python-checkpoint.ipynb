{
 "cells": [
  {
   "cell_type": "code",
   "execution_count": 7,
   "metadata": {},
   "outputs": [
    {
     "ename": "Exception",
     "evalue": "抱歉，您没有访问该接口的权限，权限的具体详情访问：https://tushare.pro/document/1?doc_id=108。",
     "output_type": "error",
     "traceback": [
      "\u001b[0;31m---------------------------------------------------------------------------\u001b[0m",
      "\u001b[0;31mException\u001b[0m                                 Traceback (most recent call last)",
      "\u001b[0;32m<ipython-input-7-c7f40aa6ddb4>\u001b[0m in \u001b[0;36m<module>\u001b[0;34m\u001b[0m\n\u001b[1;32m     10\u001b[0m \u001b[0mpro\u001b[0m \u001b[0;34m=\u001b[0m \u001b[0mts\u001b[0m\u001b[0;34m.\u001b[0m\u001b[0mpro_api\u001b[0m\u001b[0;34m(\u001b[0m\u001b[0;34m'7dc39867da616d1570e708a70325d4f51836fdec52cd8c3fc92885b6'\u001b[0m\u001b[0;34m)\u001b[0m\u001b[0;34m\u001b[0m\u001b[0;34m\u001b[0m\u001b[0m\n\u001b[1;32m     11\u001b[0m \u001b[0;34m\u001b[0m\u001b[0m\n\u001b[0;32m---> 12\u001b[0;31m index_df = pro.index_dailybasic(ts_code='000001.SH', start_date='20130101',\n\u001b[0m\u001b[1;32m     13\u001b[0m                                end_date='20201201',fields='trad_date,pe_ttm')\n\u001b[1;32m     14\u001b[0m \u001b[0mindex_df\u001b[0m\u001b[0;34m\u001b[0m\u001b[0;34m\u001b[0m\u001b[0m\n",
      "\u001b[0;32m/opt/anaconda3/lib/python3.8/site-packages/tushare/pro/client.py\u001b[0m in \u001b[0;36mquery\u001b[0;34m(self, api_name, fields, **kwargs)\u001b[0m\n\u001b[1;32m     42\u001b[0m             \u001b[0mresult\u001b[0m \u001b[0;34m=\u001b[0m \u001b[0mjson\u001b[0m\u001b[0;34m.\u001b[0m\u001b[0mloads\u001b[0m\u001b[0;34m(\u001b[0m\u001b[0mres\u001b[0m\u001b[0;34m.\u001b[0m\u001b[0mtext\u001b[0m\u001b[0;34m)\u001b[0m\u001b[0;34m\u001b[0m\u001b[0;34m\u001b[0m\u001b[0m\n\u001b[1;32m     43\u001b[0m             \u001b[0;32mif\u001b[0m \u001b[0mresult\u001b[0m\u001b[0;34m[\u001b[0m\u001b[0;34m'code'\u001b[0m\u001b[0;34m]\u001b[0m \u001b[0;34m!=\u001b[0m \u001b[0;36m0\u001b[0m\u001b[0;34m:\u001b[0m\u001b[0;34m\u001b[0m\u001b[0;34m\u001b[0m\u001b[0m\n\u001b[0;32m---> 44\u001b[0;31m                 \u001b[0;32mraise\u001b[0m \u001b[0mException\u001b[0m\u001b[0;34m(\u001b[0m\u001b[0mresult\u001b[0m\u001b[0;34m[\u001b[0m\u001b[0;34m'msg'\u001b[0m\u001b[0;34m]\u001b[0m\u001b[0;34m)\u001b[0m\u001b[0;34m\u001b[0m\u001b[0;34m\u001b[0m\u001b[0m\n\u001b[0m\u001b[1;32m     45\u001b[0m             \u001b[0mdata\u001b[0m \u001b[0;34m=\u001b[0m \u001b[0mresult\u001b[0m\u001b[0;34m[\u001b[0m\u001b[0;34m'data'\u001b[0m\u001b[0;34m]\u001b[0m\u001b[0;34m\u001b[0m\u001b[0;34m\u001b[0m\u001b[0m\n\u001b[1;32m     46\u001b[0m             \u001b[0mcolumns\u001b[0m \u001b[0;34m=\u001b[0m \u001b[0mdata\u001b[0m\u001b[0;34m[\u001b[0m\u001b[0;34m'fields'\u001b[0m\u001b[0;34m]\u001b[0m\u001b[0;34m\u001b[0m\u001b[0;34m\u001b[0m\u001b[0m\n",
      "\u001b[0;31mException\u001b[0m: 抱歉，您没有访问该接口的权限，权限的具体详情访问：https://tushare.pro/document/1?doc_id=108。"
     ]
    }
   ],
   "source": [
    "import pandas as pd\n",
    "import numpy as np\n",
    "import matplotlib.pyplot as plt\n",
    "import tushare as ts\n",
    "%matplotlib inline\n",
    "#设置显示中文\n",
    "plt.rcParams['font.sans-serif'] = 'FangSong'\n",
    "\n",
    "pro = ts.pro_api()\n",
    "\n",
    "index_df = pro.index_dailybasic(ts_code = \"000001.SH\",start_date = \"20130101\",\n",
    "                                end_date = \"20200311\",fields=\"trade_date,pe_ttm\")\n",
    "index_df.sort_values(by=\"trade_date\",inplace=True)\n",
    "x = pd.to_datetime(index_df[\"trade_date\"]).values\n",
    "y = index_df[\"pe_ttm\"].values\n",
    "\n"
   ]
  },
  {
   "cell_type": "code",
   "execution_count": 8,
   "metadata": {},
   "outputs": [
    {
     "name": "stdout",
     "output_type": "stream",
     "text": [
      "login success!\n",
      "login respond error_code:0\n",
      "login respond  error_msg:success\n",
      "query_history_k_data_plus respond error_code:0\n",
      "query_history_k_data_plus respond  error_msg:success\n",
      "           date       code       open       high        low      close  \\\n",
      "0    2017-01-03  sh.000001  3105.3080  3136.4550  3105.3080  3135.9200   \n",
      "1    2017-01-04  sh.000001  3133.7870  3160.1020  3130.1140  3158.7940   \n",
      "2    2017-01-05  sh.000001  3157.9060  3168.5020  3154.2810  3165.4100   \n",
      "3    2017-01-06  sh.000001  3163.7760  3172.0340  3153.0250  3154.3210   \n",
      "4    2017-01-09  sh.000001  3148.5310  3173.1360  3147.7350  3171.2360   \n",
      "..          ...        ...        ...        ...        ...        ...   \n",
      "114  2017-06-26  sh.000001  3157.0020  3187.8890  3156.9760  3185.4430   \n",
      "115  2017-06-27  sh.000001  3183.4190  3193.4610  3172.4630  3191.1960   \n",
      "116  2017-06-28  sh.000001  3183.6330  3193.4390  3170.7850  3173.2010   \n",
      "117  2017-06-29  sh.000001  3174.9810  3188.7740  3174.2830  3188.0620   \n",
      "118  2017-06-30  sh.000001  3176.9480  3193.2410  3171.5700  3192.4260   \n",
      "\n",
      "      preclose       volume             amount     pctChg  \n",
      "0    3103.6370  14156718592  159887138816.0000   1.040200  \n",
      "1    3135.9200  16786085120  195914293248.0000   0.729400  \n",
      "2    3158.7940  17472764416  199692025856.0000   0.209400  \n",
      "3    3165.4100  18370896640  207296036864.0000  -0.350300  \n",
      "4    3154.3210  17171407616  192110579712.0000   0.536200  \n",
      "..         ...          ...                ...        ...  \n",
      "114  3157.8730  17357921024  200419303424.0000   0.873100  \n",
      "115  3185.4430  14820119808  167523799040.0000   0.180600  \n",
      "116  3191.1960  14651672064  162081099776.0000  -0.563900  \n",
      "117  3173.2010  12875547136  147249799168.0000   0.468300  \n",
      "118  3188.0630  12146454272  143195602944.0000   0.136900  \n",
      "\n",
      "[119 rows x 10 columns]\n",
      "logout success!\n"
     ]
    },
    {
     "data": {
      "text/plain": [
       "<baostock.data.resultset.ResultData at 0x7fe382702880>"
      ]
     },
     "execution_count": 8,
     "metadata": {},
     "output_type": "execute_result"
    }
   ],
   "source": [
    "import baostock as bs\n",
    "import pandas as pd\n",
    "\n",
    "# 登陆系统\n",
    "lg = bs.login()\n",
    "# 显示登陆返回信息\n",
    "print('login respond error_code:'+lg.error_code)\n",
    "print('login respond  error_msg:'+lg.error_msg)\n",
    "\n",
    "# 获取指数(综合指数、规模指数、一级行业指数、二级行业指数、策略指数、成长指数、价值指数、主题指数)K线数据\n",
    "# 综合指数，例如：sh.000001 上证指数，sz.399106 深证综指 等；\n",
    "# 规模指数，例如：sh.000016 上证50，sh.000300 沪深300，sh.000905 中证500，sz.399001 深证成指等；\n",
    "# 一级行业指数，例如：sh.000037 上证医药，sz.399433 国证交运 等；\n",
    "# 二级行业指数，例如：sh.000952 300地产，sz.399951 300银行 等；\n",
    "# 策略指数，例如：sh.000050 50等权，sh.000982 500等权 等；\n",
    "# 成长指数，例如：sz.399376 小盘成长 等；\n",
    "# 价值指数，例如：sh.000029 180价值 等；\n",
    "# 主题指数，例如：sh.000015 红利指数，sh.000063 上证周期 等；\n",
    "\n",
    "\n",
    "# 详细指标参数，参见“历史行情指标参数”章节；“周月线”参数与“日线”参数不同。\n",
    "# 周月线指标：date,code,open,high,low,close,volume,amount,adjustflag,turn,pctChg\n",
    "rs = bs.query_history_k_data_plus(\"sh.000001\",\n",
    "    \"date,code,open,high,low,close,preclose,volume,amount,pctChg\",\n",
    "    start_date='2017-01-01', end_date='2017-06-30', frequency=\"d\")\n",
    "print('query_history_k_data_plus respond error_code:'+rs.error_code)\n",
    "print('query_history_k_data_plus respond  error_msg:'+rs.error_msg)\n",
    "\n",
    "# 打印结果集\n",
    "data_list = []\n",
    "while (rs.error_code == '0') & rs.next():\n",
    "    # 获取一条记录，将记录合并在一起\n",
    "    data_list.append(rs.get_row_data())\n",
    "result = pd.DataFrame(data_list, columns=rs.fields)\n",
    "# 结果集输出到csv文件\n",
    "result.to_csv(\"D:\\\\history_Index_k_data.csv\", index=False)\n",
    "print(result)\n",
    "\n",
    "# 登出系统\n",
    "bs.logout()"
   ]
  },
  {
   "cell_type": "code",
   "execution_count": 9,
   "metadata": {},
   "outputs": [
    {
     "name": "stdout",
     "output_type": "stream",
     "text": [
      "login success!\n",
      "login respond error_code:0\n",
      "login respond  error_msg:success\n",
      "query_history_k_data_plus respond error_code:0\n",
      "query_history_k_data_plus respond  error_msg:success\n",
      "           date       code    close     peTTM     pbMRQ     psTTM  pcfNcfTTM\n",
      "0    2015-01-05  sh.600000  16.0700  6.530320  1.295783  2.555270  -9.848905\n",
      "1    2015-01-06  sh.600000  16.1300  6.398990  1.300621  2.448213  -9.885678\n",
      "2    2015-01-07  sh.600000  15.8100  6.272041  1.274818  2.399643  -9.689558\n",
      "3    2015-01-08  sh.600000  15.2500  6.049882  1.229664  2.314647  -9.346348\n",
      "4    2015-01-09  sh.600000  15.4300  6.121290  1.244178  2.341967  -9.456665\n",
      "..          ...        ...      ...       ...       ...       ...        ...\n",
      "727  2017-12-25  sh.600000  12.5900  6.804447  0.953811  2.244659  -1.985017\n",
      "728  2017-12-26  sh.600000  12.6400  6.831470  0.957599  2.253573  -1.992900\n",
      "729  2017-12-27  sh.600000  12.6200  6.820661  0.956084  2.250008  -1.989747\n",
      "730  2017-12-28  sh.600000  12.5400  6.777423  0.950023  2.235744  -1.977134\n",
      "731  2017-12-29  sh.600000  12.5900  6.804447  0.953811  2.244659  -1.985017\n",
      "\n",
      "[732 rows x 7 columns]\n",
      "logout success!\n"
     ]
    },
    {
     "data": {
      "text/plain": [
       "<baostock.data.resultset.ResultData at 0x7fe382718c10>"
      ]
     },
     "execution_count": 9,
     "metadata": {},
     "output_type": "execute_result"
    }
   ],
   "source": [
    "import baostock as bs\n",
    "import pandas as pd\n",
    "\n",
    "#### 登陆系统 ####\n",
    "lg = bs.login()\n",
    "# 显示登陆返回信息\n",
    "print('login respond error_code:'+lg.error_code)\n",
    "print('login respond  error_msg:'+lg.error_msg)\n",
    "\n",
    "#### 获取沪深A股估值指标(日频)数据 ####\n",
    "# peTTM    滚动市盈率\n",
    "# psTTM    滚动市销率\n",
    "# pcfNcfTTM    滚动市现率\n",
    "# pbMRQ    市净率\n",
    "rs = bs.query_history_k_data_plus(\"sh.600000\",\n",
    "    \"date,code,close,peTTM,pbMRQ,psTTM,pcfNcfTTM\",\n",
    "    start_date='2015-01-01', end_date='2017-12-31', \n",
    "    frequency=\"d\", adjustflag=\"3\")\n",
    "print('query_history_k_data_plus respond error_code:'+rs.error_code)\n",
    "print('query_history_k_data_plus respond  error_msg:'+rs.error_msg)\n",
    "\n",
    "#### 打印结果集 ####\n",
    "result_list = []\n",
    "while (rs.error_code == '0') & rs.next():\n",
    "    # 获取一条记录，将记录合并在一起\n",
    "    result_list.append(rs.get_row_data())\n",
    "result = pd.DataFrame(result_list, columns=rs.fields)\n",
    "\n",
    "#### 结果集输出到csv文件 ####\n",
    "result.to_csv(\"D:\\\\history_A_stock_valuation_indicator_data.csv\", encoding=\"gbk\", index=False)\n",
    "print(result)\n",
    "\n",
    "#### 登出系统 ####\n",
    "bs.logout()\n"
   ]
  },
  {
   "cell_type": "code",
   "execution_count": null,
   "metadata": {},
   "outputs": [],
   "source": []
  }
 ],
 "metadata": {
  "kernelspec": {
   "display_name": "Python 3",
   "language": "python",
   "name": "python3"
  },
  "language_info": {
   "codemirror_mode": {
    "name": "ipython",
    "version": 3
   },
   "file_extension": ".py",
   "mimetype": "text/x-python",
   "name": "python",
   "nbconvert_exporter": "python",
   "pygments_lexer": "ipython3",
   "version": "3.8.5"
  }
 },
 "nbformat": 4,
 "nbformat_minor": 4
}
