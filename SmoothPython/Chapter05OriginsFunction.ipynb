{
 "cells": [
  {
   "cell_type": "markdown",
   "metadata": {},
   "source": [
    "# 一等函数\n",
    "\n",
    "函数是一等对象。\n",
    "\n",
    "## 一等对象\n",
    "\n",
    "一等对象：\n",
    "- 在运行时创建\n",
    "- 能赋值给变量或数据结构中的元素\n",
    "- 能作为参数传给函数\n",
    "- 能作为函数的返回结果\n",
    "\n"
   ]
  },
  {
   "cell_type": "code",
   "execution_count": 7,
   "metadata": {},
   "outputs": [
    {
     "data": {
      "text/plain": [
       "[1, 1, 2, 6, 24, 120, 720, 5040, 40320, 362880, 3628800]"
      ]
     },
     "execution_count": 7,
     "metadata": {},
     "output_type": "execute_result"
    }
   ],
   "source": [
    "def factorial(n):\n",
    "    '''return n!'''\n",
    "    return 1 if n < 2 else n * factorial(n-1)\n",
    "\n",
    "# 将函数看作是对象传入方法中：\n",
    "list(map(factorial, range(11)))"
   ]
  },
  {
   "cell_type": "code",
   "execution_count": 8,
   "metadata": {
    "scrolled": false
   },
   "outputs": [
    {
     "data": {
      "text/plain": [
       "['__annotations__',\n",
       " '__call__',\n",
       " '__class__',\n",
       " '__closure__',\n",
       " '__code__',\n",
       " '__defaults__',\n",
       " '__delattr__',\n",
       " '__dict__',\n",
       " '__dir__',\n",
       " '__doc__',\n",
       " '__eq__',\n",
       " '__format__',\n",
       " '__ge__',\n",
       " '__get__',\n",
       " '__getattribute__',\n",
       " '__globals__',\n",
       " '__gt__',\n",
       " '__hash__',\n",
       " '__init__',\n",
       " '__init_subclass__',\n",
       " '__kwdefaults__',\n",
       " '__le__',\n",
       " '__lt__',\n",
       " '__module__',\n",
       " '__name__',\n",
       " '__ne__',\n",
       " '__new__',\n",
       " '__qualname__',\n",
       " '__reduce__',\n",
       " '__reduce_ex__',\n",
       " '__repr__',\n",
       " '__setattr__',\n",
       " '__sizeof__',\n",
       " '__str__',\n",
       " '__subclasshook__']"
      ]
     },
     "execution_count": 8,
     "metadata": {},
     "output_type": "execute_result"
    }
   ],
   "source": [
    "dir(factorial)"
   ]
  },
  {
   "cell_type": "markdown",
   "metadata": {},
   "source": [
    "\n",
    "## 可调用对象 Callable Object\n",
    "\n",
    "### 一共7种：\n",
    "\n",
    "- 用户定义的函数 ： def或lambda\n",
    "- 内置函数\n",
    "- 内置方法\n",
    "- 方法：在类的定义体内定义的函数\n",
    "- 类：\\_\\_new\\_\\_:创建一个实例；\\_\\_init\\_\\_初始化实例。\\_\\_call\\_\\_实例可以作为函数调用\n",
    "- 类的实例：\\_\\_call\\_\\_实例可以作为函数调用\n",
    "- 生成器函数： yield的函数或方法，返回生成器对象（14章）"
   ]
  },
  {
   "cell_type": "code",
   "execution_count": 2,
   "metadata": {},
   "outputs": [
    {
     "data": {
      "text/plain": [
       "1"
      ]
     },
     "execution_count": 2,
     "metadata": {},
     "output_type": "execute_result"
    }
   ],
   "source": [
    "# callable\n",
    "import random\n",
    "\n",
    "class BingoCage:\n",
    "    \n",
    "    def __init__(self, items):\n",
    "        self._items = list(items)\n",
    "        random.shuffle(self._items)\n",
    "        \n",
    "    def pick(self):\n",
    "        try:\n",
    "            return self._items.pop()\n",
    "        except IndexError:\n",
    "            raise LookupError('pick from an empty BingCage')\n",
    "            \n",
    "    def __call__(self):\n",
    "        '''\n",
    "        The class is callable only on defined the __call__ function\n",
    "        '''\n",
    "        return self.pick()\n",
    "    \n",
    "    \n",
    "bingo = BingoCage(range(3))\n",
    "bingo.pick()"
   ]
  },
  {
   "cell_type": "code",
   "execution_count": 3,
   "metadata": {},
   "outputs": [
    {
     "data": {
      "text/plain": [
       "0"
      ]
     },
     "execution_count": 3,
     "metadata": {},
     "output_type": "execute_result"
    }
   ],
   "source": [
    "bingo()"
   ]
  },
  {
   "cell_type": "code",
   "execution_count": 4,
   "metadata": {},
   "outputs": [
    {
     "data": {
      "text/plain": [
       "True"
      ]
     },
     "execution_count": 4,
     "metadata": {},
     "output_type": "execute_result"
    }
   ],
   "source": [
    "callable(bingo)"
   ]
  },
  {
   "cell_type": "code",
   "execution_count": 5,
   "metadata": {},
   "outputs": [
    {
     "data": {
      "text/plain": [
       "['__call__',\n",
       " '__class__',\n",
       " '__delattr__',\n",
       " '__dict__',\n",
       " '__dir__',\n",
       " '__doc__',\n",
       " '__eq__',\n",
       " '__format__',\n",
       " '__ge__',\n",
       " '__getattribute__',\n",
       " '__gt__',\n",
       " '__hash__',\n",
       " '__init__',\n",
       " '__init_subclass__',\n",
       " '__le__',\n",
       " '__lt__',\n",
       " '__module__',\n",
       " '__ne__',\n",
       " '__new__',\n",
       " '__reduce__',\n",
       " '__reduce_ex__',\n",
       " '__repr__',\n",
       " '__setattr__',\n",
       " '__sizeof__',\n",
       " '__str__',\n",
       " '__subclasshook__',\n",
       " '__weakref__',\n",
       " 'pick']"
      ]
     },
     "execution_count": 5,
     "metadata": {},
     "output_type": "execute_result"
    }
   ],
   "source": [
    "dir(BingoCage)"
   ]
  },
  {
   "cell_type": "markdown",
   "metadata": {},
   "source": [
    "## 函数内省"
   ]
  },
  {
   "cell_type": "code",
   "execution_count": 9,
   "metadata": {},
   "outputs": [
    {
     "data": {
      "text/plain": [
       "['__annotations__',\n",
       " '__call__',\n",
       " '__closure__',\n",
       " '__code__',\n",
       " '__defaults__',\n",
       " '__get__',\n",
       " '__globals__',\n",
       " '__kwdefaults__',\n",
       " '__name__',\n",
       " '__qualname__']"
      ]
     },
     "execution_count": 9,
     "metadata": {},
     "output_type": "execute_result"
    }
   ],
   "source": [
    "class C:pass      #自定义类\n",
    "obj = C()         #自定义类实例\n",
    "\n",
    "def func():pass   #自定义函数\n",
    "\n",
    "sorted( set(dir(func)) - set(dir(obj)))  #求差集"
   ]
  },
  {
   "cell_type": "markdown",
   "metadata": {},
   "source": [
    "### 函数专有的属性\n",
    "| 名称                 | 类型 | 说明 |\n",
    "|:--------------------|:----|:----|\n",
    "| \\_\\_annotations\\_\\_ | dict |参数和返回值的注解 |\n",
    "|\\_\\_call\\_\\_ |method-wrapper|实现（）运算符；即可调用对象协议|\n",
    "|\\_\\_closure\\_\\_ |tuple|函数闭包，即自由变量的绑定（通常是None）|\n",
    "|\\_\\_code\\_\\_ |code|编译成字节码的函数元数据和函数定义体\n",
    "|\\_\\_defaults\\_\\_ |tuple|形式参数的默认值\n",
    "|\\_\\_get\\_\\_ |method-wrapper|实现只读描述符协议（20章）\n",
    "|\\_\\_globals\\_\\_ |dict|函数所在模块中的全局变量\n",
    "|\\_\\_kwdefaults\\_\\_ |dict|仅限关键字形式参数的默认值\n",
    "|\\_\\_name\\_\\_ |str|函数名称\n",
    "|\\_\\_qualname\\_\\_ |str|函数的限定名称"
   ]
  },
  {
   "cell_type": "markdown",
   "metadata": {},
   "source": [
    "## 函数参数\n",
    "\n",
    "- 仅限关键字参数\n",
    "- 使用\\*存无变量名的一个或以上个参数到元组中\n",
    "- 使用\\**存有变量名的一个或以上个参数到字典中\n",
    "\n",
    "\n",
    "\n",
    "\n"
   ]
  },
  {
   "cell_type": "code",
   "execution_count": 25,
   "metadata": {},
   "outputs": [],
   "source": [
    "def tag(name, *content, cls=None, **attrs):\n",
    "    \"\"\"生成一个或多个HTML标签\"\"\"\n",
    "    if cls is not None:\n",
    "        attrs['class'] = cls\n",
    "    \n",
    "    if attrs:\n",
    "        attr_str = ''.join(' %s=\"%s\"'%(attr, value) \n",
    "                           for attr, value \n",
    "                           in sorted(attrs.items()))\n",
    "    else:\n",
    "        attr_str = ''\n",
    "        \n",
    "    if content:\n",
    "        return '\\n'.join('<%s%s>%s</%s>'%(name, attr_str, c, name)\n",
    "                      for c in content)\n",
    "    \n",
    "    else:\n",
    "        return '<%s%s />'%(name, attr_str)\n",
    "    "
   ]
  },
  {
   "cell_type": "code",
   "execution_count": 26,
   "metadata": {},
   "outputs": [
    {
     "data": {
      "text/plain": [
       "'<br />'"
      ]
     },
     "execution_count": 26,
     "metadata": {},
     "output_type": "execute_result"
    }
   ],
   "source": [
    "# 传入单个定位参数，生成一个指定名称的空标签。\n",
    "# name = 'br'\n",
    "tag('br')"
   ]
  },
  {
   "cell_type": "code",
   "execution_count": 42,
   "metadata": {},
   "outputs": [
    {
     "data": {
      "text/plain": [
       "'<p>hello</p>'"
      ]
     },
     "execution_count": 42,
     "metadata": {},
     "output_type": "execute_result"
    }
   ],
   "source": [
    "# 第一个参数后面的任意个参数会被 *content 捕获，存入一个元组。\n",
    "# name = 'p'\n",
    "# content = ('hello')\n",
    "tag('p', 'hello')"
   ]
  },
  {
   "cell_type": "code",
   "execution_count": 28,
   "metadata": {},
   "outputs": [
    {
     "data": {
      "text/plain": [
       "'<p>hello</p>\\n<p>world</p>'"
      ]
     },
     "execution_count": 28,
     "metadata": {},
     "output_type": "execute_result"
    }
   ],
   "source": [
    "# name = 'p'\n",
    "# content = ('hello', 'world')\n",
    "tag('p', 'hello', 'world')"
   ]
  },
  {
   "cell_type": "code",
   "execution_count": 31,
   "metadata": {},
   "outputs": [
    {
     "data": {
      "text/plain": [
       "'<p id=\"33\">hello</p>'"
      ]
     },
     "execution_count": 31,
     "metadata": {},
     "output_type": "execute_result"
    }
   ],
   "source": [
    "# tag 函数签名中没有明确指定名称的关键字参数会被 **attrs 捕 获，存入一个字典。\n",
    "\n",
    "# name = 'p'\n",
    "# content = ('hello')\n",
    "# attrs['id'] = 33\n",
    "tag('p', 'hello', id=33)"
   ]
  },
  {
   "cell_type": "code",
   "execution_count": 43,
   "metadata": {},
   "outputs": [
    {
     "name": "stdout",
     "output_type": "stream",
     "text": [
      "<p class=\"sidebar\">hello</p>\n",
      "<p class=\"sidebar\">world</p>\n"
     ]
    }
   ],
   "source": [
    "# cls 参数只能作为关键字参数传入。\n",
    "\n",
    "# name = 'p'\n",
    "# content = ('hello', 'world')\n",
    "# cls = 'sidebar'\n",
    "print(tag('p', 'hello', 'world', cls='sidebar'))"
   ]
  },
  {
   "cell_type": "code",
   "execution_count": 45,
   "metadata": {},
   "outputs": [
    {
     "data": {
      "text/plain": [
       "'<img content=\"testing\" />'"
      ]
     },
     "execution_count": 45,
     "metadata": {},
     "output_type": "execute_result"
    }
   ],
   "source": [
    "# 调用 tag 函数时，即便第一个定位参数也能作为关键字参数传入。\n",
    "\n",
    "# name = 'img'\n",
    "# attrs['content'] = 'testing' \n",
    "tag(content='testing', name=\"img\")"
   ]
  },
  {
   "cell_type": "code",
   "execution_count": 41,
   "metadata": {},
   "outputs": [
    {
     "data": {
      "text/plain": [
       "'<img class=\"framed\" src=\"sunset.jpg\" title=\"Sunset Buolevard\" />'"
      ]
     },
     "execution_count": 41,
     "metadata": {},
     "output_type": "execute_result"
    }
   ],
   "source": [
    "# 在 my_tag 前面加上 **，字典中的所有元素作为单个参数传入，\n",
    "# 同名键会绑定到对应的具名参数上，余下的则被 **attrs 捕获。\n",
    "\n",
    "# name = 'img'\n",
    "# attrs['title'] = 'Sunset Buolevard'\n",
    "# attrs['src'] = 'sunset.jpg'\n",
    "# cls = 'framed'\n",
    "\n",
    "my_tag = {'name':'img', 'title':'Sunset Buolevard',\n",
    "         'src':'sunset.jpg', 'cls':'framed'}\n",
    "tag(**my_tag)"
   ]
  },
  {
   "cell_type": "markdown",
   "metadata": {},
   "source": [
    "定义函数 时若想指定仅限关键字参数(如上面参数中的 *cls*)，要把它们放到前面有 \\* 的参数后面。如果不想支持数量不定的定位参数，但是想支持仅限关键字参数，在签名中 放一个 \\*，如下所示:"
   ]
  },
  {
   "cell_type": "code",
   "execution_count": 46,
   "metadata": {},
   "outputs": [
    {
     "data": {
      "text/plain": [
       "(1, 2)"
      ]
     },
     "execution_count": 46,
     "metadata": {},
     "output_type": "execute_result"
    }
   ],
   "source": [
    "def f(a, *, b):\n",
    "    return a,b\n",
    "\n",
    "f(1, b=2)  # b参数必须指定设置了"
   ]
  },
  {
   "cell_type": "markdown",
   "metadata": {},
   "source": [
    "# 获取关于参数的信息\n"
   ]
  },
  {
   "cell_type": "code",
   "execution_count": 57,
   "metadata": {},
   "outputs": [
    {
     "data": {
      "text/plain": [
       "'I will learn'"
      ]
     },
     "execution_count": 57,
     "metadata": {},
     "output_type": "execute_result"
    }
   ],
   "source": [
    "def clip(text, max_len = 80):\n",
    "    \"\"\"\n",
    "    在max_len前面或后面的第一个空格处截断文本\n",
    "    \"\"\"\n",
    "    end = None\n",
    "    if len(text) > max_len:\n",
    "        space_before = text.rfind(' ', 0, max_len)\n",
    "        if space_before >= 0:\n",
    "            end = space_before\n",
    "    else:\n",
    "        space_after = text.rfind(' ', max_len)\n",
    "        if space_after >= 0:\n",
    "            end = space_after\n",
    "    if end == None:\n",
    "        end = len(text)\n",
    "    return text[:end].rstrip()\n",
    "\n",
    "clip('I will learn python by myself every night.', 18)"
   ]
  },
  {
   "cell_type": "code",
   "execution_count": 58,
   "metadata": {},
   "outputs": [
    {
     "data": {
      "text/plain": [
       "(80,)"
      ]
     },
     "execution_count": 58,
     "metadata": {},
     "output_type": "execute_result"
    }
   ],
   "source": [
    "'''\n",
    "函数对象:\n",
    "__defaults__: 定位参数和关键字参数的默认值元组\n",
    "__kwdefaults__:仅限关键字参数默认值元组\n",
    "\n",
    "参数的默认值只能通过它们在 __defaults__ 元组中的位置确定，\n",
    "因此要从后向前扫描才能把参数和默认值对应起来。 \n",
    "在这个示例中 clip 函数有两个参数，text 和 max_len，\n",
    "其中一个有默认值，即 80，因此它必然属于最后一个参数，即max_len。这有违常理。\n",
    "'''\n",
    "clip.__defaults__"
   ]
  },
  {
   "cell_type": "code",
   "execution_count": 59,
   "metadata": {},
   "outputs": [
    {
     "data": {
      "text/plain": [
       "('text', 'max_len', 'end', 'space_before', 'space_after')"
      ]
     },
     "execution_count": 59,
     "metadata": {},
     "output_type": "execute_result"
    }
   ],
   "source": [
    "\"\"\"\n",
    "__code__.varname:函数参数名称，但也包含了局部变量名\n",
    "\"\"\"\n",
    "clip.__code__.co_varnames"
   ]
  },
  {
   "cell_type": "code",
   "execution_count": 60,
   "metadata": {},
   "outputs": [
    {
     "data": {
      "text/plain": [
       "2"
      ]
     },
     "execution_count": 60,
     "metadata": {},
     "output_type": "execute_result"
    }
   ],
   "source": [
    "\"\"\"\n",
    "__code__.co_argcount:结合上面的变量，可以获得参数变量\n",
    "\n",
    "需要注意，这里返回的数量是不包括前缀*或**参数的。\n",
    "\"\"\"\n",
    "clip.__code__.co_argcount"
   ]
  },
  {
   "cell_type": "markdown",
   "metadata": {},
   "source": [
    "## 使用inspect模块提取函数签名"
   ]
  },
  {
   "cell_type": "code",
   "execution_count": 62,
   "metadata": {},
   "outputs": [
    {
     "data": {
      "text/plain": [
       "<Signature (text, max_len=80)>"
      ]
     },
     "execution_count": 62,
     "metadata": {},
     "output_type": "execute_result"
    }
   ],
   "source": [
    "from inspect import signature\n",
    "\n",
    "sig = signature(clip)\n",
    "sig"
   ]
  },
  {
   "cell_type": "code",
   "execution_count": 63,
   "metadata": {},
   "outputs": [
    {
     "name": "stdout",
     "output_type": "stream",
     "text": [
      "POSITIONAL_OR_KEYWORD : text = <class 'inspect._empty'>\n",
      "POSITIONAL_OR_KEYWORD : max_len = 80\n"
     ]
    }
   ],
   "source": [
    "for name, param in sig.parameters.items():\n",
    "    print (param.kind, \":\", name, \"=\", param.default)"
   ]
  },
  {
   "cell_type": "markdown",
   "metadata": {},
   "source": [
    "如果没有默认值，返回的是inspect.\\_empty，因为None本身也是一个值。"
   ]
  },
  {
   "cell_type": "markdown",
   "metadata": {},
   "source": [
    "| kind | meaning |\n",
    "| :--- | ------: |\n",
    "|POSITIONAL_OR_KEYWORD | 可以通过定位参数和关键字参数传入的形参（多数） |\n",
    "|VAR_POSITIONAL| 定位参数元组 |\n",
    "|VAR_KEYWORD| 关键字参数字典 |\n",
    "|KEYWORD_ONLY| 仅限关键字参数（python3新增） |\n",
    "|POSITIONAL_ONLY| 仅限定位参数，python声明函数的句法不支持 |"
   ]
  },
  {
   "cell_type": "markdown",
   "metadata": {},
   "source": [
    "# 函数注解"
   ]
  },
  {
   "cell_type": "code",
   "execution_count": 67,
   "metadata": {},
   "outputs": [
    {
     "data": {
      "text/plain": [
       "{}"
      ]
     },
     "execution_count": 67,
     "metadata": {},
     "output_type": "execute_result"
    }
   ],
   "source": [
    "\"\"\"\n",
    "没有设置函数注解时，返回一个空字典\n",
    "\"\"\"\n",
    "clip.__annotations__"
   ]
  },
  {
   "cell_type": "code",
   "execution_count": 70,
   "metadata": {},
   "outputs": [],
   "source": [
    "def clip_ann(text:str, max_len:'int > 0' = 80) -> str:\n",
    "    \"\"\"\n",
    "    在max_len前面或后面的第一个空格处截断文本\n",
    "    \"\"\"\n",
    "    end = None\n",
    "    if len(text) > max_len:\n",
    "        space_before = text.rfind(' ', 0, max_len)\n",
    "        if space_before >= 0:\n",
    "            end = space_before\n",
    "    else:\n",
    "        space_after = text.rfind(' ', max_len)\n",
    "        if space_after >= 0:\n",
    "            end = space_after\n",
    "    if end == None:\n",
    "        end = len(text)\n",
    "    return text[:end].rstrip()"
   ]
  },
  {
   "cell_type": "code",
   "execution_count": 71,
   "metadata": {},
   "outputs": [
    {
     "data": {
      "text/plain": [
       "{'text': str, 'max_len': 'int > 0', 'return': str}"
      ]
     },
     "execution_count": 71,
     "metadata": {},
     "output_type": "execute_result"
    }
   ],
   "source": [
    "clip_ann.__annotations__"
   ]
  },
  {
   "cell_type": "markdown",
   "metadata": {},
   "source": [
    "Python 对注解所做的唯一的事情是，把它们存储在函数的\n",
    "__annotations__ 属性里。仅此而已，Python 不做检查、不做强制、\n",
    "不做验证，什么操作都不做。换句话说，注解对 Python 解释器没有任何 意义。注解只是元数据，可以供 IDE、框架和装饰器等工具使用。"
   ]
  },
  {
   "cell_type": "markdown",
   "metadata": {},
   "source": [
    "# 函数式编程\n",
    "\n",
    "涉及到两个包：\n",
    "- operator\n",
    "- functools"
   ]
  },
  {
   "cell_type": "markdown",
   "metadata": {},
   "source": [
    "## operator"
   ]
  },
  {
   "cell_type": "markdown",
   "metadata": {},
   "source": [
    "### 使用mul替代* （相乘）运算符"
   ]
  },
  {
   "cell_type": "code",
   "execution_count": 72,
   "metadata": {},
   "outputs": [
    {
     "data": {
      "text/plain": [
       "120"
      ]
     },
     "execution_count": 72,
     "metadata": {},
     "output_type": "execute_result"
    }
   ],
   "source": [
    "# 如何将运算符当作函数使用\n",
    "\n",
    "# 传统做法：\n",
    "\n",
    "from functools import reduce\n",
    "\n",
    "def fact(n):\n",
    "    return reduce(lambda a,b: a*b, range(1,n+1))\n",
    "\n",
    "fact(5)"
   ]
  },
  {
   "cell_type": "code",
   "execution_count": 73,
   "metadata": {},
   "outputs": [
    {
     "data": {
      "text/plain": [
       "120"
      ]
     },
     "execution_count": 73,
     "metadata": {},
     "output_type": "execute_result"
    }
   ],
   "source": [
    "# 如果使用operator库，就可以避免使用匿名函数\n",
    "from functools import reduce\n",
    "from operator import mul\n",
    "\n",
    "def fact_op(n):\n",
    "    return reduce(mul, range(1,n+1))\n",
    "\n",
    "fact_op(5)"
   ]
  },
  {
   "cell_type": "markdown",
   "metadata": {},
   "source": [
    "### 使用itemgetter来代表[ ]序号运算符"
   ]
  },
  {
   "cell_type": "code",
   "execution_count": 76,
   "metadata": {},
   "outputs": [
    {
     "name": "stdout",
     "output_type": "stream",
     "text": [
      "('Sao Paulo', 'BR', 19.649, (-23.547778, -46.635833))\n",
      "('Delhi NCR', 'IN', 21.935, (28.613889, 77.208889))\n",
      "('Tokyo', 'JP', 36.933, (35.689722, 139.691667))\n",
      "('Mexico City', 'MX', 20.142, (19.433333, -99.133333))\n",
      "('New York-Newark', 'US', 20.104, (40.808611, -74.020386))\n"
     ]
    }
   ],
   "source": [
    "metro_data = [\n",
    " ('Tokyo', 'JP', 36.933, (35.689722, 139.691667)),\n",
    " ('Delhi NCR', 'IN', 21.935, (28.613889, 77.208889)),\n",
    " ('Mexico City', 'MX', 20.142, (19.433333, -99.133333)),\n",
    " ('New York-Newark', 'US', 20.104, (40.808611, -74.020386)),\n",
    " ('Sao Paulo', 'BR', 19.649, (-23.547778, -46.635833)),\n",
    " ]\n",
    "\n",
    "from operator import itemgetter\n",
    "for city in  sorted(metro_data, key = itemgetter(1)):\n",
    "    print(city)\n",
    "    \n",
    "    \n",
    "# 这里的itemgetter(1)等价于 lambda fields:fields[1]"
   ]
  },
  {
   "cell_type": "code",
   "execution_count": 77,
   "metadata": {},
   "outputs": [
    {
     "name": "stdout",
     "output_type": "stream",
     "text": [
      "('JP', 'Tokyo')\n",
      "('IN', 'Delhi NCR')\n",
      "('MX', 'Mexico City')\n",
      "('US', 'New York-Newark')\n",
      "('BR', 'Sao Paulo')\n"
     ]
    }
   ],
   "source": [
    "cc_name = itemgetter(1,0)  # 将返回提取的值构成的元组\n",
    "for city in metro_data:\n",
    "    print( cc_name(city) )"
   ]
  },
  {
   "cell_type": "markdown",
   "metadata": {},
   "source": [
    "### 使用attrgetter获取指定的属性，类似ver.attr(点运算符）"
   ]
  },
  {
   "cell_type": "code",
   "execution_count": 78,
   "metadata": {},
   "outputs": [
    {
     "data": {
      "text/plain": [
       "35.689722"
      ]
     },
     "execution_count": 78,
     "metadata": {},
     "output_type": "execute_result"
    }
   ],
   "source": [
    "from collections import namedtuple\n",
    "metro_data = [\n",
    " ('Tokyo', 'JP', 36.933, (35.689722, 139.691667)),\n",
    " ('Delhi NCR', 'IN', 21.935, (28.613889, 77.208889)),\n",
    " ('Mexico City', 'MX', 20.142, (19.433333, -99.133333)),\n",
    " ('New York-Newark', 'US', 20.104, (40.808611, -74.020386)),\n",
    " ('Sao Paulo', 'BR', 19.649, (-23.547778, -46.635833)),\n",
    " ]\n",
    "\n",
    "LatLog = namedtuple('LatLong','lat long')\n",
    "Metropolis = namedtuple('Metropolis', 'name cc pop coord')\n",
    "metro_areas = [Metropolis(name, cc, pop, LatLog(lat, long)) for name, cc\n",
    "              , pop, (lat, long) in metro_data]\n",
    "\n",
    "# 点运算符\n",
    "metro_areas[0].coord.lat"
   ]
  },
  {
   "cell_type": "code",
   "execution_count": 82,
   "metadata": {},
   "outputs": [
    {
     "name": "stdout",
     "output_type": "stream",
     "text": [
      "('Sao Paulo', -23.547778)\n",
      "('Mexico City', 19.433333)\n",
      "('Delhi NCR', 28.613889)\n",
      "('Tokyo', 35.689722)\n",
      "('New York-Newark', 40.808611)\n"
     ]
    }
   ],
   "source": [
    "# 使用operator函数来代替操作符\n",
    "\n",
    "from operator import attrgetter\n",
    "name_lat = attrgetter('name', 'coord.lat')\n",
    "\n",
    "# 用坐标lat排序\n",
    "for city in sorted(metro_areas, key = attrgetter('coord.lat')):\n",
    "    print(name_lat(city))"
   ]
  },
  {
   "cell_type": "markdown",
   "metadata": {},
   "source": [
    "### methodcaller为参数调用指定的方法"
   ]
  },
  {
   "cell_type": "code",
   "execution_count": 86,
   "metadata": {},
   "outputs": [
    {
     "data": {
      "text/plain": [
       "'THE TIME HAS COME'"
      ]
     },
     "execution_count": 86,
     "metadata": {},
     "output_type": "execute_result"
    }
   ],
   "source": [
    "from operator import methodcaller\n",
    "s = 'The time has come'\n",
    "\n",
    "# 可以把upcase看作是一个创建出来的函数\n",
    "upcase = methodcaller('upper')# 指定方法\n",
    "\n",
    "upcase(s)"
   ]
  },
  {
   "cell_type": "code",
   "execution_count": 87,
   "metadata": {},
   "outputs": [
    {
     "data": {
      "text/plain": [
       "'The-time-has-come'"
      ]
     },
     "execution_count": 87,
     "metadata": {},
     "output_type": "execute_result"
    }
   ],
   "source": [
    "# 冻结参数：replace(str, ' ', '-')--->部分应用\n",
    "hiphenate = methodcaller('replace', ' ','-')\n",
    "\n",
    "hiphenate(s)"
   ]
  },
  {
   "cell_type": "markdown",
   "metadata": {},
   "source": [
    "### operator 中的函数列表"
   ]
  },
  {
   "cell_type": "code",
   "execution_count": 85,
   "metadata": {},
   "outputs": [
    {
     "name": "stdout",
     "output_type": "stream",
     "text": [
      "abs\n",
      "add\n",
      "and_\n",
      "attrgetter\n",
      "concat\n",
      "contains\n",
      "countOf\n",
      "delitem\n",
      "eq\n",
      "floordiv\n",
      "ge\n",
      "getitem\n",
      "gt\n",
      "iadd\n",
      "iand\n",
      "iconcat\n",
      "ifloordiv\n",
      "ilshift\n",
      "imatmul\n",
      "imod\n",
      "imul\n",
      "index\n",
      "indexOf\n",
      "inv\n",
      "invert\n",
      "ior\n",
      "ipow\n",
      "irshift\n",
      "is_\n",
      "is_not\n",
      "isub\n",
      "itemgetter\n",
      "itruediv\n",
      "ixor\n",
      "le\n",
      "length_hint\n",
      "lshift\n",
      "lt\n",
      "matmul\n",
      "methodcaller\n",
      "mod\n",
      "mul\n",
      "ne\n",
      "neg\n",
      "not_\n",
      "or_\n",
      "pos\n",
      "pow\n",
      "rshift\n",
      "setitem\n",
      "sub\n",
      "truediv\n",
      "truth\n",
      "xor\n"
     ]
    }
   ],
   "source": [
    "import operator\n",
    "funcs = [name for name in dir(operator) if not name.startswith('_')]\n",
    "for func in funcs:\n",
    "    print(func)"
   ]
  },
  {
   "cell_type": "markdown",
   "metadata": {},
   "source": [
    "## functools\n",
    "### functools.partial 冻结参数\n",
    "\n",
    "partial 的第一个参数是一个可调用对象，后面跟着任意个要绑定的 定位参数和关键字参数。"
   ]
  },
  {
   "cell_type": "code",
   "execution_count": 88,
   "metadata": {},
   "outputs": [
    {
     "data": {
      "text/plain": [
       "21"
      ]
     },
     "execution_count": 88,
     "metadata": {},
     "output_type": "execute_result"
    }
   ],
   "source": [
    "from operator import mul\n",
    "from functools import partial\n",
    "\n",
    "# 将mul(a,b)的一个参数冻结为3\n",
    "triple = partial(mul, 3)\n",
    "\n",
    "triple(7)"
   ]
  },
  {
   "cell_type": "code",
   "execution_count": 89,
   "metadata": {},
   "outputs": [
    {
     "data": {
      "text/plain": [
       "[3, 6, 9, 12, 15, 18, 21, 24, 27]"
      ]
     },
     "execution_count": 89,
     "metadata": {},
     "output_type": "execute_result"
    }
   ],
   "source": [
    "# 当参数只接受只有一个参数的函数时\n",
    "list(map(triple,range(1,10)))"
   ]
  },
  {
   "cell_type": "markdown",
   "metadata": {},
   "source": [
    "### functools.partial 规范化函数"
   ]
  },
  {
   "cell_type": "code",
   "execution_count": 91,
   "metadata": {},
   "outputs": [
    {
     "data": {
      "text/plain": [
       "False"
      ]
     },
     "execution_count": 91,
     "metadata": {},
     "output_type": "execute_result"
    }
   ],
   "source": [
    "# 在需要经常使用的一些函数时，我们可以将其作为一个冻结变量，会更加方便\n",
    "import unicodedata, functools\n",
    "# 提炼常用函数 unicodedata.normalize('NFC',s)\n",
    "nfc = functools.partial(unicodedata.normalize, 'NFC') \n",
    "\n",
    "s1 ='café'\n",
    "s2 = 'cafe\\u0301'\n",
    "\n",
    "s1 == s2"
   ]
  },
  {
   "cell_type": "code",
   "execution_count": 92,
   "metadata": {},
   "outputs": [
    {
     "data": {
      "text/plain": [
       "True"
      ]
     },
     "execution_count": 92,
     "metadata": {},
     "output_type": "execute_result"
    }
   ],
   "source": [
    "nfc(s1) == nfc(s2)"
   ]
  },
  {
   "cell_type": "code",
   "execution_count": 94,
   "metadata": {},
   "outputs": [
    {
     "data": {
      "text/plain": [
       "'<img class=\"pic-frame\" src=\"wum.jpeg\" />'"
      ]
     },
     "execution_count": 94,
     "metadata": {},
     "output_type": "execute_result"
    }
   ],
   "source": [
    "def tag(name, *content, cls=None, **attrs):\n",
    "    \"\"\"生成一个或多个HTML标签\"\"\"\n",
    "    if cls is not None:\n",
    "        attrs['class'] = cls\n",
    "    \n",
    "    if attrs:\n",
    "        attr_str = ''.join(' %s=\"%s\"'%(attr, value) \n",
    "                           for attr, value \n",
    "                           in sorted(attrs.items()))\n",
    "    else:\n",
    "        attr_str = ''\n",
    "        \n",
    "    if content:\n",
    "        return '\\n'.join('<%s%s>%s</%s>'%(name, attr_str, c, name)\n",
    "                      for c in content)\n",
    "    \n",
    "    else:\n",
    "        return '<%s%s />'%(name, attr_str)\n",
    "    \n",
    "    \n",
    "# 将tag函数参数进行部分冻结，使用将更方便：\n",
    "from functools import partial\n",
    "picture = partial(tag, 'img', cls='pic-frame')\n",
    "picture(src = 'wum.jpeg')"
   ]
  },
  {
   "cell_type": "code",
   "execution_count": 95,
   "metadata": {},
   "outputs": [
    {
     "data": {
      "text/plain": [
       "functools.partial(<function tag at 0x7fb46982aee0>, 'img', cls='pic-frame')"
      ]
     },
     "execution_count": 95,
     "metadata": {},
     "output_type": "execute_result"
    }
   ],
   "source": [
    "picture"
   ]
  },
  {
   "cell_type": "code",
   "execution_count": 96,
   "metadata": {},
   "outputs": [
    {
     "data": {
      "text/plain": [
       "<function __main__.tag(name, *content, cls=None, **attrs)>"
      ]
     },
     "execution_count": 96,
     "metadata": {},
     "output_type": "execute_result"
    }
   ],
   "source": [
    "picture.func"
   ]
  },
  {
   "cell_type": "code",
   "execution_count": 97,
   "metadata": {},
   "outputs": [
    {
     "data": {
      "text/plain": [
       "<function __main__.tag(name, *content, cls=None, **attrs)>"
      ]
     },
     "execution_count": 97,
     "metadata": {},
     "output_type": "execute_result"
    }
   ],
   "source": [
    "tag"
   ]
  },
  {
   "cell_type": "code",
   "execution_count": 98,
   "metadata": {},
   "outputs": [
    {
     "data": {
      "text/plain": [
       "('img',)"
      ]
     },
     "execution_count": 98,
     "metadata": {},
     "output_type": "execute_result"
    }
   ],
   "source": [
    "picture.args"
   ]
  },
  {
   "cell_type": "code",
   "execution_count": 99,
   "metadata": {},
   "outputs": [
    {
     "data": {
      "text/plain": [
       "{'cls': 'pic-frame'}"
      ]
     },
     "execution_count": 99,
     "metadata": {},
     "output_type": "execute_result"
    }
   ],
   "source": [
    "picture.keywords"
   ]
  },
  {
   "cell_type": "code",
   "execution_count": null,
   "metadata": {},
   "outputs": [],
   "source": [
    "def clip"
   ]
  }
 ],
 "metadata": {
  "kernelspec": {
   "name": "python3",
   "language": "python",
   "display_name": "Python 3"
  },
  "language_info": {
   "codemirror_mode": {
    "name": "ipython",
    "version": 3
   },
   "file_extension": ".py",
   "mimetype": "text/x-python",
   "name": "python",
   "nbconvert_exporter": "python",
   "pygments_lexer": "ipython3",
   "version": "3.8.5"
  }
 },
 "nbformat": 4,
 "nbformat_minor": 4
}