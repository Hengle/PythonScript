{
 "cells": [
  {
   "source": [
    "# 使用一等函数实现设计模式\n",
    "\n",
    "python可以使用经典的23个设计模式中的7个左右的模式。其他模式并不适合动态语言。"
   ],
   "cell_type": "markdown",
   "metadata": {}
  },
  {
   "cell_type": "markdown",
   "metadata": {
    "collapsed": true,
    "pycharm": {
     "name": "#%% md\n"
    }
   },
   "source": [
    "# \"策略\"模式\n",
    "## 经典\"策略\"模式\n",
    "\n",
    "三部分组成：\n",
    "- 上下文 order\n",
    "- 策略 Promotion\n",
    "- 具体策略 FidelityPromo BulkItemPromo LargeOrderPromo\n"
   ]
  },
  {
   "cell_type": "code",
   "execution_count": 23,
   "metadata": {
    "pycharm": {
     "name": "#%%\n"
    }
   },
   "outputs": [],
   "source": [
    "from abc import ABC, abstractmethod\n",
    "from collections import namedtuple\n",
    "\n",
    "Customer = namedtuple('Customer','name fidelity')\n",
    "\n",
    "class LineItem:\n",
    "    '''每种产品信息，产品名，数量，单价等'''\n",
    "    def __init__(self, product, quantity, price):\n",
    "        self.product = product\n",
    "        self.quantity = quantity\n",
    "        self.price = price\n",
    "\n",
    "    def total(self):\n",
    "        return self.price * self.quantity\n",
    "\n",
    "\n",
    "class Order:\n",
    "    '''账单'''\n",
    "    def __init__(self, customer, cart, promotion=None):\n",
    "        self.customer = customer\n",
    "        self.cart = list(cart)\n",
    "        self.promotion = promotion\n",
    "\n",
    "    def total(self):\n",
    "        if not hasattr(self, '__total'):\n",
    "            self.__total = sum(item.total() for item in self.cart)\n",
    "        return self.__total\n",
    "\n",
    "    def due(self):\n",
    "        if self.promotion is None:\n",
    "            discount = 0.0\n",
    "        else:\n",
    "            discount = self.promotion.discount(order = self)\n",
    "        return self.total() - discount\n",
    "\n",
    "    def __repr__(self):\n",
    "        fm = \"<Order total:{:.2f} due:{:.2f}>\"\n",
    "        return fm.format(self.total(),self.due())\n",
    "\n",
    "class Promotion(ABC):\n",
    "    '''策略，抽象基类'''\n",
    "    @abstractmethod\n",
    "    def discount(self, order):\n",
    "        '''返回折扣金额（正值）'''\n",
    "\n",
    "class FidelityPromo(Promotion):\n",
    "    '''满1000积分提供5%的折扣'''\n",
    "    def discount(self, order):\n",
    "        return order.total() * 0.05 if order.customer.fidelity >= 1000.0 else 0.0\n",
    "\n",
    "class BulkItemPromo(Promotion):\n",
    "    '''单个商品数量为20或以上时提供10%的折扣'''\n",
    "    def discount(self, order):\n",
    "        d = 0.0\n",
    "        for item in order.cart:\n",
    "            if item.quantity >= 20 :\n",
    "                d += item.total() * 0.1\n",
    "        return d\n",
    "\n",
    "class LargeOrderPromo(Promotion):\n",
    "    '''订单中达到或超过10种商品时提供7%的折扣'''\n",
    "    def discount(self, order):\n",
    "        distinct_item = { item.product for item in order.cart } #使用了集，集内不能有重复元素\n",
    "        if len(distinct_item) >= 10 :\n",
    "            return order.total() * 0.07\n",
    "        return 0.0"
   ]
  },
  {
   "cell_type": "code",
   "execution_count": 24,
   "metadata": {
    "pycharm": {
     "name": "#%%\n"
    }
   },
   "outputs": [
    {
     "output_type": "execute_result",
     "data": {
      "text/plain": [
       "<Order total:42.00 due:42.00>"
      ]
     },
     "metadata": {},
     "execution_count": 24
    }
   ],
   "source": [
    "joe = Customer('John Doe', 0)\n",
    "ann = Customer('Ann Smith', 1100)\n",
    "cart = [LineItem('banana', 4, 0.5),\n",
    "        LineItem('apple', 10,1.5),\n",
    "        LineItem('watermelon', 5, 5.0)]\n",
    "\n",
    "\n",
    "Order(joe, cart, FidelityPromo()) #记得类作为参数时需要加括号！"
   ]
  },
  {
   "cell_type": "code",
   "execution_count": 25,
   "metadata": {},
   "outputs": [
    {
     "output_type": "execute_result",
     "data": {
      "text/plain": [
       "<Order total:42.00 due:39.90>"
      ]
     },
     "metadata": {},
     "execution_count": 25
    }
   ],
   "source": [
    "Order(ann, cart, FidelityPromo())"
   ]
  },
  {
   "cell_type": "code",
   "execution_count": 26,
   "metadata": {},
   "outputs": [
    {
     "output_type": "execute_result",
     "data": {
      "text/plain": [
       "<Order total:30.00 due:28.50>"
      ]
     },
     "metadata": {},
     "execution_count": 26
    }
   ],
   "source": [
    "banana_cart = [ LineItem('banana', 30, 0.5),\n",
    "                LineItem('apple', 10, 1.5)]\n",
    "Order(joe, banana_cart, BulkItemPromo())"
   ]
  },
  {
   "cell_type": "code",
   "execution_count": 28,
   "metadata": {},
   "outputs": [
    {
     "output_type": "execute_result",
     "data": {
      "text/plain": [
       "<Order total:10.00 due:9.30>"
      ]
     },
     "metadata": {},
     "execution_count": 28
    }
   ],
   "source": [
    "long_order = [LineItem(str(item_code), 1, 1.0) for item_code in range(10)]\n",
    "Order(joe, long_order, LargeOrderPromo())"
   ]
  },
  {
   "cell_type": "code",
   "execution_count": 29,
   "metadata": {},
   "outputs": [
    {
     "output_type": "execute_result",
     "data": {
      "text/plain": [
       "<Order total:42.00 due:42.00>"
      ]
     },
     "metadata": {},
     "execution_count": 29
    }
   ],
   "source": [
    "Order(joe, cart, LargeOrderPromo())"
   ]
  },
  {
   "source": [
    "# 使用函数来实现“策略”模式\n",
    "\n",
    "上面的策略类都只有一个函数，而且实例化后也没有变量，仅从作用上来看就是一个函数。\n",
    "\n",
    "下面我们用函数来实现上面的策略，会发现我们并不需要创建一个抽象类了。"
   ],
   "cell_type": "markdown",
   "metadata": {}
  },
  {
   "cell_type": "code",
   "execution_count": 50,
   "metadata": {},
   "outputs": [],
   "source": [
    "from collections import namedtuple\n",
    "\n",
    "Customer = namedtuple('Customer','name fidelity')\n",
    "\n",
    "class LineItem:\n",
    "    '''每种产品信息，产品名，数量，单价等'''\n",
    "    def __init__(self, product, quantity, price):\n",
    "        self.product = product\n",
    "        self.quantity = quantity\n",
    "        self.price = price\n",
    "\n",
    "    def total(self):\n",
    "        return self.price * self.quantity\n",
    "\n",
    "\n",
    "class Order:\n",
    "    '''账单'''\n",
    "    def __init__(self, customer, cart, promotion=None):\n",
    "        self.customer = customer\n",
    "        self.cart = list(cart)\n",
    "        self.promotion = promotion\n",
    "\n",
    "    def total(self):\n",
    "        if not hasattr(self, '__total'):\n",
    "            self.__total = sum(item.total() for item in self.cart)\n",
    "        return self.__total\n",
    "\n",
    "    def due(self):\n",
    "        if self.promotion is None:\n",
    "            discount = 0.0\n",
    "        else:\n",
    "            discount = self.promotion(order = self) # 此处promotion变量已经是一个函数了，直接执行括号运算符就行了。\n",
    "        return self.total() - discount\n",
    "\n",
    "    def __repr__(self):\n",
    "        fm = \"<Order total:{:.2f} due:{:.2f}>\"\n",
    "        return fm.format(self.total(),self.due())\n",
    "\n",
    "# 我们也不需要创建抽象类父类了。\n",
    "def fidelity_promo(order):\n",
    "    '''满1000积分提供5%的折扣'''\n",
    "    return order.total() * 0.05 if order.customer.fidelity >= 1000.0 else 0.0\n",
    "\n",
    "def bulkitem_promo(order):\n",
    "    '''单个商品数量为20或以上时提供10%的折扣'''\n",
    "    d = 0.0\n",
    "    for item in order.cart:\n",
    "        if item.quantity >= 20 :\n",
    "            d += item.total() * 0.1\n",
    "    return d\n",
    "\n",
    "def largeorder_promo(order):\n",
    "    '''订单中达到或超过10种商品时提供7%的折扣'''\n",
    "    distinct_item = { item.product for item in order.cart } #使用了集，集内不能有重复元素\n",
    "    if len(distinct_item) >= 10 :\n",
    "        return order.total() * 0.07\n",
    "    return 0.0\n"
   ]
  },
  {
   "source": [
    "## 用上面的例子来测试一下"
   ],
   "cell_type": "markdown",
   "metadata": {}
  },
  {
   "cell_type": "code",
   "execution_count": 51,
   "metadata": {},
   "outputs": [
    {
     "output_type": "execute_result",
     "data": {
      "text/plain": [
       "<Order total:42.00 due:42.00>"
      ]
     },
     "metadata": {},
     "execution_count": 51
    }
   ],
   "source": [
    "joe = Customer('John Doe', 0)\n",
    "ann = Customer('Ann Smith', 1100)\n",
    "cart = [LineItem('banana', 4, 0.5),\n",
    "        LineItem('apple', 10,1.5),\n",
    "        LineItem('watermelon', 5, 5.0)]\n",
    "\n",
    "\n",
    "Order(joe, cart, fidelity_promo) # 函数作为参数时不需要加括号（）"
   ]
  },
  {
   "cell_type": "code",
   "execution_count": 52,
   "metadata": {},
   "outputs": [
    {
     "output_type": "execute_result",
     "data": {
      "text/plain": [
       "<Order total:42.00 due:39.90>"
      ]
     },
     "metadata": {},
     "execution_count": 52
    }
   ],
   "source": [
    "Order(ann, cart, fidelity_promo)"
   ]
  },
  {
   "cell_type": "code",
   "execution_count": 53,
   "metadata": {},
   "outputs": [
    {
     "output_type": "execute_result",
     "data": {
      "text/plain": [
       "<Order total:30.00 due:28.50>"
      ]
     },
     "metadata": {},
     "execution_count": 53
    }
   ],
   "source": [
    "banana_cart = [ LineItem('banana', 30, 0.5),\n",
    "                LineItem('apple', 10, 1.5) ]\n",
    "Order(joe, banana_cart, bulkitem_promo)"
   ]
  },
  {
   "cell_type": "code",
   "execution_count": 57,
   "metadata": {},
   "outputs": [
    {
     "output_type": "execute_result",
     "data": {
      "text/plain": [
       "<Order total:10.00 due:9.30>"
      ]
     },
     "metadata": {},
     "execution_count": 57
    }
   ],
   "source": [
    "long_order = [LineItem(str(item_code), 1, 1.0) for item_code in range(10)]\n",
    "Order(joe, long_order, largeorder_promo)"
   ]
  },
  {
   "cell_type": "code",
   "execution_count": 58,
   "metadata": {},
   "outputs": [
    {
     "output_type": "execute_result",
     "data": {
      "text/plain": [
       "<Order total:42.00 due:42.00>"
      ]
     },
     "metadata": {},
     "execution_count": 58
    }
   ],
   "source": [
    "Order(joe, cart, largeorder_promo)"
   ]
  },
  {
   "source": [
    "# 最佳策略函数\n",
    "\n",
    "两点：\n",
    "- 将函数看作一等对象\n",
    "- 如何自动获得模块中的所有促销函数"
   ],
   "cell_type": "markdown",
   "metadata": {}
  },
  {
   "cell_type": "code",
   "execution_count": 64,
   "metadata": {},
   "outputs": [],
   "source": [
    "# ----------- 1 -----------\n",
    "# 手动枚举 不推荐这种方法\n",
    "\n",
    "# 将函数看作是一等对象\n",
    "promo1 = [fidelity_promo, bulkitem_promo, largeorder_promo]\n",
    "\n",
    "# ----------- 2 -----------\n",
    "# 使用globals()字典，返回当前模块的所有函数\n",
    "promo2 = [globals()[name] for name in globals() if name.endswith('_promo') and name != 'best_promo']\n",
    "\n",
    "\n",
    "# ----------- 3 -----------\n",
    "# 使用模块内省来获得和inspect模块一同获得所有函数\n",
    "# 首先需要将所有的策略函数都写在promotions模块里，然后使用import promotions来导入模块，然后使用inspect.getmembers()来获得所有函数\n",
    "# import inspect\n",
    "# import promotions\n",
    "# promo3 = [ func for name, func in inspect.getmembers(promotions, inspect.isfunction)]\n",
    "\n",
    "# ----------- 4 -----------\n",
    "# 使用装饰器也可以自动获得所有的打折策略函数，7章将会降到装饰器的使用。\n",
    "\n",
    "def best_promo(order):\n",
    "    ''' 返回最佳折扣方案\n",
    "    '''\n",
    "    return max(promo(order) for promo in promo2)\n",
    "\n"
   ]
  },
  {
   "cell_type": "code",
   "execution_count": 65,
   "metadata": {},
   "outputs": [
    {
     "output_type": "execute_result",
     "data": {
      "text/plain": [
       "<Order total:42.00 due:39.90>"
      ]
     },
     "metadata": {},
     "execution_count": 65
    }
   ],
   "source": [
    "# 测试最佳方案\n",
    "\n",
    "joe = Customer('John Doe', 0)\n",
    "ann = Customer('Ann Smith', 1100)\n",
    "cart = [LineItem('banana', 4, 0.5),\n",
    "        LineItem('apple', 10,1.5),\n",
    "        LineItem('watermelon', 5, 5.0)]\n",
    "\n",
    "\n",
    "Order(ann, cart, best_promo) # 函数作为参数时不需要加括号（）"
   ]
  },
  {
   "source": [
    "# “命令”模式\n",
    "\n",
    "命令模式的目的是解耦调用操作的对象（调用者）和提供实现的对象（接收者）\n",
    "\n",
    "这个模式的做法：在调用者和接收者之间放一个Command对象，让它实现只有一个方法（如execute）的接口，调用接收者中的方法执行所需的操作。"
   ],
   "cell_type": "markdown",
   "metadata": {}
  },
  {
   "source": [
    "# 《设计模式：可复用面向对象软件的基础》\n",
    "\n",
    "## 对接口编程，而不是对实现编程\n",
    "## 优先使用对象组合，而不是类继承"
   ],
   "cell_type": "markdown",
   "metadata": {}
  },
  {
   "cell_type": "code",
   "execution_count": null,
   "metadata": {},
   "outputs": [],
   "source": []
  }
 ],
 "metadata": {
  "kernelspec": {
   "display_name": "PyCharm (PythonScript)",
   "language": "python",
   "name": "pycharm-7376436b"
  },
  "language_info": {
   "codemirror_mode": {
    "name": "ipython",
    "version": 3
   },
   "file_extension": ".py",
   "mimetype": "text/x-python",
   "name": "python",
   "nbconvert_exporter": "python",
   "pygments_lexer": "ipython3",
   "version": "3.8.1-final"
  }
 },
 "nbformat": 4,
 "nbformat_minor": 1
}