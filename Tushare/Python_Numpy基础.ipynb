{
 "cells": [
  {
   "cell_type": "code",
   "execution_count": 171,
   "metadata": {},
   "outputs": [
    {
     "name": "stdout",
     "output_type": "stream",
     "text": [
      "[(1, 'a'), (2, 'b'), (3, 'c'), (4, 'd'), (5, 'e')]\n",
      "[1, 2, 3, 4, 5]\n",
      "['a', 'b', 'c', 'd', 'e']\n"
     ]
    }
   ],
   "source": [
    "# enumerate 返回列表序号\n",
    "stock = ['a','b','c','d','e']\n",
    "l1 = list(enumerate(stock,start=1))\n",
    "l2 = [index for index,elem in enumerate(stock, start=1)]\n",
    "l3 = [elem for index,elem in enumerate(stock, start=1)]\n",
    "print(l1)\n",
    "print(l2)\n",
    "print(l3)"
   ]
  },
  {
   "cell_type": "code",
   "execution_count": 4,
   "metadata": {},
   "outputs": [
    {
     "name": "stdout",
     "output_type": "stream",
     "text": [
      "[('jack', 25, 'male'), ('mary', 32, 'female'), ('tom', 45, 'male')]\n"
     ]
    }
   ],
   "source": [
    "# zip 将多个列表中对应的元素打包为一个元组并以列表的方式输出\n",
    "list01 = ['jack', 'mary', 'tom']\n",
    "list02 = [25,32,45]\n",
    "list03 = ['male','female','male']\n",
    "list_zip = list(zip(list01,list02,list03))\n",
    "print(list_zip)"
   ]
  },
  {
   "cell_type": "code",
   "execution_count": 11,
   "metadata": {},
   "outputs": [
    {
     "name": "stdout",
     "output_type": "stream",
     "text": [
      "49.5\n"
     ]
    }
   ],
   "source": [
    "# lambda定义(匿名)函数\n",
    "f_mean=lambda x: sum(x)/len(x)\n",
    "Shibor = [x for x in range(0,100)]\n",
    "print(f_mean(Shibor))"
   ]
  },
  {
   "cell_type": "code",
   "execution_count": 7,
   "metadata": {},
   "outputs": [
    {
     "name": "stdout",
     "output_type": "stream",
     "text": [
      "该保险恰好盈亏平衡时的概率是 0.017707\n",
      "50.0\n",
      "40.0\n"
     ]
    }
   ],
   "source": [
    "# Poisson Distribution 泊松公式\n",
    "def poisson(k,Lambda):\n",
    "    '''定义当变量服从泊松分布时计算概率的一个函数\n",
    "    k：表示随机事件发生的次数\n",
    "    Lambda：表示在单位时间内随机事件的平均发生次数'''\n",
    "    from math import exp,factorial\n",
    "    P = pow(Lambda, k) * exp(-Lambda) / factorial(k)\n",
    "    return P\n",
    "\n",
    "n = 10000 #预期投保人数\n",
    "prob = 0.004 #每位投保人理赔概率\n",
    "premium = 100 #每年保费\n",
    "cost = 20000 #理赔金额\n",
    "Lambda = n * prob #一年内理赔次数\n",
    "k_breakeven = n*premium/cost #实现盈亏平衡时的k\n",
    "prob_breakeven = poisson(k_breakeven, Lambda) #实现盈亏平衡时的k\n",
    "print('该保险恰好盈亏平衡时的概率是',round(prob_breakeven,6))\n",
    "print(k_breakeven)\n",
    "print(Lambda)"
   ]
  },
  {
   "cell_type": "code",
   "execution_count": 18,
   "metadata": {},
   "outputs": [
    {
     "name": "stdout",
     "output_type": "stream",
     "text": [
      "实现盈利20万时的概率 0.062947\n",
      "实现盈利40万时的概率 0.018465\n",
      "实现盈利60万时的概率 0.000192\n"
     ]
    }
   ],
   "source": [
    "profit1 = 2e5 #盈利20万\n",
    "profit2 = 4e5 #盈利40万\n",
    "profit3 = 6e5 #盈利60万\n",
    "\n",
    "k1 = (n*premium-profit1)/cost  #盈利20万时的K\n",
    "k2 = (n*premium-profit2)/cost  #盈利40万时的K\n",
    "k3 = (n*premium-profit3)/cost  #盈利60万时的K\n",
    "\n",
    "prob1 = poisson(k1,Lambda) #实现盈利20万时的概率\n",
    "prob2 = poisson(k2,Lambda) #实现盈利40万时的概率\n",
    "prob3 = poisson(k3,Lambda) #实现盈利60万时的概率\n",
    "\n",
    "print('实现盈利20万时的概率',round(prob1,6))\n",
    "print('实现盈利40万时的概率',round(prob2,6))\n",
    "print('实现盈利60万时的概率',round(prob3,6))"
   ]
  },
  {
   "cell_type": "code",
   "execution_count": 9,
   "metadata": {},
   "outputs": [
    {
     "name": "stdout",
     "output_type": "stream",
     "text": [
      "不亏损的概率： 0.929665\n"
     ]
    },
    {
     "data": {
      "image/png": "[encoded data removed]",
      "text/plain": [
       "<Figure size 432x288 with 1 Axes>"
      ]
     },
     "metadata": {
      "needs_background": "light"
     },
     "output_type": "display_data"
    },
    {
     "name": "stdout",
     "output_type": "stream",
     "text": [
      "50\n",
      "40.0\n",
      "1.2276020479488077e-08\n"
     ]
    }
   ],
   "source": [
    "import math\n",
    "import matplotlib.pyplot as plt\n",
    "prob_list=[]\n",
    "k_breakeven=math.trunc(k_breakeven) #取整\n",
    "for i in range(k_breakeven):        #盈亏线一下是盈利的所有情况的概率，全部相加即为不亏损的概率。\n",
    "    P = poisson(i,Lambda)\n",
    "    prob_list.append(P)\n",
    "prob_profit=math.fsum(prob_list)\n",
    "print('不亏损的概率：',round(prob_profit,6))\n",
    "k_list = [i for i in range(k_breakeven)]\n",
    "plt.plot(k_list,prob_list,'o-r',label='poisson')\n",
    "plt.show()\n",
    "print(k_breakeven)\n",
    "print(Lambda)\n",
    "print(poisson(10.0,40.0))"
   ]
  },
  {
   "cell_type": "code",
   "execution_count": 11,
   "metadata": {},
   "outputs": [
    {
     "name": "stdout",
     "output_type": "stream",
     "text": [
      "(array([2, 3, 4, 5]),)\n",
      "[0.66717507 0.76182737 0.89151596 0.94467235]\n"
     ]
    }
   ],
   "source": [
    "import numpy as np\n",
    "np_array = np.random.rand(10)\n",
    "index1 = np.where(np_array>0.5)#返回大于0.5的序号\n",
    "print(index1)\n",
    "print(np_array[index1])        #np的序号也可以是数组"
   ]
  },
  {
   "cell_type": "code",
   "execution_count": 12,
   "metadata": {},
   "outputs": [
    {
     "name": "stdout",
     "output_type": "stream",
     "text": [
      "(5, 6)\n",
      "[[0.05  0.325 0.757 0.519 0.167 0.391]\n",
      " [0.176 0.638 0.104 0.53  0.054 0.841]\n",
      " [0.455 0.21  0.1   0.692 0.208 0.535]\n",
      " [0.304 0.935 0.714 0.502 0.744 0.909]\n",
      " [0.752 0.27  0.758 0.302 0.606 0.69 ]]\n",
      "[[0.05  0.167 0.325 0.391 0.519 0.757]\n",
      " [0.054 0.104 0.176 0.53  0.638 0.841]\n",
      " [0.1   0.208 0.21  0.455 0.535 0.692]\n",
      " [0.304 0.502 0.714 0.744 0.909 0.935]\n",
      " [0.27  0.302 0.606 0.69  0.752 0.758]]\n",
      "[0.05  0.21  0.1   0.302 0.054 0.391]\n",
      "[0.05  0.054 0.1   0.304 0.27 ]\n",
      "[0.3474 0.4756 0.4866 0.509  0.3558 0.6732]\n",
      "0.47459999999999997\n",
      "0.2670285378007377\n",
      "0.07130424\n"
     ]
    }
   ],
   "source": [
    "np_array = np.round(np.random.rand(5,6),3)\n",
    "print(np.shape(np_array))\n",
    "print(np_array)\n",
    "print(np.sort(np_array,1))#每行进行排序\n",
    "print(np.min(np_array,0))#每列最小值\n",
    "print(np.min(np_array,1))#每行最小值\n",
    "print(np.mean(np_array,0))#每列平均值\n",
    "print(np_array.mean())#全部的平均值\n",
    "print(np_array.std())#标准方差\n",
    "print(np_array.var())#方差"
   ]
  },
  {
   "cell_type": "code",
   "execution_count": 13,
   "metadata": {},
   "outputs": [
    {
     "name": "stdout",
     "output_type": "stream",
     "text": [
      "[1 2 3 4 5 6 7 8 9]\n"
     ]
    },
    {
     "data": {
      "text/plain": [
       "362880"
      ]
     },
     "execution_count": 13,
     "metadata": {},
     "output_type": "execute_result"
    }
   ],
   "source": [
    "np_int_a = np.array([i for i in range(1,10)])\n",
    "print(np_int_a)\n",
    "np_int_a.prod()"
   ]
  },
  {
   "cell_type": "code",
   "execution_count": 61,
   "metadata": {},
   "outputs": [
    {
     "name": "stdout",
     "output_type": "stream",
     "text": [
      "A股市净率和市盈率 [[ 0.89523992  0.63812     0.64438218  1.66924551  0.64505272]\n",
      " [ 7.02735602  5.72146613  6.12806455 11.22768412  5.52390954]]\n",
      "H股市净率和市盈率 [[ 0.76090042  0.49450822  0.54837243  1.58706729  0.50358131]\n",
      " [ 5.97283249  4.43382442  5.21501327 10.67493711  4.13331879]]\n"
     ]
    }
   ],
   "source": [
    "# ---数组间运算---\n",
    "share = np.array([3564.0626,2943.8779,742.6273,252.1985,437.8242]) #总股本的数组\n",
    "#A股净资产和净利润\n",
    "data1_A = np.array([[23448.83,17253.97,7053.08,5436.05,4310.01],[2987.23,1924.35,741.65,808.19,503.30]])\n",
    "#H股净资产和净利润\n",
    "data1_H = np.array([[26698.8378,19645.3702,8030.6369,6189.4865,4703.568],[3401.2601,2191.0649,844.4427,920.2051,573.0574]])\n",
    "#A股每股净资产和每股净收益\n",
    "data2_A=data1_A/share\n",
    "#H股每股净资产和每股净收益\n",
    "data2_H=data1_H/share\n",
    "price_A = np.array([5.89,3.74,6.12,35.98,6.35]) #A股收盘价\n",
    "price_H = np.array([5.70,3.30,5.93,38.95,5.41]) #H股收盘价\n",
    "PB_PE_A = price_A/data2_A #A股市净率和市盈率\n",
    "PB_PE_H = price_H/data2_H #H股市净率和市盈率\n",
    "print('A股市净率和市盈率',PB_PE_A)\n",
    "print('H股市净率和市盈率',PB_PE_H)"
   ]
  },
  {
   "cell_type": "code",
   "execution_count": 81,
   "metadata": {},
   "outputs": [
    {
     "name": "stdout",
     "output_type": "stream",
     "text": [
      "[[ 0.000879  0.013519  0.001453  0.009401 -0.001272  0.000315 -0.006709\n",
      "  -0.000429 -0.000386  0.002766]\n",
      " [ 0.00157   0.011652  0.005307  0.002823 -0.002282  0.001241  0.000774\n",
      "  -0.000814 -0.001896  0.003148]\n",
      " [ 0.000337 -0.007162  0.01722   0.006046 -0.009515  0.001287 -0.004331\n",
      "  -0.005059  0.011931 -0.002917]\n",
      " [ 0.004012  0.009976  0.025578  0.01235  -0.002687  0.00138  -0.011469\n",
      "   0.001277  0.014154 -0.002753]\n",
      " [-0.004543  0.009582  0.015265  0.008011  0.002079 -0.002972 -0.002192\n",
      "  -0.000914  0.008285 -0.0021  ]]\n",
      "协方差\n",
      "[[3.22853620e-05 1.76659233e-05 1.20310122e-07 2.86216066e-05\n",
      "  1.84398188e-05]\n",
      " [1.76659233e-05 1.66175140e-05 1.04069544e-07 1.60048010e-05\n",
      "  1.23101953e-05]\n",
      " [1.20310122e-07 1.04069544e-07 7.39720842e-05 7.24302290e-05\n",
      "  3.47468624e-05]\n",
      " [2.86216066e-05 1.60048010e-05 7.24302290e-05 1.11563397e-04\n",
      "  6.06699868e-05]\n",
      " [1.84398188e-05 1.23101953e-05 3.47468624e-05 6.06699868e-05\n",
      "  4.53850365e-05]]\n",
      "相关系数\n",
      "[[1.         0.76269427 0.00246187 0.47690328 0.4817231 ]\n",
      " [0.76269427 1.         0.00296829 0.37171183 0.44825544]\n",
      " [0.00246187 0.00296829 1.         0.79730606 0.59968795]\n",
      " [0.47690328 0.37171183 0.79730606 1.         0.85262231]\n",
      " [0.4817231  0.44825544 0.59968795 0.85262231 1.        ]]\n"
     ]
    }
   ],
   "source": [
    "index_Jun17 = np.array([0.0879,0.1570,0.0337,0.4012,-0.4543])*0.01\n",
    "index_Jun18 = np.array([1.3519,1.1652,-0.7162,0.9976,0.9582])*0.01\n",
    "index_Jun19 = np.array([0.1453,0.5307,1.7220,2.5578,1.5265])*0.01\n",
    "index_Jun20 = np.array([0.9401,0.2823,0.6046,1.2350,0.8011])*0.01\n",
    "index_Jun21 = np.array([-0.1272,-0.2282,-0.9515,-0.2687,0.2079])*0.01\n",
    "index_Jun24 = np.array([0.0315,0.1241,0.1287,0.1380,-0.2972])*0.01\n",
    "index_Jun25 = np.array([-0.6709,0.0774,-0.4331,-1.1469,-0.2192])*0.01\n",
    "index_Jun26 = np.array([-0.0429,-0.0814,-0.5059,0.1277,-0.0914])*0.01\n",
    "index_Jun27 = np.array([-0.0386,-0.1896,1.1931,1.4154,0.8285])*0.01\n",
    "index_Jun28 = np.array([0.2766,0.3148,-0.2917,-0.2753,-0.2100])*0.01\n",
    "# 数组拼接\n",
    "index_data=np.concatenate((index_Jun17,index_Jun18,index_Jun19,index_Jun20,index_Jun21,index_Jun24,index_Jun25,index_Jun26,index_Jun27,index_Jun28),axis=0)\n",
    "# 数组变形\n",
    "index_data = index_data.reshape(10,5)\n",
    "# 数组转置\n",
    "index_data = index_data.T\n",
    "print(index_data)\n",
    "# 计算股票指数涨跌幅之间的协方差\n",
    "index_cov = np.cov(index_data)\n",
    "print('协方差')\n",
    "print(index_cov)\n",
    "# 计算各股票指数涨跌幅之间的相关系数\n",
    "index_corr=np.corrcoef(index_data)\n",
    "print('相关系数')\n",
    "print(index_corr)\n",
    "# 从结果可以看到，第四行和第五行的相关系数最高，达到0.8526.（香港与新加坡）\n",
    "# 第三行与第一第二行的相关系数不到0.003（日经与道琼斯富时）\n",
    "# 相关系数矩阵只需要看上三角矩阵或下三角矩阵。因为这是标准的对称矩阵\n",
    "'''\n",
    "如何通俗易懂地解释「协方差」与「相关系数」的概念？\n",
    "https://www.zhihu.com/question/20852004\n",
    "如果有X,Y两个变量，每个时刻的“X值与其均值之差”乘以“Y值与其均值之差”得到一个乘积，再对这每时刻的乘积求和并求出均值\n",
    "'''"
   ]
  },
  {
   "cell_type": "code",
   "execution_count": 86,
   "metadata": {},
   "outputs": [
    {
     "data": {
      "text/plain": [
       "array([1., 1., 1., 1., 1.])"
      ]
     },
     "execution_count": 86,
     "metadata": {},
     "output_type": "execute_result"
    }
   ],
   "source": [
    "# 相关系数对角线矩阵\n",
    "np.diag(index_corr)"
   ]
  },
  {
   "cell_type": "code",
   "execution_count": 87,
   "metadata": {},
   "outputs": [
    {
     "data": {
      "text/plain": [
       "array([[1.        , 0.76269427, 0.00246187, 0.47690328, 0.4817231 ],\n",
       "       [0.        , 1.        , 0.00296829, 0.37171183, 0.44825544],\n",
       "       [0.        , 0.        , 1.        , 0.79730606, 0.59968795],\n",
       "       [0.        , 0.        , 0.        , 1.        , 0.85262231],\n",
       "       [0.        , 0.        , 0.        , 0.        , 1.        ]])"
      ]
     },
     "execution_count": 87,
     "metadata": {},
     "output_type": "execute_result"
    }
   ],
   "source": [
    "# 相关系数矩阵的上三角矩阵\n",
    "np.triu(index_corr)"
   ]
  },
  {
   "cell_type": "code",
   "execution_count": 88,
   "metadata": {},
   "outputs": [
    {
     "data": {
      "text/plain": [
       "array([[1.        , 0.        , 0.        , 0.        , 0.        ],\n",
       "       [0.76269427, 1.        , 0.        , 0.        , 0.        ],\n",
       "       [0.00246187, 0.00296829, 1.        , 0.        , 0.        ],\n",
       "       [0.47690328, 0.37171183, 0.79730606, 1.        , 0.        ],\n",
       "       [0.4817231 , 0.44825544, 0.59968795, 0.85262231, 1.        ]])"
      ]
     },
     "execution_count": 88,
     "metadata": {},
     "output_type": "execute_result"
    }
   ],
   "source": [
    "# 相关系数矩阵的下三角矩阵\n",
    "np.tril(index_corr)"
   ]
  },
  {
   "cell_type": "code",
   "execution_count": 89,
   "metadata": {},
   "outputs": [
    {
     "data": {
      "text/plain": [
       "5.0"
      ]
     },
     "execution_count": 89,
     "metadata": {},
     "output_type": "execute_result"
    }
   ],
   "source": [
    "# 相关系数矩阵的迹\n",
    "np.trace(index_corr)\n",
    "'''\n",
    "在线性代数中，一个n×n矩阵A的主对角线（从左上方至右下方的对角线）上各个元素的总和被称为矩阵A的迹（或迹数），一般记作tr(A)。\n",
    "'''"
   ]
  },
  {
   "cell_type": "code",
   "execution_count": 20,
   "metadata": {},
   "outputs": [
    {
     "name": "stdout",
     "output_type": "stream",
     "text": [
      "[[ 0.082117  0.022298  0.023571  0.113765  0.05277 ]\n",
      " [ 0.040458  0.006972  0.028895  0.032742  0.051003]\n",
      " [ 0.057123  0.159447 -0.018933  0.037342  0.017008]\n",
      " [ 0.038217  0.006732  0.011043  0.01699   0.024105]\n",
      " [ 0.126486  0.020497  0.030867  0.046562  0.047228]]\n",
      "b [0.0082117  0.0060687  0.0114246  0.00955425 0.0379458 ]\n",
      "b_fsum 0.07320505\n",
      "[0.07320505 0.0429971  0.0149256  0.0419723  0.0365237 ]\n"
     ]
    }
   ],
   "source": [
    "price_change = np.array([[8.2117,2.2298,2.3571,11.3765,5.2770],[4.0458,0.6972,2.8895,3.2742,5.1003],[5.7123,15.9447,-1.8933,3.7342,1.7008],[3.8217,0.6732,1.1043,1.6990,2.4105],[12.6486,2.0497,3.0867,4.6562,4.7228]]) * 0.01\n",
    "print(price_change)\n",
    "weight = np.array([0.1,0.15,0.2,0.25,0.3])\n",
    "a = [0.082117,0.040458,  0.057123,  0.038217,  0.126486 ]\n",
    "b = a*weight\n",
    "print('b',b)\n",
    "print('b_fsum',math.fsum(b))\n",
    "value_change = np.dot(weight,price_change)   #内积  sum（行*排）\n",
    "print(value_change)"
   ]
  },
  {
   "cell_type": "code",
   "execution_count": 93,
   "metadata": {},
   "outputs": [
    {
     "data": {
      "text/plain": [
       "6288712.5"
      ]
     },
     "execution_count": 93,
     "metadata": {},
     "output_type": "execute_result"
    }
   ],
   "source": [
    "value_change_total=value_change.sum()\n",
    "value_change_total"
   ]
  },
  {
   "cell_type": "code",
   "execution_count": 19,
   "metadata": {},
   "outputs": [
    {
     "name": "stdout",
     "output_type": "stream",
     "text": [
      "[[1 1 1 1 1]\n",
      " [2 2 2 2 2]\n",
      " [3 3 3 3 3]\n",
      " [4 4 4 4 4]\n",
      " [5 5 5 5 5]]\n",
      "dot: [3.5 3.5 3.5 3.5 3.5]\n"
     ]
    },
    {
     "data": {
      "text/plain": [
       "3.5"
      ]
     },
     "execution_count": 19,
     "metadata": {},
     "output_type": "execute_result"
    }
   ],
   "source": [
    "# 内积   sum（行*排）\n",
    "a=np.array([[1 for i in range(1,6)],[2 for i in range(1,6)],[3 for i in range(1,6)],[4 for i in range(1,6)],[5 for i in range(1,6)]])\n",
    "print(a)\n",
    "print('dot:',np.dot(weight,a))\n",
    "1*.1+2*.15+3*.20+4*.25+5*.3"
   ]
  },
  {
   "cell_type": "code",
   "execution_count": 22,
   "metadata": {},
   "outputs": [
    {
     "data": {
      "text/plain": [
       "-1.7501069902315793e-07"
      ]
     },
     "execution_count": 22,
     "metadata": {},
     "output_type": "execute_result"
    }
   ],
   "source": [
    "# 矩阵行列式\n",
    "import numpy.linalg as la\n",
    "la.det(price_change)"
   ]
  },
  {
   "cell_type": "code",
   "execution_count": 24,
   "metadata": {},
   "outputs": [
    {
     "name": "stdout",
     "output_type": "stream",
     "text": [
      "[[ 0.082117  0.022298  0.023571  0.113765  0.05277 ]\n",
      " [ 0.040458  0.006972  0.028895  0.032742  0.051003]\n",
      " [ 0.057123  0.159447 -0.018933  0.037342  0.017008]\n",
      " [ 0.038217  0.006732  0.011043  0.01699   0.024105]\n",
      " [ 0.126486  0.020497  0.030867  0.046562  0.047228]]\n",
      "[[  -1.55001629  -16.6620793    -1.03291035   25.87936478    6.88904974]\n",
      " [  -3.23620459   17.53185215    6.99589861  -53.6389033     9.54046289]\n",
      " [  -7.87749564   81.32832662    1.24607203 -278.5733853    62.70697598]\n",
      " [  13.28586941   -1.42605251   -0.70179695  -24.96870404   -0.30819851]\n",
      " [  -2.39421842  -14.73262073   -0.39238739  160.65420406  -42.09674563]]\n",
      "price_change_inv*price_change= [[-1.27282688e-01 -3.71531044e-01 -2.43467298e-02  2.94416593e+00\n",
      "   3.63535155e-01]\n",
      " [-1.30930365e-01  1.22232073e-01  2.02146490e-01 -1.75624497e+00\n",
      "   4.86592229e-01]\n",
      " [-4.49986184e-01  1.29675577e+01 -2.35918818e-02 -1.04024874e+01\n",
      "   1.06652025e+00]\n",
      " [ 5.07746071e-01 -9.60018552e-03 -7.74994367e-03 -4.24218282e-01\n",
      "  -7.42912509e-03]\n",
      " [-3.02835111e-01 -3.01974527e-01 -1.21118216e-02  7.48038105e+00\n",
      "  -1.98814510e+00]]\n"
     ]
    }
   ],
   "source": [
    "# 计算逆矩阵\n",
    "print(price_change)\n",
    "print(la.inv(price_change))\n",
    "price_change_inv = la.inv(price_change)\n",
    "print('price_change_inv*price_change=',price_change_inv*price_change)"
   ]
  },
  {
   "cell_type": "code",
   "execution_count": 115,
   "metadata": {},
   "outputs": [
    {
     "data": {
      "text/plain": [
       "(array([ 0.21629349+0.j        , -0.06269276+0.j        ,\n",
       "         0.02397042+0.j        , -0.02159857+0.00848117j,\n",
       "        -0.02159857-0.00848117j]),\n",
       " array([[ 0.54526238+0.j        ,  0.01193373+0.j        ,\n",
       "         -0.22021644+0.j        ,  0.10554606-0.05607351j,\n",
       "          0.10554606+0.05607351j],\n",
       "        [ 0.34270002+0.j        ,  0.22553004+0.j        ,\n",
       "          0.35132247+0.j        ,  0.00906146+0.05210189j,\n",
       "          0.00906146-0.05210189j],\n",
       "        [ 0.44085416+0.j        , -0.95395102+0.j        ,\n",
       "          0.89107334+0.j        ,  0.81737458+0.j        ,\n",
       "          0.81737458-0.j        ],\n",
       "        [ 0.21170819+0.j        ,  0.0496262 +0.j        ,\n",
       "         -0.05995677+0.j        , -0.00450785+0.05836251j,\n",
       "         -0.00450785-0.05836251j],\n",
       "        [ 0.5882796 +0.j        ,  0.19107192+0.j        ,\n",
       "         -0.17455869+0.j        , -0.55764173-0.02066569j,\n",
       "         -0.55764173+0.02066569j]]))"
      ]
     },
     "execution_count": 115,
     "metadata": {},
     "output_type": "execute_result"
    }
   ],
   "source": [
    "# 矩阵的特征值分解\n",
    "la.eig(price_change)\n",
    "#矩阵特征值分析的输出结果中，j代表了复数中的虚数单位i。"
   ]
  },
  {
   "cell_type": "code",
   "execution_count": 116,
   "metadata": {},
   "outputs": [
    {
     "data": {
      "text/plain": [
       "(array([[-5.65812932e-01,  3.33283498e-01,  7.09291647e-01,\n",
       "          2.55855881e-01, -1.48648560e-02],\n",
       "        [-2.67536972e-01,  2.33001810e-01,  8.53243383e-03,\n",
       "         -9.05235289e-01,  2.33688670e-01],\n",
       "        [-5.27427077e-01, -8.47419180e-01, -6.05084267e-04,\n",
       "         -6.04249257e-02,  7.06216274e-03],\n",
       "        [-1.85147596e-01,  1.18927139e-01, -1.65398163e-01,\n",
       "         -1.60906083e-01, -9.47802397e-01],\n",
       "        [-5.43894053e-01,  3.19952083e-01, -6.85182924e-01,\n",
       "          2.92480598e-01,  2.16308539e-01]]),\n",
       " array([0.24781306, 0.13782786, 0.0579821 , 0.03057659, 0.00289015]),\n",
       " array([[-0.6589074 , -0.4478095 , -0.12071375, -0.48946186, -0.33341112],\n",
       "        [ 0.24234868, -0.86124624,  0.30343555,  0.22360353,  0.23968805],\n",
       "        [-0.59383031,  0.01071261, -0.10346848,  0.79741403,  0.02599883],\n",
       "        [ 0.38525584, -0.17428513, -0.3836549 ,  0.2647951 , -0.77710688],\n",
       "        [-0.07779233,  0.16501973,  0.85758863,  0.06665564, -0.47625163]]))"
      ]
     },
     "execution_count": 116,
     "metadata": {},
     "output_type": "execute_result"
    }
   ],
   "source": [
    "# 矩阵的奇异值分解\n",
    "la.svd(price_change)"
   ]
  },
  {
   "cell_type": "code",
   "execution_count": 130,
   "metadata": {},
   "outputs": [
    {
     "name": "stdout",
     "output_type": "stream",
     "text": [
      "[[ 1.          0.44614748 -0.17984346  0.53213741  0.51060184]\n",
      " [ 0.          1.         -0.70635396  0.72887498  0.50733022]\n",
      " [ 0.          0.          1.         -0.2411109  -0.11018642]\n",
      " [ 0.          0.          0.          1.          0.94959116]\n",
      " [ 0.          0.          0.          0.          1.        ]]\n"
     ]
    }
   ],
   "source": [
    "# 股票收益率的相关系数矩阵\n",
    "price_corr = np.corrcoef(price_change)\n",
    "print(np.triu(price_corr))\n",
    "#乐鑫科技与虹软科技相关系数：0.95    正相关\n",
    "#澜起科技与心脉医疗相关系数：-0.71   负相关"
   ]
  },
  {
   "cell_type": "code",
   "execution_count": 131,
   "metadata": {},
   "outputs": [
    {
     "data": {
      "text/plain": [
       "(array([[-0.75052834,  0.51263154,  0.35577449,  0.21620998, -0.02436944],\n",
       "        [-0.33484632, -0.60510188, -0.16841548,  0.59206488,  0.37792204],\n",
       "        [ 0.13497761,  0.55961001, -0.72469708,  0.35040581,  0.14369271],\n",
       "        [-0.3993842 , -0.23883486, -0.46900442, -0.13165262, -0.73902139],\n",
       "        [-0.38322115, -0.02924334, -0.31608501, -0.68014394,  0.53831297]]),\n",
       " array([[-1.33239472e+00, -1.25055544e+00,  6.44996908e-01,\n",
       "         -1.43927751e+00, -1.33044437e+00],\n",
       "        [ 0.00000000e+00, -9.60592136e-01,  9.55640591e-01,\n",
       "         -5.69785345e-01, -3.62936096e-01],\n",
       "        [ 0.00000000e+00,  0.00000000e+00, -5.21809498e-01,\n",
       "         -5.27856502e-01, -5.85378836e-01],\n",
       "        [ 0.00000000e+00,  0.00000000e+00,  0.00000000e+00,\n",
       "         -3.15403269e-01, -4.33000453e-01],\n",
       "        [ 0.00000000e+00,  0.00000000e+00,  0.00000000e+00,\n",
       "          0.00000000e+00, -7.07743243e-17]]))"
      ]
     },
     "execution_count": 131,
     "metadata": {},
     "output_type": "execute_result"
    }
   ],
   "source": [
    "# 矩阵的正交三角分解\n",
    "la.qr(price_corr)"
   ]
  },
  {
   "cell_type": "code",
   "execution_count": 145,
   "metadata": {},
   "outputs": [
    {
     "ename": "LinAlgError",
     "evalue": "Matrix is not positive definite",
     "output_type": "error",
     "traceback": [
      "\u001b[0;31m---------------------------------------------------------------------------\u001b[0m",
      "\u001b[0;31mLinAlgError\u001b[0m                               Traceback (most recent call last)",
      "\u001b[0;32m<ipython-input-145-e7a6434a6b3b>\u001b[0m in \u001b[0;36m<module>\u001b[0;34m\u001b[0m\n\u001b[1;32m      1\u001b[0m \u001b[0;31m# 矩阵的乔斯基分解\u001b[0m\u001b[0;34m\u001b[0m\u001b[0;34m\u001b[0m\u001b[0;34m\u001b[0m\u001b[0m\n\u001b[1;32m      2\u001b[0m \u001b[0;31m# print(price_corr)\u001b[0m\u001b[0;34m\u001b[0m\u001b[0;34m\u001b[0m\u001b[0;34m\u001b[0m\u001b[0m\n\u001b[0;32m----> 3\u001b[0;31m \u001b[0mla\u001b[0m\u001b[0;34m.\u001b[0m\u001b[0mcholesky\u001b[0m\u001b[0;34m(\u001b[0m\u001b[0mprice_corr\u001b[0m\u001b[0;34m)\u001b[0m\u001b[0;34m\u001b[0m\u001b[0;34m\u001b[0m\u001b[0m\n\u001b[0m\u001b[1;32m      4\u001b[0m \u001b[0;31m# 疑问？？？？？？？？？？？？？？未解决\u001b[0m\u001b[0;34m\u001b[0m\u001b[0;34m\u001b[0m\u001b[0;34m\u001b[0m\u001b[0m\n",
      "\u001b[0;32m<__array_function__ internals>\u001b[0m in \u001b[0;36mcholesky\u001b[0;34m(*args, **kwargs)\u001b[0m\n",
      "\u001b[0;32m~/opt/anaconda3/lib/python3.8/site-packages/numpy/linalg/linalg.py\u001b[0m in \u001b[0;36mcholesky\u001b[0;34m(a)\u001b[0m\n\u001b[1;32m    753\u001b[0m     \u001b[0mt\u001b[0m\u001b[0;34m,\u001b[0m \u001b[0mresult_t\u001b[0m \u001b[0;34m=\u001b[0m \u001b[0m_commonType\u001b[0m\u001b[0;34m(\u001b[0m\u001b[0ma\u001b[0m\u001b[0;34m)\u001b[0m\u001b[0;34m\u001b[0m\u001b[0;34m\u001b[0m\u001b[0m\n\u001b[1;32m    754\u001b[0m     \u001b[0msignature\u001b[0m \u001b[0;34m=\u001b[0m \u001b[0;34m'D->D'\u001b[0m \u001b[0;32mif\u001b[0m \u001b[0misComplexType\u001b[0m\u001b[0;34m(\u001b[0m\u001b[0mt\u001b[0m\u001b[0;34m)\u001b[0m \u001b[0;32melse\u001b[0m \u001b[0;34m'd->d'\u001b[0m\u001b[0;34m\u001b[0m\u001b[0;34m\u001b[0m\u001b[0m\n\u001b[0;32m--> 755\u001b[0;31m     \u001b[0mr\u001b[0m \u001b[0;34m=\u001b[0m \u001b[0mgufunc\u001b[0m\u001b[0;34m(\u001b[0m\u001b[0ma\u001b[0m\u001b[0;34m,\u001b[0m \u001b[0msignature\u001b[0m\u001b[0;34m=\u001b[0m\u001b[0msignature\u001b[0m\u001b[0;34m,\u001b[0m \u001b[0mextobj\u001b[0m\u001b[0;34m=\u001b[0m\u001b[0mextobj\u001b[0m\u001b[0;34m)\u001b[0m\u001b[0;34m\u001b[0m\u001b[0;34m\u001b[0m\u001b[0m\n\u001b[0m\u001b[1;32m    756\u001b[0m     \u001b[0;32mreturn\u001b[0m \u001b[0mwrap\u001b[0m\u001b[0;34m(\u001b[0m\u001b[0mr\u001b[0m\u001b[0;34m.\u001b[0m\u001b[0mastype\u001b[0m\u001b[0;34m(\u001b[0m\u001b[0mresult_t\u001b[0m\u001b[0;34m,\u001b[0m \u001b[0mcopy\u001b[0m\u001b[0;34m=\u001b[0m\u001b[0;32mFalse\u001b[0m\u001b[0;34m)\u001b[0m\u001b[0;34m)\u001b[0m\u001b[0;34m\u001b[0m\u001b[0;34m\u001b[0m\u001b[0m\n\u001b[1;32m    757\u001b[0m \u001b[0;34m\u001b[0m\u001b[0m\n",
      "\u001b[0;32m~/opt/anaconda3/lib/python3.8/site-packages/numpy/linalg/linalg.py\u001b[0m in \u001b[0;36m_raise_linalgerror_nonposdef\u001b[0;34m(err, flag)\u001b[0m\n\u001b[1;32m     98\u001b[0m \u001b[0;34m\u001b[0m\u001b[0m\n\u001b[1;32m     99\u001b[0m \u001b[0;32mdef\u001b[0m \u001b[0m_raise_linalgerror_nonposdef\u001b[0m\u001b[0;34m(\u001b[0m\u001b[0merr\u001b[0m\u001b[0;34m,\u001b[0m \u001b[0mflag\u001b[0m\u001b[0;34m)\u001b[0m\u001b[0;34m:\u001b[0m\u001b[0;34m\u001b[0m\u001b[0;34m\u001b[0m\u001b[0m\n\u001b[0;32m--> 100\u001b[0;31m     \u001b[0;32mraise\u001b[0m \u001b[0mLinAlgError\u001b[0m\u001b[0;34m(\u001b[0m\u001b[0;34m\"Matrix is not positive definite\"\u001b[0m\u001b[0;34m)\u001b[0m\u001b[0;34m\u001b[0m\u001b[0;34m\u001b[0m\u001b[0m\n\u001b[0m\u001b[1;32m    101\u001b[0m \u001b[0;34m\u001b[0m\u001b[0m\n\u001b[1;32m    102\u001b[0m \u001b[0;32mdef\u001b[0m \u001b[0m_raise_linalgerror_eigenvalues_nonconvergence\u001b[0m\u001b[0;34m(\u001b[0m\u001b[0merr\u001b[0m\u001b[0;34m,\u001b[0m \u001b[0mflag\u001b[0m\u001b[0;34m)\u001b[0m\u001b[0;34m:\u001b[0m\u001b[0;34m\u001b[0m\u001b[0;34m\u001b[0m\u001b[0m\n",
      "\u001b[0;31mLinAlgError\u001b[0m: Matrix is not positive definite"
     ]
    }
   ],
   "source": [
    "# 矩阵的乔斯基分解\n",
    "# print(price_corr)\n",
    "la.cholesky(price_corr)\n",
    "# 疑问？？？？？？？？？？？？？？未解决"
   ]
  },
  {
   "cell_type": "code",
   "execution_count": 147,
   "metadata": {},
   "outputs": [
    {
     "name": "stdout",
     "output_type": "stream",
     "text": [
      "二项分布的期望值： 600.0\n",
      "二项分布的标准差： 23.748684174075834\n"
     ]
    }
   ],
   "source": [
    "# 二项分布\n",
    "# 可以简单的理解成：只有两种结果，真或假。如果为真的概率为6%，那么重复100次，会有大约6次为真，大约94次为假\n",
    "# 二项分布就是抛硬币游戏。\n",
    "num = 10000\n",
    "prob1 = 0.06\n",
    "binomial_mean = num * prob1 #二项分布的均值\n",
    "binomial_std = np.sqrt(num*prob1*(1-prob1)) #二项分布的标准差\n",
    "print('二项分布的期望值：' ,binomial_mean)\n",
    "print('二项分布的标准差：' ,binomial_std)"
   ]
  },
  {
   "cell_type": "code",
   "execution_count": 152,
   "metadata": {},
   "outputs": [
    {
     "name": "stdout",
     "output_type": "stream",
     "text": [
      "二项式随机抽样 [582 594 593 622 608 596 613 614 599 565 600 591 632 617 592 583 572 619\n",
      " 611 566 595 596 595 579 618 587 595 588 623 609 623 612 599 624 625 648\n",
      " 570 597 590 656 604 602 605 620 578 647 596 596 622 564 607 604 643 630\n",
      " 617 628 601 594 630 571 623 587 572 578 597 599 607 619 601 602 580 615\n",
      " 588 606 639 624 552 602 650 609 587 590 606 615 570 569 634 625 654 594\n",
      " 603 568 620 596 587 586 557 580 614 587]\n",
      "随机均值： 602.49\n",
      "随机标准差： 22.03746582527129\n"
     ]
    }
   ],
   "source": [
    "# 二项分布式随机抽样\n",
    "import numpy.random as npr\n",
    "I = 100\n",
    "# 重复100次，每次试验10000次，成功概率0.06。每次重复成功的次数组成数组。\n",
    "random_binomail = npr.binomial(num,prob1,I)\n",
    "print('二项式随机抽样',random_binomail)\n",
    "print('随机均值：',random_binomail.mean())\n",
    "print('随机标准差：',random_binomail.std())"
   ]
  },
  {
   "cell_type": "code",
   "execution_count": 154,
   "metadata": {},
   "outputs": [
    {
     "name": "stdout",
     "output_type": "stream",
     "text": [
      "几何分布的期望 199.0\n",
      "几何分布的标准差 199.49937343260004\n"
     ]
    }
   ],
   "source": [
    "# 几何分布\n",
    "# 几何分布是二项分布的延伸，表示在n次伯努利试验中，试验k次出现第一次成功的机率。\n",
    "# P(k) = (1-p)^(k-1)*p\n",
    "# 几何分布的期望（平均值）： E = (1-p)/p\n",
    "# 几何分布的标准差：        D = sqrt((1-p)/p^2)\n",
    "prob2 = 0.005  #每份保单每月理赔的概率\n",
    "geometric_mean=(1-prob2)/prob2\n",
    "geometric_std = np.sqrt((1-prob2)/prob2**2)\n",
    "print('几何分布的期望',geometric_mean)\n",
    "print('几何分布的标准差',geometric_std)"
   ]
  },
  {
   "cell_type": "code",
   "execution_count": 169,
   "metadata": {},
   "outputs": [
    {
     "name": "stdout",
     "output_type": "stream",
     "text": [
      "random geometric :  [ 91 184 293 549 175 164 250 123 507 303  20  23  20  12 119 889 157 210\n",
      "   2 121 287  81 431 275  50  80  94  26 836 886  73 406  99 222   3 122\n",
      "   6 485 314  69 103  35 519  65 100 280 173  22  17 186  31  14 367 496\n",
      "  29  19 217  51   7 110   4  68  57  18 218 142 240  62 654 479 185  42\n",
      "  27  12 143 112  38  18 111 356 221 346 495 381 426 280  76 100 195 125\n",
      " 116 558 371 252  96 124 340 378 490   4]\n",
      "min: 2\n",
      "max: 889\n",
      "geometric_mean: 202.58\n",
      "geometric_std: 199.01417939433358\n"
     ]
    }
   ],
   "source": [
    "# 几何分布随机抽样\n",
    "I_new = 100\n",
    "random_geometric = npr.geometric(prob2,I_new)\n",
    "print('random geometric : ',random_geometric)\n",
    "print('min:',random_geometric.min())\n",
    "print('max:',random_geometric.max())\n",
    "print('geometric_mean:', random_geometric.mean())\n",
    "print('geometric_std:',random_geometric.std())"
   ]
  },
  {
   "cell_type": "code",
   "execution_count": 34,
   "metadata": {},
   "outputs": [
    {
     "name": "stdout",
     "output_type": "stream",
     "text": [
      "中国石油股价的均值： 7.68\n",
      "中国石化股价的均值： 5.885\n",
      "中国石油股价的标准差： 0.048785\n",
      "中国石化股价的标准差： 0.064382\n",
      "中国石油涨跌幅的均值： -0.000886\n",
      "中国石化涨跌幅的均值： -0.000969\n",
      "中国石油涨跌幅的标准差： 0.006865\n",
      "中国石化涨跌幅的标准差： 0.009731\n"
     ]
    }
   ],
   "source": [
    "import numpy as np\n",
    "# 股价：\n",
    "price = np.array([[7.77,7.73,7.69,7.62,7.64,7.61,7.73,7.68,7.67,7.66],[6.03,5.96,5.9,5.83,5.82,5.81,5.9,5.88,5.85,5.87]])\n",
    "# 涨跌幅\n",
    "#change = np.array([[0.52,-0.51,-0.52,-0.91,0.26,-0.39,1.58,-0.65,-0.13,-0.13],[1.69,-1.16,-1.01,-1.19,-0.17,-0.17,1.55,-0.34,-0.51,0.34]])*0.01\n",
    "change = np.array([[0.005175,-0.005148,-0.005175,-0.009103,0.002625,-0.003927,0.015769,-0.006468,-0.001302,-0.001304],[0.016863,-0.011609,-0.010067,-0.011864,-0.001715,-0.001718,0.015491,-0.00339,-0.005102,0.003419]])\n",
    "\n",
    "# 根据数据获得一下数据\n",
    "price_mean = price.mean(axis=1)\n",
    "print('中国石油股价的均值：',price_mean[0])\n",
    "print('中国石化股价的均值：',price_mean[1])\n",
    "price_std = price.std(axis=1)\n",
    "print('中国石油股价的标准差：',round(price_std[0],6))\n",
    "print('中国石化股价的标准差：',round(price_std[1],6))\n",
    "change_mean = change.mean(axis=1)\n",
    "print('中国石油涨跌幅的均值：',round(change_mean[0],6))\n",
    "print('中国石化涨跌幅的均值：',round(change_mean[1],6))\n",
    "change_std = change.std(axis=1)\n",
    "print('中国石油涨跌幅的标准差：',round(change_std[0],6))\n",
    "print('中国石化涨跌幅的标准差：',round(change_std[1],6))"
   ]
  },
  {
   "cell_type": "code",
   "execution_count": 37,
   "metadata": {},
   "outputs": [
    {
     "name": "stdout",
     "output_type": "stream",
     "text": [
      "中国石油涨跌幅的均值： -0.001024\n",
      "中国石油涨跌幅的标准差： 0.006817\n",
      "中国石化涨跌幅的均值： -0.001072\n",
      "中国石化涨跌幅的标准差： 0.009737\n"
     ]
    }
   ],
   "source": [
    "import numpy.random as npr\n",
    "# 随机抽样次数\n",
    "I = 10000\n",
    "# 按照中国石油股价涨跌幅服从的正态分布进行随机抽样\n",
    "random_normal_cnpc = npr.normal(change_mean[0], change_std[0], I)\n",
    "random_normal_cnpc_mean = random_normal_cnpc.mean()\n",
    "random_normal_cnpc_std = random_normal_cnpc.std()\n",
    "print('中国石油涨跌幅的均值：',round(random_normal_cnpc_mean,6))\n",
    "print('中国石油涨跌幅的标准差：',round(random_normal_cnpc_std,6))\n",
    "\n",
    "# 按照中国石化股价涨跌幅服从的正态分布进行随机抽样\n",
    "random_normal_sinopec = npr.normal(change_mean[1], change_std[1], I)\n",
    "random_normal_sinopec_mean = random_normal_sinopec.mean()\n",
    "random_normal_sinopec_std = random_normal_sinopec.std()\n",
    "print('中国石化涨跌幅的均值：',round(random_normal_sinopec_mean,6))\n",
    "print('中国石化涨跌幅的标准差：',round(random_normal_sinopec_std,6))"
   ]
  },
  {
   "cell_type": "code",
   "execution_count": null,
   "metadata": {},
   "outputs": [],
   "source": []
  }
 ],
 "metadata": {
  "kernelspec": {
   "display_name": "Python 3",
   "language": "python",
   "name": "python3"
  },
  "language_info": {
   "codemirror_mode": {
    "name": "ipython",
    "version": 3
   },
   "file_extension": ".py",
   "mimetype": "text/x-python",
   "name": "python",
   "nbconvert_exporter": "python",
   "pygments_lexer": "ipython3",
   "version": "3.8.3"
  }
 },
 "nbformat": 4,
 "nbformat_minor": 4
}
